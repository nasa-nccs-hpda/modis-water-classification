{
 "cells": [
  {
   "cell_type": "code",
   "execution_count": 10,
   "id": "ca78164a-de33-45ef-aefc-708e4766ba39",
   "metadata": {},
   "outputs": [],
   "source": [
    "import leafmap.leafmap as leafmap\n",
    "import rioxarray as rxr"
   ]
  },
  {
   "cell_type": "code",
   "execution_count": 3,
   "id": "eb3b8861-2e91-4cc5-b700-20cc3213e44f",
   "metadata": {},
   "outputs": [],
   "source": [
    "\n",
    "\n",
    "m = leafmap.Map()\n"
   ]
  },
  {
   "cell_type": "code",
   "execution_count": 8,
   "id": "4a7cead0-b56d-4a78-b024-18b8e71f87d7",
   "metadata": {},
   "outputs": [],
   "source": [
    "m.add_raster('/explore/nobackup/projects/ilab/data/MODIS/PRODUCTION/MODAPS_test2_05112023_geotiff/MOD44W/2019/001/MOD44W.A2019001.h11v10.061.2023130201521.seven_class.tif', colormap='terrain', layer_name='SC', vmin=1, vmax=9)"
   ]
  },
  {
   "cell_type": "code",
   "execution_count": 9,
   "id": "b69556d2-eb94-47fe-bb61-73b883aac025",
   "metadata": {},
   "outputs": [
    {
     "data": {
      "application/vnd.jupyter.widget-view+json": {
       "model_id": "ae6a152f232747668135c86a319ead27",
       "version_major": 2,
       "version_minor": 0
      },
      "text/plain": [
       "Map(bottom=9186.0, center=[-15.080564838064191, -67.64478657746304], controls=(ZoomControl(options=['position'…"
      ]
     },
     "execution_count": 9,
     "metadata": {},
     "output_type": "execute_result"
    }
   ],
   "source": [
    "m"
   ]
  },
  {
   "cell_type": "code",
   "execution_count": null,
   "id": "02d5a3af-9717-46d4-a36f-bd80a89a9884",
   "metadata": {},
   "outputs": [],
   "source": []
  }
 ],
 "metadata": {
  "kernelspec": {
   "display_name": "Python [conda env:.conda-rapids-23.02]",
   "language": "python",
   "name": "conda-env-.conda-rapids-23.02-py"
  },
  "language_info": {
   "codemirror_mode": {
    "name": "ipython",
    "version": 3
   },
   "file_extension": ".py",
   "mimetype": "text/x-python",
   "name": "python",
   "nbconvert_exporter": "python",
   "pygments_lexer": "ipython3",
   "version": "3.10.10"
  }
 },
 "nbformat": 4,
 "nbformat_minor": 5
}
