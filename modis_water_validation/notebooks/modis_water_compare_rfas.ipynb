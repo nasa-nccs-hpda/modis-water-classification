{
 "cells": [
  {
   "cell_type": "markdown",
   "id": "381bd630-ac29-4c63-bea3-c659ea3e9c52",
   "metadata": {
    "tags": []
   },
   "source": [
    "# <b>MODIS Water Validation Notebook - Compare models</b>\n",
    "\n",
    "Purpose: Used to perform validation of C61 MOD44W products from different models. Compares those products to the previous version, C6 MOD44W.\n",
    "\n",
    "*Note: We are following an incremental development lifecycle. This notebook is the first rendition which fit most of the requirements. Expect incremental releases which continue towards the goal of fully meeting requirements and increasing capabilities of the user.*\n",
    "\n",
    "Installation requirements:\n",
    "\n",
    "```bash\n",
    "pip install localtileserver\n",
    "```\n",
    "\n",
    "TODO:\n",
    "- ipysheet for user to input comments\n",
    "- load layers from toolbar\n",
    "- move everything inside a class to avoid user input\n",
    "\n",
    "Some references:\n",
    "\n",
    "- https://towardsdatascience.com/bring-your-jupyter-notebook-to-life-with-interactive-widgets-bc12e03f0916\n",
    "- https://github.com/giswqs/geodemo/blob/master/geodemo/common.py\n",
    "\n",
    "Version: 0.0.1\n",
    "Date: 12/09/2022\n",
    "\n",
    "*For DSG internal use*"
   ]
  },
  {
   "cell_type": "markdown",
   "id": "1e59d3a7-051b-4375-abaa-6496ae11cec8",
   "metadata": {},
   "source": [
    "### <b> WARNING </b>\n",
    "\n",
    "Do not run all cells at once, doing so will shut down the local tile servers before you, the user, can interact."
   ]
  },
  {
   "cell_type": "markdown",
   "id": "921385fc-c3cd-441d-8fcc-a8d5c38b835d",
   "metadata": {},
   "source": [
    "Uncomment if localtileserver is not installed"
   ]
  },
  {
   "cell_type": "markdown",
   "id": "b13c65fc-dbce-40f8-a318-49d10753620b",
   "metadata": {},
   "source": [
    "## Tile and year selection\n",
    "\n",
    "Choose which tile (see MODIS grid) and which year. Reference the grid image. \n",
    "\n",
    "The `h` followed by two numerical digits represent the <b>horizontal</b> tile ID. Use the column space to determine this ID. \n",
    "\n",
    "The `v` followed by two numerical digits represent the <b>vertical</b> tile ID. Use the row space to determine this ID. \n",
    "\n",
    "For example, the tile that is 9 columns to the right and 5 rows down is `h09v05`.\n",
    "\n",
    "Example:\n",
    "```python\n",
    "TILE = 'h09v05'\n",
    "```\n",
    "\n",
    "![MODIS Grid Overlay](../imgs/modis_overlay.png)"
   ]
  },
  {
   "cell_type": "code",
   "execution_count": 20,
   "id": "bf200474-01a3-4608-a1aa-a4f65ab106da",
   "metadata": {},
   "outputs": [],
   "source": [
    "# !pip install localtileserver"
   ]
  },
  {
   "cell_type": "code",
   "execution_count": 21,
   "id": "d0b0fb30-4519-4f1a-b4d4-cfd700796672",
   "metadata": {},
   "outputs": [],
   "source": [
    "import os\n",
    "import joblib\n",
    "import tempfile\n",
    "import ipysheet\n",
    "import numpy as np\n",
    "import pandas as pd\n",
    "import rioxarray as rxr\n",
    "import xarray as xr\n",
    "import matplotlib.colors as mcolors\n",
    "import ipywidgets as widgets\n",
    "import warnings\n",
    "from osgeo import gdal\n",
    "from glob import glob\n",
    "from ipysheet import from_dataframe\n",
    "from localtileserver import TileClient, get_leaflet_tile_layer \n",
    "from ipyleaflet import Map, Marker, basemaps, ScaleControl, LayersControl#, AwesomeIcon\n",
    "from ipyleaflet import LegendControl, FullScreenControl, Popup#, MarkerCluster\n",
    "\n",
    "os.environ['LOCALTILESERVER_CLIENT_PREFIX'] = \\\n",
    "    f\"{os.environ['JUPYTERHUB_SERVICE_PREFIX'].lstrip('/')}/proxy/{{port}}\""
   ]
  },
  {
   "cell_type": "markdown",
   "id": "a305789e-7ff7-40cf-99e7-cbca4f258e68",
   "metadata": {
    "tags": []
   },
   "source": [
    "### Data Parameters"
   ]
  },
  {
   "cell_type": "code",
   "execution_count": 22,
   "id": "16dadcfd-a9bd-4ba2-8c2c-9a3dca62e2d4",
   "metadata": {},
   "outputs": [],
   "source": [
    "TILE = 'h09v05'\n",
    "# TILE = 'h22v01'\n",
    "# TILE = 'h21v10'\n",
    "# TILE = 'h12v09'"
   ]
  },
  {
   "cell_type": "code",
   "execution_count": 23,
   "id": "6ed159ab-c0ab-4d0e-afa6-0010ce436ea3",
   "metadata": {},
   "outputs": [],
   "source": [
    "YEAR = 2019"
   ]
  },
  {
   "cell_type": "code",
   "execution_count": 24,
   "id": "65caf2c5-1963-4a77-83ed-e57f8324e105",
   "metadata": {},
   "outputs": [],
   "source": [
    "plot_obs = True"
   ]
  },
  {
   "cell_type": "code",
   "execution_count": 25,
   "id": "a5a05bd1-5691-453b-bdc5-c0dc15d043ab",
   "metadata": {},
   "outputs": [],
   "source": [
    "target = False\n",
    "eb = True\n",
    "percent = False\n",
    "noc = False"
   ]
  },
  {
   "cell_type": "code",
   "execution_count": 26,
   "id": "36457e7a-0f84-4dff-b85e-5f09283ca60a",
   "metadata": {
    "tags": []
   },
   "outputs": [],
   "source": [
    "MOD44_C6_YEAR = YEAR\n",
    "\n",
    "############\n",
    "#Directory Paths\n",
    "############\n",
    "#RFA dir paths\n",
    "data_dir = '/explore/nobackup/projects/ilab/data/MODIS/PRODUCTION/Amanda_Comparison_04042023/'\n",
    "TAR_BASEPATH = f'{data_dir}/Targeted_RFA_v421'\n",
    "EB_BASEPATH = f'{data_dir}/1_2_7_NDVI_v201_Results/EvenBalance_Cluster'\n",
    "EB_MATCH_BASEPATH = f'{data_dir}/1_2_7_NDVI_v201_Results/EB_Match'\n",
    "PER_BASEPATH = f'{data_dir}/1_2_7_NDVI_v201_Results/Percent_Cluster'\n",
    "NOC_BASEPATH = f'{data_dir}/1_2_7_NDVI_v201_Results/No_Cluster'\n",
    "#C6 dir paths\n",
    "MOD44W_C6_BASEPATH = '/explore/nobackup/people/mcarrol2/MODIS_water/v5_outputs/'\n",
    "#Cache file dir\n",
    "CACHE_DIR = '.cache'\n",
    "os.makedirs(CACHE_DIR, exist_ok=True)\n",
    "\n",
    "############\n",
    "#Specific File Paths\n",
    "############\n",
    "#RFA file paths\n",
    "file_qa_path = f'*{YEAR}*{TILE}*ProductQA.*tif'\n",
    "file_path = f'*{YEAR}*{TILE}*Product.*tif'\n",
    "file_sumobs_path = f'*{YEAR}*{TILE}*SumWater*tif'\n",
    "file_ogmask_path = f'*{YEAR}*{TILE}*-Mask*tif'\n",
    "#C6 file paths\n",
    "mod44w_c6_path = f'{MOD44W_C6_BASEPATH}/{str(MOD44_C6_YEAR)}/MOD44W_{TILE}_{MOD44_C6_YEAR}_v5.tif'\n",
    "if not os.path.exists(mod44w_c6_path):\n",
    "    raise FileNotFoundError(f'Could not find the MOD44W C6 file: {mod44w_c6_path}')\n",
    "\n",
    "############\n",
    "#CMAPS and legend\n",
    "############\n",
    "water_c6_cmap: list = ['#194d33', '#7bdc93']\n",
    "water_rfa_qa_cmap: list = ['#ee82ee', '#FCB900', '#FF6900', '#800080']\n",
    "qa_water_legend_dict = {\n",
    "    'QA- Perm Water Flipped L->W': '#ee82ee', \n",
    "    'QA- Ocean Mask L->W': '#FCB900',\n",
    "    'QA- Burn Scar W->L': '#FF6900',\n",
    "    'QA- DEM Slope Change W->L': '#800080'}\n",
    "\n",
    "\n",
    "############\n",
    "#Geotransform parameters\n",
    "############\n",
    "crs = 'PROJCS[\"Sinusoidal\",GEOGCS[\"Sphere\",DATUM[\"Sphere\",SPHEROID[\"Sphere\",6371000,0]],PRIMEM[\"Greenwich\",0],' + \\\n",
    "    'UNIT[\"degree\",0.0174532925199433,AUTHORITY[\"EPSG\",\"9122\"]]],PROJECTION[\"Sinusoidal\"]' + \\\n",
    "    ',PARAMETER[\"longitude_of_center\",0],PARAMETER[\"false_easting\",0],PARAMETER[\"false_northing\",0]' + \\\n",
    "    ',UNIT[\"metre\",1,AUTHORITY[\"EPSG\",\"9001\"]],AXIS[\"Easting\",EAST],AXIS[\"Northing\",NORTH]]'\n",
    "mod44w_cs_ds = gdal.Open(mod44w_c6_path)\n",
    "transform = mod44w_cs_ds.GetGeoTransform()\n",
    "\n",
    "############\n",
    "#KWARGS\n",
    "############\n",
    "temporary_files = []\n",
    "rfa_kwargs = {'nodata':0,'show':False,'vmin':0,'vmax':1,'max_zoom':20}\n",
    "obs_kwargs = {'nodata':0,'show':False,'vmin':0,'vmax':365,'max_zoom':20}  \n",
    "pw_kwargs = {'nodata':0,'show':False,'vmin':1,'vmax':4,'max_zoom':20}  \n",
    "transform_kwargs = {'transform':transform, 'projection':crs, 'year':YEAR, \n",
    "                        'tile':TILE, 'files_to_rm':temporary_files}\n"
   ]
  },
  {
   "cell_type": "markdown",
   "id": "b4bb7229-e76c-431b-a807-3a980e615639",
   "metadata": {
    "tags": []
   },
   "source": [
    "### Functions"
   ]
  },
  {
   "cell_type": "code",
   "execution_count": 27,
   "id": "06b8f63f-d2f6-4e6e-be9f-e05228aec682",
   "metadata": {},
   "outputs": [],
   "source": [
    "def parse_qa(qa_array):\n",
    "    qa_array_parsed = xr.where(qa_array == 0, 0, -1)\n",
    "    qa_array_parsed = xr.where(qa_array == 4, 1, qa_array_parsed)\n",
    "    qa_array_parsed = xr.where(qa_array == 6, 2, qa_array_parsed)\n",
    "    qa_array_parsed = xr.where(qa_array == 9, 3, qa_array_parsed)\n",
    "    return qa_array_parsed\n",
    "\n",
    "def parse_fix_qa(qa_array):\n",
    "    qa_array_parsed = xr.where(qa_array == 2, 1, 0)\n",
    "    qa_array_parsed = xr.where(qa_array == 4, 2, qa_array_parsed)\n",
    "    qa_array_parsed = xr.where(qa_array == 6, 3, qa_array_parsed)\n",
    "    qa_array_parsed = xr.where(qa_array == 9, 4, qa_array_parsed)\n",
    "    return qa_array_parsed\n",
    "\n",
    "def open_and_write_temp(data_array, transform, projection, \n",
    "    year, tile, name = None, files_to_rm = None) -> str:\n",
    "    tmpdir = tempfile.gettempdir()\n",
    "    name_to_use = data_array.name if not name else name\n",
    "    tempfile_name = f'MOD44W.A{year}001.{tile}.061.{name_to_use}.tif'\n",
    "    tempfile_fp = os.path.join(tmpdir, tempfile_name)\n",
    "    print(glob(tempfile_fp))\n",
    "    if os.path.exists(tempfile_fp): \n",
    "        os.remove(tempfile_fp)\n",
    "    tempfile_fp = os.path.join(tmpdir, tempfile_name)\n",
    "    driver = gdal.GetDriverByName('GTiff')\n",
    "    outDs = driver.Create(tempfile_fp, 4800, 4800, \n",
    "                          1, gdal.GDT_Float32, \n",
    "                          options=['COMPRESS=LZW'])\n",
    "    outDs.SetGeoTransform(transform)\n",
    "    outDs.SetProjection(projection)\n",
    "    outBand = outDs.GetRasterBand(1)\n",
    "    outBand.WriteArray(data_array.data[0, :, :])\n",
    "    outBand.SetNoDataValue(250)\n",
    "    outDs.FlushCache()\n",
    "    outDs = None\n",
    "    outBand = None\n",
    "    driver = None\n",
    "    return tempfile_fp\n",
    "\n",
    "def get_location(cache_dir: str, tile: str, def_location: list) -> list:\n",
    "    cache_fp = os.path.join(cache_dir, f'{tile}.marker.location.sv')\n",
    "    if os.path.exists(cache_fp):\n",
    "        location = joblib.load(cache_fp)\n",
    "    else:\n",
    "        location = def_location\n",
    "    return location\n",
    "\n",
    "def cache_location(tile: str, location: list) -> None:\n",
    "    cache_fp = os.path.join(CACHE_DIR, f'{tile}.marker.location.sv')\n",
    "    output = joblib.dump(location, cache_fp)\n",
    "    return None\n",
    "\n",
    "def initialize_marker(tile: str, location: list, cache_dir: str) -> Marker:\n",
    "    name = 'Location Marker'\n",
    "    title = name\n",
    "    location = get_location(cache_dir, tile, location)\n",
    "    marker = Marker(name=name, title=name, location=location)\n",
    "    return marker\n",
    "\n",
    "def initialize_message(location: list) -> widgets.HTML:\n",
    "    ll_message = widgets.HTML()\n",
    "    ll_message.value = str(location)\n",
    "    return ll_message"
   ]
  },
  {
   "cell_type": "code",
   "execution_count": 28,
   "id": "ae4696a4-1480-463c-876a-48bb38f0aa36",
   "metadata": {},
   "outputs": [],
   "source": [
    "def data_plot(product_path, legend_name, data_color = None, pw = False, obs = False):\n",
    "    \"\"\"\n",
    "    In \n",
    "        data_color (str): the cmap color that the data will be plotted in\n",
    "        data_path (str): path to the tif rf prediction files\n",
    "        legend_name (str): name of the product that is plotted\n",
    "        qa_layer_bool (bool): if True then create QA layer, if false create RF product layer\n",
    "    \n",
    "    Returns\n",
    "        rfa_water_mask_layer (leaflet_tile_layer): Map layer of the RFA Product \n",
    "        rfa_legend_dict (dict): Dictionary of the RFA Product cmap \n",
    "        perm_water_layer (leaflet_tile_layer): Map layer of the Permanent Water QA Product \n",
    "        \n",
    "    \"\"\"\n",
    "    data_array = rxr.open_rasterio(sorted(glob(product_path))[0])\n",
    "    if obs is True: print('Max',data_array.max(),'\\nMin',data_array.min())\n",
    "    if pw is True:\n",
    "        product_water_array = parse_fix_qa(data_array)\n",
    "        product_kwargs = pw_kwargs\n",
    "        tile_name = f'{legend_name} QA'\n",
    "        tile_cmap = water_rfa_qa_cmap\n",
    "        perm_mask_name = f'{legend_name} perm mask'\n",
    "        qa_mask_name = perm_mask_name.replace(' ','_')\n",
    "    else:\n",
    "        product_water_array = data_array\n",
    "        tile_name = f'{legend_name}'\n",
    "        if obs is True: \n",
    "            tile_cmap = 'jet'\n",
    "            product_kwargs = obs_kwargs\n",
    "        else: \n",
    "            tile_cmap = [mcolors.cnames[data_color], mcolors.cnames[data_color]]\n",
    "            product_kwargs = rfa_kwargs\n",
    "        mask_name =  f'{legend_name} mask'\n",
    "        qa_mask_name = mask_name.replace(' ','_')\n",
    "\n",
    "    product_qa = open_and_write_temp(product_water_array, name=qa_mask_name, **transform_kwargs)\n",
    "    product_client = TileClient(product_qa)\n",
    "    product_layer = get_leaflet_tile_layer(\n",
    "            product_client, cmap=tile_cmap, \n",
    "            name=tile_name, **product_kwargs)\n",
    "  \n",
    "    if (pw is True) or (obs is True): return product_layer\n",
    "    else: \n",
    "        product_legend_dict = {tile_name: mcolors.cnames[data_color]}\n",
    "        return product_layer, product_legend_dict"
   ]
  },
  {
   "cell_type": "markdown",
   "id": "90ff3a3b-1fe3-4f62-b6c1-51b610edc64d",
   "metadata": {
    "tags": []
   },
   "source": [
    "### Using Functions"
   ]
  },
  {
   "cell_type": "code",
   "execution_count": 29,
   "id": "d60df3a4-6c56-468c-bdff-c3c53185df11",
   "metadata": {},
   "outputs": [],
   "source": [
    "#c6 data\n",
    "c6_client = TileClient(mod44w_c6_path)\n",
    "c6_water_mask_layer = get_leaflet_tile_layer(\n",
    "    c6_client, cmap=water_c6_cmap, name=f'C6', \n",
    "    **rfa_kwargs)\n",
    "c6_legend_dict = {'C6': '#7bdc93'}"
   ]
  },
  {
   "cell_type": "code",
   "execution_count": 30,
   "id": "930d9b5a-9820-4fe0-a8f8-a59ef0cbd232",
   "metadata": {
    "tags": []
   },
   "outputs": [
    {
     "name": "stdout",
     "output_type": "stream",
     "text": [
      "[]\n",
      "[]\n",
      "[]\n",
      "[]\n"
     ]
    },
    {
     "name": "stderr",
     "output_type": "stream",
     "text": [
      "/panfs/ccds02/app/modules/jupyter/ilab/pytorch-kernel/lib/python3.9/site-packages/rioxarray/_io.py:1111: NotGeoreferencedWarning: Dataset has no geotransform, gcps, or rpcs. The identity matrix be returned.\n",
      "  warnings.warn(str(rio_warning.message), type(rio_warning.message))  # type: ignore\n"
     ]
    },
    {
     "name": "stdout",
     "output_type": "stream",
     "text": [
      "Max <xarray.DataArray ()>\n",
      "array(260, dtype=int16)\n",
      "Coordinates:\n",
      "    spatial_ref  int64 0 \n",
      "Min <xarray.DataArray ()>\n",
      "array(0, dtype=int16)\n",
      "Coordinates:\n",
      "    spatial_ref  int64 0\n",
      "[]\n",
      "[]\n",
      "[]\n"
     ]
    },
    {
     "name": "stderr",
     "output_type": "stream",
     "text": [
      "/panfs/ccds02/app/modules/jupyter/ilab/pytorch-kernel/lib/python3.9/site-packages/rioxarray/_io.py:1111: NotGeoreferencedWarning: Dataset has no geotransform, gcps, or rpcs. The identity matrix be returned.\n",
      "  warnings.warn(str(rio_warning.message), type(rio_warning.message))  # type: ignore\n"
     ]
    },
    {
     "name": "stdout",
     "output_type": "stream",
     "text": [
      "Max <xarray.DataArray ()>\n",
      "array(271, dtype=int16)\n",
      "Coordinates:\n",
      "    spatial_ref  int64 0 \n",
      "Min <xarray.DataArray ()>\n",
      "array(0, dtype=int16)\n",
      "Coordinates:\n",
      "    spatial_ref  int64 0\n",
      "[]\n"
     ]
    }
   ],
   "source": [
    "if target:\n",
    "    # targeted rfa trained using v4.2.1 data\n",
    "    tar_layer, tar_dict = data_plot(f'{TAR_BASEPATH}/{file_path}','C61','yellow')\n",
    "    tar_pw_layer = data_plot(f'{TAR_BASEPATH}/{file_qa_path}','C61', pw=True)\n",
    "if eb:\n",
    "    # clustered model trained using evenly balanced clusters and v2.0.1 data\n",
    "    eb_layer, eb_dict = data_plot(f'{EB_BASEPATH}/{file_path}','Even Balance','gray')\n",
    "    eb_pw_layer = data_plot(f'{EB_BASEPATH}/{file_qa_path}','Even Balance', pw=True)\n",
    "    if plot_obs:\n",
    "        eb_sumobs_layer = data_plot(f'{EB_BASEPATH}/{file_sumobs_path}',\n",
    "            'EB SumObs', obs=True)\n",
    "    eb_match_layer, eb_match_dict = data_plot(f'{EB_MATCH_BASEPATH}/{file_path}','EB Match','indigo')\n",
    "    eb_match_pw_layer = data_plot(f'{EB_MATCH_BASEPATH}/{file_qa_path}','EB Match', pw=True)\n",
    "    \n",
    "if percent: \n",
    "    # clustered model trained using proportional clusters and v2.0.1 data\n",
    "    per_layer, per_dict = data_plot(f'{PER_BASEPATH}/{file_path}','Percent','red')\n",
    "    per_pw_layer = data_plot(f'{PER_BASEPATH}/{file_qa_path}','Percent', pw=True)\n",
    "    if plot_obs:\n",
    "        per_sumobs_layer = data_plot(f'{PER_BASEPATH}/{file_sumobs_path}',\n",
    "            'Per SumObs', obs=True)\n",
    "if noc: \n",
    "    # no clusters model trained using v2.0.1 data\n",
    "    noc_layer, noc_dict = data_plot(f'{NOC_BASEPATH}/{file_path}','No Cluster','blue')\n",
    "    noc_pw_layer = data_plot(f'{NOC_BASEPATH}/{file_qa_path}','No Cluster', pw=True)\n",
    "\n",
    "        "
   ]
  },
  {
   "cell_type": "code",
   "execution_count": 31,
   "id": "73d641e3-9aed-4531-862b-190adf6313e4",
   "metadata": {},
   "outputs": [],
   "source": [
    "legend_dict = {}\n",
    "legend_dict.update(c6_legend_dict)\n",
    "if target: \n",
    "    legend_dict.update(tar_dict)\n",
    "if eb:\n",
    "    legend_dict.update(eb_dict)\n",
    "if percent:\n",
    "    legend_dict.update(per_dict)\n",
    "if noc: \n",
    "    legend_dict.update(noc_dict)\n",
    "legend_dict.update(qa_water_legend_dict)\n",
    "legend = LegendControl(legend_dict)"
   ]
  },
  {
   "cell_type": "code",
   "execution_count": null,
   "id": "0631bf8b-4ee8-46ae-9eb8-7823ac6d5c3b",
   "metadata": {},
   "outputs": [],
   "source": []
  },
  {
   "cell_type": "code",
   "execution_count": 32,
   "id": "0674fe99-8ba5-45b8-af02-e69cc15d8be3",
   "metadata": {
    "tags": []
   },
   "outputs": [],
   "source": [
    "#########\n",
    "#Setup map\n",
    "#########\n",
    "m = Map(\n",
    "    center=c6_client.center(),\n",
    "    zoom=c6_client.default_zoom,\n",
    "    basemap=basemaps.Esri.WorldImagery,\n",
    "    scroll_wheel_zoom=True,\n",
    "    keyboard=True,\n",
    "    layout=widgets.Layout(height='600px')\n",
    ")\n",
    "marker_location = c6_client.center()\n",
    "marker = initialize_marker(tile=TILE, location=marker_location, cache_dir=CACHE_DIR)\n",
    "latlon_message = initialize_message(marker.location)\n",
    "\n",
    "def handle_click(**kwargs):\n",
    "    latlon_message.value = str(marker.location)\n",
    "    marker.popup = latlon_message\n",
    "    cache_location(tile=TILE, location=marker.location)\n",
    "\n",
    "m.add_layer(marker)\n",
    "# m.add_layer(c6_water_mask_layer)\n",
    "if target:\n",
    "    m.add_layer(tar_layer)\n",
    "    m.add_layer(tar_pw_layer)\n",
    "if eb:\n",
    "    m.add_layer(eb_sumobs_layer)\n",
    "    m.add_layer(eb_layer)\n",
    "    m.add_layer(eb_pw_layer)\n",
    "if percent:\n",
    "    m.add_layer(per_sumobs_layer)\n",
    "    m.add_layer(per_layer)\n",
    "    m.add_layer(per_pw_layer)\n",
    "if noc:\n",
    "    m.add_layer(noc_layer)\n",
    "    m.add_layer(noc_pw_layer)\n",
    "    \n",
    "m.add_layer(c6_water_mask_layer)\n",
    "    \n",
    "marker.on_click(handle_click)\n",
    "# m.add_control(legend)\n",
    "m.add_control(ScaleControl(position='bottomleft'))\n",
    "m.add_control(LayersControl(position='topright'))\n",
    "m.add_control(FullScreenControl())"
   ]
  },
  {
   "cell_type": "code",
   "execution_count": 33,
   "id": "aea9e9ba-dbf3-4c63-bd6a-93ce2a81aaa9",
   "metadata": {
    "tags": []
   },
   "outputs": [
    {
     "data": {
      "application/vnd.jupyter.widget-view+json": {
       "model_id": "b7559c9d10814885b2e73ca64d4fa93b",
       "version_major": 2,
       "version_minor": 0
      },
      "text/plain": [
       "Map(center=[-15.00001637063555, 36.51499794207356], controls=(ZoomControl(options=['position', 'zoom_in_text',…"
      ]
     },
     "metadata": {},
     "output_type": "display_data"
    }
   ],
   "source": [
    "display(m)"
   ]
  },
  {
   "cell_type": "code",
   "execution_count": null,
   "id": "2b9dcbbe-c3e2-428f-8821-2ffbf2c09975",
   "metadata": {},
   "outputs": [],
   "source": []
  },
  {
   "cell_type": "markdown",
   "id": "59c21f2a-0aa1-4f81-929c-9fce6fa56a51",
   "metadata": {
    "jp-MarkdownHeadingCollapsed": true,
    "tags": []
   },
   "source": [
    "## Save notes\n",
    "\n",
    "Run this cell to save notes in the current working directory"
   ]
  },
  {
   "cell_type": "code",
   "execution_count": null,
   "id": "15dbb10c-fa74-4496-bc25-4f32acae71f7",
   "metadata": {},
   "outputs": [],
   "source": [
    "userid = !whoami\n",
    "notes_path = f'../notes/{TILE}-{userid[0]}-notes.csv'\n",
    "if os.path.exists(notes_path):\n",
    "    notes_df = pd.read_csv(notes_path)\n",
    "    notes_df = notes_df.drop(columns=['Unnamed: 0'])\n",
    "    sheet_notes = ipysheet.from_dataframe(notes_df)\n",
    "else:\n",
    "    tile = [' ' for _ in range(75)]\n",
    "    year = [' ' for _ in range(75)]\n",
    "    location = [' ' for _ in range(75)]\n",
    "    note = [' ' for _ in range(75)]\n",
    "    data = {'Tile': tile, 'Year': year, 'Location': location, 'Note': note}\n",
    "    notes_df = pd.DataFrame(data=data)\n",
    "    sheet_notes = ipysheet.from_dataframe(notes_df)\n",
    "sheet_notes.column_width = [3,3,4,10]\n",
    "sheet_notes.layout = widgets.Layout(width='100%',height='100%')\n",
    "sheet_notes"
   ]
  },
  {
   "cell_type": "code",
   "execution_count": null,
   "id": "5f13e616-c516-458d-a20f-69f704832c1b",
   "metadata": {},
   "outputs": [],
   "source": [
    "sheet_notes_df = ipysheet.to_dataframe(sheet_notes)\n",
    "sheet_notes_df.to_csv(notes_path)"
   ]
  },
  {
   "cell_type": "markdown",
   "id": "07165f3f-2040-498c-b1fb-9553c5c5a708",
   "metadata": {},
   "source": [
    "### <b>DO NOT RUN THIS CELL UNTIL FINISHED WITH VALIDATION</b>\n",
    "*Note: This will shut down the local tile servers*\n",
    "\n",
    "*Ignore warnings as such:*\n",
    "```\n",
    "Server for key (default) not found.\n",
    "```"
   ]
  },
  {
   "cell_type": "code",
   "execution_count": null,
   "id": "4286e1d5-027f-4429-9a3f-42b5054dcb83",
   "metadata": {},
   "outputs": [],
   "source": [
    "for path_to_delete in temporary_files_to_delete:\n",
    "    if os.path.exists(path_to_delete):\n",
    "        os.remove(path_to_delete)\n",
    "    temporary_files_to_delete.remove(path_to_delete)\n",
    "\n",
    "mod44w_rfa_v1_water_client.shutdown(True)"
   ]
  },
  {
   "cell_type": "code",
   "execution_count": null,
   "id": "d41f4236-d563-4a04-b55d-369baab8eb1d",
   "metadata": {},
   "outputs": [],
   "source": []
  }
 ],
 "metadata": {
  "kernelspec": {
   "display_name": "Python [conda env:ilab-pytorch]",
   "language": "python",
   "name": "conda-env-ilab-pytorch-py"
  },
  "language_info": {
   "codemirror_mode": {
    "name": "ipython",
    "version": 3
   },
   "file_extension": ".py",
   "mimetype": "text/x-python",
   "name": "python",
   "nbconvert_exporter": "python",
   "pygments_lexer": "ipython3",
   "version": "3.9.15"
  }
 },
 "nbformat": 4,
 "nbformat_minor": 5
}
