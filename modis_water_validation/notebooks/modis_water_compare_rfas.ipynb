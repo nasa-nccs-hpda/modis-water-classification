{
 "cells": [
  {
   "cell_type": "markdown",
   "id": "381bd630-ac29-4c63-bea3-c659ea3e9c52",
   "metadata": {
    "tags": []
   },
   "source": [
    "# <b>MODIS Water Validation Notebook - Compare models</b>\n",
    "\n",
    "Purpose: Used to perform validation of C61 MOD44W products from different models. Compares those products to the previous version, C6 MOD44W.\n",
    "\n",
    "*Note: We are following an incremental development lifecycle. This notebook is the first rendition which fit most of the requirements. Expect incremental releases which continue towards the goal of fully meeting requirements and increasing capabilities of the user.*\n",
    "\n",
    "Installation requirements:\n",
    "\n",
    "```bash\n",
    "pip install localtileserver\n",
    "```\n",
    "\n",
    "TODO:\n",
    "- ipysheet for user to input comments\n",
    "- load layers from toolbar\n",
    "- move everything inside a class to avoid user input\n",
    "\n",
    "Some references:\n",
    "\n",
    "- https://towardsdatascience.com/bring-your-jupyter-notebook-to-life-with-interactive-widgets-bc12e03f0916\n",
    "- https://github.com/giswqs/geodemo/blob/master/geodemo/common.py\n",
    "\n",
    "Version: 0.0.1\n",
    "Date: 12/09/2022\n",
    "\n",
    "*For DSG internal use*"
   ]
  },
  {
   "cell_type": "markdown",
   "id": "1e59d3a7-051b-4375-abaa-6496ae11cec8",
   "metadata": {},
   "source": [
    "### <b> WARNING </b>\n",
    "\n",
    "Do not run all cells at once, doing so will shut down the local tile servers before you, the user, can interact."
   ]
  },
  {
   "cell_type": "markdown",
   "id": "921385fc-c3cd-441d-8fcc-a8d5c38b835d",
   "metadata": {},
   "source": [
    "Uncomment if localtileserver is not installed"
   ]
  },
  {
   "cell_type": "code",
   "execution_count": 1,
   "id": "bf200474-01a3-4608-a1aa-a4f65ab106da",
   "metadata": {},
   "outputs": [],
   "source": [
    "# !pip install localtileserver"
   ]
  },
  {
   "cell_type": "code",
   "execution_count": 2,
   "id": "d0b0fb30-4519-4f1a-b4d4-cfd700796672",
   "metadata": {},
   "outputs": [],
   "source": [
    "import os\n",
    "import re\n",
    "import json\n",
    "import joblib\n",
    "import tempfile\n",
    "import ipysheet\n",
    "import numpy as np\n",
    "import pandas as pd\n",
    "import rasterio as rio\n",
    "import rioxarray as rxr\n",
    "import xarray as xr\n",
    "import geopandas as gpd\n",
    "import matplotlib.pyplot as plt\n",
    "import matplotlib.colors as mcolors\n",
    "import ipywidgets as widgets\n",
    "import warnings\n",
    "import tempfile\n",
    "\n",
    "from osgeo import gdal\n",
    "from pprint import pprint\n",
    "\n",
    "from glob import glob\n",
    "from ipysheet import from_dataframe\n",
    "from localtileserver import TileClient, get_leaflet_tile_layer, examples\n",
    "from ipyleaflet import Map, Marker, basemaps, ScaleControl, LayersControl, AwesomeIcon\n",
    "from ipyleaflet import LegendControl, FullScreenControl, MarkerCluster, Popup\n",
    "\n",
    "os.environ['LOCALTILESERVER_CLIENT_PREFIX'] = \\\n",
    "    f\"{os.environ['JUPYTERHUB_SERVICE_PREFIX'].lstrip('/')}/proxy/{{port}}\"\n",
    "\n",
    "import localtileserver\n",
    "from localtileserver import get_leaflet_tile_layer, TileClient"
   ]
  },
  {
   "cell_type": "markdown",
   "id": "b13c65fc-dbce-40f8-a318-49d10753620b",
   "metadata": {},
   "source": [
    "## Tile and year selection\n",
    "\n",
    "Choose which tile (see MODIS grid) and which year. Reference the grid image. \n",
    "\n",
    "The `h` followed by two numerical digits represent the <b>horizontal</b> tile ID. Use the column space to determine this ID. \n",
    "\n",
    "The `v` followed by two numerical digits represent the <b>vertical</b> tile ID. Use the row space to determine this ID. \n",
    "\n",
    "For example, the tile that is 9 columns to the right and 5 rows down is `h09v05`.\n",
    "\n",
    "Example:\n",
    "```python\n",
    "TILE = 'h09v05'\n",
    "```\n",
    "\n",
    "![MODIS Grid Overlay](../imgs/modis_overlay.png)"
   ]
  },
  {
   "cell_type": "code",
   "execution_count": 3,
   "id": "16dadcfd-a9bd-4ba2-8c2c-9a3dca62e2d4",
   "metadata": {},
   "outputs": [],
   "source": [
    "# TILE = 'h09v05'\n",
    "# TILE = 'h11v02'\n",
    "TILE = 'h11v10'\n",
    "# TILE = 'h12v09'\n",
    "# TILE = 'h16v02'\n",
    "# TILE = 'h17v02'\n",
    "# TILE = 'h18v03'\n",
    "# TILE = 'h21v10'\n",
    "# TILE = 'h22v01'\n",
    "# TILE = 'h27v03'\n",
    "# TILE = 'h28v08'\n",
    "# TILE = 'h30v11'"
   ]
  },
  {
   "cell_type": "code",
   "execution_count": 4,
   "id": "5f706900-e8e6-41c2-aec9-fc14e601cf96",
   "metadata": {},
   "outputs": [],
   "source": [
    "YEAR = 2019"
   ]
  },
  {
   "cell_type": "markdown",
   "id": "443c609a-3add-42f8-8ed8-2d8b365019c7",
   "metadata": {},
   "source": [
    "Shouldn't need to change anything under this "
   ]
  },
  {
   "cell_type": "code",
   "execution_count": 5,
   "id": "36457e7a-0f84-4dff-b85e-5f09283ca60a",
   "metadata": {},
   "outputs": [],
   "source": [
    "MOD44W_C6_BASEPATH = '/explore/nobackup/people/mcarrol2/MODIS_water/v5_outputs/'\n",
    "MOD44W_C61_VERSION = '001'\n",
    "C6_FILE_TYPE = '.tif'\n",
    "\n",
    "C61_RF_FILE_TYPE = '.tif'\n",
    "TMP_FILE_TYPE = '.tif'\n",
    "\n",
    "HDF_PRESTR = 'HDF4_EOS:EOS_GRID'\n",
    "HDF_POSSTR = 'MOD44W_250m_GRID'\n",
    "\n",
    "SEVEN_CLASS = 'seven_class'\n",
    "WATER_MASK = 'water_mask'\n",
    "WATER_MASK_QA = 'water_mask_QA'\n",
    "\n",
    "if YEAR > 2019:\n",
    "    warnings.warn('Using 2019 C6 MOD44W')\n",
    "    MOD44_C6_YEAR = 2019\n",
    "else:\n",
    "    MOD44_C6_YEAR = YEAR\n",
    "\n",
    "tiles_basemap: str = 'https://mt1.google.com/vt/lyrs=s&x={x}&y={y}&z={z}'\n",
    "water_rf_v1_cmap: list = ['#E3B878', '#2d7d86']\n",
    "water_rf_v2_cmap: list = ['#194d33', '#8ed1fc']\n",
    "water_c6_cmap: list = ['#194d33', '#7bdc93']\n",
    "water_rfa_qa_cmap: list = ['#ee82ee', '#FCB900', '#FF6900', '#800080']\n",
    "water_qa_cmap: list = ['#79d2a6', '#ff6900', '#e4efe9']\n",
    "perm_water_cmap: list = ['#b8174e', '#00e202']\n",
    "\n",
    "CACHE_DIR = '.cache'\n",
    "os.makedirs(CACHE_DIR, exist_ok=True)\n",
    "\n",
    "mod44w_c6_path = os.path.join(MOD44W_C6_BASEPATH, str(MOD44_C6_YEAR), f'MOD44W_{TILE}_{MOD44_C6_YEAR}_v5.tif')\n",
    "if not os.path.exists(mod44w_c6_path):\n",
    "    raise FileNotFoundError(f'Could not find the MOD44W C6 file: {mod44w_c6_path}')\n",
    "    \n",
    "crs = 'PROJCS[\"Sinusoidal\",GEOGCS[\"Sphere\",DATUM[\"Sphere\",SPHEROID[\"Sphere\",6371000,0]],PRIMEM[\"Greenwich\",0],' + \\\n",
    "    'UNIT[\"degree\",0.0174532925199433,AUTHORITY[\"EPSG\",\"9122\"]]],PROJECTION[\"Sinusoidal\"]' + \\\n",
    "    ',PARAMETER[\"longitude_of_center\",0],PARAMETER[\"false_easting\",0],PARAMETER[\"false_northing\",0]' + \\\n",
    "',UNIT[\"metre\",1,AUTHORITY[\"EPSG\",\"9001\"]],AXIS[\"Easting\",EAST],AXIS[\"Northing\",NORTH]]'\n",
    "mod44w_cs_ds = gdal.Open(mod44w_c6_path)\n",
    "transform = mod44w_cs_ds.GetGeoTransform()\n",
    "mod44w_c6_ds = None"
   ]
  },
  {
   "cell_type": "code",
   "execution_count": 6,
   "id": "06b8f63f-d2f6-4e6e-be9f-e05228aec682",
   "metadata": {},
   "outputs": [],
   "source": [
    "def parse_qa(qa_array):\n",
    "    qa_array_parsed = xr.where(qa_array == 0, 0, -1)\n",
    "    qa_array_parsed = xr.where(qa_array == 4, 1, qa_array_parsed)\n",
    "    qa_array_parsed = xr.where(qa_array == 6, 2, qa_array_parsed)\n",
    "    qa_array_parsed = xr.where(qa_array == 9, 3, qa_array_parsed)\n",
    "    return qa_array_parsed\n",
    "\n",
    "def parse_fix_qa(qa_array):\n",
    "    qa_array_parsed = xr.where(qa_array == 2, 1, 0)\n",
    "    qa_array_parsed = xr.where(qa_array == 4, 2, qa_array_parsed)\n",
    "    qa_array_parsed = xr.where(qa_array == 6, 3, qa_array_parsed)\n",
    "    qa_array_parsed = xr.where(qa_array == 9, 4, qa_array_parsed)\n",
    "    return qa_array_parsed\n",
    "\n",
    "def open_and_write_temp(data_array, transform, projection, \n",
    "                        year, tile, name = None, files_to_rm = None) -> str:\n",
    "    tmpdir = tempfile.gettempdir()\n",
    "    name_to_use = data_array.name if not name else name\n",
    "    tempfile_name = f'MOD44W.A{year}001.{tile}.061.{name_to_use}.tif'\n",
    "    tempfile_fp = os.path.join(tmpdir, tempfile_name)\n",
    "    if os.path.exists(tempfile_fp):\n",
    "        os.remove(tempfile_fp)\n",
    "    driver = gdal.GetDriverByName('GTiff')\n",
    "    outDs = driver.Create(tempfile_fp, 4800, 4800, \n",
    "                          1, gdal.GDT_Float32, \n",
    "                          options=['COMPRESS=LZW'])\n",
    "    outDs.SetGeoTransform(transform)\n",
    "    outDs.SetProjection(projection)\n",
    "    outBand = outDs.GetRasterBand(1)\n",
    "    outBand.WriteArray(data_array.data[0, :, :])\n",
    "    outBand.SetNoDataValue(250)\n",
    "    outDs.FlushCache()\n",
    "    outDs = None\n",
    "    outBand = None\n",
    "    driver = None\n",
    "    return tempfile_fp\n",
    "\n",
    "def get_location(cache_dir: str, tile: str, def_location: list) -> list:\n",
    "    cache_fp = os.path.join(cache_dir, f'{tile}.marker.location.sv')\n",
    "    if os.path.exists(cache_fp):\n",
    "        location = joblib.load(cache_fp)\n",
    "    else:\n",
    "        location = def_location\n",
    "    return location\n",
    "\n",
    "def cache_location(tile: str, location: list) -> None:\n",
    "    cache_fp = os.path.join(CACHE_DIR, f'{tile}.marker.location.sv')\n",
    "    output = joblib.dump(location, cache_fp)\n",
    "    return None\n",
    "\n",
    "def initialize_marker(tile: str, location: list, cache_dir: str) -> Marker:\n",
    "    name = 'Location Marker'\n",
    "    title = name\n",
    "    location = get_location(cache_dir, tile, location)\n",
    "    marker = Marker(name=name, title=name, location=location)\n",
    "    return marker\n",
    "\n",
    "def initialize_message(location: list) -> widgets.HTML:\n",
    "    ll_message = widgets.HTML()\n",
    "    ll_message.value = str(location)\n",
    "    return ll_message"
   ]
  },
  {
   "cell_type": "markdown",
   "id": "0596300c-91dd-4640-bfbb-0493c8157912",
   "metadata": {},
   "source": [
    "## Adding a new product (ANP)\n",
    "\n",
    "Add a new basepath which points to a dir that contains the MODIS output tifs\n",
    "\n",
    "```python\n",
    "MOD44W_RFA_V5_BASEPATH = '/explore/nobackup/projects/ilab/data/MODIS/PRODUCTION/Amanda_Comparison_04042023/1_2_7_NDVI_v3'\n",
    "```"
   ]
  },
  {
   "cell_type": "code",
   "execution_count": 7,
   "id": "736e9c05-558a-4eae-9b0a-f299068d1678",
   "metadata": {},
   "outputs": [],
   "source": [
    "MOD44W_RFA_V1_BASEPATH = '/explore/nobackup/projects/ilab/data/MODIS/PRODUCTION/Amanda_Comparison_04042023/RFA_NEW'\n",
    "MOD44W_RFA_V2_BASEPATH = '/explore/nobackup/projects/ilab/data/MODIS/PRODUCTION/Amanda_Comparison_04042023/1_2_7_RFA'\n",
    "MOD44W_RFA_V3_BASEPATH = '/explore/nobackup/projects/ilab/data/MODIS/PRODUCTION/Amanda_Comparison_04042023/1_2_7_RFA_v000'\n",
    "MOD44W_RFA_V4_BASEPATH = '/explore/nobackup/projects/ilab/data/MODIS/PRODUCTION/Amanda_Comparison_04042023/1_2_7_NDVI_v201'"
   ]
  },
  {
   "cell_type": "markdown",
   "id": "102874aa-4986-4cc2-bd4a-b7e76343bd92",
   "metadata": {},
   "source": [
    "## !! ANP !!\n",
    "\n",
    "Copy a code block and change to fit what version\n",
    "\n",
    "e.g.\n",
    "\n",
    "```python\n",
    "mod44w_rfa_v5_regex = os.path.join(MOD44W_RFA_V5_BASEPATH,\n",
    "                     f'MOD44W.A{YEAR}.{TILE}.RandomForest.AnnualWaterProduct*{C61_RF_FILE_TYPE}')\n",
    "mod44w_rfa_v5_qa_regex = os.path.join(MOD44W_RFA_V5_BASEPATH,\n",
    "                     f'MOD44W.A{YEAR}.{TILE}.RandomForest.AnnualWaterProductQA*{C61_RF_FILE_TYPE}')\n",
    "```"
   ]
  },
  {
   "cell_type": "code",
   "execution_count": 8,
   "id": "d4af4411-e336-486a-af9f-501d08cc20c7",
   "metadata": {
    "tags": []
   },
   "outputs": [],
   "source": [
    "mod44w_rfa_v1_regex = os.path.join(MOD44W_RFA_V1_BASEPATH,\n",
    "                     f'MOD44W.A{YEAR}.{TILE}.RandomForest.AnnualWaterProduct*{C61_RF_FILE_TYPE}')\n",
    "mod44w_rfa_v1_qa_regex = os.path.join(MOD44W_RFA_V1_BASEPATH,\n",
    "                     f'MOD44W.A{YEAR}.{TILE}.RandomForest.AnnualWaterProductQA*{C61_RF_FILE_TYPE}')\n",
    "\n",
    "mod44w_rfa_v2_regex = os.path.join(MOD44W_RFA_V2_BASEPATH,\n",
    "                     f'MOD44W.A{YEAR}.{TILE}.RandomForest.AnnualWaterProduct*{C61_RF_FILE_TYPE}')\n",
    "mod44w_rfa_v2_qa_regex = os.path.join(MOD44W_RFA_V2_BASEPATH,\n",
    "                     f'MOD44W.A{YEAR}.{TILE}.RandomForest.AnnualWaterProductQA*{C61_RF_FILE_TYPE}')\n",
    "\n",
    "mod44w_rfa_v3_regex = os.path.join(MOD44W_RFA_V3_BASEPATH,\n",
    "                     f'MOD44W.A{YEAR}.{TILE}.RandomForest.AnnualWaterProduct*{C61_RF_FILE_TYPE}')\n",
    "mod44w_rfa_v3_qa_regex = os.path.join(MOD44W_RFA_V3_BASEPATH,\n",
    "                     f'MOD44W.A{YEAR}.{TILE}.RandomForest.AnnualWaterProductQA*{C61_RF_FILE_TYPE}')\n",
    "\n",
    "mod44w_rfa_v4_regex = os.path.join(MOD44W_RFA_V4_BASEPATH,\n",
    "                     f'MOD44W.A{YEAR}.{TILE}.RandomForest.AnnualWaterProduct*{C61_RF_FILE_TYPE}')\n",
    "mod44w_rfa_v4_qa_regex = os.path.join(MOD44W_RFA_V4_BASEPATH,\n",
    "                     f'MOD44W.A{YEAR}.{TILE}.RandomForest.AnnualWaterProductQA*{C61_RF_FILE_TYPE}')"
   ]
  },
  {
   "cell_type": "markdown",
   "id": "a029a458-0687-4229-bd3e-8885ef3757fe",
   "metadata": {},
   "source": [
    "## !! ANP !!\n",
    "\n",
    "Copy and add a code block for your new version\n",
    "\n",
    "```python\n",
    "mod44w_rfa_v5_path = sorted(glob(mod44w_rfa_v5_regex))[0]\n",
    "mod44w_rfa_v5_qa_path = sorted(glob(mod44w_rfa_v5_qa_regex))[0]\n",
    "```\n",
    "\n",
    "Do this with all these code blocks"
   ]
  },
  {
   "cell_type": "code",
   "execution_count": 9,
   "id": "86d3c09d-4f98-4f33-b170-4ce74779ca5d",
   "metadata": {},
   "outputs": [],
   "source": [
    "mod44w_rfa_v1_path = sorted(glob(mod44w_rfa_v1_regex))[0]\n",
    "mod44w_rfa_v1_qa_path = sorted(glob(mod44w_rfa_v1_qa_regex))[0]\n",
    "\n",
    "mod44w_rfa_v2_path = sorted(glob(mod44w_rfa_v2_regex))[0]\n",
    "mod44w_rfa_v2_qa_path = sorted(glob(mod44w_rfa_v2_qa_regex))[0]\n",
    "\n",
    "mod44w_rfa_v3_path = sorted(glob(mod44w_rfa_v3_regex))[0]\n",
    "mod44w_rfa_v3_qa_path = sorted(glob(mod44w_rfa_v3_qa_regex))[0]\n",
    "\n",
    "mod44w_rfa_v4_path = sorted(glob(mod44w_rfa_v4_regex))[0]\n",
    "mod44w_rfa_v4_qa_path = sorted(glob(mod44w_rfa_v4_qa_regex))[0]"
   ]
  },
  {
   "cell_type": "markdown",
   "id": "5f514028-845a-4815-bbae-73a7844cd2c7",
   "metadata": {},
   "source": [
    "## !! ANP !!"
   ]
  },
  {
   "cell_type": "code",
   "execution_count": 10,
   "id": "a56066b0-b662-4026-8cd8-db56dd573c6b",
   "metadata": {},
   "outputs": [],
   "source": [
    "mod44w_rfa_v1_data_array = rxr.open_rasterio(mod44w_rfa_v1_path)\n",
    "mod44w_rfa_v2_data_array = rxr.open_rasterio(mod44w_rfa_v2_path)\n",
    "mod44w_rfa_v3_data_array = rxr.open_rasterio(mod44w_rfa_v3_path)\n",
    "mod44w_rfa_v4_data_array = rxr.open_rasterio(mod44w_rfa_v4_path)"
   ]
  },
  {
   "cell_type": "markdown",
   "id": "44292707-0ef3-43df-ba09-08f6e6b8a4c1",
   "metadata": {},
   "source": [
    "## !! ANP !!"
   ]
  },
  {
   "cell_type": "code",
   "execution_count": 11,
   "id": "b6447725-c935-4e4f-bf67-2193b561f7da",
   "metadata": {},
   "outputs": [],
   "source": [
    "mod44w_rfa_v1_qa_data_array = rxr.open_rasterio(mod44w_rfa_v1_qa_path)\n",
    "mod44w_rfa_v1_perm_water_array = parse_fix_qa(mod44w_rfa_v1_qa_data_array)\n",
    "\n",
    "mod44w_rfa_v2_qa_data_array = rxr.open_rasterio(mod44w_rfa_v2_qa_path)\n",
    "mod44w_rfa_v2_perm_water_array = parse_fix_qa(mod44w_rfa_v2_qa_data_array)\n",
    "\n",
    "mod44w_rfa_v3_qa_data_array = rxr.open_rasterio(mod44w_rfa_v3_qa_path)\n",
    "mod44w_rfa_v3_perm_water_array = parse_fix_qa(mod44w_rfa_v3_qa_data_array)\n",
    "\n",
    "mod44w_rfa_v4_qa_data_array = rxr.open_rasterio(mod44w_rfa_v4_qa_path)\n",
    "mod44w_rfa_v4_perm_water_array = parse_fix_qa(mod44w_rfa_v4_qa_data_array)"
   ]
  },
  {
   "cell_type": "markdown",
   "id": "faaa0b0e-1d10-4525-9b2b-acd9b6221c01",
   "metadata": {},
   "source": [
    "## !! ANP !!\n",
    "\n",
    "Copy and change the variable name but also remember to change the input data array name and the name argument\n",
    "\n",
    "e.g.\n",
    "```python\n",
    "mod44w_rfa_v5_water_mask = open_and_write_temp(mod44w_rfa_v5_data_array, transform, crs,  YEAR, TILE, name='v5_mask', files_to_rm=temporary_files_to_delete)\n",
    "mod44w_rfa_v5_perm_water_mask_qa = open_and_write_temp(mod44w_rfa_v5_perm_water_array, transform, crs, YEAR, TILE, name='v5_perm_qa_mask', files_to_rm=temporary_files_to_delete)\n",
    "```"
   ]
  },
  {
   "cell_type": "code",
   "execution_count": 12,
   "id": "32a39180-9156-4d22-840c-18f86c3e308a",
   "metadata": {},
   "outputs": [],
   "source": [
    "temporary_files_to_delete = []\n",
    "\n",
    "mod44w_rfa_v1_water_mask = open_and_write_temp(mod44w_rfa_v1_data_array, transform, crs, YEAR, TILE, name='v1_mask', files_to_rm=temporary_files_to_delete)\n",
    "mod44w_rfa_v1_perm_water_mask_qa = open_and_write_temp(mod44w_rfa_v1_perm_water_array, transform, crs,  YEAR, TILE, name='v1_perm_qa_mask', files_to_rm= temporary_files_to_delete)\n",
    "\n",
    "mod44w_rfa_v2_water_mask = open_and_write_temp(mod44w_rfa_v2_data_array, transform, crs,  YEAR, TILE, name='v2_mask', files_to_rm=temporary_files_to_delete)\n",
    "mod44w_rfa_v2_perm_water_mask_qa = open_and_write_temp(mod44w_rfa_v2_perm_water_array, transform, crs, YEAR, TILE, name='v2_perm_qa_mask', files_to_rm=temporary_files_to_delete)\n",
    "\n",
    "mod44w_rfa_v3_water_mask = open_and_write_temp(mod44w_rfa_v3_data_array, transform, crs,  YEAR, TILE, name='v3_mask', files_to_rm=temporary_files_to_delete)\n",
    "mod44w_rfa_v3_perm_water_mask_qa = open_and_write_temp(mod44w_rfa_v3_perm_water_array, transform, crs, YEAR, TILE, name='v3_perm_qa_mask', files_to_rm=temporary_files_to_delete)\n",
    "\n",
    "mod44w_rfa_v4_water_mask = open_and_write_temp(mod44w_rfa_v4_data_array, transform, crs,  YEAR, TILE, name='v4_mask', files_to_rm=temporary_files_to_delete)\n",
    "mod44w_rfa_v4_perm_water_mask_qa = open_and_write_temp(mod44w_rfa_v4_perm_water_array, transform, crs, YEAR, TILE, name='v4_perm_qa_mask', files_to_rm=temporary_files_to_delete)"
   ]
  },
  {
   "cell_type": "markdown",
   "id": "78f13cf2-3b69-41a6-ab02-d4a2fa261511",
   "metadata": {},
   "source": [
    "## !! ANP !!\n",
    "\n",
    "Copy the set for each of these and change version name"
   ]
  },
  {
   "cell_type": "code",
   "execution_count": 13,
   "id": "5f667972-350e-440e-8fb5-a71001599688",
   "metadata": {},
   "outputs": [],
   "source": [
    "mod44w_c6_client = TileClient(mod44w_c6_path)\n",
    "mod44w_rfa_v1_water_client = TileClient(mod44w_rfa_v1_water_mask)\n",
    "mod44w_rfa_v1_perm_water_client = TileClient(mod44w_rfa_v1_perm_water_mask_qa)\n",
    "mod44w_rfa_v2_water_client = TileClient(mod44w_rfa_v2_water_mask)\n",
    "mod44w_rfa_v2_perm_water_client = TileClient(mod44w_rfa_v2_perm_water_mask_qa)\n",
    "mod44w_rfa_v3_water_client = TileClient(mod44w_rfa_v3_water_mask)\n",
    "mod44w_rfa_v3_perm_water_client = TileClient(mod44w_rfa_v3_perm_water_mask_qa)\n",
    "mod44w_rfa_v4_water_client = TileClient(mod44w_rfa_v4_water_mask)\n",
    "mod44w_rfa_v4_perm_water_client = TileClient(mod44w_rfa_v4_perm_water_mask_qa)"
   ]
  },
  {
   "cell_type": "markdown",
   "id": "735cb3e1-a781-4f56-8db1-38cd91687f1c",
   "metadata": {},
   "source": [
    "## !! ANP !!\n",
    "\n",
    "Copy the set for each of these and change version name as well as add description for layer"
   ]
  },
  {
   "cell_type": "code",
   "execution_count": 14,
   "id": "9efbcfa6-dc27-4528-8e10-20a132ef8f8e",
   "metadata": {},
   "outputs": [],
   "source": [
    "mod44w_c6_water_mask_layer = get_leaflet_tile_layer(\n",
    "    mod44w_c6_client, nodata=0, show=False, \n",
    "    vmin=0, vmax=1,\n",
    "    cmap=water_c6_cmap, \n",
    "    name=f'MOD44W C6 Water Mask {YEAR} {TILE}',\n",
    "    max_zoom=20)\n",
    "\n",
    "mod44w_rfa_v1_water_mask_layer = get_leaflet_tile_layer(\n",
    "    mod44w_rfa_v1_water_client, nodata=0, show=False,\n",
    "    vmin=0, vmax=1,\n",
    "    cmap=water_rf_v1_cmap, \n",
    "    name=f'MOD44W RFA (V1) {YEAR} {TILE}',\n",
    "    max_zoom=20)\n",
    "\n",
    "mod44w_rfa_v1_perm_water_layer = get_leaflet_tile_layer(\n",
    "    mod44w_rfa_v1_perm_water_client, nodata=0, show=False,\n",
    "    vmin=1, vmax=4,\n",
    "    cmap=water_rfa_qa_cmap, \n",
    "    name=f'MOD44W RFA (V1) Permanent Water Mask {TILE}',\n",
    "    max_zoom=20)\n",
    "\n",
    "mod44w_rfa_v2_water_mask_layer = get_leaflet_tile_layer(\n",
    "    mod44w_rfa_v2_water_client, nodata=0, show=False,\n",
    "    vmin=0, vmax=1,\n",
    "    cmap=water_rf_v2_cmap, \n",
    "    name=f'MOD44W RFA (1-2-7) {YEAR} {TILE}',\n",
    "    max_zoom=20)\n",
    "\n",
    "mod44w_rfa_v2_perm_water_layer = get_leaflet_tile_layer(\n",
    "    mod44w_rfa_v2_perm_water_client, nodata=0, show=False,\n",
    "    vmin=1, vmax=4,\n",
    "    cmap=water_rfa_qa_cmap, \n",
    "    name=f'MOD44W RFA (1-2-7) Permanent Water Mask {TILE}',\n",
    "    max_zoom=20)\n",
    "\n",
    "mod44w_rfa_v3_water_mask_layer = get_leaflet_tile_layer(\n",
    "    mod44w_rfa_v3_water_client, nodata=0, show=False,\n",
    "    vmin=0, vmax=1,\n",
    "    cmap=water_rf_v2_cmap, \n",
    "    name=f'MOD44W RFA (1-2-7 v000) {YEAR} {TILE}',\n",
    "    max_zoom=20)\n",
    "\n",
    "mod44w_rfa_v3_perm_water_layer = get_leaflet_tile_layer(\n",
    "    mod44w_rfa_v3_perm_water_client, nodata=0, show=False,\n",
    "    vmin=1, vmax=4,\n",
    "    cmap=water_rfa_qa_cmap, \n",
    "    name=f'MOD44W RFA (1-2-7 v000) Permanent Water Mask {TILE}',\n",
    "    max_zoom=20)\n",
    "\n",
    "mod44w_rfa_v4_water_mask_layer = get_leaflet_tile_layer(\n",
    "    mod44w_rfa_v4_water_client, nodata=0, show=False,\n",
    "    vmin=0, vmax=1,\n",
    "    cmap=water_rf_v2_cmap, \n",
    "    name=f'MOD44W RFA (1-2-7-NDVI v201) {YEAR} {TILE}',\n",
    "    max_zoom=20)\n",
    "\n",
    "mod44w_rfa_v4_perm_water_layer = get_leaflet_tile_layer(\n",
    "    mod44w_rfa_v4_perm_water_client, nodata=0, show=False,\n",
    "    vmin=1, vmax=4,\n",
    "    cmap=water_rfa_qa_cmap, \n",
    "    name=f'MOD44W RFA (1-2-7-NDVI V201) Permanent Water Mask {TILE}',\n",
    "    max_zoom=20)"
   ]
  },
  {
   "cell_type": "markdown",
   "id": "8742022f-8796-41aa-b03e-9ccad777af55",
   "metadata": {},
   "source": [
    "## !! ANP !!\n",
    "\n",
    "Add a new legend dict for your new product, make sure to update the legend_dict with that new sub-dict\n",
    "\n",
    "```python\n",
    "rfa_v5_water_mask_legend_dict = {'RFA (NEW BAND v201)- Water': '#8ed1fc'}\n",
    "\n",
    "...\n",
    "\n",
    "\n",
    "legend_dict.update(rfa_v5_water_mask_legend_dict)\n",
    "\n",
    "```"
   ]
  },
  {
   "cell_type": "code",
   "execution_count": 15,
   "id": "f4d68c90-951e-4ed3-820a-0c2c70604aca",
   "metadata": {},
   "outputs": [],
   "source": [
    "legend_dict = {}\n",
    "\n",
    "c6_water_mask_legend_dict = {'C6- Water': '#7bdc93'}\n",
    "rfa_v1_water_mask_legend_dict = {'RFA V1- Water': '#2d7d86'}\n",
    "rfa_v2_water_mask_legend_dict = {'RFA (1-2-7)- Water': '#8ed1fc'}\n",
    "rfa_v3_water_mask_legend_dict = {'RFA (1-2-7 v000)- Water': '#8ed1fc'}\n",
    "rfa_v4_water_mask_legend_dict = {'RFA (1-2-7-NDVI v201)- Water': '#8ed1fc'}\n",
    "\n",
    "qa_water_legend_dict = {'QA- Perm Water Flipped L->W': '#ee82ee', # FF6900\n",
    "                                 'QA- Ocean Mask L->W': '#FCB900',\n",
    "                                 'QA- Burn Scar W->L': '#FF6900',\n",
    "                                 'QA- DEM Slope Change W->L': '#800080'}\n",
    "\n",
    "rfa_v2_perm_water_legend_dict = {'RFA (1-2-7)- Perm Water Flipped': '#00e202'}\n",
    "legend_dict.update(c6_water_mask_legend_dict)\n",
    "\n",
    "legend_dict.update(rfa_v1_water_mask_legend_dict)\n",
    "legend_dict.update(rfa_v2_water_mask_legend_dict)\n",
    "legend_dict.update(rfa_v3_water_mask_legend_dict)\n",
    "legend_dict.update(rfa_v4_water_mask_legend_dict)\n",
    "legend_dict.update(qa_water_legend_dict)\n",
    "\n",
    "legend = LegendControl(legend_dict)"
   ]
  },
  {
   "cell_type": "markdown",
   "id": "31d06d80-66f7-42c7-89b5-75f3a6d76efe",
   "metadata": {},
   "source": [
    "## !! ANP !!\n",
    "\n",
    "Add a new layer with the correct version number\n",
    "\n",
    "```python\n",
    "m.add_layer(mod44w_rfa_v5_perm_water_layer)\n",
    "\n",
    "```"
   ]
  },
  {
   "cell_type": "code",
   "execution_count": 16,
   "id": "22881153-8620-4d61-9768-fbd7c13bcf81",
   "metadata": {},
   "outputs": [],
   "source": [
    "m = Map(\n",
    "    center=mod44w_c6_client.center(),\n",
    "    zoom=mod44w_c6_client.default_zoom,\n",
    "    basemap=basemaps.Esri.WorldImagery,\n",
    "    scroll_wheel_zoom=True,\n",
    "    keyboard=True,\n",
    "    layout=widgets.Layout(height='600px')\n",
    ")\n",
    "marker_location = mod44w_c6_client.center()\n",
    "marker = initialize_marker(tile=TILE, location=marker_location, cache_dir=CACHE_DIR)\n",
    "latlon_message = initialize_message(marker.location)\n",
    "\n",
    "def handle_click(**kwargs):\n",
    "    latlon_message.value = str(marker.location)\n",
    "    marker.popup = latlon_message\n",
    "    cache_location(tile=TILE, location=marker.location)\n",
    "\n",
    "m.add_layer(marker)\n",
    "marker.on_click(handle_click)\n",
    "m.add_layer(mod44w_c6_water_mask_layer)\n",
    "m.add_layer(mod44w_rfa_v1_water_mask_layer)\n",
    "m.add_layer(mod44w_rfa_v2_water_mask_layer)\n",
    "m.add_layer(mod44w_rfa_v3_water_mask_layer)\n",
    "m.add_layer(mod44w_rfa_v4_water_mask_layer)\n",
    "m.add_layer(mod44w_rfa_v1_perm_water_layer)\n",
    "m.add_layer(mod44w_rfa_v2_perm_water_layer)\n",
    "m.add_layer(mod44w_rfa_v3_perm_water_layer)\n",
    "m.add_layer(mod44w_rfa_v4_perm_water_layer)\n",
    "m.add_control(legend)\n",
    "m.add_control(ScaleControl(position='bottomleft'))\n",
    "m.add_control(LayersControl(position='topright'))\n",
    "m.add_control(FullScreenControl())"
   ]
  },
  {
   "cell_type": "markdown",
   "id": "3b20e0bd-1d12-4b5c-a4fd-7669da8da6ec",
   "metadata": {},
   "source": [
    "## MODIS Water Validation Map Visualization\n",
    "\n",
    "<b>Usage Tips:</b>\n",
    "\n",
    "- ![Layer Control](../imgs/layer_control.png)    Hover over to select and deselect which layers are visible\n",
    "\n",
    "- ![Full Screen Control](../imgs/full_screen.png)    Click for full screen\n",
    "\n",
    "- Use the scroll wheel on the mouse to zoom in and out, or use [+] and [-]\n",
    "\n",
    "The legend shows all layers no matter what's visible but each element is prefixed with which layer it indicates. I.e.: \n",
    "\n",
    "- \"Seven Class-\": MOD44W C61 Seven Class\n",
    "\n",
    "- \"QA-\": MOD44W C61 QA Mask\n",
    "\n",
    "- \"C6-\": MOD44W C6 Water Mask\n",
    "\n",
    "- \"C61-\": MOD44W C61 Water Mask\n",
    "\n",
    "- \"Difference-\": MOD44W Difference"
   ]
  },
  {
   "cell_type": "code",
   "execution_count": 17,
   "id": "aea9e9ba-dbf3-4c63-bd6a-93ce2a81aaa9",
   "metadata": {},
   "outputs": [
    {
     "data": {
      "application/vnd.jupyter.widget-view+json": {
       "model_id": "1a23d555460445f3983be2329e2e7976",
       "version_major": 2,
       "version_minor": 0
      },
      "text/plain": [
       "Map(center=[-15.00001637063555, -67.70910047688926], controls=(ZoomControl(options=['position', 'zoom_in_text'…"
      ]
     },
     "metadata": {},
     "output_type": "display_data"
    }
   ],
   "source": [
    "display(m)"
   ]
  },
  {
   "cell_type": "code",
   "execution_count": 19,
   "id": "15dbb10c-fa74-4496-bc25-4f32acae71f7",
   "metadata": {},
   "outputs": [
    {
     "data": {
      "application/vnd.jupyter.widget-view+json": {
       "model_id": "2ca68529de07485b96b1a03c511ccdb2",
       "version_major": 2,
       "version_minor": 0
      },
      "text/plain": [
       "Sheet(cells=(Cell(column_end=0, column_start=0, numeric_format=None, row_end=74, row_start=0, squeeze_row=Fals…"
      ]
     },
     "execution_count": 19,
     "metadata": {},
     "output_type": "execute_result"
    }
   ],
   "source": [
    "userid = !whoami\n",
    "notes_path = f'../notes/{TILE}-{userid[0]}-notes.csv'\n",
    "if os.path.exists(notes_path):\n",
    "    notes_df = pd.read_csv(notes_path)\n",
    "    notes_df = notes_df.drop(columns=['Unnamed: 0'])\n",
    "    sheet_notes = ipysheet.from_dataframe(notes_df)\n",
    "else:\n",
    "    tile = [' ' for _ in range(75)]\n",
    "    year = [' ' for _ in range(75)]\n",
    "    location = [' ' for _ in range(75)]\n",
    "    note = [' ' for _ in range(75)]\n",
    "    data = {'Tile': tile, 'Year': year, 'Location': location, 'Note': note}\n",
    "    notes_df = pd.DataFrame(data=data)\n",
    "    sheet_notes = ipysheet.from_dataframe(notes_df)\n",
    "sheet_notes.column_width = [3,3,4,10]\n",
    "sheet_notes.layout = widgets.Layout(width='100%',height='100%')\n",
    "sheet_notes"
   ]
  },
  {
   "cell_type": "markdown",
   "id": "59c21f2a-0aa1-4f81-929c-9fce6fa56a51",
   "metadata": {
    "tags": []
   },
   "source": [
    "## Save notes\n",
    "\n",
    "Run this cell to save notes in the current working directory"
   ]
  },
  {
   "cell_type": "code",
   "execution_count": 19,
   "id": "5f13e616-c516-458d-a20f-69f704832c1b",
   "metadata": {},
   "outputs": [],
   "source": [
    "sheet_notes_df = ipysheet.to_dataframe(sheet_notes)\n",
    "sheet_notes_df.to_csv(notes_path)"
   ]
  },
  {
   "cell_type": "markdown",
   "id": "07165f3f-2040-498c-b1fb-9553c5c5a708",
   "metadata": {},
   "source": [
    "### <b>DO NOT RUN THIS CELL UNTIL FINISHED WITH VALIDATION</b>\n",
    "*Note: This will shut down the local tile servers*\n",
    "\n",
    "*Ignore warnings as such:*\n",
    "```\n",
    "Server for key (default) not found.\n",
    "```"
   ]
  },
  {
   "cell_type": "code",
   "execution_count": 18,
   "id": "4286e1d5-027f-4429-9a3f-42b5054dcb83",
   "metadata": {},
   "outputs": [],
   "source": [
    "for path_to_delete in temporary_files_to_delete:\n",
    "    if os.path.exists(path_to_delete):\n",
    "        os.remove(path_to_delete)\n",
    "    temporary_files_to_delete.remove(path_to_delete)\n",
    "\n",
    "mod44w_rfa_v1_water_client.shutdown(True)"
   ]
  },
  {
   "cell_type": "code",
   "execution_count": null,
   "id": "d41f4236-d563-4a04-b55d-369baab8eb1d",
   "metadata": {},
   "outputs": [],
   "source": []
  }
 ],
 "metadata": {
  "kernelspec": {
   "display_name": "Python [conda env:ilab-pytorch]",
   "language": "python",
   "name": "conda-env-ilab-pytorch-py"
  },
  "language_info": {
   "codemirror_mode": {
    "name": "ipython",
    "version": 3
   },
   "file_extension": ".py",
   "mimetype": "text/x-python",
   "name": "python",
   "nbconvert_exporter": "python",
   "pygments_lexer": "ipython3",
   "version": "3.9.15"
  }
 },
 "nbformat": 4,
 "nbformat_minor": 5
}
