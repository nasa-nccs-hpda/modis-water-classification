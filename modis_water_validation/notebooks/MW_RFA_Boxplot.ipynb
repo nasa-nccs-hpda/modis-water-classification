{
 "cells": [
  {
   "cell_type": "markdown",
   "id": "381bd630-ac29-4c63-bea3-c659ea3e9c52",
   "metadata": {
    "tags": []
   },
   "source": [
    "# <b>MODIS Water Notebook - Compare models with Boxplot </b>\n",
    "\n",
    "Purpose: Used to perform statisvalidation of C61 MOD44W products from different models. Compares those products to the previous version, C6 MOD44W.\n"
   ]
  },
  {
   "cell_type": "code",
   "execution_count": 1,
   "id": "f967b39c-6944-4b14-a077-c1ba8f5252a4",
   "metadata": {},
   "outputs": [],
   "source": [
    "from ipyleaflet import Map, Marker, basemaps, ScaleControl, LayersControl\n",
    "from sklearn.metrics import accuracy_score,matthews_corrcoef,f1_score\n",
    "from localtileserver import TileClient, get_leaflet_tile_layer \n",
    "from ipyleaflet import LegendControl, FullScreenControl, Popup\n",
    "import matplotlib.colors as mcolors\n",
    "from ipysheet import from_dataframe\n",
    "import matplotlib.pyplot as plt\n",
    "import ipywidgets as widgets\n",
    "import rioxarray as rxr\n",
    "from osgeo import gdal\n",
    "import seaborn as sns\n",
    "from glob import glob\n",
    "import xarray as xr\n",
    "import pandas as pd\n",
    "import numpy as np\n",
    "import warnings\n",
    "import tempfile\n",
    "import ipysheet\n",
    "import joblib\n",
    "import math\n",
    "import os\n",
    "\n",
    "os.environ['LOCALTILESERVER_CLIENT_PREFIX'] = \\\n",
    "    f\"{os.environ['JUPYTERHUB_SERVICE_PREFIX'].lstrip('/')}/proxy/{{port}}\""
   ]
  },
  {
   "cell_type": "markdown",
   "id": "4df7dddb-a83f-4afd-a3e0-59a68678c513",
   "metadata": {
    "tags": []
   },
   "source": [
    "### Data Parameters"
   ]
  },
  {
   "cell_type": "code",
   "execution_count": 2,
   "id": "223ee994-402b-4639-8813-701994e7c509",
   "metadata": {},
   "outputs": [],
   "source": [
    "TILE = ['h22v01','h12v09','h21v10','h09v05']\n",
    "YEAR = [2019] #,2019]\n",
    "\n",
    "#THIS IS JUST 2006 MAKE SURE TO CHANGE IF WANTED"
   ]
  },
  {
   "cell_type": "code",
   "execution_count": 3,
   "id": "5651edce-a027-455c-9b10-8222f2759c41",
   "metadata": {},
   "outputs": [],
   "source": [
    "BOOTSTRAP = None"
   ]
  },
  {
   "cell_type": "code",
   "execution_count": 4,
   "id": "0bff5393-cca9-4c81-b896-4906037acfc5",
   "metadata": {},
   "outputs": [],
   "source": [
    "target = False\n",
    "match = True\n",
    "eb = True\n",
    "noc = False"
   ]
  },
  {
   "cell_type": "code",
   "execution_count": 5,
   "id": "ced1eeca-6c39-474e-90a2-fb1af25f0ad6",
   "metadata": {
    "tags": []
   },
   "outputs": [],
   "source": [
    "data_dir = '/explore/nobackup/projects/ilab/data/MODIS/PRODUCTION/Burke_MW_RFA/no_outlier_cluster'\n",
    "\n",
    "TAR_PATH = f'{data_dir}/v4_sample' #targeted rfa trained using v4.2.1 data\n",
    "EB_PATH = f'{data_dir}/v2_cluster' #even balance trained rfa\n",
    "MATCH_PATH = f'{data_dir}/v2_cluster_all_land' #random subset match size of even balance rfa\n",
    "NOC_PATH = f'{data_dir}/v2_total' #rfa trained using v2.0.1 data\n",
    "\n",
    "# file_path = f'*{YEAR}*{TILE}*Product.*tif'\n",
    "# all_tile_year_paths = [f'*{Y}*{T}*Product.*tif' for T in TILE for Y in YEAR]\n",
    "# print(all_tile_year_paths)\n",
    "\n",
    "#MOD44W dir paths\n",
    "MOD44_C6_YEAR = YEAR\n",
    "MOD44W_C6_BASEPATH = '/explore/nobackup/people/mcarrol2/MODIS_water/v5_outputs/'\n",
    "# mod44w_c6_path = f'{MOD44W_C6_BASEPATH}/{str(MOD44_C6_YEAR)}/MOD44W_{TILE}_{MOD44_C6_YEAR}_v5.tif'\n",
    "# all_modd44w_paths = [f'{MOD44W_C6_BASEPATH}/{str(Y)}/MOD44W_{T}_{Y}_v5.tif' for T in TILE for Y in YEAR]\n",
    "# print(all_modd44w_paths)"
   ]
  },
  {
   "cell_type": "markdown",
   "id": "fa2e07c3-da15-42d0-9666-47b0ff100b9d",
   "metadata": {
    "tags": []
   },
   "source": [
    "### Statistics"
   ]
  },
  {
   "cell_type": "code",
   "execution_count": 6,
   "id": "6df0f019-51eb-4541-aebf-a3995d31f75b",
   "metadata": {},
   "outputs": [],
   "source": [
    "def data_stats(truth,pred):\n",
    "    \"\"\"\n",
    "    In \n",
    "        product_path (str): Path to the prediction and truth tif files\n",
    "        name (str): Name of the prediction dataset \n",
    "        \n",
    "    \"\"\"\n",
    "    tp = np.where((truth == 1) & (pred == 1), 1, 0)\n",
    "    tn = np.where((truth == 0) & (pred == 0), 1, 0)\n",
    "    fp = np.where((truth == 0) & (pred == 1), 1, 0)\n",
    "    fn = np.where((truth == 1) & (pred == 0), 1, 0)\n",
    "    total = np.count_nonzero(truth == 1) + np.count_nonzero(truth == 0)\n",
    "    \n",
    "    truePositives = np.count_nonzero(tp == 1)\n",
    "    trueNegatives = np.count_nonzero(tn == 1)\n",
    "    falsePositives = np.count_nonzero(fp == 1)\n",
    "    falseNegatives = np.count_nonzero(fn == 1)\n",
    "    accuracy = (truePositives + trueNegatives) / (truePositives + trueNegatives + falsePositives + falseNegatives)\n",
    "    f1 = truePositives / (truePositives + (0.5*(falsePositives + falseNegatives)))\n",
    "    mcc_denom_nosqrt = (truePositives+falsePositives)*(truePositives+falseNegatives)*(trueNegatives+falsePositives)*(trueNegatives+falseNegatives)\n",
    "    mcc_numerator = (truePositives*trueNegatives) - (falsePositives*falseNegatives)\n",
    "    mcc = mcc_numerator/math.sqrt(mcc_denom_nosqrt)\n",
    "\n",
    "    return accuracy,mcc,f1"
   ]
  },
  {
   "cell_type": "code",
   "execution_count": 7,
   "id": "57a99b0b-1e77-4aef-8c90-1aa9d9a84d89",
   "metadata": {},
   "outputs": [
    {
     "name": "stdout",
     "output_type": "stream",
     "text": [
      "CPU times: user 1.06 s, sys: 787 ms, total: 1.85 s\n",
      "Wall time: 1.85 s\n"
     ]
    }
   ],
   "source": [
    "%%time\n",
    "\n",
    "if eb:\n",
    "    eb_boot_acc, eb_boot_mcc, eb_boot_f1 = [], [], []\n",
    "    for T in TILE: \n",
    "        for Y in YEAR:\n",
    "            truth_array = rxr.open_rasterio(glob(f'{MOD44W_C6_BASEPATH}/{str(Y)}/MOD44W_{T}_{Y}_v5.tif')[0]).sel(band=1).data #.ravel()\n",
    "            eb_pred_array = rxr.open_rasterio(glob(f'{EB_PATH}/*{Y}*{T}*Product.*tif')[0]).sel(band=1).data #.ravel()\n",
    "            if BOOTSTRAP is None: \n",
    "                eb_acc,eb_mcc,eb_f1 = data_stats(truth_array,eb_pred_array)\n",
    "                eb_boot_acc.append(eb_acc)\n",
    "                eb_boot_mcc.append(eb_mcc)\n",
    "                eb_boot_f1.append(eb_f1)\n",
    "            else: \n",
    "                total_num = len(truth_array)\n",
    "                small_sample_num = int(len(truth_array)*0.1)\n",
    "                for b in np.arange(BOOTSTRAP):\n",
    "                    x_eb_rand_sample = np.random.choice(total_num,small_sample_num,replace=False)\n",
    "                    y_eb_rand_sample = np.random.choice(total_num,small_sample_num,replace=False)\n",
    "                    subset_eb_truth = truth_array[x_eb_rand_sample] #,y_eb_rand_sample].ravel()\n",
    "                    subset_eb = eb_pred_array[x_eb_rand_sample] #,y_eb_rand_sample].ravel()\n",
    "                    eb_acc,eb_mcc,eb_f1 = data_stats(subset_eb_truth,subset_eb)\n",
    "                    eb_boot_acc.append(eb_acc)\n",
    "                    eb_boot_mcc.append(eb_mcc)\n",
    "                    eb_boot_f1.append(eb_f1)"
   ]
  },
  {
   "cell_type": "code",
   "execution_count": 8,
   "id": "49f604ea-66a8-4f72-9137-0547e388c4d1",
   "metadata": {},
   "outputs": [],
   "source": [
    "if target:\n",
    "    tar_boot_acc, tar_boot_mcc, tar_boot_f1 = [], [], []\n",
    "    for T in TILE: \n",
    "        for Y in YEAR:\n",
    "            truth_array = rxr.open_rasterio(glob(f'{MOD44W_C6_BASEPATH}/{str(Y)}/MOD44W_{T}_{Y}_v5.tif')[0]).sel(band=1).data\n",
    "            tar_pred_array = rxr.open_rasterio(glob(f'{TAR_PATH}/*{Y}*{T}*Product.*tif')[0]).sel(band=1).data\n",
    "            if BOOTSTRAP is None: \n",
    "                tar_acc,tar_mcc,tar_f1 = data_stats(truth_array,tar_pred_array)\n",
    "                tar_boot_acc.append(tar_acc)\n",
    "                tar_boot_mcc.append(tar_mcc)\n",
    "                tar_boot_f1.append(tar_f1)\n",
    "            else: \n",
    "                total_num = len(truth_array)\n",
    "                small_sample_num = int(len(truth_array)*0.1)\n",
    "                for b in np.arange(BOOTSTRAP):\n",
    "                    x_tar_rand_sample = np.random.choice(total_num,small_sample_num,replace=False)\n",
    "                    y_tar_rand_sample = np.random.choice(total_num,small_sample_num,replace=False)\n",
    "                    subset_tar_truth = truth_array[x_tar_rand_sample,y_tar_rand_sample].ravel()\n",
    "                    subset_tar = tar_pred_array[x_tar_rand_sample,y_tar_rand_sample].ravel()\n",
    "                    tar_acc,tar_mcc,tar_f1 = data_stats(subset_tar_truth,subset_tar)                    \n",
    "                    tar_boot_acc.append(tar_acc)\n",
    "                    tar_boot_mcc.append(tar_mcc)\n",
    "                    tar_boot_f1.append(tar_f1)"
   ]
  },
  {
   "cell_type": "code",
   "execution_count": 9,
   "id": "d3bcfa92-063a-4f20-a300-66866885593b",
   "metadata": {},
   "outputs": [],
   "source": [
    "if match: \n",
    "    match_boot_acc, match_boot_mcc, match_boot_f1 = [], [], []\n",
    "    for T in TILE: \n",
    "        for Y in YEAR:\n",
    "            truth_array = rxr.open_rasterio(glob(f'{MOD44W_C6_BASEPATH}/{str(Y)}/MOD44W_{T}_{Y}_v5.tif')[0]).sel(band=1).data\n",
    "            match_pred_array = rxr.open_rasterio(glob(f'{MATCH_PATH}/*{Y}*{T}*Product.*tif')[0]).sel(band=1).data\n",
    "            if BOOTSTRAP is None:\n",
    "                match_acc,match_mcc,match_f1 = data_stats(truth_array,match_pred_array)\n",
    "                match_boot_acc.append(match_acc)\n",
    "                match_boot_mcc.append(match_mcc)\n",
    "                match_boot_f1.append(match_f1)\n",
    "            else: \n",
    "                total_num = len(truth_array)\n",
    "                small_sample_num = int(len(truth_array)*0.1)\n",
    "                for b in np.arange(BOOTSTRAP):\n",
    "                    x_match_rand_sample = np.random.choice(total_num,small_sample_num,replace=False)\n",
    "                    y_match_rand_sample = np.random.choice(total_num,small_sample_num,replace=False)\n",
    "                    subset_match_truth = truth_array[x_match_rand_sample,y_match_rand_sample].ravel()\n",
    "                    subset_match= match_pred_array[x_match_rand_sample,y_match_rand_sample].ravel()\n",
    "                    match_acc,match_mcc,match_f1 = data_stats(subset_match_truth,subset_match)\n",
    "                    match_boot_acc.append(match_acc)\n",
    "                    match_boot_mcc.append(match_mcc)\n",
    "                    match_boot_f1.append(match_f1)"
   ]
  },
  {
   "cell_type": "code",
   "execution_count": 10,
   "id": "51c0b995-156a-44ac-a039-ab974139f539",
   "metadata": {},
   "outputs": [],
   "source": [
    "if noc: \n",
    "    noc_boot_acc, noc_boot_mcc, noc_boot_f1 = [], [], []\n",
    "    for T in TILE: \n",
    "        for Y in YEAR:\n",
    "            truth_array = rxr.open_rasterio(glob(f'{MOD44W_C6_BASEPATH}/{str(Y)}/MOD44W_{T}_{Y}_v5.tif')[0]).sel(band=1).data\n",
    "            noc_pred_array = rxr.open_rasterio(glob(f'{NOC_PATH}/*{Y}*{T}*Product.*tif')[0]).sel(band=1).data\n",
    "            if BOOTSTRAP is None:\n",
    "                noc_acc,noc_mcc,noc_f1 = data_stats(truth_array,noc_pred_array)\n",
    "                noc_boot_acc.append(noc_acc)\n",
    "                noc_boot_mcc.append(noc_mcc)\n",
    "                noc_boot_f1.append(noc_f1)\n",
    "            else:\n",
    "                total_num = len(truth_array)\n",
    "                small_sample_num = int(len(truth_array)*0.1)\n",
    "\n",
    "                for b in np.arange(BOOTSTRAP):\n",
    "                    x_noc_rand_sample = np.random.choice(total_num,small_sample_num,replace=False)\n",
    "                    y_noc_rand_sample = np.random.choice(total_num,small_sample_num,replace=False)\n",
    "                    subset_noc_truth = truth_array[x_noc_rand_sample,y_noc_rand_sample].ravel()\n",
    "                    subset_noc = noc_pred_array[x_noc_rand_sample,y_noc_rand_sample].ravel()\n",
    "                    noc_acc,noc_mcc,noc_f1 = data_stats(subset_noc_truth,subset_noc)\n",
    "                    noc_boot_acc.append(noc_acc)\n",
    "                    noc_boot_mcc.append(noc_mcc)\n",
    "                    noc_boot_f1.append(noc_f1)"
   ]
  },
  {
   "cell_type": "code",
   "execution_count": null,
   "id": "723384a7-2829-4fd5-8ffe-3a20dd2f0978",
   "metadata": {},
   "outputs": [],
   "source": [
    "# acc_dict = {'v2 all': noc_boot_acc, 'v2 cluster': eb_boot_acc, 'v2 rand': match_boot_acc, 'v4': tar_boot_acc} \n",
    "# acc_df = pd.DataFrame(acc_dict)\n",
    "\n",
    "# mcc_dict = {'v2 all': noc_boot_mcc, 'v2 cluster': eb_boot_mcc, 'v2 rand': match_boot_mcc, 'v4': tar_boot_mcc} \n",
    "# mcc_df = pd.DataFrame(mcc_dict)\n",
    "\n",
    "# f1_dict = {'v2 all': noc_boot_f1, 'v2 cluster': eb_boot_f1, 'v2 rand': match_boot_f1, 'v4': tar_boot_f1 } \n",
    "# f1_df = pd.DataFrame(f1_dict)"
   ]
  },
  {
   "cell_type": "markdown",
   "id": "d8859790-f81e-48d7-8906-6ce80b3612c4",
   "metadata": {
    "tags": []
   },
   "source": [
    "### Plots"
   ]
  },
  {
   "cell_type": "code",
   "execution_count": null,
   "id": "0601d656-dc59-44e4-9e39-3f70b9f775ca",
   "metadata": {},
   "outputs": [],
   "source": [
    "# bxpt_file = 'MW_RFA_Statistics_No_P.csv'\n",
    "# df = pd.read_csv(bxpt_file).dropna()\n",
    "# df.var(numeric_only=True)"
   ]
  },
  {
   "cell_type": "code",
   "execution_count": null,
   "id": "5efb3d23-1a9a-4674-9fd0-7974b3dde9cb",
   "metadata": {},
   "outputs": [],
   "source": []
  },
  {
   "cell_type": "code",
   "execution_count": null,
   "id": "6f31b6fb-69f0-4964-b9c5-a97a47b42edd",
   "metadata": {},
   "outputs": [],
   "source": [
    "\n",
    "colors = ['grey','plum','darkorchid','goldenrod'] #,'lightblue','darkblue']\n",
    "models = ['v2 all','v2 cluster','v2 rand','v4'] #,'P Cluster','P Random Match']\n",
    "\n",
    "all_colors = dict(zip(models,colors))\n",
    "\n",
    "fig, axes = plt.subplots(3,1,figsize=(5, 7))\n",
    "plt.subplots_adjust(hspace=0.5)\n",
    "\n",
    "label_size = 7\n",
    "axes[0].tick_params(axis='both', which='major', labelsize=label_size) \n",
    "axes[1].tick_params(axis='both', which='major', labelsize=label_size) \n",
    "axes[2].tick_params(axis='both', which='major', labelsize=label_size) \n",
    "\n",
    "sns.boxplot(data=mcc_df,ax=axes[0],palette=all_colors)\n",
    "sns.boxplot(data=acc_df,ax=axes[1],palette=all_colors)\n",
    "sns.boxplot(data=f1_df,ax=axes[2],palette=all_colors)\n",
    "\n",
    "axes[0].set_title('Matthew Correlation Coefficient',size=15)\n",
    "axes[1].set_title('Accuracy',size=15)\n",
    "axes[2].set_title('F1 Score',size=15)\n",
    "\n",
    "axes[0].set_ylim([0.2,1.1])\n",
    "axes[1].set_ylim([0.2,1.1])\n",
    "axes[2].set_ylim([0.2,1.1])\n",
    "\n",
    "axes[0].yaxis.grid(True)\n",
    "axes[1].yaxis.grid(True)\n",
    "axes[2].yaxis.grid(True)\n",
    "\n",
    "# axes[0].set_xticklabels(axes[0].get_xticklabels(),rotation=10)\n",
    "\n",
    "plt.show()\n"
   ]
  },
  {
   "cell_type": "code",
   "execution_count": null,
   "id": "d41f4236-d563-4a04-b55d-369baab8eb1d",
   "metadata": {},
   "outputs": [],
   "source": []
  }
 ],
 "metadata": {
  "kernelspec": {
   "display_name": "Python [conda env:ilab-pytorch]",
   "language": "python",
   "name": "conda-env-ilab-pytorch-py"
  },
  "language_info": {
   "codemirror_mode": {
    "name": "ipython",
    "version": 3
   },
   "file_extension": ".py",
   "mimetype": "text/x-python",
   "name": "python",
   "nbconvert_exporter": "python",
   "pygments_lexer": "ipython3",
   "version": "3.9.15"
  }
 },
 "nbformat": 4,
 "nbformat_minor": 5
}
