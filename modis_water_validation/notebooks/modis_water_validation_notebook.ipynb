{
 "cells": [
  {
   "cell_type": "markdown",
   "id": "381bd630-ac29-4c63-bea3-c659ea3e9c52",
   "metadata": {
    "tags": []
   },
   "source": [
    "# <b>MODIS Water Validation Notebook</b>\n",
    "\n",
    "Purpose: Used to perform validation of C61 MOD44W products. Compares those products to the previous version, C6 MOD44W.\n",
    "\n",
    "*Note: We are following an incremental development lifecycle. This notebook is the first rendition which fit most of the requirements. Expect incremental releases which continue towards the goal of fully meeting requirements and increasing capabilities of the user.*\n",
    "\n",
    "Installation requirements:\n",
    "\n",
    "```bash\n",
    "pip install localtileserver\n",
    "```\n",
    "\n",
    "TODO:\n",
    "- ipysheet for user to input comments\n",
    "- load layers from toolbar\n",
    "- move everything inside a class to avoid user input\n",
    "\n",
    "Some references:\n",
    "\n",
    "- https://towardsdatascience.com/bring-your-jupyter-notebook-to-life-with-interactive-widgets-bc12e03f0916\n",
    "- https://github.com/giswqs/geodemo/blob/master/geodemo/common.py\n",
    "\n",
    "Version: 4.0.0\n",
    "Date: 07/22/2023\n",
    "\n",
    "*For DSG internal use*"
   ]
  },
  {
   "cell_type": "markdown",
   "id": "1e59d3a7-051b-4375-abaa-6496ae11cec8",
   "metadata": {},
   "source": [
    "### <b> WARNING </b>\n",
    "\n",
    "Do not run all cells at once, doing so will shut down the local tile servers before you, the user, can interact."
   ]
  },
  {
   "cell_type": "markdown",
   "id": "921385fc-c3cd-441d-8fcc-a8d5c38b835d",
   "metadata": {},
   "source": [
    "Uncomment if localtileserver is not installed"
   ]
  },
  {
   "cell_type": "code",
   "execution_count": null,
   "id": "bf200474-01a3-4608-a1aa-a4f65ab106da",
   "metadata": {},
   "outputs": [],
   "source": [
    "# !pip install localtileserver"
   ]
  },
  {
   "cell_type": "code",
   "execution_count": null,
   "id": "d0b0fb30-4519-4f1a-b4d4-cfd700796672",
   "metadata": {},
   "outputs": [],
   "source": [
    "import os\n",
    "import re\n",
    "import json\n",
    "import joblib\n",
    "import tempfile\n",
    "import ipysheet\n",
    "import numpy as np\n",
    "import pandas as pd\n",
    "import rasterio as rio\n",
    "import rioxarray as rxr\n",
    "import xarray as xr\n",
    "import geopandas as gpd\n",
    "import matplotlib.pyplot as plt\n",
    "import matplotlib.colors as mcolors\n",
    "import ipywidgets as widgets\n",
    "import warnings\n",
    "import tempfile\n",
    "\n",
    "from osgeo import gdal\n",
    "from pprint import pprint\n",
    "\n",
    "from glob import glob\n",
    "from ipysheet import from_dataframe\n",
    "from localtileserver import TileClient, get_leaflet_tile_layer, examples\n",
    "from ipyleaflet import Map, Marker, basemaps, ScaleControl, LayersControl, AwesomeIcon\n",
    "from ipyleaflet import LegendControl, FullScreenControl, MarkerCluster, Popup\n",
    "\n",
    "os.environ['LOCALTILESERVER_CLIENT_PREFIX'] = \\\n",
    "    f\"{os.environ['JUPYTERHUB_SERVICE_PREFIX'].lstrip('/')}/proxy/{{port}}\"\n",
    "\n",
    "import localtileserver\n",
    "from localtileserver import get_leaflet_tile_layer, TileClient"
   ]
  },
  {
   "cell_type": "markdown",
   "id": "b13c65fc-dbce-40f8-a318-49d10753620b",
   "metadata": {},
   "source": [
    "## Tile and year selection\n",
    "\n",
    "Choose which tile (see MODIS grid) and which year. Reference the grid image. \n",
    "\n",
    "The `h` followed by two numerical digits represent the <b>horizontal</b> tile ID. Use the column space to determine this ID. \n",
    "\n",
    "The `v` followed by two numerical digits represent the <b>vertical</b> tile ID. Use the row space to determine this ID. \n",
    "\n",
    "For example, the tile that is 9 columns to the right and 5 rows down is `h09v05`.\n",
    "\n",
    "Example:\n",
    "```python\n",
    "TILE = 'h09v05'\n",
    "```\n",
    "\n",
    "![MODIS Grid Overlay](../imgs/modis_overlay.png)"
   ]
  },
  {
   "cell_type": "code",
   "execution_count": null,
   "id": "16dadcfd-a9bd-4ba2-8c2c-9a3dca62e2d4",
   "metadata": {},
   "outputs": [],
   "source": [
    "TILE = 'h13v02'\n",
    "# TILE = 'h12v09'\n",
    "# TILE = 'h21v10'\n",
    "# TILE = 'h09v05'\n",
    "# TILE = 'h30v11'\n",
    "# TILE = 'h28v08'\n",
    "# TILE = 'h11v02'\n",
    "# TILE = 'h16v02'\n",
    "# TILE = 'h17v02'\n",
    "# TILE = 'h22v01'\n",
    "# TILE = 'h27v03'\n",
    "# TILE = 'h18v03'"
   ]
  },
  {
   "cell_type": "markdown",
   "id": "1be8306b-f583-4792-8b5c-d82c4fe2540d",
   "metadata": {},
   "source": [
    "## NOTICE\n",
    "\n",
    "Only 2019 is available :D "
   ]
  },
  {
   "cell_type": "code",
   "execution_count": null,
   "id": "5f706900-e8e6-41c2-aec9-fc14e601cf96",
   "metadata": {},
   "outputs": [],
   "source": [
    "YEAR = 2019"
   ]
  },
  {
   "cell_type": "markdown",
   "id": "443c609a-3add-42f8-8ed8-2d8b365019c7",
   "metadata": {},
   "source": [
    "Shouldn't need to change anything under this "
   ]
  },
  {
   "cell_type": "code",
   "execution_count": null,
   "id": "736e9c05-558a-4eae-9b0a-f299068d1678",
   "metadata": {},
   "outputs": [],
   "source": [
    "MOD44W_C6_BASEPATH = '/explore/nobackup/people/mcarrol2/MODIS_water/v5_outputs/'\n",
    "MOD44W_C61_BASEPATH = '/explore/nobackup/projects/ilab/data/MODIS/PRODUCTION/MODAPS_test3_07202023/MOD44W-LandWaterMask'\n",
    "MOD44W_C61_VERSION = '001'\n",
    "C6_FILE_TYPE = '.tif'\n",
    "C61_FILE_TYPE = '.hdf'\n",
    "\n",
    "TMP_FILE_TYPE = '.tif'\n",
    "\n",
    "HDF_PRESTR = 'HDF4_EOS:EOS_GRID'\n",
    "HDF_POSSTR = 'MOD44W_250m_GRID'\n",
    "\n",
    "SEVEN_CLASS = 'seven_class'\n",
    "WATER_MASK = 'water_mask'\n",
    "WATER_MASK_QA = 'water_mask_QA'\n",
    "\n",
    "if YEAR > 2019:\n",
    "    warnings.warn('Using 2019 C6 MOD44W')\n",
    "    MOD44_C6_YEAR = 2019\n",
    "else:\n",
    "    MOD44_C6_YEAR = YEAR\n",
    "\n",
    "tiles_basemap: str = 'https://mt1.google.com/vt/lyrs=s&x={x}&y={y}&z={z}'\n",
    "water_c6_cmap: list = ['#E3B878', '#2d7d86']\n",
    "water_c61_cmap: list = ['#194d33', '#8ed1fc']\n",
    "seven_class_cmap: list = ['#0057d7', '#e6c9a8', '#d700d5', '#00d7d0', '#d70000', '#9f00c7', '#000AD0', '#000564']\n",
    "# water_qa_cmap: list = ['#FF6900', '#FCB900', '#7BDCB5', '#dd00ff', '#0693E3', '#ff6900', '#EB144C', '#F78DA7', '#9900EF']\n",
    "water_qa_cmap: list = ['#79d2a6', '#ff6900', '#e4efe9']\n",
    "difference_cmap: list = ['#b8174e', '#00e202']\n",
    "water_qa_cmap_dict: dict = {\n",
    "    1: ('High Confidence Water', '#7BDCB5'),# '#7BDCB5'\n",
    "    2: ('Low Confidence Water', '#ee82ee'),\n",
    "    3: ('Low Confidence Land', '#ffe08a'),\n",
    "    4: ('Ocean Mask', '#FCB900'),\n",
    "    5: ('Ocean Mask but no water detected', '#0693E3'),\n",
    "    6: ('Burn Scar (from MCD64A1)', '#FF6900'),\n",
    "    7: ('Urban/Impervious surface', '#EB144C'),\n",
    "    8: ('No water detected, Collection 5 shows water', '#F78DA7'),\n",
    "    9: ('DEM Slope change', '#800080'),\n",
    "}\n",
    "CACHE_DIR = '.cache'\n",
    "os.makedirs(CACHE_DIR, exist_ok=True)"
   ]
  },
  {
   "cell_type": "code",
   "execution_count": null,
   "id": "54cb5eb6-707d-46c1-9478-8b822a04cf60",
   "metadata": {},
   "outputs": [],
   "source": [
    "mod44w_c6_path = os.path.join(MOD44W_C6_BASEPATH, str(MOD44_C6_YEAR), f'MOD44W_{TILE}_{MOD44_C6_YEAR}_v5.tif')\n",
    "if not os.path.exists(mod44w_c6_path):\n",
    "    raise FileNotFoundError(f'Could not find the MOD44W C6 file: {mod44w_c6_path}')"
   ]
  },
  {
   "cell_type": "code",
   "execution_count": null,
   "id": "cd98c53d-e657-428e-8368-1df89b5a1e4f",
   "metadata": {},
   "outputs": [],
   "source": [
    "def parse_qa(qa_array: xr.DataArray):\n",
    "    \"\"\"\n",
    "    Parses QA data array for no-data values and\n",
    "    parses cmap to match present values. Returns\n",
    "    the parsed QA data array and the cmap list.\n",
    "    \"\"\"\n",
    "    values_to_check = (10, 250, 253, 255)\n",
    "    qa_array_parsed = xr.where(qa_array == 0, 0, qa_array)\n",
    "    for value in values_to_check:\n",
    "        qa_array_parsed = xr.where(qa_array == value, 0, qa_array_parsed)\n",
    "    values_present = np.unique(qa_array_parsed.data).tolist()\n",
    "    cmap = []\n",
    "    for i, value_present in enumerate(values_present):\n",
    "        if value_present == 0:\n",
    "            continue\n",
    "        qa_array_parsed = xr.where(qa_array == value_present, i, qa_array_parsed)\n",
    "        cmap.append(water_qa_cmap_dict[value_present])\n",
    "    return qa_array_parsed, cmap\n",
    "    "
   ]
  },
  {
   "cell_type": "code",
   "execution_count": null,
   "id": "d4af4411-e336-486a-af9f-501d08cc20c7",
   "metadata": {},
   "outputs": [],
   "source": [
    "mod44w_c61_regex = os.path.join(MOD44W_C61_BASEPATH,\n",
    "                     str(YEAR),\n",
    "                     '001',\n",
    "                     f'MOD44W.A{YEAR}001.{TILE}.061.*{C61_FILE_TYPE}')\n",
    "\n",
    "mod44w_c61_path = sorted(glob(mod44w_c61_regex))[0]\n",
    "\n",
    "print(mod44w_c61_path)\n",
    "\n",
    "mod44w_c6_data_array = rxr.open_rasterio(mod44w_c6_path)\n",
    "mod44w_c61_dataset = rxr.open_rasterio(mod44w_c61_path)\n",
    "mod44w_c61_data_array = mod44w_c61_dataset[WATER_MASK]\n",
    "\n",
    "mod44w_c61_qa_data_array = mod44w_c61_dataset[WATER_MASK_QA]\n",
    "mod44w_c61_qa_data_array, qa_data_array_cmap = parse_qa(mod44w_c61_qa_data_array)\n",
    "qa_data_cmap_colors_only = [hex_val for qa_type, hex_val in qa_data_array_cmap]\n",
    "\n",
    "mod44w_c61_seven_class_data_array =  mod44w_c61_dataset[SEVEN_CLASS]\n",
    "mod44w_difference_map = mod44w_c6_data_array.astype(np.int16) - mod44w_c61_data_array.data.astype(np.int16)"
   ]
  },
  {
   "cell_type": "code",
   "execution_count": null,
   "id": "08a9532f-2063-45c0-ac06-f6b11f5c05c5",
   "metadata": {},
   "outputs": [],
   "source": [
    "crs = 'PROJCS[\"Sinusoidal\",GEOGCS[\"Sphere\",DATUM[\"Sphere\",SPHEROID[\"Sphere\",6371000,0]],PRIMEM[\"Greenwich\",0],' + \\\n",
    "    'UNIT[\"degree\",0.0174532925199433,AUTHORITY[\"EPSG\",\"9122\"]]],PROJECTION[\"Sinusoidal\"]' + \\\n",
    "    ',PARAMETER[\"longitude_of_center\",0],PARAMETER[\"false_easting\",0],PARAMETER[\"false_northing\",0]' + \\\n",
    "',UNIT[\"metre\",1,AUTHORITY[\"EPSG\",\"9001\"]],AXIS[\"Easting\",EAST],AXIS[\"Northing\",NORTH]]'\n",
    "mod44w_cs_ds = gdal.Open(mod44w_c6_path)\n",
    "transform = mod44w_cs_ds.GetGeoTransform()\n",
    "mod44w_c6_ds = None"
   ]
  },
  {
   "cell_type": "code",
   "execution_count": null,
   "id": "b11b810e-4237-4853-81ad-f3159230a9d0",
   "metadata": {},
   "outputs": [],
   "source": [
    "def open_and_write_temp(data_array, transform, projection, \n",
    "                        year, tile, name = None, files_to_rm = None) -> str:\n",
    "    tmpdir = tempfile.gettempdir()\n",
    "    name_to_use = data_array.name if not name else name\n",
    "    tempfile_name = f'MOD44W.A{year}001.{tile}.061.{name_to_use}.tif'\n",
    "    tempfile_fp = os.path.join(tmpdir, tempfile_name)\n",
    "    if os.path.exists(tempfile_fp):\n",
    "        os.remove(tempfile_fp)\n",
    "    driver = gdal.GetDriverByName('GTiff')\n",
    "    outDs = driver.Create(tempfile_fp, 4800, 4800, \n",
    "                          1, gdal.GDT_Float32, \n",
    "                          options=['COMPRESS=LZW'])\n",
    "    outDs.SetGeoTransform(transform)\n",
    "    outDs.SetProjection(projection)\n",
    "    outBand = outDs.GetRasterBand(1)\n",
    "    outBand.WriteArray(data_array.data[0, :, :])\n",
    "    outBand.SetNoDataValue(250)\n",
    "    outDs.FlushCache()\n",
    "    outDs = None\n",
    "    outBand = None\n",
    "    driver = None\n",
    "    return tempfile_fp"
   ]
  },
  {
   "cell_type": "code",
   "execution_count": null,
   "id": "32a39180-9156-4d22-840c-18f86c3e308a",
   "metadata": {},
   "outputs": [],
   "source": [
    "temporary_files_to_delete = []\n",
    "\n",
    "mod44w_c61_water_mask = open_and_write_temp(mod44w_c61_data_array, transform, crs, YEAR, TILE, name='c61_mask', files_to_rm=temporary_files_to_delete)\n",
    "mod44w_c61_water_mask_qa = open_and_write_temp(mod44w_c61_qa_data_array, transform, crs,  YEAR, TILE, name='qa_mask', files_to_rm= temporary_files_to_delete)\n",
    "mod44w_difference_map = open_and_write_temp(mod44w_difference_map, transform, crs,  YEAR, TILE, name='diff_mask', files_to_rm=temporary_files_to_delete)\n",
    "mod44w_c61_seven_class = open_and_write_temp(mod44w_c61_seven_class_data_array, transform, crs, YEAR, TILE, name='seven_class', files_to_rm=temporary_files_to_delete)"
   ]
  },
  {
   "cell_type": "code",
   "execution_count": null,
   "id": "5f667972-350e-440e-8fb5-a71001599688",
   "metadata": {},
   "outputs": [],
   "source": [
    "mod44w_c6_client = TileClient(mod44w_c6_path)\n",
    "mod44w_c61_water_client = TileClient(mod44w_c61_water_mask)\n",
    "mod44w_c61_water_qa_client = TileClient(mod44w_c61_water_mask_qa)\n",
    "mod44w_difference_client = TileClient(mod44w_difference_map)\n",
    "mod44w_c61_seven_class_client = TileClient(mod44w_c61_seven_class)"
   ]
  },
  {
   "cell_type": "code",
   "execution_count": null,
   "id": "9efbcfa6-dc27-4528-8e10-20a132ef8f8e",
   "metadata": {},
   "outputs": [],
   "source": [
    "mod44w_c6_water_mask_layer = get_leaflet_tile_layer(\n",
    "    mod44w_c6_client, nodata=0, show=False, \n",
    "    vmin=0, vmax=1,\n",
    "    cmap=water_c6_cmap, \n",
    "    name=f'MOD44W C6 Water Mask {YEAR} {TILE}',\n",
    "    max_zoom=20)\n",
    "\n",
    "mod44w_c61_water_mask_layer = get_leaflet_tile_layer(\n",
    "    mod44w_c61_water_client, nodata=0, show=False,\n",
    "    vmin=0, vmax=1,\n",
    "    cmap=water_c61_cmap, \n",
    "    name=f'MOD44W C61 Water Mask {YEAR} {TILE}',\n",
    "    max_zoom=20)\n",
    "\n",
    "qa_num_colors = int(mod44w_c61_qa_data_array.max())\n",
    "mod44w_c61_qa_layer = get_leaflet_tile_layer(\n",
    "    mod44w_c61_water_qa_client, nodata=0,\n",
    "    n_colors=qa_num_colors, show=False,\n",
    "    vmin=1, vmax=qa_num_colors,\n",
    "    cmap=qa_data_cmap_colors_only, \n",
    "    name=f'MOD44W C61 QA Mask {YEAR} {TILE}',\n",
    "    max_zoom=20)\n",
    "\n",
    "mod44w_c61_seven_class_layer = get_leaflet_tile_layer(\n",
    "    mod44w_c61_seven_class_client, nodata=253,\n",
    "    cmap=seven_class_cmap, n_colors=8,\n",
    "    vmin=0, vmax=7,\n",
    "    name=f'MOD44W C61 Seven Class {YEAR} {TILE}',\n",
    "    max_zoom=20)\n",
    "\n",
    "mod44w_diference_layer = get_leaflet_tile_layer(\n",
    "    mod44w_difference_client, nodata=0, show=False,\n",
    "    vmin=-1, vmax=1,\n",
    "    cmap=difference_cmap, \n",
    "    name=f'MOD44W Difference {YEAR} {TILE}',\n",
    "    max_zoom=20)"
   ]
  },
  {
   "cell_type": "code",
   "execution_count": null,
   "id": "f4d68c90-951e-4ed3-820a-0c2c70604aca",
   "metadata": {},
   "outputs": [],
   "source": [
    "legend_dict = {}\n",
    "c61_seven_class_mask_legend_dict = {'Seven Class- Deep Ocean': '#000564', \n",
    "                                    'Seven Class- Moderate ocean': '#000AD0',\n",
    "                                    'Seven Class- Shallow Ocean': '#0057d7',\n",
    "                                    'Seven Class- Deep Inland Water': '#d70000',\n",
    "                                    'Seven Class- Inland Water': '#00d7d0',\n",
    "                                    'Seven Class- Ephemeral Water': '#9f00c7',\n",
    "                                    'Seven Class- Shoreline': '#d700d5',\n",
    "                                    'Seven Class- Land': '#e6c9a8'}\n",
    "\n",
    "c61_qa_mask_legend_dict = {}\n",
    "for qa_type, hex_val in qa_data_array_cmap:\n",
    "    c61_qa_mask_legend_dict['C61 QA '+ qa_type] = hex_val\n",
    "\n",
    "c6_water_mask_legend_dict = {'C6- Water': '#2d7d86'}\n",
    "c61_water_mask_legend_dict = {'C61- Water': '#8ed1fc'}\n",
    "mod44w_difference_legend_dict = {'Difference- C61 ONLY Water': '#b8174e', \n",
    "                                 'Difference- C6 ONLY Water': '#00e202'}\n",
    "legend_dict.update(c61_seven_class_mask_legend_dict)\n",
    "legend_dict.update(c61_qa_mask_legend_dict)\n",
    "legend_dict.update(c6_water_mask_legend_dict)\n",
    "legend_dict.update(c61_water_mask_legend_dict)\n",
    "legend_dict.update(mod44w_difference_legend_dict)\n",
    "\n",
    "c61_seven_class_mask_legend = LegendControl(legend_dict)"
   ]
  },
  {
   "cell_type": "code",
   "execution_count": null,
   "id": "daa3a1a4-8aa9-4dae-a35b-596f9a3654f5",
   "metadata": {},
   "outputs": [],
   "source": [
    "def get_location(cache_dir: str, tile: str, def_location: list) -> list:\n",
    "    cache_fp = os.path.join(cache_dir, f'{tile}.marker.location.sv')\n",
    "    if os.path.exists(cache_fp):\n",
    "        location = joblib.load(cache_fp)\n",
    "    else:\n",
    "        location = def_location\n",
    "    return location\n",
    "\n",
    "def cache_location(tile: str, location: list) -> None:\n",
    "    cache_fp = os.path.join(CACHE_DIR, f'{tile}.marker.location.sv')\n",
    "    output = joblib.dump(location, cache_fp)\n",
    "    return None\n",
    "\n",
    "def initialize_marker(tile: str, location: list, cache_dir: str) -> Marker:\n",
    "    name = 'Location Marker'\n",
    "    title = name\n",
    "    location = get_location(cache_dir, tile, location)\n",
    "    marker = Marker(name=name, title=name, location=location)\n",
    "    return marker\n",
    "\n",
    "def initialize_message(location: list) -> widgets.HTML:\n",
    "    ll_message = widgets.HTML()\n",
    "    ll_message.value = str(location)\n",
    "    return ll_message"
   ]
  },
  {
   "cell_type": "code",
   "execution_count": null,
   "id": "22881153-8620-4d61-9768-fbd7c13bcf81",
   "metadata": {},
   "outputs": [],
   "source": [
    "m = Map(\n",
    "    center=mod44w_c6_client.center(),\n",
    "    zoom=mod44w_c6_client.default_zoom,\n",
    "    basemap=basemaps.Esri.WorldImagery,\n",
    "    scroll_wheel_zoom=True,\n",
    "    keyboard=True,\n",
    "    layout=widgets.Layout(height='600px')\n",
    ")\n",
    "marker_location = mod44w_c6_client.center()\n",
    "marker = initialize_marker(tile=TILE, location=marker_location, cache_dir=CACHE_DIR)\n",
    "latlon_message = initialize_message(marker.location)\n",
    "\n",
    "def handle_click(**kwargs):\n",
    "    latlon_message.value = str(marker.location)\n",
    "    marker.popup = latlon_message\n",
    "    cache_location(tile=TILE, location=marker.location)\n",
    "\n",
    "m.add_layer(marker)\n",
    "marker.on_click(handle_click)\n",
    "m.add_layer(mod44w_c6_water_mask_layer)\n",
    "m.add_layer(mod44w_c61_water_mask_layer)\n",
    "m.add_layer(mod44w_c61_seven_class_layer)\n",
    "m.add_layer(mod44w_c61_qa_layer)\n",
    "m.add_layer(mod44w_diference_layer)\n",
    "m.add_control(c61_seven_class_mask_legend)\n",
    "m.add_control(ScaleControl(position='bottomleft'))\n",
    "m.add_control(LayersControl(position='topright'))\n",
    "m.add_control(FullScreenControl())"
   ]
  },
  {
   "cell_type": "markdown",
   "id": "3b20e0bd-1d12-4b5c-a4fd-7669da8da6ec",
   "metadata": {
    "tags": []
   },
   "source": [
    "## MODIS Water Validation Map Visualization\n",
    "\n",
    "<b>Usage Tips:</b>\n",
    "\n",
    "- ![Layer Control](../imgs/layer_control.png)    Hover over to select and deselect which layers are visible\n",
    "\n",
    "- ![Full Screen Control](../imgs/full_screen.png)    Click for full screen\n",
    "\n",
    "- Use the scroll wheel on the mouse to zoom in and out, or use [+] and [-]\n",
    "\n",
    "The legend shows all layers no matter what's visible but each element is prefixed with which layer it indicates. I.e.: \n",
    "\n",
    "- \"Seven Class-\": MOD44W C61 Seven Class\n",
    "\n",
    "- \"QA-\": MOD44W C61 QA Mask\n",
    "\n",
    "- \"C6-\": MOD44W C6 Water Mask\n",
    "\n",
    "- \"C61-\": MOD44W C61 Water Mask\n",
    "\n",
    "- \"Difference-\": MOD44W Difference"
   ]
  },
  {
   "cell_type": "markdown",
   "id": "dbb84586-3f79-4dc1-86c3-c65c0d249738",
   "metadata": {},
   "source": [
    "### <b> OPTIONAL CELL </b>\n",
    "\n",
    "Uncomment and modify lat/lon then run below cell if you want to relocate the marker to a lat/lon of interest quickly."
   ]
  },
  {
   "cell_type": "code",
   "execution_count": null,
   "id": "1a624ff5-b155-4e07-92b8-3ca8f61bce1c",
   "metadata": {},
   "outputs": [],
   "source": [
    "#marker.location = [39.20565471434283, -112.55767822265626]\n",
    "\n",
    "#marker.location = 35.240011164750484, -108.11508178710938\n",
    "\n",
    "#marker.location = 33.045939492974654, -101.10030878400164\n",
    "\n",
    "#latlon_message.value = str(marker.location)\n",
    "\n",
    "#marker.popup = latlon_message"
   ]
  },
  {
   "cell_type": "code",
   "execution_count": null,
   "id": "aea9e9ba-dbf3-4c63-bd6a-93ce2a81aaa9",
   "metadata": {},
   "outputs": [],
   "source": [
    "display(m)"
   ]
  },
  {
   "cell_type": "code",
   "execution_count": null,
   "id": "15dbb10c-fa74-4496-bc25-4f32acae71f7",
   "metadata": {},
   "outputs": [],
   "source": [
    "userid = !whoami\n",
    "notes_path = f'../notes/{TILE}-{userid[0]}-notes.csv'\n",
    "if os.path.exists(notes_path):\n",
    "    notes_df = pd.read_csv(notes_path)\n",
    "    notes_df = notes_df.drop(columns=['Unnamed: 0'])\n",
    "    sheet_notes = ipysheet.from_dataframe(notes_df)\n",
    "else:\n",
    "    tile = [' ' for _ in range(75)]\n",
    "    year = [' ' for _ in range(75)]\n",
    "    location = [' ' for _ in range(75)]\n",
    "    note = [' ' for _ in range(75)]\n",
    "    data = {'Tile': tile, 'Year': year, 'Location': location, 'Note': note}\n",
    "    notes_df = pd.DataFrame(data=data)\n",
    "    sheet_notes = ipysheet.from_dataframe(notes_df)\n",
    "sheet_notes.column_width = [3,3,4,10]\n",
    "sheet_notes.layout = widgets.Layout(width='100%',height='100%')\n",
    "sheet_notes"
   ]
  },
  {
   "cell_type": "markdown",
   "id": "59c21f2a-0aa1-4f81-929c-9fce6fa56a51",
   "metadata": {
    "tags": []
   },
   "source": [
    "## Save notes\n",
    "\n",
    "Run this cell to save notes in the current working directory"
   ]
  },
  {
   "cell_type": "code",
   "execution_count": null,
   "id": "5f13e616-c516-458d-a20f-69f704832c1b",
   "metadata": {},
   "outputs": [],
   "source": [
    "sheet_notes_df = ipysheet.to_dataframe(sheet_notes)\n",
    "sheet_notes_df.to_csv(notes_path)"
   ]
  },
  {
   "cell_type": "markdown",
   "id": "07165f3f-2040-498c-b1fb-9553c5c5a708",
   "metadata": {},
   "source": [
    "### <b>DO NOT RUN THIS CELL UNTIL FINISHED WITH VALIDATION</b>\n",
    "*Note: This will shut down the local tile servers*\n",
    "\n",
    "*Ignore warnings as such:*\n",
    "```\n",
    "Server for key (default) not found.\n",
    "```"
   ]
  },
  {
   "cell_type": "code",
   "execution_count": null,
   "id": "4286e1d5-027f-4429-9a3f-42b5054dcb83",
   "metadata": {},
   "outputs": [],
   "source": [
    "for path_to_delete in temporary_files_to_delete:\n",
    "    if os.path.exists(path_to_delete):\n",
    "        os.remove(path_to_delete)\n",
    "    temporary_files_to_delete.remove(path_to_delete)\n",
    "\n",
    "mod44w_c6_client.shutdown(True)"
   ]
  },
  {
   "cell_type": "code",
   "execution_count": null,
   "id": "d41f4236-d563-4a04-b55d-369baab8eb1d",
   "metadata": {},
   "outputs": [],
   "source": []
  }
 ],
 "metadata": {
  "kernelspec": {
   "display_name": "ILAB Kernel (Pytorch)",
   "language": "python",
   "name": "pytorch-kernel"
  },
  "language_info": {
   "codemirror_mode": {
    "name": "ipython",
    "version": 3
   },
   "file_extension": ".py",
   "mimetype": "text/x-python",
   "name": "python",
   "nbconvert_exporter": "python",
   "pygments_lexer": "ipython3",
   "version": "3.9.15"
  }
 },
 "nbformat": 4,
 "nbformat_minor": 5
}
