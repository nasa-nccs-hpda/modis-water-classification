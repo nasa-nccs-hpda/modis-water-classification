{
 "cells": [
  {
   "cell_type": "markdown",
   "id": "00cc2500-9bf4-41c6-be88-78037152520b",
   "metadata": {},
   "source": [
    "## This notebook is specifically plotting the error maps "
   ]
  },
  {
   "cell_type": "markdown",
   "id": "b13c65fc-dbce-40f8-a318-49d10753620b",
   "metadata": {},
   "source": [
    "##### Tile and year selection\n",
    "\n",
    "Choose which tile (see MODIS grid) and which year. Reference the grid image. \n",
    "\n",
    "The `h` followed by two numerical digits represent the <b>horizontal</b> tile ID. Use the column space to determine this ID. \n",
    "\n",
    "The `v` followed by two numerical digits represent the <b>vertical</b> tile ID. Use the row space to determine this ID. \n",
    "\n",
    "For example, the tile that is 9 columns to the right and 5 rows down is `h09v05`.\n",
    "\n",
    "Example:\n",
    "```python\n",
    "TILE = 'h09v05'\n",
    "```\n",
    "\n",
    "![MODIS Grid Overlay](../imgs/modis_overlay.png)"
   ]
  },
  {
   "cell_type": "code",
   "execution_count": 1,
   "id": "bf200474-01a3-4608-a1aa-a4f65ab106da",
   "metadata": {},
   "outputs": [],
   "source": [
    "# !pip install localtileserver"
   ]
  },
  {
   "cell_type": "code",
   "execution_count": 2,
   "id": "d0b0fb30-4519-4f1a-b4d4-cfd700796672",
   "metadata": {},
   "outputs": [],
   "source": [
    "from ipyleaflet import Map, Marker, basemaps, ScaleControl, LayersControl\n",
    "from localtileserver import TileClient, get_leaflet_tile_layer \n",
    "from ipyleaflet import LegendControl, FullScreenControl, Popup\n",
    "import matplotlib.colors as mcolors\n",
    "from ipysheet import from_dataframe\n",
    "import matplotlib.pyplot as plt\n",
    "import ipywidgets as widgets\n",
    "import rioxarray as rxr\n",
    "from osgeo import gdal\n",
    "from glob import glob\n",
    "import seaborn as sns\n",
    "import pyarrow as pa\n",
    "import xarray as xr\n",
    "import numpy as np\n",
    "import tempfile\n",
    "import ipysheet\n",
    "import warnings\n",
    "import joblib\n",
    "import os\n",
    "\n",
    "\n",
    "os.environ['LOCALTILESERVER_CLIENT_PREFIX'] = \\\n",
    "    f\"{os.environ['JUPYTERHUB_SERVICE_PREFIX'].lstrip('/')}/proxy/{{port}}\""
   ]
  },
  {
   "cell_type": "markdown",
   "id": "d796fa85-e401-49e6-b305-d544545dfa43",
   "metadata": {
    "tags": []
   },
   "source": [
    "### Data Parameters"
   ]
  },
  {
   "cell_type": "code",
   "execution_count": 3,
   "id": "16dadcfd-a9bd-4ba2-8c2c-9a3dca62e2d4",
   "metadata": {},
   "outputs": [],
   "source": [
    "TILE = 'h12v09'\n",
    "# TILE = 'h22v01'\n",
    "# TILE = 'h21v10'\n",
    "# TILE = 'h09v05'"
   ]
  },
  {
   "cell_type": "code",
   "execution_count": 4,
   "id": "6ed159ab-c0ab-4d0e-afa6-0010ce436ea3",
   "metadata": {},
   "outputs": [],
   "source": [
    "YEAR = 2019"
   ]
  },
  {
   "cell_type": "code",
   "execution_count": 5,
   "id": "a5a05bd1-5691-453b-bdc5-c0dc15d043ab",
   "metadata": {},
   "outputs": [],
   "source": [
    "target = False #True\n",
    "match = False\n",
    "noc = False #True\n",
    "eb = True #True"
   ]
  },
  {
   "cell_type": "code",
   "execution_count": 11,
   "id": "bd7cb9a5-2f7b-42b5-b027-396e7adf7d9d",
   "metadata": {
    "tags": []
   },
   "outputs": [
    {
     "name": "stdout",
     "output_type": "stream",
     "text": [
      "/explore/nobackup/people/mcarrol2/MODIS_water/v5_outputs//2019/MOD44W_h12v09_2019_v5.tif\n"
     ]
    }
   ],
   "source": [
    "############\n",
    "#Directory Paths\n",
    "############\n",
    "#RFA dir paths\n",
    "\n",
    "data_dir = '/explore/nobackup/projects/ilab/data/MODIS/PRODUCTION/Burke_MW_RFA'\n",
    "\n",
    "outlier_pts_dir = f'{data_dir}/no_outlier_pts'\n",
    "outlier_cluster_dir = f'{data_dir}/no_outlier_cluster'\n",
    "\n",
    "clus_TAR_PATH = f'{outlier_cluster_dir}/v4_sample' #targeted rfa trained using v4.2.1 data\n",
    "clus_EB_PATH = f'{outlier_cluster_dir}/v2_cluster' #even balance trained rfa\n",
    "clus_MATCH_PATH = f'{outlier_cluster_dir}/v2_match' #random subset match size of even balance rfa\n",
    "clus_NOC_PATH = f'{outlier_cluster_dir}/v2_total' #rfa trained using v2.0.1 data\n",
    "\n",
    "pts_TAR_PATH = f'{outlier_pts_dir}/v4_sample' #targeted rfa trained using v4.2.1 data\n",
    "pts_EB_PATH = f'{outlier_cluster_dir}/v2_cluster_all_land' #even balance trained rfa\n",
    "pts_MATCH_PATH = f'{outlier_pts_dir}/v2_match' #random subset match size of even balance rfa\n",
    "pts_NOC_PATH = f'{outlier_pts_dir}/v2_total' #rfa trained using v2.0.1 data\n",
    "\n",
    "\n",
    "#C6 dir paths\n",
    "MOD44W_C6_BASEPATH = '/explore/nobackup/people/mcarrol2/MODIS_water/v5_outputs/'\n",
    "CACHE_DIR = '.cache'\n",
    "os.makedirs(CACHE_DIR, exist_ok=True)\n",
    "\n",
    "############\n",
    "#Specific File Paths\n",
    "############\n",
    "#RFA file paths\n",
    "file_qa_path = f'*{YEAR}*{TILE}*ProductQA.*tif'\n",
    "file_path = f'*{YEAR}*{TILE}*Product.*tif'\n",
    "file_sumobs_path = f'*{YEAR}*{TILE}*SumWater*tif'\n",
    "file_ogmask_path = f'*{YEAR}*{TILE}*-Mask*tif'\n",
    "#C6 file paths\n",
    "mod44w_c6_path = f'{MOD44W_C6_BASEPATH}/{str(YEAR)}/MOD44W_{TILE}_{YEAR}_v5.tif'\n",
    "print(mod44w_c6_path)\n",
    "if not os.path.exists(mod44w_c6_path):\n",
    "    raise FileNotFoundError(f'Could not find the MOD44W C6 file: {mod44w_c6_path}')\n",
    "\n",
    "############\n",
    "#CMAPS and legend\n",
    "############\n",
    "water_c6_cmap: list = [mcolors.cnames['white'], mcolors.cnames['white']]\n",
    "water_rfa_qa_cmap: list = ['#ee82ee', '#FCB900', '#FF6900', '#800080']\n",
    "qa_water_legend_dict = {\n",
    "    'QA- Perm Water Flipped L->W': '#ee82ee', \n",
    "    'QA- Ocean Mask L->W': '#FCB900',\n",
    "    'QA- Burn Scar W->L': '#FF6900',\n",
    "    'QA- DEM Slope Change W->L': '#800080'}\n",
    "\n",
    "\n",
    "############\n",
    "#Geotransform parameters\n",
    "############\n",
    "crs = 'PROJCS[\"Sinusoidal\",GEOGCS[\"Sphere\",DATUM[\"Sphere\",SPHEROID[\"Sphere\",6371000,0]],PRIMEM[\"Greenwich\",0],' + \\\n",
    "    'UNIT[\"degree\",0.0174532925199433,AUTHORITY[\"EPSG\",\"9122\"]]],PROJECTION[\"Sinusoidal\"]' + \\\n",
    "    ',PARAMETER[\"longitude_of_center\",0],PARAMETER[\"false_easting\",0],PARAMETER[\"false_northing\",0]' + \\\n",
    "    ',UNIT[\"metre\",1,AUTHORITY[\"EPSG\",\"9001\"]],AXIS[\"Easting\",EAST],AXIS[\"Northing\",NORTH]]'\n",
    "mod44w_cs_ds = gdal.Open(mod44w_c6_path)\n",
    "transform = mod44w_cs_ds.GetGeoTransform()\n",
    "\n",
    "############\n",
    "#KWARGS\n",
    "############\n",
    "temporary_files = []\n",
    "rfa_kwargs = {'nodata':0,'show':False,'vmin':0,'vmax':1,'max_zoom':20}\n",
    "diff_kwargs = {'nodata':0,'show':False,'vmin':-1,'vmax':1,'max_zoom':20}\n",
    "obs_kwargs = {'nodata':0,'show':False,'vmin':0,'vmax':365,'max_zoom':20}  \n",
    "pw_kwargs = {'nodata':0,'show':False,'vmin':1,'vmax':4,'max_zoom':20}  \n",
    "transform_kwargs = {'transform':transform, 'projection':crs, 'year':YEAR, \n",
    "                        'tile':TILE, 'files_to_rm':temporary_files}"
   ]
  },
  {
   "cell_type": "markdown",
   "id": "b4bb7229-e76c-431b-a807-3a980e615639",
   "metadata": {
    "tags": []
   },
   "source": [
    "### Plots"
   ]
  },
  {
   "cell_type": "markdown",
   "id": "dd422c40-c51f-4b82-ac63-7778f9e1d93f",
   "metadata": {
    "tags": []
   },
   "source": [
    "#### Functions"
   ]
  },
  {
   "cell_type": "code",
   "execution_count": 7,
   "id": "06b8f63f-d2f6-4e6e-be9f-e05228aec682",
   "metadata": {},
   "outputs": [],
   "source": [
    "def parse_qa(qa_array):\n",
    "    qa_array_parsed = xr.where(qa_array == 0, 0, -1)\n",
    "    qa_array_parsed = xr.where(qa_array == 4, 1, qa_array_parsed)\n",
    "    qa_array_parsed = xr.where(qa_array == 6, 2, qa_array_parsed)\n",
    "    qa_array_parsed = xr.where(qa_array == 9, 3, qa_array_parsed)\n",
    "    return qa_array_parsed\n",
    "\n",
    "def parse_fix_qa(qa_array):\n",
    "    qa_array_parsed = xr.where(qa_array == 2, 1, 0)\n",
    "    qa_array_parsed = xr.where(qa_array == 4, 2, qa_array_parsed)\n",
    "    qa_array_parsed = xr.where(qa_array == 6, 3, qa_array_parsed)\n",
    "    qa_array_parsed = xr.where(qa_array == 9, 4, qa_array_parsed)\n",
    "    return qa_array_parsed\n",
    "\n",
    "def open_and_write_temp(data_array, transform, projection, \n",
    "    year, tile, name = None, files_to_rm = None) -> str:\n",
    "    tmpdir = tempfile.gettempdir()\n",
    "    name_to_use = data_array.name if not name else name\n",
    "    tempfile_name = f'MOD44W.A{year}001.{tile}.061.{name_to_use}.tif'\n",
    "    tempfile_fp = os.path.join(tmpdir, tempfile_name)\n",
    "    # print(glob(tempfile_fp))\n",
    "    if os.path.exists(tempfile_fp): \n",
    "        os.remove(tempfile_fp)\n",
    "    tempfile_fp = os.path.join(tmpdir, tempfile_name)\n",
    "    print(tempfile_fp)\n",
    "    driver = gdal.GetDriverByName('GTiff')\n",
    "    outDs = driver.Create(tempfile_fp, 4800, 4800, \n",
    "                          1, gdal.GDT_Float32, \n",
    "                          options=['COMPRESS=LZW'])\n",
    "    outDs.SetGeoTransform(transform)\n",
    "    outDs.SetProjection(projection)\n",
    "    outBand = outDs.GetRasterBand(1)\n",
    "    try:\n",
    "        outBand.WriteArray(data_array.data[0, :, :])\n",
    "    except:\n",
    "        outBand.WriteArray(data_array[0, :, :])\n",
    "    outBand.SetNoDataValue(250)\n",
    "    outDs.FlushCache()\n",
    "    outDs = None\n",
    "    outBand = None\n",
    "    driver = None\n",
    "    return tempfile_fp\n",
    "\n",
    "def get_location(cache_dir: str, tile: str, def_location: list) -> list:\n",
    "    cache_fp = os.path.join(cache_dir, f'{tile}.marker.location.sv')\n",
    "    if os.path.exists(cache_fp):\n",
    "        location = joblib.load(cache_fp)\n",
    "    else:\n",
    "        location = def_location\n",
    "    return location\n",
    "\n",
    "def cache_location(tile: str, location: list) -> None:\n",
    "    cache_fp = os.path.join(CACHE_DIR, f'{tile}.marker.location.sv')\n",
    "    output = joblib.dump(location, cache_fp)\n",
    "    return None\n",
    "\n",
    "def initialize_marker(tile: str, location: list, cache_dir: str) -> Marker:\n",
    "    name = 'Location Marker'\n",
    "    title = name\n",
    "    location = get_location(cache_dir, tile, location)\n",
    "    marker = Marker(name=name, title=name, location=location)\n",
    "    return marker\n",
    "\n",
    "def initialize_message(location: list) -> widgets.HTML:\n",
    "    ll_message = widgets.HTML()\n",
    "    ll_message.value = str(location)\n",
    "    return ll_message"
   ]
  },
  {
   "cell_type": "code",
   "execution_count": 8,
   "id": "ae4696a4-1480-463c-876a-48bb38f0aa36",
   "metadata": {},
   "outputs": [],
   "source": [
    "def data_plot(product_path, legend_name, error_path, data_color):\n",
    "    \"\"\"\n",
    "    In \n",
    "        product_path (str): path to the tif rf prediction files\n",
    "        legend_name (str): name of the product that is plotted\n",
    "        error (str) : path to the eror file\n",
    "        data_color (str): the cmap color that the data will be plotted in\n",
    "        \n",
    "    \n",
    "    Returns\n",
    "        rfa_water_mask_layer (leaflet_tile_layer): Map layer of the RFA Product \n",
    "        rfa_legend_dict (dict): Dictionary of the RFA Product cmap\n",
    "        \n",
    "    \"\"\"\n",
    "    \n",
    "    data_array = rxr.open_rasterio(sorted(glob(product_path))[0])\n",
    "    data_qa_file = open_and_write_temp(data_array, name=f'{legend_name}_mask', **transform_kwargs)\n",
    "    data_qa_array = rxr.open_rasterio(data_qa_file)\n",
    "    \n",
    "    if error_path is None: \n",
    "        tile_name = f'{legend_name}'\n",
    "        tile_cmap = [mcolors.cnames[data_color], mcolors.cnames[data_color]]\n",
    "        data_client = TileClient(data_qa_file)\n",
    "        data_layer = get_leaflet_tile_layer(data_client,                         \n",
    "            cmap=tile_cmap, name=tile_name, **rfa_kwargs)\n",
    "        return data_layer\n",
    "    \n",
    "    mod44w_array = rxr.open_rasterio(sorted(glob(error_path))[0])\n",
    "    \n",
    "    diff_array = data_qa_array.data-mod44w_array.data\n",
    "    diff_qa_file = open_and_write_temp(diff_array, name=f'{legend_name}_diff_mask', **transform_kwargs)    \n",
    "    diff_client = TileClient(diff_qa_file)\n",
    "    \n",
    "    cm = [mcolors.cnames['white'],mcolors.cnames['white'],mcolors.cnames[data_color]]\n",
    "    \n",
    "    diff_layer = get_leaflet_tile_layer(\n",
    "            diff_client, cmap=cm,\n",
    "            name=f'{legend_name}', **diff_kwargs)\n",
    "    return diff_layer"
   ]
  },
  {
   "cell_type": "markdown",
   "id": "90ff3a3b-1fe3-4f62-b6c1-51b610edc64d",
   "metadata": {
    "tags": []
   },
   "source": [
    "#### Using Functions"
   ]
  },
  {
   "cell_type": "code",
   "execution_count": 9,
   "id": "f796e682-9c9f-4015-b0d3-e68aa9bcf99d",
   "metadata": {},
   "outputs": [],
   "source": [
    "#c6 data\n",
    "c6_client = TileClient(mod44w_c6_path)\n",
    "c6_water_mask_layer = get_leaflet_tile_layer( c6_client, cmap=water_c6_cmap, name=f'C6', **rfa_kwargs)\n",
    "c6_legend_dict = {'C6': mcolors.cnames['blue']}"
   ]
  },
  {
   "cell_type": "code",
   "execution_count": 12,
   "id": "930d9b5a-9820-4fe0-a8f8-a59ef0cbd232",
   "metadata": {
    "tags": []
   },
   "outputs": [
    {
     "name": "stdout",
     "output_type": "stream",
     "text": [
      "/tmp/MOD44W.A2019001.h12v09.061.Cluster_mask.tif\n",
      "/tmp/MOD44W.A2019001.h12v09.061.EB Pts_mask.tif\n"
     ]
    }
   ],
   "source": [
    "\n",
    "if target: \n",
    "    tar_diff_layer = data_plot(f'{out_TAR_PATH}/{file_path}','v421',mod44w_c6_path,'blue') #'goldenrod')\n",
    "    nooutp_tar = data_plot(f'{no_out_TAR_PATH}/{file_path}','other v421',mod44w_c6_path,'pink') #'\n",
    "if eb: \n",
    "    # eb_diff_layer = data_plot(f'{clus_EB_PATH}/{file_path}','Cluster Diff', mod44w_c6_path,'blue') #'plum')\n",
    "    eb_layer = data_plot(f'{clus_EB_PATH}/{file_path}','Cluster', None,'plum')\n",
    "    eb_pts = data_plot(f'{pts_EB_PATH}/{file_path}','EB Pts',None,'yellow') #'\n",
    "if match:\n",
    "    # mat_diff_layer = data_plot(f'{clus_MATCH_PATH}/{file_path}','Match',mod44w_c6_path,'blue') #'darkorchid')\n",
    "    mat_diff_layer = data_plot(f'{clus_MATCH_PATH}/{file_path}','Match',None,'blue') #'darkorchid')\n",
    "    mat_pts = data_plot(f'{pts_MATCH_PATH}/{file_path}','Match Pts',None,'orange') #'darkorchid')\n",
    "if noc:  \n",
    "    noc_diff_layer = data_plot(f'{out_NOC_PATH}/{file_path}','v201',mod44w_c6_path,'blue') #'black')\n",
    "    nooutp_noc = data_plot(f'{no_out_NOC_PATH}/{file_path}','other v201',mod44w_c6_path,'pink') #'\n",
    "    "
   ]
  },
  {
   "cell_type": "code",
   "execution_count": 13,
   "id": "0674fe99-8ba5-45b8-af02-e69cc15d8be3",
   "metadata": {
    "tags": []
   },
   "outputs": [],
   "source": [
    "#########\n",
    "#Setup map\n",
    "#########\n",
    "m = Map(\n",
    "    center=c6_client.center(),\n",
    "    zoom=c6_client.default_zoom,\n",
    "    basemap=basemaps.Esri.WorldImagery,\n",
    "    scroll_wheel_zoom=True,\n",
    "    keyboard=True,\n",
    "    layout=widgets.Layout(height='600px')\n",
    ")\n",
    "marker_location = c6_client.center()\n",
    "marker = initialize_marker(tile=TILE, location=marker_location, cache_dir=CACHE_DIR)\n",
    "latlon_message = initialize_message(marker.location)\n",
    "\n",
    "def handle_click(**kwargs):\n",
    "    latlon_message.value = str(marker.location)\n",
    "    marker.popup = latlon_message\n",
    "    cache_location(tile=TILE, location=marker.location)\n",
    "\n",
    "# m.add_layer(marker)\n",
    "\n",
    "if target:\n",
    "    m.add_layer(nooutp_tar)\n",
    "    m.add_layer(tar_diff_layer)\n",
    "    \n",
    "if match: \n",
    "    m.add_layer(mat_pts)\n",
    "    m.add_layer(mat_diff_layer)\n",
    "\n",
    "if noc:\n",
    "    m.add_layer(nooutp_noc)\n",
    "    m.add_layer(noc_diff_layer)\n",
    "    \n",
    "if eb:\n",
    "    # m.add_layer(eb_diff_layer)\n",
    "    m.add_layer(eb_pts)\n",
    "    m.add_layer(eb_layer)\n",
    "    \n",
    "# m.add_layer(c6_water_mask_layer)\n",
    "    \n",
    "marker.on_click(handle_click)\n",
    "# m.add_control(legend)\n",
    "m.add_control(ScaleControl(position='bottomleft'))\n",
    "m.add_control(LayersControl(position='topright'))\n",
    "m.add_control(FullScreenControl())"
   ]
  },
  {
   "cell_type": "code",
   "execution_count": 14,
   "id": "aea9e9ba-dbf3-4c63-bd6a-93ce2a81aaa9",
   "metadata": {
    "tags": []
   },
   "outputs": [
    {
     "data": {
      "application/vnd.jupyter.widget-view+json": {
       "model_id": "3d3c1072a11d4c14a5f4a44237b9840b",
       "version_major": 2,
       "version_minor": 0
      },
      "text/plain": [
       "Map(center=[-5.000005456878516, -55.46285991047675], controls=(ZoomControl(options=['position', 'zoom_in_text'…"
      ]
     },
     "metadata": {},
     "output_type": "display_data"
    }
   ],
   "source": [
    "display(m)"
   ]
  },
  {
   "cell_type": "code",
   "execution_count": null,
   "id": "2b9dcbbe-c3e2-428f-8821-2ffbf2c09975",
   "metadata": {},
   "outputs": [],
   "source": []
  }
 ],
 "metadata": {
  "kernelspec": {
   "display_name": "Python [conda env:ilab-pytorch]",
   "language": "python",
   "name": "conda-env-ilab-pytorch-py"
  },
  "language_info": {
   "codemirror_mode": {
    "name": "ipython",
    "version": 3
   },
   "file_extension": ".py",
   "mimetype": "text/x-python",
   "name": "python",
   "nbconvert_exporter": "python",
   "pygments_lexer": "ipython3",
   "version": "3.9.15"
  }
 },
 "nbformat": 4,
 "nbformat_minor": 5
}
