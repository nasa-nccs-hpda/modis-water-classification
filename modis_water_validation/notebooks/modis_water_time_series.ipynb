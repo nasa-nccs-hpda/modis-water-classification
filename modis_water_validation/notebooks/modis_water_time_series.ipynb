{
 "cells": [
  {
   "cell_type": "code",
   "execution_count": 1,
   "id": "2d36fd3d-d2ec-4973-b0ce-1d5d776c11aa",
   "metadata": {},
   "outputs": [],
   "source": [
    "%load_ext autoreload\n",
    "%autoreload 2"
   ]
  },
  {
   "cell_type": "code",
   "execution_count": 2,
   "id": "7b3daac0-a9b7-4951-9caa-c5ac48a42533",
   "metadata": {},
   "outputs": [],
   "source": [
    "import ipyleaflet\n",
    "import ipywidgets as widgets"
   ]
  },
  {
   "cell_type": "code",
   "execution_count": 3,
   "id": "8cc721cc-0480-420a-baf9-810b38fb457d",
   "metadata": {},
   "outputs": [],
   "source": [
    "import os\n",
    "\n",
    "os.environ['LOCALTILESERVER_CLIENT_PREFIX'] = \\\n",
    "    f\"{os.environ['JUPYTERHUB_SERVICE_PREFIX'].lstrip('/')}/proxy/{{port}}\"\n",
    "\n",
    "import sys\n",
    "\n",
    "sys.path.append('../model')\n",
    "\n",
    "import modis_production_validation_nb as prod_validation_nb\n",
    "import utils"
   ]
  },
  {
   "cell_type": "code",
   "execution_count": 4,
   "id": "a442b1c2-86e1-4473-bfc5-eb8017b35a1d",
   "metadata": {},
   "outputs": [],
   "source": [
    "tile: str = 'h09v05'"
   ]
  },
  {
   "cell_type": "code",
   "execution_count": 5,
   "id": "7ff94633-ebdd-4b3f-80d9-b8d8030a32ab",
   "metadata": {},
   "outputs": [
    {
     "data": {
      "text/html": [
       "<style>\n",
       ".leaflet-widgetcontrol { box-shadow: none; }\n",
       ".leaflet-right .leaflet-widgetcontrol { padding: 2px; }\n",
       ".leaflet-popup-content { width:auto !important; min-width: 220px;}\n",
       ".widget-radio-box { flex-direction: row;}\n",
       ".widget-radio-box input { margin: auto 4px auto 12px;}\n",
       "</style>\n"
      ],
      "text/plain": [
       "<IPython.core.display.HTML object>"
      ]
     },
     "metadata": {},
     "output_type": "display_data"
    }
   ],
   "source": [
    "%%html\n",
    "<style>\n",
    ".leaflet-widgetcontrol { box-shadow: none; }\n",
    ".leaflet-right .leaflet-widgetcontrol { padding: 2px; }\n",
    ".leaflet-popup-content { width:auto !important; min-width: 220px;}\n",
    ".widget-radio-box { flex-direction: row;}\n",
    ".widget-radio-box input { margin: auto 4px auto 12px;}\n",
    "</style>"
   ]
  },
  {
   "cell_type": "markdown",
   "id": "3e34ef80-e8c8-45c5-8cf8-2aae2feeb649",
   "metadata": {},
   "source": [
    "\n",
    "## MODIS Water C6.1 Production Time Series Viewer\n",
    "\n",
    "1. Run the below cell to render the notebook\n",
    "2. Use the mouse scroll wheel or the [+/-] buttons on the map to zoom in and out\n",
    "3. Click on a pixel of the visualized water mask\n",
    "- A time-series should pop up showing the prediction history for that pixel\n",
    "- You can press 'Esc' on keyboard to exit the time-series\n",
    "- Repeat on desired pixels (clicking without Esc will close the current time-series)\n",
    "4. The slider in the bottom right will slide through the time-series of rasters.\n",
    "5. The date picker on the bottom left will change the MODIS imagery time to that day (or within the closest 8-day composite)\n",
    "\n"
   ]
  },
  {
   "cell_type": "code",
   "execution_count": 6,
   "id": "14f99821-62f9-43b3-ab8d-b93943a94b66",
   "metadata": {},
   "outputs": [],
   "source": [
    "m, files_to_rm = prod_validation_nb.render(tile)"
   ]
  },
  {
   "cell_type": "code",
   "execution_count": 7,
   "id": "9415996f-966a-4edd-a2f6-bb2de75df366",
   "metadata": {},
   "outputs": [
    {
     "data": {
      "application/vnd.jupyter.widget-view+json": {
       "model_id": "34070d7130a04b078e5a8f42e13583dd",
       "version_major": 2,
       "version_minor": 0
      },
      "text/plain": [
       "Map(center=[38.128, 2.588], controls=(ZoomControl(options=['position', 'zoom_in_text', 'zoom_in_title', 'zoom_…"
      ]
     },
     "metadata": {},
     "output_type": "display_data"
    }
   ],
   "source": [
    "display(m)"
   ]
  },
  {
   "cell_type": "markdown",
   "id": "1164ff45-9332-4fec-b989-c77f75b2245c",
   "metadata": {},
   "source": [
    "### !!! Do not run until after done. Will delete temp files."
   ]
  },
  {
   "cell_type": "code",
   "execution_count": null,
   "id": "b7c94e58-4478-4bd6-b556-58132816117f",
   "metadata": {},
   "outputs": [],
   "source": [
    "utils.cleanup(files_to_rm)"
   ]
  },
  {
   "cell_type": "code",
   "execution_count": null,
   "id": "2b1dab54-ffa6-4703-872c-ea30a8e9f5d9",
   "metadata": {},
   "outputs": [],
   "source": []
  }
 ],
 "metadata": {
  "kernelspec": {
   "display_name": "Python [conda env:ilab-pytorch]",
   "language": "python",
   "name": "conda-env-ilab-pytorch-py"
  },
  "language_info": {
   "codemirror_mode": {
    "name": "ipython",
    "version": 3
   },
   "file_extension": ".py",
   "mimetype": "text/x-python",
   "name": "python",
   "nbconvert_exporter": "python",
   "pygments_lexer": "ipython3",
   "version": "3.9.15"
  }
 },
 "nbformat": 4,
 "nbformat_minor": 5
}
