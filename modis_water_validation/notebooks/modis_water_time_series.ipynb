{
 "cells": [
  {
   "cell_type": "code",
   "execution_count": null,
   "id": "2d36fd3d-d2ec-4973-b0ce-1d5d776c11aa",
   "metadata": {},
   "outputs": [],
   "source": [
    "%load_ext autoreload\n",
    "%autoreload 2"
   ]
  },
  {
   "cell_type": "code",
   "execution_count": null,
   "id": "7b3daac0-a9b7-4951-9caa-c5ac48a42533",
   "metadata": {},
   "outputs": [],
   "source": [
    "import ipyleaflet\n",
    "import ipywidgets as widgets"
   ]
  },
  {
   "cell_type": "code",
   "execution_count": null,
   "id": "8cc721cc-0480-420a-baf9-810b38fb457d",
   "metadata": {},
   "outputs": [],
   "source": [
    "import sys\n",
    "\n",
    "sys.path.append('../model')\n",
    "\n",
    "import modis_production_validation_nb as prod_validation_nb"
   ]
  },
  {
   "cell_type": "code",
   "execution_count": null,
   "id": "a442b1c2-86e1-4473-bfc5-eb8017b35a1d",
   "metadata": {},
   "outputs": [],
   "source": [
    "tile: str = 'h09v05'"
   ]
  },
  {
   "cell_type": "code",
   "execution_count": null,
   "id": "7ff94633-ebdd-4b3f-80d9-b8d8030a32ab",
   "metadata": {},
   "outputs": [],
   "source": [
    "%%html\n",
    "<style>\n",
    ".leaflet-widgetcontrol { box-shadow: none; }\n",
    ".leaflet-right .leaflet-widgetcontrol { padding: 2px; }\n",
    ".leaflet-popup-content { width:auto !important; min-width: 220px;}\n",
    ".widget-radio-box { flex-direction: row;}\n",
    ".widget-radio-box input { margin: auto 4px auto 12px;}\n",
    "</style>"
   ]
  },
  {
   "cell_type": "code",
   "execution_count": null,
   "id": "e79d8e1d-b401-4405-be1c-4771d2f7cec6",
   "metadata": {},
   "outputs": [],
   "source": [
    "prod_validation_nb.render(tile)"
   ]
  }
 ],
 "metadata": {
  "kernelspec": {
   "display_name": "Python [conda env:ilab-pytorch]",
   "language": "python",
   "name": "conda-env-ilab-pytorch-py"
  },
  "language_info": {
   "codemirror_mode": {
    "name": "ipython",
    "version": 3
   },
   "file_extension": ".py",
   "mimetype": "text/x-python",
   "name": "python",
   "nbconvert_exporter": "python",
   "pygments_lexer": "ipython3",
   "version": "3.9.15"
  }
 },
 "nbformat": 4,
 "nbformat_minor": 5
}
