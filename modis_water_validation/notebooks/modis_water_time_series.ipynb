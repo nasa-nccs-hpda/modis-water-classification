{
 "cells": [
  {
   "cell_type": "markdown",
   "id": "bb62c21a-ff86-46cf-9dcb-31dcb76ce47d",
   "metadata": {},
   "source": [
    "# MODIS Water C6.1 Production Time Series Viewer\n",
    "\n",
    "Date: 01.29.2024\n",
    "\n",
    "Kernel: ilab-pytorch\n",
    "\n",
    "*For DSG internal use*"
   ]
  },
  {
   "cell_type": "code",
   "execution_count": 1,
   "id": "2d36fd3d-d2ec-4973-b0ce-1d5d776c11aa",
   "metadata": {},
   "outputs": [],
   "source": [
    "%load_ext autoreload\n",
    "%autoreload 2"
   ]
  },
  {
   "cell_type": "code",
   "execution_count": 2,
   "id": "7b3daac0-a9b7-4951-9caa-c5ac48a42533",
   "metadata": {},
   "outputs": [],
   "source": [
    "import ipyleaflet\n",
    "import ipywidgets as widgets"
   ]
  },
  {
   "cell_type": "code",
   "execution_count": 3,
   "id": "8cc721cc-0480-420a-baf9-810b38fb457d",
   "metadata": {},
   "outputs": [],
   "source": [
    "import sys\n",
    "\n",
    "sys.path.append('../model')\n",
    "\n",
    "import modis_production_validation_nb as prod_validation_nb"
   ]
  },
  {
   "cell_type": "markdown",
   "id": "6b1675dd-59e5-46ea-a34e-c85eb59844ca",
   "metadata": {},
   "source": [
    "#### 1. Change this to the tile you want to visualize"
   ]
  },
  {
   "cell_type": "code",
   "execution_count": 4,
   "id": "a442b1c2-86e1-4473-bfc5-eb8017b35a1d",
   "metadata": {},
   "outputs": [],
   "source": [
    "tile: str = 'h09v05'"
   ]
  },
  {
   "cell_type": "code",
   "execution_count": 5,
   "id": "7ff94633-ebdd-4b3f-80d9-b8d8030a32ab",
   "metadata": {},
   "outputs": [
    {
     "data": {
      "text/html": [
       "<style>\n",
       ".leaflet-widgetcontrol { box-shadow: none; }\n",
       ".leaflet-right .leaflet-widgetcontrol { padding: 2px; }\n",
       ".leaflet-popup-content { width:auto !important; min-width: 220px;}\n",
       ".widget-radio-box { flex-direction: row;}\n",
       ".widget-radio-box input { margin: auto 4px auto 12px;}\n",
       "</style>\n"
      ],
      "text/plain": [
       "<IPython.core.display.HTML object>"
      ]
     },
     "metadata": {},
     "output_type": "display_data"
    }
   ],
   "source": [
    "%%html\n",
    "<style>\n",
    ".leaflet-widgetcontrol { box-shadow: none; }\n",
    ".leaflet-right .leaflet-widgetcontrol { padding: 2px; }\n",
    ".leaflet-popup-content { width:auto !important; min-width: 220px;}\n",
    ".widget-radio-box { flex-direction: row;}\n",
    ".widget-radio-box input { margin: auto 4px auto 12px;}\n",
    "</style>"
   ]
  },
  {
   "cell_type": "markdown",
   "id": "199ba7b6-69eb-4836-aadb-a74ae8f493a7",
   "metadata": {},
   "source": [
    "# MODIS Water C6.1 Production Time Series Viewer\n",
    "\n",
    "2. Run the below cell to render the notebook\n",
    "3. Use the mouse scroll wheel or the [+/-] buttons on the map to zoom in and out\n",
    "4. Click on a pixel of the visualized water mask\n",
    "    - A time-series should pop up showing the prediction history for that pixel\n",
    "    - You can press 'Esc' on keyboard to exit the time-series \n",
    "    - Repeat on desired pixels (clicking without Esc will close the current time-series)\n",
    "5. The slider in the bottom right will slide through the time-series of rasters."
   ]
  },
  {
   "cell_type": "code",
   "execution_count": 6,
   "id": "e79d8e1d-b401-4405-be1c-4771d2f7cec6",
   "metadata": {},
   "outputs": [
    {
     "data": {
      "application/vnd.jupyter.widget-view+json": {
       "model_id": "413a87ef26cf480ba645ba2a12fc338a",
       "version_major": 2,
       "version_minor": 0
      },
      "text/plain": [
       "Map(center=[38.128, 2.588], controls=(ZoomControl(options=['position', 'zoom_in_text', 'zoom_in_title', 'zoom_…"
      ]
     },
     "execution_count": 6,
     "metadata": {},
     "output_type": "execute_result"
    }
   ],
   "source": [
    "prod_validation_nb.render(tile)"
   ]
  },
  {
   "cell_type": "code",
   "execution_count": null,
   "id": "fcd1b9c3-d334-4f36-bc96-29a935ee4836",
   "metadata": {},
   "outputs": [],
   "source": []
  }
 ],
 "metadata": {
  "kernelspec": {
   "display_name": "Python [conda env:ilab-pytorch]",
   "language": "python",
   "name": "conda-env-ilab-pytorch-py"
  },
  "language_info": {
   "codemirror_mode": {
    "name": "ipython",
    "version": 3
   },
   "file_extension": ".py",
   "mimetype": "text/x-python",
   "name": "python",
   "nbconvert_exporter": "python",
   "pygments_lexer": "ipython3",
   "version": "3.9.15"
  }
 },
 "nbformat": 4,
 "nbformat_minor": 5
}
