{
 "cells": [
  {
   "cell_type": "code",
   "execution_count": null,
   "metadata": {},
   "outputs": [],
   "source": [
    "import sys\n",
    "import os\n",
    "import numpy as np\n",
    "from glob import glob\n",
    "from pprint import pprint\n",
    "from osgeo import gdal\n",
    "import matplotlib.pyplot as plt\n",
    "\n",
    "%matplotlib inline"
   ]
  },
  {
   "cell_type": "code",
   "execution_count": null,
   "metadata": {},
   "outputs": [],
   "source": [
    "year = 2020\n",
    "tile = '*28v08*.hdf'\n",
    "path_ = '/path/to/modis/Collection6/L3/MCD64A1-BurnArea/'\n",
    "output_path = '/path/to/projects/modis_water/data/burn_scar_products'"
   ]
  },
  {
   "cell_type": "code",
   "execution_count": null,
   "metadata": {},
   "outputs": [],
   "source": [
    "def getMatFromHDF(hdf, substr, excludeStr):\n",
    "    hdf = gdal.Open(hdf)\n",
    "    subd = [sd for sd, _ in hdf.GetSubDatasets() if \\\n",
    "             substr in sd and excludeStr not in sd][0]\n",
    "    print('Opening: {}'.format(subd))\n",
    "    del hdf\n",
    "    ds = gdal.Open(subd)\n",
    "    mat = ds.GetRasterBand(1).ReadAsArray()\n",
    "    mat = np.where(mat > 0, 1, 0)\n",
    "    del ds\n",
    "    return mat\n",
    "\n",
    "def getAllFiles(path, year, tile):\n",
    "    path_to_prepend = os.path.join(path_, str(year))\n",
    "    subdirs = sorted(os.listdir(path_to_prepend))\n",
    "    subdirs = [os.path.join(path_to_prepend, subdir) for subdir in subdirs]\n",
    "    subdirhdfs = [glob(os.path.join(subdir, tile))[0] for subdir in subdirs]\n",
    "    pprint(subdirhdfs)\n",
    "    return subdirhdfs\n",
    "\n",
    "def logical_or_mat(mat_list):\n",
    "    output_mat = np.empty(mat_list[0].shape)\n",
    "    for mat in mat_list:\n",
    "        output_mat = output_mat + mat\n",
    "        mat = None\n",
    "    output_mat = np.where(output_mat > 0, 1, 0)\n",
    "    plt.figure(figsize=(15, 15))    \n",
    "    plt.matshow(output_mat, fignum=1)\n",
    "    return output_mat\n",
    "\n",
    "def setupOutput(year, tile, output_path):\n",
    "    file_name = 'MCD64A1-BurnArea_Annual_A{}.{}.tif'.format(year, tile.replace('*', '').replace('.hdf', ''))\n",
    "    dir_output = 'MCD64A1-BurnArea-Annual/{}'.format(year)\n",
    "    output_dir_full = os.path.join(output_path, dir_output)\n",
    "    print(output_dir_full)\n",
    "    if not os.path.exists(output_dir_full):\n",
    "        os.makedirs(output_dir_full)\n",
    "    outPath = os.path.join(output_dir_full, file_name)\n",
    "    print(outPath)\n",
    "    return outPath\n",
    "\n",
    "def getRasterInfo(file):\n",
    "    ds = gdal.Open(file, gdal.GA_ReadOnly)\n",
    "    subd = [sd for sd, _ in ds.GetSubDatasets() if \\\n",
    "             'Burn Date' in sd and 'Uncertainty' not in sd][0]\n",
    "    ds = gdal.Open(subd, gdal.GA_ReadOnly)\n",
    "    geo = ds.GetGeoTransform()\n",
    "    proj = ds.GetProjection()\n",
    "    ncols = ds.RasterXSize\n",
    "    nrows = ds.RasterYSize\n",
    "    print('Transform')\n",
    "    print(geo)\n",
    "    print('Projection')\n",
    "    print(proj)\n",
    "    print('Width')\n",
    "    print(ncols)\n",
    "    print('Height')\n",
    "    print(nrows)\n",
    "    ds = None\n",
    "    return geo, proj, ncols, nrows\n",
    "\n",
    "def output_raster(outPath, outmat, geo, proj, ncols, nrows):\n",
    "    # Output predicted binary raster masked with good-bad mask.\n",
    "    driver = gdal.GetDriverByName('GTiff')\n",
    "    outDs = driver.Create(outPath, ncols, nrows, 1, gdal.GDT_Int16, options=['COMPRESS=LZW'])\n",
    "    outDs.SetGeoTransform(geo)\n",
    "    outDs.SetProjection(proj)\n",
    "    outBand = outDs.GetRasterBand(1)\n",
    "    outBand.WriteArray(outmat)\n",
    "    outDs.FlushCache()\n",
    "    outDs = None\n",
    "    outBand = None\n",
    "    driver = None"
   ]
  },
  {
   "cell_type": "code",
   "execution_count": null,
   "metadata": {},
   "outputs": [],
   "source": [
    "subdirhdfs = getAllFiles(path=path_, year=year, tile=tile)\n",
    "matSet = [getMatFromHDF(subdir, 'Burn Date', 'Uncertainty') for subdir in subdirhdfs]"
   ]
  },
  {
   "cell_type": "code",
   "execution_count": null,
   "metadata": {},
   "outputs": [],
   "source": [
    "outmat = logical_or_mat(matSet)"
   ]
  },
  {
   "cell_type": "code",
   "execution_count": null,
   "metadata": {},
   "outputs": [],
   "source": [
    "x, y = np.histogram(outmat)\n",
    "print(x)\n",
    "print(y)"
   ]
  },
  {
   "cell_type": "code",
   "execution_count": null,
   "metadata": {},
   "outputs": [],
   "source": [
    "outpath = setupOutput(year=year, tile=tile, output_path=output_path)"
   ]
  },
  {
   "cell_type": "code",
   "execution_count": null,
   "metadata": {},
   "outputs": [],
   "source": [
    "geo, proj, ncols, nrows = getRasterInfo(subdirhdfs[0])"
   ]
  },
  {
   "cell_type": "code",
   "execution_count": null,
   "metadata": {},
   "outputs": [],
   "source": [
    "output_raster(outPath=outpath, outmat=outmat, geo=geo, proj=proj, ncols=ncols, nrows=nrows)"
   ]
  }
 ],
 "metadata": {
  "kernelspec": {
   "display_name": "ilab-kernel",
   "language": "python",
   "name": "python3"
  },
  "language_info": {
   "codemirror_mode": {
    "name": "ipython",
    "version": 3
   },
   "file_extension": ".py",
   "mimetype": "text/x-python",
   "name": "python",
   "nbconvert_exporter": "python",
   "pygments_lexer": "ipython3",
   "version": "3.7.12"
  }
 },
 "nbformat": 4,
 "nbformat_minor": 4
}
