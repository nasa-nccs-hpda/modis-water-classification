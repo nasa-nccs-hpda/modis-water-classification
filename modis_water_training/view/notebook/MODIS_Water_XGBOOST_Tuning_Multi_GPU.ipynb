{
 "cells": [
  {
   "cell_type": "markdown",
   "metadata": {},
   "source": [
    "# MODIS Water XGBOOST Hyperparameter Tuning - Multi-GPU\n",
    "\n",
    "Version: 0.3.0\n",
    "\n",
    "Date modified: 04.13.2022\n",
    "\n",
    "Modified by: Caleb Spradlin"
   ]
  },
  {
   "cell_type": "code",
   "execution_count": 1,
   "metadata": {},
   "outputs": [],
   "source": [
    "import csv\n",
    "import datetime\n",
    "import glob\n",
    "import joblib\n",
    "import numpy as np\n",
    "import os\n",
    "import pandas as pd\n",
    "from pathlib import Path\n",
    "import sys\n",
    "\n",
    "import xgboost as xgb\n",
    "\n",
    "import optuna\n",
    "\n",
    "import dask\n",
    "from dask_cuda import LocalCUDACluster\n",
    "from dask.distributed import Client\n",
    "\n",
    "from sklearn.metrics import accuracy_score, roc_curve, auc\n",
    "from sklearn.metrics import confusion_matrix, accuracy_score, roc_auc_score, precision_score\n",
    "from sklearn.metrics import classification_report, f1_score\n",
    "from sklearn.model_selection import train_test_split \n",
    "from sklearn.inspection import permutation_importance\n",
    "\n",
    "# Visualization\n",
    "import seaborn as sns\n",
    "import matplotlib.pyplot as plt\n",
    "import warnings\n",
    "\n",
    "#GDAL Stuff\n",
    "from osgeo import gdalconst\n",
    "from osgeo import gdal\n",
    "\n",
    "from pprint import pprint\n",
    "\n",
    "warnings.filterwarnings('ignore')\n",
    "plt.style.use('fivethirtyeight')\n",
    "%matplotlib inline"
   ]
  },
  {
   "cell_type": "code",
   "execution_count": 25,
   "metadata": {},
   "outputs": [
    {
     "name": "stderr",
     "output_type": "stream",
     "text": [
      "distributed.nanny - WARNING - Worker process still alive after 3 seconds, killing\n",
      "distributed.nanny - WARNING - Worker process still alive after 3 seconds, killing\n",
      "distributed.nanny - WARNING - Worker process still alive after 3 seconds, killing\n",
      "distributed.nanny - WARNING - Worker process still alive after 3 seconds, killing\n",
      "distributed.preloading - INFO - Import preload module: dask_cuda.initialize\n",
      "distributed.preloading - INFO - Import preload module: dask_cuda.initialize\n",
      "distributed.preloading - INFO - Import preload module: dask_cuda.initialize\n",
      "distributed.preloading - INFO - Import preload module: dask_cuda.initialize\n"
     ]
    }
   ],
   "source": [
    "cluster = LocalCUDACluster()\n",
    "client = Client(cluster)"
   ]
  },
  {
   "cell_type": "code",
   "execution_count": 26,
   "metadata": {},
   "outputs": [
    {
     "data": {
      "application/vnd.jupyter.widget-view+json": {
       "model_id": "6ad6a36043014c0081c89a4333795490",
       "version_major": 2,
       "version_minor": 0
      },
      "text/plain": [
       "Tab(children=(HTML(value='<div class=\"jp-RenderedHTMLCommon jp-RenderedHTML jp-mod-trusted jp-OutputArea-outpu…"
      ]
     },
     "metadata": {},
     "output_type": "display_data"
    }
   ],
   "source": [
    "cluster"
   ]
  },
  {
   "cell_type": "code",
   "execution_count": 27,
   "metadata": {},
   "outputs": [
    {
     "data": {
      "text/html": [
       "<div>\n",
       "    <div style=\"width: 24px; height: 24px; background-color: #e1e1e1; border: 3px solid #9D9D9D; border-radius: 5px; position: absolute;\"> </div>\n",
       "    <div style=\"margin-left: 48px;\">\n",
       "        <h3 style=\"margin-bottom: 0px;\">Client</h3>\n",
       "        <p style=\"color: #9D9D9D; margin-bottom: 0px;\">Client-34a29d98-dcf0-11ec-9e66-ac1f6bbcb678</p>\n",
       "        <table style=\"width: 100%; text-align: left;\">\n",
       "\n",
       "        <tr>\n",
       "        \n",
       "            <td style=\"text-align: left;\"><strong>Connection method:</strong> Cluster object</td>\n",
       "            <td style=\"text-align: left;\"><strong>Cluster type:</strong> dask_cuda.LocalCUDACluster</td>\n",
       "        \n",
       "        </tr>\n",
       "\n",
       "        \n",
       "            <tr>\n",
       "                <td style=\"text-align: left;\">\n",
       "                    <strong>Dashboard: </strong> <a href=\"http://127.0.0.1:35833/status\" target=\"_blank\">http://127.0.0.1:35833/status</a>\n",
       "                </td>\n",
       "                <td style=\"text-align: left;\"></td>\n",
       "            </tr>\n",
       "        \n",
       "\n",
       "        </table>\n",
       "\n",
       "        \n",
       "            <details>\n",
       "            <summary style=\"margin-bottom: 20px;\"><h3 style=\"display: inline;\">Cluster Info</h3></summary>\n",
       "            <div class=\"jp-RenderedHTMLCommon jp-RenderedHTML jp-mod-trusted jp-OutputArea-output\">\n",
       "    <div style=\"width: 24px; height: 24px; background-color: #e1e1e1; border: 3px solid #9D9D9D; border-radius: 5px; position: absolute;\">\n",
       "    </div>\n",
       "    <div style=\"margin-left: 48px;\">\n",
       "        <h3 style=\"margin-bottom: 0px; margin-top: 0px;\">LocalCUDACluster</h3>\n",
       "        <p style=\"color: #9D9D9D; margin-bottom: 0px;\">ba14eb8a</p>\n",
       "        <table style=\"width: 100%; text-align: left;\">\n",
       "            <tr>\n",
       "                <td style=\"text-align: left;\">\n",
       "                    <strong>Dashboard:</strong> <a href=\"http://127.0.0.1:35833/status\" target=\"_blank\">http://127.0.0.1:35833/status</a>\n",
       "                </td>\n",
       "                <td style=\"text-align: left;\">\n",
       "                    <strong>Workers:</strong> 4\n",
       "                </td>\n",
       "            </tr>\n",
       "            <tr>\n",
       "                <td style=\"text-align: left;\">\n",
       "                    <strong>Total threads:</strong> 4\n",
       "                </td>\n",
       "                <td style=\"text-align: left;\">\n",
       "                    <strong>Total memory:</strong> 754.33 GiB\n",
       "                </td>\n",
       "            </tr>\n",
       "            \n",
       "            <tr>\n",
       "    <td style=\"text-align: left;\"><strong>Status:</strong> running</td>\n",
       "    <td style=\"text-align: left;\"><strong>Using processes:</strong> True</td>\n",
       "</tr>\n",
       "\n",
       "            \n",
       "        </table>\n",
       "\n",
       "        <details>\n",
       "            <summary style=\"margin-bottom: 20px;\">\n",
       "                <h3 style=\"display: inline;\">Scheduler Info</h3>\n",
       "            </summary>\n",
       "\n",
       "            <div style=\"\">\n",
       "    <div>\n",
       "        <div style=\"width: 24px; height: 24px; background-color: #FFF7E5; border: 3px solid #FF6132; border-radius: 5px; position: absolute;\"> </div>\n",
       "        <div style=\"margin-left: 48px;\">\n",
       "            <h3 style=\"margin-bottom: 0px;\">Scheduler</h3>\n",
       "            <p style=\"color: #9D9D9D; margin-bottom: 0px;\">Scheduler-15fbe364-3586-4b9b-bb79-ec2cdc3b6fff</p>\n",
       "            <table style=\"width: 100%; text-align: left;\">\n",
       "                <tr>\n",
       "                    <td style=\"text-align: left;\">\n",
       "                        <strong>Comm:</strong> tcp://127.0.0.1:32961\n",
       "                    </td>\n",
       "                    <td style=\"text-align: left;\">\n",
       "                        <strong>Workers:</strong> 4\n",
       "                    </td>\n",
       "                </tr>\n",
       "                <tr>\n",
       "                    <td style=\"text-align: left;\">\n",
       "                        <strong>Dashboard:</strong> <a href=\"http://127.0.0.1:35833/status\" target=\"_blank\">http://127.0.0.1:35833/status</a>\n",
       "                    </td>\n",
       "                    <td style=\"text-align: left;\">\n",
       "                        <strong>Total threads:</strong> 4\n",
       "                    </td>\n",
       "                </tr>\n",
       "                <tr>\n",
       "                    <td style=\"text-align: left;\">\n",
       "                        <strong>Started:</strong> Just now\n",
       "                    </td>\n",
       "                    <td style=\"text-align: left;\">\n",
       "                        <strong>Total memory:</strong> 754.33 GiB\n",
       "                    </td>\n",
       "                </tr>\n",
       "            </table>\n",
       "        </div>\n",
       "    </div>\n",
       "\n",
       "    <details style=\"margin-left: 48px;\">\n",
       "        <summary style=\"margin-bottom: 20px;\">\n",
       "            <h3 style=\"display: inline;\">Workers</h3>\n",
       "        </summary>\n",
       "\n",
       "        \n",
       "        <div style=\"margin-bottom: 20px;\">\n",
       "            <div style=\"width: 24px; height: 24px; background-color: #DBF5FF; border: 3px solid #4CC9FF; border-radius: 5px; position: absolute;\"> </div>\n",
       "            <div style=\"margin-left: 48px;\">\n",
       "            <details>\n",
       "                <summary>\n",
       "                    <h4 style=\"margin-bottom: 0px; display: inline;\">Worker: 0</h4>\n",
       "                </summary>\n",
       "                <table style=\"width: 100%; text-align: left;\">\n",
       "                    <tr>\n",
       "                        <td style=\"text-align: left;\">\n",
       "                            <strong>Comm: </strong> tcp://10.100.38.13:36513\n",
       "                        </td>\n",
       "                        <td style=\"text-align: left;\">\n",
       "                            <strong>Total threads: </strong> 1\n",
       "                        </td>\n",
       "                    </tr>\n",
       "                    <tr>\n",
       "                        <td style=\"text-align: left;\">\n",
       "                            <strong>Dashboard: </strong> <a href=\"http://10.100.38.13:37271/status\" target=\"_blank\">http://10.100.38.13:37271/status</a>\n",
       "                        </td>\n",
       "                        <td style=\"text-align: left;\">\n",
       "                            <strong>Memory: </strong> 188.58 GiB\n",
       "                        </td>\n",
       "                    </tr>\n",
       "                    <tr>\n",
       "                        <td style=\"text-align: left;\">\n",
       "                            <strong>Nanny: </strong> tcp://127.0.0.1:44707\n",
       "                        </td>\n",
       "                        <td style=\"text-align: left;\"></td>\n",
       "                    </tr>\n",
       "                    <tr>\n",
       "                        <td colspan=\"2\" style=\"text-align: left;\">\n",
       "                            <strong>Local directory: </strong> /gpfsm/ccds01/nobackup/projects/ilab/projects/modis_water/MW_ML/notebooks/dev/modis_water_classification/view/notebook/dask-worker-space/worker-rawqz4tk\n",
       "                        </td>\n",
       "                    </tr>\n",
       "\n",
       "                    \n",
       "                    <tr>\n",
       "                        <td style=\"text-align: left;\">\n",
       "                            <strong>GPU: </strong>Tesla V100-SXM2-32GB\n",
       "                        </td>\n",
       "                        <td style=\"text-align: left;\">\n",
       "                            <strong>GPU memory: </strong> 31.75 GiB\n",
       "                        </td>\n",
       "                    </tr>\n",
       "                    \n",
       "\n",
       "                    \n",
       "\n",
       "                </table>\n",
       "            </details>\n",
       "            </div>\n",
       "        </div>\n",
       "        \n",
       "        <div style=\"margin-bottom: 20px;\">\n",
       "            <div style=\"width: 24px; height: 24px; background-color: #DBF5FF; border: 3px solid #4CC9FF; border-radius: 5px; position: absolute;\"> </div>\n",
       "            <div style=\"margin-left: 48px;\">\n",
       "            <details>\n",
       "                <summary>\n",
       "                    <h4 style=\"margin-bottom: 0px; display: inline;\">Worker: 1</h4>\n",
       "                </summary>\n",
       "                <table style=\"width: 100%; text-align: left;\">\n",
       "                    <tr>\n",
       "                        <td style=\"text-align: left;\">\n",
       "                            <strong>Comm: </strong> tcp://10.100.38.13:36199\n",
       "                        </td>\n",
       "                        <td style=\"text-align: left;\">\n",
       "                            <strong>Total threads: </strong> 1\n",
       "                        </td>\n",
       "                    </tr>\n",
       "                    <tr>\n",
       "                        <td style=\"text-align: left;\">\n",
       "                            <strong>Dashboard: </strong> <a href=\"http://10.100.38.13:45293/status\" target=\"_blank\">http://10.100.38.13:45293/status</a>\n",
       "                        </td>\n",
       "                        <td style=\"text-align: left;\">\n",
       "                            <strong>Memory: </strong> 188.58 GiB\n",
       "                        </td>\n",
       "                    </tr>\n",
       "                    <tr>\n",
       "                        <td style=\"text-align: left;\">\n",
       "                            <strong>Nanny: </strong> tcp://127.0.0.1:42007\n",
       "                        </td>\n",
       "                        <td style=\"text-align: left;\"></td>\n",
       "                    </tr>\n",
       "                    <tr>\n",
       "                        <td colspan=\"2\" style=\"text-align: left;\">\n",
       "                            <strong>Local directory: </strong> /gpfsm/ccds01/nobackup/projects/ilab/projects/modis_water/MW_ML/notebooks/dev/modis_water_classification/view/notebook/dask-worker-space/worker-j_tl0z_h\n",
       "                        </td>\n",
       "                    </tr>\n",
       "\n",
       "                    \n",
       "                    <tr>\n",
       "                        <td style=\"text-align: left;\">\n",
       "                            <strong>GPU: </strong>Tesla V100-SXM2-32GB\n",
       "                        </td>\n",
       "                        <td style=\"text-align: left;\">\n",
       "                            <strong>GPU memory: </strong> 31.75 GiB\n",
       "                        </td>\n",
       "                    </tr>\n",
       "                    \n",
       "\n",
       "                    \n",
       "\n",
       "                </table>\n",
       "            </details>\n",
       "            </div>\n",
       "        </div>\n",
       "        \n",
       "        <div style=\"margin-bottom: 20px;\">\n",
       "            <div style=\"width: 24px; height: 24px; background-color: #DBF5FF; border: 3px solid #4CC9FF; border-radius: 5px; position: absolute;\"> </div>\n",
       "            <div style=\"margin-left: 48px;\">\n",
       "            <details>\n",
       "                <summary>\n",
       "                    <h4 style=\"margin-bottom: 0px; display: inline;\">Worker: 2</h4>\n",
       "                </summary>\n",
       "                <table style=\"width: 100%; text-align: left;\">\n",
       "                    <tr>\n",
       "                        <td style=\"text-align: left;\">\n",
       "                            <strong>Comm: </strong> tcp://10.100.38.13:45319\n",
       "                        </td>\n",
       "                        <td style=\"text-align: left;\">\n",
       "                            <strong>Total threads: </strong> 1\n",
       "                        </td>\n",
       "                    </tr>\n",
       "                    <tr>\n",
       "                        <td style=\"text-align: left;\">\n",
       "                            <strong>Dashboard: </strong> <a href=\"http://10.100.38.13:38885/status\" target=\"_blank\">http://10.100.38.13:38885/status</a>\n",
       "                        </td>\n",
       "                        <td style=\"text-align: left;\">\n",
       "                            <strong>Memory: </strong> 188.58 GiB\n",
       "                        </td>\n",
       "                    </tr>\n",
       "                    <tr>\n",
       "                        <td style=\"text-align: left;\">\n",
       "                            <strong>Nanny: </strong> tcp://127.0.0.1:42127\n",
       "                        </td>\n",
       "                        <td style=\"text-align: left;\"></td>\n",
       "                    </tr>\n",
       "                    <tr>\n",
       "                        <td colspan=\"2\" style=\"text-align: left;\">\n",
       "                            <strong>Local directory: </strong> /gpfsm/ccds01/nobackup/projects/ilab/projects/modis_water/MW_ML/notebooks/dev/modis_water_classification/view/notebook/dask-worker-space/worker-eqnxwehw\n",
       "                        </td>\n",
       "                    </tr>\n",
       "\n",
       "                    \n",
       "                    <tr>\n",
       "                        <td style=\"text-align: left;\">\n",
       "                            <strong>GPU: </strong>Tesla V100-SXM2-32GB\n",
       "                        </td>\n",
       "                        <td style=\"text-align: left;\">\n",
       "                            <strong>GPU memory: </strong> 31.75 GiB\n",
       "                        </td>\n",
       "                    </tr>\n",
       "                    \n",
       "\n",
       "                    \n",
       "\n",
       "                </table>\n",
       "            </details>\n",
       "            </div>\n",
       "        </div>\n",
       "        \n",
       "        <div style=\"margin-bottom: 20px;\">\n",
       "            <div style=\"width: 24px; height: 24px; background-color: #DBF5FF; border: 3px solid #4CC9FF; border-radius: 5px; position: absolute;\"> </div>\n",
       "            <div style=\"margin-left: 48px;\">\n",
       "            <details>\n",
       "                <summary>\n",
       "                    <h4 style=\"margin-bottom: 0px; display: inline;\">Worker: 3</h4>\n",
       "                </summary>\n",
       "                <table style=\"width: 100%; text-align: left;\">\n",
       "                    <tr>\n",
       "                        <td style=\"text-align: left;\">\n",
       "                            <strong>Comm: </strong> tcp://10.100.38.13:37355\n",
       "                        </td>\n",
       "                        <td style=\"text-align: left;\">\n",
       "                            <strong>Total threads: </strong> 1\n",
       "                        </td>\n",
       "                    </tr>\n",
       "                    <tr>\n",
       "                        <td style=\"text-align: left;\">\n",
       "                            <strong>Dashboard: </strong> <a href=\"http://10.100.38.13:42437/status\" target=\"_blank\">http://10.100.38.13:42437/status</a>\n",
       "                        </td>\n",
       "                        <td style=\"text-align: left;\">\n",
       "                            <strong>Memory: </strong> 188.58 GiB\n",
       "                        </td>\n",
       "                    </tr>\n",
       "                    <tr>\n",
       "                        <td style=\"text-align: left;\">\n",
       "                            <strong>Nanny: </strong> tcp://127.0.0.1:44777\n",
       "                        </td>\n",
       "                        <td style=\"text-align: left;\"></td>\n",
       "                    </tr>\n",
       "                    <tr>\n",
       "                        <td colspan=\"2\" style=\"text-align: left;\">\n",
       "                            <strong>Local directory: </strong> /gpfsm/ccds01/nobackup/projects/ilab/projects/modis_water/MW_ML/notebooks/dev/modis_water_classification/view/notebook/dask-worker-space/worker-o_8i2175\n",
       "                        </td>\n",
       "                    </tr>\n",
       "\n",
       "                    \n",
       "                    <tr>\n",
       "                        <td style=\"text-align: left;\">\n",
       "                            <strong>GPU: </strong>Tesla V100-SXM2-32GB\n",
       "                        </td>\n",
       "                        <td style=\"text-align: left;\">\n",
       "                            <strong>GPU memory: </strong> 31.75 GiB\n",
       "                        </td>\n",
       "                    </tr>\n",
       "                    \n",
       "\n",
       "                    \n",
       "\n",
       "                </table>\n",
       "            </details>\n",
       "            </div>\n",
       "        </div>\n",
       "        \n",
       "\n",
       "    </details>\n",
       "</div>\n",
       "\n",
       "        </details>\n",
       "    </div>\n",
       "</div>\n",
       "            </details>\n",
       "        \n",
       "\n",
       "    </div>\n",
       "</div>"
      ],
      "text/plain": [
       "<Client: 'tcp://127.0.0.1:32961' processes=4 threads=4, memory=754.33 GiB>"
      ]
     },
     "execution_count": 27,
     "metadata": {},
     "output_type": "execute_result"
    }
   ],
   "source": [
    "client"
   ]
  },
  {
   "cell_type": "code",
   "execution_count": 2,
   "metadata": {},
   "outputs": [],
   "source": [
    "FIGURE_OUTPUT_DIR = '/adapt/nobackup/projects/ilab/scratch/cssprad1/MODIS_water/code/tmp'\n",
    "RASTER_OUTPUT_DIR = '/adapt/nobackup/projects/ilab/scratch/cssprad1/MODIS_water/code/tmp'\n",
    "MODEL_OUTPUT_DIR = '/adapt/nobackup/projects/ilab/scratch/cssprad1/MODIS_water/models/'\n",
    "\n",
    "training_data_basepath = '/adapt/nobackup/projects/ilab/data/MODIS/MODIS_WATER_ML/training_data/v4.2.0/feature_eng'\n",
    "\n",
    "qaMaskPath = '/adapt/nobackup/projects/ilab/data/MODIS/MODIS_WATER_ML/qa'\n",
    "waterMaskPath = '/adapt/nobackup/people/mcarrol2/MODIS_water/v5_outputs'\n",
    "\n",
    "test_data_basepath = '/adapt/nobackup/projects/ilab/data/MODIS/MODIS_WATER_ML/test_data/'\n",
    "\n",
    "GPU = True\n",
    "TILE = 'Golden'\n",
    "MODEL = 'xgboost'\n",
    "TEST_RATIO = 0.2\n",
    "RANDOM_STATE = 42\n",
    "LABEL_NAME = 'water'\n",
    "DATA_TYPE = np.int16\n",
    "# Columns that are offset, years, julian days, etc (always need to be dropped).\n",
    "offsets_indexes = ['x_offset', 'y_offset', 'year', 'julian_day', 'tileID']\n",
    "# Columns that the user wants to drop for training purposes. \n",
    "colsToDrop = ['b01_ndwi1',\n",
    " 'b03_sur_refl_b01_1',\n",
    " 'b03_ndwi2',\n",
    " 'b01_sur_refl_b06_1',\n",
    " 'b07_ndwi1',\n",
    " 'b04_ndwi1',\n",
    " 'b07_ndwi2',\n",
    " 'b04_sur_refl_b02_1',\n",
    " 'b06_ndwi2',\n",
    " 'ndwi2',\n",
    " 'b02_sur_refl_b06_1',\n",
    " 'ndwi1_ndwi2',\n",
    " 'b01_ndvi',\n",
    " 'ndwi1_ndvi',\n",
    " 'b02_ndwi1',\n",
    " 'ndvi_sur_refl_b06_1',\n",
    " 'b06_sur_refl_b03_1',\n",
    " 'ndwi2_sur_refl_b07_1',\n",
    " 'b06_sur_refl_b04_1',\n",
    " 'ndwi1_sur_refl_b04_1',\n",
    " 'ndwi1_sur_refl_b03_1',\n",
    " 'ndvi_sur_refl_b01_1',\n",
    " 'ndwi2_ndwi1',\n",
    " 'ndvi_sur_refl_b07_1',\n",
    " 'b07_sur_refl_b03_1',\n",
    " 'b02_sur_refl_b07_1',\n",
    " 'ndwi2_sur_refl_b02_1',\n",
    " 'ndwi1_sur_refl_b01_1',\n",
    " 'b07_sur_refl_b02_1',\n",
    " 'ndwi2_sur_refl_b01_1',\n",
    " 'ndwi2_sur_refl_b03_1',\n",
    " 'b04_sur_refl_b01_1',\n",
    " 'ndwi2_sur_refl_b06_1',\n",
    " 'ndwi2_sur_refl_b04_1',\n",
    " 'ndwi1_sur_refl_b06_1',\n",
    " 'ndwi1_sur_refl_b07_1',\n",
    " 'ndvi_sur_refl_b04_1',\n",
    " 'b04_ndwi2',\n",
    " 'b03_sur_refl_b02_1',\n",
    " 'ndvi_sur_refl_b03_1',\n",
    " 'ndwi2_ndvi',\n",
    " 'b01_ndwi2',\n",
    " 'sur_refl_b05_1',\n",
    " 'b01_sur_refl_b04_1',\n",
    " 'sur_refl_b04_1',\n",
    " 'b07_sur_refl_b04_1',\n",
    " 'b07_sur_refl_b06_1',\n",
    " 'b02_sur_refl_b03_1',\n",
    " 'b02_ndwi2',\n",
    " 'b07_sur_refl_b01_1',\n",
    " 'ndvi_ndwi1',\n",
    " 'ndwi1',\n",
    " 'b03_ndvi',\n",
    " 'b06_ndvi',\n",
    " 'ndvi_sur_refl_b02_1',\n",
    " 'b06_sur_refl_b02_1',\n",
    " 'b06_ndwi1',\n",
    " 'ndvi_ndwi2',\n",
    " 'b03_ndwi1',\n",
    " 'b06_sur_refl_b01_1',\n",
    " 'b02_sur_refl_b01_1',\n",
    " 'ndwi1_sur_refl_b02_1',\n",
    " 'b03_sur_refl_b07_1',\n",
    " 'b01_sur_refl_b02_1',\n",
    " 'b02_sur_refl_b04_1']\n",
    "colsToDropTraining = colsToDrop.copy()\n",
    "colsToDropTraining.extend(offsets_indexes)\n",
    "\n",
    "#v_names = ['sur_refl_b01_1','sur_refl_b02_1','sur_refl_b03_1',\n",
    "#           'sur_refl_b04_1','sur_refl_b05_1','sur_refl_b06_1',\n",
    "#           'sur_refl_b07_1','ndvi','ndwi1','ndwi2']\n",
    "v_names = ['sur_refl_b01_1','sur_refl_b02_1','sur_refl_b03_1',\n",
    "           'sur_refl_b04_1','sur_refl_b06_1', 'sur_refl_b07_1',\n",
    "           'ndvi','ndwi1','ndwi2']\n",
    "\n",
    "index_names = {'sur_refl_b01_1': 0,\n",
    "               'sur_refl_b02_1': 1,\n",
    "               'sur_refl_b03_1': 2,\n",
    "               'sur_refl_b04_1': 3,\n",
    "               'sur_refl_b05_1': 4,\n",
    "               'sur_refl_b06_1': 5,\n",
    "               'sur_refl_b07_1': 6,\n",
    "               'ndvi': 7,\n",
    "               'ndwi1': 8,\n",
    "               'ndwi2': 9,}"
   ]
  },
  {
   "cell_type": "code",
   "execution_count": 3,
   "metadata": {},
   "outputs": [
    {
     "data": {
      "text/plain": [
       "['b01_ndwi1',\n",
       " 'b03_sur_refl_b01_1',\n",
       " 'b03_ndwi2',\n",
       " 'b01_sur_refl_b06_1',\n",
       " 'b07_ndwi1',\n",
       " 'b04_ndwi1',\n",
       " 'b07_ndwi2',\n",
       " 'b04_sur_refl_b02_1',\n",
       " 'b06_ndwi2',\n",
       " 'ndwi2',\n",
       " 'b02_sur_refl_b06_1',\n",
       " 'ndwi1_ndwi2',\n",
       " 'b01_ndvi',\n",
       " 'ndwi1_ndvi',\n",
       " 'b02_ndwi1',\n",
       " 'ndvi_sur_refl_b06_1',\n",
       " 'b06_sur_refl_b03_1',\n",
       " 'ndwi2_sur_refl_b07_1',\n",
       " 'b06_sur_refl_b04_1',\n",
       " 'ndwi1_sur_refl_b04_1',\n",
       " 'ndwi1_sur_refl_b03_1',\n",
       " 'ndvi_sur_refl_b01_1',\n",
       " 'ndwi2_ndwi1',\n",
       " 'ndvi_sur_refl_b07_1',\n",
       " 'b07_sur_refl_b03_1',\n",
       " 'b02_sur_refl_b07_1',\n",
       " 'ndwi2_sur_refl_b02_1',\n",
       " 'ndwi1_sur_refl_b01_1',\n",
       " 'b07_sur_refl_b02_1',\n",
       " 'ndwi2_sur_refl_b01_1',\n",
       " 'ndwi2_sur_refl_b03_1',\n",
       " 'b04_sur_refl_b01_1',\n",
       " 'ndwi2_sur_refl_b06_1',\n",
       " 'ndwi2_sur_refl_b04_1',\n",
       " 'ndwi1_sur_refl_b06_1',\n",
       " 'ndwi1_sur_refl_b07_1',\n",
       " 'ndvi_sur_refl_b04_1',\n",
       " 'b04_ndwi2',\n",
       " 'b03_sur_refl_b02_1',\n",
       " 'ndvi_sur_refl_b03_1',\n",
       " 'ndwi2_ndvi',\n",
       " 'b01_ndwi2',\n",
       " 'sur_refl_b05_1',\n",
       " 'b01_sur_refl_b04_1',\n",
       " 'sur_refl_b04_1',\n",
       " 'b07_sur_refl_b04_1',\n",
       " 'b07_sur_refl_b06_1',\n",
       " 'b02_sur_refl_b03_1',\n",
       " 'b02_ndwi2',\n",
       " 'b07_sur_refl_b01_1',\n",
       " 'ndvi_ndwi1',\n",
       " 'ndwi1',\n",
       " 'b03_ndvi',\n",
       " 'b06_ndvi',\n",
       " 'ndvi_sur_refl_b02_1',\n",
       " 'b06_sur_refl_b02_1',\n",
       " 'b06_ndwi1',\n",
       " 'ndvi_ndwi2',\n",
       " 'b03_ndwi1',\n",
       " 'b06_sur_refl_b01_1',\n",
       " 'b02_sur_refl_b01_1',\n",
       " 'ndwi1_sur_refl_b02_1',\n",
       " 'b03_sur_refl_b07_1',\n",
       " 'b01_sur_refl_b02_1',\n",
       " 'b02_sur_refl_b04_1']"
      ]
     },
     "execution_count": 3,
     "metadata": {},
     "output_type": "execute_result"
    }
   ],
   "source": [
    "colsToDrop"
   ]
  },
  {
   "cell_type": "code",
   "execution_count": 4,
   "metadata": {},
   "outputs": [
    {
     "data": {
      "text/plain": [
       "['b01_ndwi1',\n",
       " 'b03_sur_refl_b01_1',\n",
       " 'b03_ndwi2',\n",
       " 'b01_sur_refl_b06_1',\n",
       " 'b07_ndwi1',\n",
       " 'b04_ndwi1',\n",
       " 'b07_ndwi2',\n",
       " 'b04_sur_refl_b02_1',\n",
       " 'b06_ndwi2',\n",
       " 'ndwi2',\n",
       " 'b02_sur_refl_b06_1',\n",
       " 'ndwi1_ndwi2',\n",
       " 'b01_ndvi',\n",
       " 'ndwi1_ndvi',\n",
       " 'b02_ndwi1',\n",
       " 'ndvi_sur_refl_b06_1',\n",
       " 'b06_sur_refl_b03_1',\n",
       " 'ndwi2_sur_refl_b07_1',\n",
       " 'b06_sur_refl_b04_1',\n",
       " 'ndwi1_sur_refl_b04_1',\n",
       " 'ndwi1_sur_refl_b03_1',\n",
       " 'ndvi_sur_refl_b01_1',\n",
       " 'ndwi2_ndwi1',\n",
       " 'ndvi_sur_refl_b07_1',\n",
       " 'b07_sur_refl_b03_1',\n",
       " 'b02_sur_refl_b07_1',\n",
       " 'ndwi2_sur_refl_b02_1',\n",
       " 'ndwi1_sur_refl_b01_1',\n",
       " 'b07_sur_refl_b02_1',\n",
       " 'ndwi2_sur_refl_b01_1',\n",
       " 'ndwi2_sur_refl_b03_1',\n",
       " 'b04_sur_refl_b01_1',\n",
       " 'ndwi2_sur_refl_b06_1',\n",
       " 'ndwi2_sur_refl_b04_1',\n",
       " 'ndwi1_sur_refl_b06_1',\n",
       " 'ndwi1_sur_refl_b07_1',\n",
       " 'ndvi_sur_refl_b04_1',\n",
       " 'b04_ndwi2',\n",
       " 'b03_sur_refl_b02_1',\n",
       " 'ndvi_sur_refl_b03_1',\n",
       " 'ndwi2_ndvi',\n",
       " 'b01_ndwi2',\n",
       " 'sur_refl_b05_1',\n",
       " 'b01_sur_refl_b04_1',\n",
       " 'sur_refl_b04_1',\n",
       " 'b07_sur_refl_b04_1',\n",
       " 'b07_sur_refl_b06_1',\n",
       " 'b02_sur_refl_b03_1',\n",
       " 'b02_ndwi2',\n",
       " 'b07_sur_refl_b01_1',\n",
       " 'ndvi_ndwi1',\n",
       " 'ndwi1',\n",
       " 'b03_ndvi',\n",
       " 'b06_ndvi',\n",
       " 'ndvi_sur_refl_b02_1',\n",
       " 'b06_sur_refl_b02_1',\n",
       " 'b06_ndwi1',\n",
       " 'ndvi_ndwi2',\n",
       " 'b03_ndwi1',\n",
       " 'b06_sur_refl_b01_1',\n",
       " 'b02_sur_refl_b01_1',\n",
       " 'ndwi1_sur_refl_b02_1',\n",
       " 'b03_sur_refl_b07_1',\n",
       " 'b01_sur_refl_b02_1',\n",
       " 'b02_sur_refl_b04_1',\n",
       " 'x_offset',\n",
       " 'y_offset',\n",
       " 'year',\n",
       " 'julian_day',\n",
       " 'tileID']"
      ]
     },
     "execution_count": 4,
     "metadata": {},
     "output_type": "execute_result"
    }
   ],
   "source": [
    "colsToDropTraining"
   ]
  },
  {
   "cell_type": "code",
   "execution_count": 5,
   "metadata": {
    "jupyter": {
     "source_hidden": true
    }
   },
   "outputs": [],
   "source": [
    "def load_data(fpath, colsToDrop, yCol='water', testSize=0.2, randomState=42, \n",
    "              dataType=np.float32, cpu=True, splitXY=False, trainTestSplit=False,\n",
    "             applyLog=False, imbalance=False, frac=0.1, land=False, multi=False, \n",
    "              multisample=1000000):\n",
    "    \"\"\"\n",
    "    Simple helper function for loading data to be used by models\n",
    "    :param fpath: Path to the data to be ingested.\n",
    "    :param dataType: Data type to convert ingested data to.\n",
    "    :param colsToDrop: Columns which are not necessary, from which to drop.\n",
    "    :param testSize: Ration to\n",
    "    \"\"\"\n",
    "    if multi:\n",
    "        all_dfs = [pd.read_csv(path_) for path_ in fpath]\n",
    "        df = pd.concat(all_dfs).sample(n=multisample, random_state=randomState)\n",
    "        print('DF length: {}'.format(len(df.index)))\n",
    "    else:   \n",
    "        df = pd.read_parquet(fpath) if '.parquet' in fpath else pd.read_csv(fpath)\n",
    "    df = df[df['sur_refl_b01_1'] + df['sur_refl_b02_1'] != 0]\n",
    "    df = df[df['sur_refl_b07_1'] + df['sur_refl_b02_1'] != 0]\n",
    "    df = df[df['sur_refl_b06_1'] + df['sur_refl_b02_1'] != 0]\n",
    "    df = df.drop(columns=colsToDrop)\n",
    "    cleanedDF = df[~df.isin([np.NaN, np.inf, -np.inf]).any(1)].dropna(axis=0).astype(dataType)\n",
    "    if applyLog:\n",
    "        for col in cleanedDF.drop([yCol], axis=1).columns:\n",
    "            print('Applying log1p func to {}'.format(col))\n",
    "            cleanedDF[col] = np.log1p(cleanedDF[col])\n",
    "        cleanedDF = cleanedDF[~cleanedDF.isin([np.NaN, np.inf, -np.inf]).any(1)].dropna(axis=0)\n",
    "    df = None\n",
    "    if imbalance:\n",
    "        groupedDF = cleanedDF.groupby('water')\n",
    "        dfs = [groupedDF.get_group(y) for y in groupedDF.groups]\n",
    "        sampledDF = dfs[1].sample(frac=frac)if land else dfs[0].sample(frac=frac)\n",
    "        concatDF = sampledDF.append(dfs[0]) if land else sampledDF.append(dfs[1])\n",
    "        concatDF = concatDF.sample(frac=1)\n",
    "        concatDF = concatDF.reset_index()\n",
    "        cleanedDF = concatDF.drop(columns=['index'])\n",
    "    if not splitXY:\n",
    "        return cleanedDF\n",
    "    X = cleanedDF.drop([yCol], axis=1).astype(dataType)\n",
    "    y = cleanedDF[yCol].astype(dataType)\n",
    "    if trainTestSplit:\n",
    "        return train_test_split(X, y, test_size=TEST_RATIO)\n",
    "    else:\n",
    "        return X, y"
   ]
  },
  {
   "cell_type": "markdown",
   "metadata": {},
   "source": [
    "## Data \n",
    "- Read in to cuDF Dataframe\n",
    "- Drop unnecessary columns\n",
    "- Split into Xs and Ys"
   ]
  },
  {
   "cell_type": "code",
   "execution_count": 6,
   "metadata": {},
   "outputs": [
    {
     "name": "stdout",
     "output_type": "stream",
     "text": [
      "Index: sur_refl_b01_1 x sur_refl_b01_1\n",
      "Index: sur_refl_b01_1 x sur_refl_b02_1\n",
      "Index: sur_refl_b01_1 x sur_refl_b03_1\n",
      "Index: sur_refl_b01_1 x sur_refl_b04_1\n",
      "Index: sur_refl_b01_1 x sur_refl_b06_1\n",
      "Index: sur_refl_b01_1 x sur_refl_b07_1\n",
      "Index: sur_refl_b01_1 x ndvi\n",
      "Index: sur_refl_b01_1 x ndwi1\n",
      "Index: sur_refl_b01_1 x ndwi2\n",
      "Index: sur_refl_b02_1 x sur_refl_b01_1\n",
      "Index: sur_refl_b02_1 x sur_refl_b02_1\n",
      "Index: sur_refl_b02_1 x sur_refl_b03_1\n",
      "Index: sur_refl_b02_1 x sur_refl_b04_1\n",
      "Index: sur_refl_b02_1 x sur_refl_b06_1\n",
      "Index: sur_refl_b02_1 x sur_refl_b07_1\n",
      "Index: sur_refl_b02_1 x ndvi\n",
      "Index: sur_refl_b02_1 x ndwi1\n",
      "Index: sur_refl_b02_1 x ndwi2\n",
      "Index: sur_refl_b03_1 x sur_refl_b01_1\n",
      "Index: sur_refl_b03_1 x sur_refl_b02_1\n",
      "Index: sur_refl_b03_1 x sur_refl_b03_1\n",
      "Index: sur_refl_b03_1 x sur_refl_b04_1\n",
      "Index: sur_refl_b03_1 x sur_refl_b06_1\n",
      "Index: sur_refl_b03_1 x sur_refl_b07_1\n",
      "Index: sur_refl_b03_1 x ndvi\n",
      "Index: sur_refl_b03_1 x ndwi1\n",
      "Index: sur_refl_b03_1 x ndwi2\n",
      "Index: sur_refl_b04_1 x sur_refl_b01_1\n",
      "Index: sur_refl_b04_1 x sur_refl_b02_1\n",
      "Index: sur_refl_b04_1 x sur_refl_b03_1\n",
      "Index: sur_refl_b04_1 x sur_refl_b04_1\n",
      "Index: sur_refl_b04_1 x sur_refl_b06_1\n",
      "Index: sur_refl_b04_1 x sur_refl_b07_1\n",
      "Index: sur_refl_b04_1 x ndvi\n",
      "Index: sur_refl_b04_1 x ndwi1\n",
      "Index: sur_refl_b04_1 x ndwi2\n",
      "Index: sur_refl_b06_1 x sur_refl_b01_1\n",
      "Index: sur_refl_b06_1 x sur_refl_b02_1\n",
      "Index: sur_refl_b06_1 x sur_refl_b03_1\n",
      "Index: sur_refl_b06_1 x sur_refl_b04_1\n",
      "Index: sur_refl_b06_1 x sur_refl_b06_1\n",
      "Index: sur_refl_b06_1 x sur_refl_b07_1\n",
      "Index: sur_refl_b06_1 x ndvi\n",
      "Index: sur_refl_b06_1 x ndwi1\n",
      "Index: sur_refl_b06_1 x ndwi2\n",
      "Index: sur_refl_b07_1 x sur_refl_b01_1\n",
      "Index: sur_refl_b07_1 x sur_refl_b02_1\n",
      "Index: sur_refl_b07_1 x sur_refl_b03_1\n",
      "Index: sur_refl_b07_1 x sur_refl_b04_1\n",
      "Index: sur_refl_b07_1 x sur_refl_b06_1\n",
      "Index: sur_refl_b07_1 x sur_refl_b07_1\n",
      "Index: sur_refl_b07_1 x ndvi\n",
      "Index: sur_refl_b07_1 x ndwi1\n",
      "Index: sur_refl_b07_1 x ndwi2\n",
      "Index: ndvi x sur_refl_b01_1\n",
      "Index: ndvi x sur_refl_b02_1\n",
      "Index: ndvi x sur_refl_b03_1\n",
      "Index: ndvi x sur_refl_b04_1\n",
      "Index: ndvi x sur_refl_b06_1\n",
      "Index: ndvi x sur_refl_b07_1\n",
      "Index: ndvi x ndvi\n",
      "Index: ndvi x ndwi1\n",
      "Index: ndvi x ndwi2\n",
      "Index: ndwi1 x sur_refl_b01_1\n",
      "Index: ndwi1 x sur_refl_b02_1\n",
      "Index: ndwi1 x sur_refl_b03_1\n",
      "Index: ndwi1 x sur_refl_b04_1\n",
      "Index: ndwi1 x sur_refl_b06_1\n",
      "Index: ndwi1 x sur_refl_b07_1\n",
      "Index: ndwi1 x ndvi\n",
      "Index: ndwi1 x ndwi1\n",
      "Index: ndwi1 x ndwi2\n",
      "Index: ndwi2 x sur_refl_b01_1\n",
      "Index: ndwi2 x sur_refl_b02_1\n",
      "Index: ndwi2 x sur_refl_b03_1\n",
      "Index: ndwi2 x sur_refl_b04_1\n",
      "Index: ndwi2 x sur_refl_b06_1\n",
      "Index: ndwi2 x sur_refl_b07_1\n",
      "Index: ndwi2 x ndvi\n",
      "Index: ndwi2 x ndwi1\n",
      "Index: ndwi2 x ndwi2\n",
      "('sur_refl_b01_1', 'sur_refl_b01_1')\n",
      "('sur_refl_b02_1', 'sur_refl_b02_1')\n",
      "('sur_refl_b03_1', 'sur_refl_b03_1')\n",
      "('sur_refl_b04_1', 'sur_refl_b04_1')\n",
      "('sur_refl_b06_1', 'sur_refl_b06_1')\n",
      "('sur_refl_b07_1', 'sur_refl_b07_1')\n",
      "('ndvi', 'ndvi')\n",
      "('ndwi1', 'ndwi1')\n",
      "('ndwi2', 'ndwi2')\n"
     ]
    }
   ],
   "source": [
    "indices_to_make = []\n",
    "for name in v_names:\n",
    "    for name_2 in [v_name for v_name in v_names]:\n",
    "        print('Index: {} x {}'.format(name, name_2))\n",
    "        indices_to_make.append((name, name_2))\n",
    "for idx in indices_to_make:\n",
    "    if idx[0] in idx[1]:\n",
    "        print(idx)\n",
    "        indices_to_make.remove(idx)\n",
    "\n",
    "add_names = {}\n",
    "band_combo = {}\n",
    "for i, idx in enumerate(indices_to_make):\n",
    "    index = i + len(index_names.keys())\n",
    "    add_names['{}_{}'.format(idx[0].split('refl_')[-1].split('_')[0], idx[1])] = index\n",
    "    band_combo['{}_{}'.format(idx[0].split('refl_')[-1].split('_')[0], idx[1])] = indices_to_make[i]\n",
    "index_names.update(add_names)"
   ]
  },
  {
   "cell_type": "code",
   "execution_count": 7,
   "metadata": {},
   "outputs": [
    {
     "name": "stdout",
     "output_type": "stream",
     "text": [
      "['/adapt/nobackup/projects/ilab/data/MODIS/MODIS_WATER_ML/training_data/v4.2.0/feature_eng/MOD09_Golden_Masked_1007000_4_2_1.parquet.gzip',\n",
      " '/adapt/nobackup/projects/ilab/data/MODIS/MODIS_WATER_ML/training_data/v4.2.0/feature_eng/MOD09_Golden_Masked_1007000_4_2_2.parquet.gzip']\n",
      "/adapt/nobackup/projects/ilab/data/MODIS/MODIS_WATER_ML/training_data/v4.2.0/feature_eng/MOD09_Golden_Masked_1007000_4_2_2.parquet.gzip\n"
     ]
    }
   ],
   "source": [
    "glob_string = os.path.join(training_data_basepath,'MOD*{}*.parquet.gzip'.format(TILE))\n",
    "data_paths = sorted([fv for fv in glob.glob(glob_string)])\n",
    "data_path = data_paths[1]\n",
    "pprint(data_paths)\n",
    "print(data_path)"
   ]
  },
  {
   "cell_type": "code",
   "execution_count": 8,
   "metadata": {},
   "outputs": [],
   "source": [
    "X_train, X_test, y_train, y_test = load_data(fpath=data_path,\n",
    "                                             colsToDrop=colsToDropTraining,\n",
    "                                             dataType=DATA_TYPE,\n",
    "                                             cpu=True,\n",
    "                                             splitXY=True,\n",
    "                                             imbalance=False,\n",
    "                                             trainTestSplit=True,\n",
    "                                             multi=False)\n",
    "\n",
    "X_train, X_val, y_train, y_val = train_test_split(X_train, y_train)"
   ]
  },
  {
   "cell_type": "code",
   "execution_count": 9,
   "metadata": {},
   "outputs": [
    {
     "name": "stdout",
     "output_type": "stream",
     "text": [
      "sur_refl_b01_1\n",
      "sur_refl_b02_1\n",
      "sur_refl_b03_1\n",
      "sur_refl_b06_1\n",
      "sur_refl_b07_1\n",
      "ndvi\n",
      "b01_sur_refl_b03_1\n",
      "b01_sur_refl_b07_1\n",
      "b02_ndvi\n",
      "b03_sur_refl_b04_1\n",
      "b03_sur_refl_b06_1\n",
      "b04_sur_refl_b03_1\n",
      "b04_sur_refl_b06_1\n",
      "b04_sur_refl_b07_1\n",
      "b04_ndvi\n",
      "b06_sur_refl_b07_1\n",
      "b07_ndvi\n"
     ]
    }
   ],
   "source": [
    "_ = [print(column) for column in X_train.columns]"
   ]
  },
  {
   "cell_type": "code",
   "execution_count": 10,
   "metadata": {},
   "outputs": [
    {
     "data": {
      "text/html": [
       "<div>\n",
       "<style scoped>\n",
       "    .dataframe tbody tr th:only-of-type {\n",
       "        vertical-align: middle;\n",
       "    }\n",
       "\n",
       "    .dataframe tbody tr th {\n",
       "        vertical-align: top;\n",
       "    }\n",
       "\n",
       "    .dataframe thead th {\n",
       "        text-align: right;\n",
       "    }\n",
       "</style>\n",
       "<table border=\"1\" class=\"dataframe\">\n",
       "  <thead>\n",
       "    <tr style=\"text-align: right;\">\n",
       "      <th></th>\n",
       "      <th>count</th>\n",
       "      <th>mean</th>\n",
       "      <th>std</th>\n",
       "      <th>min</th>\n",
       "      <th>25%</th>\n",
       "      <th>50%</th>\n",
       "      <th>75%</th>\n",
       "      <th>max</th>\n",
       "    </tr>\n",
       "  </thead>\n",
       "  <tbody>\n",
       "    <tr>\n",
       "      <th>sur_refl_b01_1</th>\n",
       "      <td>603816.0</td>\n",
       "      <td>1410.259760</td>\n",
       "      <td>2214.392781</td>\n",
       "      <td>-100.0</td>\n",
       "      <td>147.0</td>\n",
       "      <td>722.0</td>\n",
       "      <td>1419.0</td>\n",
       "      <td>16000.0</td>\n",
       "    </tr>\n",
       "    <tr>\n",
       "      <th>sur_refl_b02_1</th>\n",
       "      <td>603816.0</td>\n",
       "      <td>2008.256557</td>\n",
       "      <td>2040.852819</td>\n",
       "      <td>-100.0</td>\n",
       "      <td>137.0</td>\n",
       "      <td>1979.0</td>\n",
       "      <td>2634.0</td>\n",
       "      <td>16000.0</td>\n",
       "    </tr>\n",
       "    <tr>\n",
       "      <th>sur_refl_b03_1</th>\n",
       "      <td>603816.0</td>\n",
       "      <td>1138.171938</td>\n",
       "      <td>2234.032231</td>\n",
       "      <td>-100.0</td>\n",
       "      <td>204.0</td>\n",
       "      <td>367.0</td>\n",
       "      <td>695.0</td>\n",
       "      <td>13193.0</td>\n",
       "    </tr>\n",
       "    <tr>\n",
       "      <th>sur_refl_b06_1</th>\n",
       "      <td>603816.0</td>\n",
       "      <td>1575.513875</td>\n",
       "      <td>1354.277623</td>\n",
       "      <td>-100.0</td>\n",
       "      <td>88.0</td>\n",
       "      <td>1528.0</td>\n",
       "      <td>2650.0</td>\n",
       "      <td>11197.0</td>\n",
       "    </tr>\n",
       "    <tr>\n",
       "      <th>sur_refl_b07_1</th>\n",
       "      <td>603816.0</td>\n",
       "      <td>444.167076</td>\n",
       "      <td>4322.842045</td>\n",
       "      <td>-28672.0</td>\n",
       "      <td>46.0</td>\n",
       "      <td>722.0</td>\n",
       "      <td>1746.0</td>\n",
       "      <td>7346.0</td>\n",
       "    </tr>\n",
       "    <tr>\n",
       "      <th>ndvi</th>\n",
       "      <td>603816.0</td>\n",
       "      <td>-303.727901</td>\n",
       "      <td>6829.488951</td>\n",
       "      <td>-32727.0</td>\n",
       "      <td>-3446.0</td>\n",
       "      <td>1255.0</td>\n",
       "      <td>4201.0</td>\n",
       "      <td>32679.0</td>\n",
       "    </tr>\n",
       "    <tr>\n",
       "      <th>b01_sur_refl_b03_1</th>\n",
       "      <td>603816.0</td>\n",
       "      <td>415.662347</td>\n",
       "      <td>4464.803703</td>\n",
       "      <td>-32727.0</td>\n",
       "      <td>-1428.0</td>\n",
       "      <td>2285.0</td>\n",
       "      <td>3662.0</td>\n",
       "      <td>32762.0</td>\n",
       "    </tr>\n",
       "    <tr>\n",
       "      <th>b01_sur_refl_b07_1</th>\n",
       "      <td>603816.0</td>\n",
       "      <td>256.885546</td>\n",
       "      <td>5039.538082</td>\n",
       "      <td>-32727.0</td>\n",
       "      <td>-3273.0</td>\n",
       "      <td>-1570.5</td>\n",
       "      <td>3584.0</td>\n",
       "      <td>32762.0</td>\n",
       "    </tr>\n",
       "    <tr>\n",
       "      <th>b02_ndvi</th>\n",
       "      <td>603816.0</td>\n",
       "      <td>-2846.170451</td>\n",
       "      <td>8345.589418</td>\n",
       "      <td>-32768.0</td>\n",
       "      <td>-9994.0</td>\n",
       "      <td>-3938.0</td>\n",
       "      <td>589.0</td>\n",
       "      <td>32767.0</td>\n",
       "    </tr>\n",
       "    <tr>\n",
       "      <th>b03_sur_refl_b04_1</th>\n",
       "      <td>603816.0</td>\n",
       "      <td>-1472.824501</td>\n",
       "      <td>2359.248731</td>\n",
       "      <td>-32727.0</td>\n",
       "      <td>-2925.0</td>\n",
       "      <td>-2234.0</td>\n",
       "      <td>48.0</td>\n",
       "      <td>32500.0</td>\n",
       "    </tr>\n",
       "    <tr>\n",
       "      <th>b03_sur_refl_b06_1</th>\n",
       "      <td>603816.0</td>\n",
       "      <td>-1507.043399</td>\n",
       "      <td>6357.726233</td>\n",
       "      <td>-32679.0</td>\n",
       "      <td>-7436.0</td>\n",
       "      <td>-4606.0</td>\n",
       "      <td>5106.0</td>\n",
       "      <td>32564.0</td>\n",
       "    </tr>\n",
       "    <tr>\n",
       "      <th>b04_sur_refl_b03_1</th>\n",
       "      <td>603816.0</td>\n",
       "      <td>1472.824501</td>\n",
       "      <td>2359.248731</td>\n",
       "      <td>-32500.0</td>\n",
       "      <td>-48.0</td>\n",
       "      <td>2234.0</td>\n",
       "      <td>2925.0</td>\n",
       "      <td>32727.0</td>\n",
       "    </tr>\n",
       "    <tr>\n",
       "      <th>b04_sur_refl_b06_1</th>\n",
       "      <td>603816.0</td>\n",
       "      <td>-625.724406</td>\n",
       "      <td>5376.478816</td>\n",
       "      <td>-26528.0</td>\n",
       "      <td>-5747.0</td>\n",
       "      <td>-2821.0</td>\n",
       "      <td>4285.0</td>\n",
       "      <td>22320.0</td>\n",
       "    </tr>\n",
       "    <tr>\n",
       "      <th>b04_sur_refl_b07_1</th>\n",
       "      <td>603816.0</td>\n",
       "      <td>1148.436275</td>\n",
       "      <td>5547.593659</td>\n",
       "      <td>-31505.0</td>\n",
       "      <td>-3755.0</td>\n",
       "      <td>-576.0</td>\n",
       "      <td>6811.0</td>\n",
       "      <td>28928.0</td>\n",
       "    </tr>\n",
       "    <tr>\n",
       "      <th>b04_ndvi</th>\n",
       "      <td>603816.0</td>\n",
       "      <td>-4659.290297</td>\n",
       "      <td>8803.092825</td>\n",
       "      <td>-32768.0</td>\n",
       "      <td>-10174.0</td>\n",
       "      <td>-7614.0</td>\n",
       "      <td>-2691.0</td>\n",
       "      <td>32765.0</td>\n",
       "    </tr>\n",
       "    <tr>\n",
       "      <th>b06_sur_refl_b07_1</th>\n",
       "      <td>603816.0</td>\n",
       "      <td>2771.221740</td>\n",
       "      <td>2875.393740</td>\n",
       "      <td>-31786.0</td>\n",
       "      <td>1344.0</td>\n",
       "      <td>2634.0</td>\n",
       "      <td>4184.0</td>\n",
       "      <td>30000.0</td>\n",
       "    </tr>\n",
       "    <tr>\n",
       "      <th>b07_ndvi</th>\n",
       "      <td>603816.0</td>\n",
       "      <td>-4636.597990</td>\n",
       "      <td>8309.434263</td>\n",
       "      <td>-32768.0</td>\n",
       "      <td>-10036.0</td>\n",
       "      <td>-7092.0</td>\n",
       "      <td>-743.0</td>\n",
       "      <td>32765.0</td>\n",
       "    </tr>\n",
       "  </tbody>\n",
       "</table>\n",
       "</div>"
      ],
      "text/plain": [
       "                       count         mean          std      min      25%  \\\n",
       "sur_refl_b01_1      603816.0  1410.259760  2214.392781   -100.0    147.0   \n",
       "sur_refl_b02_1      603816.0  2008.256557  2040.852819   -100.0    137.0   \n",
       "sur_refl_b03_1      603816.0  1138.171938  2234.032231   -100.0    204.0   \n",
       "sur_refl_b06_1      603816.0  1575.513875  1354.277623   -100.0     88.0   \n",
       "sur_refl_b07_1      603816.0   444.167076  4322.842045 -28672.0     46.0   \n",
       "ndvi                603816.0  -303.727901  6829.488951 -32727.0  -3446.0   \n",
       "b01_sur_refl_b03_1  603816.0   415.662347  4464.803703 -32727.0  -1428.0   \n",
       "b01_sur_refl_b07_1  603816.0   256.885546  5039.538082 -32727.0  -3273.0   \n",
       "b02_ndvi            603816.0 -2846.170451  8345.589418 -32768.0  -9994.0   \n",
       "b03_sur_refl_b04_1  603816.0 -1472.824501  2359.248731 -32727.0  -2925.0   \n",
       "b03_sur_refl_b06_1  603816.0 -1507.043399  6357.726233 -32679.0  -7436.0   \n",
       "b04_sur_refl_b03_1  603816.0  1472.824501  2359.248731 -32500.0    -48.0   \n",
       "b04_sur_refl_b06_1  603816.0  -625.724406  5376.478816 -26528.0  -5747.0   \n",
       "b04_sur_refl_b07_1  603816.0  1148.436275  5547.593659 -31505.0  -3755.0   \n",
       "b04_ndvi            603816.0 -4659.290297  8803.092825 -32768.0 -10174.0   \n",
       "b06_sur_refl_b07_1  603816.0  2771.221740  2875.393740 -31786.0   1344.0   \n",
       "b07_ndvi            603816.0 -4636.597990  8309.434263 -32768.0 -10036.0   \n",
       "\n",
       "                       50%     75%      max  \n",
       "sur_refl_b01_1       722.0  1419.0  16000.0  \n",
       "sur_refl_b02_1      1979.0  2634.0  16000.0  \n",
       "sur_refl_b03_1       367.0   695.0  13193.0  \n",
       "sur_refl_b06_1      1528.0  2650.0  11197.0  \n",
       "sur_refl_b07_1       722.0  1746.0   7346.0  \n",
       "ndvi                1255.0  4201.0  32679.0  \n",
       "b01_sur_refl_b03_1  2285.0  3662.0  32762.0  \n",
       "b01_sur_refl_b07_1 -1570.5  3584.0  32762.0  \n",
       "b02_ndvi           -3938.0   589.0  32767.0  \n",
       "b03_sur_refl_b04_1 -2234.0    48.0  32500.0  \n",
       "b03_sur_refl_b06_1 -4606.0  5106.0  32564.0  \n",
       "b04_sur_refl_b03_1  2234.0  2925.0  32727.0  \n",
       "b04_sur_refl_b06_1 -2821.0  4285.0  22320.0  \n",
       "b04_sur_refl_b07_1  -576.0  6811.0  28928.0  \n",
       "b04_ndvi           -7614.0 -2691.0  32765.0  \n",
       "b06_sur_refl_b07_1  2634.0  4184.0  30000.0  \n",
       "b07_ndvi           -7092.0  -743.0  32765.0  "
      ]
     },
     "execution_count": 10,
     "metadata": {},
     "output_type": "execute_result"
    }
   ],
   "source": [
    "X_train.describe().T"
   ]
  },
  {
   "cell_type": "code",
   "execution_count": 11,
   "metadata": {},
   "outputs": [
    {
     "data": {
      "text/html": [
       "<div>\n",
       "<style scoped>\n",
       "    .dataframe tbody tr th:only-of-type {\n",
       "        vertical-align: middle;\n",
       "    }\n",
       "\n",
       "    .dataframe tbody tr th {\n",
       "        vertical-align: top;\n",
       "    }\n",
       "\n",
       "    .dataframe thead th {\n",
       "        text-align: right;\n",
       "    }\n",
       "</style>\n",
       "<table border=\"1\" class=\"dataframe\">\n",
       "  <thead>\n",
       "    <tr style=\"text-align: right;\">\n",
       "      <th></th>\n",
       "      <th>sur_refl_b01_1</th>\n",
       "      <th>sur_refl_b02_1</th>\n",
       "      <th>sur_refl_b03_1</th>\n",
       "      <th>sur_refl_b06_1</th>\n",
       "      <th>sur_refl_b07_1</th>\n",
       "      <th>ndvi</th>\n",
       "      <th>b01_sur_refl_b03_1</th>\n",
       "      <th>b01_sur_refl_b07_1</th>\n",
       "      <th>b02_ndvi</th>\n",
       "      <th>b03_sur_refl_b04_1</th>\n",
       "      <th>b03_sur_refl_b06_1</th>\n",
       "      <th>b04_sur_refl_b03_1</th>\n",
       "      <th>b04_sur_refl_b06_1</th>\n",
       "      <th>b04_sur_refl_b07_1</th>\n",
       "      <th>b04_ndvi</th>\n",
       "      <th>b06_sur_refl_b07_1</th>\n",
       "      <th>b07_ndvi</th>\n",
       "    </tr>\n",
       "  </thead>\n",
       "  <tbody>\n",
       "    <tr>\n",
       "      <th>686409</th>\n",
       "      <td>37</td>\n",
       "      <td>-4</td>\n",
       "      <td>209</td>\n",
       "      <td>35</td>\n",
       "      <td>38</td>\n",
       "      <td>-12424</td>\n",
       "      <td>-6991</td>\n",
       "      <td>-133</td>\n",
       "      <td>-9993</td>\n",
       "      <td>2294</td>\n",
       "      <td>7131</td>\n",
       "      <td>-2294</td>\n",
       "      <td>5783</td>\n",
       "      <td>5502</td>\n",
       "      <td>-10213</td>\n",
       "      <td>-410</td>\n",
       "      <td>-10061</td>\n",
       "    </tr>\n",
       "    <tr>\n",
       "      <th>278050</th>\n",
       "      <td>779</td>\n",
       "      <td>2383</td>\n",
       "      <td>374</td>\n",
       "      <td>2781</td>\n",
       "      <td>1608</td>\n",
       "      <td>5072</td>\n",
       "      <td>3512</td>\n",
       "      <td>-3472</td>\n",
       "      <td>-3607</td>\n",
       "      <td>-2869</td>\n",
       "      <td>-7629</td>\n",
       "      <td>2869</td>\n",
       "      <td>-6093</td>\n",
       "      <td>-4086</td>\n",
       "      <td>-7651</td>\n",
       "      <td>2672</td>\n",
       "      <td>-5186</td>\n",
       "    </tr>\n",
       "    <tr>\n",
       "      <th>301351</th>\n",
       "      <td>26</td>\n",
       "      <td>3</td>\n",
       "      <td>146</td>\n",
       "      <td>70</td>\n",
       "      <td>19</td>\n",
       "      <td>-7931</td>\n",
       "      <td>-6976</td>\n",
       "      <td>1555</td>\n",
       "      <td>-10007</td>\n",
       "      <td>2425</td>\n",
       "      <td>3518</td>\n",
       "      <td>-2425</td>\n",
       "      <td>1194</td>\n",
       "      <td>6481</td>\n",
       "      <td>-10226</td>\n",
       "      <td>5730</td>\n",
       "      <td>-10048</td>\n",
       "    </tr>\n",
       "    <tr>\n",
       "      <th>647849</th>\n",
       "      <td>623</td>\n",
       "      <td>1531</td>\n",
       "      <td>284</td>\n",
       "      <td>2273</td>\n",
       "      <td>1441</td>\n",
       "      <td>4215</td>\n",
       "      <td>3737</td>\n",
       "      <td>-3963</td>\n",
       "      <td>-4671</td>\n",
       "      <td>-3131</td>\n",
       "      <td>-7778</td>\n",
       "      <td>3131</td>\n",
       "      <td>-6143</td>\n",
       "      <td>-4526</td>\n",
       "      <td>-7717</td>\n",
       "      <td>2240</td>\n",
       "      <td>-4904</td>\n",
       "    </tr>\n",
       "    <tr>\n",
       "      <th>92907</th>\n",
       "      <td>62</td>\n",
       "      <td>30</td>\n",
       "      <td>215</td>\n",
       "      <td>96</td>\n",
       "      <td>88</td>\n",
       "      <td>-3478</td>\n",
       "      <td>-5523</td>\n",
       "      <td>-1733</td>\n",
       "      <td>-10174</td>\n",
       "      <td>2181</td>\n",
       "      <td>3826</td>\n",
       "      <td>-2181</td>\n",
       "      <td>1794</td>\n",
       "      <td>2212</td>\n",
       "      <td>-10826</td>\n",
       "      <td>434</td>\n",
       "      <td>-10519</td>\n",
       "    </tr>\n",
       "  </tbody>\n",
       "</table>\n",
       "</div>"
      ],
      "text/plain": [
       "        sur_refl_b01_1  sur_refl_b02_1  sur_refl_b03_1  sur_refl_b06_1  \\\n",
       "686409              37              -4             209              35   \n",
       "278050             779            2383             374            2781   \n",
       "301351              26               3             146              70   \n",
       "647849             623            1531             284            2273   \n",
       "92907               62              30             215              96   \n",
       "\n",
       "        sur_refl_b07_1   ndvi  b01_sur_refl_b03_1  b01_sur_refl_b07_1  \\\n",
       "686409              38 -12424               -6991                -133   \n",
       "278050            1608   5072                3512               -3472   \n",
       "301351              19  -7931               -6976                1555   \n",
       "647849            1441   4215                3737               -3963   \n",
       "92907               88  -3478               -5523               -1733   \n",
       "\n",
       "        b02_ndvi  b03_sur_refl_b04_1  b03_sur_refl_b06_1  b04_sur_refl_b03_1  \\\n",
       "686409     -9993                2294                7131               -2294   \n",
       "278050     -3607               -2869               -7629                2869   \n",
       "301351    -10007                2425                3518               -2425   \n",
       "647849     -4671               -3131               -7778                3131   \n",
       "92907     -10174                2181                3826               -2181   \n",
       "\n",
       "        b04_sur_refl_b06_1  b04_sur_refl_b07_1  b04_ndvi  b06_sur_refl_b07_1  \\\n",
       "686409                5783                5502    -10213                -410   \n",
       "278050               -6093               -4086     -7651                2672   \n",
       "301351                1194                6481    -10226                5730   \n",
       "647849               -6143               -4526     -7717                2240   \n",
       "92907                 1794                2212    -10826                 434   \n",
       "\n",
       "        b07_ndvi  \n",
       "686409    -10061  \n",
       "278050     -5186  \n",
       "301351    -10048  \n",
       "647849     -4904  \n",
       "92907     -10519  "
      ]
     },
     "execution_count": 11,
     "metadata": {},
     "output_type": "execute_result"
    }
   ],
   "source": [
    "X_train.sample(5)"
   ]
  },
  {
   "cell_type": "code",
   "execution_count": 12,
   "metadata": {},
   "outputs": [],
   "source": [
    "def output_interesting_idx(df, column, threshold, greaterThan=True):\n",
    "    dfToReturn = df[df[column] > threshold] if \\\n",
    "        greaterThan else df[df[column] < threshold]\n",
    "    return dfToReturn"
   ]
  },
  {
   "cell_type": "code",
   "execution_count": 13,
   "metadata": {},
   "outputs": [
    {
     "data": {
      "text/html": [
       "<div>\n",
       "<style scoped>\n",
       "    .dataframe tbody tr th:only-of-type {\n",
       "        vertical-align: middle;\n",
       "    }\n",
       "\n",
       "    .dataframe tbody tr th {\n",
       "        vertical-align: top;\n",
       "    }\n",
       "\n",
       "    .dataframe thead th {\n",
       "        text-align: right;\n",
       "    }\n",
       "</style>\n",
       "<table border=\"1\" class=\"dataframe\">\n",
       "  <thead>\n",
       "    <tr style=\"text-align: right;\">\n",
       "      <th></th>\n",
       "      <th>sur_refl_b01_1</th>\n",
       "      <th>sur_refl_b02_1</th>\n",
       "      <th>sur_refl_b03_1</th>\n",
       "      <th>sur_refl_b06_1</th>\n",
       "      <th>sur_refl_b07_1</th>\n",
       "      <th>ndvi</th>\n",
       "      <th>b01_sur_refl_b03_1</th>\n",
       "      <th>b01_sur_refl_b07_1</th>\n",
       "      <th>b02_ndvi</th>\n",
       "      <th>b03_sur_refl_b04_1</th>\n",
       "      <th>b03_sur_refl_b06_1</th>\n",
       "      <th>b04_sur_refl_b03_1</th>\n",
       "      <th>b04_sur_refl_b06_1</th>\n",
       "      <th>b04_sur_refl_b07_1</th>\n",
       "      <th>b04_ndvi</th>\n",
       "      <th>b06_sur_refl_b07_1</th>\n",
       "      <th>b07_ndvi</th>\n",
       "    </tr>\n",
       "  </thead>\n",
       "  <tbody>\n",
       "    <tr>\n",
       "      <th>198752</th>\n",
       "      <td>15</td>\n",
       "      <td>-8</td>\n",
       "      <td>112</td>\n",
       "      <td>9</td>\n",
       "      <td>43</td>\n",
       "      <td>32679</td>\n",
       "      <td>-7637</td>\n",
       "      <td>-4827</td>\n",
       "      <td>-9995</td>\n",
       "      <td>467</td>\n",
       "      <td>8512</td>\n",
       "      <td>-467</td>\n",
       "      <td>8378</td>\n",
       "      <td>4068</td>\n",
       "      <td>-10062</td>\n",
       "      <td>-6538</td>\n",
       "      <td>-10026</td>\n",
       "    </tr>\n",
       "    <tr>\n",
       "      <th>896738</th>\n",
       "      <td>15</td>\n",
       "      <td>-8</td>\n",
       "      <td>113</td>\n",
       "      <td>17</td>\n",
       "      <td>40</td>\n",
       "      <td>32679</td>\n",
       "      <td>-7656</td>\n",
       "      <td>-4545</td>\n",
       "      <td>-9995</td>\n",
       "      <td>710</td>\n",
       "      <td>7384</td>\n",
       "      <td>-710</td>\n",
       "      <td>7043</td>\n",
       "      <td>4202</td>\n",
       "      <td>-10059</td>\n",
       "      <td>-4035</td>\n",
       "      <td>-10024</td>\n",
       "    </tr>\n",
       "    <tr>\n",
       "      <th>388901</th>\n",
       "      <td>12</td>\n",
       "      <td>-11</td>\n",
       "      <td>132</td>\n",
       "      <td>73</td>\n",
       "      <td>54</td>\n",
       "      <td>32144</td>\n",
       "      <td>-8333</td>\n",
       "      <td>-6363</td>\n",
       "      <td>-9999</td>\n",
       "      <td>2054</td>\n",
       "      <td>2878</td>\n",
       "      <td>-2054</td>\n",
       "      <td>875</td>\n",
       "      <td>2340</td>\n",
       "      <td>-10007</td>\n",
       "      <td>1496</td>\n",
       "      <td>-10004</td>\n",
       "    </tr>\n",
       "    <tr>\n",
       "      <th>462912</th>\n",
       "      <td>12</td>\n",
       "      <td>-11</td>\n",
       "      <td>-27</td>\n",
       "      <td>42</td>\n",
       "      <td>-28672</td>\n",
       "      <td>32144</td>\n",
       "      <td>-26000</td>\n",
       "      <td>-10008</td>\n",
       "      <td>-9999</td>\n",
       "      <td>-13506</td>\n",
       "      <td>19536</td>\n",
       "      <td>13506</td>\n",
       "      <td>6233</td>\n",
       "      <td>-10127</td>\n",
       "      <td>-10015</td>\n",
       "      <td>-10029</td>\n",
       "      <td>-7783</td>\n",
       "    </tr>\n",
       "    <tr>\n",
       "      <th>674354</th>\n",
       "      <td>15</td>\n",
       "      <td>-8</td>\n",
       "      <td>134</td>\n",
       "      <td>77</td>\n",
       "      <td>64</td>\n",
       "      <td>32679</td>\n",
       "      <td>-7986</td>\n",
       "      <td>-6202</td>\n",
       "      <td>-9995</td>\n",
       "      <td>2181</td>\n",
       "      <td>2701</td>\n",
       "      <td>-2181</td>\n",
       "      <td>552</td>\n",
       "      <td>1466</td>\n",
       "      <td>-10052</td>\n",
       "      <td>921</td>\n",
       "      <td>-10039</td>\n",
       "    </tr>\n",
       "    <tr>\n",
       "      <th>...</th>\n",
       "      <td>...</td>\n",
       "      <td>...</td>\n",
       "      <td>...</td>\n",
       "      <td>...</td>\n",
       "      <td>...</td>\n",
       "      <td>...</td>\n",
       "      <td>...</td>\n",
       "      <td>...</td>\n",
       "      <td>...</td>\n",
       "      <td>...</td>\n",
       "      <td>...</td>\n",
       "      <td>...</td>\n",
       "      <td>...</td>\n",
       "      <td>...</td>\n",
       "      <td>...</td>\n",
       "      <td>...</td>\n",
       "      <td>...</td>\n",
       "    </tr>\n",
       "    <tr>\n",
       "      <th>412975</th>\n",
       "      <td>23</td>\n",
       "      <td>-26</td>\n",
       "      <td>225</td>\n",
       "      <td>37</td>\n",
       "      <td>20</td>\n",
       "      <td>32261</td>\n",
       "      <td>-8145</td>\n",
       "      <td>697</td>\n",
       "      <td>-10003</td>\n",
       "      <td>2931</td>\n",
       "      <td>7175</td>\n",
       "      <td>-2931</td>\n",
       "      <td>5375</td>\n",
       "      <td>7202</td>\n",
       "      <td>-9984</td>\n",
       "      <td>2982</td>\n",
       "      <td>-9997</td>\n",
       "    </tr>\n",
       "    <tr>\n",
       "      <th>724327</th>\n",
       "      <td>15</td>\n",
       "      <td>-8</td>\n",
       "      <td>168</td>\n",
       "      <td>99</td>\n",
       "      <td>87</td>\n",
       "      <td>32679</td>\n",
       "      <td>-8360</td>\n",
       "      <td>-7058</td>\n",
       "      <td>-9995</td>\n",
       "      <td>2262</td>\n",
       "      <td>2584</td>\n",
       "      <td>-2262</td>\n",
       "      <td>341</td>\n",
       "      <td>984</td>\n",
       "      <td>-10064</td>\n",
       "      <td>645</td>\n",
       "      <td>-10053</td>\n",
       "    </tr>\n",
       "    <tr>\n",
       "      <th>742328</th>\n",
       "      <td>15</td>\n",
       "      <td>-8</td>\n",
       "      <td>120</td>\n",
       "      <td>33</td>\n",
       "      <td>-28672</td>\n",
       "      <td>32679</td>\n",
       "      <td>-7777</td>\n",
       "      <td>-10010</td>\n",
       "      <td>-9995</td>\n",
       "      <td>762</td>\n",
       "      <td>5686</td>\n",
       "      <td>-762</td>\n",
       "      <td>5147</td>\n",
       "      <td>-10072</td>\n",
       "      <td>-10062</td>\n",
       "      <td>-10023</td>\n",
       "      <td>-680</td>\n",
       "    </tr>\n",
       "    <tr>\n",
       "      <th>577603</th>\n",
       "      <td>13</td>\n",
       "      <td>-7</td>\n",
       "      <td>113</td>\n",
       "      <td>56</td>\n",
       "      <td>40</td>\n",
       "      <td>32203</td>\n",
       "      <td>-7936</td>\n",
       "      <td>-5094</td>\n",
       "      <td>-9995</td>\n",
       "      <td>414</td>\n",
       "      <td>3372</td>\n",
       "      <td>-414</td>\n",
       "      <td>3000</td>\n",
       "      <td>4444</td>\n",
       "      <td>-10062</td>\n",
       "      <td>1666</td>\n",
       "      <td>-10024</td>\n",
       "    </tr>\n",
       "    <tr>\n",
       "      <th>720847</th>\n",
       "      <td>13</td>\n",
       "      <td>-7</td>\n",
       "      <td>157</td>\n",
       "      <td>54</td>\n",
       "      <td>11</td>\n",
       "      <td>32203</td>\n",
       "      <td>-8470</td>\n",
       "      <td>833</td>\n",
       "      <td>-9995</td>\n",
       "      <td>2460</td>\n",
       "      <td>4881</td>\n",
       "      <td>-2460</td>\n",
       "      <td>2751</td>\n",
       "      <td>7924</td>\n",
       "      <td>-10057</td>\n",
       "      <td>6615</td>\n",
       "      <td>-10006</td>\n",
       "    </tr>\n",
       "  </tbody>\n",
       "</table>\n",
       "<p>136 rows × 17 columns</p>\n",
       "</div>"
      ],
      "text/plain": [
       "        sur_refl_b01_1  sur_refl_b02_1  sur_refl_b03_1  sur_refl_b06_1  \\\n",
       "198752              15              -8             112               9   \n",
       "896738              15              -8             113              17   \n",
       "388901              12             -11             132              73   \n",
       "462912              12             -11             -27              42   \n",
       "674354              15              -8             134              77   \n",
       "...                ...             ...             ...             ...   \n",
       "412975              23             -26             225              37   \n",
       "724327              15              -8             168              99   \n",
       "742328              15              -8             120              33   \n",
       "577603              13              -7             113              56   \n",
       "720847              13              -7             157              54   \n",
       "\n",
       "        sur_refl_b07_1   ndvi  b01_sur_refl_b03_1  b01_sur_refl_b07_1  \\\n",
       "198752              43  32679               -7637               -4827   \n",
       "896738              40  32679               -7656               -4545   \n",
       "388901              54  32144               -8333               -6363   \n",
       "462912          -28672  32144              -26000              -10008   \n",
       "674354              64  32679               -7986               -6202   \n",
       "...                ...    ...                 ...                 ...   \n",
       "412975              20  32261               -8145                 697   \n",
       "724327              87  32679               -8360               -7058   \n",
       "742328          -28672  32679               -7777              -10010   \n",
       "577603              40  32203               -7936               -5094   \n",
       "720847              11  32203               -8470                 833   \n",
       "\n",
       "        b02_ndvi  b03_sur_refl_b04_1  b03_sur_refl_b06_1  b04_sur_refl_b03_1  \\\n",
       "198752     -9995                 467                8512                -467   \n",
       "896738     -9995                 710                7384                -710   \n",
       "388901     -9999                2054                2878               -2054   \n",
       "462912     -9999              -13506               19536               13506   \n",
       "674354     -9995                2181                2701               -2181   \n",
       "...          ...                 ...                 ...                 ...   \n",
       "412975    -10003                2931                7175               -2931   \n",
       "724327     -9995                2262                2584               -2262   \n",
       "742328     -9995                 762                5686                -762   \n",
       "577603     -9995                 414                3372                -414   \n",
       "720847     -9995                2460                4881               -2460   \n",
       "\n",
       "        b04_sur_refl_b06_1  b04_sur_refl_b07_1  b04_ndvi  b06_sur_refl_b07_1  \\\n",
       "198752                8378                4068    -10062               -6538   \n",
       "896738                7043                4202    -10059               -4035   \n",
       "388901                 875                2340    -10007                1496   \n",
       "462912                6233              -10127    -10015              -10029   \n",
       "674354                 552                1466    -10052                 921   \n",
       "...                    ...                 ...       ...                 ...   \n",
       "412975                5375                7202     -9984                2982   \n",
       "724327                 341                 984    -10064                 645   \n",
       "742328                5147              -10072    -10062              -10023   \n",
       "577603                3000                4444    -10062                1666   \n",
       "720847                2751                7924    -10057                6615   \n",
       "\n",
       "        b07_ndvi  \n",
       "198752    -10026  \n",
       "896738    -10024  \n",
       "388901    -10004  \n",
       "462912     -7783  \n",
       "674354    -10039  \n",
       "...          ...  \n",
       "412975     -9997  \n",
       "724327    -10053  \n",
       "742328      -680  \n",
       "577603    -10024  \n",
       "720847    -10006  \n",
       "\n",
       "[136 rows x 17 columns]"
      ]
     },
     "execution_count": 13,
     "metadata": {},
     "output_type": "execute_result"
    }
   ],
   "source": [
    "output_interesting_idx(X_train, 'ndvi', 32000)"
   ]
  },
  {
   "cell_type": "markdown",
   "metadata": {},
   "source": [
    "## XGBOOST"
   ]
  },
  {
   "cell_type": "markdown",
   "metadata": {},
   "source": [
    "Choose which combination of hyperparameters to train:\n",
    "\n",
    "- n_estimators: Number of learners for the xgboost to fit.\n",
    "- booster: Which booster to use\n",
    "- lamda: L2 regularization rate\n",
    "- alpha: L1 regularization rate\n",
    "- subsample: sampling ration for training data\n",
    "- colsample_bytree: sampling according to each tree\n",
    "- max_depth: maximum depth of the tree, signifies complexity\n",
    "- min_child_weight: minimum child weight, the larger the term, the more complex\n",
    "- gamme: how selective the algorithm is"
   ]
  },
  {
   "cell_type": "code",
   "execution_count": 36,
   "metadata": {},
   "outputs": [],
   "source": [
    "from cuml.dask.common import utils as dask_utils    "
   ]
  },
  {
   "cell_type": "code",
   "execution_count": 37,
   "metadata": {},
   "outputs": [],
   "source": [
    "X_train = dask.dataframe.from_pandas(X_train, npartitions=4)\n",
    "X_val = dask.dataframe.from_pandas(X_val, npartitions=4)\n",
    "y_train = dask.dataframe.from_pandas(y_train, npartitions=4)\n",
    "y_val = dask.dataframe.from_pandas(y_val, npartitions=4)\n",
    "X_test = dask.dataframe.from_pandas(X_test, npartitions=4)\n",
    "y_test = dask.dataframe.from_pandas(y_test, npartitions=4)"
   ]
  },
  {
   "cell_type": "code",
   "execution_count": 38,
   "metadata": {},
   "outputs": [
    {
     "data": {
      "text/plain": [
       "dict_keys(['tcp://10.100.38.13:36199', 'tcp://10.100.38.13:36513', 'tcp://10.100.38.13:37355', 'tcp://10.100.38.13:45319'])"
      ]
     },
     "execution_count": 38,
     "metadata": {},
     "output_type": "execute_result"
    }
   ],
   "source": [
    "workers = client.has_what().keys()\n",
    "workers"
   ]
  },
  {
   "cell_type": "code",
   "execution_count": 39,
   "metadata": {},
   "outputs": [],
   "source": [
    "X_train, y_train = dask_utils.persist_across_workers(client, [X_train, y_train], workers=workers)\n",
    "X_val, y_val = dask_utils.persist_across_workers(client, [X_val, y_val], workers=workers)\n",
    "X_test, y_test = dask_utils.persist_across_workers(client, [X_test, y_test], workers=workers)"
   ]
  },
  {
   "cell_type": "code",
   "execution_count": 40,
   "metadata": {},
   "outputs": [],
   "source": [
    "def objective(trial):\n",
    "    hyperparameters = {\n",
    "        \"verbosity\": 0,\n",
    "        #\"learning_rate\": 0.001,\n",
    "        #\"objective\": \"binary:logistic\",\n",
    "        # use exact for small dataset.\n",
    "        \"tree_method\": \"gpu_hist\",\n",
    "        #\"booster\":\"dart\",\n",
    "        #\"rate_drop\":0.9,\n",
    "        #\"gpu_id\": 0,\n",
    "        \"n_jobs\": -1,\n",
    "        \"n_estimators\": trial.suggest_categorical(\"n_estimators\", [50, 100, 200, 250, 300, 500, 750]),\n",
    "        # defines booster, gblinear for linear functions.\n",
    "        \"booster\": trial.suggest_categorical(\"booster\", [\"gbtree\", \"dart\"]),\n",
    "        # L2 regularization weight.\n",
    "        \"lambda\": trial.suggest_float(\"lambda\", 1e-8, 1.0, log=True),\n",
    "        # L1 regularization weight.\n",
    "        \"alpha\": trial.suggest_float(\"alpha\", 1e-8, 1.0, log=True),\n",
    "        # sampling ratio for training data.\n",
    "        \"subsample\": trial.suggest_float(\"subsample\", 0.1, 0.3),\n",
    "        # sampling according to each tree.\n",
    "        \"colsample_bytree\": trial.suggest_float(\"colsample_bytree\", 0.1, 0.3),\n",
    "        # maximum depth of the tree, signifies complexity of the tree.\n",
    "        \"max_depth\":  trial.suggest_int(\"max_depth\", 3, 15, step=1), \n",
    "        # minimum child weight, larger the term more conservative the tree.\n",
    "        \"min_child_weight\":  trial.suggest_int(\"min_child_weight\", 2, 5), \n",
    "        \"eta\":  trial.suggest_float(\"eta\", 1e-8, 1.0, log=True), \n",
    "        # defines how selective algorithm is.\n",
    "        \"gamma\": trial.suggest_float(\"gamma\", 1e-8, 0.5, log=True), \n",
    "        \"grow_policy\":  trial.suggest_categorical(\"grow_policy\", [\"depthwise\", \"lossguide\"]),\n",
    "    }\n",
    "    pruning_callback = optuna.integration.XGBoostPruningCallback(trial, \"validation_0-auc\")\n",
    "    classifier = xgb.dask.DaskXGBClassifier(**hyperparameters)\n",
    "    classifier.client = client\n",
    "    eval_set = [(X_train, y_train), (X_val, y_val)]\n",
    "    eval_metric = [\"error\",\"auc\"]\n",
    "    classifier.fit(X_train, \n",
    "                   y_train, \n",
    "                   eval_set=eval_set, \n",
    "                   eval_metric=eval_metric, \n",
    "                   early_stopping_rounds=5, \n",
    "                   callbacks=[pruning_callback],\n",
    "                   verbose=False)\n",
    "    preds = classifier.predict(X_test)\n",
    "    preds = preds.compute()\n",
    "    y_test_series = y_test.compute()\n",
    "    precision = precision_score(y_test_series, preds)\n",
    "    f1 = f1_score(y_test_series, preds)\n",
    "    print('Confusion matrix')\n",
    "    # From docs: tn, fp, fn, tp = confusion_matrix(y_true, y_pred).ravel()\n",
    "    tn, fp, fn, tp = confusion_matrix(y_test_series, preds).ravel()\n",
    "    print('TP: {:9} FN: {:9}'.format(tp, fn))\n",
    "    print('FP: {:9} TN: {:9}'.format(fp, tn))\n",
    "    print('Precision: {}'.format(precision))\n",
    "    print('F1 score: {}'.format(f1))\n",
    "    del classifier, preds\n",
    "    return f1"
   ]
  },
  {
   "cell_type": "markdown",
   "metadata": {},
   "source": [
    "## Set the search space\n",
    "\n",
    "Set the search space for the hyperparameter tuning to search through once. This needs to be in conjunction with the `trial.suggest...` part of the hyperparameters dictionary defined aboce. \n",
    "\n",
    "Ex.\n",
    "\n",
    "If `max_depth` is defined in `hyperparameters` in the `objective` function above as such\n",
    "\n",
    "`\"max_depth\":  trial.suggest_int(\"max_depth\", 3, 15, step=1),` \n",
    "\n",
    "then we need to pair that with the limited search space below as such:\n",
    "\n",
    "`search_space={\"max_depth\":[3, 4, 5, 6, 7, 8, 9, 10, 11, 12, 13, 14, 15]}`\n",
    "\n",
    "This is not the most ideal way of ensuring that trials are not repeated, however it works for now. "
   ]
  },
  {
   "cell_type": "code",
   "execution_count": 41,
   "metadata": {},
   "outputs": [],
   "source": [
    "search_space={\n",
    "    \"max_depth\":[3, 4, 5, 6, 7, 8, 9],\n",
    "}"
   ]
  },
  {
   "cell_type": "markdown",
   "metadata": {},
   "source": [
    "### Set number of trials and timeout\n",
    "\n",
    "Set the number of trials `n_trials=<num of desired trials>` and the maximum time for the total study `timeout=<timeout in minutes>*60`"
   ]
  },
  {
   "cell_type": "code",
   "execution_count": 42,
   "metadata": {},
   "outputs": [
    {
     "name": "stderr",
     "output_type": "stream",
     "text": [
      "\u001b[32m[I 2022-05-26 08:35:06,117]\u001b[0m A new study created in memory with name: xgboost hyperparameter tuning - multi-gpu\u001b[0m\n",
      "[08:35:06] task [xgboost.dask]:tcp://10.100.38.13:36199 got new rank 0\n",
      "[08:35:06] task [xgboost.dask]:tcp://10.100.38.13:36513 got new rank 1\n",
      "[08:35:06] task [xgboost.dask]:tcp://10.100.38.13:37355 got new rank 2\n",
      "[08:35:06] task [xgboost.dask]:tcp://10.100.38.13:45319 got new rank 3\n",
      "\u001b[32m[I 2022-05-26 08:35:09,708]\u001b[0m Trial 0 finished with value: 0.9668943467519255 and parameters: {'n_estimators': 200, 'booster': 'gbtree', 'lambda': 0.14029269021311125, 'alpha': 0.009550257770760805, 'subsample': 0.10395940691237822, 'colsample_bytree': 0.20365957320648392, 'max_depth': 10, 'min_child_weight': 5, 'eta': 5.9361864818265316e-05, 'gamma': 0.0009676588681431118, 'grow_policy': 'lossguide'}. Best is trial 0 with value: 0.9668943467519255.\u001b[0m\n"
     ]
    },
    {
     "name": "stdout",
     "output_type": "stream",
     "text": [
      "Confusion matrix\n",
      "TP:     83165 FN:      3661\n",
      "FP:      2034 TN:    112413\n",
      "Precision: 0.9761264803577506\n",
      "F1 score: 0.9668943467519255\n"
     ]
    },
    {
     "name": "stderr",
     "output_type": "stream",
     "text": [
      "[08:35:09] task [xgboost.dask]:tcp://10.100.38.13:36513 got new rank 0\n",
      "[08:35:09] task [xgboost.dask]:tcp://10.100.38.13:36199 got new rank 1\n",
      "[08:35:10] task [xgboost.dask]:tcp://10.100.38.13:45319 got new rank 2\n",
      "[08:35:10] task [xgboost.dask]:tcp://10.100.38.13:37355 got new rank 3\n",
      "\u001b[32m[I 2022-05-26 08:35:12,467]\u001b[0m Trial 1 finished with value: 0.956345320534997 and parameters: {'n_estimators': 200, 'booster': 'dart', 'lambda': 1.6369890520304927e-07, 'alpha': 0.0032599171123110825, 'subsample': 0.19066860693697016, 'colsample_bytree': 0.16485531015757307, 'max_depth': 4, 'min_child_weight': 5, 'eta': 0.009126028782832555, 'gamma': 1.1990080698338726e-06, 'grow_policy': 'lossguide'}. Best is trial 0 with value: 0.9668943467519255.\u001b[0m\n"
     ]
    },
    {
     "name": "stdout",
     "output_type": "stream",
     "text": [
      "Confusion matrix\n",
      "TP:     81549 FN:      5277\n",
      "FP:      2168 TN:    112279\n",
      "Precision: 0.9741032287349045\n",
      "F1 score: 0.956345320534997\n"
     ]
    },
    {
     "name": "stderr",
     "output_type": "stream",
     "text": [
      "[08:35:12] task [xgboost.dask]:tcp://10.100.38.13:36513 got new rank 0\n",
      "[08:35:12] task [xgboost.dask]:tcp://10.100.38.13:45319 got new rank 1\n",
      "[08:35:12] task [xgboost.dask]:tcp://10.100.38.13:36199 got new rank 2\n",
      "[08:35:12] task [xgboost.dask]:tcp://10.100.38.13:37355 got new rank 3\n",
      "\u001b[32m[I 2022-05-26 08:35:15,183]\u001b[0m Trial 2 finished with value: 0.9438523881371397 and parameters: {'n_estimators': 200, 'booster': 'dart', 'lambda': 0.0005617925882434036, 'alpha': 0.09624331670869295, 'subsample': 0.1112142413357114, 'colsample_bytree': 0.16553221519324354, 'max_depth': 3, 'min_child_weight': 3, 'eta': 1.967008321959492e-08, 'gamma': 0.00013410823042781856, 'grow_policy': 'depthwise'}. Best is trial 0 with value: 0.9668943467519255.\u001b[0m\n"
     ]
    },
    {
     "name": "stdout",
     "output_type": "stream",
     "text": [
      "Confusion matrix\n",
      "TP:     79134 FN:      7692\n",
      "FP:      1723 TN:    112724\n",
      "Precision: 0.9786907750720407\n",
      "F1 score: 0.9438523881371397\n"
     ]
    },
    {
     "name": "stderr",
     "output_type": "stream",
     "text": [
      "[08:35:15] task [xgboost.dask]:tcp://10.100.38.13:36513 got new rank 0\n",
      "[08:35:15] task [xgboost.dask]:tcp://10.100.38.13:36199 got new rank 1\n",
      "[08:35:15] task [xgboost.dask]:tcp://10.100.38.13:45319 got new rank 2\n",
      "[08:35:15] task [xgboost.dask]:tcp://10.100.38.13:37355 got new rank 3\n",
      "\u001b[32m[I 2022-05-26 08:35:17,837]\u001b[0m Trial 3 finished with value: 0.9667935714493301 and parameters: {'n_estimators': 750, 'booster': 'gbtree', 'lambda': 0.0013108732898829607, 'alpha': 5.974131247333847e-07, 'subsample': 0.19762237635390875, 'colsample_bytree': 0.28619586181372664, 'max_depth': 7, 'min_child_weight': 5, 'eta': 0.009956320253710535, 'gamma': 9.317804059612151e-07, 'grow_policy': 'lossguide'}. Best is trial 0 with value: 0.9668943467519255.\u001b[0m\n"
     ]
    },
    {
     "name": "stdout",
     "output_type": "stream",
     "text": [
      "Confusion matrix\n",
      "TP:     83166 FN:      3660\n",
      "FP:      2053 TN:    112394\n",
      "Precision: 0.9759091282460484\n",
      "F1 score: 0.9667935714493301\n"
     ]
    },
    {
     "name": "stderr",
     "output_type": "stream",
     "text": [
      "[08:35:18] task [xgboost.dask]:tcp://10.100.38.13:36513 got new rank 0\n",
      "[08:35:18] task [xgboost.dask]:tcp://10.100.38.13:36199 got new rank 1\n",
      "[08:35:18] task [xgboost.dask]:tcp://10.100.38.13:45319 got new rank 2\n",
      "[08:35:18] task [xgboost.dask]:tcp://10.100.38.13:37355 got new rank 3\n",
      "\u001b[32m[I 2022-05-26 08:35:20,486]\u001b[0m Trial 4 finished with value: 0.9536808004257086 and parameters: {'n_estimators': 300, 'booster': 'dart', 'lambda': 5.471580141437142e-08, 'alpha': 2.7928916408753524e-07, 'subsample': 0.25717996579236246, 'colsample_bytree': 0.2715018072122048, 'max_depth': 3, 'min_child_weight': 4, 'eta': 3.7785563484135466e-06, 'gamma': 0.001242844253237334, 'grow_policy': 'depthwise'}. Best is trial 0 with value: 0.9668943467519255.\u001b[0m\n"
     ]
    },
    {
     "name": "stdout",
     "output_type": "stream",
     "text": [
      "Confusion matrix\n",
      "TP:     81544 FN:      5282\n",
      "FP:      2639 TN:    111808\n",
      "Precision: 0.9686516280009028\n",
      "F1 score: 0.9536808004257086\n"
     ]
    },
    {
     "name": "stderr",
     "output_type": "stream",
     "text": [
      "[08:35:20] task [xgboost.dask]:tcp://10.100.38.13:36199 got new rank 0\n",
      "[08:35:20] task [xgboost.dask]:tcp://10.100.38.13:45319 got new rank 1\n",
      "[08:35:20] task [xgboost.dask]:tcp://10.100.38.13:37355 got new rank 2\n",
      "[08:35:20] task [xgboost.dask]:tcp://10.100.38.13:36513 got new rank 3\n",
      "\u001b[32m[I 2022-05-26 08:35:24,393]\u001b[0m Trial 5 finished with value: 0.967525222000093 and parameters: {'n_estimators': 250, 'booster': 'dart', 'lambda': 0.0006335928041797024, 'alpha': 0.9188567787138335, 'subsample': 0.12121132875636349, 'colsample_bytree': 0.20268022873798314, 'max_depth': 11, 'min_child_weight': 4, 'eta': 0.0010657205985008973, 'gamma': 8.979203488484499e-08, 'grow_policy': 'lossguide'}. Best is trial 5 with value: 0.967525222000093.\u001b[0m\n"
     ]
    },
    {
     "name": "stdout",
     "output_type": "stream",
     "text": [
      "Confusion matrix\n",
      "TP:     83242 FN:      3584\n",
      "FP:      2004 TN:    112443\n",
      "Precision: 0.9764915655866551\n",
      "F1 score: 0.967525222000093\n"
     ]
    },
    {
     "name": "stderr",
     "output_type": "stream",
     "text": [
      "[08:35:24] task [xgboost.dask]:tcp://10.100.38.13:36199 got new rank 0\n",
      "[08:35:24] task [xgboost.dask]:tcp://10.100.38.13:36513 got new rank 1\n",
      "[08:35:24] task [xgboost.dask]:tcp://10.100.38.13:45319 got new rank 2\n",
      "[08:35:24] task [xgboost.dask]:tcp://10.100.38.13:37355 got new rank 3\n",
      "\u001b[32m[I 2022-05-26 08:35:29,080]\u001b[0m Trial 6 finished with value: 0.9756784478712122 and parameters: {'n_estimators': 50, 'booster': 'dart', 'lambda': 2.39452443522434e-07, 'alpha': 1.4595941770663937e-06, 'subsample': 0.23732482520133039, 'colsample_bytree': 0.18444329443997287, 'max_depth': 8, 'min_child_weight': 4, 'eta': 0.19967432946143224, 'gamma': 2.4756235904966902e-05, 'grow_policy': 'depthwise'}. Best is trial 6 with value: 0.9756784478712122.\u001b[0m\n"
     ]
    },
    {
     "name": "stdout",
     "output_type": "stream",
     "text": [
      "Confusion matrix\n",
      "TP:     84183 FN:      2643\n",
      "FP:      1554 TN:    112893\n",
      "Precision: 0.981874803177158\n",
      "F1 score: 0.9756784478712122\n"
     ]
    },
    {
     "name": "stderr",
     "output_type": "stream",
     "text": [
      "[08:35:29] task [xgboost.dask]:tcp://10.100.38.13:45319 got new rank 0\n",
      "[08:35:29] task [xgboost.dask]:tcp://10.100.38.13:36513 got new rank 1\n",
      "[08:35:29] task [xgboost.dask]:tcp://10.100.38.13:36199 got new rank 2\n",
      "[08:35:29] task [xgboost.dask]:tcp://10.100.38.13:37355 got new rank 3\n",
      "\u001b[32m[I 2022-05-26 08:35:34,256]\u001b[0m Trial 7 finished with value: 0.9700959996280887 and parameters: {'n_estimators': 300, 'booster': 'dart', 'lambda': 1.543181166921083e-08, 'alpha': 1.4441982728345695e-08, 'subsample': 0.11872306878345125, 'colsample_bytree': 0.23619150327132943, 'max_depth': 10, 'min_child_weight': 4, 'eta': 0.002695161213974704, 'gamma': 0.0034615287834312575, 'grow_policy': 'depthwise'}. Best is trial 6 with value: 0.9756784478712122.\u001b[0m\n"
     ]
    },
    {
     "name": "stdout",
     "output_type": "stream",
     "text": [
      "Confusion matrix\n",
      "TP:     83469 FN:      3357\n",
      "FP:      1789 TN:    112658\n",
      "Precision: 0.9790166318703231\n",
      "F1 score: 0.9700959996280887\n"
     ]
    },
    {
     "name": "stderr",
     "output_type": "stream",
     "text": [
      "[08:35:34] task [xgboost.dask]:tcp://10.100.38.13:36513 got new rank 0\n",
      "[08:35:34] task [xgboost.dask]:tcp://10.100.38.13:36199 got new rank 1\n",
      "[08:35:34] task [xgboost.dask]:tcp://10.100.38.13:45319 got new rank 2\n",
      "[08:35:34] task [xgboost.dask]:tcp://10.100.38.13:37355 got new rank 3\n",
      "\u001b[32m[I 2022-05-26 08:35:36,374]\u001b[0m Trial 8 finished with value: 0.9556829663745096 and parameters: {'n_estimators': 200, 'booster': 'gbtree', 'lambda': 0.00015135207091982735, 'alpha': 0.6643862512651795, 'subsample': 0.21411947685877242, 'colsample_bytree': 0.17125262266567468, 'max_depth': 5, 'min_child_weight': 5, 'eta': 8.054730362553804e-08, 'gamma': 3.397945123698627e-07, 'grow_policy': 'depthwise'}. Best is trial 6 with value: 0.9756784478712122.\u001b[0m\n"
     ]
    },
    {
     "name": "stdout",
     "output_type": "stream",
     "text": [
      "Confusion matrix\n",
      "TP:     81342 FN:      5484\n",
      "FP:      2060 TN:    112387\n",
      "Precision: 0.9753003525095322\n",
      "F1 score: 0.9556829663745096\n"
     ]
    },
    {
     "name": "stderr",
     "output_type": "stream",
     "text": [
      "[08:35:36] task [xgboost.dask]:tcp://10.100.38.13:36513 got new rank 0\n",
      "[08:35:36] task [xgboost.dask]:tcp://10.100.38.13:36199 got new rank 1\n",
      "[08:35:36] task [xgboost.dask]:tcp://10.100.38.13:37355 got new rank 2\n",
      "[08:35:36] task [xgboost.dask]:tcp://10.100.38.13:45319 got new rank 3\n",
      "\u001b[32m[I 2022-05-26 08:35:39,014]\u001b[0m Trial 9 finished with value: 0.9580385673643687 and parameters: {'n_estimators': 50, 'booster': 'dart', 'lambda': 6.150160590452142e-08, 'alpha': 0.0006345004690867358, 'subsample': 0.25687932877020986, 'colsample_bytree': 0.1573823192855644, 'max_depth': 9, 'min_child_weight': 2, 'eta': 0.007950785873338672, 'gamma': 1.4028189007081527e-06, 'grow_policy': 'lossguide'}. Best is trial 6 with value: 0.9756784478712122.\u001b[0m\n"
     ]
    },
    {
     "name": "stdout",
     "output_type": "stream",
     "text": [
      "Confusion matrix\n",
      "TP:     81999 FN:      4827\n",
      "FP:      2356 TN:    112091\n",
      "Precision: 0.9720704166913638\n",
      "F1 score: 0.9580385673643687\n"
     ]
    },
    {
     "name": "stderr",
     "output_type": "stream",
     "text": [
      "[08:35:39] task [xgboost.dask]:tcp://10.100.38.13:36513 got new rank 0\n",
      "[08:35:39] task [xgboost.dask]:tcp://10.100.38.13:36199 got new rank 1\n",
      "[08:35:39] task [xgboost.dask]:tcp://10.100.38.13:45319 got new rank 2\n",
      "[08:35:39] task [xgboost.dask]:tcp://10.100.38.13:37355 got new rank 3\n",
      "\u001b[32m[I 2022-05-26 08:35:42,463]\u001b[0m Trial 10 finished with value: 0.968055893496472 and parameters: {'n_estimators': 100, 'booster': 'gbtree', 'lambda': 4.295471925943509e-06, 'alpha': 1.1660930436080389e-05, 'subsample': 0.29588207773052305, 'colsample_bytree': 0.10422275843486932, 'max_depth': 15, 'min_child_weight': 3, 'eta': 0.860826051509612, 'gamma': 0.46798496219205954, 'grow_policy': 'depthwise'}. Best is trial 6 with value: 0.9756784478712122.\u001b[0m\n"
     ]
    },
    {
     "name": "stdout",
     "output_type": "stream",
     "text": [
      "Confusion matrix\n",
      "TP:     83550 FN:      3276\n",
      "FP:      2238 TN:    112209\n",
      "Precision: 0.9739124353056372\n",
      "F1 score: 0.968055893496472\n"
     ]
    },
    {
     "name": "stderr",
     "output_type": "stream",
     "text": [
      "[08:35:42] task [xgboost.dask]:tcp://10.100.38.13:36513 got new rank 0\n",
      "[08:35:42] task [xgboost.dask]:tcp://10.100.38.13:36199 got new rank 1\n",
      "[08:35:42] task [xgboost.dask]:tcp://10.100.38.13:45319 got new rank 2\n",
      "[08:35:42] task [xgboost.dask]:tcp://10.100.38.13:37355 got new rank 3\n",
      "\u001b[32m[I 2022-05-26 08:35:45,202]\u001b[0m Trial 11 finished with value: 0.9720372682295279 and parameters: {'n_estimators': 300, 'booster': 'dart', 'lambda': 2.6272783837111395e-06, 'alpha': 1.3161973660092116e-08, 'subsample': 0.15911030917614977, 'colsample_bytree': 0.24244703167460382, 'max_depth': 13, 'min_child_weight': 4, 'eta': 0.9016250483959106, 'gamma': 0.03729653861377673, 'grow_policy': 'depthwise'}. Best is trial 6 with value: 0.9756784478712122.\u001b[0m\n"
     ]
    },
    {
     "name": "stdout",
     "output_type": "stream",
     "text": [
      "Confusion matrix\n",
      "TP:     84089 FN:      2737\n",
      "FP:      2101 TN:    112346\n",
      "Precision: 0.975623622229957\n",
      "F1 score: 0.9720372682295279\n"
     ]
    },
    {
     "name": "stderr",
     "output_type": "stream",
     "text": [
      "[08:35:45] task [xgboost.dask]:tcp://10.100.38.13:36199 got new rank 0\n",
      "[08:35:45] task [xgboost.dask]:tcp://10.100.38.13:36513 got new rank 1\n",
      "[08:35:45] task [xgboost.dask]:tcp://10.100.38.13:45319 got new rank 2\n",
      "[08:35:45] task [xgboost.dask]:tcp://10.100.38.13:37355 got new rank 3\n",
      "\u001b[32m[I 2022-05-26 08:35:48,108]\u001b[0m Trial 12 finished with value: 0.9724974277754016 and parameters: {'n_estimators': 50, 'booster': 'dart', 'lambda': 3.0026782352297856e-06, 'alpha': 1.988209012640293e-08, 'subsample': 0.15613418215397756, 'colsample_bytree': 0.24327326116953968, 'max_depth': 14, 'min_child_weight': 3, 'eta': 0.7957363080967002, 'gamma': 0.18068326213934954, 'grow_policy': 'depthwise'}. Best is trial 6 with value: 0.9756784478712122.\u001b[0m\n"
     ]
    },
    {
     "name": "stdout",
     "output_type": "stream",
     "text": [
      "Confusion matrix\n",
      "TP:     84122 FN:      2704\n",
      "FP:      2054 TN:    112393\n",
      "Precision: 0.9761650575566283\n",
      "F1 score: 0.9724974277754016\n"
     ]
    },
    {
     "name": "stderr",
     "output_type": "stream",
     "text": [
      "[08:35:48] task [xgboost.dask]:tcp://10.100.38.13:36199 got new rank 0\n",
      "[08:35:48] task [xgboost.dask]:tcp://10.100.38.13:36513 got new rank 1\n",
      "[08:35:48] task [xgboost.dask]:tcp://10.100.38.13:45319 got new rank 2\n",
      "[08:35:48] task [xgboost.dask]:tcp://10.100.38.13:37355 got new rank 3\n",
      "\u001b[32m[I 2022-05-26 08:35:53,137]\u001b[0m Trial 13 finished with value: 0.9745943439962911 and parameters: {'n_estimators': 50, 'booster': 'dart', 'lambda': 1.7370651915976437e-06, 'alpha': 1.2399280099224462e-05, 'subsample': 0.15153583215512495, 'colsample_bytree': 0.2349779207098897, 'max_depth': 8, 'min_child_weight': 2, 'eta': 0.13856615057389035, 'gamma': 4.123949546299567e-05, 'grow_policy': 'depthwise'}. Best is trial 6 with value: 0.9756784478712122.\u001b[0m\n"
     ]
    },
    {
     "name": "stdout",
     "output_type": "stream",
     "text": [
      "Confusion matrix\n",
      "TP:     84088 FN:      2738\n",
      "FP:      1646 TN:    112801\n",
      "Precision: 0.9808010824177106\n",
      "F1 score: 0.9745943439962911\n"
     ]
    },
    {
     "name": "stderr",
     "output_type": "stream",
     "text": [
      "[08:35:53] task [xgboost.dask]:tcp://10.100.38.13:36199 got new rank 0\n",
      "[08:35:53] task [xgboost.dask]:tcp://10.100.38.13:36513 got new rank 1\n",
      "[08:35:53] task [xgboost.dask]:tcp://10.100.38.13:45319 got new rank 2\n",
      "[08:35:53] task [xgboost.dask]:tcp://10.100.38.13:37355 got new rank 3\n",
      "\u001b[32m[I 2022-05-26 08:35:57,636]\u001b[0m Trial 14 finished with value: 0.9664477126082659 and parameters: {'n_estimators': 50, 'booster': 'dart', 'lambda': 7.995617409490107e-07, 'alpha': 2.9404724616396977e-05, 'subsample': 0.23011153607162496, 'colsample_bytree': 0.12557457971907288, 'max_depth': 7, 'min_child_weight': 2, 'eta': 0.060220715245355036, 'gamma': 3.6120423246561774e-05, 'grow_policy': 'depthwise'}. Best is trial 6 with value: 0.9756784478712122.\u001b[0m\n"
     ]
    },
    {
     "name": "stdout",
     "output_type": "stream",
     "text": [
      "Confusion matrix\n",
      "TP:     83129 FN:      3697\n",
      "FP:      2075 TN:    112372\n",
      "Precision: 0.9756466832543073\n",
      "F1 score: 0.9664477126082659\n"
     ]
    },
    {
     "name": "stderr",
     "output_type": "stream",
     "text": [
      "[08:35:57] task [xgboost.dask]:tcp://10.100.38.13:36513 got new rank 0\n",
      "[08:35:57] task [xgboost.dask]:tcp://10.100.38.13:37355 got new rank 1\n",
      "[08:35:57] task [xgboost.dask]:tcp://10.100.38.13:45319 got new rank 2\n",
      "[08:35:58] task [xgboost.dask]:tcp://10.100.38.13:36199 got new rank 3\n",
      "\u001b[32m[I 2022-05-26 08:36:01,827]\u001b[0m Trial 15 finished with value: 0.9655894830566176 and parameters: {'n_estimators': 500, 'booster': 'dart', 'lambda': 2.821550600014355e-05, 'alpha': 1.6905643072708072e-06, 'subsample': 0.16019997612714065, 'colsample_bytree': 0.2195554615472161, 'max_depth': 7, 'min_child_weight': 2, 'eta': 0.000121949997309913, 'gamma': 2.8230915907653217e-05, 'grow_policy': 'depthwise'}. Best is trial 6 with value: 0.9756784478712122.\u001b[0m\n"
     ]
    },
    {
     "name": "stdout",
     "output_type": "stream",
     "text": [
      "Confusion matrix\n",
      "TP:     82962 FN:      3864\n",
      "FP:      2049 TN:    112398\n",
      "Precision: 0.9758972368281752\n",
      "F1 score: 0.9655894830566176\n"
     ]
    },
    {
     "name": "stderr",
     "output_type": "stream",
     "text": [
      "[08:36:01] task [xgboost.dask]:tcp://10.100.38.13:36513 got new rank 0\n",
      "[08:36:02] task [xgboost.dask]:tcp://10.100.38.13:36199 got new rank 1\n",
      "[08:36:02] task [xgboost.dask]:tcp://10.100.38.13:45319 got new rank 2\n",
      "[08:36:02] task [xgboost.dask]:tcp://10.100.38.13:37355 got new rank 3\n",
      "\u001b[32m[I 2022-05-26 08:36:06,615]\u001b[0m Trial 16 finished with value: 0.9739349418004155 and parameters: {'n_estimators': 50, 'booster': 'dart', 'lambda': 0.02118502918235274, 'alpha': 0.00024375709692506513, 'subsample': 0.24348419096230817, 'colsample_bytree': 0.2630802569217595, 'max_depth': 8, 'min_child_weight': 3, 'eta': 0.07939804707168509, 'gamma': 1.0028313077002779e-08, 'grow_policy': 'depthwise'}. Best is trial 6 with value: 0.9756784478712122.\u001b[0m\n"
     ]
    },
    {
     "name": "stdout",
     "output_type": "stream",
     "text": [
      "Confusion matrix\n",
      "TP:     83923 FN:      2903\n",
      "FP:      1589 TN:    112858\n",
      "Precision: 0.9814178127046497\n",
      "F1 score: 0.9739349418004155\n"
     ]
    },
    {
     "name": "stderr",
     "output_type": "stream",
     "text": [
      "[08:36:06] task [xgboost.dask]:tcp://10.100.38.13:45319 got new rank 0\n",
      "[08:36:06] task [xgboost.dask]:tcp://10.100.38.13:36513 got new rank 1\n",
      "[08:36:06] task [xgboost.dask]:tcp://10.100.38.13:36199 got new rank 2\n",
      "[08:36:07] task [xgboost.dask]:tcp://10.100.38.13:37355 got new rank 3\n",
      "\u001b[32m[I 2022-05-26 08:36:09,747]\u001b[0m Trial 17 finished with value: 0.9617102669667954 and parameters: {'n_estimators': 50, 'booster': 'dart', 'lambda': 4.5256526201555544e-07, 'alpha': 5.035643425438136e-06, 'subsample': 0.18269928807422675, 'colsample_bytree': 0.18617188578603672, 'max_depth': 5, 'min_child_weight': 2, 'eta': 0.00022168219558239846, 'gamma': 1.842847543682915e-05, 'grow_policy': 'depthwise'}. Best is trial 6 with value: 0.9756784478712122.\u001b[0m\n"
     ]
    },
    {
     "name": "stdout",
     "output_type": "stream",
     "text": [
      "Confusion matrix\n",
      "TP:     82458 FN:      4368\n",
      "FP:      2198 TN:    112249\n",
      "Precision: 0.974036099036099\n",
      "F1 score: 0.9617102669667954\n"
     ]
    },
    {
     "name": "stderr",
     "output_type": "stream",
     "text": [
      "[08:36:09] task [xgboost.dask]:tcp://10.100.38.13:45319 got new rank 0\n",
      "[08:36:10] task [xgboost.dask]:tcp://10.100.38.13:36199 got new rank 1\n",
      "[08:36:10] task [xgboost.dask]:tcp://10.100.38.13:36513 got new rank 2\n",
      "[08:36:10] task [xgboost.dask]:tcp://10.100.38.13:37355 got new rank 3\n",
      "\u001b[32m[I 2022-05-26 08:36:19,633]\u001b[0m Trial 18 finished with value: 0.9764612505721023 and parameters: {'n_estimators': 250, 'booster': 'gbtree', 'lambda': 2.2431837997576566e-05, 'alpha': 6.183644089353808e-05, 'subsample': 0.14309806049342685, 'colsample_bytree': 0.1334623488793163, 'max_depth': 12, 'min_child_weight': 3, 'eta': 0.08980815489282284, 'gamma': 7.1231083187836354e-06, 'grow_policy': 'depthwise'}. Best is trial 18 with value: 0.9764612505721023.\u001b[0m\n"
     ]
    },
    {
     "name": "stdout",
     "output_type": "stream",
     "text": [
      "Confusion matrix\n",
      "TP:     84273 FN:      2553\n",
      "FP:      1510 TN:    112937\n",
      "Precision: 0.9823974447151533\n",
      "F1 score: 0.9764612505721023\n"
     ]
    },
    {
     "name": "stderr",
     "output_type": "stream",
     "text": [
      "[08:36:19] task [xgboost.dask]:tcp://10.100.38.13:36199 got new rank 0\n",
      "[08:36:19] task [xgboost.dask]:tcp://10.100.38.13:45319 got new rank 1\n",
      "[08:36:20] task [xgboost.dask]:tcp://10.100.38.13:36513 got new rank 2\n",
      "[08:36:20] task [xgboost.dask]:tcp://10.100.38.13:37355 got new rank 3\n",
      "\u001b[32m[I 2022-05-26 08:36:22,977]\u001b[0m Trial 19 finished with value: 0.9591154928919363 and parameters: {'n_estimators': 250, 'booster': 'gbtree', 'lambda': 5.4026567417695546e-05, 'alpha': 1.8492653684486334e-07, 'subsample': 0.2829226076752207, 'colsample_bytree': 0.13467180866596162, 'max_depth': 12, 'min_child_weight': 4, 'eta': 4.4668622516758035e-06, 'gamma': 6.88647493206662e-06, 'grow_policy': 'depthwise'}. Best is trial 18 with value: 0.9764612505721023.\u001b[0m\n"
     ]
    },
    {
     "name": "stdout",
     "output_type": "stream",
     "text": [
      "Confusion matrix\n",
      "TP:     82107 FN:      4719\n",
      "FP:      2281 TN:    112166\n",
      "Precision: 0.9729700905341991\n",
      "F1 score: 0.9591154928919363\n"
     ]
    },
    {
     "name": "stderr",
     "output_type": "stream",
     "text": [
      "[08:36:23] task [xgboost.dask]:tcp://10.100.38.13:36513 got new rank 0\n",
      "[08:36:23] task [xgboost.dask]:tcp://10.100.38.13:45319 got new rank 1\n",
      "[08:36:23] task [xgboost.dask]:tcp://10.100.38.13:36199 got new rank 2\n",
      "[08:36:23] task [xgboost.dask]:tcp://10.100.38.13:37355 got new rank 3\n",
      "\u001b[32m[I 2022-05-26 08:36:26,197]\u001b[0m Trial 20 finished with value: 0.9604741930026195 and parameters: {'n_estimators': 250, 'booster': 'gbtree', 'lambda': 1.165817435139433e-05, 'alpha': 0.00011175623648466314, 'subsample': 0.2147777581793442, 'colsample_bytree': 0.13190609521448735, 'max_depth': 12, 'min_child_weight': 3, 'eta': 0.054645880399897914, 'gamma': 0.00022192068664817196, 'grow_policy': 'depthwise'}. Best is trial 18 with value: 0.9764612505721023.\u001b[0m\n"
     ]
    },
    {
     "name": "stdout",
     "output_type": "stream",
     "text": [
      "Confusion matrix\n",
      "TP:     82316 FN:      4510\n",
      "FP:      2265 TN:    112182\n",
      "Precision: 0.9732209361440513\n",
      "F1 score: 0.9604741930026195\n"
     ]
    },
    {
     "name": "stderr",
     "output_type": "stream",
     "text": [
      "[08:36:26] task [xgboost.dask]:tcp://10.100.38.13:36513 got new rank 0\n",
      "[08:36:26] task [xgboost.dask]:tcp://10.100.38.13:36199 got new rank 1\n",
      "[08:36:26] task [xgboost.dask]:tcp://10.100.38.13:45319 got new rank 2\n",
      "[08:36:26] task [xgboost.dask]:tcp://10.100.38.13:37355 got new rank 3\n",
      "\u001b[32m[I 2022-05-26 08:36:30,257]\u001b[0m Trial 21 finished with value: 0.964484391656133 and parameters: {'n_estimators': 100, 'booster': 'gbtree', 'lambda': 6.417397352019783e-07, 'alpha': 3.391046295249479e-05, 'subsample': 0.1367331053082946, 'colsample_bytree': 0.1063429297462071, 'max_depth': 9, 'min_child_weight': 2, 'eta': 0.12082366313611154, 'gamma': 6.409081652897897e-06, 'grow_policy': 'depthwise'}. Best is trial 18 with value: 0.9764612505721023.\u001b[0m\n"
     ]
    },
    {
     "name": "stdout",
     "output_type": "stream",
     "text": [
      "Confusion matrix\n",
      "TP:     82787 FN:      4039\n",
      "FP:      2058 TN:    112389\n",
      "Precision: 0.9757440037715834\n",
      "F1 score: 0.964484391656133\n"
     ]
    },
    {
     "name": "stderr",
     "output_type": "stream",
     "text": [
      "[08:36:30] task [xgboost.dask]:tcp://10.100.38.13:36513 got new rank 0\n",
      "[08:36:30] task [xgboost.dask]:tcp://10.100.38.13:36199 got new rank 1\n",
      "[08:36:30] task [xgboost.dask]:tcp://10.100.38.13:45319 got new rank 2\n",
      "[08:36:30] task [xgboost.dask]:tcp://10.100.38.13:37355 got new rank 3\n",
      "\u001b[32m[I 2022-05-26 08:36:34,540]\u001b[0m Trial 22 finished with value: 0.9764732450476846 and parameters: {'n_estimators': 500, 'booster': 'gbtree', 'lambda': 1.0412213384043082e-05, 'alpha': 3.06570774378904e-06, 'subsample': 0.13950800601160188, 'colsample_bytree': 0.22286931486912168, 'max_depth': 8, 'min_child_weight': 3, 'eta': 0.08594356233104516, 'gamma': 0.000176416283989272, 'grow_policy': 'depthwise'}. Best is trial 22 with value: 0.9764732450476846.\u001b[0m\n"
     ]
    },
    {
     "name": "stdout",
     "output_type": "stream",
     "text": [
      "Confusion matrix\n",
      "TP:     84317 FN:      2509\n",
      "FP:      1554 TN:    112893\n",
      "Precision: 0.9819030871889229\n",
      "F1 score: 0.9764732450476846\n"
     ]
    },
    {
     "name": "stderr",
     "output_type": "stream",
     "text": [
      "[08:36:34] task [xgboost.dask]:tcp://10.100.38.13:36199 got new rank 0\n",
      "[08:36:34] task [xgboost.dask]:tcp://10.100.38.13:45319 got new rank 1\n",
      "[08:36:34] task [xgboost.dask]:tcp://10.100.38.13:36513 got new rank 2\n",
      "[08:36:34] task [xgboost.dask]:tcp://10.100.38.13:37355 got new rank 3\n",
      "\u001b[32m[I 2022-05-26 08:36:37,174]\u001b[0m Trial 23 finished with value: 0.9640617083355172 and parameters: {'n_estimators': 500, 'booster': 'gbtree', 'lambda': 1.5205524150625226e-05, 'alpha': 2.3050381528265393e-06, 'subsample': 0.1775295832553995, 'colsample_bytree': 0.21460018806042186, 'max_depth': 6, 'min_child_weight': 3, 'eta': 0.0008257112729292033, 'gamma': 0.0004224768578559095, 'grow_policy': 'depthwise'}. Best is trial 22 with value: 0.9764732450476846.\u001b[0m\n"
     ]
    },
    {
     "name": "stdout",
     "output_type": "stream",
     "text": [
      "Confusion matrix\n",
      "TP:     82770 FN:      4056\n",
      "FP:      2115 TN:    112332\n",
      "Precision: 0.9750839370913589\n",
      "F1 score: 0.9640617083355172\n"
     ]
    },
    {
     "name": "stderr",
     "output_type": "stream",
     "text": [
      "[08:36:37] task [xgboost.dask]:tcp://10.100.38.13:36513 got new rank 0\n",
      "[08:36:37] task [xgboost.dask]:tcp://10.100.38.13:36199 got new rank 1\n",
      "[08:36:37] task [xgboost.dask]:tcp://10.100.38.13:45319 got new rank 2\n",
      "[08:36:37] task [xgboost.dask]:tcp://10.100.38.13:37355 got new rank 3\n",
      "\u001b[32m[I 2022-05-26 08:36:41,709]\u001b[0m Trial 24 finished with value: 0.9708345432371217 and parameters: {'n_estimators': 500, 'booster': 'gbtree', 'lambda': 0.00010629168456307748, 'alpha': 0.0009121388582100418, 'subsample': 0.13449307312447273, 'colsample_bytree': 0.18534348118337063, 'max_depth': 10, 'min_child_weight': 3, 'eta': 0.021798141251908255, 'gamma': 0.005914495797618572, 'grow_policy': 'depthwise'}. Best is trial 22 with value: 0.9764732450476846.\u001b[0m\n"
     ]
    },
    {
     "name": "stdout",
     "output_type": "stream",
     "text": [
      "Confusion matrix\n",
      "TP:     83584 FN:      3242\n",
      "FP:      1780 TN:    112667\n",
      "Precision: 0.979148118644862\n",
      "F1 score: 0.9708345432371217\n"
     ]
    },
    {
     "name": "stderr",
     "output_type": "stream",
     "text": [
      "[08:36:41] task [xgboost.dask]:tcp://10.100.38.13:36199 got new rank 0\n",
      "[08:36:42] task [xgboost.dask]:tcp://10.100.38.13:36513 got new rank 1\n",
      "[08:36:42] task [xgboost.dask]:tcp://10.100.38.13:45319 got new rank 2\n",
      "[08:36:42] task [xgboost.dask]:tcp://10.100.38.13:37355 got new rank 3\n",
      "\u001b[32m[I 2022-05-26 08:36:44,927]\u001b[0m Trial 25 finished with value: 0.9751217281048628 and parameters: {'n_estimators': 750, 'booster': 'gbtree', 'lambda': 0.009087185329510982, 'alpha': 5.961217553060516e-08, 'subsample': 0.17598554562161262, 'colsample_bytree': 0.1491815926062275, 'max_depth': 8, 'min_child_weight': 4, 'eta': 0.28218230564884705, 'gamma': 4.993713975229846e-06, 'grow_policy': 'depthwise'}. Best is trial 22 with value: 0.9764732450476846.\u001b[0m\n"
     ]
    },
    {
     "name": "stdout",
     "output_type": "stream",
     "text": [
      "Confusion matrix\n",
      "TP:     84212 FN:      2614\n",
      "FP:      1683 TN:    112764\n",
      "Precision: 0.9804063100296874\n",
      "F1 score: 0.9751217281048628\n"
     ]
    },
    {
     "name": "stderr",
     "output_type": "stream",
     "text": [
      "[08:36:45] task [xgboost.dask]:tcp://10.100.38.13:36513 got new rank 0\n",
      "[08:36:45] task [xgboost.dask]:tcp://10.100.38.13:36199 got new rank 1\n",
      "[08:36:45] task [xgboost.dask]:tcp://10.100.38.13:45319 got new rank 2\n",
      "[08:36:45] task [xgboost.dask]:tcp://10.100.38.13:37355 got new rank 3\n",
      "\u001b[32m[I 2022-05-26 08:36:49,850]\u001b[0m Trial 26 finished with value: 0.9686775279135594 and parameters: {'n_estimators': 250, 'booster': 'gbtree', 'lambda': 1.6301115941667025e-07, 'alpha': 1.0982986676874029e-06, 'subsample': 0.14102688080425746, 'colsample_bytree': 0.1936091598162398, 'max_depth': 11, 'min_child_weight': 3, 'eta': 0.0021935488989415133, 'gamma': 1.0155991376865296e-07, 'grow_policy': 'lossguide'}. Best is trial 22 with value: 0.9764732450476846.\u001b[0m\n"
     ]
    },
    {
     "name": "stdout",
     "output_type": "stream",
     "text": [
      "Confusion matrix\n",
      "TP:     83330 FN:      3496\n",
      "FP:      1893 TN:    112554\n",
      "Precision: 0.9777876864226793\n",
      "F1 score: 0.9686775279135594\n"
     ]
    },
    {
     "name": "stderr",
     "output_type": "stream",
     "text": [
      "[08:36:50] task [xgboost.dask]:tcp://10.100.38.13:36513 got new rank 0\n",
      "[08:36:50] task [xgboost.dask]:tcp://10.100.38.13:36199 got new rank 1\n",
      "[08:36:50] task [xgboost.dask]:tcp://10.100.38.13:45319 got new rank 2\n",
      "[08:36:50] task [xgboost.dask]:tcp://10.100.38.13:37355 got new rank 3\n",
      "\u001b[32m[I 2022-05-26 08:36:53,649]\u001b[0m Trial 27 finished with value: 0.9705099752506885 and parameters: {'n_estimators': 500, 'booster': 'gbtree', 'lambda': 1.0441744302613383e-08, 'alpha': 9.130006587223965e-05, 'subsample': 0.2167230225781671, 'colsample_bytree': 0.218590818634796, 'max_depth': 9, 'min_child_weight': 4, 'eta': 0.024478873872318577, 'gamma': 9.79045338136547e-05, 'grow_policy': 'depthwise'}. Best is trial 22 with value: 0.9764732450476846.\u001b[0m\n"
     ]
    },
    {
     "name": "stdout",
     "output_type": "stream",
     "text": [
      "Confusion matrix\n",
      "TP:     83525 FN:      3301\n",
      "FP:      1775 TN:    112672\n",
      "Precision: 0.9791910902696366\n",
      "F1 score: 0.9705099752506885\n"
     ]
    },
    {
     "name": "stderr",
     "output_type": "stream",
     "text": [
      "[08:36:53] task [xgboost.dask]:tcp://10.100.38.13:36513 got new rank 0\n",
      "[08:36:53] task [xgboost.dask]:tcp://10.100.38.13:36199 got new rank 1\n",
      "[08:36:53] task [xgboost.dask]:tcp://10.100.38.13:45319 got new rank 2\n",
      "[08:36:54] task [xgboost.dask]:tcp://10.100.38.13:37355 got new rank 3\n",
      "\u001b[32m[I 2022-05-26 08:36:56,523]\u001b[0m Trial 28 finished with value: 0.9759036144578314 and parameters: {'n_estimators': 250, 'booster': 'gbtree', 'lambda': 8.824586210477237e-06, 'alpha': 8.767652186145234e-08, 'subsample': 0.27179848588372046, 'colsample_bytree': 0.14839506111775677, 'max_depth': 6, 'min_child_weight': 3, 'eta': 0.2550291124451354, 'gamma': 0.007961614037671528, 'grow_policy': 'depthwise'}. Best is trial 22 with value: 0.9764732450476846.\u001b[0m\n"
     ]
    },
    {
     "name": "stdout",
     "output_type": "stream",
     "text": [
      "Confusion matrix\n",
      "TP:     84240 FN:      2586\n",
      "FP:      1574 TN:    112873\n",
      "Precision: 0.9816580045214067\n",
      "F1 score: 0.9759036144578314\n"
     ]
    },
    {
     "name": "stderr",
     "output_type": "stream",
     "text": [
      "[08:36:56] task [xgboost.dask]:tcp://10.100.38.13:36199 got new rank 0\n",
      "[08:36:56] task [xgboost.dask]:tcp://10.100.38.13:45319 got new rank 1\n",
      "[08:36:56] task [xgboost.dask]:tcp://10.100.38.13:36513 got new rank 2\n",
      "[08:36:56] task [xgboost.dask]:tcp://10.100.38.13:37355 got new rank 3\n",
      "\u001b[32m[I 2022-05-26 08:36:58,537]\u001b[0m Trial 29 finished with value: 0.9571285675010092 and parameters: {'n_estimators': 250, 'booster': 'gbtree', 'lambda': 7.897312449222198e-06, 'alpha': 4.1142974783537695e-08, 'subsample': 0.16901910407193452, 'colsample_bytree': 0.14810954418608477, 'max_depth': 5, 'min_child_weight': 3, 'eta': 3.007924024684446e-05, 'gamma': 0.024335440384509546, 'grow_policy': 'lossguide'}. Best is trial 22 with value: 0.9764732450476846.\u001b[0m\n"
     ]
    },
    {
     "name": "stdout",
     "output_type": "stream",
     "text": [
      "Confusion matrix\n",
      "TP:     81812 FN:      5014\n",
      "FP:      2315 TN:    112132\n",
      "Precision: 0.9724820806637584\n",
      "F1 score: 0.9571285675010092\n"
     ]
    },
    {
     "name": "stderr",
     "output_type": "stream",
     "text": [
      "[08:36:58] task [xgboost.dask]:tcp://10.100.38.13:36513 got new rank 0\n",
      "[08:36:58] task [xgboost.dask]:tcp://10.100.38.13:45319 got new rank 1\n",
      "[08:36:58] task [xgboost.dask]:tcp://10.100.38.13:36199 got new rank 2\n",
      "[08:36:58] task [xgboost.dask]:tcp://10.100.38.13:37355 got new rank 3\n",
      "\u001b[32m[I 2022-05-26 08:37:00,795]\u001b[0m Trial 30 finished with value: 0.9271003360537685 and parameters: {'n_estimators': 250, 'booster': 'gbtree', 'lambda': 0.17107999952270855, 'alpha': 1.4131655051432656e-07, 'subsample': 0.2831917102240625, 'colsample_bytree': 0.11687818215430712, 'max_depth': 15, 'min_child_weight': 3, 'eta': 2.9889060052886994e-05, 'gamma': 0.0011710712357653403, 'grow_policy': 'depthwise'}. Best is trial 22 with value: 0.9764732450476846.\u001b[0m\n"
     ]
    },
    {
     "name": "stdout",
     "output_type": "stream",
     "text": [
      "Confusion matrix\n",
      "TP:     77246 FN:      9580\n",
      "FP:      2568 TN:    111879\n",
      "Precision: 0.967825193575062\n",
      "F1 score: 0.9271003360537685\n"
     ]
    },
    {
     "name": "stderr",
     "output_type": "stream",
     "text": [
      "[08:37:01] task [xgboost.dask]:tcp://10.100.38.13:36513 got new rank 0\n",
      "[08:37:01] task [xgboost.dask]:tcp://10.100.38.13:36199 got new rank 1\n",
      "[08:37:01] task [xgboost.dask]:tcp://10.100.38.13:45319 got new rank 2\n",
      "[08:37:01] task [xgboost.dask]:tcp://10.100.38.13:37355 got new rank 3\n",
      "\u001b[32m[I 2022-05-26 08:37:03,705]\u001b[0m Trial 31 finished with value: 0.9744448371155283 and parameters: {'n_estimators': 250, 'booster': 'gbtree', 'lambda': 0.0002561601603913308, 'alpha': 5.173302635081899e-06, 'subsample': 0.10243419081765662, 'colsample_bytree': 0.1755008020007784, 'max_depth': 6, 'min_child_weight': 3, 'eta': 0.2957655802510255, 'gamma': 0.0004792303987662757, 'grow_policy': 'depthwise'}. Best is trial 22 with value: 0.9764732450476846.\u001b[0m\n"
     ]
    },
    {
     "name": "stdout",
     "output_type": "stream",
     "text": [
      "Confusion matrix\n",
      "TP:     84098 FN:      2728\n",
      "FP:      1683 TN:    112764\n",
      "Precision: 0.9803802706893134\n",
      "F1 score: 0.9744448371155283\n"
     ]
    },
    {
     "name": "stderr",
     "output_type": "stream",
     "text": [
      "[08:37:03] task [xgboost.dask]:tcp://10.100.38.13:36513 got new rank 0\n",
      "[08:37:03] task [xgboost.dask]:tcp://10.100.38.13:45319 got new rank 1\n",
      "[08:37:04] task [xgboost.dask]:tcp://10.100.38.13:36199 got new rank 2\n",
      "[08:37:04] task [xgboost.dask]:tcp://10.100.38.13:37355 got new rank 3\n",
      "\u001b[32m[I 2022-05-26 08:37:06,175]\u001b[0m Trial 32 finished with value: 0.974336365323928 and parameters: {'n_estimators': 500, 'booster': 'gbtree', 'lambda': 3.089484596968091e-05, 'alpha': 5.321190893032975e-07, 'subsample': 0.25967526274942226, 'colsample_bytree': 0.14774623929618425, 'max_depth': 6, 'min_child_weight': 4, 'eta': 0.33360741018167867, 'gamma': 0.006749813734056021, 'grow_policy': 'depthwise'}. Best is trial 22 with value: 0.9764732450476846.\u001b[0m\n"
     ]
    },
    {
     "name": "stdout",
     "output_type": "stream",
     "text": [
      "Confusion matrix\n",
      "TP:     83980 FN:      2846\n",
      "FP:      1578 TN:    112869\n",
      "Precision: 0.9815563711166694\n",
      "F1 score: 0.974336365323928\n"
     ]
    },
    {
     "name": "stderr",
     "output_type": "stream",
     "text": [
      "[08:37:06] task [xgboost.dask]:tcp://10.100.38.13:36513 got new rank 0\n",
      "[08:37:06] task [xgboost.dask]:tcp://10.100.38.13:36199 got new rank 1\n",
      "[08:37:06] task [xgboost.dask]:tcp://10.100.38.13:45319 got new rank 2\n",
      "[08:37:06] task [xgboost.dask]:tcp://10.100.38.13:37355 got new rank 3\n",
      "\u001b[32m[I 2022-05-26 08:37:09,748]\u001b[0m Trial 33 finished with value: 0.9644954556047541 and parameters: {'n_estimators': 250, 'booster': 'gbtree', 'lambda': 1.891904832803622e-07, 'alpha': 0.0029243705432248188, 'subsample': 0.2691471266231212, 'colsample_bytree': 0.14039443391691792, 'max_depth': 8, 'min_child_weight': 3, 'eta': 0.02408966210704335, 'gamma': 1.2203267689992482e-05, 'grow_policy': 'depthwise'}. Best is trial 22 with value: 0.9764732450476846.\u001b[0m\n"
     ]
    },
    {
     "name": "stdout",
     "output_type": "stream",
     "text": [
      "Confusion matrix\n",
      "TP:     82773 FN:      4053\n",
      "FP:      2041 TN:    112406\n",
      "Precision: 0.9759355766736624\n",
      "F1 score: 0.9644954556047541\n"
     ]
    },
    {
     "name": "stderr",
     "output_type": "stream",
     "text": [
      "[08:37:09] task [xgboost.dask]:tcp://10.100.38.13:36513 got new rank 0\n",
      "[08:37:10] task [xgboost.dask]:tcp://10.100.38.13:45319 got new rank 1\n",
      "[08:37:10] task [xgboost.dask]:tcp://10.100.38.13:36199 got new rank 2\n",
      "[08:37:10] task [xgboost.dask]:tcp://10.100.38.13:37355 got new rank 3\n",
      "\u001b[32m[I 2022-05-26 08:37:11,778]\u001b[0m Trial 34 finished with value: 0.9557069646898785 and parameters: {'n_estimators': 750, 'booster': 'gbtree', 'lambda': 1.4007359892306509e-06, 'alpha': 0.02142892747042302, 'subsample': 0.23413668098376111, 'colsample_bytree': 0.16119206509902642, 'max_depth': 4, 'min_child_weight': 5, 'eta': 0.006580893819170303, 'gamma': 2.016634218872605e-06, 'grow_policy': 'lossguide'}. Best is trial 22 with value: 0.9764732450476846.\u001b[0m\n"
     ]
    },
    {
     "name": "stdout",
     "output_type": "stream",
     "text": [
      "Confusion matrix\n",
      "TP:     81496 FN:      5330\n",
      "FP:      2224 TN:    112223\n",
      "Precision: 0.9734352603917821\n",
      "F1 score: 0.9557069646898785\n"
     ]
    },
    {
     "name": "stderr",
     "output_type": "stream",
     "text": [
      "[08:37:11] task [xgboost.dask]:tcp://10.100.38.13:45319 got new rank 0\n",
      "[08:37:12] task [xgboost.dask]:tcp://10.100.38.13:36513 got new rank 1\n",
      "[08:37:12] task [xgboost.dask]:tcp://10.100.38.13:36199 got new rank 2\n",
      "[08:37:12] task [xgboost.dask]:tcp://10.100.38.13:37355 got new rank 3\n",
      "\u001b[32m[I 2022-05-26 08:37:14,923]\u001b[0m Trial 35 finished with value: 0.975629531818287 and parameters: {'n_estimators': 200, 'booster': 'gbtree', 'lambda': 0.0013959742678521818, 'alpha': 8.325656596663532e-08, 'subsample': 0.20480154762393674, 'colsample_bytree': 0.11857694203512088, 'max_depth': 7, 'min_child_weight': 3, 'eta': 0.22121906483747472, 'gamma': 0.0002791584972014534, 'grow_policy': 'depthwise'}. Best is trial 22 with value: 0.9764732450476846.\u001b[0m\n"
     ]
    },
    {
     "name": "stdout",
     "output_type": "stream",
     "text": [
      "Confusion matrix\n",
      "TP:     84230 FN:      2596\n",
      "FP:      1612 TN:    112835\n",
      "Precision: 0.981221313576105\n",
      "F1 score: 0.975629531818287\n"
     ]
    },
    {
     "name": "stderr",
     "output_type": "stream",
     "text": [
      "[08:37:15] task [xgboost.dask]:tcp://10.100.38.13:36513 got new rank 0\n",
      "[08:37:15] task [xgboost.dask]:tcp://10.100.38.13:45319 got new rank 1\n",
      "[08:37:15] task [xgboost.dask]:tcp://10.100.38.13:36199 got new rank 2\n",
      "[08:37:15] task [xgboost.dask]:tcp://10.100.38.13:37355 got new rank 3\n",
      "\u001b[32m[I 2022-05-26 08:37:22,700]\u001b[0m Trial 36 finished with value: 0.9743072112679325 and parameters: {'n_estimators': 100, 'booster': 'gbtree', 'lambda': 6.603958448055929e-06, 'alpha': 4.0129768273722506e-07, 'subsample': 0.2399261404873489, 'colsample_bytree': 0.1788092951505617, 'max_depth': 11, 'min_child_weight': 4, 'eta': 0.03534299320598422, 'gamma': 7.398141528047863e-05, 'grow_policy': 'depthwise'}. Best is trial 22 with value: 0.9764732450476846.\u001b[0m\n"
     ]
    },
    {
     "name": "stdout",
     "output_type": "stream",
     "text": [
      "Confusion matrix\n",
      "TP:     83977 FN:      2849\n",
      "FP:      1580 TN:    112867\n",
      "Precision: 0.9815327793167128\n",
      "F1 score: 0.9743072112679325\n"
     ]
    },
    {
     "name": "stderr",
     "output_type": "stream",
     "text": [
      "[08:37:22] task [xgboost.dask]:tcp://10.100.38.13:36513 got new rank 0\n",
      "[08:37:23] task [xgboost.dask]:tcp://10.100.38.13:36199 got new rank 1\n",
      "[08:37:23] task [xgboost.dask]:tcp://10.100.38.13:45319 got new rank 2\n",
      "[08:37:23] task [xgboost.dask]:tcp://10.100.38.13:37355 got new rank 3\n",
      "\u001b[32m[I 2022-05-26 08:37:25,795]\u001b[0m Trial 37 finished with value: 0.9673549107142857 and parameters: {'n_estimators': 250, 'booster': 'gbtree', 'lambda': 4.7454740757786406e-05, 'alpha': 3.5957250783883064e-06, 'subsample': 0.12163678946605, 'colsample_bytree': 0.20630671684655014, 'max_depth': 9, 'min_child_weight': 4, 'eta': 0.004116683874966574, 'gamma': 0.002396035035742809, 'grow_policy': 'lossguide'}. Best is trial 22 with value: 0.9764732450476846.\u001b[0m\n"
     ]
    },
    {
     "name": "stdout",
     "output_type": "stream",
     "text": [
      "Confusion matrix\n",
      "TP:     83208 FN:      3618\n",
      "FP:      1998 TN:    112449\n",
      "Precision: 0.9765509471164002\n",
      "F1 score: 0.9673549107142857\n"
     ]
    },
    {
     "name": "stderr",
     "output_type": "stream",
     "text": [
      "[08:37:26] task [xgboost.dask]:tcp://10.100.38.13:37355 got new rank 0\n",
      "[08:37:26] task [xgboost.dask]:tcp://10.100.38.13:36199 got new rank 1\n",
      "[08:37:26] task [xgboost.dask]:tcp://10.100.38.13:45319 got new rank 2\n",
      "[08:37:26] task [xgboost.dask]:tcp://10.100.38.13:36513 got new rank 3\n",
      "\u001b[32m[I 2022-05-26 08:37:27,959]\u001b[0m Trial 38 finished with value: 0.9557351514973403 and parameters: {'n_estimators': 500, 'booster': 'gbtree', 'lambda': 0.0004518734972995828, 'alpha': 8.234128708026129e-07, 'subsample': 0.2756327058728182, 'colsample_bytree': 0.16992495318561907, 'max_depth': 4, 'min_child_weight': 5, 'eta': 3.335126608267263e-07, 'gamma': 3.9744330117806046e-07, 'grow_policy': 'depthwise'}. Best is trial 22 with value: 0.9764732450476846.\u001b[0m\n"
     ]
    },
    {
     "name": "stdout",
     "output_type": "stream",
     "text": [
      "Confusion matrix\n",
      "TP:     81302 FN:      5524\n",
      "FP:      2007 TN:    112440\n",
      "Precision: 0.9759089654179021\n",
      "F1 score: 0.9557351514973403\n"
     ]
    },
    {
     "name": "stderr",
     "output_type": "stream",
     "text": [
      "[08:37:28] task [xgboost.dask]:tcp://10.100.38.13:36513 got new rank 0\n",
      "[08:37:28] task [xgboost.dask]:tcp://10.100.38.13:36199 got new rank 1\n",
      "[08:37:28] task [xgboost.dask]:tcp://10.100.38.13:45319 got new rank 2\n",
      "[08:37:28] task [xgboost.dask]:tcp://10.100.38.13:37355 got new rank 3\n",
      "\u001b[32m[I 2022-05-26 08:37:30,604]\u001b[0m Trial 39 finished with value: 0.9703159501517703 and parameters: {'n_estimators': 300, 'booster': 'dart', 'lambda': 0.0026262072090356835, 'alpha': 1.5236973232895284e-05, 'subsample': 0.2493547783520053, 'colsample_bytree': 0.298433564362568, 'max_depth': 10, 'min_child_weight': 3, 'eta': 0.0006535699655362545, 'gamma': 0.015992495805138868, 'grow_policy': 'depthwise'}. Best is trial 22 with value: 0.9764732450476846.\u001b[0m\n"
     ]
    },
    {
     "name": "stdout",
     "output_type": "stream",
     "text": [
      "Confusion matrix\n",
      "TP:     83273 FN:      3553\n",
      "FP:      1542 TN:    112905\n",
      "Precision: 0.9818192536697519\n",
      "F1 score: 0.9703159501517703\n"
     ]
    },
    {
     "name": "stderr",
     "output_type": "stream",
     "text": [
      "[08:37:30] task [xgboost.dask]:tcp://10.100.38.13:45319 got new rank 0\n",
      "[08:37:30] task [xgboost.dask]:tcp://10.100.38.13:36513 got new rank 1\n",
      "[08:37:30] task [xgboost.dask]:tcp://10.100.38.13:36199 got new rank 2\n",
      "[08:37:31] task [xgboost.dask]:tcp://10.100.38.13:37355 got new rank 3\n",
      "\u001b[32m[I 2022-05-26 08:37:32,873]\u001b[0m Trial 40 finished with value: 0.9646791793976429 and parameters: {'n_estimators': 200, 'booster': 'gbtree', 'lambda': 3.6296012727283876e-08, 'alpha': 4.9866405176067685e-05, 'subsample': 0.19769022428762778, 'colsample_bytree': 0.19404470089679046, 'max_depth': 6, 'min_child_weight': 4, 'eta': 0.01205760888679884, 'gamma': 0.09091487152033569, 'grow_policy': 'lossguide'}. Best is trial 22 with value: 0.9764732450476846.\u001b[0m\n"
     ]
    },
    {
     "name": "stdout",
     "output_type": "stream",
     "text": [
      "Confusion matrix\n",
      "TP:     82878 FN:      3948\n",
      "FP:      2121 TN:    112326\n",
      "Precision: 0.9750467652560618\n",
      "F1 score: 0.9646791793976429\n"
     ]
    },
    {
     "name": "stderr",
     "output_type": "stream",
     "text": [
      "[08:37:33] task [xgboost.dask]:tcp://10.100.38.13:45319 got new rank 0\n",
      "[08:37:33] task [xgboost.dask]:tcp://10.100.38.13:36513 got new rank 1\n",
      "[08:37:33] task [xgboost.dask]:tcp://10.100.38.13:36199 got new rank 2\n",
      "[08:37:33] task [xgboost.dask]:tcp://10.100.38.13:37355 got new rank 3\n",
      "\u001b[32m[I 2022-05-26 08:37:36,390]\u001b[0m Trial 41 finished with value: 0.9759468885052544 and parameters: {'n_estimators': 200, 'booster': 'gbtree', 'lambda': 0.002046972249213799, 'alpha': 8.288164563965068e-08, 'subsample': 0.22578489133788904, 'colsample_bytree': 0.12717983810380837, 'max_depth': 7, 'min_child_weight': 3, 'eta': 0.18012173894622613, 'gamma': 0.00014833262002694262, 'grow_policy': 'depthwise'}. Best is trial 22 with value: 0.9764732450476846.\u001b[0m\n"
     ]
    },
    {
     "name": "stdout",
     "output_type": "stream",
     "text": [
      "Confusion matrix\n",
      "TP:     84233 FN:      2593\n",
      "FP:      1559 TN:    112888\n",
      "Precision: 0.9818281424841477\n",
      "F1 score: 0.9759468885052544\n"
     ]
    },
    {
     "name": "stderr",
     "output_type": "stream",
     "text": [
      "[08:37:36] task [xgboost.dask]:tcp://10.100.38.13:36513 got new rank 0\n",
      "[08:37:36] task [xgboost.dask]:tcp://10.100.38.13:45319 got new rank 1\n",
      "[08:37:36] task [xgboost.dask]:tcp://10.100.38.13:36199 got new rank 2\n",
      "[08:37:36] task [xgboost.dask]:tcp://10.100.38.13:37355 got new rank 3\n",
      "\u001b[32m[I 2022-05-26 08:37:38,975]\u001b[0m Trial 42 finished with value: 0.9746803187546329 and parameters: {'n_estimators': 200, 'booster': 'gbtree', 'lambda': 0.02492933328938483, 'alpha': 2.432808359783519e-07, 'subsample': 0.23161296374197599, 'colsample_bytree': 0.11934189490183873, 'max_depth': 7, 'min_child_weight': 3, 'eta': 0.5453646712391564, 'gamma': 0.00011805757114481754, 'grow_policy': 'depthwise'}. Best is trial 22 with value: 0.9764732450476846.\u001b[0m\n"
     ]
    },
    {
     "name": "stdout",
     "output_type": "stream",
     "text": [
      "Confusion matrix\n",
      "TP:     84150 FN:      2676\n",
      "FP:      1696 TN:    112751\n",
      "Precision: 0.9802436921929968\n",
      "F1 score: 0.9746803187546329\n"
     ]
    },
    {
     "name": "stderr",
     "output_type": "stream",
     "text": [
      "[08:37:39] task [xgboost.dask]:tcp://10.100.38.13:36199 got new rank 0\n",
      "[08:37:39] task [xgboost.dask]:tcp://10.100.38.13:36513 got new rank 1\n",
      "[08:37:39] task [xgboost.dask]:tcp://10.100.38.13:45319 got new rank 2\n",
      "[08:37:39] task [xgboost.dask]:tcp://10.100.38.13:37355 got new rank 3\n",
      "\u001b[32m[I 2022-05-26 08:37:44,037]\u001b[0m Trial 43 finished with value: 0.9758503381648111 and parameters: {'n_estimators': 200, 'booster': 'gbtree', 'lambda': 0.0038783153593096244, 'alpha': 3.37017725270598e-08, 'subsample': 0.2262715169872013, 'colsample_bytree': 0.15569828197628766, 'max_depth': 8, 'min_child_weight': 3, 'eta': 0.09130017948908889, 'gamma': 2.893136770365366e-06, 'grow_policy': 'depthwise'}. Best is trial 22 with value: 0.9764732450476846.\u001b[0m\n"
     ]
    },
    {
     "name": "stdout",
     "output_type": "stream",
     "text": [
      "Confusion matrix\n",
      "TP:     84191 FN:      2635\n",
      "FP:      1532 TN:    112915\n",
      "Precision: 0.9821284836041669\n",
      "F1 score: 0.9758503381648111\n"
     ]
    },
    {
     "name": "stderr",
     "output_type": "stream",
     "text": [
      "[08:37:44] task [xgboost.dask]:tcp://10.100.38.13:36199 got new rank 0\n",
      "[08:37:44] task [xgboost.dask]:tcp://10.100.38.13:45319 got new rank 1\n",
      "[08:37:44] task [xgboost.dask]:tcp://10.100.38.13:36513 got new rank 2\n",
      "[08:37:44] task [xgboost.dask]:tcp://10.100.38.13:37355 got new rank 3\n",
      "\u001b[32m[I 2022-05-26 08:37:48,201]\u001b[0m Trial 44 finished with value: 0.9754825550063453 and parameters: {'n_estimators': 200, 'booster': 'gbtree', 'lambda': 0.003749952420728268, 'alpha': 3.5537743012230426e-08, 'subsample': 0.22232778826358388, 'colsample_bytree': 0.15627286887652225, 'max_depth': 7, 'min_child_weight': 3, 'eta': 0.103782660223133, 'gamma': 6.981476773184698e-07, 'grow_policy': 'depthwise'}. Best is trial 22 with value: 0.9764732450476846.\u001b[0m\n"
     ]
    },
    {
     "name": "stdout",
     "output_type": "stream",
     "text": [
      "Confusion matrix\n",
      "TP:     84170 FN:      2656\n",
      "FP:      1575 TN:    112872\n",
      "Precision: 0.9816315820164441\n",
      "F1 score: 0.9754825550063453\n"
     ]
    },
    {
     "name": "stderr",
     "output_type": "stream",
     "text": [
      "[08:37:48] task [xgboost.dask]:tcp://10.100.38.13:45319 got new rank 0\n",
      "[08:37:48] task [xgboost.dask]:tcp://10.100.38.13:36199 got new rank 1\n",
      "[08:37:48] task [xgboost.dask]:tcp://10.100.38.13:36513 got new rank 2\n",
      "[08:37:48] task [xgboost.dask]:tcp://10.100.38.13:37355 got new rank 3\n",
      "\u001b[32m[I 2022-05-26 08:37:50,330]\u001b[0m Trial 45 finished with value: 0.9293168937297052 and parameters: {'n_estimators': 200, 'booster': 'gbtree', 'lambda': 0.4374077920417819, 'alpha': 1.0925225630025462e-07, 'subsample': 0.1880082479227219, 'colsample_bytree': 0.10024101012848655, 'max_depth': 9, 'min_child_weight': 3, 'eta': 0.013390393980164521, 'gamma': 2.6747743458413267e-06, 'grow_policy': 'depthwise'}. Best is trial 22 with value: 0.9764732450476846.\u001b[0m\n"
     ]
    },
    {
     "name": "stdout",
     "output_type": "stream",
     "text": [
      "Confusion matrix\n",
      "TP:     77558 FN:      9268\n",
      "FP:      2530 TN:    111917\n",
      "Precision: 0.9684097492757966\n",
      "F1 score: 0.9293168937297052\n"
     ]
    },
    {
     "name": "stderr",
     "output_type": "stream",
     "text": [
      "[08:37:50] task [xgboost.dask]:tcp://10.100.38.13:36513 got new rank 0\n",
      "[08:37:50] task [xgboost.dask]:tcp://10.100.38.13:36199 got new rank 1\n",
      "[08:37:50] task [xgboost.dask]:tcp://10.100.38.13:45319 got new rank 2\n",
      "[08:37:50] task [xgboost.dask]:tcp://10.100.38.13:37355 got new rank 3\n",
      "\u001b[32m[I 2022-05-26 08:37:53,476]\u001b[0m Trial 46 finished with value: 0.9714385150812065 and parameters: {'n_estimators': 200, 'booster': 'gbtree', 'lambda': 0.00018062556688475958, 'alpha': 1.144617745814999e-08, 'subsample': 0.20586364077728897, 'colsample_bytree': 0.1365177095401218, 'max_depth': 5, 'min_child_weight': 3, 'eta': 0.05601929757255107, 'gamma': 0.0009574324398765622, 'grow_policy': 'depthwise'}. Best is trial 22 with value: 0.9764732450476846.\u001b[0m\n"
     ]
    },
    {
     "name": "stdout",
     "output_type": "stream",
     "text": [
      "Confusion matrix\n",
      "TP:     83738 FN:      3088\n",
      "FP:      1836 TN:    112611\n",
      "Precision: 0.9785448851286606\n",
      "F1 score: 0.9714385150812065\n"
     ]
    },
    {
     "name": "stderr",
     "output_type": "stream",
     "text": [
      "[08:37:53] task [xgboost.dask]:tcp://10.100.38.13:36513 got new rank 0\n",
      "[08:37:53] task [xgboost.dask]:tcp://10.100.38.13:45319 got new rank 1\n",
      "[08:37:53] task [xgboost.dask]:tcp://10.100.38.13:36199 got new rank 2\n",
      "[08:37:53] task [xgboost.dask]:tcp://10.100.38.13:37355 got new rank 3\n",
      "\u001b[32m[I 2022-05-26 08:37:56,120]\u001b[0m Trial 47 finished with value: 0.971506105834464 and parameters: {'n_estimators': 200, 'booster': 'gbtree', 'lambda': 0.0005397282160343724, 'alpha': 4.103867614864964e-08, 'subsample': 0.11054528848992727, 'colsample_bytree': 0.12487788842607968, 'max_depth': 3, 'min_child_weight': 2, 'eta': 0.14385860466342618, 'gamma': 2.811341453383433e-06, 'grow_policy': 'depthwise'}. Best is trial 22 with value: 0.9764732450476846.\u001b[0m\n"
     ]
    },
    {
     "name": "stdout",
     "output_type": "stream",
     "text": [
      "Confusion matrix\n",
      "TP:     83772 FN:      3054\n",
      "FP:      1860 TN:    112587\n",
      "Precision: 0.9782791479820628\n",
      "F1 score: 0.971506105834464\n"
     ]
    },
    {
     "name": "stderr",
     "output_type": "stream",
     "text": [
      "[08:37:56] task [xgboost.dask]:tcp://10.100.38.13:36513 got new rank 0\n",
      "[08:37:56] task [xgboost.dask]:tcp://10.100.38.13:36199 got new rank 1\n",
      "[08:37:56] task [xgboost.dask]:tcp://10.100.38.13:45319 got new rank 2\n",
      "[08:37:56] task [xgboost.dask]:tcp://10.100.38.13:37355 got new rank 3\n",
      "\u001b[32m[I 2022-05-26 08:38:00,578]\u001b[0m Trial 48 finished with value: 0.9682973379045497 and parameters: {'n_estimators': 750, 'booster': 'gbtree', 'lambda': 0.009827387804304297, 'alpha': 2.238494734182856e-08, 'subsample': 0.2999434527936291, 'colsample_bytree': 0.10952880878894682, 'max_depth': 14, 'min_child_weight': 3, 'eta': 0.4428894408536706, 'gamma': 1.3590938563848936e-07, 'grow_policy': 'depthwise'}. Best is trial 22 with value: 0.9764732450476846.\u001b[0m\n"
     ]
    },
    {
     "name": "stdout",
     "output_type": "stream",
     "text": [
      "Confusion matrix\n",
      "TP:     83459 FN:      3367\n",
      "FP:      2098 TN:    112349\n",
      "Precision: 0.9754783360800402\n",
      "F1 score: 0.9682973379045497\n"
     ]
    },
    {
     "name": "stderr",
     "output_type": "stream",
     "text": [
      "[08:38:00] task [xgboost.dask]:tcp://10.100.38.13:36513 got new rank 0\n",
      "[08:38:00] task [xgboost.dask]:tcp://10.100.38.13:36199 got new rank 1\n",
      "[08:38:00] task [xgboost.dask]:tcp://10.100.38.13:45319 got new rank 2\n",
      "[08:38:01] task [xgboost.dask]:tcp://10.100.38.13:37355 got new rank 3\n",
      "\u001b[32m[I 2022-05-26 08:38:03,074]\u001b[0m Trial 49 finished with value: 0.9582313028537366 and parameters: {'n_estimators': 200, 'booster': 'gbtree', 'lambda': 0.08499638945329584, 'alpha': 2.880588362199282e-07, 'subsample': 0.2506016517053292, 'colsample_bytree': 0.1422023609936644, 'max_depth': 10, 'min_child_weight': 3, 'eta': 0.0037336483296823027, 'gamma': 1.487221166670557e-05, 'grow_policy': 'depthwise'}. Best is trial 22 with value: 0.9764732450476846.\u001b[0m\n"
     ]
    },
    {
     "name": "stdout",
     "output_type": "stream",
     "text": [
      "Confusion matrix\n",
      "TP:     81981 FN:      4845\n",
      "FP:      2302 TN:    112145\n",
      "Precision: 0.972687256030279\n",
      "F1 score: 0.9582313028537366\n"
     ]
    },
    {
     "name": "stderr",
     "output_type": "stream",
     "text": [
      "[08:38:03] task [xgboost.dask]:tcp://10.100.38.13:36513 got new rank 0\n",
      "[08:38:03] task [xgboost.dask]:tcp://10.100.38.13:36199 got new rank 1\n",
      "[08:38:03] task [xgboost.dask]:tcp://10.100.38.13:45319 got new rank 2\n",
      "[08:38:03] task [xgboost.dask]:tcp://10.100.38.13:37355 got new rank 3\n",
      "\u001b[32m[I 2022-05-26 08:38:05,638]\u001b[0m Trial 50 finished with value: 0.9683087944549114 and parameters: {'n_estimators': 300, 'booster': 'gbtree', 'lambda': 0.0016108631791979472, 'alpha': 0.000620106715163146, 'subsample': 0.14855305591380094, 'colsample_bytree': 0.25907139522858086, 'max_depth': 8, 'min_child_weight': 2, 'eta': 0.00165515141365868, 'gamma': 4.742195486189984e-05, 'grow_policy': 'depthwise'}. Best is trial 22 with value: 0.9764732450476846.\u001b[0m\n"
     ]
    },
    {
     "name": "stdout",
     "output_type": "stream",
     "text": [
      "Confusion matrix\n",
      "TP:     83261 FN:      3565\n",
      "FP:      1885 TN:    112562\n",
      "Precision: 0.9778615554459399\n",
      "F1 score: 0.9683087944549114\n"
     ]
    },
    {
     "name": "stderr",
     "output_type": "stream",
     "text": [
      "[08:38:05] task [xgboost.dask]:tcp://10.100.38.13:36513 got new rank 0\n",
      "[08:38:05] task [xgboost.dask]:tcp://10.100.38.13:45319 got new rank 1\n",
      "[08:38:06] task [xgboost.dask]:tcp://10.100.38.13:36199 got new rank 2\n",
      "[08:38:06] task [xgboost.dask]:tcp://10.100.38.13:37355 got new rank 3\n",
      "\u001b[32m[I 2022-05-26 08:38:08,615]\u001b[0m Trial 51 finished with value: 0.9720571573909225 and parameters: {'n_estimators': 50, 'booster': 'dart', 'lambda': 2.4602275909268024e-05, 'alpha': 9.556546089396032e-07, 'subsample': 0.22698606352072798, 'colsample_bytree': 0.22654775222392654, 'max_depth': 8, 'min_child_weight': 3, 'eta': 0.925270217494536, 'gamma': 1.7707111515611e-05, 'grow_policy': 'depthwise'}. Best is trial 22 with value: 0.9764732450476846.\u001b[0m\n"
     ]
    },
    {
     "name": "stdout",
     "output_type": "stream",
     "text": [
      "Confusion matrix\n",
      "TP:     84081 FN:      2745\n",
      "FP:      2089 TN:    112358\n",
      "Precision: 0.9757572240919113\n",
      "F1 score: 0.9720571573909225\n"
     ]
    },
    {
     "name": "stderr",
     "output_type": "stream",
     "text": [
      "[08:38:08] task [xgboost.dask]:tcp://10.100.38.13:36513 got new rank 0\n",
      "[08:38:08] task [xgboost.dask]:tcp://10.100.38.13:36199 got new rank 1\n",
      "[08:38:08] task [xgboost.dask]:tcp://10.100.38.13:45319 got new rank 2\n",
      "[08:38:09] task [xgboost.dask]:tcp://10.100.38.13:37355 got new rank 3\n",
      "\u001b[32m[I 2022-05-26 08:38:11,615]\u001b[0m Trial 52 finished with value: 0.9618864404803544 and parameters: {'n_estimators': 50, 'booster': 'dart', 'lambda': 6.794778108738762e-05, 'alpha': 9.299259599671243e-06, 'subsample': 0.2655048501606535, 'colsample_bytree': 0.16208604218502567, 'max_depth': 6, 'min_child_weight': 3, 'eta': 0.042153947351760396, 'gamma': 8.854096342655353e-07, 'grow_policy': 'depthwise'}. Best is trial 22 with value: 0.9764732450476846.\u001b[0m\n"
     ]
    },
    {
     "name": "stdout",
     "output_type": "stream",
     "text": [
      "Confusion matrix\n",
      "TP:     82501 FN:      4325\n",
      "FP:      2213 TN:    112234\n",
      "Precision: 0.9738768090280236\n",
      "F1 score: 0.9618864404803544\n"
     ]
    },
    {
     "name": "stderr",
     "output_type": "stream",
     "text": [
      "[08:38:11] task [xgboost.dask]:tcp://10.100.38.13:36199 got new rank 0\n",
      "[08:38:11] task [xgboost.dask]:tcp://10.100.38.13:36513 got new rank 1\n",
      "[08:38:11] task [xgboost.dask]:tcp://10.100.38.13:45319 got new rank 2\n",
      "[08:38:12] task [xgboost.dask]:tcp://10.100.38.13:37355 got new rank 3\n",
      "\u001b[32m[I 2022-05-26 08:38:22,894]\u001b[0m Trial 53 finished with value: 0.9747198332030231 and parameters: {'n_estimators': 250, 'booster': 'dart', 'lambda': 3.9774985084127385e-06, 'alpha': 1.7015048117269342e-06, 'subsample': 0.12741153179778256, 'colsample_bytree': 0.15429725620574902, 'max_depth': 7, 'min_child_weight': 4, 'eta': 0.20136218165486738, 'gamma': 0.00018044065817366208, 'grow_policy': 'depthwise'}. Best is trial 22 with value: 0.9764732450476846.\u001b[0m\n"
     ]
    },
    {
     "name": "stdout",
     "output_type": "stream",
     "text": [
      "Confusion matrix\n",
      "TP:     84150 FN:      2676\n",
      "FP:      1689 TN:    112758\n",
      "Precision: 0.9803236291196309\n",
      "F1 score: 0.9747198332030231\n"
     ]
    },
    {
     "name": "stderr",
     "output_type": "stream",
     "text": [
      "[08:38:23] task [xgboost.dask]:tcp://10.100.38.13:45319 got new rank 0\n",
      "[08:38:23] task [xgboost.dask]:tcp://10.100.38.13:36513 got new rank 1\n",
      "[08:38:23] task [xgboost.dask]:tcp://10.100.38.13:36199 got new rank 2\n",
      "[08:38:23] task [xgboost.dask]:tcp://10.100.38.13:37355 got new rank 3\n",
      "\u001b[32m[I 2022-05-26 08:38:32,641]\u001b[0m Trial 54 finished with value: 0.9761109148506135 and parameters: {'n_estimators': 100, 'booster': 'dart', 'lambda': 2.2687015652175523e-07, 'alpha': 1.3509112721179237e-07, 'subsample': 0.24314646642407134, 'colsample_bytree': 0.20822947219976157, 'max_depth': 8, 'min_child_weight': 3, 'eta': 0.10374581318954179, 'gamma': 4.752461025388506e-05, 'grow_policy': 'depthwise'}. Best is trial 22 with value: 0.9764732450476846.\u001b[0m\n"
     ]
    },
    {
     "name": "stdout",
     "output_type": "stream",
     "text": [
      "Confusion matrix\n",
      "TP:     84274 FN:      2552\n",
      "FP:      1573 TN:    112874\n",
      "Precision: 0.9816767039034562\n",
      "F1 score: 0.9761109148506135\n"
     ]
    },
    {
     "name": "stderr",
     "output_type": "stream",
     "text": [
      "[08:38:32] task [xgboost.dask]:tcp://10.100.38.13:36513 got new rank 0\n",
      "[08:38:32] task [xgboost.dask]:tcp://10.100.38.13:45319 got new rank 1\n",
      "[08:38:33] task [xgboost.dask]:tcp://10.100.38.13:36199 got new rank 2\n",
      "[08:38:33] task [xgboost.dask]:tcp://10.100.38.13:37355 got new rank 3\n",
      "\u001b[32m[I 2022-05-26 08:38:34,835]\u001b[0m Trial 55 finished with value: 0.9573770491803278 and parameters: {'n_estimators': 100, 'booster': 'gbtree', 'lambda': 1.7308465027198485e-06, 'alpha': 1.1601447361458396e-07, 'subsample': 0.24467628228828153, 'colsample_bytree': 0.21145233301020155, 'max_depth': 7, 'min_child_weight': 3, 'eta': 1.408291627796729e-08, 'gamma': 8.344309575850498e-06, 'grow_policy': 'depthwise'}. Best is trial 22 with value: 0.9764732450476846.\u001b[0m\n"
     ]
    },
    {
     "name": "stdout",
     "output_type": "stream",
     "text": [
      "Confusion matrix\n",
      "TP:     80884 FN:      5942\n",
      "FP:      1260 TN:    113187\n",
      "Precision: 0.9846610829762369\n",
      "F1 score: 0.9573770491803278\n"
     ]
    },
    {
     "name": "stderr",
     "output_type": "stream",
     "text": [
      "[08:38:35] task [xgboost.dask]:tcp://10.100.38.13:36513 got new rank 0\n",
      "[08:38:35] task [xgboost.dask]:tcp://10.100.38.13:36199 got new rank 1\n",
      "[08:38:35] task [xgboost.dask]:tcp://10.100.38.13:45319 got new rank 2\n",
      "[08:38:35] task [xgboost.dask]:tcp://10.100.38.13:37355 got new rank 3\n",
      "\u001b[32m[I 2022-05-26 08:38:44,327]\u001b[0m Trial 56 finished with value: 0.9767021769337656 and parameters: {'n_estimators': 100, 'booster': 'dart', 'lambda': 8.360620318201982e-08, 'alpha': 2.4415688222750555e-08, 'subsample': 0.20582669811601728, 'colsample_bytree': 0.24847137488260182, 'max_depth': 8, 'min_child_weight': 3, 'eta': 0.1094394960078562, 'gamma': 0.0005443431858129918, 'grow_policy': 'depthwise'}. Best is trial 56 with value: 0.9767021769337656.\u001b[0m\n"
     ]
    },
    {
     "name": "stdout",
     "output_type": "stream",
     "text": [
      "Confusion matrix\n",
      "TP:     84348 FN:      2478\n",
      "FP:      1546 TN:    112901\n",
      "Precision: 0.9820010710876196\n",
      "F1 score: 0.9767021769337656\n"
     ]
    },
    {
     "name": "stderr",
     "output_type": "stream",
     "text": [
      "[08:38:44] task [xgboost.dask]:tcp://10.100.38.13:45319 got new rank 0\n",
      "[08:38:44] task [xgboost.dask]:tcp://10.100.38.13:36513 got new rank 1\n",
      "[08:38:44] task [xgboost.dask]:tcp://10.100.38.13:36199 got new rank 2\n",
      "[08:38:44] task [xgboost.dask]:tcp://10.100.38.13:37355 got new rank 3\n",
      "\u001b[32m[I 2022-05-26 08:38:47,728]\u001b[0m Trial 57 finished with value: 0.9755651393672755 and parameters: {'n_estimators': 100, 'booster': 'dart', 'lambda': 8.09330821008968e-08, 'alpha': 0.2512736791306532, 'subsample': 0.18879181359289232, 'colsample_bytree': 0.25275983177281663, 'max_depth': 9, 'min_child_weight': 3, 'eta': 0.47537872227017014, 'gamma': 0.0004353304130836087, 'grow_policy': 'depthwise'}. Best is trial 56 with value: 0.9767021769337656.\u001b[0m\n"
     ]
    },
    {
     "name": "stdout",
     "output_type": "stream",
     "text": [
      "Confusion matrix\n",
      "TP:     84262 FN:      2564\n",
      "FP:      1657 TN:    112790\n",
      "Precision: 0.9807143937894994\n",
      "F1 score: 0.9755651393672755\n"
     ]
    },
    {
     "name": "stderr",
     "output_type": "stream",
     "text": [
      "[08:38:47] task [xgboost.dask]:tcp://10.100.38.13:36513 got new rank 0\n",
      "[08:38:48] task [xgboost.dask]:tcp://10.100.38.13:45319 got new rank 1\n",
      "[08:38:48] task [xgboost.dask]:tcp://10.100.38.13:36199 got new rank 2\n",
      "[08:38:48] task [xgboost.dask]:tcp://10.100.38.13:37355 got new rank 3\n",
      "\u001b[32m[I 2022-05-26 08:38:57,117]\u001b[0m Trial 58 finished with value: 0.9742595634282663 and parameters: {'n_estimators': 100, 'booster': 'dart', 'lambda': 2.1055381608813052e-08, 'alpha': 1.0491596534806826e-08, 'subsample': 0.2068585771809585, 'colsample_bytree': 0.2759272460181569, 'max_depth': 13, 'min_child_weight': 2, 'eta': 0.01509573313603899, 'gamma': 4.4645546672875015e-05, 'grow_policy': 'depthwise'}. Best is trial 56 with value: 0.9767021769337656.\u001b[0m\n"
     ]
    },
    {
     "name": "stdout",
     "output_type": "stream",
     "text": [
      "Confusion matrix\n",
      "TP:     83931 FN:      2895\n",
      "FP:      1540 TN:    112907\n",
      "Precision: 0.9819821927905371\n",
      "F1 score: 0.9742595634282663\n"
     ]
    },
    {
     "name": "stderr",
     "output_type": "stream",
     "text": [
      "[08:38:57] task [xgboost.dask]:tcp://10.100.38.13:45319 got new rank 0\n",
      "[08:38:57] task [xgboost.dask]:tcp://10.100.38.13:36513 got new rank 1\n",
      "[08:38:57] task [xgboost.dask]:tcp://10.100.38.13:36199 got new rank 2\n",
      "[08:38:57] task [xgboost.dask]:tcp://10.100.38.13:37355 got new rank 3\n",
      "\u001b[32m[I 2022-05-26 08:39:06,782]\u001b[0m Trial 59 finished with value: 0.9754823314084482 and parameters: {'n_estimators': 100, 'booster': 'dart', 'lambda': 3.280734653706061e-07, 'alpha': 6.901894056172022e-08, 'subsample': 0.1950299804670895, 'colsample_bytree': 0.23224928636893774, 'max_depth': 8, 'min_child_weight': 3, 'eta': 0.08945048532154762, 'gamma': 0.003361007167238795, 'grow_policy': 'lossguide'}. Best is trial 56 with value: 0.9767021769337656.\u001b[0m\n"
     ]
    },
    {
     "name": "stdout",
     "output_type": "stream",
     "text": [
      "Confusion matrix\n",
      "TP:     84209 FN:      2617\n",
      "FP:      1616 TN:    112831\n",
      "Precision: 0.981170987474512\n",
      "F1 score: 0.9754823314084482\n"
     ]
    },
    {
     "name": "stderr",
     "output_type": "stream",
     "text": [
      "[08:39:06] task [xgboost.dask]:tcp://10.100.38.13:36513 got new rank 0\n",
      "[08:39:07] task [xgboost.dask]:tcp://10.100.38.13:45319 got new rank 1\n",
      "[08:39:07] task [xgboost.dask]:tcp://10.100.38.13:36199 got new rank 2\n",
      "[08:39:07] task [xgboost.dask]:tcp://10.100.38.13:37355 got new rank 3\n",
      "\u001b[32m[I 2022-05-26 08:39:09,558]\u001b[0m Trial 60 finished with value: 0.9627807760901747 and parameters: {'n_estimators': 100, 'booster': 'dart', 'lambda': 1.0914653964778672e-07, 'alpha': 4.3118477778746603e-07, 'subsample': 0.14680850806540421, 'colsample_bytree': 0.2403541505369339, 'max_depth': 5, 'min_child_weight': 3, 'eta': 0.007981915424807584, 'gamma': 0.0008352767535093083, 'grow_policy': 'depthwise'}. Best is trial 56 with value: 0.9767021769337656.\u001b[0m\n"
     ]
    },
    {
     "name": "stdout",
     "output_type": "stream",
     "text": [
      "Confusion matrix\n",
      "TP:     82596 FN:      4230\n",
      "FP:      2156 TN:    112291\n",
      "Precision: 0.9745610723050784\n",
      "F1 score: 0.9627807760901747\n"
     ]
    },
    {
     "name": "stderr",
     "output_type": "stream",
     "text": [
      "[08:39:09] task [xgboost.dask]:tcp://10.100.38.13:45319 got new rank 0\n",
      "[08:39:09] task [xgboost.dask]:tcp://10.100.38.13:36513 got new rank 1\n",
      "[08:39:09] task [xgboost.dask]:tcp://10.100.38.13:36199 got new rank 2\n",
      "[08:39:10] task [xgboost.dask]:tcp://10.100.38.13:37355 got new rank 3\n",
      "\u001b[32m[I 2022-05-26 08:39:19,109]\u001b[0m Trial 61 finished with value: 0.9764100426645362 and parameters: {'n_estimators': 100, 'booster': 'dart', 'lambda': 1.4235153937432698e-05, 'alpha': 2.2964372421105843e-08, 'subsample': 0.22301584224813897, 'colsample_bytree': 0.22579833383452752, 'max_depth': 8, 'min_child_weight': 3, 'eta': 0.12787238810733526, 'gamma': 6.739656210113399e-05, 'grow_policy': 'depthwise'}. Best is trial 56 with value: 0.9767021769337656.\u001b[0m\n"
     ]
    },
    {
     "name": "stdout",
     "output_type": "stream",
     "text": [
      "Confusion matrix\n",
      "TP:     84334 FN:      2492\n",
      "FP:      1583 TN:    112864\n",
      "Precision: 0.9815752412211786\n",
      "F1 score: 0.9764100426645362\n"
     ]
    },
    {
     "name": "stderr",
     "output_type": "stream",
     "text": [
      "[08:39:19] task [xgboost.dask]:tcp://10.100.38.13:36513 got new rank 0\n",
      "[08:39:19] task [xgboost.dask]:tcp://10.100.38.13:45319 got new rank 1\n",
      "[08:39:19] task [xgboost.dask]:tcp://10.100.38.13:36199 got new rank 2\n",
      "[08:39:19] task [xgboost.dask]:tcp://10.100.38.13:37355 got new rank 3\n",
      "\u001b[32m[I 2022-05-26 08:39:26,159]\u001b[0m Trial 62 finished with value: 0.9722470592333685 and parameters: {'n_estimators': 100, 'booster': 'dart', 'lambda': 1.5659221016727347e-05, 'alpha': 1.8049725889836594e-07, 'subsample': 0.22060164286067505, 'colsample_bytree': 0.22439197768790695, 'max_depth': 10, 'min_child_weight': 3, 'eta': 0.03562311971185483, 'gamma': 0.00013500555537803487, 'grow_policy': 'depthwise'}. Best is trial 56 with value: 0.9767021769337656.\u001b[0m\n"
     ]
    },
    {
     "name": "stdout",
     "output_type": "stream",
     "text": [
      "Confusion matrix\n",
      "TP:     83727 FN:      3099\n",
      "FP:      1681 TN:    112766\n",
      "Precision: 0.9803180029973773\n",
      "F1 score: 0.9722470592333685\n"
     ]
    },
    {
     "name": "stderr",
     "output_type": "stream",
     "text": [
      "[08:39:26] task [xgboost.dask]:tcp://10.100.38.13:36513 got new rank 0\n",
      "[08:39:26] task [xgboost.dask]:tcp://10.100.38.13:36199 got new rank 1\n",
      "[08:39:26] task [xgboost.dask]:tcp://10.100.38.13:45319 got new rank 2\n",
      "[08:39:26] task [xgboost.dask]:tcp://10.100.38.13:37355 got new rank 3\n",
      "\u001b[32m[I 2022-05-26 08:39:36,103]\u001b[0m Trial 63 finished with value: 0.977985400783796 and parameters: {'n_estimators': 100, 'booster': 'dart', 'lambda': 6.273213295013168e-07, 'alpha': 2.30711059577097e-08, 'subsample': 0.21183524428830014, 'colsample_bytree': 0.24711894561108308, 'max_depth': 9, 'min_child_weight': 3, 'eta': 0.16123053871146373, 'gamma': 0.0019246973909325031, 'grow_policy': 'depthwise'}. Best is trial 63 with value: 0.977985400783796.\u001b[0m\n"
     ]
    },
    {
     "name": "stdout",
     "output_type": "stream",
     "text": [
      "Confusion matrix\n",
      "TP:     84473 FN:      2353\n",
      "FP:      1450 TN:    112997\n",
      "Precision: 0.9831244253575876\n",
      "F1 score: 0.977985400783796\n"
     ]
    },
    {
     "name": "stderr",
     "output_type": "stream",
     "text": [
      "[08:39:36] task [xgboost.dask]:tcp://10.100.38.13:36513 got new rank 0\n",
      "[08:39:36] task [xgboost.dask]:tcp://10.100.38.13:36199 got new rank 1\n",
      "[08:39:36] task [xgboost.dask]:tcp://10.100.38.13:45319 got new rank 2\n",
      "[08:39:36] task [xgboost.dask]:tcp://10.100.38.13:37355 got new rank 3\n",
      "\u001b[32m[I 2022-05-26 08:39:45,985]\u001b[0m Trial 64 finished with value: 0.9775756207936205 and parameters: {'n_estimators': 100, 'booster': 'dart', 'lambda': 6.859475534436974e-07, 'alpha': 4.282603921954714e-08, 'subsample': 0.21235671593907052, 'colsample_bytree': 0.25591533786881776, 'max_depth': 9, 'min_child_weight': 3, 'eta': 0.1419369371320808, 'gamma': 0.0023785189163168783, 'grow_policy': 'depthwise'}. Best is trial 63 with value: 0.977985400783796.\u001b[0m\n"
     ]
    },
    {
     "name": "stdout",
     "output_type": "stream",
     "text": [
      "Confusion matrix\n",
      "TP:     84464 FN:      2362\n",
      "FP:      1513 TN:    112934\n",
      "Precision: 0.9824022703746351\n",
      "F1 score: 0.9775756207936205\n"
     ]
    },
    {
     "name": "stderr",
     "output_type": "stream",
     "text": [
      "[08:39:46] task [xgboost.dask]:tcp://10.100.38.13:36513 got new rank 0\n",
      "[08:39:46] task [xgboost.dask]:tcp://10.100.38.13:36199 got new rank 1\n",
      "[08:39:46] task [xgboost.dask]:tcp://10.100.38.13:45319 got new rank 2\n",
      "[08:39:46] task [xgboost.dask]:tcp://10.100.38.13:37355 got new rank 3\n",
      "\u001b[32m[I 2022-05-26 08:39:56,611]\u001b[0m Trial 65 finished with value: 0.9760744479275918 and parameters: {'n_estimators': 100, 'booster': 'dart', 'lambda': 7.237702683165151e-07, 'alpha': 2.1562763007464987e-08, 'subsample': 0.21098269598226568, 'colsample_bytree': 0.2492714481027266, 'max_depth': 9, 'min_child_weight': 3, 'eta': 0.06058912802872172, 'gamma': 0.0021761226370408445, 'grow_policy': 'depthwise'}. Best is trial 63 with value: 0.977985400783796.\u001b[0m\n"
     ]
    },
    {
     "name": "stdout",
     "output_type": "stream",
     "text": [
      "Confusion matrix\n",
      "TP:     84224 FN:      2602\n",
      "FP:      1527 TN:    112920\n",
      "Precision: 0.9821926274912246\n",
      "F1 score: 0.9760744479275918\n"
     ]
    },
    {
     "name": "stderr",
     "output_type": "stream",
     "text": [
      "[08:39:56] task [xgboost.dask]:tcp://10.100.38.13:45319 got new rank 0\n",
      "[08:39:56] task [xgboost.dask]:tcp://10.100.38.13:36513 got new rank 1\n",
      "[08:39:56] task [xgboost.dask]:tcp://10.100.38.13:36199 got new rank 2\n",
      "[08:39:57] task [xgboost.dask]:tcp://10.100.38.13:37355 got new rank 3\n",
      "\u001b[32m[I 2022-05-26 08:39:59,378]\u001b[0m Trial 66 finished with value: 0.9739258298695133 and parameters: {'n_estimators': 100, 'booster': 'dart', 'lambda': 1.0677128975694063e-06, 'alpha': 2.1034202472771952e-08, 'subsample': 0.1715983678749975, 'colsample_bytree': 0.27199471346855836, 'max_depth': 11, 'min_child_weight': 3, 'eta': 0.5844124273421892, 'gamma': 0.000616363975142366, 'grow_policy': 'depthwise'}. Best is trial 63 with value: 0.977985400783796.\u001b[0m\n"
     ]
    },
    {
     "name": "stdout",
     "output_type": "stream",
     "text": [
      "Confusion matrix\n",
      "TP:     84117 FN:      2709\n",
      "FP:      1795 TN:    112652\n",
      "Precision: 0.9791065276096471\n",
      "F1 score: 0.9739258298695133\n"
     ]
    },
    {
     "name": "stderr",
     "output_type": "stream",
     "text": [
      "[08:39:59] task [xgboost.dask]:tcp://10.100.38.13:36513 got new rank 0\n",
      "[08:39:59] task [xgboost.dask]:tcp://10.100.38.13:37355 got new rank 1\n",
      "[08:39:59] task [xgboost.dask]:tcp://10.100.38.13:36199 got new rank 2\n",
      "[08:39:59] task [xgboost.dask]:tcp://10.100.38.13:45319 got new rank 3\n",
      "\u001b[32m[I 2022-05-26 08:40:04,820]\u001b[0m Trial 67 finished with value: 0.9723756906077349 and parameters: {'n_estimators': 100, 'booster': 'dart', 'lambda': 3.8687294403845636e-07, 'alpha': 5.068071078635649e-08, 'subsample': 0.21529374724091488, 'colsample_bytree': 0.24936272123144299, 'max_depth': 10, 'min_child_weight': 3, 'eta': 0.01951908633278961, 'gamma': 0.0017757532402309434, 'grow_policy': 'depthwise'}. Best is trial 63 with value: 0.977985400783796.\u001b[0m\n"
     ]
    },
    {
     "name": "stdout",
     "output_type": "stream",
     "text": [
      "Confusion matrix\n",
      "TP:     83688 FN:      3138\n",
      "FP:      1617 TN:    112830\n",
      "Precision: 0.9810444874274662\n",
      "F1 score: 0.9723756906077349\n"
     ]
    },
    {
     "name": "stderr",
     "output_type": "stream",
     "text": [
      "[08:40:05] task [xgboost.dask]:tcp://10.100.38.13:36513 got new rank 0\n",
      "[08:40:05] task [xgboost.dask]:tcp://10.100.38.13:36199 got new rank 1\n",
      "[08:40:05] task [xgboost.dask]:tcp://10.100.38.13:45319 got new rank 2\n",
      "[08:40:05] task [xgboost.dask]:tcp://10.100.38.13:37355 got new rank 3\n",
      "\u001b[32m[I 2022-05-26 08:40:08,217]\u001b[0m Trial 68 finished with value: 0.9694591048257764 and parameters: {'n_estimators': 100, 'booster': 'dart', 'lambda': 4.0837180596500746e-08, 'alpha': 1.7566063044222178e-08, 'subsample': 0.20167251027336242, 'colsample_bytree': 0.2622147447498821, 'max_depth': 9, 'min_child_weight': 2, 'eta': 4.156711086055965e-08, 'gamma': 2.9129017777791787e-05, 'grow_policy': 'depthwise'}. Best is trial 63 with value: 0.977985400783796.\u001b[0m\n"
     ]
    },
    {
     "name": "stdout",
     "output_type": "stream",
     "text": [
      "Confusion matrix\n",
      "TP:     83119 FN:      3707\n",
      "FP:      1530 TN:    112917\n",
      "Precision: 0.981925362378764\n",
      "F1 score: 0.9694591048257764\n"
     ]
    },
    {
     "name": "stderr",
     "output_type": "stream",
     "text": [
      "[08:40:08] task [xgboost.dask]:tcp://10.100.38.13:36513 got new rank 0\n",
      "[08:40:08] task [xgboost.dask]:tcp://10.100.38.13:36199 got new rank 1\n",
      "[08:40:08] task [xgboost.dask]:tcp://10.100.38.13:45319 got new rank 2\n",
      "[08:40:08] task [xgboost.dask]:tcp://10.100.38.13:37355 got new rank 3\n",
      "\u001b[32m[I 2022-05-26 08:40:17,726]\u001b[0m Trial 69 finished with value: 0.9764716780139874 and parameters: {'n_estimators': 100, 'booster': 'dart', 'lambda': 2.530906674298068e-06, 'alpha': 0.00027987023525379874, 'subsample': 0.19447619799102878, 'colsample_bytree': 0.2263850724404869, 'max_depth': 8, 'min_child_weight': 3, 'eta': 0.13159093898178634, 'gamma': 0.00028387213322162195, 'grow_policy': 'depthwise'}. Best is trial 63 with value: 0.977985400783796.\u001b[0m\n"
     ]
    },
    {
     "name": "stdout",
     "output_type": "stream",
     "text": [
      "Confusion matrix\n",
      "TP:     84332 FN:      2494\n",
      "FP:      1570 TN:    112877\n",
      "Precision: 0.9817233591767363\n",
      "F1 score: 0.9764716780139874\n"
     ]
    },
    {
     "name": "stderr",
     "output_type": "stream",
     "text": [
      "[08:40:17] task [xgboost.dask]:tcp://10.100.38.13:36199 got new rank 0\n",
      "[08:40:18] task [xgboost.dask]:tcp://10.100.38.13:45319 got new rank 1\n",
      "[08:40:18] task [xgboost.dask]:tcp://10.100.38.13:36513 got new rank 2\n",
      "[08:40:18] task [xgboost.dask]:tcp://10.100.38.13:37355 got new rank 3\n",
      "\u001b[32m[I 2022-05-26 08:40:23,628]\u001b[0m Trial 70 finished with value: 0.97109806449365 and parameters: {'n_estimators': 100, 'booster': 'dart', 'lambda': 2.900640929341824e-06, 'alpha': 0.0002900762148390519, 'subsample': 0.16349066681220792, 'colsample_bytree': 0.22921264621230036, 'max_depth': 9, 'min_child_weight': 3, 'eta': 0.03184594159128144, 'gamma': 0.00024221280953426626, 'grow_policy': 'lossguide'}. Best is trial 63 with value: 0.977985400783796.\u001b[0m\n"
     ]
    },
    {
     "name": "stdout",
     "output_type": "stream",
     "text": [
      "Confusion matrix\n",
      "TP:     83613 FN:      3213\n",
      "FP:      1764 TN:    112683\n",
      "Precision: 0.9793386977757476\n",
      "F1 score: 0.97109806449365\n"
     ]
    },
    {
     "name": "stderr",
     "output_type": "stream",
     "text": [
      "[08:40:23] task [xgboost.dask]:tcp://10.100.38.13:36513 got new rank 0\n",
      "[08:40:23] task [xgboost.dask]:tcp://10.100.38.13:37355 got new rank 1\n",
      "[08:40:23] task [xgboost.dask]:tcp://10.100.38.13:45319 got new rank 2\n",
      "[08:40:24] task [xgboost.dask]:tcp://10.100.38.13:36199 got new rank 3\n",
      "\u001b[32m[I 2022-05-26 08:40:33,204]\u001b[0m Trial 71 finished with value: 0.9764764474918635 and parameters: {'n_estimators': 100, 'booster': 'dart', 'lambda': 1.6336874693548118e-07, 'alpha': 0.00012728903302035869, 'subsample': 0.237422133385741, 'colsample_bytree': 0.22037708622259766, 'max_depth': 8, 'min_child_weight': 3, 'eta': 0.1251990882275709, 'gamma': 0.00034935910042837014, 'grow_policy': 'depthwise'}. Best is trial 63 with value: 0.977985400783796.\u001b[0m\n"
     ]
    },
    {
     "name": "stdout",
     "output_type": "stream",
     "text": [
      "Confusion matrix\n",
      "TP:     84308 FN:      2518\n",
      "FP:      1544 TN:    112903\n",
      "Precision: 0.9820155616642594\n",
      "F1 score: 0.9764764474918635\n"
     ]
    },
    {
     "name": "stderr",
     "output_type": "stream",
     "text": [
      "[08:40:33] task [xgboost.dask]:tcp://10.100.38.13:36513 got new rank 0\n",
      "[08:40:33] task [xgboost.dask]:tcp://10.100.38.13:36199 got new rank 1\n",
      "[08:40:33] task [xgboost.dask]:tcp://10.100.38.13:45319 got new rank 2\n",
      "[08:40:33] task [xgboost.dask]:tcp://10.100.38.13:37355 got new rank 3\n",
      "\u001b[32m[I 2022-05-26 08:40:43,049]\u001b[0m Trial 72 finished with value: 0.9771786754023973 and parameters: {'n_estimators': 100, 'booster': 'dart', 'lambda': 5.8223424954096995e-06, 'alpha': 0.0019183113590844135, 'subsample': 0.23528047788440604, 'colsample_bytree': 0.23608429354935503, 'max_depth': 8, 'min_child_weight': 3, 'eta': 0.1390124097743411, 'gamma': 0.00035054992614145364, 'grow_policy': 'depthwise'}. Best is trial 63 with value: 0.977985400783796.\u001b[0m\n"
     ]
    },
    {
     "name": "stdout",
     "output_type": "stream",
     "text": [
      "Confusion matrix\n",
      "TP:     84417 FN:      2409\n",
      "FP:      1534 TN:    112913\n",
      "Precision: 0.9821526218426778\n",
      "F1 score: 0.9771786754023973\n"
     ]
    },
    {
     "name": "stderr",
     "output_type": "stream",
     "text": [
      "[08:40:43] task [xgboost.dask]:tcp://10.100.38.13:36513 got new rank 0\n",
      "[08:40:43] task [xgboost.dask]:tcp://10.100.38.13:36199 got new rank 1\n",
      "[08:40:43] task [xgboost.dask]:tcp://10.100.38.13:45319 got new rank 2\n",
      "[08:40:43] task [xgboost.dask]:tcp://10.100.38.13:37355 got new rank 3\n",
      "\u001b[32m[I 2022-05-26 08:40:46,830]\u001b[0m Trial 73 finished with value: 0.9754781954452065 and parameters: {'n_estimators': 100, 'booster': 'dart', 'lambda': 4.831678693267658e-06, 'alpha': 0.003946998074246654, 'subsample': 0.18397328585908163, 'colsample_bytree': 0.2422783747487944, 'max_depth': 8, 'min_child_weight': 3, 'eta': 0.3889634054698519, 'gamma': 0.00035854163006045556, 'grow_policy': 'depthwise'}. Best is trial 63 with value: 0.977985400783796.\u001b[0m\n"
     ]
    },
    {
     "name": "stdout",
     "output_type": "stream",
     "text": [
      "Confusion matrix\n",
      "TP:     84274 FN:      2552\n",
      "FP:      1685 TN:    112762\n",
      "Precision: 0.9803976314289371\n",
      "F1 score: 0.9754781954452065\n"
     ]
    },
    {
     "name": "stderr",
     "output_type": "stream",
     "text": [
      "[08:40:47] task [xgboost.dask]:tcp://10.100.38.13:36199 got new rank 0\n",
      "[08:40:47] task [xgboost.dask]:tcp://10.100.38.13:45319 got new rank 1\n",
      "[08:40:47] task [xgboost.dask]:tcp://10.100.38.13:36513 got new rank 2\n",
      "[08:40:47] task [xgboost.dask]:tcp://10.100.38.13:37355 got new rank 3\n",
      "\u001b[32m[I 2022-05-26 08:41:53,940]\u001b[0m Trial 74 finished with value: 0.9786603712447346 and parameters: {'n_estimators': 500, 'booster': 'dart', 'lambda': 5.542183143116679e-07, 'alpha': 0.00016460780631131285, 'subsample': 0.23761009745083714, 'colsample_bytree': 0.23719621881000702, 'max_depth': 9, 'min_child_weight': 3, 'eta': 0.06246382190577308, 'gamma': 0.0013198987967330343, 'grow_policy': 'depthwise'}. Best is trial 74 with value: 0.9786603712447346.\u001b[0m\n"
     ]
    },
    {
     "name": "stdout",
     "output_type": "stream",
     "text": [
      "Confusion matrix\n",
      "TP:     84568 FN:      2258\n",
      "FP:      1430 TN:    113017\n",
      "Precision: 0.9833717063187516\n",
      "F1 score: 0.9786603712447346\n"
     ]
    },
    {
     "name": "stderr",
     "output_type": "stream",
     "text": [
      "[08:41:54] task [xgboost.dask]:tcp://10.100.38.13:36513 got new rank 0\n",
      "[08:41:54] task [xgboost.dask]:tcp://10.100.38.13:36199 got new rank 1\n",
      "[08:41:54] task [xgboost.dask]:tcp://10.100.38.13:45319 got new rank 2\n",
      "[08:41:54] task [xgboost.dask]:tcp://10.100.38.13:37355 got new rank 3\n",
      "\u001b[32m[I 2022-05-26 08:42:04,818]\u001b[0m Trial 75 finished with value: 0.9776473923886565 and parameters: {'n_estimators': 500, 'booster': 'dart', 'lambda': 1.1232975488562775e-07, 'alpha': 0.00017312803240536123, 'subsample': 0.25303491154468, 'colsample_bytree': 0.2368056165515891, 'max_depth': 9, 'min_child_weight': 3, 'eta': 0.1996770160202105, 'gamma': 0.004699285303951986, 'grow_policy': 'depthwise'}. Best is trial 74 with value: 0.9786603712447346.\u001b[0m\n"
     ]
    },
    {
     "name": "stdout",
     "output_type": "stream",
     "text": [
      "Confusion matrix\n",
      "TP:     84479 FN:      2347\n",
      "FP:      1516 TN:    112931\n",
      "Precision: 0.9823710680853538\n",
      "F1 score: 0.9776473923886565\n"
     ]
    },
    {
     "name": "stderr",
     "output_type": "stream",
     "text": [
      "[08:42:05] task [xgboost.dask]:tcp://10.100.38.13:36513 got new rank 0\n",
      "[08:42:05] task [xgboost.dask]:tcp://10.100.38.13:36199 got new rank 1\n",
      "[08:42:05] task [xgboost.dask]:tcp://10.100.38.13:45319 got new rank 2\n",
      "[08:42:05] task [xgboost.dask]:tcp://10.100.38.13:37355 got new rank 3\n",
      "\u001b[32m[I 2022-05-26 08:43:01,549]\u001b[0m Trial 76 finished with value: 0.9778876321242924 and parameters: {'n_estimators': 500, 'booster': 'dart', 'lambda': 1.3149965813406415e-07, 'alpha': 0.0001309887485206274, 'subsample': 0.23686545810396994, 'colsample_bytree': 0.2343881125617446, 'max_depth': 9, 'min_child_weight': 3, 'eta': 0.05682489341411235, 'gamma': 0.00497882977021594, 'grow_policy': 'depthwise'}. Best is trial 74 with value: 0.9786603712447346.\u001b[0m\n"
     ]
    },
    {
     "name": "stdout",
     "output_type": "stream",
     "text": [
      "Confusion matrix\n",
      "TP:     84467 FN:      2359\n",
      "FP:      1461 TN:    112986\n",
      "Precision: 0.9829973931663718\n",
      "F1 score: 0.9778876321242924\n"
     ]
    },
    {
     "name": "stderr",
     "output_type": "stream",
     "text": [
      "[08:43:01] task [xgboost.dask]:tcp://10.100.38.13:36513 got new rank 0\n",
      "[08:43:01] task [xgboost.dask]:tcp://10.100.38.13:36199 got new rank 1\n",
      "[08:43:01] task [xgboost.dask]:tcp://10.100.38.13:45319 got new rank 2\n",
      "[08:43:02] task [xgboost.dask]:tcp://10.100.38.13:37355 got new rank 3\n",
      "\u001b[32m[I 2022-05-26 08:43:10,943]\u001b[0m Trial 77 finished with value: 0.9772462988354133 and parameters: {'n_estimators': 500, 'booster': 'dart', 'lambda': 1.2241088517911587e-07, 'alpha': 0.00011251597966411414, 'subsample': 0.2354985976975028, 'colsample_bytree': 0.23924924008466958, 'max_depth': 9, 'min_child_weight': 3, 'eta': 0.23232835979482955, 'gamma': 0.013357622881243626, 'grow_policy': 'depthwise'}. Best is trial 74 with value: 0.9786603712447346.\u001b[0m\n"
     ]
    },
    {
     "name": "stdout",
     "output_type": "stream",
     "text": [
      "Confusion matrix\n",
      "TP:     84459 FN:      2367\n",
      "FP:      1566 TN:    112881\n",
      "Precision: 0.981795989537925\n",
      "F1 score: 0.9772462988354133\n"
     ]
    },
    {
     "name": "stderr",
     "output_type": "stream",
     "text": [
      "[08:43:11] task [xgboost.dask]:tcp://10.100.38.13:36513 got new rank 0\n",
      "[08:43:11] task [xgboost.dask]:tcp://10.100.38.13:36199 got new rank 1\n",
      "[08:43:11] task [xgboost.dask]:tcp://10.100.38.13:45319 got new rank 2\n",
      "[08:43:11] task [xgboost.dask]:tcp://10.100.38.13:37355 got new rank 3\n",
      "\u001b[32m[I 2022-05-26 08:43:13,446]\u001b[0m Trial 78 finished with value: 0.9723313762655449 and parameters: {'n_estimators': 500, 'booster': 'dart', 'lambda': 9.800199858759092e-08, 'alpha': 0.0012534329378158513, 'subsample': 0.25310853182021525, 'colsample_bytree': 0.23643391165094502, 'max_depth': 10, 'min_child_weight': 3, 'eta': 0.9708006946505269, 'gamma': 0.015053945493715727, 'grow_policy': 'depthwise'}. Best is trial 74 with value: 0.9786603712447346.\u001b[0m\n"
     ]
    },
    {
     "name": "stdout",
     "output_type": "stream",
     "text": [
      "Confusion matrix\n",
      "TP:     84130 FN:      2696\n",
      "FP:      2092 TN:    112355\n",
      "Precision: 0.9757370508686878\n",
      "F1 score: 0.9723313762655449\n"
     ]
    },
    {
     "name": "stderr",
     "output_type": "stream",
     "text": [
      "[08:43:13] task [xgboost.dask]:tcp://10.100.38.13:36513 got new rank 0\n",
      "[08:43:13] task [xgboost.dask]:tcp://10.100.38.13:45319 got new rank 1\n",
      "[08:43:13] task [xgboost.dask]:tcp://10.100.38.13:36199 got new rank 2\n",
      "[08:43:13] task [xgboost.dask]:tcp://10.100.38.13:37355 got new rank 3\n",
      "\u001b[32m[I 2022-05-26 08:43:22,268]\u001b[0m Trial 79 finished with value: 0.9774991759528586 and parameters: {'n_estimators': 500, 'booster': 'dart', 'lambda': 2.3675429761563435e-08, 'alpha': 0.00017238379092252037, 'subsample': 0.25883192934254295, 'colsample_bytree': 0.25493523208258106, 'max_depth': 9, 'min_child_weight': 3, 'eta': 0.2281514509241049, 'gamma': 0.004345812342793284, 'grow_policy': 'depthwise'}. Best is trial 74 with value: 0.9786603712447346.\u001b[0m\n"
     ]
    },
    {
     "name": "stdout",
     "output_type": "stream",
     "text": [
      "Confusion matrix\n",
      "TP:     84518 FN:      2308\n",
      "FP:      1583 TN:    112864\n",
      "Precision: 0.9816146153935494\n",
      "F1 score: 0.9774991759528586\n"
     ]
    }
   ],
   "source": [
    "optuna.logging.set_verbosity(optuna.logging.INFO)\n",
    "\n",
    "study = optuna.create_study(study_name='xgboost hyperparameter tuning - multi-gpu', \n",
    "                            direction='maximize',\n",
    "                           )#sampler=optuna.samplers.GridSampler(search_space))\n",
    "\n",
    "study.optimize(objective, n_trials=80, timeout=15*60)"
   ]
  },
  {
   "cell_type": "code",
   "execution_count": 43,
   "metadata": {},
   "outputs": [],
   "source": [
    "client.close()"
   ]
  },
  {
   "cell_type": "code",
   "execution_count": 44,
   "metadata": {},
   "outputs": [
    {
     "name": "stdout",
     "output_type": "stream",
     "text": [
      "Number of finished trials: 80\n",
      "{'n_estimators': 500, 'booster': 'dart', 'lambda': 5.542183143116679e-07, 'alpha': 0.00016460780631131285, 'subsample': 0.23761009745083714, 'colsample_bytree': 0.23719621881000702, 'max_depth': 9, 'min_child_weight': 3, 'eta': 0.06246382190577308, 'gamma': 0.0013198987967330343, 'grow_policy': 'depthwise'}\n",
      "0.9786603712447346\n",
      "[0.9786603712447346]\n",
      "     n_estimators: 500\n",
      "     booster: dart\n",
      "     lambda: 5.542183143116679e-07\n",
      "     alpha: 0.00016460780631131285\n",
      "     subsample: 0.23761009745083714\n",
      "     colsample_bytree: 0.23719621881000702\n",
      "     max_depth: 9\n",
      "     min_child_weight: 3\n",
      "     eta: 0.06246382190577308\n",
      "     gamma: 0.0013198987967330343\n",
      "     grow_policy: depthwise\n"
     ]
    }
   ],
   "source": [
    "print(\"Number of finished trials: {}\".format(len(study.trials)))\n",
    "trials = study.best_trials\n",
    "trial_score = max([trial.values[0] for trial in trials])\n",
    "best_trial_params = [trial.params for trial in trials if trial.values[0] == trial_score][0]\n",
    "print(best_trial_params)\n",
    "print(trial_score)\n",
    "\n",
    "trial_scores = [trial.values for trial in trials]\n",
    "trial_params = [trial.params for trial in trials]\n",
    "\n",
    "for score, param in zip(trial_scores, trial_params):\n",
    "    print(score)\n",
    "    for k, v in param.items():\n",
    "        print(\"     {}: {}\".format(k, v))\n",
    "\n",
    "study_df = study.trials_dataframe()\n",
    "study_df.to_csv(\"hyperopt_tuning_trial_{}_xgboost.csv\".format(\n",
    "    datetime.datetime.now().strftime('%Y_%m_%d_%H_%M')))"
   ]
  },
  {
   "cell_type": "code",
   "execution_count": 45,
   "metadata": {},
   "outputs": [
    {
     "data": {
      "text/html": [
       "<div>\n",
       "<style scoped>\n",
       "    .dataframe tbody tr th:only-of-type {\n",
       "        vertical-align: middle;\n",
       "    }\n",
       "\n",
       "    .dataframe tbody tr th {\n",
       "        vertical-align: top;\n",
       "    }\n",
       "\n",
       "    .dataframe thead th {\n",
       "        text-align: right;\n",
       "    }\n",
       "</style>\n",
       "<table border=\"1\" class=\"dataframe\">\n",
       "  <thead>\n",
       "    <tr style=\"text-align: right;\">\n",
       "      <th></th>\n",
       "      <th>number</th>\n",
       "      <th>value</th>\n",
       "      <th>datetime_start</th>\n",
       "      <th>datetime_complete</th>\n",
       "      <th>duration</th>\n",
       "      <th>params_alpha</th>\n",
       "      <th>params_booster</th>\n",
       "      <th>params_colsample_bytree</th>\n",
       "      <th>params_eta</th>\n",
       "      <th>params_gamma</th>\n",
       "      <th>params_grow_policy</th>\n",
       "      <th>params_lambda</th>\n",
       "      <th>params_max_depth</th>\n",
       "      <th>params_min_child_weight</th>\n",
       "      <th>params_n_estimators</th>\n",
       "      <th>params_subsample</th>\n",
       "      <th>state</th>\n",
       "    </tr>\n",
       "  </thead>\n",
       "  <tbody>\n",
       "    <tr>\n",
       "      <th>0</th>\n",
       "      <td>0</td>\n",
       "      <td>0.966894</td>\n",
       "      <td>2022-05-26 08:35:06.119833</td>\n",
       "      <td>2022-05-26 08:35:09.708021</td>\n",
       "      <td>0 days 00:00:03.588188</td>\n",
       "      <td>9.550258e-03</td>\n",
       "      <td>gbtree</td>\n",
       "      <td>0.203660</td>\n",
       "      <td>5.936186e-05</td>\n",
       "      <td>9.676589e-04</td>\n",
       "      <td>lossguide</td>\n",
       "      <td>1.402927e-01</td>\n",
       "      <td>10</td>\n",
       "      <td>5</td>\n",
       "      <td>200</td>\n",
       "      <td>0.103959</td>\n",
       "      <td>COMPLETE</td>\n",
       "    </tr>\n",
       "    <tr>\n",
       "      <th>1</th>\n",
       "      <td>1</td>\n",
       "      <td>0.956345</td>\n",
       "      <td>2022-05-26 08:35:09.709877</td>\n",
       "      <td>2022-05-26 08:35:12.467011</td>\n",
       "      <td>0 days 00:00:02.757134</td>\n",
       "      <td>3.259917e-03</td>\n",
       "      <td>dart</td>\n",
       "      <td>0.164855</td>\n",
       "      <td>9.126029e-03</td>\n",
       "      <td>1.199008e-06</td>\n",
       "      <td>lossguide</td>\n",
       "      <td>1.636989e-07</td>\n",
       "      <td>4</td>\n",
       "      <td>5</td>\n",
       "      <td>200</td>\n",
       "      <td>0.190669</td>\n",
       "      <td>COMPLETE</td>\n",
       "    </tr>\n",
       "    <tr>\n",
       "      <th>2</th>\n",
       "      <td>2</td>\n",
       "      <td>0.943852</td>\n",
       "      <td>2022-05-26 08:35:12.468534</td>\n",
       "      <td>2022-05-26 08:35:15.183199</td>\n",
       "      <td>0 days 00:00:02.714665</td>\n",
       "      <td>9.624332e-02</td>\n",
       "      <td>dart</td>\n",
       "      <td>0.165532</td>\n",
       "      <td>1.967008e-08</td>\n",
       "      <td>1.341082e-04</td>\n",
       "      <td>depthwise</td>\n",
       "      <td>5.617926e-04</td>\n",
       "      <td>3</td>\n",
       "      <td>3</td>\n",
       "      <td>200</td>\n",
       "      <td>0.111214</td>\n",
       "      <td>COMPLETE</td>\n",
       "    </tr>\n",
       "    <tr>\n",
       "      <th>3</th>\n",
       "      <td>3</td>\n",
       "      <td>0.966794</td>\n",
       "      <td>2022-05-26 08:35:15.184574</td>\n",
       "      <td>2022-05-26 08:35:17.836936</td>\n",
       "      <td>0 days 00:00:02.652362</td>\n",
       "      <td>5.974131e-07</td>\n",
       "      <td>gbtree</td>\n",
       "      <td>0.286196</td>\n",
       "      <td>9.956320e-03</td>\n",
       "      <td>9.317804e-07</td>\n",
       "      <td>lossguide</td>\n",
       "      <td>1.310873e-03</td>\n",
       "      <td>7</td>\n",
       "      <td>5</td>\n",
       "      <td>750</td>\n",
       "      <td>0.197622</td>\n",
       "      <td>COMPLETE</td>\n",
       "    </tr>\n",
       "    <tr>\n",
       "      <th>4</th>\n",
       "      <td>4</td>\n",
       "      <td>0.953681</td>\n",
       "      <td>2022-05-26 08:35:17.838998</td>\n",
       "      <td>2022-05-26 08:35:20.486340</td>\n",
       "      <td>0 days 00:00:02.647342</td>\n",
       "      <td>2.792892e-07</td>\n",
       "      <td>dart</td>\n",
       "      <td>0.271502</td>\n",
       "      <td>3.778556e-06</td>\n",
       "      <td>1.242844e-03</td>\n",
       "      <td>depthwise</td>\n",
       "      <td>5.471580e-08</td>\n",
       "      <td>3</td>\n",
       "      <td>4</td>\n",
       "      <td>300</td>\n",
       "      <td>0.257180</td>\n",
       "      <td>COMPLETE</td>\n",
       "    </tr>\n",
       "    <tr>\n",
       "      <th>...</th>\n",
       "      <td>...</td>\n",
       "      <td>...</td>\n",
       "      <td>...</td>\n",
       "      <td>...</td>\n",
       "      <td>...</td>\n",
       "      <td>...</td>\n",
       "      <td>...</td>\n",
       "      <td>...</td>\n",
       "      <td>...</td>\n",
       "      <td>...</td>\n",
       "      <td>...</td>\n",
       "      <td>...</td>\n",
       "      <td>...</td>\n",
       "      <td>...</td>\n",
       "      <td>...</td>\n",
       "      <td>...</td>\n",
       "      <td>...</td>\n",
       "    </tr>\n",
       "    <tr>\n",
       "      <th>75</th>\n",
       "      <td>75</td>\n",
       "      <td>0.977647</td>\n",
       "      <td>2022-05-26 08:41:53.942821</td>\n",
       "      <td>2022-05-26 08:42:04.818141</td>\n",
       "      <td>0 days 00:00:10.875320</td>\n",
       "      <td>1.731280e-04</td>\n",
       "      <td>dart</td>\n",
       "      <td>0.236806</td>\n",
       "      <td>1.996770e-01</td>\n",
       "      <td>4.699285e-03</td>\n",
       "      <td>depthwise</td>\n",
       "      <td>1.123298e-07</td>\n",
       "      <td>9</td>\n",
       "      <td>3</td>\n",
       "      <td>500</td>\n",
       "      <td>0.253035</td>\n",
       "      <td>COMPLETE</td>\n",
       "    </tr>\n",
       "    <tr>\n",
       "      <th>76</th>\n",
       "      <td>76</td>\n",
       "      <td>0.977888</td>\n",
       "      <td>2022-05-26 08:42:04.820142</td>\n",
       "      <td>2022-05-26 08:43:01.548839</td>\n",
       "      <td>0 days 00:00:56.728697</td>\n",
       "      <td>1.309887e-04</td>\n",
       "      <td>dart</td>\n",
       "      <td>0.234388</td>\n",
       "      <td>5.682489e-02</td>\n",
       "      <td>4.978830e-03</td>\n",
       "      <td>depthwise</td>\n",
       "      <td>1.314997e-07</td>\n",
       "      <td>9</td>\n",
       "      <td>3</td>\n",
       "      <td>500</td>\n",
       "      <td>0.236865</td>\n",
       "      <td>COMPLETE</td>\n",
       "    </tr>\n",
       "    <tr>\n",
       "      <th>77</th>\n",
       "      <td>77</td>\n",
       "      <td>0.977246</td>\n",
       "      <td>2022-05-26 08:43:01.550411</td>\n",
       "      <td>2022-05-26 08:43:10.943502</td>\n",
       "      <td>0 days 00:00:09.393091</td>\n",
       "      <td>1.125160e-04</td>\n",
       "      <td>dart</td>\n",
       "      <td>0.239249</td>\n",
       "      <td>2.323284e-01</td>\n",
       "      <td>1.335762e-02</td>\n",
       "      <td>depthwise</td>\n",
       "      <td>1.224109e-07</td>\n",
       "      <td>9</td>\n",
       "      <td>3</td>\n",
       "      <td>500</td>\n",
       "      <td>0.235499</td>\n",
       "      <td>COMPLETE</td>\n",
       "    </tr>\n",
       "    <tr>\n",
       "      <th>78</th>\n",
       "      <td>78</td>\n",
       "      <td>0.972331</td>\n",
       "      <td>2022-05-26 08:43:10.944588</td>\n",
       "      <td>2022-05-26 08:43:13.446102</td>\n",
       "      <td>0 days 00:00:02.501514</td>\n",
       "      <td>1.253433e-03</td>\n",
       "      <td>dart</td>\n",
       "      <td>0.236434</td>\n",
       "      <td>9.708007e-01</td>\n",
       "      <td>1.505395e-02</td>\n",
       "      <td>depthwise</td>\n",
       "      <td>9.800200e-08</td>\n",
       "      <td>10</td>\n",
       "      <td>3</td>\n",
       "      <td>500</td>\n",
       "      <td>0.253109</td>\n",
       "      <td>COMPLETE</td>\n",
       "    </tr>\n",
       "    <tr>\n",
       "      <th>79</th>\n",
       "      <td>79</td>\n",
       "      <td>0.977499</td>\n",
       "      <td>2022-05-26 08:43:13.447163</td>\n",
       "      <td>2022-05-26 08:43:22.267714</td>\n",
       "      <td>0 days 00:00:08.820551</td>\n",
       "      <td>1.723838e-04</td>\n",
       "      <td>dart</td>\n",
       "      <td>0.254935</td>\n",
       "      <td>2.281515e-01</td>\n",
       "      <td>4.345812e-03</td>\n",
       "      <td>depthwise</td>\n",
       "      <td>2.367543e-08</td>\n",
       "      <td>9</td>\n",
       "      <td>3</td>\n",
       "      <td>500</td>\n",
       "      <td>0.258832</td>\n",
       "      <td>COMPLETE</td>\n",
       "    </tr>\n",
       "  </tbody>\n",
       "</table>\n",
       "<p>80 rows × 17 columns</p>\n",
       "</div>"
      ],
      "text/plain": [
       "    number     value             datetime_start          datetime_complete  \\\n",
       "0        0  0.966894 2022-05-26 08:35:06.119833 2022-05-26 08:35:09.708021   \n",
       "1        1  0.956345 2022-05-26 08:35:09.709877 2022-05-26 08:35:12.467011   \n",
       "2        2  0.943852 2022-05-26 08:35:12.468534 2022-05-26 08:35:15.183199   \n",
       "3        3  0.966794 2022-05-26 08:35:15.184574 2022-05-26 08:35:17.836936   \n",
       "4        4  0.953681 2022-05-26 08:35:17.838998 2022-05-26 08:35:20.486340   \n",
       "..     ...       ...                        ...                        ...   \n",
       "75      75  0.977647 2022-05-26 08:41:53.942821 2022-05-26 08:42:04.818141   \n",
       "76      76  0.977888 2022-05-26 08:42:04.820142 2022-05-26 08:43:01.548839   \n",
       "77      77  0.977246 2022-05-26 08:43:01.550411 2022-05-26 08:43:10.943502   \n",
       "78      78  0.972331 2022-05-26 08:43:10.944588 2022-05-26 08:43:13.446102   \n",
       "79      79  0.977499 2022-05-26 08:43:13.447163 2022-05-26 08:43:22.267714   \n",
       "\n",
       "                 duration  params_alpha params_booster  \\\n",
       "0  0 days 00:00:03.588188  9.550258e-03         gbtree   \n",
       "1  0 days 00:00:02.757134  3.259917e-03           dart   \n",
       "2  0 days 00:00:02.714665  9.624332e-02           dart   \n",
       "3  0 days 00:00:02.652362  5.974131e-07         gbtree   \n",
       "4  0 days 00:00:02.647342  2.792892e-07           dart   \n",
       "..                    ...           ...            ...   \n",
       "75 0 days 00:00:10.875320  1.731280e-04           dart   \n",
       "76 0 days 00:00:56.728697  1.309887e-04           dart   \n",
       "77 0 days 00:00:09.393091  1.125160e-04           dart   \n",
       "78 0 days 00:00:02.501514  1.253433e-03           dart   \n",
       "79 0 days 00:00:08.820551  1.723838e-04           dart   \n",
       "\n",
       "    params_colsample_bytree    params_eta  params_gamma params_grow_policy  \\\n",
       "0                  0.203660  5.936186e-05  9.676589e-04          lossguide   \n",
       "1                  0.164855  9.126029e-03  1.199008e-06          lossguide   \n",
       "2                  0.165532  1.967008e-08  1.341082e-04          depthwise   \n",
       "3                  0.286196  9.956320e-03  9.317804e-07          lossguide   \n",
       "4                  0.271502  3.778556e-06  1.242844e-03          depthwise   \n",
       "..                      ...           ...           ...                ...   \n",
       "75                 0.236806  1.996770e-01  4.699285e-03          depthwise   \n",
       "76                 0.234388  5.682489e-02  4.978830e-03          depthwise   \n",
       "77                 0.239249  2.323284e-01  1.335762e-02          depthwise   \n",
       "78                 0.236434  9.708007e-01  1.505395e-02          depthwise   \n",
       "79                 0.254935  2.281515e-01  4.345812e-03          depthwise   \n",
       "\n",
       "    params_lambda  params_max_depth  params_min_child_weight  \\\n",
       "0    1.402927e-01                10                        5   \n",
       "1    1.636989e-07                 4                        5   \n",
       "2    5.617926e-04                 3                        3   \n",
       "3    1.310873e-03                 7                        5   \n",
       "4    5.471580e-08                 3                        4   \n",
       "..            ...               ...                      ...   \n",
       "75   1.123298e-07                 9                        3   \n",
       "76   1.314997e-07                 9                        3   \n",
       "77   1.224109e-07                 9                        3   \n",
       "78   9.800200e-08                10                        3   \n",
       "79   2.367543e-08                 9                        3   \n",
       "\n",
       "    params_n_estimators  params_subsample     state  \n",
       "0                   200          0.103959  COMPLETE  \n",
       "1                   200          0.190669  COMPLETE  \n",
       "2                   200          0.111214  COMPLETE  \n",
       "3                   750          0.197622  COMPLETE  \n",
       "4                   300          0.257180  COMPLETE  \n",
       "..                  ...               ...       ...  \n",
       "75                  500          0.253035  COMPLETE  \n",
       "76                  500          0.236865  COMPLETE  \n",
       "77                  500          0.235499  COMPLETE  \n",
       "78                  500          0.253109  COMPLETE  \n",
       "79                  500          0.258832  COMPLETE  \n",
       "\n",
       "[80 rows x 17 columns]"
      ]
     },
     "execution_count": 45,
     "metadata": {},
     "output_type": "execute_result"
    }
   ],
   "source": [
    "study_df"
   ]
  },
  {
   "cell_type": "code",
   "execution_count": 46,
   "metadata": {},
   "outputs": [
    {
     "data": {
      "text/plain": [
       "<AxesSubplot:title={'center':'Optimization History Plot'}, xlabel='#Trials', ylabel='Objective Value'>"
      ]
     },
     "execution_count": 46,
     "metadata": {},
     "output_type": "execute_result"
    },
    {
     "data": {
      "image/png": "[encoded data removed]",
      "text/plain": [
       "<Figure size 432x288 with 1 Axes>"
      ]
     },
     "metadata": {},
     "output_type": "display_data"
    }
   ],
   "source": [
    "optuna.visualization.matplotlib.plot_optimization_history(study)"
   ]
  },
  {
   "cell_type": "code",
   "execution_count": 47,
   "metadata": {},
   "outputs": [
    {
     "data": {
      "text/plain": [
       "<AxesSubplot:title={'center':'Hyperparameter Importances'}, xlabel='Importance for Objective Value', ylabel='Hyperparameter'>"
      ]
     },
     "execution_count": 47,
     "metadata": {},
     "output_type": "execute_result"
    },
    {
     "data": {
      "image/png": "[encoded data removed]",
      "text/plain": [
       "<Figure size 432x288 with 1 Axes>"
      ]
     },
     "metadata": {},
     "output_type": "display_data"
    }
   ],
   "source": [
    "optuna.visualization.matplotlib.plot_param_importances(study)"
   ]
  },
  {
   "cell_type": "markdown",
   "metadata": {},
   "source": [
    "## Define and train model given the best hyperparameters"
   ]
  },
  {
   "cell_type": "code",
   "execution_count": 48,
   "metadata": {},
   "outputs": [],
   "source": [
    "X_train, X_test, y_train, y_test = load_data(fpath=data_path,\n",
    "                                             colsToDrop=colsToDropTraining,\n",
    "                                             dataType=DATA_TYPE,\n",
    "                                             cpu=True,\n",
    "                                             splitXY=True,\n",
    "                                             imbalance=False,\n",
    "                                             trainTestSplit=True,\n",
    "                                             multi=False)"
   ]
  },
  {
   "cell_type": "code",
   "execution_count": 49,
   "metadata": {},
   "outputs": [
    {
     "data": {
      "text/html": [
       "<div>\n",
       "<style scoped>\n",
       "    .dataframe tbody tr th:only-of-type {\n",
       "        vertical-align: middle;\n",
       "    }\n",
       "\n",
       "    .dataframe tbody tr th {\n",
       "        vertical-align: top;\n",
       "    }\n",
       "\n",
       "    .dataframe thead th {\n",
       "        text-align: right;\n",
       "    }\n",
       "</style>\n",
       "<table border=\"1\" class=\"dataframe\">\n",
       "  <thead>\n",
       "    <tr style=\"text-align: right;\">\n",
       "      <th></th>\n",
       "      <th>count</th>\n",
       "      <th>mean</th>\n",
       "      <th>std</th>\n",
       "      <th>min</th>\n",
       "      <th>25%</th>\n",
       "      <th>50%</th>\n",
       "      <th>75%</th>\n",
       "      <th>max</th>\n",
       "    </tr>\n",
       "  </thead>\n",
       "  <tbody>\n",
       "    <tr>\n",
       "      <th>sur_refl_b01_1</th>\n",
       "      <td>805088.0</td>\n",
       "      <td>1410.656204</td>\n",
       "      <td>2215.639459</td>\n",
       "      <td>-100.0</td>\n",
       "      <td>148.0</td>\n",
       "      <td>723.0</td>\n",
       "      <td>1420.0</td>\n",
       "      <td>16000.0</td>\n",
       "    </tr>\n",
       "    <tr>\n",
       "      <th>sur_refl_b02_1</th>\n",
       "      <td>805088.0</td>\n",
       "      <td>2008.491541</td>\n",
       "      <td>2041.491274</td>\n",
       "      <td>-100.0</td>\n",
       "      <td>137.0</td>\n",
       "      <td>1978.0</td>\n",
       "      <td>2633.0</td>\n",
       "      <td>16000.0</td>\n",
       "    </tr>\n",
       "    <tr>\n",
       "      <th>sur_refl_b03_1</th>\n",
       "      <td>805088.0</td>\n",
       "      <td>1138.789577</td>\n",
       "      <td>2235.686010</td>\n",
       "      <td>-100.0</td>\n",
       "      <td>204.0</td>\n",
       "      <td>367.0</td>\n",
       "      <td>696.0</td>\n",
       "      <td>13347.0</td>\n",
       "    </tr>\n",
       "    <tr>\n",
       "      <th>sur_refl_b06_1</th>\n",
       "      <td>805088.0</td>\n",
       "      <td>1576.069502</td>\n",
       "      <td>1354.122924</td>\n",
       "      <td>-100.0</td>\n",
       "      <td>88.0</td>\n",
       "      <td>1528.0</td>\n",
       "      <td>2652.0</td>\n",
       "      <td>10993.0</td>\n",
       "    </tr>\n",
       "    <tr>\n",
       "      <th>sur_refl_b07_1</th>\n",
       "      <td>805088.0</td>\n",
       "      <td>439.915830</td>\n",
       "      <td>4339.861624</td>\n",
       "      <td>-28672.0</td>\n",
       "      <td>46.0</td>\n",
       "      <td>722.0</td>\n",
       "      <td>1748.0</td>\n",
       "      <td>7247.0</td>\n",
       "    </tr>\n",
       "    <tr>\n",
       "      <th>ndvi</th>\n",
       "      <td>805088.0</td>\n",
       "      <td>-300.777500</td>\n",
       "      <td>6820.032113</td>\n",
       "      <td>-32727.0</td>\n",
       "      <td>-3421.0</td>\n",
       "      <td>1256.0</td>\n",
       "      <td>4198.0</td>\n",
       "      <td>32679.0</td>\n",
       "    </tr>\n",
       "    <tr>\n",
       "      <th>b01_sur_refl_b03_1</th>\n",
       "      <td>805088.0</td>\n",
       "      <td>418.789388</td>\n",
       "      <td>4466.184900</td>\n",
       "      <td>-32727.0</td>\n",
       "      <td>-1420.0</td>\n",
       "      <td>2287.0</td>\n",
       "      <td>3663.0</td>\n",
       "      <td>32762.0</td>\n",
       "    </tr>\n",
       "    <tr>\n",
       "      <th>b01_sur_refl_b07_1</th>\n",
       "      <td>805088.0</td>\n",
       "      <td>253.083675</td>\n",
       "      <td>5042.557471</td>\n",
       "      <td>-32727.0</td>\n",
       "      <td>-3273.0</td>\n",
       "      <td>-1569.0</td>\n",
       "      <td>3592.0</td>\n",
       "      <td>32762.0</td>\n",
       "    </tr>\n",
       "    <tr>\n",
       "      <th>b02_ndvi</th>\n",
       "      <td>805088.0</td>\n",
       "      <td>-2848.003456</td>\n",
       "      <td>8340.329855</td>\n",
       "      <td>-32767.0</td>\n",
       "      <td>-9994.0</td>\n",
       "      <td>-3935.0</td>\n",
       "      <td>591.0</td>\n",
       "      <td>32767.0</td>\n",
       "    </tr>\n",
       "    <tr>\n",
       "      <th>b03_sur_refl_b04_1</th>\n",
       "      <td>805088.0</td>\n",
       "      <td>-1474.950198</td>\n",
       "      <td>2357.868198</td>\n",
       "      <td>-32727.0</td>\n",
       "      <td>-2927.0</td>\n",
       "      <td>-2234.0</td>\n",
       "      <td>48.0</td>\n",
       "      <td>32553.0</td>\n",
       "    </tr>\n",
       "    <tr>\n",
       "      <th>b03_sur_refl_b06_1</th>\n",
       "      <td>805088.0</td>\n",
       "      <td>-1511.555485</td>\n",
       "      <td>6356.303675</td>\n",
       "      <td>-32679.0</td>\n",
       "      <td>-7436.0</td>\n",
       "      <td>-4612.0</td>\n",
       "      <td>5103.0</td>\n",
       "      <td>32564.0</td>\n",
       "    </tr>\n",
       "    <tr>\n",
       "      <th>b04_sur_refl_b03_1</th>\n",
       "      <td>805088.0</td>\n",
       "      <td>1474.950198</td>\n",
       "      <td>2357.868198</td>\n",
       "      <td>-32553.0</td>\n",
       "      <td>-48.0</td>\n",
       "      <td>2234.0</td>\n",
       "      <td>2927.0</td>\n",
       "      <td>32727.0</td>\n",
       "    </tr>\n",
       "    <tr>\n",
       "      <th>b04_sur_refl_b06_1</th>\n",
       "      <td>805088.0</td>\n",
       "      <td>-628.826351</td>\n",
       "      <td>5374.332565</td>\n",
       "      <td>-28461.0</td>\n",
       "      <td>-5747.0</td>\n",
       "      <td>-2824.0</td>\n",
       "      <td>4285.0</td>\n",
       "      <td>23607.0</td>\n",
       "    </tr>\n",
       "    <tr>\n",
       "      <th>b04_sur_refl_b07_1</th>\n",
       "      <td>805088.0</td>\n",
       "      <td>1143.632979</td>\n",
       "      <td>5548.979510</td>\n",
       "      <td>-31111.0</td>\n",
       "      <td>-3758.0</td>\n",
       "      <td>-580.0</td>\n",
       "      <td>6811.0</td>\n",
       "      <td>31727.0</td>\n",
       "    </tr>\n",
       "    <tr>\n",
       "      <th>b04_ndvi</th>\n",
       "      <td>805088.0</td>\n",
       "      <td>-4653.964031</td>\n",
       "      <td>8801.096409</td>\n",
       "      <td>-32768.0</td>\n",
       "      <td>-10174.0</td>\n",
       "      <td>-7609.0</td>\n",
       "      <td>-2671.0</td>\n",
       "      <td>32767.0</td>\n",
       "    </tr>\n",
       "    <tr>\n",
       "      <th>b06_sur_refl_b07_1</th>\n",
       "      <td>805088.0</td>\n",
       "      <td>2768.812553</td>\n",
       "      <td>2883.949036</td>\n",
       "      <td>-31786.0</td>\n",
       "      <td>1340.0</td>\n",
       "      <td>2631.0</td>\n",
       "      <td>4186.0</td>\n",
       "      <td>30000.0</td>\n",
       "    </tr>\n",
       "    <tr>\n",
       "      <th>b07_ndvi</th>\n",
       "      <td>805088.0</td>\n",
       "      <td>-4626.270641</td>\n",
       "      <td>8306.437736</td>\n",
       "      <td>-32768.0</td>\n",
       "      <td>-10035.0</td>\n",
       "      <td>-7077.0</td>\n",
       "      <td>-728.0</td>\n",
       "      <td>32765.0</td>\n",
       "    </tr>\n",
       "  </tbody>\n",
       "</table>\n",
       "</div>"
      ],
      "text/plain": [
       "                       count         mean          std      min      25%  \\\n",
       "sur_refl_b01_1      805088.0  1410.656204  2215.639459   -100.0    148.0   \n",
       "sur_refl_b02_1      805088.0  2008.491541  2041.491274   -100.0    137.0   \n",
       "sur_refl_b03_1      805088.0  1138.789577  2235.686010   -100.0    204.0   \n",
       "sur_refl_b06_1      805088.0  1576.069502  1354.122924   -100.0     88.0   \n",
       "sur_refl_b07_1      805088.0   439.915830  4339.861624 -28672.0     46.0   \n",
       "ndvi                805088.0  -300.777500  6820.032113 -32727.0  -3421.0   \n",
       "b01_sur_refl_b03_1  805088.0   418.789388  4466.184900 -32727.0  -1420.0   \n",
       "b01_sur_refl_b07_1  805088.0   253.083675  5042.557471 -32727.0  -3273.0   \n",
       "b02_ndvi            805088.0 -2848.003456  8340.329855 -32767.0  -9994.0   \n",
       "b03_sur_refl_b04_1  805088.0 -1474.950198  2357.868198 -32727.0  -2927.0   \n",
       "b03_sur_refl_b06_1  805088.0 -1511.555485  6356.303675 -32679.0  -7436.0   \n",
       "b04_sur_refl_b03_1  805088.0  1474.950198  2357.868198 -32553.0    -48.0   \n",
       "b04_sur_refl_b06_1  805088.0  -628.826351  5374.332565 -28461.0  -5747.0   \n",
       "b04_sur_refl_b07_1  805088.0  1143.632979  5548.979510 -31111.0  -3758.0   \n",
       "b04_ndvi            805088.0 -4653.964031  8801.096409 -32768.0 -10174.0   \n",
       "b06_sur_refl_b07_1  805088.0  2768.812553  2883.949036 -31786.0   1340.0   \n",
       "b07_ndvi            805088.0 -4626.270641  8306.437736 -32768.0 -10035.0   \n",
       "\n",
       "                       50%     75%      max  \n",
       "sur_refl_b01_1       723.0  1420.0  16000.0  \n",
       "sur_refl_b02_1      1978.0  2633.0  16000.0  \n",
       "sur_refl_b03_1       367.0   696.0  13347.0  \n",
       "sur_refl_b06_1      1528.0  2652.0  10993.0  \n",
       "sur_refl_b07_1       722.0  1748.0   7247.0  \n",
       "ndvi                1256.0  4198.0  32679.0  \n",
       "b01_sur_refl_b03_1  2287.0  3663.0  32762.0  \n",
       "b01_sur_refl_b07_1 -1569.0  3592.0  32762.0  \n",
       "b02_ndvi           -3935.0   591.0  32767.0  \n",
       "b03_sur_refl_b04_1 -2234.0    48.0  32553.0  \n",
       "b03_sur_refl_b06_1 -4612.0  5103.0  32564.0  \n",
       "b04_sur_refl_b03_1  2234.0  2927.0  32727.0  \n",
       "b04_sur_refl_b06_1 -2824.0  4285.0  23607.0  \n",
       "b04_sur_refl_b07_1  -580.0  6811.0  31727.0  \n",
       "b04_ndvi           -7609.0 -2671.0  32767.0  \n",
       "b06_sur_refl_b07_1  2631.0  4186.0  30000.0  \n",
       "b07_ndvi           -7077.0  -728.0  32765.0  "
      ]
     },
     "execution_count": 49,
     "metadata": {},
     "output_type": "execute_result"
    }
   ],
   "source": [
    "X_train.describe().T"
   ]
  },
  {
   "cell_type": "code",
   "execution_count": 1,
   "metadata": {},
   "outputs": [
    {
     "ename": "NameError",
     "evalue": "name 'best_trial_params' is not defined",
     "output_type": "error",
     "traceback": [
      "\u001b[0;31m---------------------------------------------------------------------------\u001b[0m",
      "\u001b[0;31mNameError\u001b[0m                                 Traceback (most recent call last)",
      "Cell \u001b[0;32mIn [1], line 1\u001b[0m\n\u001b[0;32m----> 1\u001b[0m hyperparameters \u001b[38;5;241m=\u001b[39m \u001b[43mbest_trial_params\u001b[49m\n\u001b[1;32m      3\u001b[0m base_params \u001b[38;5;241m=\u001b[39m {\u001b[38;5;124m\"\u001b[39m\u001b[38;5;124mverbosity\u001b[39m\u001b[38;5;124m\"\u001b[39m: \u001b[38;5;241m0\u001b[39m,\n\u001b[1;32m      4\u001b[0m                \u001b[38;5;124m\"\u001b[39m\u001b[38;5;124mobjective\u001b[39m\u001b[38;5;124m\"\u001b[39m: \u001b[38;5;124m\"\u001b[39m\u001b[38;5;124mbinary:logistic\u001b[39m\u001b[38;5;124m\"\u001b[39m,\n\u001b[1;32m      5\u001b[0m                \u001b[38;5;124m\"\u001b[39m\u001b[38;5;124mtree_method\u001b[39m\u001b[38;5;124m\"\u001b[39m: \u001b[38;5;124m\"\u001b[39m\u001b[38;5;124mhist\u001b[39m\u001b[38;5;124m\"\u001b[39m,\n\u001b[1;32m      6\u001b[0m                \u001b[38;5;124m\"\u001b[39m\u001b[38;5;124mn_jobs\u001b[39m\u001b[38;5;124m\"\u001b[39m: \u001b[38;5;241m-\u001b[39m\u001b[38;5;241m1\u001b[39m}\n\u001b[1;32m      8\u001b[0m hyperparameters\u001b[38;5;241m.\u001b[39mupdate(base_params)\n",
      "\u001b[0;31mNameError\u001b[0m: name 'best_trial_params' is not defined"
     ]
    }
   ],
   "source": [
    "hyperparameters = best_trial_params\n",
    "\n",
    "base_params = {\"verbosity\": 0,\n",
    "               \"objective\": \"binary:logistic\",\n",
    "               \"tree_method\": \"hist\",\n",
    "               \"n_jobs\": -1}\n",
    "\n",
    "hyperparameters.update(base_params)\n",
    "print('Using these params:')\n",
    "pprint(hyperparameters)"
   ]
  },
  {
   "cell_type": "code",
   "execution_count": 14,
   "metadata": {},
   "outputs": [],
   "source": [
    "eval_set = [(X_train, y_train), (X_test, y_test)]\n",
    "eval_metric = [\"error\", \"auc\"]\n",
    "hyperparameters = {'alpha': 0.00016460780631131285,\n",
    " 'booster': 'dart',\n",
    " 'colsample_bytree': 0.23719621881000702,\n",
    " 'eta': 0.06246382190577308,\n",
    " 'gamma': 0.0013198987967330343,\n",
    " 'grow_policy': 'depthwise',\n",
    " 'lambda': 5.542183143116679e-07,\n",
    " 'max_depth': 9,\n",
    " 'min_child_weight': 3,\n",
    " 'n_estimators': 500,\n",
    " 'n_jobs': -1,\n",
    " 'objective': 'binary:logistic',\n",
    " 'subsample': 0.23761009745083714,\n",
    " 'tree_method': 'hist',\n",
    " 'verbosity': 0}\n",
    "classifier = xgb.XGBClassifier(**hyperparameters)"
   ]
  },
  {
   "cell_type": "code",
   "execution_count": 15,
   "metadata": {},
   "outputs": [
    {
     "name": "stdout",
     "output_type": "stream",
     "text": [
      "[0]\tvalidation_0-error:0.02933\tvalidation_0-auc:0.99364\tvalidation_1-error:0.03022\tvalidation_1-auc:0.99321\n",
      "[1]\tvalidation_0-error:0.02822\tvalidation_0-auc:0.99437\tvalidation_1-error:0.02909\tvalidation_1-auc:0.99413\n",
      "[2]\tvalidation_0-error:0.02728\tvalidation_0-auc:0.99434\tvalidation_1-error:0.02811\tvalidation_1-auc:0.99416\n",
      "[3]\tvalidation_0-error:0.02667\tvalidation_0-auc:0.99472\tvalidation_1-error:0.02743\tvalidation_1-auc:0.99460\n",
      "[4]\tvalidation_0-error:0.02661\tvalidation_0-auc:0.99511\tvalidation_1-error:0.02734\tvalidation_1-auc:0.99500\n",
      "[5]\tvalidation_0-error:0.02623\tvalidation_0-auc:0.99520\tvalidation_1-error:0.02689\tvalidation_1-auc:0.99508\n",
      "[6]\tvalidation_0-error:0.02607\tvalidation_0-auc:0.99517\tvalidation_1-error:0.02692\tvalidation_1-auc:0.99504\n",
      "[7]\tvalidation_0-error:0.02594\tvalidation_0-auc:0.99528\tvalidation_1-error:0.02686\tvalidation_1-auc:0.99515\n",
      "[8]\tvalidation_0-error:0.02587\tvalidation_0-auc:0.99540\tvalidation_1-error:0.02661\tvalidation_1-auc:0.99522\n",
      "[9]\tvalidation_0-error:0.02576\tvalidation_0-auc:0.99555\tvalidation_1-error:0.02668\tvalidation_1-auc:0.99537\n",
      "[10]\tvalidation_0-error:0.02565\tvalidation_0-auc:0.99566\tvalidation_1-error:0.02652\tvalidation_1-auc:0.99547\n",
      "[11]\tvalidation_0-error:0.02544\tvalidation_0-auc:0.99566\tvalidation_1-error:0.02616\tvalidation_1-auc:0.99547\n",
      "[12]\tvalidation_0-error:0.02518\tvalidation_0-auc:0.99579\tvalidation_1-error:0.02595\tvalidation_1-auc:0.99559\n",
      "[13]\tvalidation_0-error:0.02498\tvalidation_0-auc:0.99588\tvalidation_1-error:0.02588\tvalidation_1-auc:0.99568\n",
      "[14]\tvalidation_0-error:0.02465\tvalidation_0-auc:0.99605\tvalidation_1-error:0.02540\tvalidation_1-auc:0.99582\n",
      "[15]\tvalidation_0-error:0.02421\tvalidation_0-auc:0.99618\tvalidation_1-error:0.02493\tvalidation_1-auc:0.99593\n",
      "[16]\tvalidation_0-error:0.02392\tvalidation_0-auc:0.99623\tvalidation_1-error:0.02467\tvalidation_1-auc:0.99596\n",
      "[17]\tvalidation_0-error:0.02390\tvalidation_0-auc:0.99624\tvalidation_1-error:0.02455\tvalidation_1-auc:0.99590\n",
      "[18]\tvalidation_0-error:0.02370\tvalidation_0-auc:0.99631\tvalidation_1-error:0.02438\tvalidation_1-auc:0.99595\n",
      "[19]\tvalidation_0-error:0.02344\tvalidation_0-auc:0.99639\tvalidation_1-error:0.02420\tvalidation_1-auc:0.99604\n",
      "[20]\tvalidation_0-error:0.02327\tvalidation_0-auc:0.99651\tvalidation_1-error:0.02397\tvalidation_1-auc:0.99613\n",
      "[21]\tvalidation_0-error:0.02299\tvalidation_0-auc:0.99657\tvalidation_1-error:0.02378\tvalidation_1-auc:0.99619\n",
      "[22]\tvalidation_0-error:0.02290\tvalidation_0-auc:0.99663\tvalidation_1-error:0.02381\tvalidation_1-auc:0.99622\n",
      "[23]\tvalidation_0-error:0.02268\tvalidation_0-auc:0.99673\tvalidation_1-error:0.02348\tvalidation_1-auc:0.99631\n",
      "[24]\tvalidation_0-error:0.02258\tvalidation_0-auc:0.99675\tvalidation_1-error:0.02334\tvalidation_1-auc:0.99632\n",
      "[25]\tvalidation_0-error:0.02254\tvalidation_0-auc:0.99681\tvalidation_1-error:0.02341\tvalidation_1-auc:0.99635\n",
      "[26]\tvalidation_0-error:0.02240\tvalidation_0-auc:0.99686\tvalidation_1-error:0.02332\tvalidation_1-auc:0.99636\n",
      "[27]\tvalidation_0-error:0.02228\tvalidation_0-auc:0.99693\tvalidation_1-error:0.02318\tvalidation_1-auc:0.99645\n",
      "[28]\tvalidation_0-error:0.02219\tvalidation_0-auc:0.99697\tvalidation_1-error:0.02310\tvalidation_1-auc:0.99647\n",
      "[29]\tvalidation_0-error:0.02216\tvalidation_0-auc:0.99704\tvalidation_1-error:0.02305\tvalidation_1-auc:0.99650\n",
      "[30]\tvalidation_0-error:0.02213\tvalidation_0-auc:0.99710\tvalidation_1-error:0.02297\tvalidation_1-auc:0.99658\n",
      "[31]\tvalidation_0-error:0.02207\tvalidation_0-auc:0.99714\tvalidation_1-error:0.02296\tvalidation_1-auc:0.99661\n",
      "[32]\tvalidation_0-error:0.02192\tvalidation_0-auc:0.99721\tvalidation_1-error:0.02296\tvalidation_1-auc:0.99669\n",
      "[33]\tvalidation_0-error:0.02180\tvalidation_0-auc:0.99725\tvalidation_1-error:0.02289\tvalidation_1-auc:0.99673\n",
      "[34]\tvalidation_0-error:0.02176\tvalidation_0-auc:0.99730\tvalidation_1-error:0.02276\tvalidation_1-auc:0.99677\n",
      "[35]\tvalidation_0-error:0.02163\tvalidation_0-auc:0.99735\tvalidation_1-error:0.02275\tvalidation_1-auc:0.99679\n",
      "[36]\tvalidation_0-error:0.02155\tvalidation_0-auc:0.99739\tvalidation_1-error:0.02267\tvalidation_1-auc:0.99683\n",
      "[37]\tvalidation_0-error:0.02149\tvalidation_0-auc:0.99744\tvalidation_1-error:0.02255\tvalidation_1-auc:0.99687\n",
      "[38]\tvalidation_0-error:0.02142\tvalidation_0-auc:0.99747\tvalidation_1-error:0.02250\tvalidation_1-auc:0.99691\n",
      "[39]\tvalidation_0-error:0.02138\tvalidation_0-auc:0.99755\tvalidation_1-error:0.02240\tvalidation_1-auc:0.99701\n",
      "[40]\tvalidation_0-error:0.02132\tvalidation_0-auc:0.99755\tvalidation_1-error:0.02239\tvalidation_1-auc:0.99702\n",
      "[41]\tvalidation_0-error:0.02116\tvalidation_0-auc:0.99762\tvalidation_1-error:0.02225\tvalidation_1-auc:0.99707\n",
      "[42]\tvalidation_0-error:0.02115\tvalidation_0-auc:0.99766\tvalidation_1-error:0.02221\tvalidation_1-auc:0.99714\n",
      "[43]\tvalidation_0-error:0.02105\tvalidation_0-auc:0.99769\tvalidation_1-error:0.02212\tvalidation_1-auc:0.99719\n",
      "[44]\tvalidation_0-error:0.02100\tvalidation_0-auc:0.99772\tvalidation_1-error:0.02206\tvalidation_1-auc:0.99721\n",
      "[45]\tvalidation_0-error:0.02103\tvalidation_0-auc:0.99779\tvalidation_1-error:0.02215\tvalidation_1-auc:0.99726\n",
      "[46]\tvalidation_0-error:0.02099\tvalidation_0-auc:0.99781\tvalidation_1-error:0.02207\tvalidation_1-auc:0.99730\n",
      "[47]\tvalidation_0-error:0.02089\tvalidation_0-auc:0.99787\tvalidation_1-error:0.02199\tvalidation_1-auc:0.99732\n",
      "[48]\tvalidation_0-error:0.02084\tvalidation_0-auc:0.99790\tvalidation_1-error:0.02198\tvalidation_1-auc:0.99736\n",
      "[49]\tvalidation_0-error:0.02073\tvalidation_0-auc:0.99794\tvalidation_1-error:0.02187\tvalidation_1-auc:0.99736\n",
      "[50]\tvalidation_0-error:0.02072\tvalidation_0-auc:0.99798\tvalidation_1-error:0.02185\tvalidation_1-auc:0.99740\n",
      "[51]\tvalidation_0-error:0.02064\tvalidation_0-auc:0.99803\tvalidation_1-error:0.02179\tvalidation_1-auc:0.99744\n",
      "[52]\tvalidation_0-error:0.02060\tvalidation_0-auc:0.99806\tvalidation_1-error:0.02169\tvalidation_1-auc:0.99747\n",
      "[53]\tvalidation_0-error:0.02055\tvalidation_0-auc:0.99812\tvalidation_1-error:0.02162\tvalidation_1-auc:0.99750\n",
      "[54]\tvalidation_0-error:0.02037\tvalidation_0-auc:0.99816\tvalidation_1-error:0.02145\tvalidation_1-auc:0.99755\n",
      "[55]\tvalidation_0-error:0.02036\tvalidation_0-auc:0.99819\tvalidation_1-error:0.02142\tvalidation_1-auc:0.99757\n",
      "[56]\tvalidation_0-error:0.02035\tvalidation_0-auc:0.99824\tvalidation_1-error:0.02142\tvalidation_1-auc:0.99758\n",
      "[57]\tvalidation_0-error:0.02030\tvalidation_0-auc:0.99827\tvalidation_1-error:0.02131\tvalidation_1-auc:0.99760\n",
      "[58]\tvalidation_0-error:0.02021\tvalidation_0-auc:0.99831\tvalidation_1-error:0.02123\tvalidation_1-auc:0.99763\n",
      "[59]\tvalidation_0-error:0.02015\tvalidation_0-auc:0.99832\tvalidation_1-error:0.02114\tvalidation_1-auc:0.99761\n",
      "[60]\tvalidation_0-error:0.02009\tvalidation_0-auc:0.99836\tvalidation_1-error:0.02107\tvalidation_1-auc:0.99768\n",
      "[61]\tvalidation_0-error:0.02009\tvalidation_0-auc:0.99839\tvalidation_1-error:0.02107\tvalidation_1-auc:0.99777\n",
      "[62]\tvalidation_0-error:0.02005\tvalidation_0-auc:0.99844\tvalidation_1-error:0.02111\tvalidation_1-auc:0.99783\n",
      "[63]\tvalidation_0-error:0.02000\tvalidation_0-auc:0.99848\tvalidation_1-error:0.02107\tvalidation_1-auc:0.99788\n",
      "[64]\tvalidation_0-error:0.01999\tvalidation_0-auc:0.99850\tvalidation_1-error:0.02103\tvalidation_1-auc:0.99785\n",
      "[65]\tvalidation_0-error:0.01995\tvalidation_0-auc:0.99856\tvalidation_1-error:0.02106\tvalidation_1-auc:0.99786\n",
      "[66]\tvalidation_0-error:0.01987\tvalidation_0-auc:0.99857\tvalidation_1-error:0.02097\tvalidation_1-auc:0.99788\n",
      "[67]\tvalidation_0-error:0.01983\tvalidation_0-auc:0.99860\tvalidation_1-error:0.02096\tvalidation_1-auc:0.99789\n",
      "[68]\tvalidation_0-error:0.01980\tvalidation_0-auc:0.99864\tvalidation_1-error:0.02096\tvalidation_1-auc:0.99793\n",
      "[69]\tvalidation_0-error:0.01981\tvalidation_0-auc:0.99866\tvalidation_1-error:0.02096\tvalidation_1-auc:0.99800\n",
      "[70]\tvalidation_0-error:0.01974\tvalidation_0-auc:0.99870\tvalidation_1-error:0.02093\tvalidation_1-auc:0.99800\n",
      "[71]\tvalidation_0-error:0.01972\tvalidation_0-auc:0.99873\tvalidation_1-error:0.02089\tvalidation_1-auc:0.99804\n",
      "[72]\tvalidation_0-error:0.01966\tvalidation_0-auc:0.99879\tvalidation_1-error:0.02081\tvalidation_1-auc:0.99809\n",
      "[73]\tvalidation_0-error:0.01965\tvalidation_0-auc:0.99882\tvalidation_1-error:0.02079\tvalidation_1-auc:0.99808\n",
      "[74]\tvalidation_0-error:0.01961\tvalidation_0-auc:0.99885\tvalidation_1-error:0.02075\tvalidation_1-auc:0.99810\n",
      "[75]\tvalidation_0-error:0.01955\tvalidation_0-auc:0.99889\tvalidation_1-error:0.02075\tvalidation_1-auc:0.99814\n",
      "[76]\tvalidation_0-error:0.01952\tvalidation_0-auc:0.99891\tvalidation_1-error:0.02068\tvalidation_1-auc:0.99815\n",
      "[77]\tvalidation_0-error:0.01946\tvalidation_0-auc:0.99896\tvalidation_1-error:0.02067\tvalidation_1-auc:0.99814\n",
      "[78]\tvalidation_0-error:0.01945\tvalidation_0-auc:0.99899\tvalidation_1-error:0.02066\tvalidation_1-auc:0.99815\n",
      "[79]\tvalidation_0-error:0.01942\tvalidation_0-auc:0.99902\tvalidation_1-error:0.02063\tvalidation_1-auc:0.99818\n",
      "[80]\tvalidation_0-error:0.01935\tvalidation_0-auc:0.99906\tvalidation_1-error:0.02054\tvalidation_1-auc:0.99824\n",
      "[81]\tvalidation_0-error:0.01931\tvalidation_0-auc:0.99911\tvalidation_1-error:0.02048\tvalidation_1-auc:0.99826\n",
      "[82]\tvalidation_0-error:0.01926\tvalidation_0-auc:0.99914\tvalidation_1-error:0.02043\tvalidation_1-auc:0.99827\n",
      "[83]\tvalidation_0-error:0.01919\tvalidation_0-auc:0.99915\tvalidation_1-error:0.02039\tvalidation_1-auc:0.99833\n",
      "[84]\tvalidation_0-error:0.01917\tvalidation_0-auc:0.99922\tvalidation_1-error:0.02036\tvalidation_1-auc:0.99837\n",
      "[85]\tvalidation_0-error:0.01914\tvalidation_0-auc:0.99924\tvalidation_1-error:0.02034\tvalidation_1-auc:0.99839\n",
      "[86]\tvalidation_0-error:0.01910\tvalidation_0-auc:0.99927\tvalidation_1-error:0.02032\tvalidation_1-auc:0.99842\n",
      "[87]\tvalidation_0-error:0.01908\tvalidation_0-auc:0.99929\tvalidation_1-error:0.02030\tvalidation_1-auc:0.99840\n",
      "[88]\tvalidation_0-error:0.01902\tvalidation_0-auc:0.99932\tvalidation_1-error:0.02028\tvalidation_1-auc:0.99843\n",
      "[89]\tvalidation_0-error:0.01900\tvalidation_0-auc:0.99934\tvalidation_1-error:0.02024\tvalidation_1-auc:0.99849\n",
      "[90]\tvalidation_0-error:0.01898\tvalidation_0-auc:0.99938\tvalidation_1-error:0.02019\tvalidation_1-auc:0.99852\n",
      "[91]\tvalidation_0-error:0.01898\tvalidation_0-auc:0.99941\tvalidation_1-error:0.02019\tvalidation_1-auc:0.99854\n",
      "[92]\tvalidation_0-error:0.01896\tvalidation_0-auc:0.99944\tvalidation_1-error:0.02020\tvalidation_1-auc:0.99855\n",
      "[93]\tvalidation_0-error:0.01895\tvalidation_0-auc:0.99945\tvalidation_1-error:0.02015\tvalidation_1-auc:0.99858\n",
      "[94]\tvalidation_0-error:0.01892\tvalidation_0-auc:0.99947\tvalidation_1-error:0.02013\tvalidation_1-auc:0.99857\n",
      "[95]\tvalidation_0-error:0.01889\tvalidation_0-auc:0.99951\tvalidation_1-error:0.02016\tvalidation_1-auc:0.99861\n",
      "[96]\tvalidation_0-error:0.01882\tvalidation_0-auc:0.99954\tvalidation_1-error:0.02005\tvalidation_1-auc:0.99861\n",
      "[97]\tvalidation_0-error:0.01880\tvalidation_0-auc:0.99955\tvalidation_1-error:0.02004\tvalidation_1-auc:0.99859\n",
      "[98]\tvalidation_0-error:0.01881\tvalidation_0-auc:0.99956\tvalidation_1-error:0.02000\tvalidation_1-auc:0.99867\n",
      "[99]\tvalidation_0-error:0.01878\tvalidation_0-auc:0.99958\tvalidation_1-error:0.02001\tvalidation_1-auc:0.99864\n",
      "[100]\tvalidation_0-error:0.01876\tvalidation_0-auc:0.99960\tvalidation_1-error:0.01997\tvalidation_1-auc:0.99863\n",
      "[101]\tvalidation_0-error:0.01873\tvalidation_0-auc:0.99962\tvalidation_1-error:0.02000\tvalidation_1-auc:0.99868\n",
      "[102]\tvalidation_0-error:0.01871\tvalidation_0-auc:0.99965\tvalidation_1-error:0.01995\tvalidation_1-auc:0.99870\n",
      "[103]\tvalidation_0-error:0.01868\tvalidation_0-auc:0.99966\tvalidation_1-error:0.01990\tvalidation_1-auc:0.99871\n",
      "[104]\tvalidation_0-error:0.01867\tvalidation_0-auc:0.99968\tvalidation_1-error:0.01989\tvalidation_1-auc:0.99872\n",
      "[105]\tvalidation_0-error:0.01863\tvalidation_0-auc:0.99970\tvalidation_1-error:0.01988\tvalidation_1-auc:0.99874\n",
      "[106]\tvalidation_0-error:0.01858\tvalidation_0-auc:0.99972\tvalidation_1-error:0.01988\tvalidation_1-auc:0.99875\n",
      "[107]\tvalidation_0-error:0.01856\tvalidation_0-auc:0.99973\tvalidation_1-error:0.01988\tvalidation_1-auc:0.99875\n",
      "[108]\tvalidation_0-error:0.01854\tvalidation_0-auc:0.99974\tvalidation_1-error:0.01987\tvalidation_1-auc:0.99876\n",
      "[109]\tvalidation_0-error:0.01849\tvalidation_0-auc:0.99977\tvalidation_1-error:0.01987\tvalidation_1-auc:0.99880\n",
      "[110]\tvalidation_0-error:0.01845\tvalidation_0-auc:0.99978\tvalidation_1-error:0.01988\tvalidation_1-auc:0.99880\n",
      "[111]\tvalidation_0-error:0.01844\tvalidation_0-auc:0.99981\tvalidation_1-error:0.01983\tvalidation_1-auc:0.99881\n",
      "[112]\tvalidation_0-error:0.01841\tvalidation_0-auc:0.99982\tvalidation_1-error:0.01983\tvalidation_1-auc:0.99882\n",
      "[113]\tvalidation_0-error:0.01834\tvalidation_0-auc:0.99985\tvalidation_1-error:0.01977\tvalidation_1-auc:0.99884\n",
      "[114]\tvalidation_0-error:0.01833\tvalidation_0-auc:0.99986\tvalidation_1-error:0.01974\tvalidation_1-auc:0.99885\n",
      "[115]\tvalidation_0-error:0.01830\tvalidation_0-auc:0.99989\tvalidation_1-error:0.01970\tvalidation_1-auc:0.99886\n",
      "[116]\tvalidation_0-error:0.01829\tvalidation_0-auc:0.99990\tvalidation_1-error:0.01969\tvalidation_1-auc:0.99886\n",
      "[117]\tvalidation_0-error:0.01828\tvalidation_0-auc:0.99991\tvalidation_1-error:0.01972\tvalidation_1-auc:0.99887\n",
      "[118]\tvalidation_0-error:0.01825\tvalidation_0-auc:0.99992\tvalidation_1-error:0.01971\tvalidation_1-auc:0.99887\n",
      "[119]\tvalidation_0-error:0.01819\tvalidation_0-auc:0.99995\tvalidation_1-error:0.01966\tvalidation_1-auc:0.99890\n",
      "[120]\tvalidation_0-error:0.01819\tvalidation_0-auc:0.99996\tvalidation_1-error:0.01964\tvalidation_1-auc:0.99891\n",
      "[121]\tvalidation_0-error:0.01816\tvalidation_0-auc:0.99996\tvalidation_1-error:0.01961\tvalidation_1-auc:0.99893\n",
      "[122]\tvalidation_0-error:0.01815\tvalidation_0-auc:0.99998\tvalidation_1-error:0.01960\tvalidation_1-auc:0.99893\n",
      "[123]\tvalidation_0-error:0.01810\tvalidation_0-auc:0.99999\tvalidation_1-error:0.01956\tvalidation_1-auc:0.99894\n",
      "[124]\tvalidation_0-error:0.01808\tvalidation_0-auc:1.00001\tvalidation_1-error:0.01958\tvalidation_1-auc:0.99895\n",
      "[125]\tvalidation_0-error:0.01805\tvalidation_0-auc:1.00001\tvalidation_1-error:0.01955\tvalidation_1-auc:0.99895\n",
      "[126]\tvalidation_0-error:0.01803\tvalidation_0-auc:1.00003\tvalidation_1-error:0.01951\tvalidation_1-auc:0.99896\n",
      "[127]\tvalidation_0-error:0.01801\tvalidation_0-auc:1.00005\tvalidation_1-error:0.01945\tvalidation_1-auc:0.99898\n",
      "[128]\tvalidation_0-error:0.01801\tvalidation_0-auc:1.00005\tvalidation_1-error:0.01946\tvalidation_1-auc:0.99899\n",
      "[129]\tvalidation_0-error:0.01797\tvalidation_0-auc:1.00006\tvalidation_1-error:0.01949\tvalidation_1-auc:0.99899\n",
      "[130]\tvalidation_0-error:0.01795\tvalidation_0-auc:1.00008\tvalidation_1-error:0.01948\tvalidation_1-auc:0.99899\n",
      "[131]\tvalidation_0-error:0.01795\tvalidation_0-auc:1.00008\tvalidation_1-error:0.01951\tvalidation_1-auc:0.99900\n",
      "[132]\tvalidation_0-error:0.01794\tvalidation_0-auc:1.00009\tvalidation_1-error:0.01947\tvalidation_1-auc:0.99900\n",
      "[133]\tvalidation_0-error:0.01793\tvalidation_0-auc:1.00009\tvalidation_1-error:0.01952\tvalidation_1-auc:0.99900\n",
      "[134]\tvalidation_0-error:0.01787\tvalidation_0-auc:1.00009\tvalidation_1-error:0.01948\tvalidation_1-auc:0.99900\n",
      "[135]\tvalidation_0-error:0.01784\tvalidation_0-auc:1.00010\tvalidation_1-error:0.01945\tvalidation_1-auc:0.99901\n",
      "[136]\tvalidation_0-error:0.01783\tvalidation_0-auc:1.00011\tvalidation_1-error:0.01948\tvalidation_1-auc:0.99901\n",
      "[137]\tvalidation_0-error:0.01782\tvalidation_0-auc:1.00011\tvalidation_1-error:0.01943\tvalidation_1-auc:0.99902\n",
      "[138]\tvalidation_0-error:0.01781\tvalidation_0-auc:1.00012\tvalidation_1-error:0.01941\tvalidation_1-auc:0.99902\n",
      "[139]\tvalidation_0-error:0.01780\tvalidation_0-auc:1.00012\tvalidation_1-error:0.01941\tvalidation_1-auc:0.99902\n",
      "[140]\tvalidation_0-error:0.01775\tvalidation_0-auc:1.00013\tvalidation_1-error:0.01945\tvalidation_1-auc:0.99903\n",
      "[141]\tvalidation_0-error:0.01775\tvalidation_0-auc:1.00013\tvalidation_1-error:0.01943\tvalidation_1-auc:0.99903\n",
      "[142]\tvalidation_0-error:0.01772\tvalidation_0-auc:1.00014\tvalidation_1-error:0.01945\tvalidation_1-auc:0.99904\n",
      "[143]\tvalidation_0-error:0.01772\tvalidation_0-auc:1.00015\tvalidation_1-error:0.01946\tvalidation_1-auc:0.99905\n",
      "[144]\tvalidation_0-error:0.01770\tvalidation_0-auc:1.00015\tvalidation_1-error:0.01942\tvalidation_1-auc:0.99906\n",
      "[145]\tvalidation_0-error:0.01769\tvalidation_0-auc:1.00016\tvalidation_1-error:0.01940\tvalidation_1-auc:0.99906\n",
      "[146]\tvalidation_0-error:0.01764\tvalidation_0-auc:1.00016\tvalidation_1-error:0.01938\tvalidation_1-auc:0.99907\n",
      "[147]\tvalidation_0-error:0.01763\tvalidation_0-auc:1.00017\tvalidation_1-error:0.01938\tvalidation_1-auc:0.99907\n",
      "[148]\tvalidation_0-error:0.01761\tvalidation_0-auc:1.00018\tvalidation_1-error:0.01938\tvalidation_1-auc:0.99908\n",
      "[149]\tvalidation_0-error:0.01760\tvalidation_0-auc:1.00019\tvalidation_1-error:0.01935\tvalidation_1-auc:0.99907\n",
      "[150]\tvalidation_0-error:0.01759\tvalidation_0-auc:1.00019\tvalidation_1-error:0.01936\tvalidation_1-auc:0.99908\n",
      "[151]\tvalidation_0-error:0.01753\tvalidation_0-auc:1.00020\tvalidation_1-error:0.01934\tvalidation_1-auc:0.99909\n",
      "[152]\tvalidation_0-error:0.01752\tvalidation_0-auc:1.00020\tvalidation_1-error:0.01933\tvalidation_1-auc:0.99910\n",
      "[153]\tvalidation_0-error:0.01750\tvalidation_0-auc:1.00020\tvalidation_1-error:0.01931\tvalidation_1-auc:0.99911\n",
      "[154]\tvalidation_0-error:0.01749\tvalidation_0-auc:1.00021\tvalidation_1-error:0.01929\tvalidation_1-auc:0.99911\n",
      "[155]\tvalidation_0-error:0.01746\tvalidation_0-auc:1.00021\tvalidation_1-error:0.01928\tvalidation_1-auc:0.99911\n",
      "[156]\tvalidation_0-error:0.01746\tvalidation_0-auc:1.00022\tvalidation_1-error:0.01926\tvalidation_1-auc:0.99912\n",
      "[157]\tvalidation_0-error:0.01746\tvalidation_0-auc:1.00022\tvalidation_1-error:0.01925\tvalidation_1-auc:0.99912\n",
      "[158]\tvalidation_0-error:0.01745\tvalidation_0-auc:1.00023\tvalidation_1-error:0.01927\tvalidation_1-auc:0.99912\n",
      "[159]\tvalidation_0-error:0.01741\tvalidation_0-auc:1.00024\tvalidation_1-error:0.01925\tvalidation_1-auc:0.99912\n",
      "[160]\tvalidation_0-error:0.01741\tvalidation_0-auc:1.00025\tvalidation_1-error:0.01925\tvalidation_1-auc:0.99913\n",
      "[161]\tvalidation_0-error:0.01735\tvalidation_0-auc:1.00025\tvalidation_1-error:0.01923\tvalidation_1-auc:0.99914\n",
      "[162]\tvalidation_0-error:0.01732\tvalidation_0-auc:1.00025\tvalidation_1-error:0.01923\tvalidation_1-auc:0.99914\n",
      "[163]\tvalidation_0-error:0.01732\tvalidation_0-auc:1.00026\tvalidation_1-error:0.01921\tvalidation_1-auc:0.99914\n",
      "[164]\tvalidation_0-error:0.01729\tvalidation_0-auc:1.00027\tvalidation_1-error:0.01922\tvalidation_1-auc:0.99915\n",
      "[165]\tvalidation_0-error:0.01730\tvalidation_0-auc:1.00027\tvalidation_1-error:0.01919\tvalidation_1-auc:0.99915\n",
      "[166]\tvalidation_0-error:0.01727\tvalidation_0-auc:1.00028\tvalidation_1-error:0.01916\tvalidation_1-auc:0.99916\n",
      "[167]\tvalidation_0-error:0.01728\tvalidation_0-auc:1.00029\tvalidation_1-error:0.01917\tvalidation_1-auc:0.99916\n",
      "[168]\tvalidation_0-error:0.01726\tvalidation_0-auc:1.00029\tvalidation_1-error:0.01914\tvalidation_1-auc:0.99916\n",
      "[169]\tvalidation_0-error:0.01724\tvalidation_0-auc:1.00030\tvalidation_1-error:0.01912\tvalidation_1-auc:0.99917\n",
      "[170]\tvalidation_0-error:0.01720\tvalidation_0-auc:1.00031\tvalidation_1-error:0.01912\tvalidation_1-auc:0.99917\n",
      "[171]\tvalidation_0-error:0.01718\tvalidation_0-auc:1.00032\tvalidation_1-error:0.01914\tvalidation_1-auc:0.99919\n",
      "[172]\tvalidation_0-error:0.01718\tvalidation_0-auc:1.00032\tvalidation_1-error:0.01913\tvalidation_1-auc:0.99919\n",
      "[173]\tvalidation_0-error:0.01718\tvalidation_0-auc:1.00032\tvalidation_1-error:0.01915\tvalidation_1-auc:0.99919\n",
      "[174]\tvalidation_0-error:0.01716\tvalidation_0-auc:1.00033\tvalidation_1-error:0.01908\tvalidation_1-auc:0.99919\n",
      "[175]\tvalidation_0-error:0.01715\tvalidation_0-auc:1.00033\tvalidation_1-error:0.01909\tvalidation_1-auc:0.99920\n",
      "[176]\tvalidation_0-error:0.01716\tvalidation_0-auc:1.00033\tvalidation_1-error:0.01908\tvalidation_1-auc:0.99920\n",
      "[177]\tvalidation_0-error:0.01710\tvalidation_0-auc:1.00034\tvalidation_1-error:0.01908\tvalidation_1-auc:0.99921\n",
      "[178]\tvalidation_0-error:0.01708\tvalidation_0-auc:1.00034\tvalidation_1-error:0.01905\tvalidation_1-auc:0.99921\n",
      "[179]\tvalidation_0-error:0.01706\tvalidation_0-auc:1.00035\tvalidation_1-error:0.01905\tvalidation_1-auc:0.99921\n",
      "[180]\tvalidation_0-error:0.01705\tvalidation_0-auc:1.00036\tvalidation_1-error:0.01902\tvalidation_1-auc:0.99921\n",
      "[181]\tvalidation_0-error:0.01704\tvalidation_0-auc:1.00036\tvalidation_1-error:0.01897\tvalidation_1-auc:0.99921\n",
      "[182]\tvalidation_0-error:0.01703\tvalidation_0-auc:1.00036\tvalidation_1-error:0.01901\tvalidation_1-auc:0.99920\n",
      "[183]\tvalidation_0-error:0.01704\tvalidation_0-auc:1.00037\tvalidation_1-error:0.01899\tvalidation_1-auc:0.99921\n",
      "[184]\tvalidation_0-error:0.01699\tvalidation_0-auc:1.00037\tvalidation_1-error:0.01898\tvalidation_1-auc:0.99921\n",
      "[185]\tvalidation_0-error:0.01697\tvalidation_0-auc:1.00038\tvalidation_1-error:0.01898\tvalidation_1-auc:0.99923\n",
      "[186]\tvalidation_0-error:0.01696\tvalidation_0-auc:1.00039\tvalidation_1-error:0.01894\tvalidation_1-auc:0.99923\n",
      "[187]\tvalidation_0-error:0.01693\tvalidation_0-auc:1.00040\tvalidation_1-error:0.01886\tvalidation_1-auc:0.99924\n",
      "[188]\tvalidation_0-error:0.01692\tvalidation_0-auc:1.00040\tvalidation_1-error:0.01887\tvalidation_1-auc:0.99925\n",
      "[189]\tvalidation_0-error:0.01689\tvalidation_0-auc:1.00041\tvalidation_1-error:0.01890\tvalidation_1-auc:0.99925\n",
      "[190]\tvalidation_0-error:0.01687\tvalidation_0-auc:1.00041\tvalidation_1-error:0.01887\tvalidation_1-auc:0.99927\n",
      "[191]\tvalidation_0-error:0.01687\tvalidation_0-auc:1.00041\tvalidation_1-error:0.01887\tvalidation_1-auc:0.99928\n",
      "[192]\tvalidation_0-error:0.01687\tvalidation_0-auc:1.00043\tvalidation_1-error:0.01884\tvalidation_1-auc:0.99928\n",
      "[193]\tvalidation_0-error:0.01686\tvalidation_0-auc:1.00043\tvalidation_1-error:0.01885\tvalidation_1-auc:0.99928\n",
      "[194]\tvalidation_0-error:0.01687\tvalidation_0-auc:1.00044\tvalidation_1-error:0.01888\tvalidation_1-auc:0.99928\n",
      "[195]\tvalidation_0-error:0.01686\tvalidation_0-auc:1.00044\tvalidation_1-error:0.01886\tvalidation_1-auc:0.99928\n",
      "[196]\tvalidation_0-error:0.01684\tvalidation_0-auc:1.00045\tvalidation_1-error:0.01885\tvalidation_1-auc:0.99928\n",
      "[197]\tvalidation_0-error:0.01681\tvalidation_0-auc:1.00045\tvalidation_1-error:0.01887\tvalidation_1-auc:0.99928\n",
      "[198]\tvalidation_0-error:0.01681\tvalidation_0-auc:1.00044\tvalidation_1-error:0.01883\tvalidation_1-auc:0.99928\n",
      "[199]\tvalidation_0-error:0.01677\tvalidation_0-auc:1.00045\tvalidation_1-error:0.01881\tvalidation_1-auc:0.99928\n",
      "[200]\tvalidation_0-error:0.01679\tvalidation_0-auc:1.00045\tvalidation_1-error:0.01877\tvalidation_1-auc:0.99928\n",
      "[201]\tvalidation_0-error:0.01676\tvalidation_0-auc:1.00045\tvalidation_1-error:0.01879\tvalidation_1-auc:0.99929\n",
      "[202]\tvalidation_0-error:0.01677\tvalidation_0-auc:1.00046\tvalidation_1-error:0.01879\tvalidation_1-auc:0.99929\n",
      "[203]\tvalidation_0-error:0.01671\tvalidation_0-auc:1.00046\tvalidation_1-error:0.01877\tvalidation_1-auc:0.99929\n",
      "[204]\tvalidation_0-error:0.01668\tvalidation_0-auc:1.00046\tvalidation_1-error:0.01876\tvalidation_1-auc:0.99930\n",
      "[205]\tvalidation_0-error:0.01669\tvalidation_0-auc:1.00046\tvalidation_1-error:0.01879\tvalidation_1-auc:0.99930\n",
      "[206]\tvalidation_0-error:0.01669\tvalidation_0-auc:1.00047\tvalidation_1-error:0.01878\tvalidation_1-auc:0.99930\n",
      "[207]\tvalidation_0-error:0.01664\tvalidation_0-auc:1.00048\tvalidation_1-error:0.01874\tvalidation_1-auc:0.99930\n",
      "[208]\tvalidation_0-error:0.01662\tvalidation_0-auc:1.00048\tvalidation_1-error:0.01871\tvalidation_1-auc:0.99930\n",
      "[209]\tvalidation_0-error:0.01661\tvalidation_0-auc:1.00048\tvalidation_1-error:0.01872\tvalidation_1-auc:0.99930\n",
      "[210]\tvalidation_0-error:0.01656\tvalidation_0-auc:1.00049\tvalidation_1-error:0.01874\tvalidation_1-auc:0.99931\n",
      "[211]\tvalidation_0-error:0.01658\tvalidation_0-auc:1.00049\tvalidation_1-error:0.01874\tvalidation_1-auc:0.99931\n",
      "[212]\tvalidation_0-error:0.01654\tvalidation_0-auc:1.00049\tvalidation_1-error:0.01873\tvalidation_1-auc:0.99932\n",
      "[213]\tvalidation_0-error:0.01653\tvalidation_0-auc:1.00049\tvalidation_1-error:0.01873\tvalidation_1-auc:0.99932\n",
      "[214]\tvalidation_0-error:0.01652\tvalidation_0-auc:1.00049\tvalidation_1-error:0.01872\tvalidation_1-auc:0.99932\n",
      "[215]\tvalidation_0-error:0.01650\tvalidation_0-auc:1.00050\tvalidation_1-error:0.01870\tvalidation_1-auc:0.99933\n",
      "[216]\tvalidation_0-error:0.01647\tvalidation_0-auc:1.00051\tvalidation_1-error:0.01866\tvalidation_1-auc:0.99933\n",
      "[217]\tvalidation_0-error:0.01647\tvalidation_0-auc:1.00051\tvalidation_1-error:0.01868\tvalidation_1-auc:0.99933\n",
      "[218]\tvalidation_0-error:0.01644\tvalidation_0-auc:1.00052\tvalidation_1-error:0.01865\tvalidation_1-auc:0.99933\n",
      "[219]\tvalidation_0-error:0.01643\tvalidation_0-auc:1.00052\tvalidation_1-error:0.01864\tvalidation_1-auc:0.99933\n",
      "[220]\tvalidation_0-error:0.01640\tvalidation_0-auc:1.00053\tvalidation_1-error:0.01863\tvalidation_1-auc:0.99933\n",
      "[221]\tvalidation_0-error:0.01637\tvalidation_0-auc:1.00053\tvalidation_1-error:0.01859\tvalidation_1-auc:0.99933\n",
      "[222]\tvalidation_0-error:0.01639\tvalidation_0-auc:1.00053\tvalidation_1-error:0.01858\tvalidation_1-auc:0.99933\n",
      "[223]\tvalidation_0-error:0.01640\tvalidation_0-auc:1.00053\tvalidation_1-error:0.01862\tvalidation_1-auc:0.99934\n",
      "[224]\tvalidation_0-error:0.01640\tvalidation_0-auc:1.00054\tvalidation_1-error:0.01858\tvalidation_1-auc:0.99934\n",
      "[225]\tvalidation_0-error:0.01638\tvalidation_0-auc:1.00053\tvalidation_1-error:0.01864\tvalidation_1-auc:0.99935\n",
      "[226]\tvalidation_0-error:0.01635\tvalidation_0-auc:1.00054\tvalidation_1-error:0.01861\tvalidation_1-auc:0.99934\n",
      "[227]\tvalidation_0-error:0.01634\tvalidation_0-auc:1.00054\tvalidation_1-error:0.01859\tvalidation_1-auc:0.99934\n",
      "[228]\tvalidation_0-error:0.01634\tvalidation_0-auc:1.00054\tvalidation_1-error:0.01857\tvalidation_1-auc:0.99935\n",
      "[229]\tvalidation_0-error:0.01630\tvalidation_0-auc:1.00055\tvalidation_1-error:0.01854\tvalidation_1-auc:0.99935\n",
      "[230]\tvalidation_0-error:0.01627\tvalidation_0-auc:1.00055\tvalidation_1-error:0.01854\tvalidation_1-auc:0.99935\n",
      "[231]\tvalidation_0-error:0.01627\tvalidation_0-auc:1.00055\tvalidation_1-error:0.01860\tvalidation_1-auc:0.99935\n",
      "[232]\tvalidation_0-error:0.01626\tvalidation_0-auc:1.00056\tvalidation_1-error:0.01858\tvalidation_1-auc:0.99936\n",
      "[233]\tvalidation_0-error:0.01624\tvalidation_0-auc:1.00056\tvalidation_1-error:0.01855\tvalidation_1-auc:0.99936\n",
      "[234]\tvalidation_0-error:0.01623\tvalidation_0-auc:1.00056\tvalidation_1-error:0.01849\tvalidation_1-auc:0.99936\n",
      "[235]\tvalidation_0-error:0.01623\tvalidation_0-auc:1.00056\tvalidation_1-error:0.01847\tvalidation_1-auc:0.99936\n",
      "[236]\tvalidation_0-error:0.01623\tvalidation_0-auc:1.00056\tvalidation_1-error:0.01843\tvalidation_1-auc:0.99936\n",
      "[237]\tvalidation_0-error:0.01622\tvalidation_0-auc:1.00056\tvalidation_1-error:0.01843\tvalidation_1-auc:0.99936\n",
      "[238]\tvalidation_0-error:0.01620\tvalidation_0-auc:1.00056\tvalidation_1-error:0.01839\tvalidation_1-auc:0.99936\n",
      "[239]\tvalidation_0-error:0.01616\tvalidation_0-auc:1.00057\tvalidation_1-error:0.01840\tvalidation_1-auc:0.99937\n",
      "[240]\tvalidation_0-error:0.01615\tvalidation_0-auc:1.00058\tvalidation_1-error:0.01841\tvalidation_1-auc:0.99938\n",
      "[241]\tvalidation_0-error:0.01614\tvalidation_0-auc:1.00058\tvalidation_1-error:0.01843\tvalidation_1-auc:0.99938\n",
      "[242]\tvalidation_0-error:0.01612\tvalidation_0-auc:1.00058\tvalidation_1-error:0.01842\tvalidation_1-auc:0.99938\n",
      "[243]\tvalidation_0-error:0.01609\tvalidation_0-auc:1.00058\tvalidation_1-error:0.01839\tvalidation_1-auc:0.99938\n",
      "[244]\tvalidation_0-error:0.01610\tvalidation_0-auc:1.00058\tvalidation_1-error:0.01837\tvalidation_1-auc:0.99938\n",
      "[245]\tvalidation_0-error:0.01609\tvalidation_0-auc:1.00058\tvalidation_1-error:0.01837\tvalidation_1-auc:0.99938\n",
      "[246]\tvalidation_0-error:0.01607\tvalidation_0-auc:1.00058\tvalidation_1-error:0.01836\tvalidation_1-auc:0.99938\n",
      "[247]\tvalidation_0-error:0.01607\tvalidation_0-auc:1.00058\tvalidation_1-error:0.01840\tvalidation_1-auc:0.99938\n",
      "[248]\tvalidation_0-error:0.01606\tvalidation_0-auc:1.00058\tvalidation_1-error:0.01841\tvalidation_1-auc:0.99938\n",
      "[249]\tvalidation_0-error:0.01605\tvalidation_0-auc:1.00059\tvalidation_1-error:0.01848\tvalidation_1-auc:0.99939\n",
      "[250]\tvalidation_0-error:0.01603\tvalidation_0-auc:1.00059\tvalidation_1-error:0.01843\tvalidation_1-auc:0.99939\n",
      "[251]\tvalidation_0-error:0.01597\tvalidation_0-auc:1.00060\tvalidation_1-error:0.01840\tvalidation_1-auc:0.99939\n",
      "[252]\tvalidation_0-error:0.01596\tvalidation_0-auc:1.00060\tvalidation_1-error:0.01840\tvalidation_1-auc:0.99939\n",
      "[253]\tvalidation_0-error:0.01592\tvalidation_0-auc:1.00061\tvalidation_1-error:0.01838\tvalidation_1-auc:0.99939\n",
      "[254]\tvalidation_0-error:0.01588\tvalidation_0-auc:1.00060\tvalidation_1-error:0.01838\tvalidation_1-auc:0.99939\n",
      "[255]\tvalidation_0-error:0.01587\tvalidation_0-auc:1.00062\tvalidation_1-error:0.01838\tvalidation_1-auc:0.99940\n",
      "[256]\tvalidation_0-error:0.01586\tvalidation_0-auc:1.00061\tvalidation_1-error:0.01838\tvalidation_1-auc:0.99940\n",
      "[257]\tvalidation_0-error:0.01585\tvalidation_0-auc:1.00062\tvalidation_1-error:0.01838\tvalidation_1-auc:0.99940\n",
      "[258]\tvalidation_0-error:0.01587\tvalidation_0-auc:1.00062\tvalidation_1-error:0.01838\tvalidation_1-auc:0.99940\n",
      "[259]\tvalidation_0-error:0.01585\tvalidation_0-auc:1.00062\tvalidation_1-error:0.01833\tvalidation_1-auc:0.99940\n",
      "[260]\tvalidation_0-error:0.01582\tvalidation_0-auc:1.00062\tvalidation_1-error:0.01836\tvalidation_1-auc:0.99940\n",
      "[261]\tvalidation_0-error:0.01580\tvalidation_0-auc:1.00062\tvalidation_1-error:0.01836\tvalidation_1-auc:0.99940\n",
      "[262]\tvalidation_0-error:0.01580\tvalidation_0-auc:1.00063\tvalidation_1-error:0.01836\tvalidation_1-auc:0.99940\n",
      "[263]\tvalidation_0-error:0.01579\tvalidation_0-auc:1.00063\tvalidation_1-error:0.01834\tvalidation_1-auc:0.99940\n",
      "[264]\tvalidation_0-error:0.01577\tvalidation_0-auc:1.00064\tvalidation_1-error:0.01832\tvalidation_1-auc:0.99940\n",
      "[265]\tvalidation_0-error:0.01579\tvalidation_0-auc:1.00064\tvalidation_1-error:0.01833\tvalidation_1-auc:0.99940\n",
      "[266]\tvalidation_0-error:0.01579\tvalidation_0-auc:1.00064\tvalidation_1-error:0.01828\tvalidation_1-auc:0.99940\n",
      "[267]\tvalidation_0-error:0.01576\tvalidation_0-auc:1.00064\tvalidation_1-error:0.01829\tvalidation_1-auc:0.99940\n",
      "[268]\tvalidation_0-error:0.01573\tvalidation_0-auc:1.00064\tvalidation_1-error:0.01828\tvalidation_1-auc:0.99940\n",
      "[269]\tvalidation_0-error:0.01571\tvalidation_0-auc:1.00065\tvalidation_1-error:0.01824\tvalidation_1-auc:0.99940\n",
      "[270]\tvalidation_0-error:0.01570\tvalidation_0-auc:1.00065\tvalidation_1-error:0.01827\tvalidation_1-auc:0.99940\n",
      "[271]\tvalidation_0-error:0.01567\tvalidation_0-auc:1.00066\tvalidation_1-error:0.01824\tvalidation_1-auc:0.99941\n",
      "[272]\tvalidation_0-error:0.01564\tvalidation_0-auc:1.00066\tvalidation_1-error:0.01825\tvalidation_1-auc:0.99941\n",
      "[273]\tvalidation_0-error:0.01564\tvalidation_0-auc:1.00066\tvalidation_1-error:0.01827\tvalidation_1-auc:0.99941\n",
      "[274]\tvalidation_0-error:0.01563\tvalidation_0-auc:1.00067\tvalidation_1-error:0.01826\tvalidation_1-auc:0.99941\n",
      "[275]\tvalidation_0-error:0.01561\tvalidation_0-auc:1.00067\tvalidation_1-error:0.01825\tvalidation_1-auc:0.99941\n",
      "[276]\tvalidation_0-error:0.01560\tvalidation_0-auc:1.00067\tvalidation_1-error:0.01829\tvalidation_1-auc:0.99941\n",
      "[277]\tvalidation_0-error:0.01559\tvalidation_0-auc:1.00067\tvalidation_1-error:0.01827\tvalidation_1-auc:0.99941\n",
      "[278]\tvalidation_0-error:0.01560\tvalidation_0-auc:1.00067\tvalidation_1-error:0.01827\tvalidation_1-auc:0.99942\n",
      "[279]\tvalidation_0-error:0.01559\tvalidation_0-auc:1.00067\tvalidation_1-error:0.01827\tvalidation_1-auc:0.99941\n",
      "[280]\tvalidation_0-error:0.01559\tvalidation_0-auc:1.00067\tvalidation_1-error:0.01827\tvalidation_1-auc:0.99941\n",
      "[281]\tvalidation_0-error:0.01557\tvalidation_0-auc:1.00067\tvalidation_1-error:0.01828\tvalidation_1-auc:0.99941\n",
      "[282]\tvalidation_0-error:0.01556\tvalidation_0-auc:1.00067\tvalidation_1-error:0.01826\tvalidation_1-auc:0.99942\n",
      "[283]\tvalidation_0-error:0.01554\tvalidation_0-auc:1.00068\tvalidation_1-error:0.01827\tvalidation_1-auc:0.99942\n",
      "[284]\tvalidation_0-error:0.01555\tvalidation_0-auc:1.00068\tvalidation_1-error:0.01822\tvalidation_1-auc:0.99942\n",
      "[285]\tvalidation_0-error:0.01554\tvalidation_0-auc:1.00069\tvalidation_1-error:0.01821\tvalidation_1-auc:0.99942\n",
      "[286]\tvalidation_0-error:0.01551\tvalidation_0-auc:1.00068\tvalidation_1-error:0.01821\tvalidation_1-auc:0.99942\n",
      "[287]\tvalidation_0-error:0.01550\tvalidation_0-auc:1.00069\tvalidation_1-error:0.01825\tvalidation_1-auc:0.99942\n",
      "[288]\tvalidation_0-error:0.01548\tvalidation_0-auc:1.00069\tvalidation_1-error:0.01826\tvalidation_1-auc:0.99942\n",
      "[289]\tvalidation_0-error:0.01547\tvalidation_0-auc:1.00069\tvalidation_1-error:0.01824\tvalidation_1-auc:0.99942\n",
      "[290]\tvalidation_0-error:0.01544\tvalidation_0-auc:1.00069\tvalidation_1-error:0.01824\tvalidation_1-auc:0.99943\n",
      "[291]\tvalidation_0-error:0.01542\tvalidation_0-auc:1.00069\tvalidation_1-error:0.01822\tvalidation_1-auc:0.99943\n",
      "[292]\tvalidation_0-error:0.01543\tvalidation_0-auc:1.00070\tvalidation_1-error:0.01821\tvalidation_1-auc:0.99943\n",
      "[293]\tvalidation_0-error:0.01541\tvalidation_0-auc:1.00070\tvalidation_1-error:0.01821\tvalidation_1-auc:0.99943\n",
      "[294]\tvalidation_0-error:0.01540\tvalidation_0-auc:1.00070\tvalidation_1-error:0.01824\tvalidation_1-auc:0.99943\n",
      "[295]\tvalidation_0-error:0.01539\tvalidation_0-auc:1.00070\tvalidation_1-error:0.01823\tvalidation_1-auc:0.99943\n",
      "[296]\tvalidation_0-error:0.01538\tvalidation_0-auc:1.00070\tvalidation_1-error:0.01821\tvalidation_1-auc:0.99943\n",
      "[297]\tvalidation_0-error:0.01535\tvalidation_0-auc:1.00070\tvalidation_1-error:0.01821\tvalidation_1-auc:0.99943\n",
      "[298]\tvalidation_0-error:0.01536\tvalidation_0-auc:1.00070\tvalidation_1-error:0.01824\tvalidation_1-auc:0.99943\n",
      "[299]\tvalidation_0-error:0.01538\tvalidation_0-auc:1.00071\tvalidation_1-error:0.01825\tvalidation_1-auc:0.99943\n",
      "[300]\tvalidation_0-error:0.01538\tvalidation_0-auc:1.00071\tvalidation_1-error:0.01825\tvalidation_1-auc:0.99943\n",
      "[301]\tvalidation_0-error:0.01537\tvalidation_0-auc:1.00071\tvalidation_1-error:0.01825\tvalidation_1-auc:0.99943\n",
      "[302]\tvalidation_0-error:0.01535\tvalidation_0-auc:1.00071\tvalidation_1-error:0.01823\tvalidation_1-auc:0.99943\n",
      "[303]\tvalidation_0-error:0.01535\tvalidation_0-auc:1.00071\tvalidation_1-error:0.01822\tvalidation_1-auc:0.99943\n",
      "[304]\tvalidation_0-error:0.01535\tvalidation_0-auc:1.00071\tvalidation_1-error:0.01824\tvalidation_1-auc:0.99943\n",
      "[305]\tvalidation_0-error:0.01535\tvalidation_0-auc:1.00071\tvalidation_1-error:0.01823\tvalidation_1-auc:0.99944\n",
      "[306]\tvalidation_0-error:0.01534\tvalidation_0-auc:1.00072\tvalidation_1-error:0.01819\tvalidation_1-auc:0.99944\n",
      "[307]\tvalidation_0-error:0.01534\tvalidation_0-auc:1.00072\tvalidation_1-error:0.01820\tvalidation_1-auc:0.99944\n",
      "[308]\tvalidation_0-error:0.01533\tvalidation_0-auc:1.00072\tvalidation_1-error:0.01824\tvalidation_1-auc:0.99944\n",
      "[309]\tvalidation_0-error:0.01530\tvalidation_0-auc:1.00073\tvalidation_1-error:0.01820\tvalidation_1-auc:0.99944\n",
      "[310]\tvalidation_0-error:0.01530\tvalidation_0-auc:1.00073\tvalidation_1-error:0.01816\tvalidation_1-auc:0.99944\n",
      "[311]\tvalidation_0-error:0.01528\tvalidation_0-auc:1.00073\tvalidation_1-error:0.01815\tvalidation_1-auc:0.99944\n",
      "[312]\tvalidation_0-error:0.01525\tvalidation_0-auc:1.00073\tvalidation_1-error:0.01819\tvalidation_1-auc:0.99944\n",
      "[313]\tvalidation_0-error:0.01524\tvalidation_0-auc:1.00073\tvalidation_1-error:0.01815\tvalidation_1-auc:0.99944\n",
      "[314]\tvalidation_0-error:0.01520\tvalidation_0-auc:1.00073\tvalidation_1-error:0.01816\tvalidation_1-auc:0.99945\n",
      "[315]\tvalidation_0-error:0.01518\tvalidation_0-auc:1.00074\tvalidation_1-error:0.01813\tvalidation_1-auc:0.99945\n",
      "[316]\tvalidation_0-error:0.01519\tvalidation_0-auc:1.00073\tvalidation_1-error:0.01813\tvalidation_1-auc:0.99944\n",
      "[317]\tvalidation_0-error:0.01517\tvalidation_0-auc:1.00073\tvalidation_1-error:0.01812\tvalidation_1-auc:0.99944\n",
      "[318]\tvalidation_0-error:0.01517\tvalidation_0-auc:1.00074\tvalidation_1-error:0.01807\tvalidation_1-auc:0.99945\n",
      "[319]\tvalidation_0-error:0.01516\tvalidation_0-auc:1.00074\tvalidation_1-error:0.01810\tvalidation_1-auc:0.99945\n",
      "[320]\tvalidation_0-error:0.01515\tvalidation_0-auc:1.00074\tvalidation_1-error:0.01809\tvalidation_1-auc:0.99945\n",
      "[321]\tvalidation_0-error:0.01516\tvalidation_0-auc:1.00075\tvalidation_1-error:0.01812\tvalidation_1-auc:0.99945\n",
      "[322]\tvalidation_0-error:0.01514\tvalidation_0-auc:1.00075\tvalidation_1-error:0.01813\tvalidation_1-auc:0.99945\n",
      "[323]\tvalidation_0-error:0.01514\tvalidation_0-auc:1.00075\tvalidation_1-error:0.01813\tvalidation_1-auc:0.99945\n",
      "[324]\tvalidation_0-error:0.01511\tvalidation_0-auc:1.00075\tvalidation_1-error:0.01812\tvalidation_1-auc:0.99945\n",
      "[325]\tvalidation_0-error:0.01512\tvalidation_0-auc:1.00075\tvalidation_1-error:0.01816\tvalidation_1-auc:0.99945\n",
      "[326]\tvalidation_0-error:0.01512\tvalidation_0-auc:1.00075\tvalidation_1-error:0.01810\tvalidation_1-auc:0.99946\n",
      "[327]\tvalidation_0-error:0.01509\tvalidation_0-auc:1.00075\tvalidation_1-error:0.01814\tvalidation_1-auc:0.99945\n",
      "[328]\tvalidation_0-error:0.01509\tvalidation_0-auc:1.00076\tvalidation_1-error:0.01814\tvalidation_1-auc:0.99945\n",
      "[329]\tvalidation_0-error:0.01508\tvalidation_0-auc:1.00076\tvalidation_1-error:0.01808\tvalidation_1-auc:0.99946\n",
      "[330]\tvalidation_0-error:0.01509\tvalidation_0-auc:1.00076\tvalidation_1-error:0.01807\tvalidation_1-auc:0.99945\n",
      "[331]\tvalidation_0-error:0.01507\tvalidation_0-auc:1.00076\tvalidation_1-error:0.01809\tvalidation_1-auc:0.99945\n",
      "[332]\tvalidation_0-error:0.01507\tvalidation_0-auc:1.00076\tvalidation_1-error:0.01808\tvalidation_1-auc:0.99945\n",
      "[333]\tvalidation_0-error:0.01505\tvalidation_0-auc:1.00076\tvalidation_1-error:0.01809\tvalidation_1-auc:0.99946\n",
      "[334]\tvalidation_0-error:0.01504\tvalidation_0-auc:1.00076\tvalidation_1-error:0.01808\tvalidation_1-auc:0.99946\n",
      "[335]\tvalidation_0-error:0.01504\tvalidation_0-auc:1.00077\tvalidation_1-error:0.01807\tvalidation_1-auc:0.99946\n",
      "[336]\tvalidation_0-error:0.01500\tvalidation_0-auc:1.00077\tvalidation_1-error:0.01809\tvalidation_1-auc:0.99946\n",
      "[337]\tvalidation_0-error:0.01500\tvalidation_0-auc:1.00077\tvalidation_1-error:0.01808\tvalidation_1-auc:0.99946\n",
      "[338]\tvalidation_0-error:0.01498\tvalidation_0-auc:1.00078\tvalidation_1-error:0.01809\tvalidation_1-auc:0.99946\n",
      "[339]\tvalidation_0-error:0.01498\tvalidation_0-auc:1.00078\tvalidation_1-error:0.01809\tvalidation_1-auc:0.99946\n",
      "[340]\tvalidation_0-error:0.01496\tvalidation_0-auc:1.00078\tvalidation_1-error:0.01807\tvalidation_1-auc:0.99946\n",
      "[341]\tvalidation_0-error:0.01494\tvalidation_0-auc:1.00078\tvalidation_1-error:0.01810\tvalidation_1-auc:0.99946\n",
      "[342]\tvalidation_0-error:0.01491\tvalidation_0-auc:1.00078\tvalidation_1-error:0.01809\tvalidation_1-auc:0.99947\n",
      "[343]\tvalidation_0-error:0.01491\tvalidation_0-auc:1.00079\tvalidation_1-error:0.01806\tvalidation_1-auc:0.99947\n",
      "[344]\tvalidation_0-error:0.01490\tvalidation_0-auc:1.00079\tvalidation_1-error:0.01804\tvalidation_1-auc:0.99947\n",
      "[345]\tvalidation_0-error:0.01486\tvalidation_0-auc:1.00079\tvalidation_1-error:0.01802\tvalidation_1-auc:0.99947\n",
      "[346]\tvalidation_0-error:0.01487\tvalidation_0-auc:1.00079\tvalidation_1-error:0.01802\tvalidation_1-auc:0.99947\n",
      "[347]\tvalidation_0-error:0.01486\tvalidation_0-auc:1.00080\tvalidation_1-error:0.01803\tvalidation_1-auc:0.99948\n",
      "[348]\tvalidation_0-error:0.01485\tvalidation_0-auc:1.00080\tvalidation_1-error:0.01802\tvalidation_1-auc:0.99948\n",
      "[349]\tvalidation_0-error:0.01486\tvalidation_0-auc:1.00080\tvalidation_1-error:0.01803\tvalidation_1-auc:0.99948\n",
      "[350]\tvalidation_0-error:0.01485\tvalidation_0-auc:1.00080\tvalidation_1-error:0.01801\tvalidation_1-auc:0.99948\n",
      "[351]\tvalidation_0-error:0.01486\tvalidation_0-auc:1.00081\tvalidation_1-error:0.01804\tvalidation_1-auc:0.99948\n",
      "[352]\tvalidation_0-error:0.01485\tvalidation_0-auc:1.00081\tvalidation_1-error:0.01801\tvalidation_1-auc:0.99948\n",
      "[353]\tvalidation_0-error:0.01483\tvalidation_0-auc:1.00081\tvalidation_1-error:0.01806\tvalidation_1-auc:0.99948\n",
      "[354]\tvalidation_0-error:0.01484\tvalidation_0-auc:1.00080\tvalidation_1-error:0.01809\tvalidation_1-auc:0.99948\n",
      "[355]\tvalidation_0-error:0.01484\tvalidation_0-auc:1.00080\tvalidation_1-error:0.01812\tvalidation_1-auc:0.99948\n",
      "[356]\tvalidation_0-error:0.01481\tvalidation_0-auc:1.00081\tvalidation_1-error:0.01817\tvalidation_1-auc:0.99948\n",
      "[357]\tvalidation_0-error:0.01479\tvalidation_0-auc:1.00082\tvalidation_1-error:0.01815\tvalidation_1-auc:0.99948\n",
      "[358]\tvalidation_0-error:0.01480\tvalidation_0-auc:1.00082\tvalidation_1-error:0.01812\tvalidation_1-auc:0.99948\n",
      "[359]\tvalidation_0-error:0.01478\tvalidation_0-auc:1.00083\tvalidation_1-error:0.01813\tvalidation_1-auc:0.99948\n",
      "[360]\tvalidation_0-error:0.01478\tvalidation_0-auc:1.00083\tvalidation_1-error:0.01815\tvalidation_1-auc:0.99948\n",
      "[361]\tvalidation_0-error:0.01476\tvalidation_0-auc:1.00083\tvalidation_1-error:0.01809\tvalidation_1-auc:0.99948\n",
      "[362]\tvalidation_0-error:0.01475\tvalidation_0-auc:1.00083\tvalidation_1-error:0.01805\tvalidation_1-auc:0.99948\n",
      "[363]\tvalidation_0-error:0.01475\tvalidation_0-auc:1.00083\tvalidation_1-error:0.01805\tvalidation_1-auc:0.99948\n",
      "[364]\tvalidation_0-error:0.01475\tvalidation_0-auc:1.00083\tvalidation_1-error:0.01805\tvalidation_1-auc:0.99948\n",
      "[365]\tvalidation_0-error:0.01473\tvalidation_0-auc:1.00084\tvalidation_1-error:0.01802\tvalidation_1-auc:0.99948\n",
      "[366]\tvalidation_0-error:0.01472\tvalidation_0-auc:1.00084\tvalidation_1-error:0.01802\tvalidation_1-auc:0.99948\n",
      "[367]\tvalidation_0-error:0.01472\tvalidation_0-auc:1.00084\tvalidation_1-error:0.01804\tvalidation_1-auc:0.99948\n",
      "[368]\tvalidation_0-error:0.01471\tvalidation_0-auc:1.00084\tvalidation_1-error:0.01806\tvalidation_1-auc:0.99948\n",
      "[369]\tvalidation_0-error:0.01470\tvalidation_0-auc:1.00084\tvalidation_1-error:0.01807\tvalidation_1-auc:0.99948\n",
      "[370]\tvalidation_0-error:0.01466\tvalidation_0-auc:1.00084\tvalidation_1-error:0.01807\tvalidation_1-auc:0.99948\n",
      "[371]\tvalidation_0-error:0.01465\tvalidation_0-auc:1.00084\tvalidation_1-error:0.01810\tvalidation_1-auc:0.99948\n",
      "[372]\tvalidation_0-error:0.01466\tvalidation_0-auc:1.00084\tvalidation_1-error:0.01810\tvalidation_1-auc:0.99948\n",
      "[373]\tvalidation_0-error:0.01468\tvalidation_0-auc:1.00085\tvalidation_1-error:0.01812\tvalidation_1-auc:0.99948\n",
      "[374]\tvalidation_0-error:0.01468\tvalidation_0-auc:1.00085\tvalidation_1-error:0.01811\tvalidation_1-auc:0.99948\n",
      "[375]\tvalidation_0-error:0.01467\tvalidation_0-auc:1.00085\tvalidation_1-error:0.01810\tvalidation_1-auc:0.99948\n",
      "[376]\tvalidation_0-error:0.01466\tvalidation_0-auc:1.00085\tvalidation_1-error:0.01810\tvalidation_1-auc:0.99948\n",
      "[377]\tvalidation_0-error:0.01466\tvalidation_0-auc:1.00085\tvalidation_1-error:0.01810\tvalidation_1-auc:0.99948\n",
      "[378]\tvalidation_0-error:0.01466\tvalidation_0-auc:1.00086\tvalidation_1-error:0.01813\tvalidation_1-auc:0.99948\n",
      "[379]\tvalidation_0-error:0.01465\tvalidation_0-auc:1.00086\tvalidation_1-error:0.01809\tvalidation_1-auc:0.99949\n",
      "[380]\tvalidation_0-error:0.01464\tvalidation_0-auc:1.00085\tvalidation_1-error:0.01807\tvalidation_1-auc:0.99949\n",
      "[381]\tvalidation_0-error:0.01465\tvalidation_0-auc:1.00086\tvalidation_1-error:0.01807\tvalidation_1-auc:0.99949\n",
      "[382]\tvalidation_0-error:0.01463\tvalidation_0-auc:1.00086\tvalidation_1-error:0.01809\tvalidation_1-auc:0.99948\n",
      "[383]\tvalidation_0-error:0.01461\tvalidation_0-auc:1.00087\tvalidation_1-error:0.01804\tvalidation_1-auc:0.99949\n",
      "[384]\tvalidation_0-error:0.01460\tvalidation_0-auc:1.00087\tvalidation_1-error:0.01801\tvalidation_1-auc:0.99949\n",
      "[385]\tvalidation_0-error:0.01461\tvalidation_0-auc:1.00088\tvalidation_1-error:0.01799\tvalidation_1-auc:0.99949\n",
      "[386]\tvalidation_0-error:0.01458\tvalidation_0-auc:1.00089\tvalidation_1-error:0.01801\tvalidation_1-auc:0.99949\n",
      "[387]\tvalidation_0-error:0.01458\tvalidation_0-auc:1.00088\tvalidation_1-error:0.01800\tvalidation_1-auc:0.99949\n",
      "[388]\tvalidation_0-error:0.01458\tvalidation_0-auc:1.00089\tvalidation_1-error:0.01796\tvalidation_1-auc:0.99949\n",
      "[389]\tvalidation_0-error:0.01457\tvalidation_0-auc:1.00089\tvalidation_1-error:0.01796\tvalidation_1-auc:0.99949\n",
      "[390]\tvalidation_0-error:0.01455\tvalidation_0-auc:1.00089\tvalidation_1-error:0.01796\tvalidation_1-auc:0.99950\n",
      "[391]\tvalidation_0-error:0.01454\tvalidation_0-auc:1.00089\tvalidation_1-error:0.01792\tvalidation_1-auc:0.99949\n",
      "[392]\tvalidation_0-error:0.01454\tvalidation_0-auc:1.00089\tvalidation_1-error:0.01792\tvalidation_1-auc:0.99949\n",
      "[393]\tvalidation_0-error:0.01453\tvalidation_0-auc:1.00089\tvalidation_1-error:0.01790\tvalidation_1-auc:0.99950\n",
      "[394]\tvalidation_0-error:0.01450\tvalidation_0-auc:1.00090\tvalidation_1-error:0.01787\tvalidation_1-auc:0.99950\n",
      "[395]\tvalidation_0-error:0.01449\tvalidation_0-auc:1.00090\tvalidation_1-error:0.01787\tvalidation_1-auc:0.99950\n",
      "[396]\tvalidation_0-error:0.01447\tvalidation_0-auc:1.00089\tvalidation_1-error:0.01788\tvalidation_1-auc:0.99950\n",
      "[397]\tvalidation_0-error:0.01446\tvalidation_0-auc:1.00090\tvalidation_1-error:0.01784\tvalidation_1-auc:0.99950\n",
      "[398]\tvalidation_0-error:0.01444\tvalidation_0-auc:1.00090\tvalidation_1-error:0.01784\tvalidation_1-auc:0.99950\n",
      "[399]\tvalidation_0-error:0.01441\tvalidation_0-auc:1.00091\tvalidation_1-error:0.01787\tvalidation_1-auc:0.99950\n",
      "[400]\tvalidation_0-error:0.01439\tvalidation_0-auc:1.00091\tvalidation_1-error:0.01787\tvalidation_1-auc:0.99950\n",
      "[401]\tvalidation_0-error:0.01438\tvalidation_0-auc:1.00091\tvalidation_1-error:0.01788\tvalidation_1-auc:0.99950\n",
      "[402]\tvalidation_0-error:0.01439\tvalidation_0-auc:1.00091\tvalidation_1-error:0.01786\tvalidation_1-auc:0.99950\n",
      "[403]\tvalidation_0-error:0.01438\tvalidation_0-auc:1.00092\tvalidation_1-error:0.01784\tvalidation_1-auc:0.99950\n",
      "[404]\tvalidation_0-error:0.01438\tvalidation_0-auc:1.00092\tvalidation_1-error:0.01786\tvalidation_1-auc:0.99950\n",
      "[405]\tvalidation_0-error:0.01435\tvalidation_0-auc:1.00093\tvalidation_1-error:0.01785\tvalidation_1-auc:0.99951\n",
      "[406]\tvalidation_0-error:0.01433\tvalidation_0-auc:1.00092\tvalidation_1-error:0.01783\tvalidation_1-auc:0.99950\n",
      "[407]\tvalidation_0-error:0.01432\tvalidation_0-auc:1.00093\tvalidation_1-error:0.01785\tvalidation_1-auc:0.99951\n",
      "[408]\tvalidation_0-error:0.01433\tvalidation_0-auc:1.00092\tvalidation_1-error:0.01785\tvalidation_1-auc:0.99950\n",
      "[409]\tvalidation_0-error:0.01433\tvalidation_0-auc:1.00093\tvalidation_1-error:0.01789\tvalidation_1-auc:0.99950\n",
      "[410]\tvalidation_0-error:0.01434\tvalidation_0-auc:1.00093\tvalidation_1-error:0.01788\tvalidation_1-auc:0.99951\n",
      "[411]\tvalidation_0-error:0.01432\tvalidation_0-auc:1.00093\tvalidation_1-error:0.01788\tvalidation_1-auc:0.99951\n",
      "[412]\tvalidation_0-error:0.01430\tvalidation_0-auc:1.00093\tvalidation_1-error:0.01788\tvalidation_1-auc:0.99951\n",
      "[413]\tvalidation_0-error:0.01431\tvalidation_0-auc:1.00093\tvalidation_1-error:0.01786\tvalidation_1-auc:0.99951\n",
      "[414]\tvalidation_0-error:0.01430\tvalidation_0-auc:1.00094\tvalidation_1-error:0.01788\tvalidation_1-auc:0.99951\n",
      "[415]\tvalidation_0-error:0.01432\tvalidation_0-auc:1.00094\tvalidation_1-error:0.01786\tvalidation_1-auc:0.99951\n",
      "[416]\tvalidation_0-error:0.01433\tvalidation_0-auc:1.00094\tvalidation_1-error:0.01785\tvalidation_1-auc:0.99951\n",
      "[417]\tvalidation_0-error:0.01431\tvalidation_0-auc:1.00094\tvalidation_1-error:0.01781\tvalidation_1-auc:0.99950\n",
      "[418]\tvalidation_0-error:0.01429\tvalidation_0-auc:1.00094\tvalidation_1-error:0.01777\tvalidation_1-auc:0.99951\n",
      "[419]\tvalidation_0-error:0.01427\tvalidation_0-auc:1.00095\tvalidation_1-error:0.01780\tvalidation_1-auc:0.99951\n",
      "[420]\tvalidation_0-error:0.01426\tvalidation_0-auc:1.00095\tvalidation_1-error:0.01776\tvalidation_1-auc:0.99951\n",
      "[421]\tvalidation_0-error:0.01424\tvalidation_0-auc:1.00096\tvalidation_1-error:0.01779\tvalidation_1-auc:0.99951\n",
      "[422]\tvalidation_0-error:0.01424\tvalidation_0-auc:1.00095\tvalidation_1-error:0.01777\tvalidation_1-auc:0.99951\n",
      "[423]\tvalidation_0-error:0.01423\tvalidation_0-auc:1.00095\tvalidation_1-error:0.01784\tvalidation_1-auc:0.99951\n",
      "[424]\tvalidation_0-error:0.01423\tvalidation_0-auc:1.00096\tvalidation_1-error:0.01782\tvalidation_1-auc:0.99951\n",
      "[425]\tvalidation_0-error:0.01419\tvalidation_0-auc:1.00097\tvalidation_1-error:0.01780\tvalidation_1-auc:0.99951\n",
      "[426]\tvalidation_0-error:0.01421\tvalidation_0-auc:1.00097\tvalidation_1-error:0.01778\tvalidation_1-auc:0.99951\n",
      "[427]\tvalidation_0-error:0.01419\tvalidation_0-auc:1.00096\tvalidation_1-error:0.01777\tvalidation_1-auc:0.99950\n",
      "[428]\tvalidation_0-error:0.01417\tvalidation_0-auc:1.00097\tvalidation_1-error:0.01780\tvalidation_1-auc:0.99951\n",
      "[429]\tvalidation_0-error:0.01416\tvalidation_0-auc:1.00097\tvalidation_1-error:0.01780\tvalidation_1-auc:0.99951\n",
      "[430]\tvalidation_0-error:0.01416\tvalidation_0-auc:1.00097\tvalidation_1-error:0.01779\tvalidation_1-auc:0.99951\n",
      "[431]\tvalidation_0-error:0.01417\tvalidation_0-auc:1.00097\tvalidation_1-error:0.01777\tvalidation_1-auc:0.99951\n",
      "[432]\tvalidation_0-error:0.01416\tvalidation_0-auc:1.00098\tvalidation_1-error:0.01780\tvalidation_1-auc:0.99951\n",
      "[433]\tvalidation_0-error:0.01416\tvalidation_0-auc:1.00098\tvalidation_1-error:0.01777\tvalidation_1-auc:0.99951\n",
      "[434]\tvalidation_0-error:0.01413\tvalidation_0-auc:1.00098\tvalidation_1-error:0.01778\tvalidation_1-auc:0.99951\n",
      "[435]\tvalidation_0-error:0.01412\tvalidation_0-auc:1.00099\tvalidation_1-error:0.01778\tvalidation_1-auc:0.99951\n",
      "[436]\tvalidation_0-error:0.01411\tvalidation_0-auc:1.00099\tvalidation_1-error:0.01780\tvalidation_1-auc:0.99951\n",
      "[437]\tvalidation_0-error:0.01411\tvalidation_0-auc:1.00099\tvalidation_1-error:0.01780\tvalidation_1-auc:0.99951\n",
      "[438]\tvalidation_0-error:0.01411\tvalidation_0-auc:1.00099\tvalidation_1-error:0.01779\tvalidation_1-auc:0.99951\n"
     ]
    },
    {
     "data": {
      "text/plain": [
       "XGBClassifier(alpha=0.00016460780631131285, base_score=0.5, booster='dart',\n",
       "              colsample_bylevel=1, colsample_bynode=1,\n",
       "              colsample_bytree=0.23719621881000702, eta=0.06246382190577308,\n",
       "              gamma=0.0013198987967330343, gpu_id=-1, grow_policy='depthwise',\n",
       "              importance_type='gain', interaction_constraints='',\n",
       "              lambda=5.542183143116679e-07, learning_rate=0.0624638237,\n",
       "              max_delta_step=0, max_depth=9, min_child_weight=3, missing=nan,\n",
       "              monotone_constraints='()', n_estimators=500, n_jobs=-1,\n",
       "              num_parallel_tree=1, random_state=0, reg_alpha=0.000164607802,\n",
       "              reg_lambda=5.54218275e-07, scale_pos_weight=1,\n",
       "              subsample=0.23761009745083714, tree_method='hist',\n",
       "              validate_parameters=1, verbosity=0)"
      ]
     },
     "execution_count": 15,
     "metadata": {},
     "output_type": "execute_result"
    }
   ],
   "source": [
    "classifier.fit(X_train, y_train, eval_set=eval_set, eval_metric=eval_metric, early_stopping_rounds=20)"
   ]
  },
  {
   "cell_type": "code",
   "execution_count": 16,
   "metadata": {},
   "outputs": [
    {
     "data": {
      "image/png": "[encoded data removed]",
      "text/plain": [
       "<Figure size 1080x576 with 1 Axes>"
      ]
     },
     "metadata": {
      "needs_background": "light"
     },
     "output_type": "display_data"
    }
   ],
   "source": [
    "results = classifier.evals_result()\n",
    "epochs = len(results['validation_0']['error'])\n",
    "x_axis = range(0, epochs)\n",
    "fig, ax = plt.subplots(figsize=(15,8))\n",
    "ax.plot(x_axis, results['validation_0']['auc'], label='Train')\n",
    "ax.plot(x_axis, results['validation_1']['auc'], label='Test')\n",
    "ax.legend()\n",
    "plt.ylabel('AUC')\n",
    "plt.title('XGBoost AUC')\n",
    "plt.show()"
   ]
  },
  {
   "cell_type": "code",
   "execution_count": 17,
   "metadata": {},
   "outputs": [
    {
     "data": {
      "image/png": "[encoded data removed]",
      "text/plain": [
       "<Figure size 1080x576 with 1 Axes>"
      ]
     },
     "metadata": {
      "needs_background": "light"
     },
     "output_type": "display_data"
    }
   ],
   "source": [
    "results = classifier.evals_result()\n",
    "epochs = len(results['validation_0']['error'])\n",
    "x_axis = range(0, epochs)\n",
    "fig, ax = plt.subplots(figsize=(15,8))\n",
    "ax.plot(x_axis, results['validation_0']['error'], label='Train')\n",
    "ax.plot(x_axis, results['validation_1']['error'], label='Test')\n",
    "ax.legend()\n",
    "plt.ylabel('error')\n",
    "plt.title('XGBoost error')\n",
    "plt.show()"
   ]
  },
  {
   "cell_type": "markdown",
   "metadata": {},
   "source": [
    "## Model testing and training/testing data validation"
   ]
  },
  {
   "cell_type": "markdown",
   "metadata": {},
   "source": [
    "### Get model metrics"
   ]
  },
  {
   "cell_type": "code",
   "execution_count": 18,
   "metadata": {},
   "outputs": [
    {
     "data": {
      "text/plain": [
       "0.982"
      ]
     },
     "execution_count": 18,
     "metadata": {},
     "output_type": "execute_result"
    }
   ],
   "source": [
    "score = classifier.score(X_test, y_test)\n",
    "score = round(score, 3)\n",
    "score"
   ]
  },
  {
   "cell_type": "code",
   "execution_count": 19,
   "metadata": {},
   "outputs": [],
   "source": [
    "train_predictions = classifier.predict(X_train)\n",
    "test_predictions = classifier.predict(X_test)\n",
    "prediction_probs = classifier.predict_proba(X_test)"
   ]
  },
  {
   "cell_type": "code",
   "execution_count": 20,
   "metadata": {},
   "outputs": [],
   "source": [
    "test_predictions = test_predictions.astype(np.int16)\n",
    "y_test_int = y_test.astype(np.int16)"
   ]
  },
  {
   "cell_type": "code",
   "execution_count": 21,
   "metadata": {},
   "outputs": [
    {
     "name": "stdout",
     "output_type": "stream",
     "text": [
      "Test Performance\n",
      "-------------------------------------------------------\n",
      "              precision    recall  f1-score   support\n",
      "\n",
      "           0       0.98      0.99      0.98    114457\n",
      "           1       0.98      0.98      0.98     86816\n",
      "\n",
      "    accuracy                           0.98    201273\n",
      "   macro avg       0.98      0.98      0.98    201273\n",
      "weighted avg       0.98      0.98      0.98    201273\n",
      "\n",
      "Test Recall\n",
      "-------------------------------------------------------\n",
      "0.9834587863581451\n",
      "Confusion Matrix\n",
      "-------------------------------------------------------\n",
      "TP:     84664 FN:      2152\n",
      "FP:      1424 TN:    113033\n"
     ]
    }
   ],
   "source": [
    "print('Test Performance')\n",
    "print('-------------------------------------------------------')\n",
    "print(classification_report(y_test, test_predictions))\n",
    "# From docs: tn, fp, fn, tp = confusion_matrix(y_true, y_pred).ravel()\n",
    "tn, fp, fn, tp = confusion_matrix(y_test_int, test_predictions).ravel()\n",
    "recall = (tp / (tp + fp))\n",
    "print('Test Recall')\n",
    "print('-------------------------------------------------------')\n",
    "print(recall)\n",
    "print('Confusion Matrix')\n",
    "print('-------------------------------------------------------')\n",
    "print('TP: {:9} FN: {:9}'.format(tp, fn))\n",
    "print('FP: {:9} TN: {:9}'.format(fp, tn))"
   ]
  },
  {
   "cell_type": "code",
   "execution_count": 22,
   "metadata": {},
   "outputs": [
    {
     "data": {
      "image/png": "[encoded data removed]",
      "text/plain": [
       "<Figure size 432x288 with 1 Axes>"
      ]
     },
     "metadata": {
      "needs_background": "light"
     },
     "output_type": "display_data"
    }
   ],
   "source": [
    "probs = classifier.predict_proba(X_test)\n",
    "preds = probs[:, 1]\n",
    "fpr, tpr, threshold = roc_curve(y_test, preds)\n",
    "roc_auc = auc(fpr, tpr)\n",
    "\n",
    "plt.title('Receiver Operating Characteristic')\n",
    "plt.plot(fpr, tpr, 'red', label = 'ROC-AUC score = %0.2f' % roc_auc)\n",
    "plt.legend(loc = 'lower right')\n",
    "plt.plot([0, 1], [0, 1],'b--')\n",
    "plt.xlim([0, 1])\n",
    "plt.ylim([0, 1])\n",
    "plt.ylabel('True Positive Rate')\n",
    "plt.xlabel('False Positive Rate')\n",
    "plt.show()"
   ]
  },
  {
   "cell_type": "markdown",
   "metadata": {},
   "source": [
    "## Permutation importance"
   ]
  },
  {
   "cell_type": "code",
   "execution_count": 24,
   "metadata": {},
   "outputs": [],
   "source": [
    "permutation_importance_results = permutation_importance(classifier,\n",
    "                                                        X=X_test,\n",
    "                                                        y=y_test,\n",
    "                                                        n_repeats=10,\n",
    "                                                        random_state=42)"
   ]
  },
  {
   "cell_type": "code",
   "execution_count": 25,
   "metadata": {},
   "outputs": [
    {
     "data": {
      "image/png": "[encoded data removed]",
      "text/plain": [
       "<Figure size 576x576 with 1 Axes>"
      ]
     },
     "metadata": {
      "needs_background": "light"
     },
     "output_type": "display_data"
    }
   ],
   "source": [
    "png_save_path = 'mw_{}_{}_{}_{}_{}_permutation_importance.png'.format(\n",
    "    TILE,\n",
    "    score,\n",
    "    hyperparameters['n_estimators'],\n",
    "    MODEL,\n",
    "    datetime.datetime.now().strftime('%Y_%m_%d_%H_%M'))\n",
    "\n",
    "png_save_path = os.path.join(FIGURE_OUTPUT_DIR, png_save_path)\n",
    "\n",
    "sorted_idx = permutation_importance_results.importances_mean.argsort()\n",
    "plt.figure(figsize=(8, 8))\n",
    "plt.barh(X_test.columns[sorted_idx], permutation_importance_results.importances_mean[sorted_idx])\n",
    "plt.xlabel(\"Permutation Importance\")\n",
    "plt.savefig(png_save_path)"
   ]
  },
  {
   "cell_type": "code",
   "execution_count": null,
   "metadata": {},
   "outputs": [],
   "source": [
    "X_test.columns[sorted_idx]"
   ]
  },
  {
   "cell_type": "markdown",
   "metadata": {},
   "source": [
    "## Save the model for future use"
   ]
  },
  {
   "cell_type": "code",
   "execution_count": 23,
   "metadata": {},
   "outputs": [
    {
     "name": "stdout",
     "output_type": "stream",
     "text": [
      "Saving model to: /adapt/nobackup/projects/ilab/scratch/cssprad1/MODIS_water/models/mw_Golden_0.982_500_xgboost_4.5.0_tuned_gpu.sav\n",
      "XGBClassifier(alpha=0.00016460780631131285, base_score=0.5, booster='dart',\n",
      "              colsample_bylevel=1, colsample_bynode=1,\n",
      "              colsample_bytree=0.23719621881000702, eta=0.06246382190577308,\n",
      "              gamma=0.0013198987967330343, gpu_id=-1, grow_policy='depthwise',\n",
      "              importance_type='gain', interaction_constraints='',\n",
      "              lambda=5.542183143116679e-07, learning_rate=0.0624638237,\n",
      "              max_delta_step=0, max_depth=9, min_child_weight=3, missing=nan,\n",
      "              monotone_constraints='()', n_estimators=500, n_jobs=-1,\n",
      "              num_parallel_tree=1, random_state=0, reg_alpha=0.000164607802,\n",
      "              reg_lambda=5.54218275e-07, scale_pos_weight=1,\n",
      "              subsample=0.23761009745083714, tree_method='hist',\n",
      "              validate_parameters=1, verbosity=0)\n"
     ]
    },
    {
     "data": {
      "text/plain": [
       "['/adapt/nobackup/projects/ilab/scratch/cssprad1/MODIS_water/models/mw_Golden_0.982_500_xgboost_4.5.0_tuned_gpu.sav']"
      ]
     },
     "execution_count": 23,
     "metadata": {},
     "output_type": "execute_result"
    }
   ],
   "source": [
    "model_save_path = 'mw_{}_{}_{}_{}_4.5.0_tuned_{}.sav'.format(TILE,\n",
    "                                                      score,\n",
    "                                                      hyperparameters['n_estimators'],\n",
    "                                                      MODEL,\n",
    "                                                      'gpu' if GPU else 'cpu',\n",
    "                                                      datetime.datetime.now().strftime('%Y_%m_%d_%H_%M'))\n",
    "\n",
    "model_save_path = os.path.join(MODEL_OUTPUT_DIR, model_save_path)\n",
    "print('Saving model to: {}'.format(model_save_path))\n",
    "print(classifier)\n",
    "joblib.dump(classifier, model_save_path, compress=3)"
   ]
  },
  {
   "cell_type": "markdown",
   "metadata": {},
   "source": [
    "# Testing: Raster testing"
   ]
  },
  {
   "cell_type": "code",
   "execution_count": 60,
   "metadata": {},
   "outputs": [],
   "source": [
    "TILE = 'h11v10'"
   ]
  },
  {
   "cell_type": "code",
   "execution_count": 61,
   "metadata": {},
   "outputs": [],
   "source": [
    "DAY = 201\n",
    "YEAR = 2006\n",
    "PATH = os.path.join(test_data_basepath, '{}/'.format(TILE))"
   ]
  },
  {
   "cell_type": "code",
   "execution_count": 62,
   "metadata": {},
   "outputs": [
    {
     "data": {
      "text/plain": [
       "['/adapt/nobackup/projects/ilab/data/MODIS/MODIS_WATER_ML/test_data/h11v10/MOD09GQ.A2006201.h11v10.061.2020266164349-sur_refl_b01_1.tif',\n",
       " '/adapt/nobackup/projects/ilab/data/MODIS/MODIS_WATER_ML/test_data/h11v10/MOD09GQ.A2006201.h11v10.061.2020266164349-sur_refl_b02_1.tif',\n",
       " '/adapt/nobackup/projects/ilab/data/MODIS/MODIS_WATER_ML/test_data/h11v10/MOD09GA.A2006201.h11v10.061.2020266164349-sur_refl_b03_1.tif',\n",
       " '/adapt/nobackup/projects/ilab/data/MODIS/MODIS_WATER_ML/test_data/h11v10/MOD09GA.A2006201.h11v10.061.2020266164349-sur_refl_b04_1.tif',\n",
       " '/adapt/nobackup/projects/ilab/data/MODIS/MODIS_WATER_ML/test_data/h11v10/MOD09GA.A2006201.h11v10.061.2020266164349-sur_refl_b05_1.tif',\n",
       " '/adapt/nobackup/projects/ilab/data/MODIS/MODIS_WATER_ML/test_data/h11v10/MOD09GA.A2006201.h11v10.061.2020266164349-sur_refl_b06_1.tif',\n",
       " '/adapt/nobackup/projects/ilab/data/MODIS/MODIS_WATER_ML/test_data/h11v10/MOD09GA.A2006201.h11v10.061.2020266164349-sur_refl_b07_1.tif']"
      ]
     },
     "execution_count": 62,
     "metadata": {},
     "output_type": "execute_result"
    }
   ],
   "source": [
    "vars_list_gq = [fn for fn in glob.glob(os.path.join(PATH, '*A{}{:03}*.tif'.format(YEAR, DAY)))\n",
    "            if 'sur_refl' in fn and 'GQ' in fn]\n",
    "vars_list_gq.sort()\n",
    "\n",
    "vars_list_ga = [fn for fn in glob.glob(os.path.join(PATH, '*A{}{:03}*.tif'.format(YEAR, DAY)))\n",
    "            if 'sur_refl' in fn and 'GQ' not in fn]\n",
    "vars_list_ga.sort()\n",
    "\n",
    "vars_list = vars_list_gq\n",
    "vars_list.extend(vars_list_ga)\n",
    "\n",
    "vars_list"
   ]
  },
  {
   "cell_type": "markdown",
   "metadata": {},
   "source": [
    "## Get dimensions of inputs"
   ]
  },
  {
   "cell_type": "code",
   "execution_count": 63,
   "metadata": {},
   "outputs": [
    {
     "data": {
      "text/plain": [
       "(4800, 4800)"
      ]
     },
     "execution_count": 63,
     "metadata": {},
     "output_type": "execute_result"
    }
   ],
   "source": [
    "vrt_opts = gdal.BuildVRTOptions(separate=True)\n",
    "dd = gdal.BuildVRT('tmp.vrt', vars_list, options=vrt_opts)\n",
    "nrows, ncols = dd.RasterYSize, dd.RasterXSize\n",
    "dd = None\n",
    "if os.path.exists('tmp.vrt'):\n",
    "    os.remove('tmp.vrt') \n",
    "nrows, ncols"
   ]
  },
  {
   "cell_type": "markdown",
   "metadata": {},
   "source": [
    "### Read in data \n",
    "We don't need to slice because we have more than enough GPU memory."
   ]
  },
  {
   "cell_type": "code",
   "execution_count": 64,
   "metadata": {},
   "outputs": [],
   "source": [
    "def readRasterToArray(vars_list):\n",
    "    vrt_options = gdal.BuildVRTOptions(separate=True)\n",
    "    dd = gdal.BuildVRT('tmp.vrt', vars_list, options=vrt_options)\n",
    "    nrows, ncols = dd.RasterYSize, dd.RasterXSize\n",
    "    newshp = (ncols*nrows, len(index_names.keys()))\n",
    "    img = np.empty(newshp, dtype=np.int16)\n",
    "    for b in range(len(vars_list)):\n",
    "        img[:, b] = dd.GetRasterBand(b+1).ReadAsArray().astype(np.int16).ravel()\n",
    "    dd = None\n",
    "    img[:, len(vars_list)] = ((img[:, 1] - img[:, 0]) / (img[:, 1] + img[:, 0])) * 10000\n",
    "    img[:, len(vars_list)+1] = ((img[:, 1] - img[:, 5]) / (img[:, 1] + img[:, 5])) * 10000\n",
    "    img[:, len(vars_list)+2] = ((img[:, 1] - img[:, 6]) / (img[:, 1] + img[:, 6])) * 10000\n",
    "    for band, combo in band_combo.items():\n",
    "        print('{}({}) = {}({}) x {}({})'.format(band, \n",
    "                                                index_names[band], \n",
    "                                                combo[0], \n",
    "                                                index_names[combo[0]], \n",
    "                                                combo[1], \n",
    "                                                index_names[combo[1]]))\n",
    "        b0 = img[:, index_names[combo[0]]]\n",
    "        b1 = img[:, index_names[combo[1]]]\n",
    "        img[:, index_names[band]] = ((b0 - b1) / (b0 + b1)) * 10000\n",
    "    \n",
    "    if os.path.exists('tmp.vrt'):\n",
    "        os.remove('tmp.vrt')\n",
    "    return img"
   ]
  },
  {
   "cell_type": "code",
   "execution_count": 65,
   "metadata": {},
   "outputs": [
    {
     "name": "stdout",
     "output_type": "stream",
     "text": [
      "b01_sur_refl_b02_1(10) = sur_refl_b01_1(0) x sur_refl_b02_1(1)\n",
      "b01_sur_refl_b03_1(11) = sur_refl_b01_1(0) x sur_refl_b03_1(2)\n",
      "b01_sur_refl_b04_1(12) = sur_refl_b01_1(0) x sur_refl_b04_1(3)\n",
      "b01_sur_refl_b06_1(13) = sur_refl_b01_1(0) x sur_refl_b06_1(5)\n",
      "b01_sur_refl_b07_1(14) = sur_refl_b01_1(0) x sur_refl_b07_1(6)\n",
      "b01_ndvi(15) = sur_refl_b01_1(0) x ndvi(7)\n",
      "b01_ndwi1(16) = sur_refl_b01_1(0) x ndwi1(8)\n",
      "b01_ndwi2(17) = sur_refl_b01_1(0) x ndwi2(9)\n",
      "b02_sur_refl_b01_1(18) = sur_refl_b02_1(1) x sur_refl_b01_1(0)\n",
      "b02_sur_refl_b03_1(19) = sur_refl_b02_1(1) x sur_refl_b03_1(2)\n",
      "b02_sur_refl_b04_1(20) = sur_refl_b02_1(1) x sur_refl_b04_1(3)\n",
      "b02_sur_refl_b06_1(21) = sur_refl_b02_1(1) x sur_refl_b06_1(5)\n",
      "b02_sur_refl_b07_1(22) = sur_refl_b02_1(1) x sur_refl_b07_1(6)\n",
      "b02_ndvi(23) = sur_refl_b02_1(1) x ndvi(7)\n",
      "b02_ndwi1(24) = sur_refl_b02_1(1) x ndwi1(8)\n",
      "b02_ndwi2(25) = sur_refl_b02_1(1) x ndwi2(9)\n",
      "b03_sur_refl_b01_1(26) = sur_refl_b03_1(2) x sur_refl_b01_1(0)\n",
      "b03_sur_refl_b02_1(27) = sur_refl_b03_1(2) x sur_refl_b02_1(1)\n",
      "b03_sur_refl_b04_1(28) = sur_refl_b03_1(2) x sur_refl_b04_1(3)\n",
      "b03_sur_refl_b06_1(29) = sur_refl_b03_1(2) x sur_refl_b06_1(5)\n",
      "b03_sur_refl_b07_1(30) = sur_refl_b03_1(2) x sur_refl_b07_1(6)\n",
      "b03_ndvi(31) = sur_refl_b03_1(2) x ndvi(7)\n",
      "b03_ndwi1(32) = sur_refl_b03_1(2) x ndwi1(8)\n",
      "b03_ndwi2(33) = sur_refl_b03_1(2) x ndwi2(9)\n",
      "b04_sur_refl_b01_1(34) = sur_refl_b04_1(3) x sur_refl_b01_1(0)\n",
      "b04_sur_refl_b02_1(35) = sur_refl_b04_1(3) x sur_refl_b02_1(1)\n",
      "b04_sur_refl_b03_1(36) = sur_refl_b04_1(3) x sur_refl_b03_1(2)\n",
      "b04_sur_refl_b06_1(37) = sur_refl_b04_1(3) x sur_refl_b06_1(5)\n",
      "b04_sur_refl_b07_1(38) = sur_refl_b04_1(3) x sur_refl_b07_1(6)\n",
      "b04_ndvi(39) = sur_refl_b04_1(3) x ndvi(7)\n",
      "b04_ndwi1(40) = sur_refl_b04_1(3) x ndwi1(8)\n",
      "b04_ndwi2(41) = sur_refl_b04_1(3) x ndwi2(9)\n",
      "b06_sur_refl_b01_1(42) = sur_refl_b06_1(5) x sur_refl_b01_1(0)\n",
      "b06_sur_refl_b02_1(43) = sur_refl_b06_1(5) x sur_refl_b02_1(1)\n",
      "b06_sur_refl_b03_1(44) = sur_refl_b06_1(5) x sur_refl_b03_1(2)\n",
      "b06_sur_refl_b04_1(45) = sur_refl_b06_1(5) x sur_refl_b04_1(3)\n",
      "b06_sur_refl_b07_1(46) = sur_refl_b06_1(5) x sur_refl_b07_1(6)\n",
      "b06_ndvi(47) = sur_refl_b06_1(5) x ndvi(7)\n",
      "b06_ndwi1(48) = sur_refl_b06_1(5) x ndwi1(8)\n",
      "b06_ndwi2(49) = sur_refl_b06_1(5) x ndwi2(9)\n",
      "b07_sur_refl_b01_1(50) = sur_refl_b07_1(6) x sur_refl_b01_1(0)\n",
      "b07_sur_refl_b02_1(51) = sur_refl_b07_1(6) x sur_refl_b02_1(1)\n",
      "b07_sur_refl_b03_1(52) = sur_refl_b07_1(6) x sur_refl_b03_1(2)\n",
      "b07_sur_refl_b04_1(53) = sur_refl_b07_1(6) x sur_refl_b04_1(3)\n",
      "b07_sur_refl_b06_1(54) = sur_refl_b07_1(6) x sur_refl_b06_1(5)\n",
      "b07_ndvi(55) = sur_refl_b07_1(6) x ndvi(7)\n",
      "b07_ndwi1(56) = sur_refl_b07_1(6) x ndwi1(8)\n",
      "b07_ndwi2(57) = sur_refl_b07_1(6) x ndwi2(9)\n",
      "ndvi_sur_refl_b01_1(58) = ndvi(7) x sur_refl_b01_1(0)\n",
      "ndvi_sur_refl_b02_1(59) = ndvi(7) x sur_refl_b02_1(1)\n",
      "ndvi_sur_refl_b03_1(60) = ndvi(7) x sur_refl_b03_1(2)\n",
      "ndvi_sur_refl_b04_1(61) = ndvi(7) x sur_refl_b04_1(3)\n",
      "ndvi_sur_refl_b06_1(62) = ndvi(7) x sur_refl_b06_1(5)\n",
      "ndvi_sur_refl_b07_1(63) = ndvi(7) x sur_refl_b07_1(6)\n",
      "ndvi_ndwi1(64) = ndvi(7) x ndwi1(8)\n",
      "ndvi_ndwi2(65) = ndvi(7) x ndwi2(9)\n",
      "ndwi1_sur_refl_b01_1(66) = ndwi1(8) x sur_refl_b01_1(0)\n",
      "ndwi1_sur_refl_b02_1(67) = ndwi1(8) x sur_refl_b02_1(1)\n",
      "ndwi1_sur_refl_b03_1(68) = ndwi1(8) x sur_refl_b03_1(2)\n",
      "ndwi1_sur_refl_b04_1(69) = ndwi1(8) x sur_refl_b04_1(3)\n",
      "ndwi1_sur_refl_b06_1(70) = ndwi1(8) x sur_refl_b06_1(5)\n",
      "ndwi1_sur_refl_b07_1(71) = ndwi1(8) x sur_refl_b07_1(6)\n",
      "ndwi1_ndvi(72) = ndwi1(8) x ndvi(7)\n",
      "ndwi1_ndwi2(73) = ndwi1(8) x ndwi2(9)\n",
      "ndwi2_sur_refl_b01_1(74) = ndwi2(9) x sur_refl_b01_1(0)\n",
      "ndwi2_sur_refl_b02_1(75) = ndwi2(9) x sur_refl_b02_1(1)\n",
      "ndwi2_sur_refl_b03_1(76) = ndwi2(9) x sur_refl_b03_1(2)\n",
      "ndwi2_sur_refl_b04_1(77) = ndwi2(9) x sur_refl_b04_1(3)\n",
      "ndwi2_sur_refl_b06_1(78) = ndwi2(9) x sur_refl_b06_1(5)\n",
      "ndwi2_sur_refl_b07_1(79) = ndwi2(9) x sur_refl_b07_1(6)\n",
      "ndwi2_ndvi(80) = ndwi2(9) x ndvi(7)\n",
      "ndwi2_ndwi1(81) = ndwi2(9) x ndwi1(8)\n",
      "Raster as ndarray\n",
      "[[  282  2985   173 ...  8455  -979  4132]\n",
      " [  289  3045   173 ...  8466  -936  4033]\n",
      " [  275  3198   180 ...  8431  -991  3868]\n",
      " ...\n",
      " [  317  1559   144 ...  7572 -2019  7732]\n",
      " [  252  1447   126 ...  8135 -1824  7266]\n",
      " [  252  1447   126 ...  8135 -1824  7266]]\n",
      "3778.56 MB size\n"
     ]
    }
   ],
   "source": [
    "im = readRasterToArray(vars_list)\n",
    "print('Raster as ndarray')\n",
    "print(im)\n",
    "print('{} MB size'.format((im.size * im.itemsize) / 1000000))"
   ]
  },
  {
   "cell_type": "code",
   "execution_count": 66,
   "metadata": {},
   "outputs": [],
   "source": [
    "def predictRaster(img_chunk, colsToDrop=None):\n",
    "    \"\"\"\n",
    "    Function given a raster in the form of a nxn matrix, will\n",
    "    convert the matrix to a GPU/CPU-bound data frame then perform \n",
    "    predictions given the loaded model.\n",
    "    \n",
    "    Return the prediction matrix, the prediction probabilities\n",
    "    for each and the dataframe converted to host.\n",
    "    \"\"\"\n",
    "    df = pd.DataFrame(img_chunk, columns=index_names.keys(), dtype=np.int16)\n",
    "    df = df.drop(columns=colsToDrop) if colsToDrop else df\n",
    "    print('Making predictions from raster')\n",
    "    predictions = classifier.predict(df).astype(np.int16)\n",
    "    predictionsProbs = classifier.predict_proba(df).astype(np.float32)\n",
    "    return predictions, predictionsProbs, df"
   ]
  },
  {
   "cell_type": "code",
   "execution_count": null,
   "metadata": {},
   "outputs": [
    {
     "name": "stdout",
     "output_type": "stream",
     "text": [
      "Making predictions from raster\n"
     ]
    }
   ],
   "source": [
    "predictedRaster, predictedProbaRaster, df = predictRaster(im, colsToDrop=colsToDrop)"
   ]
  },
  {
   "cell_type": "code",
   "execution_count": null,
   "metadata": {},
   "outputs": [],
   "source": [
    "shp = (4800, 4800)\n",
    "left = list()\n",
    "right = list()\n",
    "for i, subarr in enumerate(predictedProbaRaster):\n",
    "    left.append(subarr[0])\n",
    "    right.append(subarr[1])\n",
    "leftArr = np.asarray(left)\n",
    "rightArr = np.asarray(right)\n",
    "probaLand = leftArr.reshape(shp)\n",
    "probaWater = rightArr.reshape(shp)"
   ]
  },
  {
   "cell_type": "markdown",
   "metadata": {},
   "source": [
    "## Inputreshapet raster: description and histogram"
   ]
  },
  {
   "cell_type": "code",
   "execution_count": null,
   "metadata": {},
   "outputs": [],
   "source": [
    "df.describe().T"
   ]
  },
  {
   "cell_type": "markdown",
   "metadata": {},
   "source": [
    "#### Reshape the unravelled matrix back to the 4800x4800 raster shape"
   ]
  },
  {
   "cell_type": "code",
   "execution_count": null,
   "metadata": {},
   "outputs": [],
   "source": [
    "matrix = np.asarray(predictedRaster)\n",
    "reshp = matrix.reshape(shp)\n",
    "reshp.shape"
   ]
  },
  {
   "cell_type": "markdown",
   "metadata": {},
   "source": [
    "### Import the QA Mask and the Water Mask for the h09v05 TILE"
   ]
  },
  {
   "cell_type": "code",
   "execution_count": null,
   "metadata": {},
   "outputs": [],
   "source": [
    "qa_list = [fn for fn in glob.glob(os.path.join(qaMaskPath, '{}/*A{}{:03}.{}*.tif'.format(TILE, YEAR, DAY, TILE)))]\n",
    "try:\n",
    "    qa_mask = qa_list[0]\n",
    "    print(qa_mask)\n",
    "    ds = gdal.Open(qa_mask, gdal.GA_ReadOnly)\n",
    "    qaMaskMatrix = ds.GetRasterBand(1).ReadAsArray().astype(np.int16)\n",
    "except Exception:\n",
    "    path = os.path.join(qaMaskPath, '{}/*A{}{:03}.{}*.tif'.format(TILE, YEAR, DAY, TILE))\n",
    "    print('Could not find QA mask at {}'.format(path))\n",
    "    qaMaskMatrix = np.zeros((4800, 4800))"
   ]
  },
  {
   "cell_type": "code",
   "execution_count": null,
   "metadata": {},
   "outputs": [],
   "source": [
    "water_list = [fn for fn in glob.glob(os.path.join(waterMaskPath, '{}'.format(YEAR), '*{}*{}_v5.tif'.format(TILE, YEAR)))]\n",
    "print(os.path.join(waterMaskPath, '{}'.format(YEAR), '*{}*.tif'.format(TILE)))\n",
    "water_mask_path = water_list[0]\n",
    "print(water_mask_path)\n",
    "water_mask = gdal.Open(water_mask_path, gdal.GA_ReadOnly)\n",
    "waterMaskMatrix = water_mask.GetRasterBand(1).ReadAsArray().astype(np.int16)\n",
    "waterMask = None"
   ]
  },
  {
   "cell_type": "code",
   "execution_count": null,
   "metadata": {},
   "outputs": [],
   "source": [
    "waterMaskMatrix"
   ]
  },
  {
   "cell_type": "markdown",
   "metadata": {},
   "source": [
    "### Mask out results if QA Mask says pixel is \"bad\"\n",
    "Mask out water mask if QA Mask says pixel is \"bad\""
   ]
  },
  {
   "cell_type": "code",
   "execution_count": null,
   "metadata": {},
   "outputs": [],
   "source": [
    "maskedResult = np.where(qaMaskMatrix == 0, reshp, -9999)\n",
    "maskedResultProba = np.where(qaMaskMatrix == 0, probaWater, -9999)\n",
    "waterMasked = np.where(qaMaskMatrix == 0, waterMaskMatrix, -9999)\n",
    "waterMaskRavel = waterMasked.ravel()\n",
    "imWater = (waterMaskRavel == 1)"
   ]
  },
  {
   "cell_type": "markdown",
   "metadata": {},
   "source": [
    "# Generating stats for predicted and truth"
   ]
  },
  {
   "cell_type": "markdown",
   "metadata": {},
   "source": [
    "## Metrics on test raster"
   ]
  },
  {
   "cell_type": "code",
   "execution_count": null,
   "metadata": {},
   "outputs": [],
   "source": [
    "tp = np.where((waterMasked == 1) & (maskedResult == 1), 1, 0)\n",
    "tn = np.where((waterMasked == 0) & (maskedResult == 0), 1, 0)\n",
    "fp = np.where((waterMasked == 0) & (maskedResult == 1), 1, 0)\n",
    "fn = np.where((waterMasked == 1) & (maskedResult == 0), 1, 0)\n",
    "total = np.count_nonzero(waterMasked == 1) + np.count_nonzero(waterMasked == 0)\n",
    "truePositives = np.count_nonzero(tp == 1)\n",
    "trueNegatives = np.count_nonzero(tn == 1)\n",
    "falsePositives = np.count_nonzero(fp == 1)\n",
    "falseNegatives = np.count_nonzero(fn == 1)\n",
    "accuracy = (truePositives + trueNegatives) / (truePositives + trueNegatives + falsePositives + falseNegatives)\n",
    "jians = truePositives / (truePositives + trueNegatives)\n",
    "pc = truePositives / (truePositives + falsePositives)\n",
    "rc = truePositives / (truePositives + falseNegatives)\n",
    "f1 = truePositives / (truePositives + (0.5*(falsePositives + falseNegatives)))"
   ]
  },
  {
   "cell_type": "markdown",
   "metadata": {},
   "source": [
    "### Count num of occurences for each class with the masked predicted result"
   ]
  },
  {
   "cell_type": "code",
   "execution_count": null,
   "metadata": {},
   "outputs": [],
   "source": [
    "countNoData = np.count_nonzero(maskedResult == -9999)\n",
    "countLand = np.count_nonzero(maskedResult == 0)\n",
    "countWater = np.count_nonzero(maskedResult == 1)\n",
    "print('Predicted\\n Nodata occurences: {}\\n Land occurance: {}\\n Water occurances: {}'.format(countNoData, countLand, countWater))"
   ]
  },
  {
   "cell_type": "markdown",
   "metadata": {},
   "source": [
    "### Count num of occurences for each class with the water mask"
   ]
  },
  {
   "cell_type": "code",
   "execution_count": null,
   "metadata": {},
   "outputs": [],
   "source": [
    "countNoDataT = np.count_nonzero(waterMasked == -9999)\n",
    "countLandT = np.count_nonzero(waterMasked == 0)\n",
    "countWaterT = np.count_nonzero(waterMasked == 1)\n",
    "print('Truth Vals\\n Nodata occurences: {}\\n Land occurance: {}\\n Water occurances: {}'.format(countNoDataT, countLandT, countWaterT))"
   ]
  },
  {
   "cell_type": "markdown",
   "metadata": {},
   "source": [
    "### Model metrics on raster data"
   ]
  },
  {
   "cell_type": "code",
   "execution_count": null,
   "metadata": {},
   "outputs": [],
   "source": [
    "print('Metrics of Accuracy for Raster Test Data')\n",
    "print('True Positives:  {}'.format(truePositives))\n",
    "print('True Negatives:  {}'.format(trueNegatives))\n",
    "print('False Positives: {}'.format(falsePositives))\n",
    "print('False Negatives: {}'.format(falseNegatives))\n",
    "print('Total \"good\" data: {}'.format(total))\n",
    "print('Accuracy*: {}'.format(accuracy))\n",
    "print('Precision: {}'.format(pc))\n",
    "print('Recall: {}'.format(rc))\n",
    "print('f1: {}'.format(f1))"
   ]
  },
  {
   "cell_type": "markdown",
   "metadata": {},
   "source": [
    "## Output predicted raster to GeoTiff"
   ]
  },
  {
   "cell_type": "code",
   "execution_count": null,
   "metadata": {},
   "outputs": [],
   "source": [
    "outPath = os.path.join(RASTER_OUTPUT_DIR, '{}_{}_{}_predicted_{}.tif'.format(YEAR, DAY, TILE, MODEL))\n",
    "waterMaskForDay = os.path.join(RASTER_OUTPUT_DIR, 'waterMask_{}_qa_{}.tif'.format(YEAR, DAY, TILE, MODEL))\n",
    "outPathProba = os.path.join(RASTER_OUTPUT_DIR, '{}_{}_{}_predicted_probabilities_{}.tif'.format(YEAR, DAY, TILE, MODEL))\n",
    "print(outPath)\n",
    "print(waterMaskForDay)\n",
    "print(outPathProba)\n",
    "\n",
    "ds = gdal.Open(vars_list[0], gdal.GA_ReadOnly)\n",
    "geo = ds.GetGeoTransform()\n",
    "proj = ds.GetProjection()\n",
    "ncols = ds.RasterXSize\n",
    "nrows = ds.RasterYSize\n",
    "print('Transform')\n",
    "print(geo)\n",
    "print('Projection')\n",
    "print(proj)\n",
    "print('Width')\n",
    "print(ncols)\n",
    "print('Height')\n",
    "print(nrows)\n",
    "ds = None\n",
    "\n",
    "# Output predicted binary raster masked with good-bad mask.\n",
    "driver = gdal.GetDriverByName('GTiff')\n",
    "outDs = driver.Create(outPath, ncols, nrows, 1, gdal.GDT_Float32, options=['COMPRESS=LZW'])\n",
    "outDs.SetGeoTransform(geo)\n",
    "outDs.SetProjection(proj)\n",
    "outBand = outDs.GetRasterBand(1)\n",
    "outBand.WriteArray(maskedResult)\n",
    "outBand.SetNoDataValue(-9999)\n",
    "outDs.FlushCache()\n",
    "outDs = None\n",
    "outBand = None\n",
    "driver = None\n",
    "\n",
    "# Output water mask with good-bad masked.\n",
    "driver = gdal.GetDriverByName('GTiff')\n",
    "outDs = driver.Create(waterMaskForDay, ncols, nrows, 1, gdal.GDT_Int16, options=['COMPRESS=LZW'])\n",
    "outDs.SetGeoTransform(geo)\n",
    "outDs.SetProjection(proj)\n",
    "outBand = outDs.GetRasterBand(1)\n",
    "outBand.WriteArray(waterMasked)\n",
    "outBand.SetNoDataValue(-9999)\n",
    "outDs.FlushCache()\n",
    "outDs = None\n",
    "outBand = None\n",
    "driver = None\n",
    "\n",
    "# Output probabilies raster masked by good-bad mask.\n",
    "driver = gdal.GetDriverByName('GTiff')\n",
    "outDs = driver.Create(outPathProba, ncols, nrows, 1, gdal.GDT_Float32, options=['COMPRESS=LZW'])\n",
    "outDs.SetGeoTransform(geo)\n",
    "outDs.SetProjection(proj)\n",
    "outBand = outDs.GetRasterBand(1)\n",
    "outBand.WriteArray(maskedResultProba)\n",
    "outBand.SetNoDataValue(-9999)\n",
    "outDs.FlushCache()\n",
    "outDs = None\n",
    "outBand = None\n",
    "driver = None"
   ]
  },
  {
   "cell_type": "code",
   "execution_count": null,
   "metadata": {},
   "outputs": [],
   "source": [
    "import folium\n",
    "import glob\n",
    "import numpy as np\n",
    "import os\n",
    "import rasterio as rio\n",
    "import tempfile\n",
    "\n",
    "from rasterio.warp import calculate_default_transform, reproject, Resampling\n",
    "from pyproj import Transformer "
   ]
  },
  {
   "cell_type": "code",
   "execution_count": null,
   "metadata": {},
   "outputs": [],
   "source": [
    "# -----------------------------------------------------------------------------\n",
    "# Uses rasterio to open a raster, get the metadata and crs\n",
    "# associated with it and get all the subdatasets in the file.\n",
    "# This is very useful for hdf files such as MODIS hdfs.\n",
    "# -----------------------------------------------------------------------------\n",
    "def print_subdatasets(filename):\n",
    "    bands_to_return = []\n",
    "    with rio.open(filename) as dataset:\n",
    "        meta_data = dataset.meta\n",
    "        crs = dataset.read_crs()\n",
    "        \n",
    "        print([name for name in dataset.subdatasets if search_term in name])\n",
    "\n",
    "# -----------------------------------------------------------------------------\n",
    "# Gets a tiff that has the correct metadata for that tile, gets the metadata\n",
    "# from the source tif and copies to a destination tiff. \n",
    "# -----------------------------------------------------------------------------     \n",
    "def add_metadata_to_annual_product(filepath, model_type, year, tile):\n",
    "    metadata_pull_src = [fv for fv in glob.glob(os.path.join(filepath, \"{}-1*-{}-MOD-*.tif\".format(year, tile)))][0]\n",
    "    with rio.open(metadata_pull_src) as src:\n",
    "        src_meta = src.meta\n",
    "    dst_tiffs = [os.path.join(filepath, fn) for fn in os.listdir(filepath) if \"{0}-{1}\".format(year, tile) in os.path.basename(fn)]\n",
    "    [copy_meta(dst_tiff, src_meta, metadata_pull_src) for dst_tiff in dst_tiffs]\n",
    "\n",
    "# -----------------------------------------------------------------------------\n",
    "# Given a path to a tiff with no metadata, assign the metadata given to that\n",
    "# tiff.\n",
    "# -----------------------------------------------------------------------------     \n",
    "def copy_meta(dst_path, src_meta, src_name):\n",
    "    print('Copying metadata from {} to {}'.format(src_name, dst_path))\n",
    "    with rio.open(dst_path, 'r+') as dst:\n",
    "        dst.crs = src_meta['crs']\n",
    "        dst.transform = src_meta['transform']        \n",
    "\n",
    "# -----------------------------------------------------------------------------\n",
    "# Given a tiff file as input, open the tiff and get the transform needed to\n",
    "# reproject from the tiff's source crs to the one we want (EPSG:3857).\n",
    "# For each band in the tiff, open then reproject it into the desired crs\n",
    "# then write to a temporary file. Return the path to the temp file.\n",
    "# -----------------------------------------------------------------------------\n",
    "def reproject_to_3857(input_tiff):\n",
    "    # Set desitnation CRS\n",
    "    dst_crs = f\"EPSG:3857\"\n",
    "\n",
    "    # set out path\n",
    "    out_path_rproj = os.path.join(tempfile.gettempdir(), input_tiff.split('/')[-1].replace('.tif','-3857.tif'))\n",
    "\n",
    "    with rio.open(input_tiff) as src:\n",
    "        # get src bounds and transform\n",
    "        transform, width, height = calculate_default_transform(src.crs, dst_crs, src.width, src.height, *src.bounds)\n",
    "        print('Transform: {}'.format(transform))\n",
    "        print('Width: {} Height: {}'.format(width, height))\n",
    "        kwargs = src.meta.copy()\n",
    "        kwargs.update({'crs': dst_crs,\n",
    "                   'transform': transform,\n",
    "                   'width': width,\n",
    "                   'height': height})\n",
    "    \n",
    "        # reproject and write to file\n",
    "        with rio.open(out_path_rproj, 'w', **kwargs) as dst:\n",
    "            for i in range(1, src.count + 1):\n",
    "                reproject(source=rio.band(src, i),\n",
    "                      destination=rio.band(dst, i),\n",
    "                      src_transform=src.transform,\n",
    "                      src_crs=src.crs,\n",
    "                      dst_transform=transform,\n",
    "                      dst_crs=dst_crs,\n",
    "                      resampling=Resampling.nearest)\n",
    "    return out_path_rproj\n",
    "\n",
    "# -----------------------------------------------------------------------------\n",
    "# In order for folium to work properly we need to pass it the bounding box\n",
    "# of the tiff in the form of lat and lon. This is done by using rasterio.\n",
    "# -----------------------------------------------------------------------------\n",
    "def get_bounds(tiff_3857):\n",
    "    with rio.open(tiff_3857) as src:\n",
    "        src_crs = src.crs['init'].upper()\n",
    "        min_lon, min_lat, max_lon, max_lat = src.bounds\n",
    "    bounds_orig = [[min_lat, min_lon], [max_lat, max_lon]]\n",
    "    bounds = []\n",
    "    dst_crs = 'EPSG:4326'\n",
    "    for item in bounds_orig:   \n",
    "        #converting to lat/lon\n",
    "        lat = item[0]\n",
    "        lon = item[1]\n",
    "        proj = Transformer.from_crs(int(src_crs.split(\":\")[1]), int(dst_crs.split(\":\")[1]), always_xy=True)\n",
    "        lon_n, lat_n = proj.transform(lon, lat)\n",
    "        bounds.append([lat_n, lon_n])\n",
    "    center_lon = bounds[0][1] + (bounds[1][1] - bounds[0][1])/2\n",
    "    center_lat = bounds[0][0] + (bounds[1][0] - bounds[0][0])/2\n",
    "    return {'bounds': bounds, 'center': (center_lon, center_lat)}\n",
    "\n",
    "# -----------------------------------------------------------------------------\n",
    "# Use rasterio to open and read in the desired band name as a nd-array.\n",
    "# -----------------------------------------------------------------------------\n",
    "def open_and_get_band(file_name, band_num=1):\n",
    "    with rio.open(file_name) as data:\n",
    "        b = data.read(band_num)\n",
    "    return b\n",
    "\n",
    "# -----------------------------------------------------------------------------\n",
    "# Given an nd-array (band) and the bounds in lat lon of the nd-array, return\n",
    "# a folium layer. To add on the map.\n",
    "# -----------------------------------------------------------------------------\n",
    "def get_overlay(band, meta_dict, name, opacity=1.0, show=True):\n",
    "    return folium.raster_layers.ImageOverlay(band, \n",
    "                                             bounds=meta_dict['bounds'], \n",
    "                                             name=name, \n",
    "                                             opacity=opacity, \n",
    "                                             show=show)\n",
    "\n",
    "# -----------------------------------------------------------------------------\n",
    "# We don't need to keep those temp files we made for the reprojections around.\n",
    "# -----------------------------------------------------------------------------\n",
    "def cleanup(filename):\n",
    "    if os.path.exists(filename):\n",
    "        os.remove(filename)\n",
    "    else:\n",
    "        print('No file: {} exists.'.format(filename))"
   ]
  },
  {
   "cell_type": "code",
   "execution_count": null,
   "metadata": {},
   "outputs": [],
   "source": [
    "mask_3857 = reproject_to_3857(outPath)\n",
    "probW_3857 = reproject_to_3857(outPathProba)\n",
    "mod44_3857 = reproject_to_3857(water_mask_path)\n",
    "qa_3857 = reproject_to_3857(qa_mask)\n",
    "\n",
    "mask_d = get_bounds(mask_3857)\n",
    "probw_d = get_bounds(probW_3857)\n",
    "mod44_d = get_bounds(mod44_3857)\n",
    "qa_d = get_bounds(qa_3857)\n",
    "\n",
    "mask_b1 = open_and_get_band(mask_3857, 1)\n",
    "probw_b1 = open_and_get_band(probW_3857, 1)\n",
    "mod44_b1 = open_and_get_band(mod44_3857, 1)\n",
    "mod44_b1 = np.where(mod44_b1 == 255, 0, mod44_b1)\n",
    "qa_b1 = open_and_get_band(qa_3857, 1)\n",
    "\n",
    "cleanup(mask_3857)\n",
    "cleanup(probW_3857)\n",
    "cleanup(mod44_3857)\n",
    "cleanup(qa_3857)\n",
    "\n",
    "zeros = np.zeros_like(mask_b1)\n",
    "mask_rgba = np.dstack((mask_b1, zeros, zeros, mask_b1))\n",
    "probw_rgb = np.dstack((zeros, zeros, probw_b1))\n",
    "mod44_rgba = np.dstack((zeros, mod44_b1, zeros, mod44_b1))\n",
    "qa_rgba = np.dstack((qa_b1, qa_b1, qa_b1, qa_b1))"
   ]
  },
  {
   "cell_type": "code",
   "execution_count": null,
   "metadata": {},
   "outputs": [],
   "source": [
    "m = folium.Map(location=[mask_d['center'][1], mask_d['center'][0]],\n",
    "                   tiles='https://mt1.google.com/vt/lyrs=s&x={x}&y={y}&z={z}', zoom_start = 6, attr='Google', control_scale=True)"
   ]
  },
  {
   "cell_type": "code",
   "execution_count": null,
   "metadata": {},
   "outputs": [],
   "source": [
    "from folium import plugins"
   ]
  },
  {
   "cell_type": "code",
   "execution_count": null,
   "metadata": {},
   "outputs": [],
   "source": [
    "m.add_child(get_overlay(mask_rgba, mask_d, '{}-{}-{} model water mask'.format(YEAR, DAY, TILE), opacity=0.8))\n",
    "m.add_child(get_overlay(probw_rgb, probw_d, '{}-{}-{} model proba water'.format(YEAR, DAY, TILE), opacity=0.35, show=False))\n",
    "m.add_child(get_overlay(mod44_rgba, mod44_d, '{} {} MOD44W mask'.format(TILE, YEAR), opacity=0.8, show=False))\n",
    "m.add_child(get_overlay(qa_rgba, qa_d, '{}-{}-{} MW QA mask'.format(YEAR, DAY, TILE), opacity=0.8, show=False))\n",
    "m.add_child(plugins.MousePosition())\n",
    "m.add_child(plugins.MeasureControl())\n",
    "m.add_child(folium.LayerControl())"
   ]
  },
  {
   "cell_type": "markdown",
   "metadata": {},
   "source": [
    "# Model Explainability"
   ]
  },
  {
   "cell_type": "code",
   "execution_count": null,
   "metadata": {},
   "outputs": [],
   "source": [
    "maskToShow = np.where(maskedResult==-9999, -1, maskedResult)\n",
    "waterMaskToShow = np.where(waterMasked==-9999, -1, waterMasked)"
   ]
  },
  {
   "cell_type": "code",
   "execution_count": null,
   "metadata": {},
   "outputs": [],
   "source": [
    "print((1020, 1250), (3000, 3250))\n",
    "y = (3000, 3000+250)\n",
    "x = (1020, 1020+230)\n",
    "x, y"
   ]
  },
  {
   "cell_type": "code",
   "execution_count": null,
   "metadata": {},
   "outputs": [],
   "source": [
    "width = x[1] - x[0]\n",
    "height = y[1] - y[0]"
   ]
  },
  {
   "cell_type": "code",
   "execution_count": null,
   "metadata": {},
   "outputs": [],
   "source": [
    "from matplotlib.patches import Rectangle\n",
    "import shap\n",
    "\n",
    "shap.initjs()"
   ]
  },
  {
   "cell_type": "code",
   "execution_count": null,
   "metadata": {},
   "outputs": [],
   "source": [
    "plt.figure(figsize=(20, 20))\n",
    "plt.matshow(maskToShow, fignum=1)\n",
    "plt.gca().add_patch(Rectangle((x[0],y[0]),width,height,\n",
    "                    edgecolor='red',\n",
    "                    facecolor='none',\n",
    "                    lw=4))\n",
    "plt.colorbar()"
   ]
  },
  {
   "cell_type": "code",
   "execution_count": null,
   "metadata": {},
   "outputs": [],
   "source": [
    "plt.figure(figsize=(20, 20))\n",
    "plt.matshow(waterMaskToShow, fignum=1)\n",
    "plt.gca().add_patch(Rectangle((x[0],y[0]),width,height,\n",
    "                    edgecolor='red',\n",
    "                    facecolor='none',\n",
    "                    lw=4))\n",
    "plt.colorbar()"
   ]
  },
  {
   "cell_type": "code",
   "execution_count": null,
   "metadata": {},
   "outputs": [],
   "source": [
    "fig, axes = plt.subplots(ncols=2, figsize=(25, 12))\n",
    "\n",
    "ax1, ax2 = axes\n",
    "\n",
    "im1 = ax1.matshow(maskToShow[y[0]:y[1], x[0]:x[1]])\n",
    "im2 = ax2.matshow(waterMaskToShow[y[0]:y[1], x[0]:x[1]])\n",
    "\n",
    "ax1.set_title('Predicted Mask')\n",
    "ax2.set_title('MOD44W Mask')\n",
    "fig.colorbar(im1, ax=ax1)\n",
    "fig.colorbar(im2, ax=ax2)"
   ]
  },
  {
   "cell_type": "code",
   "execution_count": null,
   "metadata": {},
   "outputs": [],
   "source": [
    "def readRaster(vars_list, x, y, colsToDrop=None):\n",
    "    min_right, max_right = x\n",
    "    min_bottom, max_bottom = y\n",
    "    cols = max_bottom - min_bottom\n",
    "    rows = max_right - min_right\n",
    "    vrt_options = gdal.BuildVRTOptions(separate=True)\n",
    "    dd = gdal.BuildVRT('tmp.vrt', vars_list, options=vrt_options)\n",
    "    nrows, ncols = dd.RasterYSize, dd.RasterXSize\n",
    "    newshp = (cols, rows, dd.RasterCount+3)\n",
    "    img = np.empty(newshp, dtype=np.int16)\n",
    "    for b in range(len(vars_list)):\n",
    "        img[:, :, b] = dd.GetRasterBand(b+1).ReadAsArray()[min_bottom:max_bottom, min_right:max_right].astype(np.int16)\n",
    "    dd = None\n",
    "    img[:, :, len(vars_list)] = ((img[:,:,1] - img[:,:,0]) / (img[:,:,1] + img[:,:,0])) * 10000\n",
    "    img[:, :, len(vars_list)+1] = ((img[:,:,1] - img[:,:,5]) / (img[:,:,1] + img[:,:,5])) * 10000\n",
    "    img[:, :, len(vars_list)+2] = ((img[:,:,1] - img[:,:,6]) / (img[:,:,1] + img[:,:,6])) * 10000\n",
    "    if os.path.exists('tmp.vrt'):\n",
    "        os.remove('tmp.vrt')\n",
    "    return img\n",
    "\n",
    "def plot_comparison(mask, band, img):\n",
    "    fig, axes = plt.subplots(ncols=2, figsize=(25, 12))\n",
    "\n",
    "    ax1, ax2 = axes\n",
    "\n",
    "    im1 = ax1.matshow(img[:, :, band-1])\n",
    "    im2 = ax2.matshow(mask)\n",
    "    band_name = band\n",
    "    if band >=8 :\n",
    "        if band == 8:\n",
    "            band_name = 'ndvi'\n",
    "        elif band == 9:\n",
    "            band_name = 'ndwi1'\n",
    "        elif band == 10:\n",
    "            band_name = 'ndwi2'\n",
    "            \n",
    "    ax1.set_title('Tile: {} Day: {} Year: {} Band: {}'.format(TILE, DAY, YEAR, band_name))\n",
    "    ax2.set_title('Tile: {} Day: {} Year: {} Predicted Water Mask'.format(TILE, DAY, YEAR))\n",
    "    fig.colorbar(im1, ax=ax1)\n",
    "    fig.colorbar(im2, ax=ax2)\n",
    "    \n",
    "def readRasterToArray(vars_list, x, y, colsToDrop=None):\n",
    "    min_right, max_right = x\n",
    "    min_bottom, max_bottom = y\n",
    "    cols = max_bottom - min_bottom\n",
    "    rows = max_right - min_right\n",
    "    vrt_options = gdal.BuildVRTOptions(separate=True)\n",
    "    dd = gdal.BuildVRT('tmp.vrt', vars_list, options=vrt_options)\n",
    "    nrows, ncols = dd.RasterYSize, dd.RasterXSize\n",
    "    newshp = (cols*rows, dd.RasterCount+3)\n",
    "    img = np.empty(newshp, dtype=np.int16)\n",
    "    for b in range(len(vars_list)):\n",
    "        img[:, b] = dd.GetRasterBand(b+1).ReadAsArray()[min_bottom:max_bottom, min_right:max_right].astype(np.int16).ravel()\n",
    "    dd = None\n",
    "    img[:, len(vars_list)] = ((img[:, 1] - img[:, 0]) / (img[:, 1] + img[:, 0])) * 10000\n",
    "    img[:, len(vars_list)+1] = ((img[:, 1] - img[:, 5]) / (img[:, 1] + img[:, 5])) * 10000\n",
    "    img[:, len(vars_list)+2] = ((img[:, 1] - img[:, 6]) / (img[:, 1] + img[:, 6])) * 10000\n",
    "    if os.path.exists('tmp.vrt'):\n",
    "        os.remove('tmp.vrt')\n",
    "    df = pd.DataFrame(img, columns=v_names, dtype=np.int16)\n",
    "    df = df.drop(columns=colsToDrop) if colsToDrop else df\n",
    "    return df"
   ]
  },
  {
   "cell_type": "code",
   "execution_count": null,
   "metadata": {},
   "outputs": [],
   "source": [
    "img = readRaster(vars_list, x, y, colsToDrop=colsToDrop)"
   ]
  },
  {
   "cell_type": "code",
   "execution_count": null,
   "metadata": {},
   "outputs": [],
   "source": [
    "mask = maskToShow[y[0]:y[1], x[0]:x[1]]\n",
    "plot_comparison(mask=mask,\n",
    "                band=1,\n",
    "                img=img)"
   ]
  },
  {
   "cell_type": "code",
   "execution_count": null,
   "metadata": {},
   "outputs": [],
   "source": [
    "X_expl = readRasterToArray(vars_list, x, y, colsToDrop)\n",
    "X_expl"
   ]
  },
  {
   "cell_type": "code",
   "execution_count": null,
   "metadata": {},
   "outputs": [],
   "source": [
    "bg_set = X_train.sample(n=500, random_state=42)\n",
    "bg_set = bg_set.reset_index()\n",
    "bg_set = bg_set.drop(columns=['index'])"
   ]
  },
  {
   "cell_type": "code",
   "execution_count": null,
   "metadata": {},
   "outputs": [],
   "source": [
    "explainer = shap.explainers.Tree(model=classifier, data=bg_set, model_output='predict_proba')\n",
    "explainer"
   ]
  },
  {
   "cell_type": "code",
   "execution_count": null,
   "metadata": {},
   "outputs": [],
   "source": [
    "shap_test = explainer(X_expl)\n",
    "print(f\"Length of shap_test: {len(shap_test)}\\n\")\n",
    "print(f\"Sample shap_test:\\n{shap_test[0]}\")"
   ]
  },
  {
   "cell_type": "code",
   "execution_count": null,
   "metadata": {},
   "outputs": [],
   "source": [
    "print(f\"Expected value: {explainer.expected_value[1]:.2f}\")\n",
    "print(f\"Average target value (training data): {y_train.mean():.2f}\")\n",
    "print(f\"Base value: {np.unique(shap_test.base_values)[0]:.2f}\")"
   ]
  },
  {
   "cell_type": "code",
   "execution_count": null,
   "metadata": {},
   "outputs": [],
   "source": [
    "shap_df = pd.DataFrame(shap_test.values[:,:,1], \n",
    "                       columns=shap_test.feature_names, \n",
    "                       index=X_expl.index)\n",
    "shap_df"
   ]
  },
  {
   "cell_type": "code",
   "execution_count": null,
   "metadata": {},
   "outputs": [],
   "source": [
    "shap.plots.bar(shap_test[:,:,1])"
   ]
  },
  {
   "cell_type": "code",
   "execution_count": null,
   "metadata": {},
   "outputs": [],
   "source": [
    "columns = shap_df.apply(np.abs).mean().sort_values(ascending=False).index\n",
    "\n",
    "fig, ax = plt.subplots(1, 2, figsize=(18,8))\n",
    "sns.barplot(data=shap_df[columns].apply(np.abs), orient='h',ax=ax[0])\n",
    "ax[0].set_title(\"Mean absolute shap value\")\n",
    "sns.boxplot(data=shap_df[columns], orient='h', ax=ax[1])\n",
    "ax[1].set_title(\"Distribution of shap values\")"
   ]
  },
  {
   "cell_type": "code",
   "execution_count": null,
   "metadata": {},
   "outputs": [],
   "source": [
    "shap.summary_plot(shap_test[:,:,1], plot_size=(17, 10), show=False)\n",
    "plt.gcf().axes[-1].set_aspect(10)\n",
    "plt.gcf().axes[-1].set_box_aspect(10)"
   ]
  },
  {
   "cell_type": "markdown",
   "metadata": {},
   "source": [
    "## Examining individual cases of false positives"
   ]
  },
  {
   "cell_type": "code",
   "execution_count": null,
   "metadata": {},
   "outputs": [],
   "source": [
    "X_test = X_expl"
   ]
  },
  {
   "cell_type": "code",
   "execution_count": null,
   "metadata": {},
   "outputs": [],
   "source": [
    "test_1 = X_test[X_test['sur_refl_b01_1'] == 981]\n",
    "test_1 = test_1[test_1['sur_refl_b04_1'] == 931]\n",
    "\n",
    "test_2 = X_test[X_test['sur_refl_b01_1'] == 1395]\n",
    "test_2 = test_2[test_2['sur_refl_b04_1'] == 931]\n",
    "\n",
    "test_3 = X_test[X_test['sur_refl_b01_1'] == 1197]\n",
    "test_3 = test_3[test_3['sur_refl_b04_1'] == 890]\n",
    "\n",
    "test_4 = X_test[X_test['sur_refl_b01_1'] == 754]\n",
    "test_4 = test_4[test_4['sur_refl_b04_1'] == 325]\n",
    "\n",
    "test_5 = X_test[X_test['sur_refl_b01_1'] == 1025]\n",
    "test_5 = test_5[test_5['sur_refl_b04_1'] == 780]\n",
    "\n",
    "test_6 = X_test[X_test['sur_refl_b01_1'] == 552]\n",
    "test_6 = test_6[test_6['sur_refl_b04_1'] == 459]\n",
    "\n",
    "test_7 = X_test[X_test['sur_refl_b01_1'] == 1120]\n",
    "test_7 = test_7[test_7['sur_refl_b04_1'] == 780]"
   ]
  },
  {
   "cell_type": "code",
   "execution_count": null,
   "metadata": {},
   "outputs": [],
   "source": [
    "test_1"
   ]
  },
  {
   "cell_type": "code",
   "execution_count": null,
   "metadata": {},
   "outputs": [],
   "source": [
    "shap.force_plot(explainer.expected_value[1], shap_test[:, :, 1].values[test_1.index[0]], feature_names=shap_test.feature_names)"
   ]
  },
  {
   "cell_type": "code",
   "execution_count": null,
   "metadata": {},
   "outputs": [],
   "source": [
    "test_2"
   ]
  },
  {
   "cell_type": "code",
   "execution_count": null,
   "metadata": {},
   "outputs": [],
   "source": [
    "shap.force_plot(explainer.expected_value[1], shap_test[:, :, 1].values[test_2.index[0]], feature_names=shap_test.feature_names)"
   ]
  },
  {
   "cell_type": "code",
   "execution_count": null,
   "metadata": {},
   "outputs": [],
   "source": [
    "test_3"
   ]
  },
  {
   "cell_type": "code",
   "execution_count": null,
   "metadata": {},
   "outputs": [],
   "source": [
    "shap.force_plot(explainer.expected_value[1], shap_test[:, :, 1].values[test_3.index[0]], feature_names=shap_test.feature_names)"
   ]
  },
  {
   "cell_type": "code",
   "execution_count": null,
   "metadata": {},
   "outputs": [],
   "source": [
    "test_4"
   ]
  },
  {
   "cell_type": "code",
   "execution_count": null,
   "metadata": {},
   "outputs": [],
   "source": [
    "shap.force_plot(explainer.expected_value[1], shap_test[:, :, 1].values[test_4.index[0]], feature_names=shap_test.feature_names)"
   ]
  },
  {
   "cell_type": "code",
   "execution_count": null,
   "metadata": {},
   "outputs": [],
   "source": [
    "test_5"
   ]
  },
  {
   "cell_type": "code",
   "execution_count": null,
   "metadata": {},
   "outputs": [],
   "source": [
    "shap.force_plot(explainer.expected_value[1], shap_test[:, :, 1].values[test_5.index[0]], feature_names=shap_test.feature_names)"
   ]
  },
  {
   "cell_type": "code",
   "execution_count": null,
   "metadata": {},
   "outputs": [],
   "source": [
    "test_6"
   ]
  },
  {
   "cell_type": "code",
   "execution_count": null,
   "metadata": {},
   "outputs": [],
   "source": [
    "shap.force_plot(explainer.expected_value[1], shap_test[:, :, 1].values[test_6.index[0]], feature_names=shap_test.feature_names)"
   ]
  },
  {
   "cell_type": "code",
   "execution_count": null,
   "metadata": {},
   "outputs": [],
   "source": []
  }
 ],
 "metadata": {
  "kernelspec": {
   "display_name": "ILAB Kernel",
   "language": "python",
   "name": "ilab-kernel"
  },
  "language_info": {
   "codemirror_mode": {
    "name": "ipython",
    "version": 3
   },
   "file_extension": ".py",
   "mimetype": "text/x-python",
   "name": "python",
   "nbconvert_exporter": "python",
   "pygments_lexer": "ipython3",
   "version": "3.9.13"
  }
 },
 "nbformat": 4,
 "nbformat_minor": 4
}
