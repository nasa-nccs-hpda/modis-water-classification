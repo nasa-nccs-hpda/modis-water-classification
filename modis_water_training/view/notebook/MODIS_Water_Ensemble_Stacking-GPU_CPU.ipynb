{
 "cells": [
  {
   "cell_type": "markdown",
   "metadata": {},
   "source": [
    "# MODIS Water Ensemble Learning\n",
    "Version: 0.1.0\n",
    "\n",
    "Date modified: 02.08.2022\n",
    "\n",
    "Modifier: Caleb Spradlin"
   ]
  },
  {
   "cell_type": "code",
   "execution_count": 1,
   "metadata": {},
   "outputs": [],
   "source": [
    "import csv\n",
    "import datetime\n",
    "import glob\n",
    "import joblib\n",
    "import numpy as np\n",
    "import os\n",
    "import pandas as pd\n",
    "from pathlib import Path\n",
    "import sys\n",
    "\n",
    "import xgboost as xgb\n",
    "\n",
    "from sklearn.ensemble import RandomForestClassifier as skRF\n",
    "from sklearn.ensemble import StackingClassifier\n",
    "from sklearn.linear_model import LogisticRegression\n",
    "\n",
    "from sklearn import metrics\n",
    "from sklearn.metrics import accuracy_score, roc_curve, auc\n",
    "from sklearn.metrics import confusion_matrix, accuracy_score, roc_auc_score\n",
    "from sklearn.metrics import classification_report\n",
    "from sklearn.model_selection import train_test_split \n",
    "from sklearn.model_selection import RandomizedSearchCV, KFold\n",
    "from sklearn.inspection import permutation_importance\n",
    "\n",
    "# Visualization\n",
    "import seaborn as sns\n",
    "import matplotlib.pyplot as plt\n",
    "import warnings\n",
    "\n",
    "#GDAL Stuff\n",
    "from osgeo import gdalconst\n",
    "from osgeo import gdal\n",
    "\n",
    "from pprint import pprint\n",
    "\n",
    "sys.path.append('../scripts/')\n",
    "import notebook_util as nu\n",
    "\n",
    "warnings.filterwarnings('ignore')\n",
    "plt.style.use('fivethirtyeight')\n",
    "%matplotlib inline"
   ]
  },
  {
   "cell_type": "code",
   "execution_count": 2,
   "metadata": {},
   "outputs": [],
   "source": [
    "FIGURE_OUTPUT_DIR = '/att/nobackup/cssprad1/projects/modis_water/code/modis_water_random_forest/view/notebook/output'\n",
    "RASTER_OUTPUT_DIR = '/att/nobackup/cssprad1/projects/modis_water/code/modis_water_random_forest/view/notebook/output'\n",
    "MODEL_OUTPUT_DIR = '/att/nobackup/cssprad1/projects/modis_water/models/'\n",
    "\n",
    "GPU = True\n",
    "TILE = 'global'\n",
    "MODEL = 'ensemble'\n",
    "TEST_RATIO = 0.2\n",
    "RANDOM_STATE = 42\n",
    "LABEL_NAME = 'water'\n",
    "DATA_TYPE = np.int16\n",
    "colsToDrop = ['x_offset', 'y_offset']\n",
    "v_names = ['sur_refl_b01_1','sur_refl_b02_1','sur_refl_b03_1',\n",
    "           'sur_refl_b04_1','sur_refl_b05_1','sur_refl_b06_1',\n",
    "           'sur_refl_b07_1','ndvi','ndwi1','ndwi2']"
   ]
  },
  {
   "cell_type": "code",
   "execution_count": 3,
   "metadata": {},
   "outputs": [
    {
     "name": "stdout",
     "output_type": "stream",
     "text": [
      "Picking GPU 0\n"
     ]
    }
   ],
   "source": [
    "if GPU:\n",
    "    nu.setup_one_gpu() # Choose the GPU with the lowest memory usage"
   ]
  },
  {
   "cell_type": "code",
   "execution_count": 4,
   "metadata": {},
   "outputs": [],
   "source": [
    "def load_data(fpath, colsToDrop, yCol='water', testSize=0.2, randomState=42, \n",
    "              dataType=np.float32, cpu=True, splitXY=False, trainTestSplit=False,\n",
    "             applyLog=False, imbalance=False, frac=0.1, land=False, multi=False, \n",
    "              multisample=1000000):\n",
    "    \"\"\"\n",
    "    Simple helper function for loading data to be used by models\n",
    "    :param fpath: Path to the data to be ingested.\n",
    "    :param dataType: Data type to convert ingested data to.\n",
    "    :param colsToDrop: Columns which are not necessary, from which to drop.\n",
    "    :param testSize: Ration to\n",
    "    \"\"\"\n",
    "    if multi:\n",
    "        all_dfs = [pd.read_csv(path_) for path_ in fpath]\n",
    "        df = pd.concat(all_dfs).sample(n=multisample, random_state=randomState)\n",
    "        print('DF length: {}'.format(len(df.index)))\n",
    "    else:   \n",
    "        df = pd.read_parquet(fpath) if '.parquet' in fpath else pd.read_csv(fpath)\n",
    "    df = df[df['sur_refl_b01_1'] + df['sur_refl_b02_1'] != 0]\n",
    "    df = df[df['sur_refl_b07_1'] + df['sur_refl_b02_1'] != 0]\n",
    "    df = df[df['sur_refl_b06_1'] + df['sur_refl_b02_1'] != 0]\n",
    "    df = df.drop(columns=colsToDrop)\n",
    "    cleanedDF = df[~df.isin([np.NaN, np.inf, -np.inf]).any(1)].dropna(axis=0).astype(dataType)\n",
    "    if applyLog:\n",
    "        for col in cleanedDF.drop([yCol], axis=1).columns:\n",
    "            print('Applying log1p func to {}'.format(col))\n",
    "            cleanedDF[col] = np.log1p(cleanedDF[col])\n",
    "        cleanedDF = cleanedDF[~cleanedDF.isin([np.NaN, np.inf, -np.inf]).any(1)].dropna(axis=0)\n",
    "    df = None\n",
    "    if imbalance:\n",
    "        groupedDF = cleanedDF.groupby('water')\n",
    "        dfs = [groupedDF.get_group(y) for y in groupedDF.groups]\n",
    "        sampledDF = dfs[1].sample(frac=frac)if land else dfs[0].sample(frac=frac)\n",
    "        concatDF = sampledDF.append(dfs[0]) if land else sampledDF.append(dfs[1])\n",
    "        concatDF = concatDF.sample(frac=1)\n",
    "        concatDF = concatDF.reset_index()\n",
    "        cleanedDF = concatDF.drop(columns=['index'])\n",
    "    if not splitXY:\n",
    "        return cleanedDF\n",
    "    X = cleanedDF.drop([yCol], axis=1).astype(dataType)\n",
    "    y = cleanedDF[yCol].astype(dataType)\n",
    "    if trainTestSplit:\n",
    "        return train_test_split(X, y, test_size=TEST_RATIO)\n",
    "    else:\n",
    "        return X, y"
   ]
  },
  {
   "cell_type": "markdown",
   "metadata": {},
   "source": [
    "## Data \n",
    "- Read in to cuDF Dataframe\n",
    "- Drop unnecessary columns\n",
    "- Split into Xs and Ys"
   ]
  },
  {
   "cell_type": "code",
   "execution_count": 5,
   "metadata": {},
   "outputs": [
    {
     "name": "stdout",
     "output_type": "stream",
     "text": [
      "['/att/nobackup/cssprad1/projects/modis_water/data/training_data/v1.1.0/MOD09_global_WATER_TR_DATA_#5516128.parquet.gzip']\n"
     ]
    }
   ],
   "source": [
    "glob_string = '/att/nobackup/cssprad1/projects/modis_water/data/training_data/v1.1.0/MOD09_{}_*.parquet.gzip'.format(TILE)\n",
    "data_paths = [fv for fv in glob.glob(glob_string)]\n",
    "data_path = data_paths[0]\n",
    "pprint(data_paths)"
   ]
  },
  {
   "cell_type": "code",
   "execution_count": 6,
   "metadata": {},
   "outputs": [
    {
     "data": {
      "text/plain": [
       "5"
      ]
     },
     "execution_count": 6,
     "metadata": {},
     "output_type": "execute_result"
    }
   ],
   "source": [
    "X_train, X_test, y_train, y_test = load_data(fpath=data_path,\n",
    "                                             colsToDrop=colsToDrop,\n",
    "                                             dataType=DATA_TYPE,\n",
    "                                             cpu=True,\n",
    "                                             splitXY=True,\n",
    "                                             imbalance=False,\n",
    "                                             trainTestSplit=True,\n",
    "                                             multi=False)\n",
    "\n",
    "kf = KFold(n_splits=5)\n",
    "kf.get_n_splits(X_train)"
   ]
  },
  {
   "cell_type": "code",
   "execution_count": 7,
   "metadata": {},
   "outputs": [
    {
     "name": "stdout",
     "output_type": "stream",
     "text": [
      "sur_refl_b01_1\n",
      "sur_refl_b02_1\n",
      "sur_refl_b03_1\n",
      "sur_refl_b04_1\n",
      "sur_refl_b05_1\n",
      "sur_refl_b06_1\n",
      "sur_refl_b07_1\n",
      "ndvi\n",
      "ndwi1\n",
      "ndwi2\n"
     ]
    }
   ],
   "source": [
    "_ = [print(column) for column in X_train.columns]"
   ]
  },
  {
   "cell_type": "code",
   "execution_count": 8,
   "metadata": {},
   "outputs": [
    {
     "data": {
      "text/html": [
       "<div>\n",
       "<style scoped>\n",
       "    .dataframe tbody tr th:only-of-type {\n",
       "        vertical-align: middle;\n",
       "    }\n",
       "\n",
       "    .dataframe tbody tr th {\n",
       "        vertical-align: top;\n",
       "    }\n",
       "\n",
       "    .dataframe thead th {\n",
       "        text-align: right;\n",
       "    }\n",
       "</style>\n",
       "<table border=\"1\" class=\"dataframe\">\n",
       "  <thead>\n",
       "    <tr style=\"text-align: right;\">\n",
       "      <th></th>\n",
       "      <th>count</th>\n",
       "      <th>mean</th>\n",
       "      <th>std</th>\n",
       "      <th>min</th>\n",
       "      <th>25%</th>\n",
       "      <th>50%</th>\n",
       "      <th>75%</th>\n",
       "      <th>max</th>\n",
       "    </tr>\n",
       "  </thead>\n",
       "  <tbody>\n",
       "    <tr>\n",
       "      <th>sur_refl_b01_1</th>\n",
       "      <td>4380548.0</td>\n",
       "      <td>458.511110</td>\n",
       "      <td>612.970780</td>\n",
       "      <td>-100.0</td>\n",
       "      <td>34.0</td>\n",
       "      <td>314.0</td>\n",
       "      <td>638.0</td>\n",
       "      <td>16000.0</td>\n",
       "    </tr>\n",
       "    <tr>\n",
       "      <th>sur_refl_b02_1</th>\n",
       "      <td>4380548.0</td>\n",
       "      <td>1461.142986</td>\n",
       "      <td>1458.133455</td>\n",
       "      <td>-100.0</td>\n",
       "      <td>2.0</td>\n",
       "      <td>1264.0</td>\n",
       "      <td>2651.0</td>\n",
       "      <td>16000.0</td>\n",
       "    </tr>\n",
       "    <tr>\n",
       "      <th>sur_refl_b03_1</th>\n",
       "      <td>4380548.0</td>\n",
       "      <td>312.911869</td>\n",
       "      <td>435.383649</td>\n",
       "      <td>-100.0</td>\n",
       "      <td>141.0</td>\n",
       "      <td>228.0</td>\n",
       "      <td>366.0</td>\n",
       "      <td>15361.0</td>\n",
       "    </tr>\n",
       "    <tr>\n",
       "      <th>sur_refl_b04_1</th>\n",
       "      <td>4380548.0</td>\n",
       "      <td>488.835178</td>\n",
       "      <td>518.920235</td>\n",
       "      <td>-100.0</td>\n",
       "      <td>140.0</td>\n",
       "      <td>432.0</td>\n",
       "      <td>661.0</td>\n",
       "      <td>16000.0</td>\n",
       "    </tr>\n",
       "    <tr>\n",
       "      <th>sur_refl_b05_1</th>\n",
       "      <td>4380548.0</td>\n",
       "      <td>1588.769992</td>\n",
       "      <td>1532.115449</td>\n",
       "      <td>-100.0</td>\n",
       "      <td>22.0</td>\n",
       "      <td>1401.0</td>\n",
       "      <td>2987.0</td>\n",
       "      <td>16000.0</td>\n",
       "    </tr>\n",
       "    <tr>\n",
       "      <th>sur_refl_b06_1</th>\n",
       "      <td>4380548.0</td>\n",
       "      <td>1202.776729</td>\n",
       "      <td>1150.814332</td>\n",
       "      <td>-100.0</td>\n",
       "      <td>94.0</td>\n",
       "      <td>1044.0</td>\n",
       "      <td>2091.0</td>\n",
       "      <td>16000.0</td>\n",
       "    </tr>\n",
       "    <tr>\n",
       "      <th>sur_refl_b07_1</th>\n",
       "      <td>4380548.0</td>\n",
       "      <td>661.244523</td>\n",
       "      <td>780.390797</td>\n",
       "      <td>-100.0</td>\n",
       "      <td>50.0</td>\n",
       "      <td>429.0</td>\n",
       "      <td>985.0</td>\n",
       "      <td>14952.0</td>\n",
       "    </tr>\n",
       "    <tr>\n",
       "      <th>ndvi</th>\n",
       "      <td>4380548.0</td>\n",
       "      <td>551.929821</td>\n",
       "      <td>8221.567752</td>\n",
       "      <td>-32762.0</td>\n",
       "      <td>-5296.0</td>\n",
       "      <td>2674.0</td>\n",
       "      <td>6711.0</td>\n",
       "      <td>32762.0</td>\n",
       "    </tr>\n",
       "    <tr>\n",
       "      <th>ndwi1</th>\n",
       "      <td>4380548.0</td>\n",
       "      <td>-2719.323276</td>\n",
       "      <td>6746.883503</td>\n",
       "      <td>-32759.0</td>\n",
       "      <td>-9166.0</td>\n",
       "      <td>-537.0</td>\n",
       "      <td>2039.0</td>\n",
       "      <td>32767.0</td>\n",
       "    </tr>\n",
       "    <tr>\n",
       "      <th>ndwi2</th>\n",
       "      <td>4380548.0</td>\n",
       "      <td>-132.785238</td>\n",
       "      <td>8622.007141</td>\n",
       "      <td>-32759.0</td>\n",
       "      <td>-7352.0</td>\n",
       "      <td>2372.0</td>\n",
       "      <td>5865.0</td>\n",
       "      <td>32767.0</td>\n",
       "    </tr>\n",
       "  </tbody>\n",
       "</table>\n",
       "</div>"
      ],
      "text/plain": [
       "                    count         mean          std      min     25%     50%  \\\n",
       "sur_refl_b01_1  4380548.0   458.511110   612.970780   -100.0    34.0   314.0   \n",
       "sur_refl_b02_1  4380548.0  1461.142986  1458.133455   -100.0     2.0  1264.0   \n",
       "sur_refl_b03_1  4380548.0   312.911869   435.383649   -100.0   141.0   228.0   \n",
       "sur_refl_b04_1  4380548.0   488.835178   518.920235   -100.0   140.0   432.0   \n",
       "sur_refl_b05_1  4380548.0  1588.769992  1532.115449   -100.0    22.0  1401.0   \n",
       "sur_refl_b06_1  4380548.0  1202.776729  1150.814332   -100.0    94.0  1044.0   \n",
       "sur_refl_b07_1  4380548.0   661.244523   780.390797   -100.0    50.0   429.0   \n",
       "ndvi            4380548.0   551.929821  8221.567752 -32762.0 -5296.0  2674.0   \n",
       "ndwi1           4380548.0 -2719.323276  6746.883503 -32759.0 -9166.0  -537.0   \n",
       "ndwi2           4380548.0  -132.785238  8622.007141 -32759.0 -7352.0  2372.0   \n",
       "\n",
       "                   75%      max  \n",
       "sur_refl_b01_1   638.0  16000.0  \n",
       "sur_refl_b02_1  2651.0  16000.0  \n",
       "sur_refl_b03_1   366.0  15361.0  \n",
       "sur_refl_b04_1   661.0  16000.0  \n",
       "sur_refl_b05_1  2987.0  16000.0  \n",
       "sur_refl_b06_1  2091.0  16000.0  \n",
       "sur_refl_b07_1   985.0  14952.0  \n",
       "ndvi            6711.0  32762.0  \n",
       "ndwi1           2039.0  32767.0  \n",
       "ndwi2           5865.0  32767.0  "
      ]
     },
     "execution_count": 8,
     "metadata": {},
     "output_type": "execute_result"
    }
   ],
   "source": [
    "X_train.describe().T"
   ]
  },
  {
   "cell_type": "code",
   "execution_count": 9,
   "metadata": {},
   "outputs": [],
   "source": [
    "def output_interesting_idx(df, column, threshold, greaterThan=True):\n",
    "    dfToReturn = df[df[column] > threshold] if \\\n",
    "        greaterThan else df[df[column] < threshold]\n",
    "    return dfToReturn"
   ]
  },
  {
   "cell_type": "code",
   "execution_count": 10,
   "metadata": {},
   "outputs": [
    {
     "data": {
      "text/html": [
       "<div>\n",
       "<style scoped>\n",
       "    .dataframe tbody tr th:only-of-type {\n",
       "        vertical-align: middle;\n",
       "    }\n",
       "\n",
       "    .dataframe tbody tr th {\n",
       "        vertical-align: top;\n",
       "    }\n",
       "\n",
       "    .dataframe thead th {\n",
       "        text-align: right;\n",
       "    }\n",
       "</style>\n",
       "<table border=\"1\" class=\"dataframe\">\n",
       "  <thead>\n",
       "    <tr style=\"text-align: right;\">\n",
       "      <th></th>\n",
       "      <th>sur_refl_b01_1</th>\n",
       "      <th>sur_refl_b02_1</th>\n",
       "      <th>sur_refl_b03_1</th>\n",
       "      <th>sur_refl_b04_1</th>\n",
       "      <th>sur_refl_b05_1</th>\n",
       "      <th>sur_refl_b06_1</th>\n",
       "      <th>sur_refl_b07_1</th>\n",
       "      <th>ndvi</th>\n",
       "      <th>ndwi1</th>\n",
       "      <th>ndwi2</th>\n",
       "    </tr>\n",
       "  </thead>\n",
       "  <tbody>\n",
       "    <tr>\n",
       "      <th>1300861</th>\n",
       "      <td>-74</td>\n",
       "      <td>42</td>\n",
       "      <td>-100</td>\n",
       "      <td>-100</td>\n",
       "      <td>63</td>\n",
       "      <td>69</td>\n",
       "      <td>85</td>\n",
       "      <td>29286</td>\n",
       "      <td>-2432</td>\n",
       "      <td>-3385</td>\n",
       "    </tr>\n",
       "    <tr>\n",
       "      <th>2283885</th>\n",
       "      <td>-7</td>\n",
       "      <td>28</td>\n",
       "      <td>139</td>\n",
       "      <td>122</td>\n",
       "      <td>36</td>\n",
       "      <td>225</td>\n",
       "      <td>201</td>\n",
       "      <td>16666</td>\n",
       "      <td>-7786</td>\n",
       "      <td>-7554</td>\n",
       "    </tr>\n",
       "    <tr>\n",
       "      <th>1536769</th>\n",
       "      <td>-100</td>\n",
       "      <td>422</td>\n",
       "      <td>-100</td>\n",
       "      <td>-100</td>\n",
       "      <td>1521</td>\n",
       "      <td>2108</td>\n",
       "      <td>1841</td>\n",
       "      <td>16211</td>\n",
       "      <td>-6664</td>\n",
       "      <td>-6270</td>\n",
       "    </tr>\n",
       "    <tr>\n",
       "      <th>996495</th>\n",
       "      <td>-2</td>\n",
       "      <td>11</td>\n",
       "      <td>58</td>\n",
       "      <td>29</td>\n",
       "      <td>22</td>\n",
       "      <td>37</td>\n",
       "      <td>36</td>\n",
       "      <td>14444</td>\n",
       "      <td>-5416</td>\n",
       "      <td>-5319</td>\n",
       "    </tr>\n",
       "    <tr>\n",
       "      <th>2517630</th>\n",
       "      <td>-1</td>\n",
       "      <td>4</td>\n",
       "      <td>-59</td>\n",
       "      <td>25</td>\n",
       "      <td>-85</td>\n",
       "      <td>258</td>\n",
       "      <td>60</td>\n",
       "      <td>16666</td>\n",
       "      <td>-9694</td>\n",
       "      <td>-8750</td>\n",
       "    </tr>\n",
       "    <tr>\n",
       "      <th>...</th>\n",
       "      <td>...</td>\n",
       "      <td>...</td>\n",
       "      <td>...</td>\n",
       "      <td>...</td>\n",
       "      <td>...</td>\n",
       "      <td>...</td>\n",
       "      <td>...</td>\n",
       "      <td>...</td>\n",
       "      <td>...</td>\n",
       "      <td>...</td>\n",
       "    </tr>\n",
       "    <tr>\n",
       "      <th>4227691</th>\n",
       "      <td>28</td>\n",
       "      <td>-17</td>\n",
       "      <td>215</td>\n",
       "      <td>151</td>\n",
       "      <td>-26</td>\n",
       "      <td>95</td>\n",
       "      <td>39</td>\n",
       "      <td>24627</td>\n",
       "      <td>-14358</td>\n",
       "      <td>-25454</td>\n",
       "    </tr>\n",
       "    <tr>\n",
       "      <th>5269310</th>\n",
       "      <td>-1</td>\n",
       "      <td>8</td>\n",
       "      <td>41</td>\n",
       "      <td>55</td>\n",
       "      <td>11</td>\n",
       "      <td>82</td>\n",
       "      <td>40</td>\n",
       "      <td>12857</td>\n",
       "      <td>-8222</td>\n",
       "      <td>-6666</td>\n",
       "    </tr>\n",
       "    <tr>\n",
       "      <th>2973938</th>\n",
       "      <td>-1</td>\n",
       "      <td>82</td>\n",
       "      <td>148</td>\n",
       "      <td>121</td>\n",
       "      <td>236</td>\n",
       "      <td>905</td>\n",
       "      <td>769</td>\n",
       "      <td>10246</td>\n",
       "      <td>-8338</td>\n",
       "      <td>-8072</td>\n",
       "    </tr>\n",
       "    <tr>\n",
       "      <th>2861208</th>\n",
       "      <td>24</td>\n",
       "      <td>-15</td>\n",
       "      <td>236</td>\n",
       "      <td>159</td>\n",
       "      <td>14</td>\n",
       "      <td>78</td>\n",
       "      <td>62</td>\n",
       "      <td>22203</td>\n",
       "      <td>-14761</td>\n",
       "      <td>-16382</td>\n",
       "    </tr>\n",
       "    <tr>\n",
       "      <th>1152522</th>\n",
       "      <td>49</td>\n",
       "      <td>-32</td>\n",
       "      <td>443</td>\n",
       "      <td>319</td>\n",
       "      <td>-27</td>\n",
       "      <td>69</td>\n",
       "      <td>59</td>\n",
       "      <td>17889</td>\n",
       "      <td>-27297</td>\n",
       "      <td>31833</td>\n",
       "    </tr>\n",
       "  </tbody>\n",
       "</table>\n",
       "<p>82565 rows × 10 columns</p>\n",
       "</div>"
      ],
      "text/plain": [
       "         sur_refl_b01_1  sur_refl_b02_1  sur_refl_b03_1  sur_refl_b04_1  \\\n",
       "1300861             -74              42            -100            -100   \n",
       "2283885              -7              28             139             122   \n",
       "1536769            -100             422            -100            -100   \n",
       "996495               -2              11              58              29   \n",
       "2517630              -1               4             -59              25   \n",
       "...                 ...             ...             ...             ...   \n",
       "4227691              28             -17             215             151   \n",
       "5269310              -1               8              41              55   \n",
       "2973938              -1              82             148             121   \n",
       "2861208              24             -15             236             159   \n",
       "1152522              49             -32             443             319   \n",
       "\n",
       "         sur_refl_b05_1  sur_refl_b06_1  sur_refl_b07_1   ndvi  ndwi1  ndwi2  \n",
       "1300861              63              69              85  29286  -2432  -3385  \n",
       "2283885              36             225             201  16666  -7786  -7554  \n",
       "1536769            1521            2108            1841  16211  -6664  -6270  \n",
       "996495               22              37              36  14444  -5416  -5319  \n",
       "2517630             -85             258              60  16666  -9694  -8750  \n",
       "...                 ...             ...             ...    ...    ...    ...  \n",
       "4227691             -26              95              39  24627 -14358 -25454  \n",
       "5269310              11              82              40  12857  -8222  -6666  \n",
       "2973938             236             905             769  10246  -8338  -8072  \n",
       "2861208              14              78              62  22203 -14761 -16382  \n",
       "1152522             -27              69              59  17889 -27297  31833  \n",
       "\n",
       "[82565 rows x 10 columns]"
      ]
     },
     "execution_count": 10,
     "metadata": {},
     "output_type": "execute_result"
    }
   ],
   "source": [
    "output_interesting_idx(X_train, 'ndvi', 10000)"
   ]
  },
  {
   "cell_type": "code",
   "execution_count": 11,
   "metadata": {},
   "outputs": [
    {
     "data": {
      "text/html": [
       "<div>\n",
       "<style scoped>\n",
       "    .dataframe tbody tr th:only-of-type {\n",
       "        vertical-align: middle;\n",
       "    }\n",
       "\n",
       "    .dataframe tbody tr th {\n",
       "        vertical-align: top;\n",
       "    }\n",
       "\n",
       "    .dataframe thead th {\n",
       "        text-align: right;\n",
       "    }\n",
       "</style>\n",
       "<table border=\"1\" class=\"dataframe\">\n",
       "  <thead>\n",
       "    <tr style=\"text-align: right;\">\n",
       "      <th></th>\n",
       "      <th>sur_refl_b01_1</th>\n",
       "      <th>sur_refl_b02_1</th>\n",
       "      <th>sur_refl_b03_1</th>\n",
       "      <th>sur_refl_b04_1</th>\n",
       "      <th>sur_refl_b05_1</th>\n",
       "      <th>sur_refl_b06_1</th>\n",
       "      <th>sur_refl_b07_1</th>\n",
       "      <th>ndvi</th>\n",
       "      <th>ndwi1</th>\n",
       "      <th>ndwi2</th>\n",
       "    </tr>\n",
       "  </thead>\n",
       "  <tbody>\n",
       "    <tr>\n",
       "      <th>2347366</th>\n",
       "      <td>-100</td>\n",
       "      <td>-97</td>\n",
       "      <td>19</td>\n",
       "      <td>-22</td>\n",
       "      <td>-99</td>\n",
       "      <td>47</td>\n",
       "      <td>28</td>\n",
       "      <td>-152</td>\n",
       "      <td>28800</td>\n",
       "      <td>18115</td>\n",
       "    </tr>\n",
       "    <tr>\n",
       "      <th>869820</th>\n",
       "      <td>-22</td>\n",
       "      <td>-39</td>\n",
       "      <td>267</td>\n",
       "      <td>61</td>\n",
       "      <td>-14</td>\n",
       "      <td>58</td>\n",
       "      <td>36</td>\n",
       "      <td>2786</td>\n",
       "      <td>14484</td>\n",
       "      <td>-12144</td>\n",
       "    </tr>\n",
       "    <tr>\n",
       "      <th>2051860</th>\n",
       "      <td>-100</td>\n",
       "      <td>-100</td>\n",
       "      <td>15</td>\n",
       "      <td>-35</td>\n",
       "      <td>-34</td>\n",
       "      <td>96</td>\n",
       "      <td>76</td>\n",
       "      <td>0</td>\n",
       "      <td>31248</td>\n",
       "      <td>7797</td>\n",
       "    </tr>\n",
       "    <tr>\n",
       "      <th>1269679</th>\n",
       "      <td>-35</td>\n",
       "      <td>-26</td>\n",
       "      <td>-100</td>\n",
       "      <td>-36</td>\n",
       "      <td>-15</td>\n",
       "      <td>43</td>\n",
       "      <td>17</td>\n",
       "      <td>-1475</td>\n",
       "      <td>24948</td>\n",
       "      <td>-17759</td>\n",
       "    </tr>\n",
       "    <tr>\n",
       "      <th>2522695</th>\n",
       "      <td>0</td>\n",
       "      <td>-54</td>\n",
       "      <td>204</td>\n",
       "      <td>147</td>\n",
       "      <td>-18</td>\n",
       "      <td>47</td>\n",
       "      <td>52</td>\n",
       "      <td>10000</td>\n",
       "      <td>13213</td>\n",
       "      <td>5712</td>\n",
       "    </tr>\n",
       "    <tr>\n",
       "      <th>...</th>\n",
       "      <td>...</td>\n",
       "      <td>...</td>\n",
       "      <td>...</td>\n",
       "      <td>...</td>\n",
       "      <td>...</td>\n",
       "      <td>...</td>\n",
       "      <td>...</td>\n",
       "      <td>...</td>\n",
       "      <td>...</td>\n",
       "      <td>...</td>\n",
       "    </tr>\n",
       "    <tr>\n",
       "      <th>3861144</th>\n",
       "      <td>-9</td>\n",
       "      <td>-50</td>\n",
       "      <td>157</td>\n",
       "      <td>154</td>\n",
       "      <td>-64</td>\n",
       "      <td>87</td>\n",
       "      <td>36</td>\n",
       "      <td>6949</td>\n",
       "      <td>28509</td>\n",
       "      <td>-4108</td>\n",
       "    </tr>\n",
       "    <tr>\n",
       "      <th>1708017</th>\n",
       "      <td>81</td>\n",
       "      <td>-34</td>\n",
       "      <td>315</td>\n",
       "      <td>379</td>\n",
       "      <td>-65</td>\n",
       "      <td>56</td>\n",
       "      <td>66</td>\n",
       "      <td>-24468</td>\n",
       "      <td>24627</td>\n",
       "      <td>-31250</td>\n",
       "    </tr>\n",
       "    <tr>\n",
       "      <th>4867921</th>\n",
       "      <td>-15</td>\n",
       "      <td>-34</td>\n",
       "      <td>122</td>\n",
       "      <td>90</td>\n",
       "      <td>-31</td>\n",
       "      <td>63</td>\n",
       "      <td>32</td>\n",
       "      <td>3877</td>\n",
       "      <td>32088</td>\n",
       "      <td>2320</td>\n",
       "    </tr>\n",
       "    <tr>\n",
       "      <th>5455083</th>\n",
       "      <td>7</td>\n",
       "      <td>-16</td>\n",
       "      <td>123</td>\n",
       "      <td>93</td>\n",
       "      <td>4</td>\n",
       "      <td>14</td>\n",
       "      <td>17</td>\n",
       "      <td>25555</td>\n",
       "      <td>18928</td>\n",
       "      <td>-2320</td>\n",
       "    </tr>\n",
       "    <tr>\n",
       "      <th>1653826</th>\n",
       "      <td>142</td>\n",
       "      <td>-58</td>\n",
       "      <td>132</td>\n",
       "      <td>365</td>\n",
       "      <td>-19</td>\n",
       "      <td>19</td>\n",
       "      <td>1</td>\n",
       "      <td>-23809</td>\n",
       "      <td>19743</td>\n",
       "      <td>10350</td>\n",
       "    </tr>\n",
       "  </tbody>\n",
       "</table>\n",
       "<p>33905 rows × 10 columns</p>\n",
       "</div>"
      ],
      "text/plain": [
       "         sur_refl_b01_1  sur_refl_b02_1  sur_refl_b03_1  sur_refl_b04_1  \\\n",
       "2347366            -100             -97              19             -22   \n",
       "869820              -22             -39             267              61   \n",
       "2051860            -100            -100              15             -35   \n",
       "1269679             -35             -26            -100             -36   \n",
       "2522695               0             -54             204             147   \n",
       "...                 ...             ...             ...             ...   \n",
       "3861144              -9             -50             157             154   \n",
       "1708017              81             -34             315             379   \n",
       "4867921             -15             -34             122              90   \n",
       "5455083               7             -16             123              93   \n",
       "1653826             142             -58             132             365   \n",
       "\n",
       "         sur_refl_b05_1  sur_refl_b06_1  sur_refl_b07_1   ndvi  ndwi1  ndwi2  \n",
       "2347366             -99              47              28   -152  28800  18115  \n",
       "869820              -14              58              36   2786  14484 -12144  \n",
       "2051860             -34              96              76      0  31248   7797  \n",
       "1269679             -15              43              17  -1475  24948 -17759  \n",
       "2522695             -18              47              52  10000  13213   5712  \n",
       "...                 ...             ...             ...    ...    ...    ...  \n",
       "3861144             -64              87              36   6949  28509  -4108  \n",
       "1708017             -65              56              66 -24468  24627 -31250  \n",
       "4867921             -31              63              32   3877  32088   2320  \n",
       "5455083               4              14              17  25555  18928  -2320  \n",
       "1653826             -19              19               1 -23809  19743  10350  \n",
       "\n",
       "[33905 rows x 10 columns]"
      ]
     },
     "execution_count": 11,
     "metadata": {},
     "output_type": "execute_result"
    }
   ],
   "source": [
    "output_interesting_idx(X_train, 'ndwi1', 10000)"
   ]
  },
  {
   "cell_type": "code",
   "execution_count": 12,
   "metadata": {},
   "outputs": [
    {
     "data": {
      "text/html": [
       "<div>\n",
       "<style scoped>\n",
       "    .dataframe tbody tr th:only-of-type {\n",
       "        vertical-align: middle;\n",
       "    }\n",
       "\n",
       "    .dataframe tbody tr th {\n",
       "        vertical-align: top;\n",
       "    }\n",
       "\n",
       "    .dataframe thead th {\n",
       "        text-align: right;\n",
       "    }\n",
       "</style>\n",
       "<table border=\"1\" class=\"dataframe\">\n",
       "  <thead>\n",
       "    <tr style=\"text-align: right;\">\n",
       "      <th></th>\n",
       "      <th>sur_refl_b01_1</th>\n",
       "      <th>sur_refl_b02_1</th>\n",
       "      <th>sur_refl_b03_1</th>\n",
       "      <th>sur_refl_b04_1</th>\n",
       "      <th>sur_refl_b05_1</th>\n",
       "      <th>sur_refl_b06_1</th>\n",
       "      <th>sur_refl_b07_1</th>\n",
       "      <th>ndvi</th>\n",
       "      <th>ndwi1</th>\n",
       "      <th>ndwi2</th>\n",
       "    </tr>\n",
       "  </thead>\n",
       "  <tbody>\n",
       "    <tr>\n",
       "      <th>4845452</th>\n",
       "      <td>417</td>\n",
       "      <td>364</td>\n",
       "      <td>303</td>\n",
       "      <td>514</td>\n",
       "      <td>369</td>\n",
       "      <td>253</td>\n",
       "      <td>-4</td>\n",
       "      <td>-678</td>\n",
       "      <td>1799</td>\n",
       "      <td>10222</td>\n",
       "    </tr>\n",
       "    <tr>\n",
       "      <th>2347366</th>\n",
       "      <td>-100</td>\n",
       "      <td>-97</td>\n",
       "      <td>19</td>\n",
       "      <td>-22</td>\n",
       "      <td>-99</td>\n",
       "      <td>47</td>\n",
       "      <td>28</td>\n",
       "      <td>-152</td>\n",
       "      <td>28800</td>\n",
       "      <td>18115</td>\n",
       "    </tr>\n",
       "    <tr>\n",
       "      <th>3997402</th>\n",
       "      <td>16</td>\n",
       "      <td>-4</td>\n",
       "      <td>119</td>\n",
       "      <td>98</td>\n",
       "      <td>-1</td>\n",
       "      <td>42</td>\n",
       "      <td>2</td>\n",
       "      <td>-16666</td>\n",
       "      <td>-12105</td>\n",
       "      <td>30000</td>\n",
       "    </tr>\n",
       "    <tr>\n",
       "      <th>3512429</th>\n",
       "      <td>-7</td>\n",
       "      <td>-32</td>\n",
       "      <td>181</td>\n",
       "      <td>133</td>\n",
       "      <td>12</td>\n",
       "      <td>41</td>\n",
       "      <td>26</td>\n",
       "      <td>6410</td>\n",
       "      <td>-15575</td>\n",
       "      <td>31130</td>\n",
       "    </tr>\n",
       "    <tr>\n",
       "      <th>5059861</th>\n",
       "      <td>107</td>\n",
       "      <td>67</td>\n",
       "      <td>119</td>\n",
       "      <td>139</td>\n",
       "      <td>209</td>\n",
       "      <td>210</td>\n",
       "      <td>-1</td>\n",
       "      <td>-2298</td>\n",
       "      <td>-5162</td>\n",
       "      <td>10303</td>\n",
       "    </tr>\n",
       "    <tr>\n",
       "      <th>...</th>\n",
       "      <td>...</td>\n",
       "      <td>...</td>\n",
       "      <td>...</td>\n",
       "      <td>...</td>\n",
       "      <td>...</td>\n",
       "      <td>...</td>\n",
       "      <td>...</td>\n",
       "      <td>...</td>\n",
       "      <td>...</td>\n",
       "      <td>...</td>\n",
       "    </tr>\n",
       "    <tr>\n",
       "      <th>1124617</th>\n",
       "      <td>245</td>\n",
       "      <td>273</td>\n",
       "      <td>168</td>\n",
       "      <td>323</td>\n",
       "      <td>205</td>\n",
       "      <td>171</td>\n",
       "      <td>-16</td>\n",
       "      <td>540</td>\n",
       "      <td>2297</td>\n",
       "      <td>11245</td>\n",
       "    </tr>\n",
       "    <tr>\n",
       "      <th>3834419</th>\n",
       "      <td>1293</td>\n",
       "      <td>596</td>\n",
       "      <td>655</td>\n",
       "      <td>1137</td>\n",
       "      <td>217</td>\n",
       "      <td>153</td>\n",
       "      <td>-5</td>\n",
       "      <td>-3689</td>\n",
       "      <td>5914</td>\n",
       "      <td>10169</td>\n",
       "    </tr>\n",
       "    <tr>\n",
       "      <th>721487</th>\n",
       "      <td>-35</td>\n",
       "      <td>-44</td>\n",
       "      <td>96</td>\n",
       "      <td>49</td>\n",
       "      <td>-37</td>\n",
       "      <td>104</td>\n",
       "      <td>72</td>\n",
       "      <td>1139</td>\n",
       "      <td>-24666</td>\n",
       "      <td>24108</td>\n",
       "    </tr>\n",
       "    <tr>\n",
       "      <th>1653826</th>\n",
       "      <td>142</td>\n",
       "      <td>-58</td>\n",
       "      <td>132</td>\n",
       "      <td>365</td>\n",
       "      <td>-19</td>\n",
       "      <td>19</td>\n",
       "      <td>1</td>\n",
       "      <td>-23809</td>\n",
       "      <td>19743</td>\n",
       "      <td>10350</td>\n",
       "    </tr>\n",
       "    <tr>\n",
       "      <th>1152522</th>\n",
       "      <td>49</td>\n",
       "      <td>-32</td>\n",
       "      <td>443</td>\n",
       "      <td>319</td>\n",
       "      <td>-27</td>\n",
       "      <td>69</td>\n",
       "      <td>59</td>\n",
       "      <td>17889</td>\n",
       "      <td>-27297</td>\n",
       "      <td>31833</td>\n",
       "    </tr>\n",
       "  </tbody>\n",
       "</table>\n",
       "<p>112235 rows × 10 columns</p>\n",
       "</div>"
      ],
      "text/plain": [
       "         sur_refl_b01_1  sur_refl_b02_1  sur_refl_b03_1  sur_refl_b04_1  \\\n",
       "4845452             417             364             303             514   \n",
       "2347366            -100             -97              19             -22   \n",
       "3997402              16              -4             119              98   \n",
       "3512429              -7             -32             181             133   \n",
       "5059861             107              67             119             139   \n",
       "...                 ...             ...             ...             ...   \n",
       "1124617             245             273             168             323   \n",
       "3834419            1293             596             655            1137   \n",
       "721487              -35             -44              96              49   \n",
       "1653826             142             -58             132             365   \n",
       "1152522              49             -32             443             319   \n",
       "\n",
       "         sur_refl_b05_1  sur_refl_b06_1  sur_refl_b07_1   ndvi  ndwi1  ndwi2  \n",
       "4845452             369             253              -4   -678   1799  10222  \n",
       "2347366             -99              47              28   -152  28800  18115  \n",
       "3997402              -1              42               2 -16666 -12105  30000  \n",
       "3512429              12              41              26   6410 -15575  31130  \n",
       "5059861             209             210              -1  -2298  -5162  10303  \n",
       "...                 ...             ...             ...    ...    ...    ...  \n",
       "1124617             205             171             -16    540   2297  11245  \n",
       "3834419             217             153              -5  -3689   5914  10169  \n",
       "721487              -37             104              72   1139 -24666  24108  \n",
       "1653826             -19              19               1 -23809  19743  10350  \n",
       "1152522             -27              69              59  17889 -27297  31833  \n",
       "\n",
       "[112235 rows x 10 columns]"
      ]
     },
     "execution_count": 12,
     "metadata": {},
     "output_type": "execute_result"
    }
   ],
   "source": [
    "output_interesting_idx(X_train, 'ndwi2', 10000)"
   ]
  },
  {
   "cell_type": "markdown",
   "metadata": {},
   "source": [
    "## Stacking Classifier\n",
    "\n",
    "The level 0 (l0) models are the models that train on the actual training data and predict the actual test data. The level 1 model trains on the predictions of the level 0 models. Level 1 models attempt to learn which models perform well and make a final prediction given the level 0 model's predictions. "
   ]
  },
  {
   "cell_type": "code",
   "execution_count": 14,
   "metadata": {},
   "outputs": [],
   "source": [
    "l0 = []\n",
    "l0.append(('rf', skRF(n_estimators=400, n_jobs=-1, warm_start=True)))\n",
    "l0.append(('xgb', xgb.XGBClassifier(n_estimators=200, n_jobs=-1, learning_rate=0.003)))\n",
    "\n",
    "l1 = xgb.XGBClassifier(n_estimators=200, n_jobs=-1, learning_rate=0.003)\n",
    "classifier = StackingClassifier(estimators=l0, final_estimator=l1, cv=5)"
   ]
  },
  {
   "cell_type": "code",
   "execution_count": 15,
   "metadata": {},
   "outputs": [
    {
     "name": "stdout",
     "output_type": "stream",
     "text": [
      "[16:44:23] WARNING: /opt/conda/envs/rapids/conda-bld/xgboost_1623267594558/work/src/learner.cc:1095: Starting in XGBoost 1.3.0, the default evaluation metric used with the objective 'binary:logistic' was changed from 'error' to 'logloss'. Explicitly set eval_metric if you'd like to restore the old behavior.\n",
      "[17:12:35] WARNING: /opt/conda/envs/rapids/conda-bld/xgboost_1623267594558/work/src/learner.cc:1095: Starting in XGBoost 1.3.0, the default evaluation metric used with the objective 'binary:logistic' was changed from 'error' to 'logloss'. Explicitly set eval_metric if you'd like to restore the old behavior.\n",
      "[17:14:32] WARNING: /opt/conda/envs/rapids/conda-bld/xgboost_1623267594558/work/src/learner.cc:1095: Starting in XGBoost 1.3.0, the default evaluation metric used with the objective 'binary:logistic' was changed from 'error' to 'logloss'. Explicitly set eval_metric if you'd like to restore the old behavior.\n",
      "[17:16:30] WARNING: /opt/conda/envs/rapids/conda-bld/xgboost_1623267594558/work/src/learner.cc:1095: Starting in XGBoost 1.3.0, the default evaluation metric used with the objective 'binary:logistic' was changed from 'error' to 'logloss'. Explicitly set eval_metric if you'd like to restore the old behavior.\n",
      "[17:18:28] WARNING: /opt/conda/envs/rapids/conda-bld/xgboost_1623267594558/work/src/learner.cc:1095: Starting in XGBoost 1.3.0, the default evaluation metric used with the objective 'binary:logistic' was changed from 'error' to 'logloss'. Explicitly set eval_metric if you'd like to restore the old behavior.\n",
      "[17:20:25] WARNING: /opt/conda/envs/rapids/conda-bld/xgboost_1623267594558/work/src/learner.cc:1095: Starting in XGBoost 1.3.0, the default evaluation metric used with the objective 'binary:logistic' was changed from 'error' to 'logloss'. Explicitly set eval_metric if you'd like to restore the old behavior.\n",
      "[17:22:22] WARNING: /opt/conda/envs/rapids/conda-bld/xgboost_1623267594558/work/src/learner.cc:1095: Starting in XGBoost 1.3.0, the default evaluation metric used with the objective 'binary:logistic' was changed from 'error' to 'logloss'. Explicitly set eval_metric if you'd like to restore the old behavior.\n"
     ]
    },
    {
     "data": {
      "text/plain": [
       "StackingClassifier(cv=5,\n",
       "                   estimators=[('rf',\n",
       "                                RandomForestClassifier(n_estimators=400,\n",
       "                                                       n_jobs=-1,\n",
       "                                                       warm_start=True)),\n",
       "                               ('xgb',\n",
       "                                XGBClassifier(base_score=None, booster=None,\n",
       "                                              colsample_bylevel=None,\n",
       "                                              colsample_bynode=None,\n",
       "                                              colsample_bytree=None, gamma=None,\n",
       "                                              gpu_id=None,\n",
       "                                              importance_type='gain',\n",
       "                                              interaction_constraints=None,\n",
       "                                              learning_rate=0.003,\n",
       "                                              max_delta_step=None,\n",
       "                                              max_dept...\n",
       "                                                 importance_type='gain',\n",
       "                                                 interaction_constraints=None,\n",
       "                                                 learning_rate=0.003,\n",
       "                                                 max_delta_step=None,\n",
       "                                                 max_depth=None,\n",
       "                                                 min_child_weight=None,\n",
       "                                                 missing=nan,\n",
       "                                                 monotone_constraints=None,\n",
       "                                                 n_estimators=200, n_jobs=-1,\n",
       "                                                 num_parallel_tree=None,\n",
       "                                                 random_state=None,\n",
       "                                                 reg_alpha=None,\n",
       "                                                 reg_lambda=None,\n",
       "                                                 scale_pos_weight=None,\n",
       "                                                 subsample=None,\n",
       "                                                 tree_method=None,\n",
       "                                                 validate_parameters=None,\n",
       "                                                 verbosity=None))"
      ]
     },
     "execution_count": 15,
     "metadata": {},
     "output_type": "execute_result"
    }
   ],
   "source": [
    "classifier.fit(X_train, y_train)"
   ]
  },
  {
   "cell_type": "markdown",
   "metadata": {},
   "source": [
    "## Model testing and training/testing data validation"
   ]
  },
  {
   "cell_type": "markdown",
   "metadata": {},
   "source": [
    "### Get model metrics"
   ]
  },
  {
   "cell_type": "code",
   "execution_count": 17,
   "metadata": {},
   "outputs": [
    {
     "data": {
      "text/plain": [
       "0.969"
      ]
     },
     "execution_count": 17,
     "metadata": {},
     "output_type": "execute_result"
    }
   ],
   "source": [
    "score = classifier.score(X_test, y_test)\n",
    "score = round(score, 3)\n",
    "score"
   ]
  },
  {
   "cell_type": "code",
   "execution_count": 18,
   "metadata": {},
   "outputs": [],
   "source": [
    "train_predictions = classifier.predict(X_train)\n",
    "test_predictions = classifier.predict(X_test)\n",
    "prediction_probs = classifier.predict_proba(X_test)"
   ]
  },
  {
   "cell_type": "code",
   "execution_count": 19,
   "metadata": {},
   "outputs": [],
   "source": [
    "predictionProbabilityList = list()\n",
    "for i, subarr in enumerate(prediction_probs):\n",
    "    predictionProbabilityList.append(subarr[1])\n",
    "predictionProbabilityArray = np.asarray(predictionProbabilityList)"
   ]
  },
  {
   "cell_type": "code",
   "execution_count": 20,
   "metadata": {},
   "outputs": [
    {
     "data": {
      "text/plain": [
       "Text(0.5, 1.0, 'Distribution of the probability of predicted values')"
      ]
     },
     "execution_count": 20,
     "metadata": {},
     "output_type": "execute_result"
    },
    {
     "data": {
      "image/png": "[encoded data removed]",
      "text/plain": [
       "<Figure size 360x360 with 1 Axes>"
      ]
     },
     "metadata": {
      "needs_background": "light"
     },
     "output_type": "display_data"
    }
   ],
   "source": [
    "sns.displot(predictionProbabilityArray, bins=30)\n",
    "plt.title('Distribution of the probability of predicted values')"
   ]
  },
  {
   "cell_type": "code",
   "execution_count": 21,
   "metadata": {},
   "outputs": [],
   "source": [
    "test_predictions = test_predictions.astype(np.int16)\n",
    "y_test_int = y_test.astype(np.int16)"
   ]
  },
  {
   "cell_type": "code",
   "execution_count": 22,
   "metadata": {},
   "outputs": [
    {
     "name": "stdout",
     "output_type": "stream",
     "text": [
      "Test Performance\n",
      "-------------------------------------------------------\n",
      "              precision    recall  f1-score   support\n",
      "\n",
      "           0       0.98      0.96      0.97    580558\n",
      "           1       0.95      0.98      0.97    514579\n",
      "\n",
      "    accuracy                           0.97   1095137\n",
      "   macro avg       0.97      0.97      0.97   1095137\n",
      "weighted avg       0.97      0.97      0.97   1095137\n",
      "\n",
      "Test Recall\n",
      "-------------------------------------------------------\n",
      "0.9580696502330517\n",
      "Confusion Matrix\n",
      "-------------------------------------------------------\n",
      "[[556215  24343]\n",
      " [  9995 504584]]\n"
     ]
    }
   ],
   "source": [
    "print('Test Performance')\n",
    "print('-------------------------------------------------------')\n",
    "print(classification_report(y_test, test_predictions))\n",
    "cm = confusion_matrix(y_test_int, test_predictions)\n",
    "recall = (cm[0][0] / (cm[0][0] + cm[0][1]))\n",
    "print('Test Recall')\n",
    "print('-------------------------------------------------------')\n",
    "print(recall)\n",
    "print('Confusion Matrix')\n",
    "print('-------------------------------------------------------')\n",
    "print(cm)"
   ]
  },
  {
   "cell_type": "code",
   "execution_count": 23,
   "metadata": {},
   "outputs": [
    {
     "data": {
      "image/png": "[encoded data removed]",
      "text/plain": [
       "<Figure size 432x288 with 1 Axes>"
      ]
     },
     "metadata": {
      "needs_background": "light"
     },
     "output_type": "display_data"
    }
   ],
   "source": [
    "probs = classifier.predict_proba(X_test)\n",
    "preds = probs[:, 1]\n",
    "fpr, tpr, threshold = metrics.roc_curve(y_test, preds)\n",
    "roc_auc = metrics.auc(fpr, tpr)\n",
    "\n",
    "plt.title('Receiver Operating Characteristic')\n",
    "plt.plot(fpr, tpr, 'red', label = 'ROC-AUC score = %0.2f' % roc_auc)\n",
    "plt.legend(loc = 'lower right')\n",
    "plt.plot([0, 1], [0, 1],'b--')\n",
    "plt.xlim([0, 1])\n",
    "plt.ylim([0, 1])\n",
    "plt.ylabel('True Positive Rate')\n",
    "plt.xlabel('False Positive Rate')\n",
    "plt.show()"
   ]
  },
  {
   "cell_type": "markdown",
   "metadata": {},
   "source": [
    "## Permutation importance"
   ]
  },
  {
   "cell_type": "code",
   "execution_count": 24,
   "metadata": {},
   "outputs": [],
   "source": [
    "permutation_importance_results = permutation_importance(classifier,\n",
    "                                                        X=X_test,\n",
    "                                                        y=y_test,\n",
    "                                                        n_repeats=10,\n",
    "                                                        random_state=42)"
   ]
  },
  {
   "cell_type": "code",
   "execution_count": 26,
   "metadata": {},
   "outputs": [
    {
     "data": {
      "image/png": "[encoded data removed]",
      "text/plain": [
       "<Figure size 576x576 with 1 Axes>"
      ]
     },
     "metadata": {
      "needs_background": "light"
     },
     "output_type": "display_data"
    }
   ],
   "source": [
    "png_save_path = 'mw_{}_{}_{}_{}_permutation_importance.png'.format(\n",
    "    TILE,\n",
    "    score,\n",
    "    MODEL,\n",
    "    datetime.datetime.now().strftime('%Y_%m_%d_%H_%M'))\n",
    "\n",
    "png_save_path = os.path.join(FIGURE_OUTPUT_DIR, png_save_path)\n",
    "\n",
    "sorted_idx = permutation_importance_results.importances_mean.argsort()\n",
    "plt.figure(figsize=(8, 8))\n",
    "plt.barh(X_test.columns[sorted_idx], permutation_importance_results.importances_mean[sorted_idx])\n",
    "plt.xlabel(\"Permutation Importance\")\n",
    "plt.savefig(png_save_path)"
   ]
  },
  {
   "cell_type": "code",
   "execution_count": 27,
   "metadata": {},
   "outputs": [],
   "source": [
    "del X_train, X_test, y_train, y_test, test_predictions, train_predictions, y_test_int"
   ]
  },
  {
   "cell_type": "markdown",
   "metadata": {},
   "source": [
    "## Save the model for future use"
   ]
  },
  {
   "cell_type": "code",
   "execution_count": 29,
   "metadata": {},
   "outputs": [
    {
     "name": "stdout",
     "output_type": "stream",
     "text": [
      "Saving model to: /att/nobackup/cssprad1/projects/modis_water/models/mw_global_0.969_ensemble_gpu_tuned_2022_02_08_20_37.sav\n",
      "StackingClassifier(cv=5,\n",
      "                   estimators=[('rf',\n",
      "                                RandomForestClassifier(n_estimators=400,\n",
      "                                                       n_jobs=-1,\n",
      "                                                       warm_start=True)),\n",
      "                               ('xgb',\n",
      "                                XGBClassifier(base_score=None, booster=None,\n",
      "                                              colsample_bylevel=None,\n",
      "                                              colsample_bynode=None,\n",
      "                                              colsample_bytree=None, gamma=None,\n",
      "                                              gpu_id=None,\n",
      "                                              importance_type='gain',\n",
      "                                              interaction_constraints=None,\n",
      "                                              learning_rate=0.003,\n",
      "                                              max_delta_step=None,\n",
      "                                              max_dept...\n",
      "                                                 importance_type='gain',\n",
      "                                                 interaction_constraints=None,\n",
      "                                                 learning_rate=0.003,\n",
      "                                                 max_delta_step=None,\n",
      "                                                 max_depth=None,\n",
      "                                                 min_child_weight=None,\n",
      "                                                 missing=nan,\n",
      "                                                 monotone_constraints=None,\n",
      "                                                 n_estimators=200, n_jobs=-1,\n",
      "                                                 num_parallel_tree=None,\n",
      "                                                 random_state=None,\n",
      "                                                 reg_alpha=None,\n",
      "                                                 reg_lambda=None,\n",
      "                                                 scale_pos_weight=None,\n",
      "                                                 subsample=None,\n",
      "                                                 tree_method=None,\n",
      "                                                 validate_parameters=None,\n",
      "                                                 verbosity=None))\n"
     ]
    },
    {
     "data": {
      "text/plain": [
       "['mw_global_0.969_ensemble_gpu_tuned_2022_02_08_20_37.sav']"
      ]
     },
     "execution_count": 29,
     "metadata": {},
     "output_type": "execute_result"
    }
   ],
   "source": [
    "model_sav_path = 'mw_{}_{}_{}_{}_tuned_{}.sav'.format(TILE,\n",
    "                                                              score,\n",
    "                                                              MODEL,\n",
    "                                                              'gpu' if GPU else 'cpu',\n",
    "                                                              datetime.datetime.now().strftime('%Y_%m_%d_%H_%M'))\n",
    "model_save_path = os.path.join(MODEL_OUTPUT_DIR, model_sav_path)\n",
    "print('Saving model to: {}'.format(model_save_path))\n",
    "print(classifier)\n",
    "joblib.dump(classifier, model_sav_path, compress=3)"
   ]
  },
  {
   "cell_type": "markdown",
   "metadata": {},
   "source": [
    "# Testing: Raster testing"
   ]
  },
  {
   "cell_type": "code",
   "execution_count": 30,
   "metadata": {},
   "outputs": [],
   "source": [
    "TILE = 'h12v09'"
   ]
  },
  {
   "cell_type": "code",
   "execution_count": 31,
   "metadata": {},
   "outputs": [],
   "source": [
    "DAY = 218\n",
    "YEAR = 2006\n",
    "PATH = '/att/nobackup/cssprad1/projects/modis_water/data/test_data/{}/'.format(TILE)"
   ]
  },
  {
   "cell_type": "code",
   "execution_count": 32,
   "metadata": {},
   "outputs": [
    {
     "data": {
      "text/plain": [
       "['/att/nobackup/cssprad1/projects/modis_water/data/test_data/h12v09/MOD09GA.A2006218.h12v09.061.2020268185436-sur_refl_b01_1.tif',\n",
       " '/att/nobackup/cssprad1/projects/modis_water/data/test_data/h12v09/MOD09GA.A2006218.h12v09.061.2020268185436-sur_refl_b02_1.tif',\n",
       " '/att/nobackup/cssprad1/projects/modis_water/data/test_data/h12v09/MOD09GA.A2006218.h12v09.061.2020268185436-sur_refl_b03_1.tif',\n",
       " '/att/nobackup/cssprad1/projects/modis_water/data/test_data/h12v09/MOD09GA.A2006218.h12v09.061.2020268185436-sur_refl_b04_1.tif',\n",
       " '/att/nobackup/cssprad1/projects/modis_water/data/test_data/h12v09/MOD09GA.A2006218.h12v09.061.2020268185436-sur_refl_b05_1.tif',\n",
       " '/att/nobackup/cssprad1/projects/modis_water/data/test_data/h12v09/MOD09GA.A2006218.h12v09.061.2020268185436-sur_refl_b06_1.tif',\n",
       " '/att/nobackup/cssprad1/projects/modis_water/data/test_data/h12v09/MOD09GA.A2006218.h12v09.061.2020268185436-sur_refl_b07_1.tif']"
      ]
     },
     "execution_count": 32,
     "metadata": {},
     "output_type": "execute_result"
    }
   ],
   "source": [
    "vars_list = [fn for fn in glob.glob(os.path.join(PATH, '*A{}{:03}*.tif'.format(YEAR, DAY)))\n",
    "            if 'sur_refl' in fn]\n",
    "vars_list.sort()\n",
    "vars_list"
   ]
  },
  {
   "cell_type": "markdown",
   "metadata": {},
   "source": [
    "## Get dimensions of inputs"
   ]
  },
  {
   "cell_type": "code",
   "execution_count": 33,
   "metadata": {},
   "outputs": [
    {
     "data": {
      "text/plain": [
       "(4800, 4800)"
      ]
     },
     "execution_count": 33,
     "metadata": {},
     "output_type": "execute_result"
    }
   ],
   "source": [
    "vrt_opts = gdal.BuildVRTOptions(separate=True)\n",
    "dd = gdal.BuildVRT('tmp.vrt', vars_list, options=vrt_opts)\n",
    "nrows, ncols = dd.RasterYSize, dd.RasterXSize\n",
    "dd = None\n",
    "if os.path.exists('tmp.vrt'):\n",
    "    os.remove('tmp.vrt') \n",
    "nrows, ncols"
   ]
  },
  {
   "cell_type": "markdown",
   "metadata": {},
   "source": [
    "### Read in data \n",
    "We don't need to slice because we have more than enough GPU memory."
   ]
  },
  {
   "cell_type": "code",
   "execution_count": 34,
   "metadata": {},
   "outputs": [],
   "source": [
    "def readRasterToArray(vars_list):\n",
    "    vrt_options = gdal.BuildVRTOptions(separate=True)\n",
    "    dd = gdal.BuildVRT('tmp.vrt', vars_list, options=vrt_options)\n",
    "    nrows, ncols = dd.RasterYSize, dd.RasterXSize\n",
    "    newshp = (ncols*nrows, dd.RasterCount+3)\n",
    "    img = np.empty(newshp, dtype=np.int16)\n",
    "    for b in range(len(vars_list)):\n",
    "        img[:, b] = dd.GetRasterBand(b+1).ReadAsArray().astype(np.int16).ravel()\n",
    "    dd = None\n",
    "    img[:, len(vars_list)] = ((img[:, 1] - img[:, 0]) / (img[:, 1] + img[:, 0])) * 10000\n",
    "    img[:, len(vars_list)+1] = ((img[:, 1] - img[:, 5]) / (img[:, 1] + img[:, 5])) * 10000\n",
    "    img[:, len(vars_list)+2] = ((img[:, 1] - img[:, 6]) / (img[:, 1] + img[:, 6])) * 10000\n",
    "    if os.path.exists('tmp.vrt'):\n",
    "        os.remove('tmp.vrt')\n",
    "    return img"
   ]
  },
  {
   "cell_type": "code",
   "execution_count": 35,
   "metadata": {},
   "outputs": [
    {
     "name": "stdout",
     "output_type": "stream",
     "text": [
      "Raster as ndarray\n",
      "[[6643 7273 6168 ...  452  962 3003]\n",
      " [6643 7273 6168 ...  452  962 3003]\n",
      " [6172 6885 5686 ...  546  881 2691]\n",
      " ...\n",
      " [ 419 2432  206 ... 7060 1580 5026]\n",
      " [ 751 2327  316 ... 5120 -404 2895]\n",
      " [ 751 2327  316 ... 5120 -404 2895]]\n",
      "460.8 MB size\n"
     ]
    }
   ],
   "source": [
    "im = readRasterToArray(vars_list)\n",
    "print('Raster as ndarray')\n",
    "print(im)\n",
    "print('{} MB size'.format((im.size * im.itemsize) / 1000000))"
   ]
  },
  {
   "cell_type": "code",
   "execution_count": 36,
   "metadata": {},
   "outputs": [],
   "source": [
    "def predictRaster(img_chunk):\n",
    "    \"\"\"\n",
    "    Function given a raster in the form of a nxn matrix, will\n",
    "    convert the matrix to a GPU/CPU-bound data frame then perform \n",
    "    predictions given the loaded model.\n",
    "    \n",
    "    Return the prediction matrix, the prediction probabilities\n",
    "    for each and the dataframe converted to host.\n",
    "    \"\"\"\n",
    "    df = pd.DataFrame(img_chunk, dtype=np.int16)\n",
    "    print('Making predictions from raster')\n",
    "    predictions = classifier.predict(df).astype(np.int16)\n",
    "    predictionsProbs = classifier.predict_proba(df).astype(np.float32)\n",
    "    return predictions, predictionsProbs, df"
   ]
  },
  {
   "cell_type": "code",
   "execution_count": 37,
   "metadata": {},
   "outputs": [
    {
     "name": "stdout",
     "output_type": "stream",
     "text": [
      "Making predictions from raster\n"
     ]
    }
   ],
   "source": [
    "predictedRaster, predictedProbaRaster, df = predictRaster(im)"
   ]
  },
  {
   "cell_type": "code",
   "execution_count": 38,
   "metadata": {},
   "outputs": [],
   "source": [
    "shp = (4800, 4800)\n",
    "left = list()\n",
    "right = list()\n",
    "for i, subarr in enumerate(predictedProbaRaster):\n",
    "    left.append(subarr[0])\n",
    "    right.append(subarr[1])\n",
    "leftArr = np.asarray(left)\n",
    "rightArr = np.asarray(right)\n",
    "probaLand = leftArr.reshape(shp)\n",
    "probaWater = rightArr.reshape(shp)"
   ]
  },
  {
   "cell_type": "markdown",
   "metadata": {},
   "source": [
    "## Inputreshapet raster: description and histogram"
   ]
  },
  {
   "cell_type": "code",
   "execution_count": 39,
   "metadata": {},
   "outputs": [
    {
     "data": {
      "text/html": [
       "<div>\n",
       "<style scoped>\n",
       "    .dataframe tbody tr th:only-of-type {\n",
       "        vertical-align: middle;\n",
       "    }\n",
       "\n",
       "    .dataframe tbody tr th {\n",
       "        vertical-align: top;\n",
       "    }\n",
       "\n",
       "    .dataframe thead th {\n",
       "        text-align: right;\n",
       "    }\n",
       "</style>\n",
       "<table border=\"1\" class=\"dataframe\">\n",
       "  <thead>\n",
       "    <tr style=\"text-align: right;\">\n",
       "      <th></th>\n",
       "      <th>count</th>\n",
       "      <th>mean</th>\n",
       "      <th>std</th>\n",
       "      <th>min</th>\n",
       "      <th>25%</th>\n",
       "      <th>50%</th>\n",
       "      <th>75%</th>\n",
       "      <th>max</th>\n",
       "    </tr>\n",
       "  </thead>\n",
       "  <tbody>\n",
       "    <tr>\n",
       "      <th>0</th>\n",
       "      <td>23040000.0</td>\n",
       "      <td>406.319013</td>\n",
       "      <td>434.922643</td>\n",
       "      <td>-28672.0</td>\n",
       "      <td>250.0</td>\n",
       "      <td>306.0</td>\n",
       "      <td>360.0</td>\n",
       "      <td>9953.0</td>\n",
       "    </tr>\n",
       "    <tr>\n",
       "      <th>1</th>\n",
       "      <td>23040000.0</td>\n",
       "      <td>3162.238815</td>\n",
       "      <td>649.746304</td>\n",
       "      <td>-28672.0</td>\n",
       "      <td>2923.0</td>\n",
       "      <td>3309.0</td>\n",
       "      <td>3518.0</td>\n",
       "      <td>9242.0</td>\n",
       "    </tr>\n",
       "    <tr>\n",
       "      <th>2</th>\n",
       "      <td>23040000.0</td>\n",
       "      <td>291.899561</td>\n",
       "      <td>406.622174</td>\n",
       "      <td>-28672.0</td>\n",
       "      <td>166.0</td>\n",
       "      <td>212.0</td>\n",
       "      <td>269.0</td>\n",
       "      <td>9013.0</td>\n",
       "    </tr>\n",
       "    <tr>\n",
       "      <th>3</th>\n",
       "      <td>23040000.0</td>\n",
       "      <td>557.999866</td>\n",
       "      <td>406.551242</td>\n",
       "      <td>-28672.0</td>\n",
       "      <td>421.0</td>\n",
       "      <td>493.0</td>\n",
       "      <td>546.0</td>\n",
       "      <td>9716.0</td>\n",
       "    </tr>\n",
       "    <tr>\n",
       "      <th>4</th>\n",
       "      <td>23040000.0</td>\n",
       "      <td>3133.262860</td>\n",
       "      <td>632.134972</td>\n",
       "      <td>-28672.0</td>\n",
       "      <td>2923.0</td>\n",
       "      <td>3264.0</td>\n",
       "      <td>3468.0</td>\n",
       "      <td>9040.0</td>\n",
       "    </tr>\n",
       "    <tr>\n",
       "      <th>5</th>\n",
       "      <td>23040000.0</td>\n",
       "      <td>1720.846256</td>\n",
       "      <td>526.672817</td>\n",
       "      <td>-28672.0</td>\n",
       "      <td>1506.0</td>\n",
       "      <td>1710.0</td>\n",
       "      <td>1812.0</td>\n",
       "      <td>7103.0</td>\n",
       "    </tr>\n",
       "    <tr>\n",
       "      <th>6</th>\n",
       "      <td>23040000.0</td>\n",
       "      <td>530.845410</td>\n",
       "      <td>1843.350129</td>\n",
       "      <td>-28672.0</td>\n",
       "      <td>480.0</td>\n",
       "      <td>547.0</td>\n",
       "      <td>610.0</td>\n",
       "      <td>6316.0</td>\n",
       "    </tr>\n",
       "    <tr>\n",
       "      <th>7</th>\n",
       "      <td>23040000.0</td>\n",
       "      <td>7686.235761</td>\n",
       "      <td>2031.676702</td>\n",
       "      <td>-32222.0</td>\n",
       "      <td>7954.0</td>\n",
       "      <td>8349.0</td>\n",
       "      <td>8546.0</td>\n",
       "      <td>32203.0</td>\n",
       "    </tr>\n",
       "    <tr>\n",
       "      <th>8</th>\n",
       "      <td>23040000.0</td>\n",
       "      <td>2985.519139</td>\n",
       "      <td>1161.269606</td>\n",
       "      <td>-32727.0</td>\n",
       "      <td>2979.0</td>\n",
       "      <td>3300.0</td>\n",
       "      <td>3518.0</td>\n",
       "      <td>32620.0</td>\n",
       "    </tr>\n",
       "    <tr>\n",
       "      <th>9</th>\n",
       "      <td>23040000.0</td>\n",
       "      <td>6634.247958</td>\n",
       "      <td>1770.533043</td>\n",
       "      <td>-32727.0</td>\n",
       "      <td>6823.0</td>\n",
       "      <td>7209.0</td>\n",
       "      <td>7398.0</td>\n",
       "      <td>32679.0</td>\n",
       "    </tr>\n",
       "  </tbody>\n",
       "</table>\n",
       "</div>"
      ],
      "text/plain": [
       "        count         mean          std      min     25%     50%     75%  \\\n",
       "0  23040000.0   406.319013   434.922643 -28672.0   250.0   306.0   360.0   \n",
       "1  23040000.0  3162.238815   649.746304 -28672.0  2923.0  3309.0  3518.0   \n",
       "2  23040000.0   291.899561   406.622174 -28672.0   166.0   212.0   269.0   \n",
       "3  23040000.0   557.999866   406.551242 -28672.0   421.0   493.0   546.0   \n",
       "4  23040000.0  3133.262860   632.134972 -28672.0  2923.0  3264.0  3468.0   \n",
       "5  23040000.0  1720.846256   526.672817 -28672.0  1506.0  1710.0  1812.0   \n",
       "6  23040000.0   530.845410  1843.350129 -28672.0   480.0   547.0   610.0   \n",
       "7  23040000.0  7686.235761  2031.676702 -32222.0  7954.0  8349.0  8546.0   \n",
       "8  23040000.0  2985.519139  1161.269606 -32727.0  2979.0  3300.0  3518.0   \n",
       "9  23040000.0  6634.247958  1770.533043 -32727.0  6823.0  7209.0  7398.0   \n",
       "\n",
       "       max  \n",
       "0   9953.0  \n",
       "1   9242.0  \n",
       "2   9013.0  \n",
       "3   9716.0  \n",
       "4   9040.0  \n",
       "5   7103.0  \n",
       "6   6316.0  \n",
       "7  32203.0  \n",
       "8  32620.0  \n",
       "9  32679.0  "
      ]
     },
     "execution_count": 39,
     "metadata": {},
     "output_type": "execute_result"
    }
   ],
   "source": [
    "df.describe().T"
   ]
  },
  {
   "cell_type": "code",
   "execution_count": 40,
   "metadata": {},
   "outputs": [
    {
     "data": {
      "text/plain": [
       "Text(0.5, 1.0, 'Distribution of each band and calculated idx')"
      ]
     },
     "execution_count": 40,
     "metadata": {},
     "output_type": "execute_result"
    },
    {
     "data": {
      "image/png": "[encoded data removed]",
      "text/plain": [
       "<Figure size 1152x1440 with 12 Axes>"
      ]
     },
     "metadata": {
      "needs_background": "light"
     },
     "output_type": "display_data"
    }
   ],
   "source": [
    "df.hist(figsize=(16, 20), bins=50)\n",
    "plt.title('Distribution of each band and calculated idx')"
   ]
  },
  {
   "cell_type": "markdown",
   "metadata": {},
   "source": [
    "#### Reshape the unravelled matrix back to the 4800x4800 raster shape"
   ]
  },
  {
   "cell_type": "code",
   "execution_count": 41,
   "metadata": {},
   "outputs": [
    {
     "data": {
      "text/plain": [
       "(4800, 4800)"
      ]
     },
     "execution_count": 41,
     "metadata": {},
     "output_type": "execute_result"
    }
   ],
   "source": [
    "matrix = np.asarray(predictedRaster)\n",
    "reshp = matrix.reshape(shp)\n",
    "reshp.shape"
   ]
  },
  {
   "cell_type": "markdown",
   "metadata": {},
   "source": [
    "### Import the QA Mask and the Water Mask for the h09v05 TILE"
   ]
  },
  {
   "cell_type": "code",
   "execution_count": 42,
   "metadata": {},
   "outputs": [
    {
     "name": "stdout",
     "output_type": "stream",
     "text": [
      "/att/nobackup/cssprad1/projects/modis_water/data/water_masks/Min2000_2019/MOD44W_h12v09_min2000_2019.tif\n",
      "/att/nobackup/cssprad1/projects/modis_water/data/qa_masks/MOD09GA.A2006218.h12v09.061.2020268185436_bad_good_mask.tif\n"
     ]
    }
   ],
   "source": [
    "qaMask = '/att/nobackup/cssprad1/projects/modis_water/data/qa_masks'\n",
    "waterMask = '/att/nobackup/cssprad1/projects/modis_water/data/water_masks/Min2000_2019'\n",
    "qa_list = [fn for fn in glob.glob(os.path.join(qaMask, '*A{}{:03}.{}*bad_good_mask.tif'.format(YEAR, DAY, TILE)))]\n",
    "water_list = [fn for fn in glob.glob(os.path.join(waterMask, '*{}*.tif'.format(TILE)))]\n",
    "qa_mask = qa_list[0]\n",
    "water_mask = water_list[0]\n",
    "print(water_mask)\n",
    "print(qa_mask)\n",
    "ds = gdal.Open(qa_mask, gdal.GA_ReadOnly)\n",
    "waterMask = gdal.Open(water_mask, gdal.GA_ReadOnly)\n",
    "qaMaskMatrix = ds.GetRasterBand(1).ReadAsArray().astype(np.int16)\n",
    "waterMaskMatrix = waterMask.GetRasterBand(1).ReadAsArray().astype(np.int16)\n",
    "ds = None\n",
    "waterMask = None"
   ]
  },
  {
   "cell_type": "code",
   "execution_count": 43,
   "metadata": {},
   "outputs": [
    {
     "data": {
      "text/plain": [
       "array([[0, 0, 0, ..., 0, 0, 0],\n",
       "       [0, 0, 0, ..., 0, 0, 0],\n",
       "       [0, 0, 0, ..., 0, 0, 0],\n",
       "       ...,\n",
       "       [0, 0, 0, ..., 0, 0, 0],\n",
       "       [0, 0, 0, ..., 0, 0, 0],\n",
       "       [0, 0, 0, ..., 0, 0, 0]], dtype=int16)"
      ]
     },
     "execution_count": 43,
     "metadata": {},
     "output_type": "execute_result"
    }
   ],
   "source": [
    "waterMaskMatrix"
   ]
  },
  {
   "cell_type": "markdown",
   "metadata": {},
   "source": [
    "### Mask out results if QA Mask says pixel is \"bad\"\n",
    "Mask out water mask if QA Mask says pixel is \"bad\""
   ]
  },
  {
   "cell_type": "code",
   "execution_count": 44,
   "metadata": {},
   "outputs": [],
   "source": [
    "maskedResult = np.where(qaMaskMatrix == 0, reshp, -9999)\n",
    "maskedResultProba = np.where(qaMaskMatrix == 0, probaWater, -9999)\n",
    "waterMasked = np.where(qaMaskMatrix == 0, waterMaskMatrix, -9999)\n",
    "waterMaskRavel = waterMasked.ravel()\n",
    "imWater = (waterMaskRavel == 1)"
   ]
  },
  {
   "cell_type": "markdown",
   "metadata": {},
   "source": [
    "# Generating stats for predicted and truth"
   ]
  },
  {
   "cell_type": "markdown",
   "metadata": {},
   "source": [
    "## Predicted Raster"
   ]
  },
  {
   "cell_type": "code",
   "execution_count": 45,
   "metadata": {},
   "outputs": [],
   "source": [
    "TILE = 'global_{}_{}'.format(MODEL, TILE)"
   ]
  },
  {
   "cell_type": "code",
   "execution_count": 46,
   "metadata": {},
   "outputs": [
    {
     "data": {
      "text/plain": [
       "Text(0.5, 1.0, 'Predicted water mask')"
      ]
     },
     "execution_count": 46,
     "metadata": {},
     "output_type": "execute_result"
    },
    {
     "data": {
      "image/png": "[encoded data removed]",
      "text/plain": [
       "<Figure size 1080x1080 with 2 Axes>"
      ]
     },
     "metadata": {
      "needs_background": "light"
     },
     "output_type": "display_data"
    }
   ],
   "source": [
    "plt.figure(figsize=(15, 15))\n",
    "outputPlt = plt.matshow(np.where(maskedResult == -9999, np.NaN, maskedResult), fignum=1)\n",
    "plt.colorbar()\n",
    "plt.title('Predicted water mask')"
   ]
  },
  {
   "cell_type": "markdown",
   "metadata": {},
   "source": [
    "## Predicted Probabilities"
   ]
  },
  {
   "cell_type": "code",
   "execution_count": 47,
   "metadata": {},
   "outputs": [
    {
     "data": {
      "text/plain": [
       "Text(0.5, 1.0, 'Predicted probabilities of water')"
      ]
     },
     "execution_count": 47,
     "metadata": {},
     "output_type": "execute_result"
    },
    {
     "data": {
      "image/png": "[encoded data removed]",
      "text/plain": [
       "<Figure size 1080x1080 with 2 Axes>"
      ]
     },
     "metadata": {
      "needs_background": "light"
     },
     "output_type": "display_data"
    }
   ],
   "source": [
    "plt.figure(figsize=(15, 15))\n",
    "outputPlt = plt.matshow(np.where(maskedResult == -9999, np.NaN, maskedResultProba), fignum=1)\n",
    "plt.colorbar()\n",
    "plt.title('Predicted probabilities of water')"
   ]
  },
  {
   "cell_type": "markdown",
   "metadata": {},
   "source": [
    "## Minimum extent water mask"
   ]
  },
  {
   "cell_type": "code",
   "execution_count": 48,
   "metadata": {},
   "outputs": [
    {
     "data": {
      "text/plain": [
       "Text(0.5, 1.0, 'Minimum extent water mask')"
      ]
     },
     "execution_count": 48,
     "metadata": {},
     "output_type": "execute_result"
    },
    {
     "data": {
      "image/png": "[encoded data removed]",
      "text/plain": [
       "<Figure size 1080x1080 with 2 Axes>"
      ]
     },
     "metadata": {
      "needs_background": "light"
     },
     "output_type": "display_data"
    }
   ],
   "source": [
    "plt.figure(figsize=(15, 15))\n",
    "truth = np.where(waterMasked==-9999, np.NaN, waterMasked)\n",
    "truth = np.where(waterMasked==250, np.NaN, truth)\n",
    "truthPlt = plt.matshow(truth, fignum=1)\n",
    "plt.colorbar()\n",
    "plt.title('Minimum extent water mask')"
   ]
  },
  {
   "cell_type": "markdown",
   "metadata": {},
   "source": [
    "## Metrics on test raster"
   ]
  },
  {
   "cell_type": "code",
   "execution_count": 49,
   "metadata": {},
   "outputs": [],
   "source": [
    "tp = np.where((waterMasked == 1) & (maskedResult == 1), 1, 0)\n",
    "tn = np.where((waterMasked == 0) & (maskedResult == 0), 1, 0)\n",
    "fp = np.where((waterMasked == 0) & (maskedResult == 1), 1, 0)\n",
    "fn = np.where((waterMasked == 1) & (maskedResult == 0), 1, 0)\n",
    "total = np.count_nonzero(waterMasked == 1) + np.count_nonzero(waterMasked == 0)\n",
    "truePositives = np.count_nonzero(tp == 1)\n",
    "trueNegatives = np.count_nonzero(tn == 1)\n",
    "falsePositives = np.count_nonzero(fp == 1)\n",
    "falseNegatives = np.count_nonzero(fn == 1)\n",
    "accuracy = (truePositives + trueNegatives) / (truePositives + trueNegatives + falsePositives + falseNegatives)\n",
    "jians = truePositives / (truePositives + trueNegatives)\n",
    "pc = truePositives / (truePositives + falsePositives)\n",
    "rc = truePositives / (truePositives + falseNegatives)\n",
    "f1 = truePositives / (truePositives + (0.5*(falsePositives + falseNegatives)))"
   ]
  },
  {
   "cell_type": "markdown",
   "metadata": {},
   "source": [
    "### Count num of occurences for each class with the masked predicted result"
   ]
  },
  {
   "cell_type": "code",
   "execution_count": 50,
   "metadata": {},
   "outputs": [
    {
     "name": "stdout",
     "output_type": "stream",
     "text": [
      "Predicted\n",
      " Nodata occurences: 5364592\n",
      " Land occurance: 17420348\n",
      " Water occurances: 255060\n"
     ]
    }
   ],
   "source": [
    "countNoData = np.count_nonzero(maskedResult == -9999)\n",
    "countLand = np.count_nonzero(maskedResult == 0)\n",
    "countWater = np.count_nonzero(maskedResult == 1)\n",
    "print('Predicted\\n Nodata occurences: {}\\n Land occurance: {}\\n Water occurances: {}'.format(countNoData, countLand, countWater))"
   ]
  },
  {
   "cell_type": "markdown",
   "metadata": {},
   "source": [
    "### Count num of occurences for each class with the water mask"
   ]
  },
  {
   "cell_type": "code",
   "execution_count": 51,
   "metadata": {},
   "outputs": [
    {
     "name": "stdout",
     "output_type": "stream",
     "text": [
      "Truth Vals\n",
      " Nodata occurences: 5364592\n",
      " Land occurance: 17468360\n",
      " Water occurances: 207048\n"
     ]
    }
   ],
   "source": [
    "countNoDataT = np.count_nonzero(waterMasked == -9999)\n",
    "countLandT = np.count_nonzero(waterMasked == 0)\n",
    "countWaterT = np.count_nonzero(waterMasked == 1)\n",
    "print('Truth Vals\\n Nodata occurences: {}\\n Land occurance: {}\\n Water occurances: {}'.format(countNoDataT, countLandT, countWaterT))"
   ]
  },
  {
   "cell_type": "markdown",
   "metadata": {},
   "source": [
    "### Model metrics on raster data"
   ]
  },
  {
   "cell_type": "code",
   "execution_count": 52,
   "metadata": {},
   "outputs": [
    {
     "name": "stdout",
     "output_type": "stream",
     "text": [
      "Metrics of Accuracy for Raster Test Data\n",
      "True Positives:  158999\n",
      "True Negatives:  17372299\n",
      "False Positives: 96061\n",
      "False Negatives: 48049\n",
      "Total \"good\" data: 17675408\n",
      "Accuracy*: 0.9918468642986912\n",
      "Precision: 0.6233788128283542\n",
      "Recall: 0.7679330396816197\n",
      "f1: 0.6881464938932025\n"
     ]
    }
   ],
   "source": [
    "print('Metrics of Accuracy for Raster Test Data')\n",
    "print('True Positives:  {}'.format(truePositives))\n",
    "print('True Negatives:  {}'.format(trueNegatives))\n",
    "print('False Positives: {}'.format(falsePositives))\n",
    "print('False Negatives: {}'.format(falseNegatives))\n",
    "print('Total \"good\" data: {}'.format(total))\n",
    "print('Accuracy*: {}'.format(accuracy))\n",
    "print('Precision: {}'.format(pc))\n",
    "print('Recall: {}'.format(rc))\n",
    "print('f1: {}'.format(f1))"
   ]
  },
  {
   "cell_type": "markdown",
   "metadata": {},
   "source": [
    "## Output predicted raster to GeoTiff"
   ]
  },
  {
   "cell_type": "code",
   "execution_count": 53,
   "metadata": {},
   "outputs": [
    {
     "name": "stdout",
     "output_type": "stream",
     "text": [
      "/att/nobackup/cssprad1/projects/modis_water/code/modis_water_random_forest/view/notebook/output/2006_218_global_ensemble_h12v09_predicted_ensemble.tif\n",
      "/att/nobackup/cssprad1/projects/modis_water/code/modis_water_random_forest/view/notebook/output/waterMask_2006_qa_218.tif\n",
      "/att/nobackup/cssprad1/projects/modis_water/code/modis_water_random_forest/view/notebook/output/2006_218_global_ensemble_h12v09_predicted_probabilities_ensemble.tif\n",
      "Transform\n",
      "(-6671703.118, 231.656358, 0.0, 0.0, 0.0, -231.656358)\n",
      "Projection\n",
      "PROJCS[\"unnamed\",GEOGCS[\"Unknown datum based upon the custom spheroid\",DATUM[\"Not_specified_based_on_custom_spheroid\",SPHEROID[\"Custom spheroid\",6371007.181,0]],PRIMEM[\"Greenwich\",0],UNIT[\"degree\",0.0174532925199433,AUTHORITY[\"EPSG\",\"9122\"]]],PROJECTION[\"Sinusoidal\"],PARAMETER[\"longitude_of_center\",0],PARAMETER[\"false_easting\",0],PARAMETER[\"false_northing\",0],UNIT[\"metre\",1,AUTHORITY[\"EPSG\",\"9001\"]],AXIS[\"Easting\",EAST],AXIS[\"Northing\",NORTH]]\n",
      "Width\n",
      "4800\n",
      "Height\n",
      "4800\n"
     ]
    }
   ],
   "source": [
    "outPath = os.path.join(RASTER_OUTPUT_DIR, '{}_{}_{}_predicted_{}.tif'.format(YEAR, DAY, TILE, MODEL))\n",
    "waterMaskForDay = os.path.join(RASTER_OUTPUT_DIR, 'waterMask_{}_qa_{}.tif'.format(YEAR, DAY, TILE, MODEL))\n",
    "outPathProba = os.path.join(RASTER_OUTPUT_DIR, '{}_{}_{}_predicted_probabilities_{}.tif'.format(YEAR, DAY, TILE, MODEL))\n",
    "print(outPath)\n",
    "print(waterMaskForDay)\n",
    "print(outPathProba)\n",
    "\n",
    "ds = gdal.Open(vars_list[0], gdal.GA_ReadOnly)\n",
    "geo = ds.GetGeoTransform()\n",
    "proj = ds.GetProjection()\n",
    "ncols = ds.RasterXSize\n",
    "nrows = ds.RasterYSize\n",
    "print('Transform')\n",
    "print(geo)\n",
    "print('Projection')\n",
    "print(proj)\n",
    "print('Width')\n",
    "print(ncols)\n",
    "print('Height')\n",
    "print(nrows)\n",
    "ds = None\n",
    "\n",
    "# Output predicted binary raster masked with good-bad mask.\n",
    "driver = gdal.GetDriverByName('GTiff')\n",
    "outDs = driver.Create(outPath, ncols, nrows, 1, gdal.GDT_Float32, options=['COMPRESS=LZW'])\n",
    "outDs.SetGeoTransform(geo)\n",
    "outDs.SetProjection(proj)\n",
    "outBand = outDs.GetRasterBand(1)\n",
    "outBand.WriteArray(maskedResult)\n",
    "outBand.SetNoDataValue(-9999)\n",
    "outDs.FlushCache()\n",
    "outDs = None\n",
    "outBand = None\n",
    "driver = None\n",
    "\n",
    "# Output water mask with good-bad masked.\n",
    "driver = gdal.GetDriverByName('GTiff')\n",
    "outDs = driver.Create(waterMaskForDay, ncols, nrows, 1, gdal.GDT_Int16, options=['COMPRESS=LZW'])\n",
    "outDs.SetGeoTransform(geo)\n",
    "outDs.SetProjection(proj)\n",
    "outBand = outDs.GetRasterBand(1)\n",
    "outBand.WriteArray(waterMasked)\n",
    "outBand.SetNoDataValue(-9999)\n",
    "outDs.FlushCache()\n",
    "outDs = None\n",
    "outBand = None\n",
    "driver = None\n",
    "\n",
    "# Output probabilies raster masked by good-bad mask.\n",
    "driver = gdal.GetDriverByName('GTiff')\n",
    "outDs = driver.Create(outPathProba, ncols, nrows, 1, gdal.GDT_Float32, options=['COMPRESS=LZW'])\n",
    "outDs.SetGeoTransform(geo)\n",
    "outDs.SetProjection(proj)\n",
    "outBand = outDs.GetRasterBand(1)\n",
    "outBand.WriteArray(maskedResultProba)\n",
    "outBand.SetNoDataValue(-9999)\n",
    "outDs.FlushCache()\n",
    "outDs = None\n",
    "outBand = None\n",
    "driver = None"
   ]
  },
  {
   "cell_type": "code",
   "execution_count": null,
   "metadata": {},
   "outputs": [],
   "source": []
  }
 ],
 "metadata": {
  "kernelspec": {
   "display_name": "Python [conda env:.conda-rapids-21.06]",
   "language": "python",
   "name": "conda-env-.conda-rapids-21.06-py"
  },
  "language_info": {
   "codemirror_mode": {
    "name": "ipython",
    "version": 3
   },
   "file_extension": ".py",
   "mimetype": "text/x-python",
   "name": "python",
   "nbconvert_exporter": "python",
   "pygments_lexer": "ipython3",
   "version": "3.8.10"
  }
 },
 "nbformat": 4,
 "nbformat_minor": 4
}
