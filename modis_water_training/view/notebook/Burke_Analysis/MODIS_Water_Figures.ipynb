{
 "cells": [
  {
   "cell_type": "markdown",
   "id": "5b714c30-b71c-43c6-9fe3-9b012a7bfdfe",
   "metadata": {
    "tags": []
   },
   "source": [
    "#  MODIS Water Figures\n",
    "Version: 0.0.0\n",
    "\n",
    "Date modified: 07.20.2023\n",
    "\n",
    "Modified by: Amanda Burke"
   ]
  },
  {
   "cell_type": "code",
   "execution_count": 1,
   "id": "9ef8ad40-b2c6-4ccc-9a4b-c595bcce20e4",
   "metadata": {},
   "outputs": [],
   "source": [
    "import csv\n",
    "import datetime\n",
    "import glob\n",
    "import joblib\n",
    "import numpy as np\n",
    "import os\n",
    "import pandas as pd\n",
    "from pathlib import Path   \n",
    "from sklearn.cluster import KMeans\n",
    "from sklearn.cluster import Birch\n",
    "from sklearn.cluster import SpectralClustering\n",
    "from sklearn.model_selection import train_test_split \n",
    "\n",
    "# Visualization\n",
    "import seaborn as sns\n",
    "import matplotlib.pyplot as plt\n",
    "import warnings\n",
    "\n",
    "\n",
    "plt.style.use('fivethirtyeight')\n",
    "warnings.filterwarnings('ignore')\n",
    "%matplotlib inline"
   ]
  },
  {
   "cell_type": "markdown",
   "id": "3e4a8c58-56ae-4a3a-a997-3669c7699b84",
   "metadata": {
    "tags": []
   },
   "source": [
    "## Data Preprocessing Functions"
   ]
  },
  {
   "cell_type": "code",
   "execution_count": null,
   "id": "e2a38925-251d-4a2e-a1fd-9c83a637f65c",
   "metadata": {},
   "outputs": [],
   "source": [
    "def load_data(fpath, colsToDrop, yCol='water', testSize=0.2, randomState=42, \n",
    "              dataType=np.float32, cpu=True, splitXY=False, trainTestSplit=False,\n",
    "             applyLog=False, imbalance=False, frac=0.1, land=False, multi=False, \n",
    "              multisample=1000000):\n",
    "    \"\"\"\n",
    "    Simple helper function for loading data to be used by models\n",
    "    :param fpath: Path to the data to be ingested.\n",
    "    :param dataType: Data type to convert ingested data to.\n",
    "    :param colsToDrop: Columns which are not necessary, from which to drop.\n",
    "    :param testSize: Ration to\n",
    "    \"\"\"\n",
    "    if multi:\n",
    "        all_dfs = [pd.read_csv(path_) for path_ in fpath]\n",
    "        df = pd.concat(all_dfs).sample(n=multisample, random_state=randomState)\n",
    "        print('DF length: {}'.format(len(df.index)))\n",
    "    else:   \n",
    "        df = pd.read_parquet(fpath) if '.parquet' in fpath else pd.read_csv(fpath)\n",
    "    df = df[df['sur_refl_b01_1'] + df['sur_refl_b02_1'] != 0]\n",
    "    df = df[df['sur_refl_b07_1'] + df['sur_refl_b02_1'] != 0]\n",
    "    df = df[df['sur_refl_b06_1'] + df['sur_refl_b02_1'] != 0]\n",
    "\n",
    "    df = df.drop(columns=colsToDrop)\n",
    "    cleanedDF = df[~df.isin([np.NaN, np.inf, -np.inf]).any(1)].dropna(axis=0).astype(dataType)\n",
    "    if applyLog:\n",
    "        for col in cleanedDF.drop([yCol], axis=1).columns:\n",
    "            print('Applying log1p func to {}'.format(col))\n",
    "            cleanedDF[col] = np.log1p(cleanedDF[col])\n",
    "        cleanedDF = cleanedDF[~cleanedDF.isin([np.NaN, np.inf, -np.inf]).any(1)].dropna(axis=0)\n",
    "    df = None\n",
    "    if imbalance:\n",
    "        if land:\n",
    "            print('Imbalancing data, sampling {} from water'.format(frac))\n",
    "        else:\n",
    "            print(f'Imbalancing data, sampling {frac} from land, {1-frac} from water')\n",
    "        groupedDF = cleanedDF.groupby('water')\n",
    "        dfs = [groupedDF.get_group(y) for y in groupedDF.groups]\n",
    "        sampledDF = dfs[1].sample(frac=frac)if land else dfs[0].sample(frac=frac)\n",
    "        concatDF = sampledDF.append(dfs[0]) if land else sampledDF.append(dfs[1])\n",
    "        concatDF = concatDF.sample(frac=1)\n",
    "        concatDF = concatDF.reset_index()\n",
    "        cleanedDF = concatDF.drop(columns=['index'])\n",
    "    if not splitXY:\n",
    "        return cleanedDF\n",
    "    X = cleanedDF.drop([yCol], axis=1).astype(dataType)\n",
    "    y = cleanedDF[yCol].astype(dataType)\n",
    "    if trainTestSplit:\n",
    "        return train_test_split(X, y, test_size=TEST_RATIO)\n",
    "    else:\n",
    "        return X, y"
   ]
  },
  {
   "cell_type": "code",
   "execution_count": 2,
   "id": "ef09a8be-17ed-40a8-958e-ed66b83929bb",
   "metadata": {},
   "outputs": [],
   "source": [
    "GPU = True\n",
    "MODEL = 'rf'\n",
    "TEST_RATIO = 0.2\n",
    "RANDOM_STATE = 42\n",
    "LABEL_NAME = 'water'\n",
    "DATA_TYPE = np.int16\n",
    "FRAC_LAND=0.5\n",
    "num_datapoints = 10000000"
   ]
  },
  {
   "cell_type": "code",
   "execution_count": 19,
   "id": "5e50dcff-f6d9-4306-9700-bc29daa9f621",
   "metadata": {},
   "outputs": [],
   "source": [
    "colsToDrop = [\n",
    "            #'sur_refl_b01_1',\n",
    "            # 'sur_refl_b02_1',\n",
    "             'sur_refl_b03_1',\n",
    "             'sur_refl_b04_1','sur_refl_b05_1','sur_refl_b06_1',\n",
    "            # 'sur_refl_b07_1',\n",
    "             # 'ndvi',\n",
    "             'ndwi1','ndwi2'\n",
    "            ]\n",
    "v_names = ['sur_refl_b01_1','sur_refl_b02_1','sur_refl_b03_1',\n",
    "           'sur_refl_b04_1','sur_refl_b05_1','sur_refl_b06_1',\n",
    "           'sur_refl_b07_1','ndvi','ndwi1','ndwi2']\n"
   ]
  },
  {
   "cell_type": "markdown",
   "id": "16fe6eb9-d640-4c6e-aa2f-acd3f92bd719",
   "metadata": {},
   "source": [
    "## Input Data"
   ]
  },
  {
   "cell_type": "code",
   "execution_count": 8,
   "id": "0bb0fe47-657c-4bdd-b41d-cb8e70068281",
   "metadata": {},
   "outputs": [
    {
     "name": "stdout",
     "output_type": "stream",
     "text": [
      "/explore/nobackup/projects/ilab/data/MODIS/MODIS_WATER_ML/training_data/v4.2.1/MOD09_Golden_Masked_986161_4_2_1.parquet.gzip\n"
     ]
    }
   ],
   "source": [
    "#############################\n",
    "# VERSION 4.2.1 (targeted 500k points)\n",
    "v421_TILE_IN = 'Golden'#v4.2.1\n",
    "v421_DATA_VERSION='v4.2.1'\n",
    "v421_offsets_indexes = ['x_offset', 'y_offset', 'year', 'julian_day','tileID']\n",
    "#############################\n",
    "\n",
    "v421_data_basepath = f'/explore/nobackup/projects/ilab/data/MODIS/MODIS_WATER_ML/training_data/{v421_DATA_VERSION}'\n",
    "v421_glob_string = os.path.join(v421_data_basepath,'MOD*{}*.parquet.gzip'.format(v421_TILE_IN))\n",
    "v421_data_path = sorted([fv for fv in glob.glob(v421_glob_string)])[0]\n",
    "print(v421_data_path)\n",
    "#Only want the one with 4.2.1 because the other file doesnt work. \n",
    "\n",
    "v201_colsToDropTraining = colsToDrop.copy()\n",
    "v201_colsToDropTraining.extend(v201_offsets_indexes)\n",
    "\n",
    "v421_colsToDropTraining = colsToDrop.copy()\n",
    "v421_colsToDropTraining.extend(v421_offsets_indexes)\n",
    "\n",
    "v421_X, v421_X_test, v421_y, v421_y_test = load_data(fpath=v421_data_path,\n",
    "                                colsToDrop=v421_colsToDropTraining,\n",
    "                                dataType=DATA_TYPE,\n",
    "                                cpu=True,\n",
    "                                splitXY=True,\n",
    "                                trainTestSplit=True\n",
    "                                )\n",
    "\n",
    "v421_X = v421_X.iloc[:num_datapoints,:] \n",
    "v421_y = v421_y.iloc[:num_datapoints] \n",
    "\n",
    "print(f'data shape: {v421_X.shape}, {v421_y.shape}')\n",
    "\n",
    "#Getting the indices that are associated with land (0) and water (1)\n",
    "v421_y_water_ind = np.where(v421_y>0.5)[0]\n",
    "v421_y_land_ind = np.where(v421_y<0.5)[0]\n",
    "\n",
    "#Subset the X AND y data to later/ subset with the clusters and then combine for RFA\n",
    "v421_X_water = v421_X.iloc[v421_y_water_ind,:]\n",
    "v421_y_water = v421_y.iloc[v421_y_water_ind]\n",
    "\n",
    "v421_X_land = v421_X.iloc[v421_y_land_ind,:]\n",
    "v421_y_land = v421_y.iloc[v421_y_land_ind]"
   ]
  },
  {
   "cell_type": "code",
   "execution_count": 9,
   "id": "6d467c2b-26e0-43a8-937d-29c5c6f1c222",
   "metadata": {},
   "outputs": [
    {
     "name": "stdout",
     "output_type": "stream",
     "text": [
      "/explore/nobackup/projects/ilab/data/MODIS/MODIS_WATER_ML/training_data/v2.0.1/MOD09_GLOBAL_5469777_2_0_1.parquet.gzip\n"
     ]
    }
   ],
   "source": [
    "##############################\n",
    "#VERSION 2.0.1 (5 million points)\n",
    "v201_TILE_IN = 'GLOBAL'#v2.0.1\n",
    "v201_DATA_VERSION='v2.0.1'\n",
    "v201_offsets_indexes = ['x_offset', 'y_offset', 'year', 'julian_day']\n",
    "##############################\n",
    "\n",
    "v201_data_basepath = f'/explore/nobackup/projects/ilab/data/MODIS/MODIS_WATER_ML/training_data/{v201_DATA_VERSION}'\n",
    "v201_glob_string = os.path.join(v201_data_basepath,'MOD*{}*.parquet.gzip'.format(v201_TILE_IN))\n",
    "v201_data_path = sorted([fv for fv in glob.glob(v201_glob_string)])[0]\n",
    "\n",
    "print(v201_data_path)\n",
    "\n",
    "v201_X, v201_X_test, v201_y, v201_y_test = load_data(fpath=v201_data_path,\n",
    "                                colsToDrop=v201_colsToDropTraining,\n",
    "                                dataType=DATA_TYPE,\n",
    "                                cpu=True,\n",
    "                                splitXY=True,\n",
    "                                trainTestSplit=True\n",
    "                                )\n",
    "\n",
    "v201_X = v201_X.iloc[:num_datapoints,:] \n",
    "v201_y = v201_y.iloc[:num_datapoints] \n",
    "\n",
    "print(f'data shape: {v201_X.shape}, {v201_y.shape}')\n",
    "\n",
    "#Getting the indices that are associated with land (0) and water (1)\n",
    "v201_y_water_ind = np.where(v201_y>0.5)[0]\n",
    "v201_y_land_ind = np.where(v201_y<0.5)[0]\n",
    "\n",
    "#Subset the X AND y data to later/ subset with the clusters and then combine for RFA\n",
    "v201_X_water = v201_X.iloc[v201_y_water_ind,:]\n",
    "v201_y_water = v201_y.iloc[v201_y_water_ind]\n",
    "\n",
    "v201_X_land = v201_X.iloc[v201_y_land_ind,:]\n",
    "v201_y_land = v201_y.iloc[v201_y_land_ind]"
   ]
  },
  {
   "cell_type": "code",
   "execution_count": null,
   "id": "77410e0a-663f-401a-bdbc-623238d96c3f",
   "metadata": {},
   "outputs": [],
   "source": [
    "# plt.scatter(X_water.values[:,0], X_water.values[:,1],label='Water')\n",
    "# plt.scatter(X_land.values[:,0], X_land.values[:,1],label='Land')\n",
    "# plt.title(f'Land and Water Datapoints, {num_datapoints} Samples')\n",
    "# plt.legend()\n",
    "# plt.xlabel(X_water.columns[0])\n",
    "# plt.ylabel(X_water.columns[1])"
   ]
  },
  {
   "cell_type": "code",
   "execution_count": null,
   "id": "cfb21aed-b9ac-4e40-bedb-02064379a339",
   "metadata": {},
   "outputs": [],
   "source": [
    "common_params = {\n",
    "    \"n_init\": \"auto\",\n",
    "    \"random_state\": 42,\n",
    "}"
   ]
  },
  {
   "cell_type": "code",
   "execution_count": null,
   "id": "e7af7777-ca28-4374-9aa6-02921735c122",
   "metadata": {},
   "outputs": [],
   "source": [
    "%%time\n",
    "kme_water =  KMeans(n_clusters=5, **common_params).fit(X_water)\n",
    "kmeans_output_water = kme_water.predict(X_water)"
   ]
  },
  {
   "cell_type": "code",
   "execution_count": null,
   "id": "040ff862-64b1-4744-afe3-df329dfc0dc3",
   "metadata": {},
   "outputs": [],
   "source": [
    "print(len(kmeans_output_water))\n",
    "print(kmeans_output_water)\n",
    "print(kme_water.cluster_centers_)"
   ]
  },
  {
   "cell_type": "code",
   "execution_count": null,
   "id": "74f623fb-ab06-4e00-9449-ddf44e92d4fd",
   "metadata": {},
   "outputs": [],
   "source": [
    "plt.scatter(X_water.values[:,0], X_water.values[:,1],\n",
    "            c=kmeans_output_water,cmap='tab10',s=25)\n",
    "plt.scatter(kme_water.cluster_centers_[:,0],kme_water.cluster_centers_[:,1],\n",
    "            label='Center Point',c='k',s=50)\n",
    "plt.title(f'Kmeans Clustering, Water Datapoints, {num_datapoints} Samples')\n",
    "plt.legend()\n",
    "plt.xlabel(X_water.columns[0])\n",
    "plt.ylabel(X_water.columns[1])"
   ]
  },
  {
   "cell_type": "code",
   "execution_count": null,
   "id": "eb838bfb-6747-4435-a097-b2d3e02cd1b3",
   "metadata": {},
   "outputs": [],
   "source": [
    "# plt.scatter(X_land.values[:,0], X_land.values[:,1],\n",
    "#             c=kmeans_output_land,cmap='tab10',s=25)\n",
    "# plt.scatter(kme_land.cluster_centers_[:,0],kme_land.cluster_centers_[:,1],\n",
    "#             label='Center Point',c='k',s=50)\n",
    "# plt.title(f'Kmeans Clustering, Land Datapoints, {num_datapoints} Samples')\n",
    "# plt.legend()\n",
    "# plt.xlabel(X_land.columns[0])\n",
    "# plt.ylabel(X_land.columns[1])"
   ]
  },
  {
   "cell_type": "code",
   "execution_count": null,
   "id": "04ec4019-9f6e-4e1d-b858-6a66e389cd02",
   "metadata": {},
   "outputs": [],
   "source": []
  },
  {
   "cell_type": "markdown",
   "id": "162190da-2a24-4a19-ad0c-37b16508e53b",
   "metadata": {
    "jp-MarkdownHeadingCollapsed": true,
    "tags": []
   },
   "source": [
    "### Kmeans"
   ]
  },
  {
   "cell_type": "code",
   "execution_count": null,
   "id": "f6560dd7-0335-47a1-b3fd-e0a48f2c8d7b",
   "metadata": {},
   "outputs": [],
   "source": [
    "common_params = {\n",
    "    \"n_init\": \"auto\",\n",
    "    \"random_state\": 42,\n",
    "}"
   ]
  },
  {
   "cell_type": "code",
   "execution_count": null,
   "id": "4268d21b-eeea-4006-af3a-1aef6f46339d",
   "metadata": {},
   "outputs": [],
   "source": [
    "%%time\n",
    "kme_water_3D =  KMeans(n_clusters=5, **common_params).fit(X_water_3D)\n",
    "kmeans_output_water_3D = kme_water_3D.predict(X_water_3D)"
   ]
  },
  {
   "cell_type": "code",
   "execution_count": null,
   "id": "b272f007-3c17-4c59-bf43-5b2a72d6fcaf",
   "metadata": {},
   "outputs": [],
   "source": [
    "%%time\n",
    "kme_land_3D =  KMeans(n_clusters=5, **common_params).fit(X_land_3D)\n",
    "kmeans_output_land_3D = kme_land_3D.predict(X_land_3D)"
   ]
  },
  {
   "cell_type": "code",
   "execution_count": null,
   "id": "471c2dcb-49ae-42c8-bc9e-190fe4dd24a1",
   "metadata": {},
   "outputs": [],
   "source": [
    "fig = plt.figure(figsize = (15, 7))\n",
    "\n",
    "plt.suptitle(f'Kmeans Clustering, {num_datapoints} Samples')\n",
    "ax1 = plt.subplot(121,projection =\"3d\")\n",
    "# ax1 = plt.axes(projection =\"3d\")\n",
    "ax1.set_title(f'Water Datapoints')\n",
    "ax1.tick_params(axis='both', which='major', labelsize=10)\n",
    "ax1.tick_params(axis='both', which='minor', labelsize=10)\n",
    "\n",
    "ax1.scatter(X_water_3D.values[:,0], X_water_3D.values[:,1], X_water_3D.values[:,2],\n",
    "           marker='o',c=kmeans_output_water_3D,cmap='tab10')\n",
    "ax1.scatter(kme_water_3D.cluster_centers_[:,0],kme_water_3D.cluster_centers_[:,1],kme_water_3D.cluster_centers_[:,2],\n",
    "            label='Center Point',c='k',s=50)\n",
    "ax1.legend()\n",
    "ax1.set_xlabel(X_water_3D.columns[0])\n",
    "ax1.set_ylabel(X_water_3D.columns[1])\n",
    "ax1.set_zlabel(X_water_3D.columns[2])\n",
    "\n",
    "\n",
    "ax2 = plt.subplot(122,projection =\"3d\")\n",
    "# ax2 = plt.axes(projection =\"3d\")\n",
    "ax2.tick_params(axis='both', which='major', labelsize=10)\n",
    "ax2.tick_params(axis='both', which='minor', labelsize=10)\n",
    "\n",
    "ax2.set_title(f'Land Datapoints')\n",
    "ax2.scatter(X_land_3D.values[:,0], X_land_3D.values[:,1], X_land_3D.values[:,2],\n",
    "           marker='o',c=kmeans_output_land_3D,cmap='tab10')\n",
    "ax2.scatter(kme_land_3D.cluster_centers_[:,0],kme_land_3D.cluster_centers_[:,1],kme_land_3D.cluster_centers_[:,2],\n",
    "            label='Center Point',c='k',s=50)\n",
    "ax2.legend()\n",
    "ax2.set_xlabel(X_land_3D.columns[0])\n",
    "ax2.set_ylabel(X_land_3D.columns[1])\n",
    "ax2.set_zlabel(X_land_3D.columns[2])\n",
    "\n",
    "plt.show()"
   ]
  },
  {
   "cell_type": "code",
   "execution_count": null,
   "id": "d85c6257-4da2-4dcc-b399-70acf31c085d",
   "metadata": {},
   "outputs": [],
   "source": []
  },
  {
   "cell_type": "code",
   "execution_count": null,
   "id": "45dea095-309d-4b00-9238-b2b64d375c65",
   "metadata": {},
   "outputs": [],
   "source": []
  },
  {
   "cell_type": "code",
   "execution_count": null,
   "id": "6a4768f7-c62f-4b18-93c7-eebb2cf9c953",
   "metadata": {},
   "outputs": [],
   "source": []
  },
  {
   "cell_type": "markdown",
   "id": "f8a88161-3b21-45c1-8192-7a5c0f84da3b",
   "metadata": {
    "jp-MarkdownHeadingCollapsed": true,
    "tags": []
   },
   "source": [
    "### Birch"
   ]
  },
  {
   "cell_type": "code",
   "execution_count": null,
   "id": "37ef7339-86f4-421a-8c3c-7a9e84d5f619",
   "metadata": {},
   "outputs": [],
   "source": [
    "%%time\n",
    "br = Birch(n_clusters=5).fit(X)\n",
    "birch_output = br.predict(X)"
   ]
  },
  {
   "cell_type": "code",
   "execution_count": null,
   "id": "27158403-c402-4873-b874-05fb0c74b3ec",
   "metadata": {},
   "outputs": [],
   "source": [
    "fig = plt.figure(figsize = (7, 7))\n",
    "plt.title(f'Birch Clustering: {num_datapoints} Samples')\n",
    "ax = plt.axes(projection =\"3d\")\n",
    "ax.tick_params(axis='both', which='major', labelsize=10)\n",
    "ax.tick_params(axis='both', which='minor', labelsize=10)\n",
    "\n",
    "ax.scatter(X.values[:,0], X.values[:,1], X.values[:,2],marker='o',c=birch_output)\n",
    "\n",
    "ax.set_xlabel(X.columns[0])\n",
    "ax.set_ylabel(X.columns[1])\n",
    "ax.set_zlabel(X.columns[2])\n",
    "\n",
    "plt.show()"
   ]
  },
  {
   "cell_type": "code",
   "execution_count": null,
   "id": "d23a27ef-f8d9-43b3-8150-321200dd0d1d",
   "metadata": {},
   "outputs": [],
   "source": []
  },
  {
   "cell_type": "markdown",
   "id": "4cee6bed-e60c-495e-a0e6-9a1cef0bde50",
   "metadata": {
    "tags": []
   },
   "source": [
    "## Comparing targeted and clustered samples\n"
   ]
  },
  {
   "cell_type": "code",
   "execution_count": null,
   "id": "d2a2fbd8-69e9-451d-bb5d-b804bb775b94",
   "metadata": {},
   "outputs": [],
   "source": [
    "%%time\n",
    "br = Birch(n_clusters=5).fit(X)\n",
    "birch_output = br.predict(X)"
   ]
  },
  {
   "cell_type": "code",
   "execution_count": null,
   "id": "f9b05b2f-92bf-4079-bcf1-197a8132ecf0",
   "metadata": {},
   "outputs": [],
   "source": []
  },
  {
   "cell_type": "code",
   "execution_count": null,
   "id": "1c76502d-21a5-451e-b929-dc222ad1fb24",
   "metadata": {},
   "outputs": [],
   "source": [
    "plt.scatter(X.values[:,0], X.values[:,1],c=birch_output)\n",
    "plt.title(f'Birch Clustering: {num_datapoints} Samples')\n",
    "plt.xlabel(X.columns[0])\n",
    "plt.ylabel(X.columns[1])"
   ]
  },
  {
   "cell_type": "code",
   "execution_count": null,
   "id": "bcf1b2b8-64b7-4933-a190-e71e6e48c252",
   "metadata": {},
   "outputs": [],
   "source": [
    "%%time\n",
    "spectral = SpectralClustering(\n",
    "        n_clusters=5,\n",
    "        #affinity=\"nearest_neighbors\",\n",
    "        random_state=42).fit_predict(X)"
   ]
  },
  {
   "cell_type": "code",
   "execution_count": null,
   "id": "c7fafbb1-a976-4edc-a716-e14034318af5",
   "metadata": {},
   "outputs": [],
   "source": [
    "plt.scatter(X.values[:,0], X.values[:,1],c=spectral)\n",
    "plt.title(f'Spectral Clustering: {num_datapoints} Samples')\n",
    "plt.xlabel(X.columns[0])\n",
    "plt.ylabel(X.columns[1])"
   ]
  },
  {
   "cell_type": "markdown",
   "id": "89fdd11d-a3b3-4733-b95f-f5cb8bd80fc7",
   "metadata": {
    "tags": []
   },
   "source": [
    "## Clustering Data for Input to Random Forest"
   ]
  },
  {
   "cell_type": "markdown",
   "id": "7f0e0854-39fc-409d-82ce-9d340243778b",
   "metadata": {},
   "source": [
    "Based on the cluster analysis above on 5.03.23, 15 clusters appears to have the most data and exclude outliers so will use that number for selection "
   ]
  },
  {
   "cell_type": "code",
   "execution_count": null,
   "id": "97970432-5af4-4014-a704-426dd066d57f",
   "metadata": {},
   "outputs": [],
   "source": [
    "common_params = {\n",
    "    \"n_init\": \"auto\",\n",
    "    \"random_state\": 42,\n",
    "    \"init\":\"random\"\n",
    "}"
   ]
  },
  {
   "cell_type": "code",
   "execution_count": null,
   "id": "7b70e2e7-540a-4d5f-b469-14520dc77be9",
   "metadata": {},
   "outputs": [],
   "source": [
    "score_water = []\n",
    "for c in np.arange(1, 30):\n",
    "    if c%5==0: print(c)\n",
    "    kme_water = KMeans(n_clusters=c,**common_params).fit(X_water)\n",
    "    score_water.append(kme_water.inertia_)"
   ]
  },
  {
   "cell_type": "code",
   "execution_count": null,
   "id": "5914a89d-e5d3-4cd9-b111-42a8f376bda6",
   "metadata": {},
   "outputs": [],
   "source": [
    "score_land = []\n",
    "for c in np.arange(1, 30):\n",
    "    if c%5==0: print(c)\n",
    "    kme_land = KMeans(n_clusters=c,**common_params).fit(X_land)\n",
    "    score_land.append(kme_land.inertia_)"
   ]
  },
  {
   "cell_type": "code",
   "execution_count": null,
   "id": "b004d0a9-b7d3-4237-9df5-3943986f3b50",
   "metadata": {},
   "outputs": [],
   "source": [
    "plt.figure(figsize = (10, 5))\n",
    "plt.plot(score_water,label='Water')\n",
    "plt.plot(score_land,label='Land')\n",
    "plt.xticks(np.arange(1,30))\n",
    "plt.xlabel(\"Number of clusters\")\n",
    "plt.ylabel(\"kmeans inertia\")\n",
    "plt.title(f\"Optimal number of clusters \\n Data {DATA_VERSION}\")\n",
    "plt.legend()"
   ]
  },
  {
   "cell_type": "markdown",
   "id": "89c36209-77c9-4af7-9186-2238c226615b",
   "metadata": {
    "tags": []
   },
   "source": [
    "### Using the best number of clusters "
   ]
  },
  {
   "cell_type": "code",
   "execution_count": 22,
   "id": "860899fd-59ae-420d-ac0b-a1ad8940f4a6",
   "metadata": {},
   "outputs": [],
   "source": [
    "CLUSTER_NUM=15\n",
    "\n",
    "common_params = {\n",
    "    \"n_init\": \"auto\",\n",
    "    \"random_state\": 42,\n",
    "    \"init\":\"random\"\n",
    "}"
   ]
  },
  {
   "cell_type": "code",
   "execution_count": 25,
   "id": "14fadaa2-f0c0-43d0-8048-de4c7ef01329",
   "metadata": {},
   "outputs": [
    {
     "name": "stdout",
     "output_type": "stream",
     "text": [
      "CPU times: user 6min 53s, sys: 23.8 s, total: 7min 17s\n",
      "Wall time: 11.6 s\n"
     ]
    }
   ],
   "source": [
    "%%time\n",
    "kme_land_random =  KMeans(n_clusters=CLUSTER_NUM, **common_params).fit(v201_X_land)\n",
    "kmeans_output_land_random = kme_land_random.predict(v201_X_land)"
   ]
  },
  {
   "cell_type": "code",
   "execution_count": 26,
   "id": "08b9ac07-2215-4e65-ab83-e67411dec00a",
   "metadata": {},
   "outputs": [
    {
     "name": "stdout",
     "output_type": "stream",
     "text": [
      "CPU times: user 3min 22s, sys: 12.4 s, total: 3min 34s\n",
      "Wall time: 5.59 s\n"
     ]
    }
   ],
   "source": [
    "%%time\n",
    "kme_water_random = KMeans(n_clusters=CLUSTER_NUM, **common_params).fit(v201_X_water)\n",
    "kmeans_output_water_random = kme_water_random.predict(v201_X_water)"
   ]
  },
  {
   "cell_type": "markdown",
   "id": "ba80afaf-ec11-4da8-8638-114f0e5a785b",
   "metadata": {
    "tags": []
   },
   "source": [
    "### Even Balanced Random pulled datapoints"
   ]
  },
  {
   "cell_type": "code",
   "execution_count": 27,
   "id": "42a34ff7-b94d-472b-8e8b-633272252473",
   "metadata": {},
   "outputs": [
    {
     "name": "stdout",
     "output_type": "stream",
     "text": [
      "938 8635\n",
      "938\n"
     ]
    }
   ],
   "source": [
    "COUNT_EVEN_BALANCE_LAND = np.inf\n",
    "COUNT_EVEN_BALANCE_WATER = np.inf\n",
    "for cluster in np.unique(kmeans_output_water_random):\n",
    "    land_num = len(np.where(kmeans_output_land_random == cluster)[0])\n",
    "    water_num = len(np.where(kmeans_output_water_random == cluster)[0])\n",
    "    if land_num < COUNT_EVEN_BALANCE_LAND: COUNT_EVEN_BALANCE_LAND = land_num\n",
    "    if water_num < COUNT_EVEN_BALANCE_WATER: COUNT_EVEN_BALANCE_WATER = water_num\n",
    "    \n",
    "print(COUNT_EVEN_BALANCE_LAND, COUNT_EVEN_BALANCE_WATER)\n",
    "if COUNT_EVEN_BALANCE_LAND < COUNT_EVEN_BALANCE_WATER:\n",
    "    COUNT = COUNT_EVEN_BALANCE_LAND\n",
    "else: \n",
    "    COUNT = COUNT_EVEN_BALANCE_WATER\n",
    "print(COUNT)"
   ]
  },
  {
   "cell_type": "markdown",
   "id": "774ae681-7198-4913-bdf9-6b614e129e30",
   "metadata": {},
   "source": []
  },
  {
   "cell_type": "code",
   "execution_count": 29,
   "id": "660e6139-cb3b-4595-9469-215a1252db02",
   "metadata": {},
   "outputs": [
    {
     "name": "stdout",
     "output_type": "stream",
     "text": [
      "cluster 0\n",
      "cluster 1\n",
      "cluster 2\n",
      "cluster 3\n",
      "cluster 4\n",
      "cluster 5\n",
      "cluster 6\n",
      "cluster 7\n",
      "cluster 8\n",
      "cluster 9\n",
      "cluster 10\n",
      "cluster 11\n",
      "cluster 12\n",
      "cluster 13\n",
      "cluster 14\n",
      "Cluster 14 contains outliers\n",
      "[1781608  405892  951039 ...   16424 1122190  609520] [1402907 1833649  477477 ... 1278454 1006035 1817319]\n"
     ]
    }
   ],
   "source": [
    "# np.random.seed(42)\n",
    "EB_random_ind_land = np.array([])\n",
    "EB_random_ind_water = []\n",
    "\n",
    "for cluster in np.unique(kmeans_output_water_random):\n",
    "    print(f'cluster {cluster}')\n",
    "    cluster_ind_water = np.where(kmeans_output_water_random == cluster)[0]\n",
    "    random_pts_water = np.random.choice(cluster_ind_water,COUNT,replace=False)\n",
    "    max_X_random_water = np.nanmax(v201_X_water['sur_refl_b01_1'].iloc[random_pts_water])\n",
    "    if max_X_random_water < 10000:\n",
    "        EB_random_ind_water = np.append(EB_random_ind_water, random_pts_water)\n",
    "    else: print(f'Cluster {cluster} contains outliers')\n",
    "    \n",
    "    cluster_ind_land = np.where(kmeans_output_land_random == cluster)[0]\n",
    "    random_pts_land = np.random.choice(cluster_ind_land,COUNT,replace=False)\n",
    "    EB_random_ind_land = np.append(EB_random_ind_land, random_pts_land)\n",
    "    \n",
    "EB_random_ind_water = EB_random_ind_water.astype('int')\n",
    "EB_random_ind_land = EB_random_ind_land.astype('int')\n",
    "\n",
    "print(EB_random_ind_water,EB_random_ind_land)"
   ]
  },
  {
   "cell_type": "code",
   "execution_count": 31,
   "id": "bf76286d-7e58-444e-97ef-27cd5fa83dee",
   "metadata": {},
   "outputs": [],
   "source": [
    "EB_X_cluster_land_random = v201_X_land.iloc[EB_random_ind_land]\n",
    "EB_y_cluster_land_random = v201_y_land.iloc[EB_random_ind_land]\n",
    "EB_X_cluster_water_random = v201_X_water.iloc[EB_random_ind_water]\n",
    "EB_y_cluster_water_random = v201_y_water.iloc[EB_random_ind_water]\n",
    "\n",
    "EB_X_cluster_random = pd.concat([EB_X_cluster_land_random,EB_X_cluster_water_random])\n",
    "EB_y_cluster_random = pd.concat([EB_y_cluster_land_random,EB_y_cluster_water_random])\n",
    "\n",
    "#Combine the data so that we can shuffle the indices and keep the data together that should be\n",
    "EB_All_data_random = pd.concat([EB_X_cluster_random,EB_y_cluster_random],axis=1).sample(frac=1)\n",
    "\n",
    "EB_X_cluster_rfa_random = EB_All_data_random[EB_X_cluster_random.columns]\n",
    "EB_y_cluster_rfa_random = EB_All_data_random['water']"
   ]
  },
  {
   "cell_type": "code",
   "execution_count": 33,
   "id": "b1fcfb98-117c-4e5d-a4de-fdf142114f9a",
   "metadata": {
    "tags": []
   },
   "outputs": [
    {
     "name": "stdout",
     "output_type": "stream",
     "text": [
      "         sur_refl_b01_1  sur_refl_b02_1  sur_refl_b07_1  ndvi\n",
      "1023185             507             118             120 -6224\n",
      "2136868             571             186              97 -5085\n",
      "2863823              28               8             678 -5555\n",
      "2652369             619             256              62 -4148\n",
      "1523805             960             487             343 -3268\n",
      "...                 ...             ...             ...   ...\n",
      "1801475             778            2681            1276  5501\n",
      "451365              582            2388             902  6080\n",
      "4251262             836            3207            1403  5864\n",
      "200113              636            2840            1196  6340\n",
      "1935203             875            3110            1365  5608\n",
      "\n",
      "[14070 rows x 4 columns]          sur_refl_b01_1  sur_refl_b02_1  sur_refl_b07_1   ndvi\n",
      "5272990              31              36             116    746\n",
      "1151443             549             767             127   1656\n",
      "4242380             176             272              20   2142\n",
      "2751666             197             206              72    223\n",
      "4410405              56              90              21   2328\n",
      "...                 ...             ...             ...    ...\n",
      "1374402               8              -4              70 -30000\n",
      "1961976              23             -28              33 -29072\n",
      "4784270               8              -9              36 -26608\n",
      "2309827              -3               5              38 -25536\n",
      "690362               12              -6              30 -30000\n",
      "\n",
      "[13132 rows x 4 columns]\n"
     ]
    }
   ],
   "source": [
    "print(EB_X_cluster_land_random,EB_X_cluster_water_random)"
   ]
  },
  {
   "cell_type": "markdown",
   "id": "f22a4cca-556f-4e75-bc92-6361608f42c2",
   "metadata": {
    "tags": []
   },
   "source": [
    "### Percentage Random pulled datapoints"
   ]
  },
  {
   "cell_type": "code",
   "execution_count": 36,
   "id": "a5a6a8c5-ad0e-4e6c-89b7-7e75526f654f",
   "metadata": {},
   "outputs": [],
   "source": [
    "PERCENT_RANDOM_PULL = 0.15"
   ]
  },
  {
   "cell_type": "code",
   "execution_count": 37,
   "id": "7ee2dae0-b83d-470b-ae1d-daffa1c42816",
   "metadata": {},
   "outputs": [
    {
     "name": "stdout",
     "output_type": "stream",
     "text": [
      "cluster 0\n",
      "31374 Water pts 1251 Land pts\n",
      "cluster 1\n",
      "31209 Water pts 13008 Land pts\n",
      "cluster 2\n",
      "7702 Water pts 19392 Land pts\n",
      "cluster 3\n",
      "38506 Water pts 21910 Land pts\n",
      "cluster 4\n",
      "51727 Water pts 36650 Land pts\n",
      "cluster 5\n",
      "25177 Water pts 171 Land pts\n",
      "cluster 6\n",
      "6784 Water pts 34919 Land pts\n",
      "cluster 7\n",
      "14366 Water pts 41556 Land pts\n",
      "cluster 8\n",
      "5281 Water pts 42593 Land pts\n",
      "cluster 9\n",
      "5111 Water pts 13120 Land pts\n",
      "cluster 10\n",
      "26027 Water pts 140 Land pts\n",
      "cluster 11\n",
      "33681 Water pts 39781 Land pts\n",
      "cluster 12\n",
      "13339 Water pts 26957 Land pts\n",
      "cluster 13\n",
      "5124 Water pts 26193 Land pts\n",
      "cluster 14\n",
      "Cluster 14 contains outliers\n",
      "1295 Water pts 42016 Land pts\n",
      "[1305070 1017200  261006 ... 1173740 1388428  980442] [ 839500 2059710 1565001 ... 1723104  352432 1093255]\n"
     ]
    }
   ],
   "source": [
    "# np.random.seed(42)\n",
    "Per_random_ind_land = np.array([])\n",
    "Per_random_ind_water = []\n",
    "\n",
    "for cluster in np.unique(kmeans_output_water_random):\n",
    "    print(f'cluster {cluster}')\n",
    "    cluster_ind_water = np.where(kmeans_output_water_random == cluster)[0]\n",
    "    # cluster_ind_water = np.where(bgm_water == cluster)[0]\n",
    "    COUNT_RANDOM_PULL_WATER = int(PERCENT_RANDOM_PULL*len(cluster_ind_water))\n",
    "    random_pts_water = np.random.choice(cluster_ind_water,COUNT_RANDOM_PULL_WATER,replace=False)\n",
    "    max_X_random_water = np.nanmax(v201_X_water['sur_refl_b01_1'].iloc[random_pts_water])\n",
    "    if max_X_random_water < 10000:\n",
    "        Per_random_ind_water = np.append(Per_random_ind_water, random_pts_water)\n",
    "    else: print(f'Cluster {cluster} contains outliers')\n",
    "    \n",
    "    cluster_ind_land = np.where(kmeans_output_land_random == cluster)[0]\n",
    "    # cluster_ind_land = np.where(bgm_land == cluster)[0]\n",
    "    COUNT_RANDOM_PULL_LAND = int(PERCENT_RANDOM_PULL*len(cluster_ind_land))\n",
    "    random_pts_land = np.random.choice(cluster_ind_land,COUNT_RANDOM_PULL_LAND,replace=False)\n",
    "    Per_random_ind_land = np.append(Per_random_ind_land, random_pts_land)\n",
    "    print(f'{COUNT_RANDOM_PULL_WATER} Water pts {COUNT_RANDOM_PULL_LAND} Land pts')\n",
    "    \n",
    "Per_random_ind_water = Per_random_ind_water.astype('int')\n",
    "Per_random_ind_land = Per_random_ind_land.astype('int')\n",
    "\n",
    "print(Per_random_ind_water,Per_random_ind_land)"
   ]
  },
  {
   "cell_type": "code",
   "execution_count": null,
   "id": "58dd5a1c-fb13-4e2a-800d-21a1864f1ac8",
   "metadata": {},
   "outputs": [],
   "source": []
  },
  {
   "cell_type": "markdown",
   "id": "0d307387-dc6d-49ce-be7d-af4346607953",
   "metadata": {
    "tags": []
   },
   "source": [
    "#### Total random dataset used for training random forest"
   ]
  },
  {
   "cell_type": "code",
   "execution_count": 39,
   "id": "0b1e0e4d-7b22-4fca-a93a-f16d7da8571d",
   "metadata": {},
   "outputs": [],
   "source": [
    "Per_X_cluster_land_random = v201_X_land.iloc[Per_random_ind_land]\n",
    "Per_y_cluster_land_random = v201_y_land.iloc[Per_random_ind_land]\n",
    "Per_X_cluster_water_random = v201_X_water.iloc[Per_random_ind_water]\n",
    "Per_y_cluster_water_random = v201_y_water.iloc[Per_random_ind_water]\n",
    "\n",
    "Per_X_cluster_random = pd.concat([Per_X_cluster_land_random,Per_X_cluster_water_random])\n",
    "Per_y_cluster_random = pd.concat([Per_y_cluster_land_random,Per_y_cluster_water_random])\n",
    "\n",
    "#Combine the data so that we can shuffle the indices and keep the data together that should be\n",
    "Per_All_data_random = pd.concat([Per_X_cluster_random,Per_y_cluster_random],axis=1).sample(frac=1)\n",
    "\n",
    "Per_X_cluster_rfa_random = Per_All_data_random[Per_X_cluster_random.columns]\n",
    "Per_y_cluster_rfa_random = Per_All_data_random['water']"
   ]
  },
  {
   "cell_type": "code",
   "execution_count": 40,
   "id": "9ba98450-3b2d-46b7-8445-94e67036f79e",
   "metadata": {
    "tags": []
   },
   "outputs": [
    {
     "name": "stdout",
     "output_type": "stream",
     "text": [
      "         sur_refl_b01_1  sur_refl_b02_1  sur_refl_b07_1  ndvi\n",
      "4480999            -100             -38            1378 -4492\n",
      "1040557             787             474               4 -2482\n",
      "4812570             -24              -8             149 -5000\n",
      "3271080             144              61             116 -4048\n",
      "3572859             171              53              11 -5267\n",
      "...                 ...             ...             ...   ...\n",
      "4003748             620            2708            1155  6274\n",
      "1121484             756            3265             839  6239\n",
      "4640041             605            2503            1111  6106\n",
      "636052              789            3019            1245  5856\n",
      "955717              614            2358             821  5868\n",
      "\n",
      "[359657 rows x 4 columns]          sur_refl_b01_1  sur_refl_b02_1  sur_refl_b07_1   ndvi\n",
      "1029641             -10             -11              37    476\n",
      "2340552              -6              -6               4      0\n",
      "305584              608             588             680   -167\n",
      "2316414            -100            -100             337      0\n",
      "21275              -100            -100              12      0\n",
      "...                 ...             ...             ...    ...\n",
      "69708                13              -6              36 -27142\n",
      "1548538              25             -24              -1 -31248\n",
      "277816               18              -8               4 -26000\n",
      "5374481              24             -42              88 -28870\n",
      "4856156              17             -15               0 -28928\n",
      "\n",
      "[295408 rows x 4 columns]\n"
     ]
    }
   ],
   "source": [
    "print(Per_X_cluster_land_random,Per_X_cluster_water_random)"
   ]
  },
  {
   "cell_type": "code",
   "execution_count": 41,
   "id": "b3ca19f5-9c0b-46c4-8297-4dbe967f0d2e",
   "metadata": {},
   "outputs": [
    {
     "data": {
      "text/html": [
       "<div>\n",
       "<style scoped>\n",
       "    .dataframe tbody tr th:only-of-type {\n",
       "        vertical-align: middle;\n",
       "    }\n",
       "\n",
       "    .dataframe tbody tr th {\n",
       "        vertical-align: top;\n",
       "    }\n",
       "\n",
       "    .dataframe thead th {\n",
       "        text-align: right;\n",
       "    }\n",
       "</style>\n",
       "<table border=\"1\" class=\"dataframe\">\n",
       "  <thead>\n",
       "    <tr style=\"text-align: right;\">\n",
       "      <th></th>\n",
       "      <th>sur_refl_b01_1</th>\n",
       "      <th>sur_refl_b02_1</th>\n",
       "      <th>sur_refl_b07_1</th>\n",
       "      <th>ndvi</th>\n",
       "      <th>water</th>\n",
       "    </tr>\n",
       "  </thead>\n",
       "  <tbody>\n",
       "    <tr>\n",
       "      <th>4416007</th>\n",
       "      <td>697</td>\n",
       "      <td>1142</td>\n",
       "      <td>745</td>\n",
       "      <td>2419</td>\n",
       "      <td>0</td>\n",
       "    </tr>\n",
       "    <tr>\n",
       "      <th>3835779</th>\n",
       "      <td>743</td>\n",
       "      <td>2869</td>\n",
       "      <td>1446</td>\n",
       "      <td>5885</td>\n",
       "      <td>0</td>\n",
       "    </tr>\n",
       "    <tr>\n",
       "      <th>5312357</th>\n",
       "      <td>21</td>\n",
       "      <td>0</td>\n",
       "      <td>11</td>\n",
       "      <td>-10000</td>\n",
       "      <td>1</td>\n",
       "    </tr>\n",
       "    <tr>\n",
       "      <th>3243748</th>\n",
       "      <td>489</td>\n",
       "      <td>2906</td>\n",
       "      <td>834</td>\n",
       "      <td>7119</td>\n",
       "      <td>0</td>\n",
       "    </tr>\n",
       "    <tr>\n",
       "      <th>4094000</th>\n",
       "      <td>28</td>\n",
       "      <td>7</td>\n",
       "      <td>61</td>\n",
       "      <td>-6000</td>\n",
       "      <td>1</td>\n",
       "    </tr>\n",
       "    <tr>\n",
       "      <th>...</th>\n",
       "      <td>...</td>\n",
       "      <td>...</td>\n",
       "      <td>...</td>\n",
       "      <td>...</td>\n",
       "      <td>...</td>\n",
       "    </tr>\n",
       "    <tr>\n",
       "      <th>3524717</th>\n",
       "      <td>80</td>\n",
       "      <td>93</td>\n",
       "      <td>57</td>\n",
       "      <td>751</td>\n",
       "      <td>1</td>\n",
       "    </tr>\n",
       "    <tr>\n",
       "      <th>3884780</th>\n",
       "      <td>25</td>\n",
       "      <td>15</td>\n",
       "      <td>35</td>\n",
       "      <td>-2500</td>\n",
       "      <td>1</td>\n",
       "    </tr>\n",
       "    <tr>\n",
       "      <th>1026997</th>\n",
       "      <td>173</td>\n",
       "      <td>-5</td>\n",
       "      <td>22</td>\n",
       "      <td>-10595</td>\n",
       "      <td>1</td>\n",
       "    </tr>\n",
       "    <tr>\n",
       "      <th>5116017</th>\n",
       "      <td>588</td>\n",
       "      <td>296</td>\n",
       "      <td>152</td>\n",
       "      <td>-3303</td>\n",
       "      <td>1</td>\n",
       "    </tr>\n",
       "    <tr>\n",
       "      <th>3057380</th>\n",
       "      <td>804</td>\n",
       "      <td>2878</td>\n",
       "      <td>1455</td>\n",
       "      <td>5632</td>\n",
       "      <td>0</td>\n",
       "    </tr>\n",
       "  </tbody>\n",
       "</table>\n",
       "<p>655065 rows × 5 columns</p>\n",
       "</div>"
      ],
      "text/plain": [
       "         sur_refl_b01_1  sur_refl_b02_1  sur_refl_b07_1   ndvi  water\n",
       "4416007             697            1142             745   2419      0\n",
       "3835779             743            2869            1446   5885      0\n",
       "5312357              21               0              11 -10000      1\n",
       "3243748             489            2906             834   7119      0\n",
       "4094000              28               7              61  -6000      1\n",
       "...                 ...             ...             ...    ...    ...\n",
       "3524717              80              93              57    751      1\n",
       "3884780              25              15              35  -2500      1\n",
       "1026997             173              -5              22 -10595      1\n",
       "5116017             588             296             152  -3303      1\n",
       "3057380             804            2878            1455   5632      0\n",
       "\n",
       "[655065 rows x 5 columns]"
      ]
     },
     "execution_count": 41,
     "metadata": {},
     "output_type": "execute_result"
    }
   ],
   "source": [
    "Per_All_data_random"
   ]
  },
  {
   "cell_type": "code",
   "execution_count": 85,
   "id": "ed0f54ce-d62f-4b88-b393-eb801e67a381",
   "metadata": {},
   "outputs": [
    {
     "data": {
      "text/plain": [
       "Index(['sur_refl_b01_1', 'sur_refl_b02_1', 'sur_refl_b07_1', 'ndvi'], dtype='object')"
      ]
     },
     "execution_count": 85,
     "metadata": {},
     "output_type": "execute_result"
    }
   ],
   "source": [
    "v201_X.columns"
   ]
  },
  {
   "cell_type": "code",
   "execution_count": 114,
   "id": "6f1b1d68-874f-4f3c-adfa-be7985c4d439",
   "metadata": {},
   "outputs": [
    {
     "data": {
      "image/png": "[encoded data removed]",
      "text/plain": [
       "<Figure size 1800x1000 with 4 Axes>"
      ]
     },
     "metadata": {},
     "output_type": "display_data"
    }
   ],
   "source": [
    "fig, ax = plt.subplots(2, 2, sharey='row',figsize=(18, 10))\n",
    "var=0\n",
    "for col in range(2):\n",
    "    ax[col, 0].set_ylabel('Frequency') \n",
    "    for row in range(2):\n",
    "        variable=v201_X.columns[var]\n",
    "        ax[row, col].hist(\n",
    "        [\n",
    "        v201_X[variable].values,v421_X[variable].values,\n",
    "        Per_All_data_random[variable].values, EB_All_data_random[variable].values\n",
    "        ],\n",
    "        label=['Total v201','Targeted v421',\n",
    "               'Percent Cluster v201','Balanced Cluster v201'\n",
    "        ],\n",
    "        color=['steelblue','lightskyblue','darkgreen','mediumseagreen'],\n",
    "        log=True) \n",
    "        ax[row, col].set_xlabel(f'{variable}')\n",
    "        var+=1\n",
    "     \n",
    "    ax[0,0].legend(loc='upper right')\n",
    "plt.show()\n",
    "    "
   ]
  },
  {
   "cell_type": "code",
   "execution_count": null,
   "id": "d96937fe-ddf3-4314-b9e8-28323e0d60d1",
   "metadata": {},
   "outputs": [],
   "source": [
    "print(np.unique(kmeans_output_water))"
   ]
  },
  {
   "cell_type": "code",
   "execution_count": null,
   "id": "2d601296-fa2e-4dc4-bf1b-ce765b117949",
   "metadata": {},
   "outputs": [],
   "source": [
    "np.random.seed(42)\n",
    "center_ind_land = np.array([])\n",
    "center_ind_water = np.array([])\n",
    "water_cluster_distance = kme_water.transform(X_water)\n",
    "land_cluster_distance = kme_land.transform(X_land)\n",
    "\n",
    "# DISTANCE_BOUNDS = \n",
    "\n",
    "\n",
    "for cluster in np.unique(kmeans_output_land):\n",
    "    print(f'cluster {cluster}')\n",
    "    cluster_ind_water = np.where(kmeans_output_water == cluster)[0]\n",
    "    print(cluster_ind_water)\n",
    "    clustered_water_distance = water_cluster_distance[cluster_ind_water,cluster]\n",
    "    \n",
    "    centroid_cluster_pts_water = np.where(clustered_water_distance < \n",
    "                    np.nanpercentile(clustered_water_distance,10))[0]\n",
    "    center_ind_water = np.append(center_ind_water, centroid_cluster_pts_water)\n",
    "    \n",
    "#     fig = plt.figure(figsize = (25, 10))\n",
    "#     ax = plt.subplot(111,projection='3d')\n",
    "#     # No random sample\n",
    "#     # ax.scatter(X_land.values[:,0], X_land.values[:,1],label=f'All Land {len(y_land)}',\n",
    "#     #        c=clustered_points_land) \n",
    "#     ax.scatter(X_land.values[cluster_ind_water,0], \n",
    "#                X_land.values[cluster_ind_water,1],\n",
    "#                X_land.values[cluster_ind_water,2],\n",
    "#                label=f'All Land {len(y_land)}',\n",
    "#                alpha=0.2\n",
    "#            ) \n",
    "#     ax.scatter(X_land.values[centroid_cluster_pts_water,0], \n",
    "#                X_land.values[centroid_cluster_pts_water,1],\n",
    "#                X_land.values[centroid_cluster_pts_water,2],\n",
    "#                label=f'Cluster',\n",
    "#            ) \n",
    "#     plt.show()\n",
    "    \n",
    "    cluster_ind_land = np.where(kmeans_output_land == cluster)[0]\n",
    "    clustered_land_distance = land_cluster_distance[cluster_ind_land,cluster]\n",
    "    centroid_cluster_pts_land = np.where(clustered_land_distance < np.nanpercentile(clustered_land_distance,10))[0]\n",
    "    center_ind_land = np.append(center_ind_land, centroid_cluster_pts_land)\n",
    "    \n",
    "        \n",
    "    print(f'Pulling {len(centroid_cluster_pts_water)} Water pts and {len(centroid_cluster_pts_land)} Land pts')\n",
    "    \n",
    "    #https://stackoverflow.com/questions/54240144/distance-between-nodes-and-the-centroid-in-a-kmeans-cluster \n",
    "    #how to identify distance from the center \n",
    "    \n",
    "center_ind_water = center_ind_water.astype('int')\n",
    "center_ind_land = center_ind_land.astype('int')\n",
    "\n",
    "print(np.shape(center_ind_land),np.shape(center_ind_water))\n",
    "print(center_ind_water,center_ind_land)"
   ]
  },
  {
   "cell_type": "code",
   "execution_count": null,
   "id": "173dbc78-dbe5-458a-83bc-044c7ed0d424",
   "metadata": {},
   "outputs": [],
   "source": [
    "X_cluster_land_center = X_land.iloc[center_ind_land]\n",
    "y_cluster_land_center = y_land.iloc[center_ind_land]\n",
    "X_cluster_water_center = X_water.iloc[center_ind_water]\n",
    "y_cluster_water_center = y_water.iloc[center_ind_water]\n",
    "\n",
    "X_cluster_center = pd.concat([X_cluster_land_center,X_cluster_water_center])\n",
    "y_cluster_center = pd.concat([y_cluster_land_center,y_cluster_water_center])\n",
    "\n",
    "#Combine the data so that we can shuffle the indices and keep the data together that should be\n",
    "All_data_center = pd.concat([X_cluster_center,y_cluster_center],axis=1).sample(frac=1)\n",
    "\n",
    "X_cluster_rfa_center = All_data_center[X_cluster_center.columns]\n",
    "y_cluster_rfa_center = All_data_center['water']"
   ]
  },
  {
   "cell_type": "code",
   "execution_count": null,
   "id": "924da543-16c3-4a02-bbe7-fa37b8f01f40",
   "metadata": {},
   "outputs": [],
   "source": [
    "# clustered_points_land = np.ones(np.shape(X_land.iloc[:,0]))\n",
    "# clustered_points_land[center_ind_land] = 2.0\n",
    "# print(clustered_points_land[:1200])\n",
    "\n",
    "# fig = plt.figure(figsize = (25, 10))\n",
    "# ax = plt.subplot(111)\n",
    "# #No random sample\n",
    "# ax.scatter(X_land.values[:,0], X_land.values[:,1],label=f'All Land {len(y_land)}',\n",
    "#            c=clustered_points_land)\n",
    "# # #Randomly sampled data\n",
    "# # ax.scatter(X_random_water.values[:,0], X_random_water.values[:,1],label=f'Samp Water {len(y_random_water)}')\n",
    "# # ax.scatter(X_random_land.values[:,0], X_random_land.values[:,1],label=f'Samp Land {len(y_random_land)}')\n",
    "\n",
    "# # ax.set_title(f'{DATA_VERSION} Land and Water Datapoints'+ \n",
    "# #     f'\\n {int(100*PERCENT_RANDOM_PULL)}% Randomly Chosen from {len(np.unique(kmeans_output_land))} Clusters')\n",
    "# # ax.tick_params(axis='both', which='major', labelsize=10)\n",
    "# # ax.tick_params(axis='both', which='minor', labelsize=10)\n",
    "# # ax.legend(loc='lower right',fontsize=\"12\")\n",
    "# # ax.set_xlabel(X_random_water.columns[0])\n",
    "# # ax.set_ylabel(X_random_water.columns[1])\n",
    "\n",
    "# plt.show()"
   ]
  },
  {
   "cell_type": "code",
   "execution_count": null,
   "id": "7116d6c8-c958-46d7-adae-c594f1cca9fc",
   "metadata": {},
   "outputs": [],
   "source": [
    "# #No random sample\n",
    "# ax.hist(X_water.values[:,0],label=f'All Water {len(y_water)}',alpha=0.8)\n",
    "# ax.hist(X_land.values[:,0],label=f'All Land {len(y_land)}', alpha=0.8)\n",
    "# ax.hist(X_random_water.values[:,0],label=f'Samp Water {len(y_random_water)}', alpha=0.8)\n",
    "# ax.hist(X_random_land.values[:,0], label=f'Samp Land {len(y_random_land)}',alpha=0.8) \n",
    "# # ax.scatter(X_land.values[:,0], X_land.values[:,1],label=f'All Land {len(y_land)}')\n",
    "# # #Randomly sampled data\n",
    "# # ax.scatter(X_random_water.values[:,0], X_random_water.values[:,1],label=f'Samp Water {len(y_random_water)}')\n",
    "# # ax.scatter(X_random_land.values[:,0], X_random_land.values[:,1],label=f'Samp Land {len(y_random_land)}')\n",
    "\n",
    "# ax.set_title(f'{DATA_VERSION} Land and Water Datapoints'+ \n",
    "#     f'\\n {int(100*PERCENT_RANDOM_PULL)}% Randomly Chosen from {len(np.unique(kmeans_output_land))} Clusters')\n",
    "# ax.tick_params(axis='both', which='major', labelsize=10)\n",
    "# ax.tick_params(axis='both', which='minor', labelsize=10)\n",
    "# ax.legend(loc='lower right',fontsize=\"12\")\n",
    "# ax.set_xlabel(X_random_water.columns[0])\n",
    "# # ax.set_ylabel(X_random_water.columns[1])\n",
    "\n",
    "# plt.show()"
   ]
  },
  {
   "cell_type": "code",
   "execution_count": null,
   "id": "7ce60e95-e471-4c4a-a292-7d3e4152cca1",
   "metadata": {},
   "outputs": [],
   "source": []
  },
  {
   "cell_type": "code",
   "execution_count": null,
   "id": "b049d7c2-e32e-4e02-9b1f-c65858b16a36",
   "metadata": {},
   "outputs": [],
   "source": [
    "y_cluster_water_random \n",
    "y_cluster_water_center"
   ]
  },
  {
   "cell_type": "code",
   "execution_count": null,
   "id": "5134d397-f7fc-4ca8-baad-13a57f478a67",
   "metadata": {},
   "outputs": [],
   "source": [
    "fig = plt.figure(figsize = (15, 7))\n",
    "\n",
    "plt.suptitle(f'{DATA_VERSION} Land and Water Datapoints,'+ \n",
    "    f' {int(100*PERCENT_RANDOM_PULL)}% Randomly Chosen from {len(np.unique(kmeans_output_land))} Clusters')\n",
    "\n",
    "ax = plt.subplot(121)\n",
    "#No random sample\n",
    "# ax.scatter(X_water.values[:,0], X_water.values[:,1],label=f'All Water {len(y_water)}')\n",
    "# ax.scatter(X_land.values[:,0], X_land.values[:,1],label=f'All Land {len(y_land)}')\n",
    "#Randomly sampled data\n",
    "ax.set_title('Water Datapoints')\n",
    "ax.scatter(X_cluster_water_random.values[:,0], X_cluster_water_random.values[:,1],label=f'Cluster Water Random {len(y_cluster_water_random )}')\n",
    "ax.scatter(X_cluster_water_center.values[:,0], X_cluster_water_center.values[:,1],label=f'Cluster Water Centered {len(y_cluster_water_center)}')\n",
    "ax.legend(loc='lower right',fontsize=\"12\")\n",
    "           \n",
    "    \n",
    "ax = plt.subplot(122)\n",
    "#No random sample\n",
    "# ax.scatter(X_water.values[:,0], X_water.values[:,1],label=f'All Water {len(y_water)}')\n",
    "# ax.scatter(X_land.values[:,0], X_land.values[:,1],label=f'All Land {len(y_land)}')\n",
    "#Randomly sampled data\n",
    "ax.set_title('Land Datapoints')\n",
    "ax.scatter(X_cluster_land_random.values[:,0], X_cluster_land_random.values[:,1],label=f'Cluster Land Random {len(y_cluster_land_random )}')\n",
    "ax.scatter(X_cluster_land_center.values[:,0], X_cluster_land_center.values[:,1],label=f'Cluster Land Centered {len(y_cluster_land_center)}')\n",
    "ax.legend(loc='lower right',fontsize=\"12\")\n",
    "           \n",
    "plt.show()"
   ]
  },
  {
   "cell_type": "markdown",
   "id": "6b1275f9-da11-4eb5-ac74-c72516afe64d",
   "metadata": {},
   "source": [
    "https://medium.com/@prasadostwal/multi-dimension-plots-in-python-from-2d-to-6d-9a2bf7b8cc74 for adding in more dimensions for plotting"
   ]
  },
  {
   "cell_type": "markdown",
   "id": "e319c40e-f6bf-4508-8a4f-4d02ab8d1a05",
   "metadata": {
    "jp-MarkdownHeadingCollapsed": true,
    "tags": []
   },
   "source": [
    "#### paths"
   ]
  },
  {
   "cell_type": "code",
   "execution_count": 19,
   "id": "db509007-8c29-4049-b7cb-b1c2e172b435",
   "metadata": {},
   "outputs": [],
   "source": [
    "import optuna\n",
    "from sklearn.ensemble import RandomForestClassifier as skRF\n",
    "from sklearn.metrics import confusion_matrix, accuracy_score, roc_auc_score, precision_score, f1_score\n",
    "from sklearn.metrics import classification_report, roc_curve, auc, matthews_corrcoef\n",
    "from sklearn.model_selection import RandomizedSearchCV, KFold, StratifiedKFold\n",
    "from sklearn.inspection import permutation_importance\n",
    "\n",
    "\n",
    "#GDAL Stuff\n",
    "from osgeo import gdalconst\n",
    "from osgeo import gdal\n",
    "from pprint import pprint"
   ]
  },
  {
   "cell_type": "code",
   "execution_count": 20,
   "id": "3e0fcb22-fca3-4a5d-940f-01139be277d3",
   "metadata": {},
   "outputs": [
    {
     "name": "stdout",
     "output_type": "stream",
     "text": [
      "h11v02_233_2006_frac-water50_no-vars_sur_refl_b03_1-sur_refl_b04_1-sur_refl_b05_1-sur_refl_b06_1-ndwi1-ndwi2\n"
     ]
    }
   ],
   "source": [
    "FIGURE_OUTPUT_DIR = ''#/explore/nobackup/projects/ilab/scratch/cssprad1/MODIS_water/code/tmp'\n",
    "RASTER_OUTPUT_DIR = ''#/explore/nobackup/projects/ilab/scratch/cssprad1/MODIS_water/code/tmp'\n",
    "MODEL_OUTPUT_DIR = ''#/explore/nobackup/projects/ilab/scratch/cssprad1/MODIS_water/models/'\n",
    "\n",
    "qaMaskPath = '/explore/nobackup/projects/ilab/data/MODIS/MODIS_WATER_ML/qa'\n",
    "waterMaskPath = '/explore/nobackup/people/mcarrol2/MODIS_water/v5_outputs'\n",
    "\n",
    "test_data_basepath = '/explore/nobackup/projects/ilab/data/MODIS/MODIS_WATER_ML/test_data/'\n",
    "\n",
    "\n",
    "TILE = 'h11v02'\n",
    "DAY = 233\n",
    "YEAR = 2006\n",
    "\n",
    "# TILE = 'h21v10'\n",
    "# DAY = 100\n",
    "# YEAR = 2019\n",
    "\n",
    "FRAC_LAND = 0.5\n",
    "\n",
    "##Add in the other stuff for tuning\n",
    "frac_water = int(100*(1.0-FRAC_LAND))\n",
    "if len(colsToDrop) >= 1:\n",
    "    save_file = f\"{TILE}_{DAY}_{YEAR}_frac-water{frac_water}_no-vars_{'-'.join(colsToDrop)}\"\n",
    "else: \n",
    "     save_file = f\"{TILE}_{DAY}_{YEAR}_frac-water{frac_water}_all-vars\"\n",
    "\n",
    "print(save_file)"
   ]
  },
  {
   "cell_type": "markdown",
   "id": "15bc7e41-cd94-4ca8-8ed3-df7bd2568922",
   "metadata": {
    "jp-MarkdownHeadingCollapsed": true,
    "tags": []
   },
   "source": [
    "#### RF FUNCTIONS"
   ]
  },
  {
   "cell_type": "code",
   "execution_count": 21,
   "id": "c3244e03-63f5-45f2-b28d-dfcd6b7bc8e0",
   "metadata": {},
   "outputs": [],
   "source": [
    "def rf_objective(trial):\n",
    "    list_trees = [75, 100, 125, 150, 175, 200, 250, 300, 400, 500]\n",
    "    max_depth = [5, 10, 30, 50, 80, 90, 100, 110]\n",
    "    min_samples_leaf = [1, 2, 3, 4, 5]\n",
    "    min_samples_split = [2, 4, 8, 10]\n",
    "    bootstrap = [True, False]\n",
    "    max_features = ['auto', 'sqrt', 'log2']\n",
    "    \n",
    "    # if TREES_AND_DEPTH_ONLY:\n",
    "    #     param = {'n_estimators': trial.suggest_categorical('n_estimators', list_trees), \n",
    "    #                'criterion':'gini', \n",
    "    #                'max_depth':trial.suggest_categorical('max_depth', max_depth), \n",
    "    #                'min_samples_split':2, \n",
    "    #                'min_samples_leaf':1, \n",
    "    #                'min_weight_fraction_leaf':0.0, \n",
    "    #                'max_features':'auto', \n",
    "    #                'max_leaf_nodes':None, \n",
    "    #                'min_impurity_decrease':0.0, \n",
    "    #                'bootstrap':True, \n",
    "    #                'oob_score':False, \n",
    "    #                'n_jobs':-1, \n",
    "    #                # 'random_state':42, \n",
    "    #                'verbose':0, \n",
    "    #                'warm_start':True, \n",
    "    #                'class_weight':None, \n",
    "    #                'ccp_alpha':0.0, \n",
    "    #                'max_samples':None\n",
    "    #                   }\n",
    "    # else:\n",
    "    param = {'n_estimators': trial.suggest_categorical('n_estimators', list_trees), \n",
    "                       'max_depth':trial.suggest_categorical('max_depth', max_depth), \n",
    "                       'min_samples_split':trial.suggest_categorical('min_samples_split', min_samples_split), \n",
    "                       'min_samples_leaf':trial.suggest_categorical('min_samples_leaf', min_samples_leaf), \n",
    "                       'bootstrap': trial.suggest_categorical('bootstrap', bootstrap),\n",
    "                       'criterion':'gini', \n",
    "                       #'min_weight_fraction_leaf': trial.suggest_float('min_weight_fraction_leaf', 1e-8, 1.0, log=True), \n",
    "                       'max_features':trial.suggest_categorical('max_features', max_features), \n",
    "                       'max_leaf_nodes':None, \n",
    "                       'min_impurity_decrease':0.0, \n",
    "                       'oob_score':False, \n",
    "                       'n_jobs':-1, \n",
    "                       # 'random_state':42, \n",
    "                       'verbose':0, \n",
    "                       'warm_start':False, \n",
    "                       'class_weight':None, \n",
    "                       'ccp_alpha':0.0, \n",
    "                       'max_samples':None\n",
    "                      }\n",
    "    cv = StratifiedKFold(n_splits=5, shuffle=True, random_state=42)\n",
    "\n",
    "    #######################\n",
    "    # HERE IS WHERE TO CHANGE THE X,Y DATASET USED FOR TRAINING\n",
    "    #######################\n",
    "   \n",
    "    cv_scores = np.empty(5)\n",
    "    # for idx, (train_idx, val_idx) in enumerate(cv.split(X,y)):\n",
    "    #     X_train, X_val = X.iloc[train_idx], X.iloc[val_idx]\n",
    "    #     y_train, y_val = y.iloc[train_idx],  y.iloc[val_idx]\n",
    "\n",
    "    for idx, (train_idx, val_idx) in enumerate(cv.split(X_cluster_rfa_random,  y_cluster_rfa_random)):    \n",
    "        X_train, X_val = X_cluster_rfa_random.iloc[train_idx], X_cluster_rfa_random.iloc[val_idx]\n",
    "        y_train, y_val = y_cluster_rfa_random.iloc[train_idx],  y_cluster_rfa_random.iloc[val_idx]\n",
    "        \n",
    "    # for idx, (train_idx, val_idx) in enumerate(cv.split(X_cluster_rfa_center, y_cluster_rfa_center)):\n",
    "    #     X_train, X_val = X_cluster_rfa_center.iloc[train_idx], X_cluster_rfa_center.iloc[val_idx]\n",
    "    #     y_train, y_val = y_cluster_rfa_center.iloc[train_idx], y_cluster_rfa_center.iloc[val_idx]\n",
    "\n",
    "        model = skRF(**param)\n",
    "        model.fit(X_train, y_train)\n",
    "        preds = model.predict(X_val)\n",
    "        cv_scores[idx] = f1_score(y_val, preds)\n",
    "        if cv_scores[idx] == 0.0:\n",
    "            print('Pruning because of 0.0 score.')\n",
    "            return 0.0\n",
    "        print('Fold {}: {}'.format(idx, cv_scores[idx]))\n",
    "    return np.mean(cv_scores)\n",
    "\n",
    "search_space={\n",
    "    \"n_estimators\": [75, 100, 125, 150, 175, 200, 250, 300, 400, 500],\n",
    "    \"max_depth\" : [5,10, 30, 50, 80, 90, 100, 110],\n",
    "    \"min_samples_leaf\" : [1, 2, 3, 4, 5],\n",
    "    \"min_samples_split\" : [2, 4, 8, 10],\n",
    "    \"bootstrap\" : [True, False],\n",
    "    \"max_features\" : ['auto', 'sqrt', 'log2'],\n",
    "    \n",
    "}"
   ]
  },
  {
   "cell_type": "code",
   "execution_count": 22,
   "id": "b219a8e9-9326-4ed7-a54e-b0d1dd519a0e",
   "metadata": {},
   "outputs": [],
   "source": [
    "def readRasterToArray(vars_list):\n",
    "    vrt_options = gdal.BuildVRTOptions(xRes=231.656358, yRes=231.656358, separate=True)\n",
    "    dd = gdal.BuildVRT('tmp.vrt', vars_list, options=vrt_options)\n",
    "    nrows, ncols = dd.RasterYSize, dd.RasterXSize\n",
    "    newshp = (ncols*nrows, dd.RasterCount+3)\n",
    "    img = np.empty(newshp, dtype=np.int16)\n",
    "    for b in range(len(vars_list)):\n",
    "        img[:, b] = dd.GetRasterBand(b+1).ReadAsArray().astype(np.int16).ravel()\n",
    "    dd = None\n",
    "    img[:, len(vars_list)] = ((img[:, 1] - img[:, 0]) / (img[:, 1] + img[:, 0])) * 10000\n",
    "    img[:, len(vars_list)+1] = ((img[:, 1] - img[:, 5]) / (img[:, 1] + img[:, 5])) * 10000\n",
    "    img[:, len(vars_list)+2] = ((img[:, 1] - img[:, 6]) / (img[:, 1] + img[:, 6])) * 10000\n",
    "    if os.path.exists('tmp.vrt'): os.remove('tmp.vrt')\n",
    "    \n",
    "    return img"
   ]
  },
  {
   "cell_type": "code",
   "execution_count": 23,
   "id": "1259beb7-02bb-4b98-8659-acde548b7efc",
   "metadata": {},
   "outputs": [],
   "source": [
    "def predictRaster(img_chunk, classifier, colsToDrop=None):\n",
    "    \"\"\"\n",
    "    Function given a raster in the form of a nxn matrix, will\n",
    "    convert the matrix to a GPU/CPU-bound data frame then perform \n",
    "    predictions given the loaded model.\n",
    "    \n",
    "    Return the prediction matrix, the prediction probabilities\n",
    "    for each and the dataframe converted to host.\n",
    "    \"\"\"\n",
    "    df = pd.DataFrame(img_chunk, columns=v_names, dtype=np.int16)\n",
    "    df = df.drop(columns=colsToDrop) if colsToDrop else df\n",
    "    print('Making predictions from raster')\n",
    "    predictions = classifier.predict(df).astype(np.int16)\n",
    "    predictionsProbs = classifier.predict_proba(df).astype(np.float32)\n",
    "    return predictions, predictionsProbs, df"
   ]
  },
  {
   "cell_type": "code",
   "execution_count": 24,
   "id": "5f630e32-4d46-415c-8fbd-d6a466d203a4",
   "metadata": {},
   "outputs": [],
   "source": [
    "import folium\n",
    "import glob\n",
    "import numpy as np\n",
    "import os\n",
    "import rasterio as rio\n",
    "import tempfile\n",
    "\n",
    "from rasterio.warp import calculate_default_transform, reproject, Resampling\n",
    "from pyproj import Transformer \n",
    "\n",
    "\n",
    "# -----------------------------------------------------------------------------\n",
    "# Uses rasterio to open a raster, get the metadata and crs\n",
    "# associated with it and get all the subdatasets in the file.\n",
    "# This is very useful for hdf files such as MODIS hdfs.\n",
    "# -----------------------------------------------------------------------------\n",
    "def print_subdatasets(filename):\n",
    "    bands_to_return = []\n",
    "    with rio.open(filename) as dataset:\n",
    "        meta_data = dataset.meta\n",
    "        crs = dataset.read_crs()\n",
    "        \n",
    "        print([name for name in dataset.subdatasets if search_term in name])\n",
    "\n",
    "# -----------------------------------------------------------------------------\n",
    "# Gets a tiff that has the correct metadata for that tile, gets the metadata\n",
    "# from the source tif and copies to a destination tiff. \n",
    "# -----------------------------------------------------------------------------     \n",
    "def add_metadata_to_annual_product(filepath, model_type, year, tile):\n",
    "    metadata_pull_src = [fv for fv in glob.glob(os.path.join(filepath, \"{}-1*-{}-MOD-*.tif\".format(year, tile)))][0]\n",
    "    with rio.open(metadata_pull_src) as src:\n",
    "        src_meta = src.meta\n",
    "    dst_tiffs = [os.path.join(filepath, fn) for fn in os.listdir(filepath) if \"{0}-{1}\".format(year, tile) in os.path.basename(fn)]\n",
    "    [copy_meta(dst_tiff, src_meta, metadata_pull_src) for dst_tiff in dst_tiffs]\n",
    "\n",
    "# -----------------------------------------------------------------------------\n",
    "# Given a path to a tiff with no metadata, assign the metadata given to that\n",
    "# tiff.\n",
    "# -----------------------------------------------------------------------------     \n",
    "def copy_meta(dst_path, src_meta, src_name):\n",
    "    print('Copying metadata from {} to {}'.format(src_name, dst_path))\n",
    "    with rio.open(dst_path, 'r+') as dst:\n",
    "        dst.crs = src_meta['crs']\n",
    "        dst.transform = src_meta['transform']        \n",
    "\n",
    "# -----------------------------------------------------------------------------\n",
    "# Given a tiff file as input, open the tiff and get the transform needed to\n",
    "# reproject from the tiff's source crs to the one we want (EPSG:3857).\n",
    "# For each band in the tiff, open then reproject it into the desired crs\n",
    "# then write to a temporary file. Return the path to the temp file.\n",
    "# -----------------------------------------------------------------------------\n",
    "def reproject_to_3857(input_tiff):\n",
    "    # Set desitnation CRS\n",
    "    dst_crs = f\"EPSG:3857\"\n",
    "\n",
    "    # set out path\n",
    "    out_path_rproj = os.path.join(tempfile.gettempdir(), input_tiff.split('/')[-1].replace('.tif','-3857.tif'))\n",
    "\n",
    "    with rio.open(input_tiff) as src:\n",
    "        # get src bounds and transform\n",
    "        transform, width, height = calculate_default_transform(src.crs, dst_crs, src.width, src.height, *src.bounds)\n",
    "        print('Transform: {}'.format(transform))\n",
    "        print('Width: {} Height: {}'.format(width, height))\n",
    "        kwargs = src.meta.copy()\n",
    "        kwargs.update({'crs': dst_crs,\n",
    "                   'transform': transform,\n",
    "                   'width': width,\n",
    "                   'height': height})\n",
    "    \n",
    "        # reproject and write to file\n",
    "        with rio.open(out_path_rproj, 'w', **kwargs) as dst:\n",
    "            for i in range(1, src.count + 1):\n",
    "                reproject(source=rio.band(src, i),\n",
    "                      destination=rio.band(dst, i),\n",
    "                      src_transform=src.transform,\n",
    "                      src_crs=src.crs,\n",
    "                      dst_transform=transform,\n",
    "                      dst_crs=dst_crs,\n",
    "                      resampling=Resampling.nearest)\n",
    "    return out_path_rproj\n",
    "\n",
    "# -----------------------------------------------------------------------------\n",
    "# In order for folium to work properly we need to pass it the bounding box\n",
    "# of the tiff in the form of lat and lon. This is done by using rasterio.\n",
    "# -----------------------------------------------------------------------------\n",
    "def get_bounds(tiff_3857):\n",
    "    with rio.open(tiff_3857) as src:\n",
    "        src_crs = src.crs['init'].upper()\n",
    "        min_lon, min_lat, max_lon, max_lat = src.bounds\n",
    "    bounds_orig = [[min_lat, min_lon], [max_lat, max_lon]]\n",
    "    bounds = []\n",
    "    dst_crs = 'EPSG:4326'\n",
    "    for item in bounds_orig:   \n",
    "        #converting to lat/lon\n",
    "        lat = item[0]\n",
    "        lon = item[1]\n",
    "        proj = Transformer.from_crs(int(src_crs.split(\":\")[1]), int(dst_crs.split(\":\")[1]), always_xy=True)\n",
    "        lon_n, lat_n = proj.transform(lon, lat)\n",
    "        bounds.append([lat_n, lon_n])\n",
    "    center_lon = bounds[0][1] + (bounds[1][1] - bounds[0][1])/2\n",
    "    center_lat = bounds[0][0] + (bounds[1][0] - bounds[0][0])/2\n",
    "    return {'bounds': bounds, 'center': (center_lon, center_lat)}\n",
    "\n",
    "# -----------------------------------------------------------------------------\n",
    "# Use rasterio to open and read in the desired band name as a nd-array.\n",
    "# -----------------------------------------------------------------------------\n",
    "def open_and_get_band(file_name, band_num=1):\n",
    "    with rio.open(file_name) as data:\n",
    "        b = data.read(band_num)\n",
    "    return b\n",
    "\n",
    "# -----------------------------------------------------------------------------\n",
    "# Given an nd-array (band) and the bounds in lat lon of the nd-array, return\n",
    "# a folium layer. To add on the map.\n",
    "# -----------------------------------------------------------------------------\n",
    "def get_overlay(band, meta_dict, name, opacity=1.0, show=True):\n",
    "    return folium.raster_layers.ImageOverlay(band, \n",
    "                                             bounds=meta_dict['bounds'], \n",
    "                                             name=name, \n",
    "                                             opacity=opacity, \n",
    "                                             show=show)\n",
    "\n",
    "# -----------------------------------------------------------------------------\n",
    "# We don't need to keep those temp files we made for the reprojections around.\n",
    "# -----------------------------------------------------------------------------\n",
    "def cleanup(filename):\n",
    "    if os.path.exists(filename):\n",
    "        os.remove(filename)\n",
    "    else:\n",
    "        print('No file: {} exists.'.format(filename))"
   ]
  },
  {
   "cell_type": "markdown",
   "id": "c0070240-5655-486d-9011-b038ebee4403",
   "metadata": {},
   "source": [
    "#### Training RF"
   ]
  },
  {
   "cell_type": "code",
   "execution_count": 25,
   "id": "c364b51c-70ad-4394-8ce6-3af23ad68cc5",
   "metadata": {},
   "outputs": [],
   "source": [
    "TREES_AND_DEPTH_ONLY = False\n",
    "GRID_SEARCH = True"
   ]
  },
  {
   "cell_type": "code",
   "execution_count": null,
   "id": "ca239ea1-6081-466a-9458-c158eb7f2393",
   "metadata": {
    "tags": []
   },
   "outputs": [
    {
     "name": "stderr",
     "output_type": "stream",
     "text": [
      "\u001b[32m[I 2023-06-27 17:33:36,208]\u001b[0m A new study created in memory with name: RF Tuning Grid Search\u001b[0m\n"
     ]
    },
    {
     "name": "stdout",
     "output_type": "stream",
     "text": [
      "Fold 0: 0.9770390243489594\n",
      "Fold 1: 0.9771351259935734\n",
      "Fold 2: 0.9780720670438305\n",
      "Fold 3: 0.9770723700908645\n"
     ]
    },
    {
     "name": "stderr",
     "output_type": "stream",
     "text": [
      "\u001b[32m[I 2023-06-27 17:34:00,746]\u001b[0m Trial 0 finished with value: 0.9773991900110156 and parameters: {'n_estimators': 100, 'max_depth': 80, 'min_samples_split': 10, 'min_samples_leaf': 5, 'bootstrap': True, 'max_features': 'log2'}. Best is trial 0 with value: 0.9773991900110156.\u001b[0m\n"
     ]
    },
    {
     "name": "stdout",
     "output_type": "stream",
     "text": [
      "Fold 4: 0.97767736257785\n",
      "Fold 0: 0.9762632117863097\n",
      "Fold 1: 0.9764205578241645\n",
      "Fold 2: 0.9775022413180642\n",
      "Fold 3: 0.9764825310887404\n"
     ]
    },
    {
     "name": "stderr",
     "output_type": "stream",
     "text": [
      "\u001b[32m[I 2023-06-27 17:35:28,343]\u001b[0m Trial 1 finished with value: 0.9767255226544774 and parameters: {'n_estimators': 300, 'max_depth': 30, 'min_samples_split': 10, 'min_samples_leaf': 5, 'bootstrap': False, 'max_features': 'auto'}. Best is trial 0 with value: 0.9773991900110156.\u001b[0m\n"
     ]
    },
    {
     "name": "stdout",
     "output_type": "stream",
     "text": [
      "Fold 4: 0.9769590712551086\n",
      "Fold 0: 0.9772299872935197\n",
      "Fold 1: 0.9773648448539927\n",
      "Fold 2: 0.9781223287659639\n",
      "Fold 3: 0.9774413169393354\n"
     ]
    },
    {
     "name": "stderr",
     "output_type": "stream",
     "text": [
      "\u001b[32m[I 2023-06-27 17:35:47,552]\u001b[0m Trial 2 finished with value: 0.9776163816971281 and parameters: {'n_estimators': 125, 'max_depth': 10, 'min_samples_split': 4, 'min_samples_leaf': 2, 'bootstrap': True, 'max_features': 'log2'}. Best is trial 2 with value: 0.9776163816971281.\u001b[0m\n"
     ]
    },
    {
     "name": "stdout",
     "output_type": "stream",
     "text": [
      "Fold 4: 0.9779234306328277\n",
      "Fold 0: 0.976717812439171\n",
      "Fold 1: 0.9766820541436277\n",
      "Fold 2: 0.9776868032412498\n",
      "Fold 3: 0.976905116404981\n"
     ]
    },
    {
     "name": "stderr",
     "output_type": "stream",
     "text": [
      "\u001b[32m[I 2023-06-27 17:36:12,288]\u001b[0m Trial 3 finished with value: 0.977004663841835 and parameters: {'n_estimators': 100, 'max_depth': 30, 'min_samples_split': 8, 'min_samples_leaf': 1, 'bootstrap': True, 'max_features': 'sqrt'}. Best is trial 2 with value: 0.9776163816971281.\u001b[0m\n"
     ]
    },
    {
     "name": "stdout",
     "output_type": "stream",
     "text": [
      "Fold 4: 0.977031532980146\n",
      "Fold 0: 0.9769394162498837\n",
      "Fold 1: 0.977138219080794\n",
      "Fold 2: 0.9779796032269521\n",
      "Fold 3: 0.977035808569688\n"
     ]
    },
    {
     "name": "stderr",
     "output_type": "stream",
     "text": [
      "\u001b[32m[I 2023-06-27 17:37:57,056]\u001b[0m Trial 4 finished with value: 0.9773401638489018 and parameters: {'n_estimators': 500, 'max_depth': 30, 'min_samples_split': 10, 'min_samples_leaf': 5, 'bootstrap': True, 'max_features': 'auto'}. Best is trial 2 with value: 0.9776163816971281.\u001b[0m\n"
     ]
    },
    {
     "name": "stdout",
     "output_type": "stream",
     "text": [
      "Fold 4: 0.9776077721171911\n",
      "Fold 0: 0.9756395363626342\n",
      "Fold 1: 0.9758481934855352\n",
      "Fold 2: 0.9763998305802626\n",
      "Fold 3: 0.9759557932384674\n"
     ]
    },
    {
     "name": "stderr",
     "output_type": "stream",
     "text": [
      "\u001b[32m[I 2023-06-27 17:38:38,995]\u001b[0m Trial 5 finished with value: 0.9760377723713898 and parameters: {'n_estimators': 500, 'max_depth': 5, 'min_samples_split': 4, 'min_samples_leaf': 5, 'bootstrap': True, 'max_features': 'log2'}. Best is trial 2 with value: 0.9776163816971281.\u001b[0m\n"
     ]
    },
    {
     "name": "stdout",
     "output_type": "stream",
     "text": [
      "Fold 4: 0.9763455081900498\n",
      "Fold 0: 0.9757342900519919\n",
      "Fold 1: 0.9757837050338384\n",
      "Fold 2: 0.9764411876826634\n",
      "Fold 3: 0.9759674479718561\n"
     ]
    },
    {
     "name": "stderr",
     "output_type": "stream",
     "text": [
      "\u001b[32m[I 2023-06-27 17:38:55,139]\u001b[0m Trial 6 finished with value: 0.9760517588490177 and parameters: {'n_estimators': 175, 'max_depth': 5, 'min_samples_split': 2, 'min_samples_leaf': 2, 'bootstrap': True, 'max_features': 'auto'}. Best is trial 2 with value: 0.9776163816971281.\u001b[0m\n"
     ]
    },
    {
     "name": "stdout",
     "output_type": "stream",
     "text": [
      "Fold 4: 0.9763321635047386\n",
      "Fold 0: 0.9759337925431989\n",
      "Fold 1: 0.9762126155978968\n",
      "Fold 2: 0.9772225558440679\n",
      "Fold 3: 0.9761661012073474\n"
     ]
    },
    {
     "name": "stderr",
     "output_type": "stream",
     "text": [
      "\u001b[32m[I 2023-06-27 17:40:49,922]\u001b[0m Trial 7 finished with value: 0.9764588409190745 and parameters: {'n_estimators': 400, 'max_depth': 90, 'min_samples_split': 4, 'min_samples_leaf': 4, 'bootstrap': False, 'max_features': 'log2'}. Best is trial 2 with value: 0.9776163816971281.\u001b[0m\n"
     ]
    },
    {
     "name": "stdout",
     "output_type": "stream",
     "text": [
      "Fold 4: 0.9767591394028613\n",
      "Fold 0: 0.9761856402965369\n",
      "Fold 1: 0.9764700908898754\n",
      "Fold 2: 0.9775202976995941\n",
      "Fold 3: 0.9764974619289339\n"
     ]
    },
    {
     "name": "stderr",
     "output_type": "stream",
     "text": [
      "\u001b[32m[I 2023-06-27 17:43:12,579]\u001b[0m Trial 8 finished with value: 0.9767414712264368 and parameters: {'n_estimators': 500, 'max_depth': 90, 'min_samples_split': 2, 'min_samples_leaf': 5, 'bootstrap': False, 'max_features': 'sqrt'}. Best is trial 2 with value: 0.9776163816971281.\u001b[0m\n"
     ]
    },
    {
     "name": "stdout",
     "output_type": "stream",
     "text": [
      "Fold 4: 0.977033865317244\n",
      "Fold 0: 0.9757458572906597\n",
      "Fold 1: 0.9756659662441537\n",
      "Fold 2: 0.9763928873835732\n",
      "Fold 3: 0.9759732772653282\n"
     ]
    },
    {
     "name": "stderr",
     "output_type": "stream",
     "text": [
      "\u001b[32m[I 2023-06-27 17:43:22,617]\u001b[0m Trial 9 finished with value: 0.9760147187859441 and parameters: {'n_estimators': 100, 'max_depth': 5, 'min_samples_split': 10, 'min_samples_leaf': 3, 'bootstrap': True, 'max_features': 'auto'}. Best is trial 2 with value: 0.9776163816971281.\u001b[0m\n"
     ]
    },
    {
     "name": "stdout",
     "output_type": "stream",
     "text": [
      "Fold 4: 0.976295605746006\n",
      "Fold 0: 0.9761435281174629\n",
      "Fold 1: 0.9764111062261153\n",
      "Fold 2: 0.9774326701854108\n",
      "Fold 3: 0.9764239127676312\n"
     ]
    },
    {
     "name": "stderr",
     "output_type": "stream",
     "text": [
      "\u001b[32m[I 2023-06-27 17:44:16,214]\u001b[0m Trial 10 finished with value: 0.9766775202757867 and parameters: {'n_estimators': 175, 'max_depth': 110, 'min_samples_split': 8, 'min_samples_leaf': 5, 'bootstrap': False, 'max_features': 'log2'}. Best is trial 2 with value: 0.9776163816971281.\u001b[0m\n"
     ]
    },
    {
     "name": "stdout",
     "output_type": "stream",
     "text": [
      "Fold 4: 0.9769763840823129\n",
      "Fold 0: 0.9742886411161625\n",
      "Fold 1: 0.974101242903436\n",
      "Fold 2: 0.975274167343623\n",
      "Fold 3: 0.9745425010787075\n"
     ]
    },
    {
     "name": "stderr",
     "output_type": "stream",
     "text": [
      "\u001b[32m[I 2023-06-27 17:44:40,059]\u001b[0m Trial 11 finished with value: 0.9746347898170107 and parameters: {'n_estimators': 75, 'max_depth': 30, 'min_samples_split': 2, 'min_samples_leaf': 1, 'bootstrap': False, 'max_features': 'log2'}. Best is trial 2 with value: 0.9776163816971281.\u001b[0m\n"
     ]
    },
    {
     "name": "stdout",
     "output_type": "stream",
     "text": [
      "Fold 4: 0.9749673966431245\n",
      "Fold 0: 0.9768158126311515\n",
      "Fold 1: 0.9769868109570511\n",
      "Fold 2: 0.9779608267649944\n",
      "Fold 3: 0.9769023808315143\n"
     ]
    },
    {
     "name": "stderr",
     "output_type": "stream",
     "text": [
      "\u001b[32m[I 2023-06-27 17:45:35,617]\u001b[0m Trial 12 finished with value: 0.9772043278941315 and parameters: {'n_estimators': 250, 'max_depth': 90, 'min_samples_split': 10, 'min_samples_leaf': 3, 'bootstrap': True, 'max_features': 'auto'}. Best is trial 2 with value: 0.9776163816971281.\u001b[0m\n"
     ]
    },
    {
     "name": "stdout",
     "output_type": "stream",
     "text": [
      "Fold 4: 0.9773558082859464\n",
      "Fold 0: 0.9762458851306179\n",
      "Fold 1: 0.9762023518670375\n",
      "Fold 2: 0.9772410118488823\n",
      "Fold 3: 0.9764577499936554\n"
     ]
    },
    {
     "name": "stderr",
     "output_type": "stream",
     "text": [
      "\u001b[32m[I 2023-06-27 17:46:31,181]\u001b[0m Trial 13 finished with value: 0.9766105129383824 and parameters: {'n_estimators': 250, 'max_depth': 100, 'min_samples_split': 4, 'min_samples_leaf': 1, 'bootstrap': True, 'max_features': 'auto'}. Best is trial 2 with value: 0.9776163816971281.\u001b[0m\n"
     ]
    },
    {
     "name": "stdout",
     "output_type": "stream",
     "text": [
      "Fold 4: 0.9769055658517183\n",
      "Fold 0: 0.9769756048028837\n",
      "Fold 1: 0.9770890399377768\n",
      "Fold 2: 0.9779788583509513\n",
      "Fold 3: 0.9769948642451625\n"
     ]
    },
    {
     "name": "stderr",
     "output_type": "stream",
     "text": [
      "\u001b[32m[I 2023-06-27 17:47:55,762]\u001b[0m Trial 14 finished with value: 0.9772940284493732 and parameters: {'n_estimators': 400, 'max_depth': 80, 'min_samples_split': 2, 'min_samples_leaf': 5, 'bootstrap': True, 'max_features': 'log2'}. Best is trial 2 with value: 0.9776163816971281.\u001b[0m\n"
     ]
    },
    {
     "name": "stdout",
     "output_type": "stream",
     "text": [
      "Fold 4: 0.977431774910091\n",
      "Fold 0: 0.9771539419403479\n",
      "Fold 1: 0.977451370262884\n",
      "Fold 2: 0.9781907736055043\n",
      "Fold 3: 0.9775907042921508\n"
     ]
    },
    {
     "name": "stderr",
     "output_type": "stream",
     "text": [
      "\u001b[32m[I 2023-06-27 17:48:48,382]\u001b[0m Trial 15 finished with value: 0.9776877832602322 and parameters: {'n_estimators': 400, 'max_depth': 10, 'min_samples_split': 4, 'min_samples_leaf': 3, 'bootstrap': True, 'max_features': 'sqrt'}. Best is trial 15 with value: 0.9776877832602322.\u001b[0m\n"
     ]
    },
    {
     "name": "stdout",
     "output_type": "stream",
     "text": [
      "Fold 4: 0.9780521262002744\n",
      "Fold 0: 0.9761759729272419\n",
      "Fold 1: 0.9763171022482264\n",
      "Fold 2: 0.9773661507231667\n",
      "Fold 3: 0.9763991337889965\n"
     ]
    },
    {
     "name": "stderr",
     "output_type": "stream",
     "text": [
      "\u001b[32m[I 2023-06-27 17:50:15,986]\u001b[0m Trial 16 finished with value: 0.9766299476332811 and parameters: {'n_estimators': 300, 'max_depth': 100, 'min_samples_split': 10, 'min_samples_leaf': 4, 'bootstrap': False, 'max_features': 'sqrt'}. Best is trial 15 with value: 0.9776877832602322.\u001b[0m\n"
     ]
    },
    {
     "name": "stdout",
     "output_type": "stream",
     "text": [
      "Fold 4: 0.976891378478774\n",
      "Fold 0: 0.9768532231992485\n",
      "Fold 1: 0.9770623198085849\n",
      "Fold 2: 0.978031456113648\n",
      "Fold 3: 0.9770625512940917\n"
     ]
    },
    {
     "name": "stderr",
     "output_type": "stream",
     "text": [
      "\u001b[32m[I 2023-06-27 17:50:55,804]\u001b[0m Trial 17 finished with value: 0.9772862287534597 and parameters: {'n_estimators': 175, 'max_depth': 80, 'min_samples_split': 10, 'min_samples_leaf': 5, 'bootstrap': True, 'max_features': 'log2'}. Best is trial 15 with value: 0.9776877832602322.\u001b[0m\n"
     ]
    },
    {
     "name": "stdout",
     "output_type": "stream",
     "text": [
      "Fold 4: 0.9774215933517255\n",
      "Fold 0: 0.9759944491923406\n"
     ]
    }
   ],
   "source": [
    "%%time\n",
    "\n",
    "optuna.logging.set_verbosity(optuna.logging.INFO)\n",
    "if GRID_SEARCH:\n",
    "    study = optuna.create_study(study_name='RF Tuning Grid Search', \n",
    "                                direction='maximize',\n",
    "                                sampler=optuna.samplers.GridSampler(search_space))\n",
    "    \n",
    "else:\n",
    "    study = optuna.create_study(study_name='RF Tuning',\n",
    "                                direction='maximize')\n",
    "#Objective is under the functions area\n",
    "\n",
    "#####################################################################\n",
    "#CHANGE HERE FOR DIFFERENT MODELING TYPE\n",
    "#rf_objective or xgb_objective\n",
    "#####################################################################\n",
    "\n",
    "study.optimize(rf_objective, n_trials=25, timeout=30*600)"
   ]
  },
  {
   "cell_type": "code",
   "execution_count": 99,
   "id": "b219a2ca-012b-4fea-804d-2bdac8cec747",
   "metadata": {},
   "outputs": [
    {
     "name": "stdout",
     "output_type": "stream",
     "text": [
      "Number of finished trials: 25\n",
      "{'n_estimators': 300, 'max_depth': 10, 'min_samples_split': 4, 'min_samples_leaf': 1, 'bootstrap': False, 'max_features': 'auto'}\n",
      "0.9777463893238705\n"
     ]
    }
   ],
   "source": [
    "print(\"Number of finished trials: {}\".format(len(study.trials)))\n",
    "trials = study.best_trials\n",
    "trial_score = max([trial.values[0]\n",
    "                   for trial in trials])\n",
    "best_trial_params = [trial.params for trial in trials if trial.values[0] == trial_score][0]\n",
    "print(best_trial_params)\n",
    "print(trial_score)\n"
   ]
  },
  {
   "cell_type": "code",
   "execution_count": 100,
   "id": "f66a5d73-83ed-4c20-a9b1-d637d9ac0791",
   "metadata": {},
   "outputs": [
    {
     "name": "stdout",
     "output_type": "stream",
     "text": [
      "359814 295240\n"
     ]
    }
   ],
   "source": [
    "print(len(X_cluster_land_random),len(X_cluster_water_random))"
   ]
  },
  {
   "cell_type": "code",
   "execution_count": 101,
   "id": "0e0d1cd8-4ff6-41b6-98eb-dee0bab439d5",
   "metadata": {},
   "outputs": [
    {
     "ename": "SyntaxError",
     "evalue": "invalid syntax (1306318926.py, line 1)",
     "output_type": "error",
     "traceback": [
      "\u001b[0;36m  Cell \u001b[0;32mIn[101], line 1\u001b[0;36m\u001b[0m\n\u001b[0;31m    359814 295240\u001b[0m\n\u001b[0m           ^\u001b[0m\n\u001b[0;31mSyntaxError\u001b[0m\u001b[0;31m:\u001b[0m invalid syntax\n"
     ]
    }
   ],
   "source": [
    "# 359814 295240\n",
    "# Number of finished trials: 25\n",
    "# {'n_estimators': 300, 'max_depth': 10, 'min_samples_split': 4, 'min_samples_leaf': 1, 'bootstrap': False, 'max_features': 'auto'}\n",
    "# 0.9777463893238705\n",
    "\n",
    "# 359815 264361\n",
    "# Number of finished trials: 25\n",
    "# {'n_estimators': 75, 'max_depth': 10, 'min_samples_split': 8, 'min_samples_leaf': 2, 'bootstrap': True, 'max_features': 'log2'}\n",
    "# 0.9866126705045699\n",
    "\n",
    "# 359814 295242\n",
    "# Number of finished trials: 25\n",
    "# {'n_estimators': 500, 'max_depth': 10, 'min_samples_split': 10, 'min_samples_leaf': 4, 'bootstrap': True, 'max_features': 'log2'}\n",
    "# 0.977886421736911\n",
    "\n",
    "# 359815 295240\n",
    "# Number of finished trials: 25\n",
    "# {'n_estimators': 500, 'max_depth': 10, 'min_samples_split': 4, 'min_samples_leaf': 3, 'bootstrap': True, 'max_features': 'auto'}\n",
    "# 0.977879959920102\n",
    "\n",
    "# 359813 295242\n",
    "# Number of finished trials: 25\n",
    "# {'n_estimators': 150, 'max_depth': 10, 'min_samples_split': 4, 'min_samples_leaf': 4, 'bootstrap': False, 'max_features': 'sqrt'}\n",
    "# 0.9777882842687797\n",
    "\n",
    "# 359832 295240\n",
    "# Number of finished trials: 25\n",
    "# {'n_estimators': 500, 'max_depth': 10, 'min_samples_split': 10, 'min_samples_leaf': 4, 'bootstrap': True, 'max_features': 'log2'}\n",
    "# 0.9780277540040061\n",
    "\n",
    "# 359830 295237\n",
    "# Number of finished trials: 25\n",
    "# {'n_estimators': 300, 'max_depth': 100, 'min_samples_split': 4, 'min_samples_leaf': 5, 'bootstrap': True, 'max_features': 'sqrt'}\n",
    "# 0.9781299044897317\n",
    "\n",
    "# 359832 295239\n",
    "# Number of finished trials: 25\n",
    "# {'n_estimators': 300, 'max_depth': 10, 'min_samples_split': 4, 'min_samples_leaf': 4, 'bootstrap': False, 'max_features': 'sqrt'}\n",
    "# 0.9780948126559051\n",
    "\n",
    "\n",
    "# 359831 295239\n",
    "# Number of finished trials: 25\n",
    "# {'n_estimators': 125, 'max_depth': 10, 'min_samples_split': 10, 'min_samples_leaf': 5, 'bootstrap': True, 'max_features': 'sqrt'}\n",
    "# 0.9779760360768524\n",
    "\n",
    "\n",
    "# 13770 12852\n",
    "# Number of finished trials: 25\n",
    "# {'n_estimators': 300, 'max_depth': 10, 'min_samples_split': 2, 'min_samples_leaf': 5, 'bootstrap': True, 'max_features': 'sqrt'}\n",
    "# 0.9117162188038987\n",
    "\n",
    "# 13770 12852\n",
    "# Number of finished trials: 25\n",
    "# {'n_estimators': 250, 'max_depth': 50, 'min_samples_split': 2, 'min_samples_leaf': 4, 'bootstrap': True, 'max_features': 'log2'}\n",
    "# 0.9104124369067913\n",
    "\n",
    "# 13800 13800\n",
    "# Number of finished trials: 25\n",
    "# {'n_estimators': 400, 'max_depth': 10, 'min_samples_split': 10, 'min_samples_leaf': 5, 'bootstrap': True, 'max_features': 'auto'}\n",
    "# 0.9152865904511502\n",
    "\n",
    "# 13770 12852\n",
    "# Number of finished trials: 25\n",
    "# {'n_estimators': 500, 'max_depth': 10, 'min_samples_split': 2, 'min_samples_leaf': 5, 'bootstrap': False, 'max_features': 'log2'}\n",
    "# 0.9135491629622192\n",
    "\n",
    "# 13800 12880\n",
    "# Number of finished trials: 25\n",
    "# {'n_estimators': 100, 'max_depth': 10, 'min_samples_split': 2, 'min_samples_leaf': 5, 'bootstrap': True, 'max_features': 'log2'}\n",
    "# 0.9112970459116907\n",
    "\n",
    "# 13815 12894\n",
    "# Number of finished trials: 25\n",
    "# {'n_estimators': 75, 'max_depth': 10, 'min_samples_split': 10, 'min_samples_leaf': 4, 'bootstrap': False, 'max_features': 'auto'}\n",
    "# 0.9109082672418902\n",
    "\n",
    "\n",
    "# 13800 12880\n",
    "# Number of finished trials: 25\n",
    "# {'n_estimators': 200, 'max_depth': 10, 'min_samples_split': 4, 'min_samples_leaf': 2, 'bootstrap': True, 'max_features': 'auto'}\n",
    "# 0.914162230125638\n",
    "\n",
    "# 13635 12726\n",
    "# Number of finished trials: 25\n",
    "# {'n_estimators': 100, 'max_depth': 10, 'min_samples_split': 8, 'min_samples_leaf': 5, 'bootstrap': True, 'max_features': 'sqrt'}\n",
    "# 0.933084757242249\n",
    "\n",
    "# 13485 12586\n",
    "# Number of finished trials: 25\n",
    "# {'n_estimators': 75, 'max_depth': 10, 'min_samples_split': 10, 'min_samples_leaf': 1, 'bootstrap': True, 'max_features': 'log2'}\n",
    "# 0.9324441954116314\n",
    "\n",
    "# 14355 13398\n",
    "# Number of finished trials: 25\n",
    "# {'n_estimators': 150, 'max_depth': 10, 'min_samples_split': 8, 'min_samples_leaf': 5, 'bootstrap': True, 'max_features': 'log2'}\n",
    "# 0.9344986953730517"
   ]
  },
  {
   "cell_type": "code",
   "execution_count": null,
   "id": "1eb27e0f-3ab7-41f8-bda7-2c0e7564578d",
   "metadata": {},
   "outputs": [],
   "source": [
    "hyperparameters = best_trial_params\n",
    "hyperparameters['n_jobs'] = -1\n",
    "print('Using these params:')\n",
    "print(hyperparameters)\n",
    "\n",
    "tuned_classifier = skRF(**hyperparameters)\n"
   ]
  },
  {
   "cell_type": "code",
   "execution_count": null,
   "id": "20dea7c9-7927-4f2c-9b11-8bfa0dd082ac",
   "metadata": {},
   "outputs": [],
   "source": [
    "%%time \n",
    "tuned_classifier.fit(X_cluster_rfa_random , y_cluster_rfa_random)"
   ]
  },
  {
   "cell_type": "markdown",
   "id": "3c4ebc0f-32ac-41ca-bec7-8adfc27112a5",
   "metadata": {},
   "source": [
    "Saving output cluster model"
   ]
  },
  {
   "cell_type": "code",
   "execution_count": null,
   "id": "29964f62-43bb-453c-9b65-a7526af71bc2",
   "metadata": {},
   "outputs": [],
   "source": [
    "import pickle\n",
    "# save the model to disk\n",
    "filename = 'MODIS_RFA_v201_NoCluster_sfcref127_ndvi.pkl'\n",
    "pickle.dump(tuned_classifier, open(filename, 'wb'))"
   ]
  },
  {
   "cell_type": "code",
   "execution_count": null,
   "id": "af9c3cf4-3523-48b8-af3f-593492b44d69",
   "metadata": {},
   "outputs": [],
   "source": [
    "tabularGen = TabularModisDataGenerator(tile=TILE, year=YEAR, julianDays=[DAY])\n",
    "sensorDir = f'/css/modis/Collection6.1/L2G/MOD09GA/{YEAR}'\n",
    "modisFilesDict = tabularGen._readFiles(julianDay=DAY, sensorDir=sensorDir)\n",
    "modisFilesList = list(modisFilesDict.values())\n",
    "qa_mask, qa_mask_path = tabularGen._generateBadDataMask(day=DAY, files=modisFilesDict)\n",
    "\n",
    "\n",
    "#######\n",
    "#in the TabularModisDataGenerator on line ~270 I commented out the line that would write out the qa mask\n",
    "#qa_mask, qa_mask_path = tabularGen._generateBadDataMask(day=DAY, files=modisFilesDict)"
   ]
  },
  {
   "cell_type": "code",
   "execution_count": null,
   "id": "d7194ac8-530a-4a94-ae0d-507cebb0dff8",
   "metadata": {},
   "outputs": [],
   "source": [
    "vars_list_gq = [fn for fn in modisFilesList if 'sur_refl' in fn and 'GQ' in fn]\n",
    "vars_list_gq.sort()\n",
    "\n",
    "vars_list_ga = [fn for fn in modisFilesList if 'sur_refl' in fn and 'GQ' not in fn]\n",
    "vars_list_ga.sort()\n",
    "\n",
    "vars_list = vars_list_gq\n",
    "vars_list.extend(vars_list_ga)\n",
    "\n",
    "vars_list\n",
    "\n",
    "\n",
    "#IMPORTANT FOR QGIS POTENTIALLY BECAUSE OF LIST OF MODIS DATA"
   ]
  },
  {
   "cell_type": "markdown",
   "id": "3d44a867-d10f-4485-962c-e6b07e9a7b23",
   "metadata": {},
   "source": [
    "#### Read in data \n",
    "We don't need to slice because we have more than enough GPU memory."
   ]
  },
  {
   "cell_type": "code",
   "execution_count": null,
   "id": "13155bd0-cf84-4656-9fb2-4762e7423369",
   "metadata": {
    "tags": []
   },
   "outputs": [],
   "source": [
    "%%time\n",
    "\n",
    "im = readRasterToArray(vars_list)\n",
    "print('Raster as ndarray')\n",
    "print(im)\n",
    "print('{} MB size'.format((im.size * im.itemsize) / 1000000))"
   ]
  },
  {
   "cell_type": "code",
   "execution_count": null,
   "id": "121ac483-7c59-448f-8f01-86e4d26e0070",
   "metadata": {},
   "outputs": [],
   "source": [
    "%%time\n",
    "predictedRaster, predictedProbaRaster, df = predictRaster(im, tuned_classifier, colsToDrop=colsToDrop)"
   ]
  },
  {
   "cell_type": "code",
   "execution_count": null,
   "id": "3c4fa89d-864e-48da-9385-9f888c5e1ea0",
   "metadata": {},
   "outputs": [],
   "source": [
    "water_list = [fn for fn in glob.glob(os.path.join(waterMaskPath, '{}'.format(YEAR), '*{}*{}_v5.tif'.format(TILE, YEAR)))]\n",
    "print(water_list)\n",
    "print(os.path.join(waterMaskPath, '{}'.format(YEAR), '*{}*.tif'.format(TILE)))\n",
    "water_mask_path = water_list[0]\n",
    "print(water_mask_path)\n",
    "water_mask = gdal.Open(water_mask_path, gdal.GA_ReadOnly)\n",
    "waterMaskMatrix = water_mask.GetRasterBand(1).ReadAsArray().astype(np.int16)\n",
    "waterMask = None"
   ]
  },
  {
   "cell_type": "markdown",
   "id": "6b4cbfce-5923-4b89-b699-d952e8958c6f",
   "metadata": {},
   "source": [
    "#### Mask out results if QA Mask says pixel is \"bad\""
   ]
  },
  {
   "cell_type": "code",
   "execution_count": null,
   "id": "047f0281-3d98-4194-8cf1-e3883380e0ce",
   "metadata": {},
   "outputs": [],
   "source": [
    "maskedResult = np.where(qa_mask == 0, predictedWaterMask, 255)\n",
    "waterMasked = np.where(qa_mask == 0, waterMaskMatrix, 255)\n",
    "# # waterMaskRavel = waterMasked.ravel()\n",
    "# imWater = (waterMaskRavel == 1)"
   ]
  },
  {
   "cell_type": "code",
   "execution_count": null,
   "id": "efac00e7-4306-4a01-82c6-75ec131512ef",
   "metadata": {
    "tags": []
   },
   "outputs": [],
   "source": [
    "# plt.matshow(predictedWaterMask)\n",
    "# plt.matshow(maskedResult-waterMasked)\n",
    "# plt.matshow(waterMasked-maskedResult)\n",
    "# plt.matshow(waterMaskMatrix)\n",
    "\n",
    "# plt.matshow(waterMasked)\n",
    "# plt.matshow(maskedResult)"
   ]
  },
  {
   "cell_type": "code",
   "execution_count": null,
   "id": "eed847e9-1c62-4465-977a-f544b393d065",
   "metadata": {},
   "outputs": [],
   "source": [
    "#outPath = os.path.join(RASTER_OUTPUT_DIR, '{}_{}_{}_predicted_{}_25trials_65water_noextradata_v42_allvars.tif'.format(YEAR, DAY, TILE, MODEL))\n",
    "# outPath = os.path.join(RASTER_OUTPUT_DIR, '{}_{}_{}_predicted_{}_25trials_75water_noextradata_v42_allvars.tif'.format(YEAR, DAY, TILE, MODEL))\n",
    "outPath = os.path.join(RASTER_OUTPUT_DIR, '{}_{}_{}_predicted_{}_xgb.tif'.format(YEAR, DAY, TILE, MODEL))\n",
    "waterMaskForDay = os.path.join(RASTER_OUTPUT_DIR, 'waterMask_{}_qa_{}.tif'.format(YEAR, DAY, TILE, MODEL))\n",
    "outPathProba = os.path.join(RASTER_OUTPUT_DIR, '{}_{}_{}_predicted_probabilities_{}.tif'.format(YEAR, DAY, TILE, MODEL))\n",
    "\n",
    "\n",
    "print(outPath)\n",
    "print(waterMaskForDay)\n",
    "print(outPathProba)\n",
    "\n",
    "ds = gdal.Open(vars_list[0], gdal.GA_ReadOnly)\n",
    "geo = ds.GetGeoTransform()\n",
    "proj = ds.GetProjection()\n",
    "ncols = ds.RasterXSize\n",
    "nrows = ds.RasterYSize\n",
    "print('Transform')\n",
    "print(geo)\n",
    "print('Projection')\n",
    "print(proj)\n",
    "print('Width')\n",
    "print(ncols)\n",
    "print('Height')\n",
    "print(nrows)\n",
    "ds = None\n",
    "\n",
    "# Output predicted binary raster masked with good-bad mask.\n",
    "driver = gdal.GetDriverByName('GTiff')\n",
    "outDs = driver.Create(outPath, ncols, nrows, 1, gdal.GDT_Float32, options=['COMPRESS=LZW'])\n",
    "outDs.SetGeoTransform(geo)\n",
    "outDs.SetProjection(proj)\n",
    "outBand = outDs.GetRasterBand(1)\n",
    "outBand.WriteArray(maskedResult)\n",
    "outBand.SetNoDataValue(255)\n",
    "outDs.FlushCache()\n",
    "outDs = None\n",
    "outBand = None\n",
    "driver = None\n",
    "\n",
    "# Output water mask with good-bad masked.\n",
    "driver = gdal.GetDriverByName('GTiff')\n",
    "outDs = driver.Create(waterMaskForDay, ncols, nrows, 1, gdal.GDT_Int16, options=['COMPRESS=LZW'])\n",
    "outDs.SetGeoTransform(geo)\n",
    "outDs.SetProjection(proj)\n",
    "outBand = outDs.GetRasterBand(1)\n",
    "outBand.WriteArray(waterMasked)\n",
    "outBand.SetNoDataValue(255)\n",
    "outDs.FlushCache()\n",
    "outDs = None\n",
    "outBand = None\n",
    "driver = None"
   ]
  },
  {
   "cell_type": "code",
   "execution_count": null,
   "id": "ef884cc4-e5ec-4c12-bc89-f8256518fd12",
   "metadata": {},
   "outputs": [],
   "source": [
    "mask_3857 = reproject_to_3857(outPath)\n",
    "mod44_3857 = reproject_to_3857(water_mask_path)\n",
    "qa_3857 = reproject_to_3857(qa_mask_path)\n",
    "\n",
    "mask_d = get_bounds(mask_3857)\n",
    "mod44_d = get_bounds(mod44_3857)\n",
    "qa_d = get_bounds(qa_3857)\n",
    "\n",
    "mask_b1 = open_and_get_band(mask_3857, 1)\n",
    "mask_b1 = np.where(mask_b1 == 255, 0, mask_b1)\n",
    "mod44_b1 = open_and_get_band(mod44_3857, 1)\n",
    "mod44_b1 = np.where(mod44_b1 == 255, 0, mod44_b1)\n",
    "qa_b1 = open_and_get_band(qa_3857, 1)\n",
    "\n",
    "cleanup(mask_3857)\n",
    "cleanup(mod44_3857)\n",
    "cleanup(qa_3857)\n",
    "\n",
    "zeros = np.zeros_like(mask_b1)\n",
    "mask_rgba = np.dstack((mask_b1, zeros, zeros, mask_b1))\n",
    "mod44_rgba = np.dstack((zeros, mod44_b1, zeros, mod44_b1))\n",
    "qa_rgba = np.dstack((qa_b1, qa_b1, qa_b1, qa_b1))"
   ]
  },
  {
   "cell_type": "code",
   "execution_count": null,
   "id": "d419d69b-744c-4835-ad1f-e684df1a6a4a",
   "metadata": {},
   "outputs": [],
   "source": [
    "m = folium.Map(location=[mask_d['center'][1], mask_d['center'][0]],\n",
    "                   tiles='https://mt1.google.com/vt/lyrs=s&x={x}&y={y}&z={z}', zoom_start = 6, attr='Google', control_scale=True)\n",
    "\n",
    "\n",
    "# folium.Marker(location=[-16.4835, -72.9978]).add_to(m)"
   ]
  },
  {
   "cell_type": "code",
   "execution_count": null,
   "id": "ff311b28-7d4f-4f54-bf22-c3e8cfdb9220",
   "metadata": {},
   "outputs": [],
   "source": [
    "from folium import plugins"
   ]
  },
  {
   "cell_type": "code",
   "execution_count": null,
   "id": "a018ef64-92c2-43fa-b9f8-faee15f33936",
   "metadata": {
    "tags": []
   },
   "outputs": [],
   "source": [
    "\n",
    "m.add_child(get_overlay(mask_rgba, mask_d, '{}-{}-{} model water mask'.format(YEAR, DAY, TILE), opacity=0.8))\n",
    "m.add_child(get_overlay(mod44_rgba, mod44_d, '{} {} MOD44W mask'.format(TILE, YEAR), opacity=0.8, show=False))\n",
    "m.add_child(get_overlay(qa_rgba, qa_d, '{}-{}-{} MW QA mask'.format(YEAR, DAY, TILE), opacity=0.8, show=False))\n",
    "m.add_child(plugins.MousePosition())\n",
    "m.add_child(plugins.MeasureControl())\n",
    "m.add_child(folium.LayerControl())\n",
    "\n",
    "m"
   ]
  },
  {
   "cell_type": "code",
   "execution_count": null,
   "id": "51e50982-d4c1-4849-b5ad-c82a674ded26",
   "metadata": {},
   "outputs": [],
   "source": []
  },
  {
   "cell_type": "code",
   "execution_count": null,
   "id": "4a0ca77b-e6e2-424a-bf9b-f022c4627566",
   "metadata": {},
   "outputs": [],
   "source": []
  },
  {
   "cell_type": "code",
   "execution_count": null,
   "id": "cd0855da-4ce8-403d-9dcb-61b4acae157e",
   "metadata": {},
   "outputs": [],
   "source": []
  }
 ],
 "metadata": {
  "kernelspec": {
   "display_name": "ILAB Kernel (TensorFlow)",
   "language": "python",
   "name": "tensorflow-kernel"
  },
  "language_info": {
   "codemirror_mode": {
    "name": "ipython",
    "version": 3
   },
   "file_extension": ".py",
   "mimetype": "text/x-python",
   "name": "python",
   "nbconvert_exporter": "python",
   "pygments_lexer": "ipython3",
   "version": "3.8.16"
  }
 },
 "nbformat": 4,
 "nbformat_minor": 5
}
