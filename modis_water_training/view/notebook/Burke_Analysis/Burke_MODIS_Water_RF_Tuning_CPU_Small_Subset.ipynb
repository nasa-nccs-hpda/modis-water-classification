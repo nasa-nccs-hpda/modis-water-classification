{
 "cells": [
  {
   "cell_type": "markdown",
   "metadata": {},
   "source": [
    "### Get model metrics"
   ]
  },
  {
   "cell_type": "markdown",
   "metadata": {},
   "source": [
    "#  MODIS Water Random Forest Hyperparameter Tuning\n",
    "\n",
    "Version: 0.5.0\n",
    "\n",
    "Date modified: 03.02.2023\n",
    "\n",
    "Modified by: Amanda Burke"
   ]
  },
  {
   "cell_type": "code",
   "execution_count": 1,
   "metadata": {},
   "outputs": [],
   "source": [
    "import csv\n",
    "import datetime\n",
    "import glob\n",
    "import joblib\n",
    "import numpy as np\n",
    "import os\n",
    "import pandas as pd\n",
    "from pathlib import Path   \n",
    "import optuna\n",
    "import xgboost as xgb\n",
    "\n",
    "\n",
    "from sklearn.model_selection import train_test_split \n",
    "from sklearn.ensemble import RandomForestClassifier as skRF\n",
    "from sklearn.metrics import confusion_matrix, accuracy_score, roc_auc_score, precision_score, f1_score\n",
    "from sklearn.metrics import classification_report, roc_curve, auc, matthews_corrcoef\n",
    "from sklearn.model_selection import RandomizedSearchCV, KFold, StratifiedKFold\n",
    "from sklearn.inspection import permutation_importance\n",
    "\n",
    "# Visualization\n",
    "import seaborn as sns\n",
    "import matplotlib.pyplot as plt\n",
    "import warnings\n",
    "\n",
    "#GDAL Stuff\n",
    "from osgeo import gdalconst\n",
    "from osgeo import gdal\n",
    "\n",
    "from pprint import pprint\n",
    "\n",
    "plt.style.use('fivethirtyeight')\n",
    "warnings.filterwarnings('ignore')\n",
    "%matplotlib inline\n"
   ]
  },
  {
   "cell_type": "code",
   "execution_count": 2,
   "metadata": {
    "tags": []
   },
   "outputs": [
    {
     "name": "stdout",
     "output_type": "stream",
     "text": [
      "['/explore/nobackup/projects/ilab/data/MODIS/MODIS_WATER_ML/training_data/v4.2.0/MOD09_Golden_Masked_1007000_4_2_0.parquet.gzip', '/explore/nobackup/projects/ilab/data/MODIS/MODIS_WATER_ML/training_data/v4.2.0/MOD09_Golden_Masked_1007000_4_2_2.parquet.gzip']\n",
      "/explore/nobackup/projects/ilab/data/MODIS/MODIS_WATER_ML/training_data/v4.2.0/MOD09_Golden_Masked_1007000_4_2_0.parquet.gzip\n",
      "h11v10_201_2006_frac-water50_no-vars_sur_refl_b01_1-sur_refl_b02_1-sur_refl_b04_1-sur_refl_b05_1-sur_refl_b06_1-sur_refl_b07_1-ndvi-ndwi1-ndwi2\n"
     ]
    }
   ],
   "source": [
    "FIGURE_OUTPUT_DIR = ''#/explore/nobackup/projects/ilab/scratch/cssprad1/MODIS_water/code/tmp'\n",
    "RASTER_OUTPUT_DIR = ''#/explore/nobackup/projects/ilab/scratch/cssprad1/MODIS_water/code/tmp'\n",
    "MODEL_OUTPUT_DIR = ''#/explore/nobackup/projects/ilab/scratch/cssprad1/MODIS_water/models/'\n",
    "\n",
    "training_data_basepath = '/explore/nobackup/projects/ilab/data/MODIS/MODIS_WATER_ML/training_data/v4.2.0'\n",
    "\n",
    "qaMaskPath = '/explore/nobackup/projects/ilab/data/MODIS/MODIS_WATER_ML/qa'\n",
    "waterMaskPath = '/explore/nobackup/people/mcarrol2/MODIS_water/v5_outputs'\n",
    "\n",
    "test_data_basepath = '/explore/nobackup/projects/ilab/data/MODIS/MODIS_WATER_ML/test_data/'\n",
    "\n",
    "GPU = True\n",
    "TILE_IN = 'Golden'\n",
    "MODEL = 'rf'\n",
    "TEST_RATIO = 0.2\n",
    "RANDOM_STATE = 42\n",
    "LABEL_NAME = 'water'\n",
    "DATA_TYPE = np.int16\n",
    "# Columns that are offset, years, julian days, etc (always need to be dropped).\n",
    "offsets_indexes = ['x_offset', 'y_offset', 'year', 'julian_day','tileID']\n",
    "# Columns that the user wants to drop for training purposes. \n",
    "colsToDrop = ['sur_refl_b01_1','sur_refl_b02_1',\n",
    "           'sur_refl_b04_1','sur_refl_b05_1','sur_refl_b06_1',\n",
    "           'sur_refl_b07_1','ndvi','ndwi1','ndwi2']\n",
    "\n",
    "colsToDropTraining = colsToDrop.copy()\n",
    "colsToDropTraining.extend(offsets_indexes)\n",
    "v_names = ['sur_refl_b01_1','sur_refl_b02_1','sur_refl_b03_1',\n",
    "           'sur_refl_b04_1','sur_refl_b05_1','sur_refl_b06_1',\n",
    "           'sur_refl_b07_1','ndvi','ndwi1','ndwi2']\n",
    "\n",
    "glob_string = os.path.join(training_data_basepath,'MOD*{}*.parquet.gzip'.format(TILE_IN))\n",
    "data_paths = sorted([fv for fv in glob.glob(glob_string)])\n",
    "\n",
    "#Only want the one with 4.2.0 because the other file doesnt work. \n",
    "print(data_paths)\n",
    "data_path = data_paths[0]\n",
    "print(data_path)\n",
    "\n",
    "TILE = 'h11v10'\n",
    "DAY = 201\n",
    "YEAR = 2006\n",
    "\n",
    "\n",
    "# TILE = 'h21v10'\n",
    "# DAY = 100\n",
    "# YEAR = 2019\n",
    "\n",
    "num_datapoints = 10000\n",
    "\n",
    "FRAC_LAND = 0.5\n",
    "\n",
    "##Add in the other stuff for tuning\n",
    "frac_water = int(100*(1.0-FRAC_LAND))\n",
    "if len(colsToDrop) >= 1:\n",
    "    save_file = f\"{TILE}_{DAY}_{YEAR}_frac-water{frac_water}_no-vars_{'-'.join(colsToDrop)}\"\n",
    "else: \n",
    "     save_file = f\"{TILE}_{DAY}_{YEAR}_frac-water{frac_water}_all-vars\"\n",
    "\n",
    "print(save_file)"
   ]
  },
  {
   "cell_type": "markdown",
   "metadata": {
    "tags": []
   },
   "source": [
    "## Functions "
   ]
  },
  {
   "cell_type": "code",
   "execution_count": 3,
   "metadata": {},
   "outputs": [],
   "source": [
    "def load_data(fpath, colsToDrop, yCol='water', testSize=0.2, randomState=42, \n",
    "              dataType=np.float32, cpu=True, splitXY=False, trainTestSplit=False,\n",
    "             applyLog=False, imbalance=False, frac=0.1, land=False, multi=False, \n",
    "              multisample=1000000):\n",
    "    \"\"\"\n",
    "    Simple helper function for loading data to be used by models\n",
    "    :param fpath: Path to the data to be ingested.\n",
    "    :param dataType: Data type to convert ingested data to.\n",
    "    :param colsToDrop: Columns which are not necessary, from which to drop.\n",
    "    :param testSize: Ration to\n",
    "    \"\"\"\n",
    "    if multi:\n",
    "        all_dfs = [pd.read_csv(path_) for path_ in fpath]\n",
    "        df = pd.concat(all_dfs).sample(n=multisample, random_state=randomState)\n",
    "        print('DF length: {}'.format(len(df.index)))\n",
    "    else:   \n",
    "        df = pd.read_parquet(fpath) if '.parquet' in fpath else pd.read_csv(fpath)\n",
    "    df = df[df['sur_refl_b01_1'] + df['sur_refl_b02_1'] != 0]\n",
    "    df = df[df['sur_refl_b07_1'] + df['sur_refl_b02_1'] != 0]\n",
    "    df = df[df['sur_refl_b06_1'] + df['sur_refl_b02_1'] != 0]\n",
    "    df = df.drop(columns=colsToDrop)\n",
    "    cleanedDF = df[~df.isin([np.NaN, np.inf, -np.inf]).any(1)].dropna(axis=0).astype(dataType)\n",
    "    if applyLog:\n",
    "        for col in cleanedDF.drop([yCol], axis=1).columns:\n",
    "            print('Applying log1p func to {}'.format(col))\n",
    "            cleanedDF[col] = np.log1p(cleanedDF[col])\n",
    "        cleanedDF = cleanedDF[~cleanedDF.isin([np.NaN, np.inf, -np.inf]).any(1)].dropna(axis=0)\n",
    "    df = None\n",
    "    if imbalance:\n",
    "        if land:\n",
    "            print('Imbalancing data, sampling {} from water'.format(frac))\n",
    "        else:\n",
    "            print(f'Imbalancing data, sampling {frac} from land, {1-frac} from water')\n",
    "        groupedDF = cleanedDF.groupby('water')\n",
    "        dfs = [groupedDF.get_group(y) for y in groupedDF.groups]\n",
    "        sampledDF = dfs[1].sample(frac=frac)if land else dfs[0].sample(frac=frac)\n",
    "        concatDF = sampledDF.append(dfs[0]) if land else sampledDF.append(dfs[1])\n",
    "        concatDF = concatDF.sample(frac=1)\n",
    "        concatDF = concatDF.reset_index()\n",
    "        cleanedDF = concatDF.drop(columns=['index'])\n",
    "    if not splitXY:\n",
    "        return cleanedDF\n",
    "    X = cleanedDF.drop([yCol], axis=1).astype(dataType)\n",
    "    y = cleanedDF[yCol].astype(dataType)\n",
    "    if trainTestSplit:\n",
    "        return train_test_split(X, y, test_size=TEST_RATIO)\n",
    "    else:\n",
    "        return X, y"
   ]
  },
  {
   "cell_type": "code",
   "execution_count": 4,
   "metadata": {},
   "outputs": [],
   "source": [
    "def rf_objective(trial):\n",
    "    list_trees = [75, 100, 125, 150, 175, 200, 250, 300, 400, 500]\n",
    "    max_depth = [5, 10, 30, 50, 80, 90, 100, 110]\n",
    "    min_samples_leaf = [1, 2, 3, 4, 5]\n",
    "    min_samples_split = [2, 4, 8, 10]\n",
    "    bootstrap = [True, False]\n",
    "    max_features = ['auto', 'sqrt', 'log2']\n",
    "    \n",
    "    # if TREES_AND_DEPTH_ONLY:\n",
    "    #     param = {'n_estimators': trial.suggest_categorical('n_estimators', list_trees), \n",
    "    #                'criterion':'gini', \n",
    "    #                'max_depth':trial.suggest_categorical('max_depth', max_depth), \n",
    "    #                'min_samples_split':2, \n",
    "    #                'min_samples_leaf':1, \n",
    "    #                'min_weight_fraction_leaf':0.0, \n",
    "    #                'max_features':'auto', \n",
    "    #                'max_leaf_nodes':None, \n",
    "    #                'min_impurity_decrease':0.0, \n",
    "    #                'bootstrap':True, \n",
    "    #                'oob_score':False, \n",
    "    #                'n_jobs':-1, \n",
    "    #                # 'random_state':42, \n",
    "    #                'verbose':0, \n",
    "    #                'warm_start':True, \n",
    "    #                'class_weight':None, \n",
    "    #                'ccp_alpha':0.0, \n",
    "    #                'max_samples':None\n",
    "    #                   }\n",
    "    # else:\n",
    "    param = {'n_estimators': trial.suggest_categorical('n_estimators', list_trees), \n",
    "                       'max_depth':trial.suggest_categorical('max_depth', max_depth), \n",
    "                       'min_samples_split':trial.suggest_categorical('min_samples_split', min_samples_split), \n",
    "                       'min_samples_leaf':trial.suggest_categorical('min_samples_leaf', min_samples_leaf), \n",
    "                       'bootstrap': trial.suggest_categorical('bootstrap', bootstrap),\n",
    "                       'criterion':'gini', \n",
    "                       #'min_weight_fraction_leaf': trial.suggest_float('min_weight_fraction_leaf', 1e-8, 1.0, log=True), \n",
    "                       'max_features':trial.suggest_categorical('max_features', max_features), \n",
    "                       'max_leaf_nodes':None, \n",
    "                       'min_impurity_decrease':0.0, \n",
    "                       'oob_score':False, \n",
    "                       'n_jobs':-1, \n",
    "                       # 'random_state':42, \n",
    "                       'verbose':0, \n",
    "                       'warm_start':False, \n",
    "                       'class_weight':None, \n",
    "                       'ccp_alpha':0.0, \n",
    "                       'max_samples':None\n",
    "                      }\n",
    "    cv = StratifiedKFold(n_splits=5, shuffle=True, random_state=42)\n",
    "\n",
    "    cv_scores = np.empty(5)\n",
    "    for idx, (train_idx, val_idx) in enumerate(cv.split(X, y)):\n",
    "        X_train, X_val = X.iloc[train_idx], X.iloc[val_idx]\n",
    "        y_train, y_val = y.iloc[train_idx], y.iloc[val_idx]\n",
    "\n",
    "        model = skRF(**param)\n",
    "        model.fit(X_train, \n",
    "                  y_train)\n",
    "        preds = model.predict(X_val)\n",
    "        cv_scores[idx] = f1_score(y_val, preds)\n",
    "        if cv_scores[idx] == 0.0:\n",
    "            print('Pruning because of 0.0 score.')\n",
    "            return 0.0\n",
    "        print('Fold {}: {}'.format(idx, cv_scores[idx]))\n",
    "    return np.mean(cv_scores)\n",
    "\n",
    "rf_search_space={\n",
    "    \"n_estimators\": [75, 100, 125, 150, 175, 200, 250, 300, 400, 500],\n",
    "    \"max_depth\" : [5,10, 30, 50, 80, 90, 100, 110],\n",
    "    \"min_samples_leaf\" : [1, 2, 3, 4, 5],\n",
    "    \"min_samples_split\" : [2, 4, 8, 10],\n",
    "    \"bootstrap\" : [True, False],\n",
    "    \"max_features\" : ['auto', 'sqrt', 'log2'],\n",
    "    \n",
    "}"
   ]
  },
  {
   "cell_type": "code",
   "execution_count": 5,
   "metadata": {},
   "outputs": [],
   "source": [
    "def xgb_objective(trial):\n",
    "    hyperparameters = {\n",
    "        \"verbosity\": 0,\n",
    "        \"objective\": \"binary:logistic\",\n",
    "        # use exact for small dataset.\n",
    "        \"tree_method\": \"hist\",\n",
    "        #\"gpu_id\": 0,\n",
    "        \"n_jobs\": -1,\n",
    "        \"n_estimators\": trial.suggest_categorical(\"n_estimators\", [50, 75, 100, 150, 175, 200, 250, 300, 500]),\n",
    "        # defines booster, gblinear for linear functions.\n",
    "        \"booster\": trial.suggest_categorical(\"booster\", [\"gbtree\", \"dart\"]),\n",
    "        # L2 regularization weight.\n",
    "        #\"lambda\": trial.suggest_float(\"lambda\", 1e-8, 1.0, log=True),\n",
    "        # L1 regularization weight.\n",
    "        #\"alpha\": trial.suggest_float(\"alpha\", 1e-8, 1.0, log=True),\n",
    "        # sampling ratio for training data.\n",
    "        \"subsample\": trial.suggest_float(\"subsample\", 0.2, 1.0),\n",
    "        # sampling according to each tree.\n",
    "        #\"colsample_bytree\": trial.suggest_float(\"colsample_bytree\", 0.2, 1.0),\n",
    "        # maximum depth of the tree, signifies complexity of the tree.\n",
    "        \"max_depth\":  trial.suggest_int(\"max_depth\", 30, 50, step=5), \n",
    "        # minimum child weight, larger the term more conservative the tree.\n",
    "        \"min_child_weight\":  trial.suggest_int(\"min_child_weight\", 2, 10), \n",
    "        #\"eta\":  trial.suggest_float(\"eta\", 1e-8, 1.0, log=True), \n",
    "        # defines how selective algorithm is.\n",
    "        #\"gamma\": trial.suggest_float(\"gamma\", 1e-8, 1.0, log=True), \n",
    "        \"grow_policy\":  trial.suggest_categorical(\"grow_policy\", [\"depthwise\", \"lossguide\"]),\n",
    "    }\n",
    "    pruning_callback = optuna.integration.XGBoostPruningCallback(trial, \"validation_0-auc\")\n",
    "    classifier = xgb.XGBClassifier(**hyperparameters)\n",
    "    X_train, X_val, y_train, y_val = train_test_split(X,y)\n",
    "    eval_set = [(X_train, y_train), (X_val, y_val)]\n",
    "    eval_metric = [\"error\",\"auc\"]\n",
    "    classifier.fit(X_train, \n",
    "                   y_train, \n",
    "                   eval_set=eval_set, \n",
    "                   eval_metric=eval_metric, \n",
    "                   early_stopping_rounds=10, \n",
    "                   callbacks=[pruning_callback],\n",
    "                   verbose=False)\n",
    "    preds = classifier.predict(X_test)\n",
    "    precision = precision_score(y_test, preds)\n",
    "    f1 = f1_score(y_test, preds)\n",
    "    mcc = matthews_corrcoef(y_test, preds)\n",
    "    print('Confusion matrix')\n",
    "    # From docs: tn, fp, fn, tp = confusion_matrix(y_true, y_pred).ravel()\n",
    "    tn, fp, fn, tp = confusion_matrix(y_test, preds).ravel()\n",
    "    print('TP: {:9} FN: {:9}'.format(tp, fn))\n",
    "    print('FP: {:9} TN: {:9}'.format(fp, tn))\n",
    "    print('MCC: {}'.format(mcc))\n",
    "    print('Precision: {}'.format(precision))\n",
    "    print('F1 score: {}'.format(f1))\n",
    "    return f1\n",
    "\n",
    "xg_search_space={\n",
    "    \"n_estimators\": [50, 75, 100, 150, 175, 200, 250, 300, 500],\n",
    "    \"max_depth\" : [30,35,40,45,50],\n",
    "    \"booster\": [\"gbtree\", \"dart\"],\n",
    "    \"subsample\": [0.2, 1.0],\n",
    "    \"min_child_weight\": [2,10],\n",
    "    \"grow_policy\": [\"depthwise\", \"lossguide\"],\n",
    "    \n",
    "    }"
   ]
  },
  {
   "cell_type": "code",
   "execution_count": 6,
   "metadata": {
    "tags": []
   },
   "outputs": [],
   "source": [
    "def readRasterToArray(vars_list):\n",
    "    vrt_options = gdal.BuildVRTOptions(xRes=231.656358, yRes=231.656358, separate=True)\n",
    "    dd = gdal.BuildVRT('tmp.vrt', vars_list, options=vrt_options)\n",
    "    nrows, ncols = dd.RasterYSize, dd.RasterXSize\n",
    "    newshp = (ncols*nrows, dd.RasterCount+3)\n",
    "    img = np.empty(newshp, dtype=np.int16)\n",
    "    for b in range(len(vars_list)):\n",
    "        img[:, b] = dd.GetRasterBand(b+1).ReadAsArray().astype(np.int16).ravel()\n",
    "    dd = None\n",
    "    img[:, len(vars_list)] = ((img[:, 1] - img[:, 0]) / (img[:, 1] + img[:, 0])) * 10000\n",
    "    img[:, len(vars_list)+1] = ((img[:, 1] - img[:, 5]) / (img[:, 1] + img[:, 5])) * 10000\n",
    "    img[:, len(vars_list)+2] = ((img[:, 1] - img[:, 6]) / (img[:, 1] + img[:, 6])) * 10000\n",
    "    if os.path.exists('tmp.vrt'): os.remove('tmp.vrt')\n",
    "    \n",
    "    return img"
   ]
  },
  {
   "cell_type": "code",
   "execution_count": 7,
   "metadata": {},
   "outputs": [],
   "source": [
    "def predictRaster(img_chunk, classifier, colsToDrop=None):\n",
    "    \"\"\"\n",
    "    Function given a raster in the form of a nxn matrix, will\n",
    "    convert the matrix to a GPU/CPU-bound data frame then perform \n",
    "    predictions given the loaded model.\n",
    "    \n",
    "    Return the prediction matrix, the prediction probabilities\n",
    "    for each and the dataframe converted to host.\n",
    "    \"\"\"\n",
    "    df = pd.DataFrame(img_chunk, columns=v_names, dtype=np.int16)\n",
    "    df = df.drop(columns=colsToDrop) if colsToDrop else df\n",
    "    print('Making predictions from raster')\n",
    "    predictions = classifier.predict(df).astype(np.int16)\n",
    "    predictionsProbs = classifier.predict_proba(df).astype(np.float32)\n",
    "    return predictions, predictionsProbs, df"
   ]
  },
  {
   "cell_type": "code",
   "execution_count": 8,
   "metadata": {},
   "outputs": [],
   "source": [
    "import folium\n",
    "import glob\n",
    "import numpy as np\n",
    "import os\n",
    "import rasterio as rio\n",
    "import tempfile\n",
    "\n",
    "from rasterio.warp import calculate_default_transform, reproject, Resampling\n",
    "from pyproj import Transformer \n",
    "\n",
    "\n",
    "# -----------------------------------------------------------------------------\n",
    "# Uses rasterio to open a raster, get the metadata and crs\n",
    "# associated with it and get all the subdatasets in the file.\n",
    "# This is very useful for hdf files such as MODIS hdfs.\n",
    "# -----------------------------------------------------------------------------\n",
    "def print_subdatasets(filename):\n",
    "    bands_to_return = []\n",
    "    with rio.open(filename) as dataset:\n",
    "        meta_data = dataset.meta\n",
    "        crs = dataset.read_crs()\n",
    "        \n",
    "        print([name for name in dataset.subdatasets if search_term in name])\n",
    "\n",
    "# -----------------------------------------------------------------------------\n",
    "# Gets a tiff that has the correct metadata for that tile, gets the metadata\n",
    "# from the source tif and copies to a destination tiff. \n",
    "# -----------------------------------------------------------------------------     \n",
    "def add_metadata_to_annual_product(filepath, model_type, year, tile):\n",
    "    metadata_pull_src = [fv for fv in glob.glob(os.path.join(filepath, \"{}-1*-{}-MOD-*.tif\".format(year, tile)))][0]\n",
    "    with rio.open(metadata_pull_src) as src:\n",
    "        src_meta = src.meta\n",
    "    dst_tiffs = [os.path.join(filepath, fn) for fn in os.listdir(filepath) if \"{0}-{1}\".format(year, tile) in os.path.basename(fn)]\n",
    "    [copy_meta(dst_tiff, src_meta, metadata_pull_src) for dst_tiff in dst_tiffs]\n",
    "\n",
    "# -----------------------------------------------------------------------------\n",
    "# Given a path to a tiff with no metadata, assign the metadata given to that\n",
    "# tiff.\n",
    "# -----------------------------------------------------------------------------     \n",
    "def copy_meta(dst_path, src_meta, src_name):\n",
    "    print('Copying metadata from {} to {}'.format(src_name, dst_path))\n",
    "    with rio.open(dst_path, 'r+') as dst:\n",
    "        dst.crs = src_meta['crs']\n",
    "        dst.transform = src_meta['transform']        \n",
    "\n",
    "# -----------------------------------------------------------------------------\n",
    "# Given a tiff file as input, open the tiff and get the transform needed to\n",
    "# reproject from the tiff's source crs to the one we want (EPSG:3857).\n",
    "# For each band in the tiff, open then reproject it into the desired crs\n",
    "# then write to a temporary file. Return the path to the temp file.\n",
    "# -----------------------------------------------------------------------------\n",
    "def reproject_to_3857(input_tiff):\n",
    "    # Set desitnation CRS\n",
    "    dst_crs = f\"EPSG:3857\"\n",
    "\n",
    "    # set out path\n",
    "    out_path_rproj = os.path.join(tempfile.gettempdir(), input_tiff.split('/')[-1].replace('.tif','-3857.tif'))\n",
    "\n",
    "    with rio.open(input_tiff) as src:\n",
    "        # get src bounds and transform\n",
    "        transform, width, height = calculate_default_transform(src.crs, dst_crs, src.width, src.height, *src.bounds)\n",
    "        print('Transform: {}'.format(transform))\n",
    "        print('Width: {} Height: {}'.format(width, height))\n",
    "        kwargs = src.meta.copy()\n",
    "        kwargs.update({'crs': dst_crs,\n",
    "                   'transform': transform,\n",
    "                   'width': width,\n",
    "                   'height': height})\n",
    "    \n",
    "        # reproject and write to file\n",
    "        with rio.open(out_path_rproj, 'w', **kwargs) as dst:\n",
    "            for i in range(1, src.count + 1):\n",
    "                reproject(source=rio.band(src, i),\n",
    "                      destination=rio.band(dst, i),\n",
    "                      src_transform=src.transform,\n",
    "                      src_crs=src.crs,\n",
    "                      dst_transform=transform,\n",
    "                      dst_crs=dst_crs,\n",
    "                      resampling=Resampling.nearest)\n",
    "    return out_path_rproj\n",
    "\n",
    "# -----------------------------------------------------------------------------\n",
    "# In order for folium to work properly we need to pass it the bounding box\n",
    "# of the tiff in the form of lat and lon. This is done by using rasterio.\n",
    "# -----------------------------------------------------------------------------\n",
    "def get_bounds(tiff_3857):\n",
    "    with rio.open(tiff_3857) as src:\n",
    "        src_crs = src.crs['init'].upper()\n",
    "        min_lon, min_lat, max_lon, max_lat = src.bounds\n",
    "    bounds_orig = [[min_lat, min_lon], [max_lat, max_lon]]\n",
    "    bounds = []\n",
    "    dst_crs = 'EPSG:4326'\n",
    "    for item in bounds_orig:   \n",
    "        #converting to lat/lon\n",
    "        lat = item[0]\n",
    "        lon = item[1]\n",
    "        proj = Transformer.from_crs(int(src_crs.split(\":\")[1]), int(dst_crs.split(\":\")[1]), always_xy=True)\n",
    "        lon_n, lat_n = proj.transform(lon, lat)\n",
    "        bounds.append([lat_n, lon_n])\n",
    "    center_lon = bounds[0][1] + (bounds[1][1] - bounds[0][1])/2\n",
    "    center_lat = bounds[0][0] + (bounds[1][0] - bounds[0][0])/2\n",
    "    return {'bounds': bounds, 'center': (center_lon, center_lat)}\n",
    "\n",
    "# -----------------------------------------------------------------------------\n",
    "# Use rasterio to open and read in the desired band name as a nd-array.\n",
    "# -----------------------------------------------------------------------------\n",
    "def open_and_get_band(file_name, band_num=1):\n",
    "    with rio.open(file_name) as data:\n",
    "        b = data.read(band_num)\n",
    "    return b\n",
    "\n",
    "# -----------------------------------------------------------------------------\n",
    "# Given an nd-array (band) and the bounds in lat lon of the nd-array, return\n",
    "# a folium layer. To add on the map.\n",
    "# -----------------------------------------------------------------------------\n",
    "def get_overlay(band, meta_dict, name, opacity=1.0, show=True):\n",
    "    return folium.raster_layers.ImageOverlay(band, \n",
    "                                             bounds=meta_dict['bounds'], \n",
    "                                             name=name, \n",
    "                                             opacity=opacity, \n",
    "                                             show=show)\n",
    "\n",
    "# -----------------------------------------------------------------------------\n",
    "# We don't need to keep those temp files we made for the reprojections around.\n",
    "# -----------------------------------------------------------------------------\n",
    "def cleanup(filename):\n",
    "    if os.path.exists(filename):\n",
    "        os.remove(filename)\n",
    "    else:\n",
    "        print('No file: {} exists.'.format(filename))"
   ]
  },
  {
   "cell_type": "markdown",
   "metadata": {
    "tags": []
   },
   "source": [
    "## Data \n",
    "- Read in to cuDF or pandas Dataframe\n",
    "- Drop unnecessary columns\n",
    "- Clean data\n",
    "- Split into Xs and Ys\n",
    "- Train-test split"
   ]
  },
  {
   "cell_type": "code",
   "execution_count": 4,
   "metadata": {},
   "outputs": [
    {
     "data": {
      "text/plain": [
       "(['sur_refl_b01_1',\n",
       "  'sur_refl_b02_1',\n",
       "  'sur_refl_b04_1',\n",
       "  'sur_refl_b05_1',\n",
       "  'sur_refl_b06_1',\n",
       "  'sur_refl_b07_1',\n",
       "  'ndvi',\n",
       "  'ndwi1',\n",
       "  'ndwi2'],\n",
       " ['sur_refl_b01_1',\n",
       "  'sur_refl_b02_1',\n",
       "  'sur_refl_b04_1',\n",
       "  'sur_refl_b05_1',\n",
       "  'sur_refl_b06_1',\n",
       "  'sur_refl_b07_1',\n",
       "  'ndvi',\n",
       "  'ndwi1',\n",
       "  'ndwi2',\n",
       "  'x_offset',\n",
       "  'y_offset',\n",
       "  'year',\n",
       "  'julian_day',\n",
       "  'tileID'])"
      ]
     },
     "execution_count": 4,
     "metadata": {},
     "output_type": "execute_result"
    }
   ],
   "source": [
    "colsToDrop, colsToDropTraining"
   ]
  },
  {
   "cell_type": "code",
   "execution_count": null,
   "metadata": {},
   "outputs": [],
   "source": []
  },
  {
   "cell_type": "code",
   "execution_count": 4,
   "metadata": {},
   "outputs": [
    {
     "name": "stdout",
     "output_type": "stream",
     "text": [
      "Imbalancing data, sampling 0.5 from land, 0.5 from water\n",
      "subset data shape: (10000, 1), (10000,)\n"
     ]
    }
   ],
   "source": [
    "X, X_test, y, y_test = load_data(fpath=data_path,\n",
    "                                colsToDrop=colsToDropTraining,\n",
    "                                dataType=DATA_TYPE,\n",
    "                                cpu=True,\n",
    "                                splitXY=True,\n",
    "                                imbalance=True,\n",
    "                                frac=FRAC_LAND,\n",
    "                                trainTestSplit=True\n",
    "                                )\n",
    "\n",
    "X = X.iloc[:num_datapoints,:] \n",
    "y = y.iloc[:num_datapoints] \n",
    "\n",
    "X_test = X_test.iloc[:num_datapoints,:] \n",
    "y_test = y_test.iloc[:num_datapoints] \n",
    "\n",
    "print(f'subset data shape: {X.shape}, {y.shape}')"
   ]
  },
  {
   "cell_type": "code",
   "execution_count": 23,
   "metadata": {},
   "outputs": [
    {
     "name": "stdout",
     "output_type": "stream",
     "text": [
      "sur_refl_b03_1\n"
     ]
    }
   ],
   "source": [
    "_ = [print(column) for column in X.columns]"
   ]
  },
  {
   "cell_type": "markdown",
   "metadata": {
    "tags": []
   },
   "source": [
    "# Model definition and training"
   ]
  },
  {
   "cell_type": "markdown",
   "metadata": {
    "tags": []
   },
   "source": [
    "Set TREES_AND_DEPTH_ONLY to True if you only want to tune number of estimators and max_depth.\n",
    "\n",
    "If you want to only exhaust the search space above, set `GRID_SEARCH = True`."
   ]
  },
  {
   "cell_type": "markdown",
   "metadata": {},
   "source": [
    "### Start hyperparameter tuning trials.\n",
    "\n",
    "Ex output: Trial 0 finished with values: [0.9527224325581133, 0.9667626330841518, 9684.0] and parameters:\n",
    "\n",
    "The metrics in order are: [precision, f1, false positives]"
   ]
  },
  {
   "cell_type": "code",
   "execution_count": 24,
   "metadata": {},
   "outputs": [],
   "source": [
    "TREES_AND_DEPTH_ONLY = False\n",
    "GRID_SEARCH = True"
   ]
  },
  {
   "cell_type": "code",
   "execution_count": 25,
   "metadata": {
    "tags": []
   },
   "outputs": [
    {
     "name": "stderr",
     "output_type": "stream",
     "text": [
      "\u001b[32m[I 2023-04-20 12:46:51,016]\u001b[0m A new study created in memory with name: RF Tuning Grid Search\u001b[0m\n"
     ]
    },
    {
     "name": "stdout",
     "output_type": "stream",
     "text": [
      "Fold 0: 0.814506044185077\n",
      "Fold 1: 0.8203445447087777\n",
      "Fold 2: 0.8015107007973143\n",
      "Fold 3: 0.8125260960334029\n"
     ]
    },
    {
     "name": "stderr",
     "output_type": "stream",
     "text": [
      "\u001b[32m[I 2023-04-20 12:46:52,289]\u001b[0m Trial 0 finished with value: 0.8084496763150388 and parameters: {'n_estimators': 125, 'max_depth': 100, 'min_samples_split': 8, 'min_samples_leaf': 2, 'bootstrap': False, 'max_features': 'sqrt'}. Best is trial 0 with value: 0.8084496763150388.\u001b[0m\n"
     ]
    },
    {
     "name": "stdout",
     "output_type": "stream",
     "text": [
      "Fold 4: 0.7933609958506225\n",
      "Fold 0: 0.8183319570602807\n",
      "Fold 1: 0.8257482574825749\n",
      "Fold 2: 0.8135034993824619\n",
      "Fold 3: 0.8213399503722084\n"
     ]
    },
    {
     "name": "stderr",
     "output_type": "stream",
     "text": [
      "\u001b[32m[I 2023-04-20 12:46:57,741]\u001b[0m Trial 1 finished with value: 0.8159821012805578 and parameters: {'n_estimators': 500, 'max_depth': 50, 'min_samples_split': 8, 'min_samples_leaf': 4, 'bootstrap': True, 'max_features': 'auto'}. Best is trial 1 with value: 0.8159821012805578.\u001b[0m\n"
     ]
    },
    {
     "name": "stdout",
     "output_type": "stream",
     "text": [
      "Fold 4: 0.8009868421052632\n",
      "Fold 0: 0.8257349808265871\n",
      "Fold 1: 0.82920688208141\n",
      "Fold 2: 0.8123415046491969\n",
      "Fold 3: 0.8198810535259133\n"
     ]
    },
    {
     "name": "stderr",
     "output_type": "stream",
     "text": [
      "\u001b[32m[I 2023-04-20 12:46:59,942]\u001b[0m Trial 2 finished with value: 0.8189615466370036 and parameters: {'n_estimators': 250, 'max_depth': 10, 'min_samples_split': 2, 'min_samples_leaf': 4, 'bootstrap': False, 'max_features': 'log2'}. Best is trial 2 with value: 0.8189615466370036.\u001b[0m\n"
     ]
    },
    {
     "name": "stdout",
     "output_type": "stream",
     "text": [
      "Fold 4: 0.8076433121019109\n",
      "Fold 0: 0.8181063122923589\n",
      "Fold 1: 0.8229038854805726\n",
      "Fold 2: 0.8068134607395098\n",
      "Fold 3: 0.8167014613778705\n"
     ]
    },
    {
     "name": "stderr",
     "output_type": "stream",
     "text": [
      "\u001b[32m[I 2023-04-20 12:47:02,371]\u001b[0m Trial 3 finished with value: 0.8121106507881575 and parameters: {'n_estimators': 250, 'max_depth': 30, 'min_samples_split': 8, 'min_samples_leaf': 3, 'bootstrap': False, 'max_features': 'auto'}. Best is trial 2 with value: 0.8189615466370036.\u001b[0m\n"
     ]
    },
    {
     "name": "stdout",
     "output_type": "stream",
     "text": [
      "Fold 4: 0.7960281340504757\n",
      "Fold 0: 0.8183698800165494\n",
      "Fold 1: 0.8263917525773197\n",
      "Fold 2: 0.8132231404958677\n",
      "Fold 3: 0.8213244481466055\n"
     ]
    },
    {
     "name": "stderr",
     "output_type": "stream",
     "text": [
      "\u001b[32m[I 2023-04-20 12:47:07,989]\u001b[0m Trial 4 finished with value: 0.81698441956712 and parameters: {'n_estimators': 500, 'max_depth': 80, 'min_samples_split': 10, 'min_samples_leaf': 5, 'bootstrap': True, 'max_features': 'log2'}. Best is trial 2 with value: 0.8189615466370036.\u001b[0m\n"
     ]
    },
    {
     "name": "stdout",
     "output_type": "stream",
     "text": [
      "Fold 4: 0.8056128765992571\n",
      "CPU times: user 1min 6s, sys: 7.78 s, total: 1min 14s\n",
      "Wall time: 17 s\n"
     ]
    }
   ],
   "source": [
    "%%time\n",
    "\n",
    "optuna.logging.set_verbosity(optuna.logging.INFO)\n",
    "if GRID_SEARCH:\n",
    "    study = optuna.create_study(study_name='RF Tuning Grid Search', \n",
    "                                direction='maximize',\n",
    "                                sampler=optuna.samplers.GridSampler(rf_search_space))\n",
    "    \n",
    "else:\n",
    "    study = optuna.create_study(study_name='RF Tuning',\n",
    "                                direction='maximize')\n",
    "#Objective is under the functions area\n",
    "\n",
    "#####################################################################\n",
    "#CHANGE HERE FOR DIFFERENT MODELING TYPE\n",
    "#rf_objective or xgb_objective\n",
    "#####################################################################\n",
    "\n",
    "study.optimize(rf_objective, n_trials=5, timeout=30*60)"
   ]
  },
  {
   "cell_type": "markdown",
   "metadata": {},
   "source": [
    "## Get metrics from the overall hyperparameter tuning"
   ]
  },
  {
   "cell_type": "code",
   "execution_count": 26,
   "metadata": {},
   "outputs": [
    {
     "name": "stdout",
     "output_type": "stream",
     "text": [
      "Number of finished trials: 5\n",
      "{'n_estimators': 250, 'max_depth': 10, 'min_samples_split': 2, 'min_samples_leaf': 4, 'bootstrap': False, 'max_features': 'log2'}\n"
     ]
    }
   ],
   "source": [
    "print(\"Number of finished trials: {}\".format(len(study.trials)))\n",
    "trials = study.best_trials\n",
    "trial_score = max([trial.values[0] for trial in trials])\n",
    "best_trial_params = [trial.params for trial in trials if trial.values[0] == trial_score][0]\n",
    "print(best_trial_params)\n"
   ]
  },
  {
   "cell_type": "markdown",
   "metadata": {},
   "source": [
    "## Output hyperparameter files"
   ]
  },
  {
   "cell_type": "code",
   "execution_count": 27,
   "metadata": {},
   "outputs": [
    {
     "name": "stdout",
     "output_type": "stream",
     "text": [
      "[0.8189615466370036]\n",
      "     n_estimators: 250\n",
      "     max_depth: 10\n",
      "     min_samples_split: 2\n",
      "     min_samples_leaf: 4\n",
      "     bootstrap: False\n",
      "     max_features: log2\n"
     ]
    },
    {
     "data": {
      "text/html": [
       "<div>\n",
       "<style scoped>\n",
       "    .dataframe tbody tr th:only-of-type {\n",
       "        vertical-align: middle;\n",
       "    }\n",
       "\n",
       "    .dataframe tbody tr th {\n",
       "        vertical-align: top;\n",
       "    }\n",
       "\n",
       "    .dataframe thead th {\n",
       "        text-align: right;\n",
       "    }\n",
       "</style>\n",
       "<table border=\"1\" class=\"dataframe\">\n",
       "  <thead>\n",
       "    <tr style=\"text-align: right;\">\n",
       "      <th></th>\n",
       "      <th>0</th>\n",
       "    </tr>\n",
       "  </thead>\n",
       "  <tbody>\n",
       "    <tr>\n",
       "      <th>n_estimators</th>\n",
       "      <td>250</td>\n",
       "    </tr>\n",
       "    <tr>\n",
       "      <th>max_depth</th>\n",
       "      <td>10</td>\n",
       "    </tr>\n",
       "    <tr>\n",
       "      <th>min_samples_split</th>\n",
       "      <td>2</td>\n",
       "    </tr>\n",
       "    <tr>\n",
       "      <th>min_samples_leaf</th>\n",
       "      <td>4</td>\n",
       "    </tr>\n",
       "    <tr>\n",
       "      <th>bootstrap</th>\n",
       "      <td>False</td>\n",
       "    </tr>\n",
       "    <tr>\n",
       "      <th>max_features</th>\n",
       "      <td>log2</td>\n",
       "    </tr>\n",
       "  </tbody>\n",
       "</table>\n",
       "</div>"
      ],
      "text/plain": [
       "                       0\n",
       "n_estimators         250\n",
       "max_depth             10\n",
       "min_samples_split      2\n",
       "min_samples_leaf       4\n",
       "bootstrap          False\n",
       "max_features        log2"
      ]
     },
     "execution_count": 27,
     "metadata": {},
     "output_type": "execute_result"
    }
   ],
   "source": [
    "trial_scores = [trial.values for trial in trials]\n",
    "trial_params = [trial.params for trial in trials]\n",
    "\n",
    "for score, param in zip(trial_scores, trial_params):\n",
    "    print(score)\n",
    "    for k, v in param.items():\n",
    "        print(\"     {}: {}\".format(k, v))\n",
    "\n",
    "study_df = pd.DataFrame.from_dict(best_trial_params, orient=\"index\")\n",
    "\n",
    "# print(f\"{save_file}_hyperopt_tuning_trial_{datetime.datetime.now().strftime('%Y_%m_%d_%H_%M')}_rf.csv\")\n",
    "\n",
    "# study_df.to_csv(f\"{save_file}_hyperopt_tuning_trial_rf.csv\") #datetime.datetime.now().strftime('%Y_%m_%d_%H_%M')}_rf.csv\")\n",
    "study_df"
   ]
  },
  {
   "cell_type": "markdown",
   "metadata": {
    "jp-MarkdownHeadingCollapsed": true,
    "tags": []
   },
   "source": [
    "### Visualize the optimization history"
   ]
  },
  {
   "cell_type": "code",
   "execution_count": 15,
   "metadata": {
    "tags": []
   },
   "outputs": [
    {
     "data": {
      "text/plain": [
       "<AxesSubplot: title={'center': 'Optimization History Plot'}, xlabel='Trial', ylabel='Objective Value'>"
      ]
     },
     "execution_count": 15,
     "metadata": {},
     "output_type": "execute_result"
    },
    {
     "data": {
      "image/png": "[encoded data removed]",
      "text/plain": [
       "<Figure size 640x480 with 1 Axes>"
      ]
     },
     "metadata": {},
     "output_type": "display_data"
    }
   ],
   "source": [
    "optuna.visualization.matplotlib.plot_optimization_history(study)"
   ]
  },
  {
   "cell_type": "markdown",
   "metadata": {
    "jp-MarkdownHeadingCollapsed": true,
    "tags": []
   },
   "source": [
    "### Visualize hyperparameter importances"
   ]
  },
  {
   "cell_type": "code",
   "execution_count": 17,
   "metadata": {},
   "outputs": [
    {
     "data": {
      "image/png": "[encoded data removed]",
      "text/plain": [
       "<Figure size 640x480 with 1 Axes>"
      ]
     },
     "metadata": {},
     "output_type": "display_data"
    }
   ],
   "source": [
    "try:\n",
    "    optuna.visualization.matplotlib.plot_param_importances(study)\n",
    "except:\n",
    "    print('Tuning only one hyper-parameter')"
   ]
  },
  {
   "cell_type": "markdown",
   "metadata": {
    "tags": []
   },
   "source": [
    "# Training the model with the best hyperparamers"
   ]
  },
  {
   "cell_type": "code",
   "execution_count": 106,
   "metadata": {},
   "outputs": [
    {
     "name": "stdout",
     "output_type": "stream",
     "text": [
      "Imbalancing data, sampling 0.45 from land, 0.55 from water\n"
     ]
    }
   ],
   "source": [
    "#All variables, uncomment these indivudually to get out images\n",
    "# 22 trials, even balance, no extra data points. v4.2\n",
    "#best_trial_params = {'n_estimators': 300, 'max_depth': 50, 'min_samples_split': 2, 'min_samples_leaf': 1, 'bootstrap': False, 'max_features': 'auto'}\n",
    "# 0.9809418632345569\n",
    "\n",
    "\n",
    "#####CHANGE THE FRAC WITH THESE\n",
    "# Number of finished trials: 25, no extra data points, v4.2, 60% water and 40% land \n",
    "# best_trial_params = {'n_estimators': 100, 'max_depth': 90, 'min_samples_split': 2, 'min_samples_leaf': 1, 'bootstrap': False, 'max_features': 'auto'}\n",
    "# 0.9866621307852173\n",
    "\n",
    "# Number of finished trials: 25, no extra data points, v4.2, 65% water and 35% land \n",
    "# best_trial_params = {'n_estimators': 300, 'max_depth': 90, 'min_samples_split': 10, 'min_samples_leaf': 1, 'bootstrap': False, 'max_features': 'auto'}\n",
    "# 0.9871643995259538\n",
    "\n",
    "# Number of finished trials: 25, no extra data points, v4.2, 70% water and 30% land \n",
    "#best_trial_params = {'n_estimators': 300, 'max_depth': 30, 'min_samples_split': 4, 'min_samples_leaf': 1, 'bootstrap': False, 'max_features': 'log2'}\n",
    "# 0.9879873125723287\n",
    "\n",
    "# Number of finished trials: 25, no extra data points, v4.2, 75% water and 25% land \n",
    "#best_trial_params = {'n_estimators': 300, 'max_depth': 110, 'min_samples_split': 2, 'min_samples_leaf': 2, 'bootstrap': False, 'max_features': 'log2'}\n",
    "# 0.9889775845262525\n",
    "\n",
    "#####CHANGE THE COLUMNS\n",
    "# Number of finished trials: 25, no extra data points, v4.2, 70% water and 30% land, no ndvi\n",
    "#best_trial_params = {'n_estimators': 300, 'max_depth': 50, 'min_samples_split': 4, 'min_samples_leaf': 1, 'bootstrap': False, 'max_features': 'auto'}\n",
    "# 0.9899259722903564\n",
    "\n",
    "# Number of finished trials: 25, no extra data points, v4.2, 45% land 55% water, no ndvi\n",
    "best_trial_params = {'n_estimators': 500, 'max_depth': 90, 'min_samples_split': 4, 'min_samples_leaf': 1, 'bootstrap': False, 'max_features': 'auto'}\n",
    "# 0.9857678701471905\n",
    "\n",
    "#####################################################################\n",
    "\n",
    "# #input the hyperparameter files, problem though with the int values being strings. \n",
    "\n",
    "# hyperparam_file = glob.glob(f\"{save_file}_hyperopt_tuning_trial_rf*csv\")[0]\n",
    "# print(hyperparam_file)\n",
    "# #best_trial_params =  pd.read_csv(hyperparam_file, header=None, index_col=0, squeeze = True).to_dict()\n",
    "# best_trial_params = pd.read_csv(hyperparam_file,index_col=0).iloc[:,0].to_dict()\n",
    "# print(best_trial_params)\n",
    "\n",
    "#####################################################################\n",
    "\n",
    "#change the below FRAC_LAND if using the above parameters\n",
    "X, X_test, y, y_test = load_data(fpath=data_path,\n",
    "                                colsToDrop=colsToDropTraining,\n",
    "                                dataType=DATA_TYPE,\n",
    "                                cpu=True,\n",
    "                                splitXY=True,\n",
    "                                imbalance=True,\n",
    "                                frac=0.45,\n",
    "                                trainTestSplit=True\n",
    "                                )\n",
    "\n",
    "#Follium stuff, putting this here so that I stop rewriting over files\n",
    "# outPath = os.path.join(RASTER_OUTPUT_DIR, '{}_{}_{}_predicted_{}_25trials_75water_noextradata_v42_allvars.tif'.format(YEAR, DAY, TILE, MODEL))\n"
   ]
  },
  {
   "cell_type": "markdown",
   "metadata": {
    "tags": []
   },
   "source": [
    "#### Reading in other hyperparameter files\n",
    "- Create a few lines of code that input the hyperparameter tuning "
   ]
  },
  {
   "cell_type": "code",
   "execution_count": 33,
   "metadata": {},
   "outputs": [
    {
     "data": {
      "text/html": [
       "<div>\n",
       "<style scoped>\n",
       "    .dataframe tbody tr th:only-of-type {\n",
       "        vertical-align: middle;\n",
       "    }\n",
       "\n",
       "    .dataframe tbody tr th {\n",
       "        vertical-align: top;\n",
       "    }\n",
       "\n",
       "    .dataframe thead th {\n",
       "        text-align: right;\n",
       "    }\n",
       "</style>\n",
       "<table border=\"1\" class=\"dataframe\">\n",
       "  <thead>\n",
       "    <tr style=\"text-align: right;\">\n",
       "      <th></th>\n",
       "      <th>sur_refl_b03_1</th>\n",
       "    </tr>\n",
       "  </thead>\n",
       "  <tbody>\n",
       "    <tr>\n",
       "      <th>count</th>\n",
       "      <td>10000.00000</td>\n",
       "    </tr>\n",
       "    <tr>\n",
       "      <th>mean</th>\n",
       "      <td>1044.09130</td>\n",
       "    </tr>\n",
       "    <tr>\n",
       "      <th>std</th>\n",
       "      <td>2032.93253</td>\n",
       "    </tr>\n",
       "    <tr>\n",
       "      <th>min</th>\n",
       "      <td>-100.00000</td>\n",
       "    </tr>\n",
       "    <tr>\n",
       "      <th>25%</th>\n",
       "      <td>191.00000</td>\n",
       "    </tr>\n",
       "    <tr>\n",
       "      <th>50%</th>\n",
       "      <td>310.00000</td>\n",
       "    </tr>\n",
       "    <tr>\n",
       "      <th>75%</th>\n",
       "      <td>691.00000</td>\n",
       "    </tr>\n",
       "    <tr>\n",
       "      <th>max</th>\n",
       "      <td>10433.00000</td>\n",
       "    </tr>\n",
       "  </tbody>\n",
       "</table>\n",
       "</div>"
      ],
      "text/plain": [
       "       sur_refl_b03_1\n",
       "count     10000.00000\n",
       "mean       1044.09130\n",
       "std        2032.93253\n",
       "min        -100.00000\n",
       "25%         191.00000\n",
       "50%         310.00000\n",
       "75%         691.00000\n",
       "max       10433.00000"
      ]
     },
     "execution_count": 33,
     "metadata": {},
     "output_type": "execute_result"
    }
   ],
   "source": [
    "X.describe()\n"
   ]
  },
  {
   "cell_type": "code",
   "execution_count": 34,
   "metadata": {
    "tags": []
   },
   "outputs": [
    {
     "name": "stdout",
     "output_type": "stream",
     "text": [
      "Using these params:\n",
      "{'n_estimators': 250, 'max_depth': 10, 'min_samples_split': 2, 'min_samples_leaf': 4, 'bootstrap': False, 'max_features': 'log2', 'n_jobs': -1}\n"
     ]
    }
   ],
   "source": [
    "hyperparameters = best_trial_params\n",
    "hyperparameters['n_jobs'] = -1\n",
    "print('Using these params:')\n",
    "print(hyperparameters)\n",
    "\n",
    "##########################\n",
    "#CHANGE TO RF OR XGB HERE \n",
    "##########################\n",
    "\n",
    "tuned_classifier = skRF(**hyperparameters)\n",
    "#tuned_classifier = xgb.XGBClassifier(**hyperparameters)\n"
   ]
  },
  {
   "cell_type": "code",
   "execution_count": 35,
   "metadata": {},
   "outputs": [
    {
     "name": "stdout",
     "output_type": "stream",
     "text": [
      "CPU times: user 2.34 s, sys: 195 ms, total: 2.53 s\n",
      "Wall time: 406 ms\n"
     ]
    },
    {
     "data": {
      "text/html": [
       "<style>#sk-container-id-1 {color: black;background-color: white;}#sk-container-id-1 pre{padding: 0;}#sk-container-id-1 div.sk-toggleable {background-color: white;}#sk-container-id-1 label.sk-toggleable__label {cursor: pointer;display: block;width: 100%;margin-bottom: 0;padding: 0.3em;box-sizing: border-box;text-align: center;}#sk-container-id-1 label.sk-toggleable__label-arrow:before {content: \"▸\";float: left;margin-right: 0.25em;color: #696969;}#sk-container-id-1 label.sk-toggleable__label-arrow:hover:before {color: black;}#sk-container-id-1 div.sk-estimator:hover label.sk-toggleable__label-arrow:before {color: black;}#sk-container-id-1 div.sk-toggleable__content {max-height: 0;max-width: 0;overflow: hidden;text-align: left;background-color: #f0f8ff;}#sk-container-id-1 div.sk-toggleable__content pre {margin: 0.2em;color: black;border-radius: 0.25em;background-color: #f0f8ff;}#sk-container-id-1 input.sk-toggleable__control:checked~div.sk-toggleable__content {max-height: 200px;max-width: 100%;overflow: auto;}#sk-container-id-1 input.sk-toggleable__control:checked~label.sk-toggleable__label-arrow:before {content: \"▾\";}#sk-container-id-1 div.sk-estimator input.sk-toggleable__control:checked~label.sk-toggleable__label {background-color: #d4ebff;}#sk-container-id-1 div.sk-label input.sk-toggleable__control:checked~label.sk-toggleable__label {background-color: #d4ebff;}#sk-container-id-1 input.sk-hidden--visually {border: 0;clip: rect(1px 1px 1px 1px);clip: rect(1px, 1px, 1px, 1px);height: 1px;margin: -1px;overflow: hidden;padding: 0;position: absolute;width: 1px;}#sk-container-id-1 div.sk-estimator {font-family: monospace;background-color: #f0f8ff;border: 1px dotted black;border-radius: 0.25em;box-sizing: border-box;margin-bottom: 0.5em;}#sk-container-id-1 div.sk-estimator:hover {background-color: #d4ebff;}#sk-container-id-1 div.sk-parallel-item::after {content: \"\";width: 100%;border-bottom: 1px solid gray;flex-grow: 1;}#sk-container-id-1 div.sk-label:hover label.sk-toggleable__label {background-color: #d4ebff;}#sk-container-id-1 div.sk-serial::before {content: \"\";position: absolute;border-left: 1px solid gray;box-sizing: border-box;top: 0;bottom: 0;left: 50%;z-index: 0;}#sk-container-id-1 div.sk-serial {display: flex;flex-direction: column;align-items: center;background-color: white;padding-right: 0.2em;padding-left: 0.2em;position: relative;}#sk-container-id-1 div.sk-item {position: relative;z-index: 1;}#sk-container-id-1 div.sk-parallel {display: flex;align-items: stretch;justify-content: center;background-color: white;position: relative;}#sk-container-id-1 div.sk-item::before, #sk-container-id-1 div.sk-parallel-item::before {content: \"\";position: absolute;border-left: 1px solid gray;box-sizing: border-box;top: 0;bottom: 0;left: 50%;z-index: -1;}#sk-container-id-1 div.sk-parallel-item {display: flex;flex-direction: column;z-index: 1;position: relative;background-color: white;}#sk-container-id-1 div.sk-parallel-item:first-child::after {align-self: flex-end;width: 50%;}#sk-container-id-1 div.sk-parallel-item:last-child::after {align-self: flex-start;width: 50%;}#sk-container-id-1 div.sk-parallel-item:only-child::after {width: 0;}#sk-container-id-1 div.sk-dashed-wrapped {border: 1px dashed gray;margin: 0 0.4em 0.5em 0.4em;box-sizing: border-box;padding-bottom: 0.4em;background-color: white;}#sk-container-id-1 div.sk-label label {font-family: monospace;font-weight: bold;display: inline-block;line-height: 1.2em;}#sk-container-id-1 div.sk-label-container {text-align: center;}#sk-container-id-1 div.sk-container {/* jupyter's `normalize.less` sets `[hidden] { display: none; }` but bootstrap.min.css set `[hidden] { display: none !important; }` so we also need the `!important` here to be able to override the default hidden behavior on the sphinx rendered scikit-learn.org. See: https://github.com/scikit-learn/scikit-learn/issues/21755 */display: inline-block !important;position: relative;}#sk-container-id-1 div.sk-text-repr-fallback {display: none;}</style><div id=\"sk-container-id-1\" class=\"sk-top-container\"><div class=\"sk-text-repr-fallback\"><pre>RandomForestClassifier(bootstrap=False, max_depth=10, max_features=&#x27;log2&#x27;,\n",
       "                       min_samples_leaf=4, n_estimators=250, n_jobs=-1)</pre><b>In a Jupyter environment, please rerun this cell to show the HTML representation or trust the notebook. <br />On GitHub, the HTML representation is unable to render, please try loading this page with nbviewer.org.</b></div><div class=\"sk-container\" hidden><div class=\"sk-item\"><div class=\"sk-estimator sk-toggleable\"><input class=\"sk-toggleable__control sk-hidden--visually\" id=\"sk-estimator-id-1\" type=\"checkbox\" checked><label for=\"sk-estimator-id-1\" class=\"sk-toggleable__label sk-toggleable__label-arrow\">RandomForestClassifier</label><div class=\"sk-toggleable__content\"><pre>RandomForestClassifier(bootstrap=False, max_depth=10, max_features=&#x27;log2&#x27;,\n",
       "                       min_samples_leaf=4, n_estimators=250, n_jobs=-1)</pre></div></div></div></div></div>"
      ],
      "text/plain": [
       "RandomForestClassifier(bootstrap=False, max_depth=10, max_features='log2',\n",
       "                       min_samples_leaf=4, n_estimators=250, n_jobs=-1)"
      ]
     },
     "execution_count": 35,
     "metadata": {},
     "output_type": "execute_result"
    }
   ],
   "source": [
    "%%time \n",
    "tuned_classifier.fit(X, y)\n"
   ]
  },
  {
   "cell_type": "code",
   "execution_count": null,
   "metadata": {},
   "outputs": [],
   "source": []
  },
  {
   "cell_type": "markdown",
   "metadata": {
    "tags": []
   },
   "source": [
    "# Testing: raster testing"
   ]
  },
  {
   "cell_type": "code",
   "execution_count": 36,
   "metadata": {},
   "outputs": [],
   "source": [
    "import sys\n",
    "sys.path.append('../../../..')\n",
    "from modis_water_training.model.TabularModisDataGenerator import TabularModisDataGenerator"
   ]
  },
  {
   "cell_type": "code",
   "execution_count": 37,
   "metadata": {},
   "outputs": [
    {
     "name": "stdout",
     "output_type": "stream",
     "text": [
      "/css/modis/Collection6.1/L2G/MOD09GA/2006/*GA.A2006201.h11v10*.hdf\n",
      "/css/modis/Collection6.1/L2G/MOD09GA/2006/MOD09GA.A2006201.h11v10.061.2020266164349.hdf\n",
      "Julian day: 201\n",
      "Files: {'SensorZenith_1': 'HDF4_EOS:EOS_GRID:\"/css/modis/Collection6.1/L2G/MOD09GA/2006/MOD09GA.A2006201.h11v10.061.2020266164349.hdf\":MODIS_Grid_1km_2D:SensorZenith_1', 'SolarZenith_1': 'HDF4_EOS:EOS_GRID:\"/css/modis/Collection6.1/L2G/MOD09GA/2006/MOD09GA.A2006201.h11v10.061.2020266164349.hdf\":MODIS_Grid_1km_2D:SolarZenith_1', 'state_1km_1': 'HDF4_EOS:EOS_GRID:\"/css/modis/Collection6.1/L2G/MOD09GA/2006/MOD09GA.A2006201.h11v10.061.2020266164349.hdf\":MODIS_Grid_1km_2D:state_1km_1', 'sur_refl_b03_1': 'HDF4_EOS:EOS_GRID:\"/css/modis/Collection6.1/L2G/MOD09GA/2006/MOD09GA.A2006201.h11v10.061.2020266164349.hdf\":MODIS_Grid_500m_2D:sur_refl_b03_1', 'sur_refl_b04_1': 'HDF4_EOS:EOS_GRID:\"/css/modis/Collection6.1/L2G/MOD09GA/2006/MOD09GA.A2006201.h11v10.061.2020266164349.hdf\":MODIS_Grid_500m_2D:sur_refl_b04_1', 'sur_refl_b05_1': 'HDF4_EOS:EOS_GRID:\"/css/modis/Collection6.1/L2G/MOD09GA/2006/MOD09GA.A2006201.h11v10.061.2020266164349.hdf\":MODIS_Grid_500m_2D:sur_refl_b05_1', 'sur_refl_b06_1': 'HDF4_EOS:EOS_GRID:\"/css/modis/Collection6.1/L2G/MOD09GA/2006/MOD09GA.A2006201.h11v10.061.2020266164349.hdf\":MODIS_Grid_500m_2D:sur_refl_b06_1', 'sur_refl_b07_1': 'HDF4_EOS:EOS_GRID:\"/css/modis/Collection6.1/L2G/MOD09GA/2006/MOD09GA.A2006201.h11v10.061.2020266164349.hdf\":MODIS_Grid_500m_2D:sur_refl_b07_1', 'sur_refl_b01_1': 'HDF4_EOS:EOS_GRID:\"/css/modis/Collection6.1/L2G/MOD09GQ/2006/MOD09GQ.A2006201.h11v10.061.2020266164349.hdf\":MODIS_Grid_2D:sur_refl_b01_1', 'sur_refl_b02_1': 'HDF4_EOS:EOS_GRID:\"/css/modis/Collection6.1/L2G/MOD09GQ/2006/MOD09GQ.A2006201.h11v10.061.2020266164349.hdf\":MODIS_Grid_2D:sur_refl_b02_1'}\n"
     ]
    }
   ],
   "source": [
    "tabularGen = TabularModisDataGenerator(tile=TILE, year=YEAR, julianDays=[DAY])\n",
    "sensorDir = f'/css/modis/Collection6.1/L2G/MOD09GA/{YEAR}'\n",
    "modisFilesDict = tabularGen._readFiles(julianDay=DAY, sensorDir=sensorDir)\n",
    "modisFilesList = list(modisFilesDict.values())\n",
    "qa_mask, qa_mask_path = tabularGen._generateBadDataMask(day=DAY, files=modisFilesDict)\n",
    "\n",
    "\n",
    "#######\n",
    "#in the TabularModisDataGenerator on line ~270 I commented out the line that would write out the qa mask\n",
    "#qa_mask, qa_mask_path = tabularGen._generateBadDataMask(day=DAY, files=modisFilesDict)"
   ]
  },
  {
   "cell_type": "code",
   "execution_count": 38,
   "metadata": {},
   "outputs": [
    {
     "data": {
      "text/plain": [
       "['HDF4_EOS:EOS_GRID:\"/css/modis/Collection6.1/L2G/MOD09GQ/2006/MOD09GQ.A2006201.h11v10.061.2020266164349.hdf\":MODIS_Grid_2D:sur_refl_b01_1',\n",
       " 'HDF4_EOS:EOS_GRID:\"/css/modis/Collection6.1/L2G/MOD09GQ/2006/MOD09GQ.A2006201.h11v10.061.2020266164349.hdf\":MODIS_Grid_2D:sur_refl_b02_1',\n",
       " 'HDF4_EOS:EOS_GRID:\"/css/modis/Collection6.1/L2G/MOD09GA/2006/MOD09GA.A2006201.h11v10.061.2020266164349.hdf\":MODIS_Grid_500m_2D:sur_refl_b03_1',\n",
       " 'HDF4_EOS:EOS_GRID:\"/css/modis/Collection6.1/L2G/MOD09GA/2006/MOD09GA.A2006201.h11v10.061.2020266164349.hdf\":MODIS_Grid_500m_2D:sur_refl_b04_1',\n",
       " 'HDF4_EOS:EOS_GRID:\"/css/modis/Collection6.1/L2G/MOD09GA/2006/MOD09GA.A2006201.h11v10.061.2020266164349.hdf\":MODIS_Grid_500m_2D:sur_refl_b05_1',\n",
       " 'HDF4_EOS:EOS_GRID:\"/css/modis/Collection6.1/L2G/MOD09GA/2006/MOD09GA.A2006201.h11v10.061.2020266164349.hdf\":MODIS_Grid_500m_2D:sur_refl_b06_1',\n",
       " 'HDF4_EOS:EOS_GRID:\"/css/modis/Collection6.1/L2G/MOD09GA/2006/MOD09GA.A2006201.h11v10.061.2020266164349.hdf\":MODIS_Grid_500m_2D:sur_refl_b07_1']"
      ]
     },
     "execution_count": 38,
     "metadata": {},
     "output_type": "execute_result"
    }
   ],
   "source": [
    "vars_list_gq = [fn for fn in modisFilesList if 'sur_refl' in fn and 'GQ' in fn]\n",
    "vars_list_gq.sort()\n",
    "\n",
    "vars_list_ga = [fn for fn in modisFilesList if 'sur_refl' in fn and 'GQ' not in fn]\n",
    "vars_list_ga.sort()\n",
    "\n",
    "vars_list = vars_list_gq\n",
    "vars_list.extend(vars_list_ga)\n",
    "\n",
    "vars_list\n",
    "\n",
    "\n",
    "#IMPORTANT FOR QGIS POTENTIALLY BECAUSE OF LIST OF MODIS DATA"
   ]
  },
  {
   "cell_type": "markdown",
   "metadata": {},
   "source": [
    "#### Read in data \n",
    "We don't need to slice because we have more than enough GPU memory."
   ]
  },
  {
   "cell_type": "code",
   "execution_count": 39,
   "metadata": {
    "tags": []
   },
   "outputs": [
    {
     "name": "stdout",
     "output_type": "stream",
     "text": [
      "Raster as ndarray\n",
      "[[ 282 2985  173 ... 8273 2822 6797]\n",
      " [ 289 3045  173 ... 8266 2913 6851]\n",
      " [ 275 3198  180 ... 8416 3050 6898]\n",
      " ...\n",
      " [ 317 1559  144 ... 6620  562 4395]\n",
      " [ 252 1447  126 ... 7033  770 4863]\n",
      " [ 252 1447  126 ... 7033  770 4863]]\n",
      "460.8 MB size\n",
      "CPU times: user 6.65 s, sys: 987 ms, total: 7.64 s\n",
      "Wall time: 10.9 s\n"
     ]
    }
   ],
   "source": [
    "%%time\n",
    "\n",
    "im = readRasterToArray(vars_list)\n",
    "print('Raster as ndarray')\n",
    "print(im)\n",
    "print('{} MB size'.format((im.size * im.itemsize) / 1000000))"
   ]
  },
  {
   "cell_type": "code",
   "execution_count": 47,
   "metadata": {},
   "outputs": [
    {
     "data": {
      "text/plain": [
       "['ndvi']"
      ]
     },
     "execution_count": 47,
     "metadata": {},
     "output_type": "execute_result"
    }
   ],
   "source": []
  },
  {
   "cell_type": "code",
   "execution_count": 40,
   "metadata": {},
   "outputs": [
    {
     "name": "stdout",
     "output_type": "stream",
     "text": [
      "Making predictions from raster\n",
      "CPU times: user 11min 51s, sys: 1min 12s, total: 13min 4s\n",
      "Wall time: 42.8 s\n"
     ]
    }
   ],
   "source": [
    "%%time\n",
    "predictedRaster, predictedProbaRaster, df = predictRaster(im, tuned_classifier, colsToDrop=colsToDrop)"
   ]
  },
  {
   "cell_type": "markdown",
   "metadata": {},
   "source": [
    "#### Reshape the unravelled matrix back to the 4800x4800 raster shape"
   ]
  },
  {
   "cell_type": "code",
   "execution_count": 41,
   "metadata": {},
   "outputs": [
    {
     "data": {
      "text/plain": [
       "(4800, 4800)"
      ]
     },
     "execution_count": 41,
     "metadata": {},
     "output_type": "execute_result"
    }
   ],
   "source": [
    "shp = (4800, 4800)\n",
    "matrix = np.asarray(predictedRaster)\n",
    "predictedWaterMask = matrix.reshape(shp)\n",
    "predictedWaterMask.shape"
   ]
  },
  {
   "cell_type": "markdown",
   "metadata": {
    "tags": []
   },
   "source": [
    "#### Import the QA Mask and the Water Mask for the GIVEN TILE"
   ]
  },
  {
   "cell_type": "code",
   "execution_count": 42,
   "metadata": {},
   "outputs": [
    {
     "name": "stdout",
     "output_type": "stream",
     "text": [
      "['/explore/nobackup/people/mcarrol2/MODIS_water/v5_outputs/2006/MOD44W_h11v10_2006_v5.tif']\n",
      "/explore/nobackup/people/mcarrol2/MODIS_water/v5_outputs/2006/*h11v10*.tif\n",
      "/explore/nobackup/people/mcarrol2/MODIS_water/v5_outputs/2006/MOD44W_h11v10_2006_v5.tif\n"
     ]
    }
   ],
   "source": [
    "water_list = [fn for fn in glob.glob(os.path.join(waterMaskPath, '{}'.format(YEAR), '*{}*{}_v5.tif'.format(TILE, YEAR)))]\n",
    "print(water_list)\n",
    "print(os.path.join(waterMaskPath, '{}'.format(YEAR), '*{}*.tif'.format(TILE)))\n",
    "water_mask_path = water_list[0]\n",
    "print(water_mask_path)\n",
    "water_mask = gdal.Open(water_mask_path, gdal.GA_ReadOnly)\n",
    "waterMaskMatrix = water_mask.GetRasterBand(1).ReadAsArray().astype(np.int16)\n",
    "waterMask = None"
   ]
  },
  {
   "cell_type": "markdown",
   "metadata": {},
   "source": [
    "#### Mask out results if QA Mask says pixel is \"bad\""
   ]
  },
  {
   "cell_type": "code",
   "execution_count": 43,
   "metadata": {},
   "outputs": [],
   "source": [
    "maskedResult = np.where(qa_mask == 0, predictedWaterMask, 255)\n",
    "waterMasked = np.where(qa_mask == 0, waterMaskMatrix, 255)\n",
    "# # waterMaskRavel = waterMasked.ravel()\n",
    "# imWater = (waterMaskRavel == 1)"
   ]
  },
  {
   "cell_type": "code",
   "execution_count": 58,
   "metadata": {
    "tags": []
   },
   "outputs": [],
   "source": [
    "# plt.matshow(predictedWaterMask)\n",
    "# plt.matshow(maskedResult-waterMasked)\n",
    "# plt.matshow(waterMasked-maskedResult)\n",
    "# plt.matshow(waterMaskMatrix)\n",
    "\n",
    "# plt.matshow(waterMasked)\n",
    "# plt.matshow(maskedResult)"
   ]
  },
  {
   "cell_type": "markdown",
   "metadata": {
    "tags": []
   },
   "source": [
    "## Output predicted raster to GeoTiff"
   ]
  },
  {
   "cell_type": "code",
   "execution_count": 44,
   "metadata": {},
   "outputs": [
    {
     "name": "stdout",
     "output_type": "stream",
     "text": [
      "2006_201_h11v10_predicted_rf_xgb.tif\n",
      "waterMask_2006_qa_201.tif\n",
      "2006_201_h11v10_predicted_probabilities_rf.tif\n",
      "Transform\n",
      "(-7783653.637667, 231.65635826395845, 0.0, -1111950.519667, 0.0, -231.65635826374995)\n",
      "Projection\n",
      "PROJCS[\"unnamed\",GEOGCS[\"Unknown datum based upon the custom spheroid\",DATUM[\"Not specified (based on custom spheroid)\",SPHEROID[\"Custom spheroid\",6371007.181,0]],PRIMEM[\"Greenwich\",0],UNIT[\"degree\",0.0174532925199433,AUTHORITY[\"EPSG\",\"9122\"]]],PROJECTION[\"Sinusoidal\"],PARAMETER[\"longitude_of_center\",0],PARAMETER[\"false_easting\",0],PARAMETER[\"false_northing\",0],UNIT[\"Meter\",1],AXIS[\"Easting\",EAST],AXIS[\"Northing\",NORTH]]\n",
      "Width\n",
      "4800\n",
      "Height\n",
      "4800\n"
     ]
    }
   ],
   "source": [
    "#outPath = os.path.join(RASTER_OUTPUT_DIR, '{}_{}_{}_predicted_{}_25trials_65water_noextradata_v42_allvars.tif'.format(YEAR, DAY, TILE, MODEL))\n",
    "# outPath = os.path.join(RASTER_OUTPUT_DIR, '{}_{}_{}_predicted_{}_25trials_75water_noextradata_v42_allvars.tif'.format(YEAR, DAY, TILE, MODEL))\n",
    "outPath = os.path.join(RASTER_OUTPUT_DIR, '{}_{}_{}_predicted_{}_xgb.tif'.format(YEAR, DAY, TILE, MODEL))\n",
    "waterMaskForDay = os.path.join(RASTER_OUTPUT_DIR, 'waterMask_{}_qa_{}.tif'.format(YEAR, DAY, TILE, MODEL))\n",
    "outPathProba = os.path.join(RASTER_OUTPUT_DIR, '{}_{}_{}_predicted_probabilities_{}.tif'.format(YEAR, DAY, TILE, MODEL))\n",
    "\n",
    "\n",
    "print(outPath)\n",
    "print(waterMaskForDay)\n",
    "print(outPathProba)\n",
    "\n",
    "ds = gdal.Open(vars_list[0], gdal.GA_ReadOnly)\n",
    "geo = ds.GetGeoTransform()\n",
    "proj = ds.GetProjection()\n",
    "ncols = ds.RasterXSize\n",
    "nrows = ds.RasterYSize\n",
    "print('Transform')\n",
    "print(geo)\n",
    "print('Projection')\n",
    "print(proj)\n",
    "print('Width')\n",
    "print(ncols)\n",
    "print('Height')\n",
    "print(nrows)\n",
    "ds = None\n",
    "\n",
    "# Output predicted binary raster masked with good-bad mask.\n",
    "driver = gdal.GetDriverByName('GTiff')\n",
    "outDs = driver.Create(outPath, ncols, nrows, 1, gdal.GDT_Float32, options=['COMPRESS=LZW'])\n",
    "outDs.SetGeoTransform(geo)\n",
    "outDs.SetProjection(proj)\n",
    "outBand = outDs.GetRasterBand(1)\n",
    "outBand.WriteArray(maskedResult)\n",
    "outBand.SetNoDataValue(255)\n",
    "outDs.FlushCache()\n",
    "outDs = None\n",
    "outBand = None\n",
    "driver = None\n",
    "\n",
    "# Output water mask with good-bad masked.\n",
    "driver = gdal.GetDriverByName('GTiff')\n",
    "outDs = driver.Create(waterMaskForDay, ncols, nrows, 1, gdal.GDT_Int16, options=['COMPRESS=LZW'])\n",
    "outDs.SetGeoTransform(geo)\n",
    "outDs.SetProjection(proj)\n",
    "outBand = outDs.GetRasterBand(1)\n",
    "outBand.WriteArray(waterMasked)\n",
    "outBand.SetNoDataValue(255)\n",
    "outDs.FlushCache()\n",
    "outDs = None\n",
    "outBand = None\n",
    "driver = None"
   ]
  },
  {
   "cell_type": "markdown",
   "metadata": {},
   "source": [
    "## Folium Viewing"
   ]
  },
  {
   "cell_type": "code",
   "execution_count": 45,
   "metadata": {},
   "outputs": [
    {
     "name": "stdout",
     "output_type": "stream",
     "text": [
      "Transform: | 207.27, 0.00,-8292460.94|\n",
      "| 0.00,-207.27,-1118889.97|\n",
      "| 0.00, 0.00, 1.00|\n",
      "Width: 7286 Height: 5568\n",
      "Transform: | 207.27, 0.00,-8292471.14|\n",
      "| 0.00,-207.27,-1118891.21|\n",
      "| 0.00, 0.00, 1.00|\n",
      "Width: 7286 Height: 5568\n",
      "Transform: | 880.98, 0.00,-12122766.89|\n",
      "| 0.00,-880.98,-1118889.97|\n",
      "| 0.00, 0.00, 1.00|\n",
      "Width: 9911 Height: 6047\n"
     ]
    }
   ],
   "source": [
    "mask_3857 = reproject_to_3857(outPath)\n",
    "mod44_3857 = reproject_to_3857(water_mask_path)\n",
    "qa_3857 = reproject_to_3857(qa_mask_path)\n",
    "\n",
    "mask_d = get_bounds(mask_3857)\n",
    "mod44_d = get_bounds(mod44_3857)\n",
    "qa_d = get_bounds(qa_3857)\n",
    "\n",
    "mask_b1 = open_and_get_band(mask_3857, 1)\n",
    "mask_b1 = np.where(mask_b1 == 255, 0, mask_b1)\n",
    "mod44_b1 = open_and_get_band(mod44_3857, 1)\n",
    "mod44_b1 = np.where(mod44_b1 == 255, 0, mod44_b1)\n",
    "qa_b1 = open_and_get_band(qa_3857, 1)\n",
    "\n",
    "cleanup(mask_3857)\n",
    "cleanup(mod44_3857)\n",
    "cleanup(qa_3857)\n",
    "\n",
    "zeros = np.zeros_like(mask_b1)\n",
    "mask_rgba = np.dstack((mask_b1, zeros, zeros, mask_b1))\n",
    "mod44_rgba = np.dstack((zeros, mod44_b1, zeros, mod44_b1))\n",
    "qa_rgba = np.dstack((qa_b1, qa_b1, qa_b1, qa_b1))"
   ]
  },
  {
   "cell_type": "code",
   "execution_count": 46,
   "metadata": {},
   "outputs": [],
   "source": [
    "m = folium.Map(location=[mask_d['center'][1], mask_d['center'][0]],\n",
    "                   tiles='https://mt1.google.com/vt/lyrs=s&x={x}&y={y}&z={z}', zoom_start = 6, attr='Google', control_scale=True)\n",
    "\n",
    "\n",
    "# folium.Marker(location=[-16.4835, -72.9978]).add_to(m)"
   ]
  },
  {
   "cell_type": "code",
   "execution_count": 48,
   "metadata": {},
   "outputs": [],
   "source": [
    "from folium import plugins"
   ]
  },
  {
   "cell_type": "code",
   "execution_count": null,
   "metadata": {
    "tags": []
   },
   "outputs": [],
   "source": [
    "\n",
    "m.add_child(get_overlay(mask_rgba, mask_d, '{}-{}-{} model water mask'.format(YEAR, DAY, TILE), opacity=0.8))\n",
    "m.add_child(get_overlay(mod44_rgba, mod44_d, '{} {} MOD44W mask'.format(TILE, YEAR), opacity=0.8, show=False))\n",
    "m.add_child(get_overlay(qa_rgba, qa_d, '{}-{}-{} MW QA mask'.format(YEAR, DAY, TILE), opacity=0.8, show=False))\n",
    "m.add_child(plugins.MousePosition())\n",
    "m.add_child(plugins.MeasureControl())\n",
    "m.add_child(folium.LayerControl())\n",
    "\n",
    "m"
   ]
  },
  {
   "cell_type": "code",
   "execution_count": null,
   "metadata": {},
   "outputs": [],
   "source": []
  }
 ],
 "metadata": {
  "kernelspec": {
   "display_name": "ILAB Kernel",
   "language": "python",
   "name": "ilab-kernel"
  },
  "language_info": {
   "codemirror_mode": {
    "name": "ipython",
    "version": 3
   },
   "file_extension": ".py",
   "mimetype": "text/x-python",
   "name": "python",
   "nbconvert_exporter": "python",
   "pygments_lexer": "ipython3",
   "version": "3.8.16"
  }
 },
 "nbformat": 4,
 "nbformat_minor": 4
}
