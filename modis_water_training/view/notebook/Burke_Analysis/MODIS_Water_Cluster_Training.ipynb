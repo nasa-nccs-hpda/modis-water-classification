{
 "cells": [
  {
   "cell_type": "markdown",
   "id": "5b714c30-b71c-43c6-9fe3-9b012a7bfdfe",
   "metadata": {
    "tags": []
   },
   "source": [
    "#  MODIS Water Cluster Training\n",
    "\n",
    "Version: 0.1.0\n",
    "\n",
    "Date modified: 05.01.2023\n",
    "\n",
    "Modified by: Amanda Burke"
   ]
  },
  {
   "cell_type": "code",
   "execution_count": 1,
   "id": "9ef8ad40-b2c6-4ccc-9a4b-c595bcce20e4",
   "metadata": {},
   "outputs": [],
   "source": [
    "import csv\n",
    "import datetime\n",
    "import glob\n",
    "import joblib\n",
    "import numpy as np\n",
    "import os\n",
    "import pandas as pd\n",
    "from pathlib import Path   \n",
    "from sklearn.cluster import KMeans\n",
    "from sklearn.cluster import Birch\n",
    "from sklearn.cluster import SpectralClustering\n",
    "from sklearn.model_selection import train_test_split \n",
    "\n",
    "# Visualization\n",
    "import seaborn as sns\n",
    "import matplotlib.pyplot as plt\n",
    "import warnings\n",
    "\n",
    "\n",
    "plt.style.use('fivethirtyeight')\n",
    "warnings.filterwarnings('ignore')\n",
    "%matplotlib inline\n",
    "\n",
    "\n",
    "import optuna\n",
    "from sklearn.ensemble import RandomForestClassifier as skRF\n",
    "from sklearn.metrics import confusion_matrix, accuracy_score, roc_auc_score, precision_score, f1_score\n",
    "from sklearn.metrics import classification_report, roc_curve, auc, matthews_corrcoef\n",
    "from sklearn.model_selection import RandomizedSearchCV, KFold, StratifiedKFold\n",
    "#from sklearn.inspection import permutation_importance\n",
    "\n",
    "\n",
    "# #GDAL Stuff\n",
    "# from osgeo import gdalconst\n",
    "# from osgeo import gdal\n",
    "# from pprint import pprint\n",
    "\n",
    "# GPU-based frameworks\n",
    "\n",
    "# import cudf\n",
    "# import cupy as cp\n",
    "# from cuml.ensemble import RandomForestClassifier as cuRFC"
   ]
  },
  {
   "cell_type": "code",
   "execution_count": 2,
   "id": "ef09a8be-17ed-40a8-958e-ed66b83929bb",
   "metadata": {},
   "outputs": [],
   "source": [
    "GPU = False\n",
    "MODEL = 'rf'\n",
    "TEST_RATIO = 0.2\n",
    "RANDOM_STATE = 42\n",
    "LABEL_NAME = 'water'\n",
    "DATA_TYPE = np.int16\n",
    "FRAC_LAND=0.5\n",
    "num_datapoints = 10000000"
   ]
  },
  {
   "cell_type": "code",
   "execution_count": 3,
   "id": "0bb0fe47-657c-4bdd-b41d-cb8e70068281",
   "metadata": {},
   "outputs": [
    {
     "name": "stdout",
     "output_type": "stream",
     "text": [
      "['/explore/nobackup/projects/ilab/data/MODIS/MODIS_WATER_ML/training_data/v2.0.1/MOD09_GLOBAL_5469777_2_0_1.parquet.gzip']\n",
      "/explore/nobackup/projects/ilab/data/MODIS/MODIS_WATER_ML/training_data/v2.0.1/MOD09_GLOBAL_5469777_2_0_1.parquet.gzip\n"
     ]
    }
   ],
   "source": [
    "# #############################\n",
    "# # VERSION 4.2.1 (targeted 500k points)\n",
    "# TILE_IN = 'Golden'#v4.2.1\n",
    "# DATA_VERSION='v4.2.1'\n",
    "# offsets_indexes = ['x_offset', 'y_offset', 'year', 'julian_day','tileID']\n",
    "# #############################\n",
    "\n",
    "##############################\n",
    "#VERSION 2.0.1 (5 million points)\n",
    "TILE_IN = 'GLOBAL'#v2.0.1\n",
    "DATA_VERSION='v2.0.1'\n",
    "offsets_indexes = ['x_offset', 'y_offset', 'year', 'julian_day']\n",
    "##############################\n",
    "\n",
    "# #############################\n",
    "# #VERSION 0.0.0 (2billion data points)\n",
    "# TILE_IN = 'cleaned'#v2.0.1\n",
    "# DATA_VERSION='AGU'\n",
    "# offsets_indexes = []#'x_offset', 'y_offset', 'year', 'julian_day']\n",
    "# ##############################\n",
    "\n",
    "training_data_basepath = f'/explore/nobackup/projects/ilab/data/MODIS/MODIS_WATER_ML/training_data/{DATA_VERSION}'\n",
    "glob_string = os.path.join(training_data_basepath,'MOD*{}*.parquet.gzip'.format(TILE_IN))\n",
    "data_paths = sorted([fv for fv in glob.glob(glob_string)])\n",
    "\n",
    "#Only want the one with 4.2.0 because the other file doesnt work. \n",
    "print(data_paths)\n",
    "data_path = data_paths[0]\n",
    "print(data_path)"
   ]
  },
  {
   "cell_type": "code",
   "execution_count": 4,
   "id": "6fd27567-2a51-4e94-8d0a-43504a90bed8",
   "metadata": {},
   "outputs": [],
   "source": [
    "def load_cpu_data(fpath, colsToDrop, yCol='water', testSize=0.2, randomState=42, \n",
    "            dataType=np.float32, cpu=True, splitXY=False, trainTestSplit=False,\n",
    "            applyLog=False, imbalance=False, frac=0.1, land=False, multi=False, \n",
    "            multisample=1000000):\n",
    "    \"\"\"\n",
    "    Simple helper function for loading data to be used by models\n",
    "    :param fpath: Path to the data to be ingested.\n",
    "    :param dataType: Data type to convert ingested data to.\n",
    "    :param colsToDrop: Columns which are not necessary, from which to drop.\n",
    "    :param testSize: Ration to\n",
    "    \"\"\"\n",
    "    if multi:\n",
    "        all_dfs = [pd.read_csv(path_) for path_ in fpath]\n",
    "        df = pd.concat(all_dfs).sample(n=multisample, random_state=randomState)\n",
    "        print('DF length: {}'.format(len(df.index)))\n",
    "    else:   \n",
    "        df = pd.read_parquet(fpath) if '.parquet' in fpath else pd.read_csv(fpath)\n",
    "    df = df[df['sur_refl_b01_1'] + df['sur_refl_b02_1'] != 0]\n",
    "    df = df[df['sur_refl_b07_1'] + df['sur_refl_b02_1'] != 0]\n",
    "    df = df[df['sur_refl_b06_1'] + df['sur_refl_b02_1'] != 0]\n",
    "\n",
    "    df = df.drop(columns=colsToDrop)\n",
    "    cleanedDF = df[~df.isin([np.NaN, np.inf, -np.inf]).any(1)].dropna(axis=0).astype(dataType)\n",
    "    if applyLog:\n",
    "        for col in cleanedDF.drop([yCol], axis=1).columns:\n",
    "            print('Applying log1p func to {}'.format(col))\n",
    "            cleanedDF[col] = np.log1p(cleanedDF[col])\n",
    "        cleanedDF = cleanedDF[~cleanedDF.isin([np.NaN, np.inf, -np.inf]).any(1)].dropna(axis=0)\n",
    "    df = None\n",
    "    if imbalance:\n",
    "        if land:\n",
    "            print('Imbalancing data, sampling {} from water'.format(frac))\n",
    "        else:\n",
    "            print(f'Imbalancing data, sampling {frac} from land, {1-frac} from water')\n",
    "        groupedDF = cleanedDF.groupby('water')\n",
    "        dfs = [groupedDF.get_group(y) for y in groupedDF.groups]\n",
    "        sampledDF = dfs[1].sample(frac=frac)if land else dfs[0].sample(frac=frac)\n",
    "        concatDF = sampledDF.append(dfs[0]) if land else sampledDF.append(dfs[1])\n",
    "        concatDF = concatDF.sample(frac=1)\n",
    "        concatDF = concatDF.reset_index()\n",
    "        cleanedDF = concatDF.drop(columns=['index'])\n",
    "    if not splitXY:\n",
    "        return cleanedDF\n",
    "    X = cleanedDF.drop([yCol], axis=1).astype(dataType)\n",
    "    y = cleanedDF[yCol].astype(dataType)\n",
    "    if trainTestSplit:\n",
    "        return train_test_split(X, y, test_size=TEST_RATIO)\n",
    "    else:\n",
    "        return X, y"
   ]
  },
  {
   "cell_type": "code",
   "execution_count": 5,
   "id": "cdee2440-7931-4da3-80e7-f79aefcb15dd",
   "metadata": {},
   "outputs": [],
   "source": [
    "colsToDrop = [\n",
    "            #'sur_refl_b01_1',\n",
    "            # 'sur_refl_b02_1',\n",
    "             'sur_refl_b03_1',\n",
    "             'sur_refl_b04_1','sur_refl_b05_1','sur_refl_b06_1',\n",
    "            # 'sur_refl_b07_1',\n",
    "             # 'ndvi',\n",
    "             'ndwi1','ndwi2'\n",
    "            ]\n",
    "\n",
    "colsToDropTraining = colsToDrop.copy()\n",
    "colsToDropTraining.extend(offsets_indexes)\n",
    "v_names = ['sur_refl_b01_1','sur_refl_b02_1','sur_refl_b03_1',\n",
    "           'sur_refl_b04_1','sur_refl_b05_1','sur_refl_b06_1',\n",
    "           'sur_refl_b07_1','ndvi','ndwi1','ndwi2']"
   ]
  },
  {
   "cell_type": "markdown",
   "id": "133868b4-66bb-4f85-bcb2-641a79f06e2d",
   "metadata": {
    "tags": []
   },
   "source": [
    "### Input data"
   ]
  },
  {
   "cell_type": "code",
   "execution_count": 6,
   "id": "4b8a3852-14ee-4615-bc7c-871046ca19e9",
   "metadata": {},
   "outputs": [
    {
     "data": {
      "text/plain": [
       "['sur_refl_b03_1',\n",
       " 'sur_refl_b04_1',\n",
       " 'sur_refl_b05_1',\n",
       " 'sur_refl_b06_1',\n",
       " 'ndwi1',\n",
       " 'ndwi2']"
      ]
     },
     "execution_count": 6,
     "metadata": {},
     "output_type": "execute_result"
    }
   ],
   "source": [
    "colsToDrop"
   ]
  },
  {
   "cell_type": "code",
   "execution_count": 7,
   "id": "bb281755-23fe-4789-ba8b-584105111691",
   "metadata": {},
   "outputs": [
    {
     "name": "stdout",
     "output_type": "stream",
     "text": [
      "data shape: (4375821, 4), (4375821,)\n",
      "CPU times: user 3.71 s, sys: 940 ms, total: 4.65 s\n",
      "Wall time: 4.66 s\n"
     ]
    }
   ],
   "source": [
    "%%time\n",
    "X, X_test, y, y_test = load_cpu_data(fpath=data_path,\n",
    "                                             colsToDrop=colsToDropTraining,\n",
    "                                             dataType=DATA_TYPE,\n",
    "                                             splitXY=True,\n",
    "                                             imbalance=False,\n",
    "                                             trainTestSplit=True)\n",
    "X = X.iloc[:num_datapoints,:] \n",
    "y = y.iloc[:num_datapoints] \n",
    "\n",
    "X_test = X_test.iloc[:num_datapoints,:] \n",
    "y_test = y_test.iloc[:num_datapoints] \n",
    "\n",
    "print(f'data shape: {X.shape}, {y.shape}')"
   ]
  },
  {
   "cell_type": "code",
   "execution_count": 8,
   "id": "5788ef49-6c9f-4827-825b-8a29a1fbe208",
   "metadata": {},
   "outputs": [],
   "source": [
    "#Getting the indices that are associated with land (0) and water (1)\n",
    "y_water_ind = np.where(y>0.5)[0]\n",
    "y_land_ind = np.where(y<0.5)[0]\n",
    "\n",
    "#Subset the X AND y data to later/ subset with the clusters and then combine for RFA\n",
    "X_water = X.iloc[y_water_ind,:]\n",
    "y_water = y.iloc[y_water_ind]\n",
    "\n",
    "X_land = X.iloc[y_land_ind,:]\n",
    "y_land = y.iloc[y_land_ind]"
   ]
  },
  {
   "cell_type": "code",
   "execution_count": 9,
   "id": "0b38dfe2-a25e-4656-a5e8-444addd34398",
   "metadata": {},
   "outputs": [
    {
     "name": "stdout",
     "output_type": "stream",
     "text": [
      "sur_refl_b01_1\n",
      "sur_refl_b02_1\n",
      "sur_refl_b07_1\n",
      "ndvi\n"
     ]
    }
   ],
   "source": [
    "_ = [print(column) for column in X.columns]"
   ]
  },
  {
   "cell_type": "markdown",
   "id": "4cee6bed-e60c-495e-a0e6-9a1cef0bde50",
   "metadata": {
    "jp-MarkdownHeadingCollapsed": true,
    "tags": []
   },
   "source": [
    "### Comparing targeted and clustered samples\n"
   ]
  },
  {
   "cell_type": "code",
   "execution_count": 10,
   "id": "82998bd2-524f-439d-bbd8-200287d0faba",
   "metadata": {},
   "outputs": [],
   "source": [
    "# DATA_VERSION='v4.2.1'\n",
    "# training_data_basepath = f'/explore/nobackup/projects/ilab/data/MODIS/MODIS_WATER_ML/training_data/{DATA_VERSION}'\n",
    "\n",
    "# #VERSION 4.2.1\n",
    "# TILE_IN = 'Golden'#v4.2.1\n",
    "# offsets_indexes = ['x_offset', 'y_offset', 'year', 'julian_day','tileID']\n",
    "\n",
    "# glob_string = os.path.join(training_data_basepath,'MOD*{}*.parquet.gzip'.format(TILE_IN))\n",
    "# data_paths = sorted([fv for fv in glob.glob(glob_string)])\n",
    "\n",
    "# #Only want the one with 4.2.0 because the other file doesnt work. \n",
    "# print(data_paths)\n",
    "# data_path = data_paths[0]\n",
    "# print(data_path)\n",
    "# colsToDropTraining = colsToDrop.copy()\n",
    "# colsToDropTraining.extend(offsets_indexes)\n",
    "\n",
    "\n",
    "# X_target, X_test_target, y_target, y_test_target = load_data(fpath=data_path,\n",
    "#                                 colsToDrop=colsToDropTraining,\n",
    "#                                 dataType=DATA_TYPE,\n",
    "#                                 cpu=True,\n",
    "#                                 splitXY=True,\n",
    "#                                 trainTestSplit=True\n",
    "#                                 )\n",
    "\n",
    "# X_target = X_target.iloc[:num_datapoints,:] \n",
    "# y_target = y_target.iloc[:num_datapoints] \n",
    "\n",
    "# X_test_target = X_test_target.iloc[:num_datapoints,:] \n",
    "# y_test_target = y_test_target.iloc[:num_datapoints] \n",
    "\n",
    "# print(f'\\n\\ntarget subset data shape: {X_target.shape}, {y_target.shape}')\n",
    "\n",
    "# #Getting the indices that are associated with land (0) and water (1)\n",
    "# #Subset the X AND y data to later subset with the clusters and then combine for RFA\n",
    "# X_water_target = X_target.iloc[np.where(y_target>0.5)[0],:]\n",
    "# X_land_target = X_target.iloc[np.where(y_target<0.5)[0],:]"
   ]
  },
  {
   "cell_type": "code",
   "execution_count": null,
   "id": "f3e16622-e1b3-45f8-ba03-30c4a4b31418",
   "metadata": {},
   "outputs": [],
   "source": []
  },
  {
   "cell_type": "code",
   "execution_count": null,
   "id": "acb3a1ce-bb9e-4789-bbd1-bcfe2c913785",
   "metadata": {},
   "outputs": [],
   "source": []
  },
  {
   "cell_type": "markdown",
   "id": "89fdd11d-a3b3-4733-b95f-f5cb8bd80fc7",
   "metadata": {
    "tags": []
   },
   "source": [
    "### Clustering Data for Input to Random Forest"
   ]
  },
  {
   "cell_type": "markdown",
   "id": "7f0e0854-39fc-409d-82ce-9d340243778b",
   "metadata": {},
   "source": [
    "Based on the cluster analysis above on 5.03.23, 15 clusters appears to have the most data and exclude outliers so will use that number for selection "
   ]
  },
  {
   "cell_type": "code",
   "execution_count": 11,
   "id": "860899fd-59ae-420d-ac0b-a1ad8940f4a6",
   "metadata": {},
   "outputs": [],
   "source": [
    "CLUSTER_NUM=15\n",
    "\n",
    "common_params = {\n",
    "    \"n_init\": \"auto\",\n",
    "    \"random_state\": 42,\n",
    "    \"init\":\"random\"\n",
    "}"
   ]
  },
  {
   "cell_type": "code",
   "execution_count": 12,
   "id": "14fadaa2-f0c0-43d0-8048-de4c7ef01329",
   "metadata": {},
   "outputs": [
    {
     "name": "stdout",
     "output_type": "stream",
     "text": [
      "CPU times: user 7min 21s, sys: 27 s, total: 7min 48s\n",
      "Wall time: 12.6 s\n"
     ]
    }
   ],
   "source": [
    "%%time\n",
    "kme_land_random =  KMeans(n_clusters=CLUSTER_NUM, **common_params).fit(X_land)\n",
    "kmeans_output_land_random = kme_land_random.predict(X_land)"
   ]
  },
  {
   "cell_type": "code",
   "execution_count": 13,
   "id": "08b9ac07-2215-4e65-ab83-e67411dec00a",
   "metadata": {},
   "outputs": [
    {
     "name": "stdout",
     "output_type": "stream",
     "text": [
      "CPU times: user 2min 49s, sys: 10.9 s, total: 3min\n",
      "Wall time: 4.73 s\n"
     ]
    }
   ],
   "source": [
    "%%time\n",
    "kme_water_random = KMeans(n_clusters=CLUSTER_NUM, **common_params).fit(X_water)\n",
    "kmeans_output_water_random = kme_water_random.predict(X_water)"
   ]
  },
  {
   "cell_type": "markdown",
   "id": "7dbf9549-0236-4f29-a8a3-c1a2d0ab60e4",
   "metadata": {
    "tags": []
   },
   "source": [
    "### Even Balanced Random pulled datapoints"
   ]
  },
  {
   "cell_type": "code",
   "execution_count": 36,
   "id": "42a34ff7-b94d-472b-8e8b-633272252473",
   "metadata": {},
   "outputs": [
    {
     "name": "stdout",
     "output_type": "stream",
     "text": [
      "890 8658\n",
      "890 890 8658\n"
     ]
    }
   ],
   "source": [
    "COUNT_EVEN_BALANCE_LAND = np.inf\n",
    "COUNT_EVEN_BALANCE_WATER = np.inf\n",
    "for cluster in np.unique(kmeans_output_water_random):\n",
    "    land_num = len(np.where(kmeans_output_land_random == cluster)[0])\n",
    "    water_num = len(np.where(kmeans_output_water_random == cluster)[0])\n",
    "    if land_num < COUNT_EVEN_BALANCE_LAND: COUNT_EVEN_BALANCE_LAND = land_num\n",
    "    if water_num < COUNT_EVEN_BALANCE_WATER: COUNT_EVEN_BALANCE_WATER = water_num\n",
    "    \n",
    "print(COUNT_EVEN_BALANCE_LAND, COUNT_EVEN_BALANCE_WATER)\n",
    "if COUNT_EVEN_BALANCE_LAND < COUNT_EVEN_BALANCE_WATER:\n",
    "    COUNT = COUNT_EVEN_BALANCE_LAND\n",
    "else: \n",
    "    COUNT = COUNT_EVEN_BALANCE_WATER\n",
    "print(COUNT,COUNT_EVEN_BALANCE_LAND,COUNT_EVEN_BALANCE_WATER)"
   ]
  },
  {
   "cell_type": "code",
   "execution_count": 37,
   "id": "660e6139-cb3b-4595-9469-215a1252db02",
   "metadata": {},
   "outputs": [
    {
     "name": "stdout",
     "output_type": "stream",
     "text": [
      "cluster 0\n",
      "cluster 1\n",
      "cluster 2\n",
      "cluster 3\n",
      "cluster 4\n",
      "Cluster 4 contains outliers\n",
      "cluster 5\n",
      "cluster 6\n",
      "cluster 7\n",
      "cluster 8\n",
      "cluster 9\n",
      "cluster 10\n",
      "cluster 11\n",
      "cluster 12\n",
      "cluster 13\n",
      "cluster 14\n",
      "[ 417433 1267323    5294 ...  370575 1368124  919577] [1630785  825048  735648 ... 1074337  873594 2299887]\n"
     ]
    }
   ],
   "source": [
    "# np.random.seed(42)\n",
    "random_ind_land = np.array([])\n",
    "random_ind_water = []\n",
    "\n",
    "for cluster in np.unique(kmeans_output_water_random):\n",
    "    print(f'cluster {cluster}')\n",
    "    cluster_ind_water = np.where(kmeans_output_water_random == cluster)[0]\n",
    "    random_pts_water = np.random.choice(cluster_ind_water,COUNT,replace=False)\n",
    "    max_X_random_water = np.nanmax(X_water['sur_refl_b01_1'].iloc[random_pts_water])\n",
    "    if max_X_random_water < 10000:\n",
    "        random_ind_water = np.append(random_ind_water, random_pts_water)\n",
    "    else: print(f'Cluster {cluster} contains outliers')\n",
    "    \n",
    "    cluster_ind_land = np.where(kmeans_output_land_random == cluster)[0]\n",
    "    random_pts_land = np.random.choice(cluster_ind_land,COUNT,replace=False)\n",
    "    random_ind_land = np.append(random_ind_land, random_pts_land)\n",
    "    \n",
    "random_ind_water = random_ind_water.astype('int')\n",
    "random_ind_land = random_ind_land.astype('int')\n",
    "\n",
    "print(random_ind_water,random_ind_land)"
   ]
  },
  {
   "cell_type": "code",
   "execution_count": null,
   "id": "559df0b1-19f7-41be-a4f0-7cf5d3964ad9",
   "metadata": {},
   "outputs": [],
   "source": []
  },
  {
   "cell_type": "code",
   "execution_count": null,
   "id": "b3be16f9-0734-47ce-a8d2-7cb3e1c22cce",
   "metadata": {},
   "outputs": [],
   "source": [
    "# X_cluster_land_random = X_land.iloc[random_ind_land]\n",
    "# y_cluster_land_random = y_land.iloc[random_ind_land]\n",
    "# X_cluster_water_random = X_water.iloc[random_ind_water]\n",
    "# y_cluster_water_random = y_water.iloc[random_ind_water]\n",
    "\n",
    "# X_cluster_random = pd.concat([X_cluster_land_random,X_cluster_water_random])\n",
    "# y_cluster_random = pd.concat([y_cluster_land_random,y_cluster_water_random])\n",
    "\n",
    "# #Combine the data so that we can shuffle the indices and keep the data together that should be\n",
    "# All_data_random = pd.concat([X_cluster_random,y_cluster_random],axis=1).sample(frac=1)\n",
    "\n",
    "# X_cluster_rfa_random = All_data_random[X_cluster_random.columns]\n",
    "# y_cluster_rfa_random = All_data_random['water']"
   ]
  },
  {
   "cell_type": "code",
   "execution_count": null,
   "id": "3e230982-aa17-48ae-ac01-963766ac0309",
   "metadata": {
    "tags": []
   },
   "outputs": [],
   "source": [
    "# # print(All_data_random)\n",
    "# print(X_match_rfa_random)\n",
    "# print(y_match_rfa_random)"
   ]
  },
  {
   "cell_type": "markdown",
   "id": "f22a4cca-556f-4e75-bc92-6361608f42c2",
   "metadata": {
    "tags": []
   },
   "source": [
    "### Percentage Random pulled datapoints"
   ]
  },
  {
   "cell_type": "code",
   "execution_count": 14,
   "id": "a5a6a8c5-ad0e-4e6c-89b7-7e75526f654f",
   "metadata": {},
   "outputs": [],
   "source": [
    "# List of the clusters: kmeans_output_land and kmeans_output_water\n",
    "# Data: X_water, X_land, y_water, y_land\n",
    "\n",
    "PERCENT_RANDOM_PULL = 0.15"
   ]
  },
  {
   "cell_type": "code",
   "execution_count": 15,
   "id": "7ee2dae0-b83d-470b-ae1d-daffa1c42816",
   "metadata": {},
   "outputs": [
    {
     "name": "stdout",
     "output_type": "stream",
     "text": [
      "cluster 0\n",
      "Pulling 33394 Water pts and 133 Land pts\n",
      "\n",
      "cluster 1\n",
      "Pulling 51258 Water pts and 39150 Land pts\n",
      "\n",
      "cluster 2\n",
      "Pulling 25355 Water pts and 41383 Land pts\n",
      "\n",
      "cluster 3\n",
      "Pulling 14297 Water pts and 34975 Land pts\n",
      "\n",
      "cluster 4\n",
      "Cluster 4 contains outliers\n",
      "Pulling 1298 Water pts and 42733 Land pts\n",
      "\n",
      "cluster 5\n",
      "Pulling 5589 Water pts and 13240 Land pts\n",
      "\n",
      "cluster 6\n",
      "Pulling 5118 Water pts and 19572 Land pts\n",
      "\n",
      "cluster 7\n",
      "Pulling 25931 Water pts and 22311 Land pts\n",
      "\n",
      "cluster 8\n",
      "Pulling 13605 Water pts and 26401 Land pts\n",
      "\n",
      "cluster 9\n",
      "Pulling 6770 Water pts and 13114 Land pts\n",
      "\n",
      "cluster 10\n",
      "Pulling 31086 Water pts and 1255 Land pts\n",
      "\n",
      "cluster 11\n",
      "Pulling 5271 Water pts and 42318 Land pts\n",
      "\n",
      "cluster 12\n",
      "Pulling 38228 Water pts and 168 Land pts\n",
      "\n",
      "cluster 13\n",
      "Pulling 31333 Water pts and 36052 Land pts\n",
      "\n",
      "cluster 14\n",
      "Pulling 8146 Water pts and 26874 Land pts\n",
      "\n",
      "[1231836 1702554 1667640 ... 1385527 1688664 1378216] [1208581  287687 1316137 ... 2369828 1628155 1028369]\n"
     ]
    }
   ],
   "source": [
    "\n",
    "\n",
    "\n",
    "# np.random.seed(42)\n",
    "random_ind_land = np.array([])\n",
    "random_ind_water = []\n",
    "\n",
    "for cluster in np.unique(kmeans_output_water_random):\n",
    "    print(f'cluster {cluster}')\n",
    "    cluster_ind_water = np.where(kmeans_output_water_random == cluster)[0]\n",
    "    # cluster_ind_water = np.where(bgm_water == cluster)[0]\n",
    "    COUNT_RANDOM_PULL_WATER = int(PERCENT_RANDOM_PULL*len(cluster_ind_water))\n",
    "    random_pts_water = np.random.choice(cluster_ind_water,COUNT_RANDOM_PULL_WATER,replace=False)\n",
    "    max_X_random_water = np.nanmax(X_water['sur_refl_b01_1'].iloc[random_pts_water])\n",
    "    if max_X_random_water < 10000:\n",
    "        random_ind_water = np.append(random_ind_water, random_pts_water)\n",
    "    else: print(f'Cluster {cluster} contains outliers')\n",
    "    \n",
    "    cluster_ind_land = np.where(kmeans_output_land_random == cluster)[0]\n",
    "    # cluster_ind_land = np.where(bgm_land == cluster)[0]\n",
    "    COUNT_RANDOM_PULL_LAND = int(PERCENT_RANDOM_PULL*len(cluster_ind_land))\n",
    "    random_pts_land = np.random.choice(cluster_ind_land,COUNT_RANDOM_PULL_LAND,replace=False)\n",
    "    random_ind_land = np.append(random_ind_land, random_pts_land)\n",
    "    print(f'Pulling {COUNT_RANDOM_PULL_WATER} Water pts and {COUNT_RANDOM_PULL_LAND} Land pts')\n",
    "    print()\n",
    "random_ind_water = random_ind_water.astype('int')\n",
    "random_ind_land = random_ind_land.astype('int')\n",
    "\n",
    "print(random_ind_water,random_ind_land)"
   ]
  },
  {
   "cell_type": "code",
   "execution_count": null,
   "id": "c1b3e7ff-e451-440a-8343-cb72261244aa",
   "metadata": {},
   "outputs": [],
   "source": [
    "fig, ax = plt.subplots(2, 2,figsize=(20, 10))\n",
    "var=0\n",
    "for col in range(2):\n",
    "    ax[col, 0].set_ylabel('Frequency') \n",
    "    for row in range(2):\n",
    "        variable=X_cpu.columns[var]\n",
    "        if 'ndvi' in variable: \n",
    "            continue\n",
    "            var_bins = bin_boundaries\n",
    "            log_values = False\n",
    "        else: \n",
    "            var_bins = None\n",
    "            log_values = True\n",
    "        ax[row, col].hist(\n",
    "            [   \n",
    "            X_cpu[variable][not_same_point.index].values\n",
    "            ],\n",
    "            label=[\n",
    "            \"data\"\n",
    "            ],\n",
    "            bins=var_bins,\n",
    "        color=['brown'], log=log_values) \n",
    "        ax[row, col].set_xlabel(f'{variable}')\n",
    "        var+=1\n",
    "    ax[0,0].legend(loc='upper right',fontsize=20)\n",
    "plt.show()"
   ]
  },
  {
   "cell_type": "code",
   "execution_count": null,
   "id": "f855d30f-505c-45cb-b02b-f94e5d38da4d",
   "metadata": {},
   "outputs": [],
   "source": []
  },
  {
   "cell_type": "markdown",
   "id": "0d307387-dc6d-49ce-be7d-af4346607953",
   "metadata": {
    "tags": []
   },
   "source": [
    "### Total random dataset used for training random forest"
   ]
  },
  {
   "cell_type": "code",
   "execution_count": 38,
   "id": "27677834-c156-4527-9f1d-1e53b33a7803",
   "metadata": {},
   "outputs": [
    {
     "name": "stdout",
     "output_type": "stream",
     "text": [
      "[1630785  825048  735648 ... 1074337  873594 2299887]\n",
      "[155355 953635 796815 ... 130768 160128   9565]\n",
      "12460\n",
      "12460\n"
     ]
    }
   ],
   "source": [
    "match_ind_land = np.random.choice(\n",
    "    np.arange(len(X_land)),len(random_ind_land),replace=False)\n",
    "print(random_ind_land)\n",
    "print(match_ind_land)\n",
    "\n",
    "match_ind_water = np.random.choice(\n",
    "    np.arange(len(X_water)),len(random_ind_water),replace=False)\n",
    "print(len(random_ind_water))\n",
    "print(len(match_ind_water))\n",
    "\n",
    "# X_match_land_random = X_land.iloc[match_ind_land]\n",
    "# y_match_land_random = y_land.iloc[match_ind_land]\n",
    "# X_match_water_random = X_water.iloc[match_ind_water]\n",
    "# y_match_water_random = y_water.iloc[match_ind_water]\n",
    "\n",
    "X_match_land_random = X_land.iloc[random_ind_land]\n",
    "y_match_land_random = y_land.iloc[random_ind_land]\n",
    "X_match_water_random = X_water.iloc[random_ind_water]\n",
    "y_match_water_random = y_water.iloc[random_ind_water]\n",
    "\n",
    "X_match_random = pd.concat([X_match_land_random,X_match_water_random])\n",
    "y_match_random = pd.concat([y_match_land_random,y_match_water_random])\n",
    "\n",
    "#Combine the data so that we can shuffle the indices and keep the data together that should be\n",
    "All_data_match_random = pd.concat([X_match_random,y_match_random],axis=1).sample(frac=1).reset_index(drop=True)\n",
    "\n",
    "X_match_rfa_random = All_data_match_random[X_match_random.columns]\n",
    "y_match_rfa_random = All_data_match_random['water']"
   ]
  },
  {
   "cell_type": "code",
   "execution_count": 39,
   "id": "9ba98450-3b2d-46b7-8445-94e67036f79e",
   "metadata": {
    "tags": []
   },
   "outputs": [
    {
     "name": "stdout",
     "output_type": "stream",
     "text": [
      "       sur_refl_b01_1  sur_refl_b02_1  sur_refl_b07_1   ndvi\n",
      "0                  -9               1              23 -12500\n",
      "1                 726            1009             872   1631\n",
      "2                  36              -3              23 -11818\n",
      "3                 229             388               2   2576\n",
      "4                 748            2736             815   5706\n",
      "...               ...             ...             ...    ...\n",
      "25805              60              -6              56 -12222\n",
      "25806              33             -18              27  31536\n",
      "25807             128            -100              -4 -15892\n",
      "25808             -94             -14              47  -7407\n",
      "25809             -12              -3              52  -6000\n",
      "\n",
      "[25810 rows x 4 columns]\n",
      "0        1\n",
      "1        0\n",
      "2        1\n",
      "3        1\n",
      "4        0\n",
      "        ..\n",
      "25805    1\n",
      "25806    1\n",
      "25807    0\n",
      "25808    1\n",
      "25809    1\n",
      "Name: water, Length: 25810, dtype: int16\n"
     ]
    }
   ],
   "source": [
    "# print(All_data_random)\n",
    "print(X_match_rfa_random)\n",
    "print(y_match_rfa_random)"
   ]
  },
  {
   "cell_type": "code",
   "execution_count": null,
   "id": "d110eda8-61cb-4684-b635-4846049deb81",
   "metadata": {},
   "outputs": [],
   "source": [
    "# X_cluster_land_random = X_land.iloc[random_ind_land]\n",
    "# y_cluster_land_random = y_land.iloc[random_ind_land]\n",
    "# X_cluster_water_random = X_water.iloc[random_ind_water]\n",
    "# y_cluster_water_random = y_water.iloc[random_ind_water]\n",
    "\n",
    "# X_cluster_random = pd.concat([X_cluster_land_random,X_cluster_water_random])\n",
    "# y_cluster_random = pd.concat([y_cluster_land_random,y_cluster_water_random])\n",
    "\n",
    "# #Combine the data so that we can shuffle the indices and keep the data together that should be\n",
    "# All_data_random = pd.concat([X_cluster_random,y_cluster_random],axis=1).sample(frac=1)\n",
    "\n",
    "# X_cluster_rfa_random = All_data_random[X_cluster_random.columns]\n",
    "# y_cluster_rfa_random = All_data_random['water']"
   ]
  },
  {
   "cell_type": "code",
   "execution_count": null,
   "id": "7ce60e95-e471-4c4a-a292-7d3e4152cca1",
   "metadata": {},
   "outputs": [],
   "source": []
  },
  {
   "cell_type": "markdown",
   "id": "e8be6ccf-6e47-4297-bb0b-92277c4fc231",
   "metadata": {
    "tags": []
   },
   "source": [
    "### Plotting paramater space"
   ]
  },
  {
   "cell_type": "code",
   "execution_count": 49,
   "id": "c4907add-7b1c-4060-90c6-f971c49cc64c",
   "metadata": {},
   "outputs": [
    {
     "name": "stdout",
     "output_type": "stream",
     "text": [
      "CPU times: user 15min 33s, sys: 1min 10s, total: 16min 44s\n",
      "Wall time: 28.5 s\n"
     ]
    }
   ],
   "source": [
    "%%time\n",
    "\n",
    "kme_land_random =  KMeans(n_clusters=CLUSTER_NUM, **common_params).fit(X_land)\n",
    "kmeans_output_land_random = kme_land_random.predict(X_land)\n",
    "kme_water_random = KMeans(n_clusters=CLUSTER_NUM, **common_params).fit(X_water)\n",
    "kmeans_output_water_random = kme_water_random.predict(X_water)"
   ]
  },
  {
   "cell_type": "code",
   "execution_count": 50,
   "id": "bf76286d-7e58-444e-97ef-27cd5fa83dee",
   "metadata": {},
   "outputs": [
    {
     "name": "stdout",
     "output_type": "stream",
     "text": [
      "cluster 0\n",
      "cluster 1\n",
      "cluster 2\n",
      "cluster 3\n",
      "cluster 4\n",
      "Cluster 4 contains outliers\n",
      "cluster 5\n",
      "cluster 6\n",
      "cluster 7\n",
      "cluster 8\n",
      "cluster 9\n",
      "cluster 10\n",
      "cluster 11\n",
      "cluster 12\n",
      "cluster 13\n",
      "cluster 14\n",
      "[ 881353  233325  245712 ...   26559  213111 1581653] [2056862  877151 1291211 ...  175528 2391374  433047]\n",
      "CPU times: user 302 ms, sys: 2.24 ms, total: 304 ms\n",
      "Wall time: 302 ms\n"
     ]
    }
   ],
   "source": [
    "%%time\n",
    "\n",
    "np.random.seed(42)\n",
    "random_ind_land_eb = np.array([])\n",
    "random_ind_water_eb = []\n",
    "\n",
    "for cluster in np.unique(kmeans_output_water_random):\n",
    "    print(f'cluster {cluster}')\n",
    "    cluster_ind_water = np.where(kmeans_output_water_random == cluster)[0]\n",
    "    random_pts_water = np.random.choice(cluster_ind_water,COUNT,replace=False)\n",
    "    max_X_random_water = np.nanmax(X_water['sur_refl_b01_1'].iloc[random_pts_water])\n",
    "    if max_X_random_water < 10000:\n",
    "        random_ind_water_eb = np.append(random_ind_water_eb, random_pts_water)\n",
    "    else: print(f'Cluster {cluster} contains outliers')\n",
    "    \n",
    "    cluster_ind_land = np.where(kmeans_output_land_random == cluster)[0]\n",
    "    random_pts_land = np.random.choice(cluster_ind_land,COUNT,replace=False)\n",
    "    random_ind_land_eb = np.append(random_ind_land_eb, random_pts_land)\n",
    "    \n",
    "random_ind_water_eb = random_ind_water_eb.astype('int')\n",
    "random_ind_land_eb = random_ind_land_eb.astype('int')\n",
    "\n",
    "print(random_ind_water_eb,random_ind_land_eb)\n",
    "\n",
    "\n",
    "#############\n",
    "\n",
    "match_ind_land_eb = np.random.choice(np.arange(len(X_land)),len(random_ind_land_eb),replace=False)\n",
    "match_ind_water_eb = np.random.choice(np.arange(len(X_water)),len(random_ind_water_eb),replace=False)\n",
    "\n",
    "X_match_land_eb = X_land.iloc[match_ind_land_eb]\n",
    "X_match_water_eb = X_water.iloc[match_ind_water_eb]\n",
    "X_match_eb = pd.concat([X_match_land_eb,X_match_water_eb])\n",
    "\n",
    "X_cluster_land_eb = X_land.iloc[random_ind_land_eb]\n",
    "X_cluster_water_eb = X_water.iloc[random_ind_water_eb]\n",
    "X_cluster_eb = pd.concat([X_cluster_land_eb,X_cluster_water_eb])\n",
    "\n",
    "\n"
   ]
  },
  {
   "cell_type": "code",
   "execution_count": 51,
   "id": "66ac0359-2a9c-44c9-b68b-dff80958e776",
   "metadata": {},
   "outputs": [
    {
     "name": "stdout",
     "output_type": "stream",
     "text": [
      "cluster 0\n",
      "Pulling 33394 Water pts and 133 Land pts\n",
      "\n",
      "cluster 1\n",
      "Pulling 51258 Water pts and 39150 Land pts\n",
      "\n",
      "cluster 2\n",
      "Pulling 25355 Water pts and 41383 Land pts\n",
      "\n",
      "cluster 3\n",
      "Pulling 14297 Water pts and 34975 Land pts\n",
      "\n",
      "cluster 4\n",
      "Cluster 4 contains outliers\n",
      "Pulling 1298 Water pts and 42733 Land pts\n",
      "\n",
      "cluster 5\n",
      "Pulling 5589 Water pts and 13240 Land pts\n",
      "\n",
      "cluster 6\n",
      "Pulling 5118 Water pts and 19572 Land pts\n",
      "\n",
      "cluster 7\n",
      "Pulling 25931 Water pts and 22311 Land pts\n",
      "\n",
      "cluster 8\n",
      "Pulling 13605 Water pts and 26401 Land pts\n",
      "\n",
      "cluster 9\n",
      "Pulling 6770 Water pts and 13114 Land pts\n",
      "\n",
      "cluster 10\n",
      "Pulling 31086 Water pts and 1255 Land pts\n",
      "\n",
      "cluster 11\n",
      "Pulling 5271 Water pts and 42318 Land pts\n",
      "\n",
      "cluster 12\n",
      "Pulling 38228 Water pts and 168 Land pts\n",
      "\n",
      "cluster 13\n",
      "Pulling 31333 Water pts and 36052 Land pts\n",
      "\n",
      "cluster 14\n",
      "Pulling 8146 Water pts and 26874 Land pts\n",
      "\n",
      "[ 881353  233325  245712 ... 1605821  587097 1863434] [2056862  877151 1291211 ...  458067 1743782  881244]\n",
      "CPU times: user 393 ms, sys: 2 ms, total: 395 ms\n",
      "Wall time: 394 ms\n"
     ]
    }
   ],
   "source": [
    "%%time\n",
    "\n",
    "\n",
    "#############\n",
    "np.random.seed(42)\n",
    "random_ind_land_p = np.array([])\n",
    "random_ind_water_p= []\n",
    "\n",
    "for cluster in np.unique(kmeans_output_water_random):\n",
    "    print(f'cluster {cluster}')\n",
    "    cluster_ind_water = np.where(kmeans_output_water_random == cluster)[0]\n",
    "    # cluster_ind_water = np.where(bgm_water == cluster)[0]\n",
    "    COUNT_RANDOM_PULL_WATER = int(PERCENT_RANDOM_PULL*len(cluster_ind_water))\n",
    "    random_pts_water = np.random.choice(cluster_ind_water,COUNT_RANDOM_PULL_WATER,replace=False)\n",
    "    max_X_random_water = np.nanmax(X_water['sur_refl_b01_1'].iloc[random_pts_water])\n",
    "    if max_X_random_water < 10000:\n",
    "        random_ind_water_p = np.append(random_ind_water_p, random_pts_water)\n",
    "    else: print(f'Cluster {cluster} contains outliers')\n",
    "    \n",
    "    cluster_ind_land = np.where(kmeans_output_land_random == cluster)[0]\n",
    "    # cluster_ind_land = np.where(bgm_land == cluster)[0]\n",
    "    COUNT_RANDOM_PULL_LAND = int(PERCENT_RANDOM_PULL*len(cluster_ind_land))\n",
    "    random_pts_land = np.random.choice(cluster_ind_land,COUNT_RANDOM_PULL_LAND,replace=False)\n",
    "    random_ind_land_p = np.append(random_ind_land_p, random_pts_land)\n",
    "    print(f'Pulling {COUNT_RANDOM_PULL_WATER} Water pts and {COUNT_RANDOM_PULL_LAND} Land pts')\n",
    "    print()\n",
    "random_ind_water_p = random_ind_water_p.astype('int')\n",
    "random_ind_land_p = random_ind_land_p.astype('int')\n",
    "\n",
    "print(random_ind_water_p,random_ind_land_p)\n",
    "\n",
    "#############\n",
    "\n",
    "match_ind_land_p = np.random.choice(np.arange(len(X_land)),len(random_ind_land_p),replace=False)\n",
    "match_ind_water_p = np.random.choice(np.arange(len(X_water)),len(random_ind_water_p),replace=False)\n",
    "\n",
    "X_match_land_p = X_land.iloc[match_ind_land_p]\n",
    "X_match_water_p = X_water.iloc[match_ind_water_p]\n",
    "X_match_p = pd.concat([X_match_land_p,X_match_water_p])\n",
    "\n",
    "X_cluster_land_p = X_land.iloc[random_ind_land_p]\n",
    "X_cluster_water_p = X_water.iloc[random_ind_water_p]\n",
    "X_cluster_p = pd.concat([X_cluster_land_p,X_cluster_water_p])"
   ]
  },
  {
   "cell_type": "code",
   "execution_count": 57,
   "id": "e0da7981-4061-4f85-8c3b-5aef1a65fd78",
   "metadata": {},
   "outputs": [
    {
     "data": {
      "image/png": "[encoded data removed]",
      "text/plain": [
       "<Figure size 2000x1000 with 4 Axes>"
      ]
     },
     "metadata": {},
     "output_type": "display_data"
    }
   ],
   "source": [
    "fig, ax = plt.subplots(2, 2,figsize=(20, 10))\n",
    "var=0\n",
    "for col in range(2):\n",
    "    ax[col, 0].set_ylabel('Frequency') \n",
    "    for row in range(2):\n",
    "        variable=X_land.columns[var]\n",
    "        if 'ndvi' in variable: \n",
    "            # var_bins = bin_boundaries\n",
    "            log_values = False\n",
    "        else: \n",
    "            # var_bins = None\n",
    "            log_values = True\n",
    "        ax[row, col].hist(\n",
    "            [  \n",
    "            X_cluster_eb[variable].values,\n",
    "            X_match_eb[variable].values,\n",
    "            X_cluster_p[variable].values,\n",
    "            X_match_p[variable].values,\n",
    "            ],\n",
    "            label=[\n",
    "            f\"EB Cluster {len(X_cluster_eb)}\",\n",
    "            \"EB Match\",\n",
    "            f\"P Cluster {len(X_match_p)}\",\n",
    "            f\"P Match\"\n",
    "            ],\n",
    "            #bins=var_bins,\n",
    "        color=['darkgreen','lightgreen','darkblue','lightblue'], log=log_values) \n",
    "        ax[row, col].set_xlabel(f'{variable}')\n",
    "        var+=1\n",
    "    ax[0,0].legend(loc='upper right',fontsize=20)\n",
    "plt.show()"
   ]
  },
  {
   "cell_type": "markdown",
   "id": "44ed9581-542c-433e-a139-1a45a83d9612",
   "metadata": {
    "tags": []
   },
   "source": [
    "## Random forest"
   ]
  },
  {
   "cell_type": "code",
   "execution_count": null,
   "id": "3e0fcb22-fca3-4a5d-940f-01139be277d3",
   "metadata": {},
   "outputs": [],
   "source": [
    "# FIGURE_OUTPUT_DIR = ''#/explore/nobackup/projects/ilab/scratch/cssprad1/MODIS_water/code/tmp'\n",
    "# RASTER_OUTPUT_DIR = ''#/explore/nobackup/projects/ilab/scratch/cssprad1/MODIS_water/code/tmp'\n",
    "# MODEL_OUTPUT_DIR = ''#/explore/nobackup/projects/ilab/scratch/cssprad1/MODIS_water/models/'\n",
    "\n",
    "# qaMaskPath = '/explore/nobackup/projects/ilab/data/MODIS/MODIS_WATER_ML/qa'\n",
    "# waterMaskPath = '/explore/nobackup/people/mcarrol2/MODIS_water/v5_outputs'\n",
    "\n",
    "# test_data_basepath = '/explore/nobackup/projects/ilab/data/MODIS/MODIS_WATER_ML/test_data/'\n",
    "\n",
    "# ##Add in the other stuff for tuning\n",
    "# frac_water = int(100*(1.0-FRAC_LAND))\n",
    "# if len(colsToDrop) >= 1:\n",
    "#     save_file = f\"{TILE}_{DAY}_{YEAR}_frac-water{frac_water}_no-vars_{'-'.join(colsToDrop)}\"\n",
    "# else: \n",
    "#      save_file = f\"{TILE}_{DAY}_{YEAR}_frac-water{frac_water}_all-vars\"\n",
    "\n",
    "# print(save_file)"
   ]
  },
  {
   "cell_type": "markdown",
   "id": "15bc7e41-cd94-4ca8-8ed3-df7bd2568922",
   "metadata": {
    "tags": []
   },
   "source": [
    "#### RF FUNCTIONS"
   ]
  },
  {
   "cell_type": "code",
   "execution_count": 40,
   "id": "c3244e03-63f5-45f2-b28d-dfcd6b7bc8e0",
   "metadata": {},
   "outputs": [],
   "source": [
    "def cpu_rf_objective(trial):\n",
    "    list_trees = [75, 100, 125, 150, 175, 200, 250, 300, 400, 500]\n",
    "    max_depth = [5, 10, 30, 50, 80, 90, 100, 110]\n",
    "    min_samples_leaf = [1, 2, 3, 4, 5]\n",
    "    min_samples_split = [2, 4, 8, 10]\n",
    "    bootstrap = [True, False]\n",
    "    max_features = ['auto', 'sqrt', 'log2']\n",
    "    \n",
    "    # if TREES_AND_DEPTH_ONLY:\n",
    "    #     param = {'n_estimators': trial.suggest_categorical('n_estimators', list_trees), \n",
    "    #                'criterion':'gini', \n",
    "    #                'max_depth':trial.suggest_categorical('max_depth', max_depth), \n",
    "    #                'min_samples_split':2, \n",
    "    #                'min_samples_leaf':1, \n",
    "    #                'min_weight_fraction_leaf':0.0, \n",
    "    #                'max_features':'auto', \n",
    "    #                'max_leaf_nodes':None, \n",
    "    #                'min_impurity_decrease':0.0, \n",
    "    #                'bootstrap':True, \n",
    "    #                'oob_score':False, \n",
    "    #                'n_jobs':-1, \n",
    "    #                # 'random_state':42, \n",
    "    #                'verbose':0, \n",
    "    #                'warm_start':True, \n",
    "    #                'class_weight':None, \n",
    "    #                'ccp_alpha':0.0, \n",
    "    #                'max_samples':None\n",
    "    #                   }\n",
    "    # else:\n",
    "    param = {'n_estimators': trial.suggest_categorical('n_estimators', list_trees), \n",
    "                       'max_depth':trial.suggest_categorical('max_depth', max_depth), \n",
    "                       'min_samples_split':trial.suggest_categorical('min_samples_split', min_samples_split), \n",
    "                       'min_samples_leaf':trial.suggest_categorical('min_samples_leaf', min_samples_leaf), \n",
    "                       'bootstrap': trial.suggest_categorical('bootstrap', bootstrap),\n",
    "                       'criterion':'gini', \n",
    "                       #'min_weight_fraction_leaf': trial.suggest_float('min_weight_fraction_leaf', 1e-8, 1.0, log=True), \n",
    "                       'max_features':trial.suggest_categorical('max_features', max_features), \n",
    "                       'max_leaf_nodes':None, \n",
    "                       'min_impurity_decrease':0.0, \n",
    "                       'oob_score':False, \n",
    "                       'n_jobs':-1, \n",
    "                       # 'random_state':42, \n",
    "                       'verbose':0, \n",
    "                       'warm_start':False, \n",
    "                       'class_weight':None, \n",
    "                       'ccp_alpha':0.0, \n",
    "                       'max_samples':None\n",
    "                      }\n",
    "    cv = StratifiedKFold(n_splits=5, shuffle=True, random_state=42)\n",
    "\n",
    "    #######################\n",
    "    # HERE IS WHERE TO CHANGE THE X,Y DATASET USED FOR TRAINING\n",
    "    #######################\n",
    "   \n",
    "    cv_scores = np.empty(5)\n",
    "    # for idx, (train_idx, val_idx) in enumerate(cv.split(X,y)):\n",
    "    #     # X_train, X_val = X.iloc[train_idx], X.iloc[val_idx]\n",
    "    #     # y_train, y_val = y.iloc[train_idx],  y.iloc[val_idx]\n",
    "\n",
    "#     for idx, (train_idx, val_idx) in enumerate(cv.split(X_cluster_rfa_random,  y_cluster_rfa_random)):    \n",
    "#         X_train, X_val = X_cluster_rfa_random.iloc[train_idx], X_cluster_rfa_random.iloc[val_idx]\n",
    "#         y_train, y_val = y_cluster_rfa_random.iloc[train_idx],  y_cluster_rfa_random.iloc[val_idx]\n",
    "    # for idx, (train_idx, val_idx) in enumerate(cv.split(X_cluster_rfa_center, y_cluster_rfa_center)):\n",
    "    #     X_train, X_val = X_cluster_rfa_center.iloc[train_idx], X_cluster_rfa_center.iloc[val_idx]\n",
    "    #     y_train, y_val = y_cluster_rfa_center.iloc[train_idx], y_cluster_rfa_center.iloc[val_idx]\n",
    "\n",
    "    for idx, (train_idx, val_idx) in enumerate(cv.split(X_match_rfa_random,  y_match_rfa_random)):    \n",
    "        X_train, X_val = X_match_rfa_random.iloc[train_idx], X_match_rfa_random.iloc[val_idx]\n",
    "        y_train, y_val = y_match_rfa_random.iloc[train_idx],  y_match_rfa_random.iloc[val_idx]     \n",
    "   \n",
    "        model = skRF(**param)\n",
    "        model.fit(X_train, y_train)\n",
    "        preds = model.predict(X_val)\n",
    "        cv_scores[idx] = f1_score(y_val, preds)\n",
    "        if cv_scores[idx] == 0.0:\n",
    "            print('Pruning because of 0.0 score.')\n",
    "            return 0.0\n",
    "        print('Fold {}: {}'.format(idx, cv_scores[idx]))\n",
    "    return np.mean(cv_scores)\n",
    "\n",
    "search_space={\n",
    "    \"n_estimators\": [75, 100, 125, 150, 175, 200, 250, 300, 400, 500],\n",
    "    \"max_depth\" : [5,10, 30, 50, 80, 90, 100, 110],\n",
    "    \"min_samples_leaf\" : [1, 2, 3, 4, 5],\n",
    "    \"min_samples_split\" : [2, 4, 8, 10],\n",
    "    \"bootstrap\" : [True, False],\n",
    "    \"max_features\" : ['auto', 'sqrt', 'log2'],\n",
    "    \n",
    "}\n",
    "TREES_AND_DEPTH_ONLY = False\n",
    "GRID_SEARCH = True"
   ]
  },
  {
   "cell_type": "markdown",
   "id": "c0070240-5655-486d-9011-b038ebee4403",
   "metadata": {},
   "source": [
    "#### Training RF"
   ]
  },
  {
   "cell_type": "code",
   "execution_count": 41,
   "id": "ca239ea1-6081-466a-9458-c158eb7f2393",
   "metadata": {
    "tags": []
   },
   "outputs": [
    {
     "name": "stderr",
     "output_type": "stream",
     "text": [
      "\u001b[32m[I 2023-10-24 17:21:20,333]\u001b[0m A new study created in memory with name: RF Tuning Grid Search\u001b[0m\n"
     ]
    },
    {
     "name": "stdout",
     "output_type": "stream",
     "text": [
      "Fold 0: 0.9076527585525015\n",
      "Fold 1: 0.9014641867827463\n",
      "Fold 2: 0.9003368337626313\n",
      "Fold 3: 0.905675301562191\n"
     ]
    },
    {
     "name": "stderr",
     "output_type": "stream",
     "text": [
      "\u001b[32m[I 2023-10-24 17:21:27,360]\u001b[0m Trial 0 finished with value: 0.9034657218664994 and parameters: {'n_estimators': 500, 'max_depth': 80, 'min_samples_split': 4, 'min_samples_leaf': 5, 'bootstrap': False, 'max_features': 'auto'}. Best is trial 0 with value: 0.9034657218664994.\u001b[0m\n"
     ]
    },
    {
     "name": "stdout",
     "output_type": "stream",
     "text": [
      "Fold 4: 0.9021995286724274\n",
      "Fold 0: 0.9087024087024087\n",
      "Fold 1: 0.906092355452076\n",
      "Fold 2: 0.905667701863354\n",
      "Fold 3: 0.9093731806714536\n"
     ]
    },
    {
     "name": "stderr",
     "output_type": "stream",
     "text": [
      "\u001b[32m[I 2023-10-24 17:21:34,004]\u001b[0m Trial 1 finished with value: 0.9059014034534586 and parameters: {'n_estimators': 500, 'max_depth': 5, 'min_samples_split': 10, 'min_samples_leaf': 4, 'bootstrap': True, 'max_features': 'sqrt'}. Best is trial 1 with value: 0.9059014034534586.\u001b[0m\n"
     ]
    },
    {
     "name": "stdout",
     "output_type": "stream",
     "text": [
      "Fold 4: 0.8996713705780012\n",
      "Fold 0: 0.9094152626362735\n",
      "Fold 1: 0.9019996040388041\n",
      "Fold 2: 0.9014866204162538\n",
      "Fold 3: 0.9061514195583595\n"
     ]
    },
    {
     "name": "stderr",
     "output_type": "stream",
     "text": [
      "\u001b[32m[I 2023-10-24 17:21:35,647]\u001b[0m Trial 2 finished with value: 0.9042782567082049 and parameters: {'n_estimators': 100, 'max_depth': 80, 'min_samples_split': 2, 'min_samples_leaf': 2, 'bootstrap': True, 'max_features': 'sqrt'}. Best is trial 1 with value: 0.9059014034534586.\u001b[0m\n"
     ]
    },
    {
     "name": "stdout",
     "output_type": "stream",
     "text": [
      "Fold 4: 0.9023383768913343\n",
      "Fold 0: 0.9106967615309127\n",
      "Fold 1: 0.9083398898505115\n",
      "Fold 2: 0.9075927015891702\n",
      "Fold 3: 0.909553641346907\n"
     ]
    },
    {
     "name": "stderr",
     "output_type": "stream",
     "text": [
      "\u001b[32m[I 2023-10-24 17:21:38,178]\u001b[0m Trial 3 finished with value: 0.9079923448705124 and parameters: {'n_estimators': 175, 'max_depth': 10, 'min_samples_split': 10, 'min_samples_leaf': 5, 'bootstrap': True, 'max_features': 'auto'}. Best is trial 3 with value: 0.9079923448705124.\u001b[0m\n"
     ]
    },
    {
     "name": "stdout",
     "output_type": "stream",
     "text": [
      "Fold 4: 0.9037787300350603\n",
      "Fold 0: 0.9073966220151427\n",
      "Fold 1: 0.9044561198676785\n",
      "Fold 2: 0.9045401629802096\n",
      "Fold 3: 0.9088445906715696\n"
     ]
    },
    {
     "name": "stderr",
     "output_type": "stream",
     "text": [
      "\u001b[32m[I 2023-10-24 17:21:42,224]\u001b[0m Trial 4 finished with value: 0.9049469965943573 and parameters: {'n_estimators': 400, 'max_depth': 5, 'min_samples_split': 8, 'min_samples_leaf': 5, 'bootstrap': False, 'max_features': 'log2'}. Best is trial 3 with value: 0.9079923448705124.\u001b[0m\n"
     ]
    },
    {
     "name": "stdout",
     "output_type": "stream",
     "text": [
      "Fold 4: 0.8994974874371858\n",
      "Fold 0: 0.9025702331141663\n",
      "Fold 1: 0.8971405877680698\n",
      "Fold 2: 0.8978859194256084\n",
      "Fold 3: 0.9004758128469468\n"
     ]
    },
    {
     "name": "stderr",
     "output_type": "stream",
     "text": [
      "\u001b[32m[I 2023-10-24 17:21:49,393]\u001b[0m Trial 5 finished with value: 0.8984017908995737 and parameters: {'n_estimators': 500, 'max_depth': 30, 'min_samples_split': 4, 'min_samples_leaf': 2, 'bootstrap': False, 'max_features': 'log2'}. Best is trial 3 with value: 0.9079923448705124.\u001b[0m\n"
     ]
    },
    {
     "name": "stdout",
     "output_type": "stream",
     "text": [
      "Fold 4: 0.8939364013430773\n",
      "Fold 0: 0.9109105180533752\n",
      "Fold 1: 0.9051266941661756\n",
      "Fold 2: 0.9068762278978388\n",
      "Fold 3: 0.9095546399843045\n"
     ]
    },
    {
     "name": "stderr",
     "output_type": "stream",
     "text": [
      "\u001b[32m[I 2023-10-24 17:21:51,346]\u001b[0m Trial 6 finished with value: 0.9072867730965442 and parameters: {'n_estimators': 150, 'max_depth': 10, 'min_samples_split': 2, 'min_samples_leaf': 5, 'bootstrap': False, 'max_features': 'auto'}. Best is trial 3 with value: 0.9079923448705124.\u001b[0m\n"
     ]
    },
    {
     "name": "stdout",
     "output_type": "stream",
     "text": [
      "Fold 4: 0.9039657853810265\n",
      "Fold 0: 0.9124678917210038\n",
      "Fold 1: 0.9056454796683774\n",
      "Fold 2: 0.9040663245163838\n",
      "Fold 3: 0.9079440173467377\n"
     ]
    },
    {
     "name": "stderr",
     "output_type": "stream",
     "text": [
      "\u001b[32m[I 2023-10-24 17:21:57,756]\u001b[0m Trial 7 finished with value: 0.906922957986841 and parameters: {'n_estimators': 400, 'max_depth': 50, 'min_samples_split': 4, 'min_samples_leaf': 4, 'bootstrap': True, 'max_features': 'log2'}. Best is trial 3 with value: 0.9079923448705124.\u001b[0m\n"
     ]
    },
    {
     "name": "stdout",
     "output_type": "stream",
     "text": [
      "Fold 4: 0.9044910766817023\n",
      "Fold 0: 0.9105336242808967\n",
      "Fold 1: 0.9044233807266983\n",
      "Fold 2: 0.9033663366336634\n",
      "Fold 3: 0.9091627172195893\n"
     ]
    },
    {
     "name": "stderr",
     "output_type": "stream",
     "text": [
      "\u001b[32m[I 2023-10-24 17:22:05,719]\u001b[0m Trial 8 finished with value: 0.906142373062492 and parameters: {'n_estimators': 500, 'max_depth': 30, 'min_samples_split': 8, 'min_samples_leaf': 1, 'bootstrap': True, 'max_features': 'auto'}. Best is trial 3 with value: 0.9079923448705124.\u001b[0m\n"
     ]
    },
    {
     "name": "stdout",
     "output_type": "stream",
     "text": [
      "Fold 4: 0.9032258064516129\n",
      "Fold 0: 0.9093787099327265\n",
      "Fold 1: 0.904055390702275\n",
      "Fold 2: 0.9018599129402454\n",
      "Fold 3: 0.9085534095388254\n"
     ]
    },
    {
     "name": "stderr",
     "output_type": "stream",
     "text": [
      "\u001b[32m[I 2023-10-24 17:22:06,955]\u001b[0m Trial 9 finished with value: 0.9053157609049917 and parameters: {'n_estimators': 75, 'max_depth': 110, 'min_samples_split': 2, 'min_samples_leaf': 3, 'bootstrap': True, 'max_features': 'sqrt'}. Best is trial 3 with value: 0.9079923448705124.\u001b[0m\n"
     ]
    },
    {
     "name": "stdout",
     "output_type": "stream",
     "text": [
      "Fold 4: 0.9027313814108862\n",
      "Fold 0: 0.9073246551389159\n",
      "Fold 1: 0.9051975861397703\n",
      "Fold 2: 0.9054919464389675\n",
      "Fold 3: 0.9089497185012618\n"
     ]
    },
    {
     "name": "stderr",
     "output_type": "stream",
     "text": [
      "\u001b[32m[I 2023-10-24 17:22:08,797]\u001b[0m Trial 10 finished with value: 0.9052461197231347 and parameters: {'n_estimators': 125, 'max_depth': 5, 'min_samples_split': 4, 'min_samples_leaf': 2, 'bootstrap': True, 'max_features': 'log2'}. Best is trial 3 with value: 0.9079923448705124.\u001b[0m\n"
     ]
    },
    {
     "name": "stdout",
     "output_type": "stream",
     "text": [
      "Fold 4: 0.8992666923967579\n",
      "Fold 0: 0.9067236688690244\n",
      "Fold 1: 0.9042801556420234\n",
      "Fold 2: 0.9057703516611619\n",
      "Fold 3: 0.9093023255813953\n"
     ]
    },
    {
     "name": "stderr",
     "output_type": "stream",
     "text": [
      "\u001b[32m[I 2023-10-24 17:22:10,483]\u001b[0m Trial 11 finished with value: 0.9049836401190609 and parameters: {'n_estimators': 125, 'max_depth': 5, 'min_samples_split': 8, 'min_samples_leaf': 4, 'bootstrap': True, 'max_features': 'sqrt'}. Best is trial 3 with value: 0.9079923448705124.\u001b[0m\n"
     ]
    },
    {
     "name": "stdout",
     "output_type": "stream",
     "text": [
      "Fold 4: 0.8988416988416988\n",
      "Fold 0: 0.909952606635071\n",
      "Fold 1: 0.9045922406967537\n",
      "Fold 2: 0.9040933359699427\n",
      "Fold 3: 0.9086965095641885\n"
     ]
    },
    {
     "name": "stderr",
     "output_type": "stream",
     "text": [
      "\u001b[32m[I 2023-10-24 17:22:11,727]\u001b[0m Trial 12 finished with value: 0.9064006380631874 and parameters: {'n_estimators': 75, 'max_depth': 80, 'min_samples_split': 10, 'min_samples_leaf': 3, 'bootstrap': True, 'max_features': 'sqrt'}. Best is trial 3 with value: 0.9079923448705124.\u001b[0m\n"
     ]
    },
    {
     "name": "stdout",
     "output_type": "stream",
     "text": [
      "Fold 4: 0.9046684974499803\n",
      "Fold 0: 0.9071428571428571\n",
      "Fold 1: 0.9016263387544625\n",
      "Fold 2: 0.8999205718824465\n",
      "Fold 3: 0.9045544554455446\n"
     ]
    },
    {
     "name": "stderr",
     "output_type": "stream",
     "text": [
      "\u001b[32m[I 2023-10-24 17:22:14,303]\u001b[0m Trial 13 finished with value: 0.9026645802862895 and parameters: {'n_estimators': 175, 'max_depth': 30, 'min_samples_split': 10, 'min_samples_leaf': 2, 'bootstrap': False, 'max_features': 'log2'}. Best is trial 3 with value: 0.9079923448705124.\u001b[0m\n"
     ]
    },
    {
     "name": "stdout",
     "output_type": "stream",
     "text": [
      "Fold 4: 0.900078678206137\n",
      "Fold 0: 0.8985623003194889\n",
      "Fold 1: 0.8928785158587672\n",
      "Fold 2: 0.8968681428286455\n",
      "Fold 3: 0.8974307906791474\n"
     ]
    },
    {
     "name": "stderr",
     "output_type": "stream",
     "text": [
      "\u001b[32m[I 2023-10-24 17:22:16,299]\u001b[0m Trial 14 finished with value: 0.8954019181911781 and parameters: {'n_estimators': 125, 'max_depth': 50, 'min_samples_split': 4, 'min_samples_leaf': 1, 'bootstrap': False, 'max_features': 'sqrt'}. Best is trial 3 with value: 0.9079923448705124.\u001b[0m\n"
     ]
    },
    {
     "name": "stdout",
     "output_type": "stream",
     "text": [
      "Fold 4: 0.8912698412698412\n",
      "Fold 0: 0.9066348827969805\n",
      "Fold 1: 0.8992278756681844\n",
      "Fold 2: 0.8993448481238833\n",
      "Fold 3: 0.9006727344677482\n"
     ]
    },
    {
     "name": "stderr",
     "output_type": "stream",
     "text": [
      "\u001b[32m[I 2023-10-24 17:22:17,498]\u001b[0m Trial 15 finished with value: 0.9009672834959762 and parameters: {'n_estimators': 75, 'max_depth': 30, 'min_samples_split': 8, 'min_samples_leaf': 3, 'bootstrap': False, 'max_features': 'auto'}. Best is trial 3 with value: 0.9079923448705124.\u001b[0m\n"
     ]
    },
    {
     "name": "stdout",
     "output_type": "stream",
     "text": [
      "Fold 4: 0.8989560764230845\n",
      "Fold 0: 0.9114624505928853\n",
      "Fold 1: 0.9059288537549407\n",
      "Fold 2: 0.9069767441860465\n",
      "Fold 3: 0.9092341012010239\n"
     ]
    },
    {
     "name": "stderr",
     "output_type": "stream",
     "text": [
      "\u001b[32m[I 2023-10-24 17:22:21,631]\u001b[0m Trial 16 finished with value: 0.90766907753616 and parameters: {'n_estimators': 250, 'max_depth': 80, 'min_samples_split': 4, 'min_samples_leaf': 5, 'bootstrap': True, 'max_features': 'sqrt'}. Best is trial 3 with value: 0.9079923448705124.\u001b[0m\n"
     ]
    },
    {
     "name": "stdout",
     "output_type": "stream",
     "text": [
      "Fold 4: 0.9047432379459035\n",
      "Fold 0: 0.9126482213438736\n",
      "Fold 1: 0.9043856183326748\n",
      "Fold 2: 0.904375371213621\n",
      "Fold 3: 0.9100570753788624\n"
     ]
    },
    {
     "name": "stderr",
     "output_type": "stream",
     "text": [
      "\u001b[32m[I 2023-10-24 17:22:23,252]\u001b[0m Trial 17 finished with value: 0.9074120011203421 and parameters: {'n_estimators': 100, 'max_depth': 110, 'min_samples_split': 10, 'min_samples_leaf': 3, 'bootstrap': True, 'max_features': 'auto'}. Best is trial 3 with value: 0.9079923448705124.\u001b[0m\n"
     ]
    },
    {
     "name": "stdout",
     "output_type": "stream",
     "text": [
      "Fold 4: 0.9055937193326792\n",
      "Fold 0: 0.9120125416421713\n",
      "Fold 1: 0.9074474356455099\n",
      "Fold 2: 0.9078792630341043\n",
      "Fold 3: 0.91090659878598\n"
     ]
    },
    {
     "name": "stderr",
     "output_type": "stream",
     "text": [
      "\u001b[32m[I 2023-10-24 17:22:30,550]\u001b[0m Trial 18 finished with value: 0.9087518368260339 and parameters: {'n_estimators': 500, 'max_depth': 10, 'min_samples_split': 10, 'min_samples_leaf': 3, 'bootstrap': True, 'max_features': 'log2'}. Best is trial 18 with value: 0.9087518368260339.\u001b[0m\n"
     ]
    },
    {
     "name": "stdout",
     "output_type": "stream",
     "text": [
      "Fold 4: 0.9055133450224041\n",
      "Fold 0: 0.9124387855044074\n",
      "Fold 1: 0.907840440165062\n",
      "Fold 2: 0.90623774029031\n",
      "Fold 3: 0.9114766940853899\n"
     ]
    },
    {
     "name": "stderr",
     "output_type": "stream",
     "text": [
      "\u001b[32m[I 2023-10-24 17:22:34,214]\u001b[0m Trial 19 finished with value: 0.9085103019350175 and parameters: {'n_estimators': 250, 'max_depth': 10, 'min_samples_split': 8, 'min_samples_leaf': 5, 'bootstrap': True, 'max_features': 'auto'}. Best is trial 18 with value: 0.9087518368260339.\u001b[0m\n"
     ]
    },
    {
     "name": "stdout",
     "output_type": "stream",
     "text": [
      "Fold 4: 0.9045578496299181\n",
      "Fold 0: 0.9122324759473788\n",
      "Fold 1: 0.9065200314218381\n",
      "Fold 2: 0.9059929494712105\n",
      "Fold 3: 0.91090659878598\n"
     ]
    },
    {
     "name": "stderr",
     "output_type": "stream",
     "text": [
      "\u001b[32m[I 2023-10-24 17:22:36,967]\u001b[0m Trial 20 finished with value: 0.9083743183196663 and parameters: {'n_estimators': 175, 'max_depth': 10, 'min_samples_split': 8, 'min_samples_leaf': 1, 'bootstrap': True, 'max_features': 'log2'}. Best is trial 18 with value: 0.9087518368260339.\u001b[0m\n"
     ]
    },
    {
     "name": "stdout",
     "output_type": "stream",
     "text": [
      "Fold 4: 0.9062195359719244\n",
      "Fold 0: 0.911337779521381\n",
      "Fold 1: 0.9080550098231827\n",
      "Fold 2: 0.9066666666666666\n",
      "Fold 3: 0.9112286890064668\n"
     ]
    },
    {
     "name": "stderr",
     "output_type": "stream",
     "text": [
      "\u001b[32m[I 2023-10-24 17:22:38,852]\u001b[0m Trial 21 finished with value: 0.9086235482860507 and parameters: {'n_estimators': 125, 'max_depth': 10, 'min_samples_split': 8, 'min_samples_leaf': 1, 'bootstrap': True, 'max_features': 'sqrt'}. Best is trial 18 with value: 0.9087518368260339.\u001b[0m\n"
     ]
    },
    {
     "name": "stdout",
     "output_type": "stream",
     "text": [
      "Fold 4: 0.9058295964125561\n",
      "Fold 0: 0.9070083478936128\n",
      "Fold 1: 0.9045675413022352\n",
      "Fold 2: 0.9043275761692218\n",
      "Fold 3: 0.9096886482305163\n"
     ]
    },
    {
     "name": "stderr",
     "output_type": "stream",
     "text": [
      "\u001b[32m[I 2023-10-24 17:22:43,771]\u001b[0m Trial 22 finished with value: 0.9051029667685764 and parameters: {'n_estimators': 500, 'max_depth': 5, 'min_samples_split': 2, 'min_samples_leaf': 4, 'bootstrap': False, 'max_features': 'auto'}. Best is trial 18 with value: 0.9087518368260339.\u001b[0m\n"
     ]
    },
    {
     "name": "stdout",
     "output_type": "stream",
     "text": [
      "Fold 4: 0.8999227202472952\n",
      "Fold 0: 0.9038155802861685\n",
      "Fold 1: 0.9014866204162538\n",
      "Fold 2: 0.8997020854021848\n",
      "Fold 3: 0.9025742574257426\n"
     ]
    },
    {
     "name": "stderr",
     "output_type": "stream",
     "text": [
      "\u001b[32m[I 2023-10-24 17:22:45,339]\u001b[0m Trial 23 finished with value: 0.9009020186982021 and parameters: {'n_estimators': 100, 'max_depth': 100, 'min_samples_split': 4, 'min_samples_leaf': 3, 'bootstrap': False, 'max_features': 'log2'}. Best is trial 18 with value: 0.9087518368260339.\u001b[0m\n"
     ]
    },
    {
     "name": "stdout",
     "output_type": "stream",
     "text": [
      "Fold 4: 0.8969315499606609\n",
      "Fold 0: 0.9100633914421553\n",
      "Fold 1: 0.9021932424422052\n",
      "Fold 2: 0.9015421115065243\n",
      "Fold 3: 0.9075862068965517\n"
     ]
    },
    {
     "name": "stderr",
     "output_type": "stream",
     "text": [
      "\u001b[32m[I 2023-10-24 17:22:47,721]\u001b[0m Trial 24 finished with value: 0.9048816233589398 and parameters: {'n_estimators': 150, 'max_depth': 90, 'min_samples_split': 2, 'min_samples_leaf': 3, 'bootstrap': True, 'max_features': 'sqrt'}. Best is trial 18 with value: 0.9087518368260339.\u001b[0m\n"
     ]
    },
    {
     "name": "stdout",
     "output_type": "stream",
     "text": [
      "Fold 4: 0.9030231645072634\n",
      "CPU times: user 15min 34s, sys: 23.1 s, total: 15min 57s\n",
      "Wall time: 1min 27s\n"
     ]
    }
   ],
   "source": [
    "%%time\n",
    "\n",
    "optuna.logging.set_verbosity(optuna.logging.INFO)\n",
    "if GRID_SEARCH:\n",
    "    study = optuna.create_study(study_name='RF Tuning Grid Search', \n",
    "                                direction='maximize',\n",
    "                                sampler=optuna.samplers.GridSampler(search_space))\n",
    "    \n",
    "else:\n",
    "    study = optuna.create_study(study_name='RF Tuning',\n",
    "                                direction='maximize')\n",
    "#Objective is under the functions area\n",
    "\n",
    "#####################################################################\n",
    "#CHANGE HERE FOR DIFFERENT MODELING TYPE\n",
    "#rf_objective or xgb_objective\n",
    "#####################################################################\n",
    "\n",
    "study.optimize(cpu_rf_objective, n_trials=25, timeout=30*600)"
   ]
  },
  {
   "cell_type": "code",
   "execution_count": 42,
   "id": "6602bb0b-7735-4127-a350-a554dcb8a89a",
   "metadata": {},
   "outputs": [
    {
     "name": "stdout",
     "output_type": "stream",
     "text": [
      "908\n"
     ]
    }
   ],
   "source": [
    "trials = study.best_trials            \n",
    "max_trial_score = max([trial.values[0] for trial in trials])\n",
    "max_trial_params = [trial.params for trial in trials \n",
    "                        if trial.values[0] == max_trial_score][0]\n",
    "max_trial_params['n_jobs'] = -1\n",
    "score_print = int(np.round(max_trial_score,4)*1000)\n",
    "print(score_print)"
   ]
  },
  {
   "cell_type": "code",
   "execution_count": null,
   "id": "f66a5d73-83ed-4c20-a9b1-d637d9ac0791",
   "metadata": {},
   "outputs": [],
   "source": [
    "# print(len(X_cluster_land_random),len(X_cluster_water_random),trial_score )"
   ]
  },
  {
   "cell_type": "code",
   "execution_count": 43,
   "id": "1eb27e0f-3ab7-41f8-bda7-2c0e7564578d",
   "metadata": {},
   "outputs": [
    {
     "name": "stdout",
     "output_type": "stream",
     "text": [
      "Using these params:\n",
      "{'n_estimators': 500, 'max_depth': 10, 'min_samples_split': 10, 'min_samples_leaf': 3, 'bootstrap': True, 'max_features': 'log2', 'n_jobs': -1}\n"
     ]
    }
   ],
   "source": [
    "hyperparameters = max_trial_params\n",
    "hyperparameters['n_jobs'] = -1\n",
    "print('Using these params:')\n",
    "print(hyperparameters)\n",
    "tuned_classifier = skRF(**hyperparameters)"
   ]
  },
  {
   "cell_type": "code",
   "execution_count": 44,
   "id": "20dea7c9-7927-4f2c-9b11-8bfa0dd082ac",
   "metadata": {},
   "outputs": [
    {
     "name": "stdout",
     "output_type": "stream",
     "text": [
      "CPU times: user 14.7 s, sys: 412 ms, total: 15.1 s\n",
      "Wall time: 1.37 s\n"
     ]
    },
    {
     "data": {
      "text/html": [
       "<style>#sk-container-id-3 {color: black;background-color: white;}#sk-container-id-3 pre{padding: 0;}#sk-container-id-3 div.sk-toggleable {background-color: white;}#sk-container-id-3 label.sk-toggleable__label {cursor: pointer;display: block;width: 100%;margin-bottom: 0;padding: 0.3em;box-sizing: border-box;text-align: center;}#sk-container-id-3 label.sk-toggleable__label-arrow:before {content: \"▸\";float: left;margin-right: 0.25em;color: #696969;}#sk-container-id-3 label.sk-toggleable__label-arrow:hover:before {color: black;}#sk-container-id-3 div.sk-estimator:hover label.sk-toggleable__label-arrow:before {color: black;}#sk-container-id-3 div.sk-toggleable__content {max-height: 0;max-width: 0;overflow: hidden;text-align: left;background-color: #f0f8ff;}#sk-container-id-3 div.sk-toggleable__content pre {margin: 0.2em;color: black;border-radius: 0.25em;background-color: #f0f8ff;}#sk-container-id-3 input.sk-toggleable__control:checked~div.sk-toggleable__content {max-height: 200px;max-width: 100%;overflow: auto;}#sk-container-id-3 input.sk-toggleable__control:checked~label.sk-toggleable__label-arrow:before {content: \"▾\";}#sk-container-id-3 div.sk-estimator input.sk-toggleable__control:checked~label.sk-toggleable__label {background-color: #d4ebff;}#sk-container-id-3 div.sk-label input.sk-toggleable__control:checked~label.sk-toggleable__label {background-color: #d4ebff;}#sk-container-id-3 input.sk-hidden--visually {border: 0;clip: rect(1px 1px 1px 1px);clip: rect(1px, 1px, 1px, 1px);height: 1px;margin: -1px;overflow: hidden;padding: 0;position: absolute;width: 1px;}#sk-container-id-3 div.sk-estimator {font-family: monospace;background-color: #f0f8ff;border: 1px dotted black;border-radius: 0.25em;box-sizing: border-box;margin-bottom: 0.5em;}#sk-container-id-3 div.sk-estimator:hover {background-color: #d4ebff;}#sk-container-id-3 div.sk-parallel-item::after {content: \"\";width: 100%;border-bottom: 1px solid gray;flex-grow: 1;}#sk-container-id-3 div.sk-label:hover label.sk-toggleable__label {background-color: #d4ebff;}#sk-container-id-3 div.sk-serial::before {content: \"\";position: absolute;border-left: 1px solid gray;box-sizing: border-box;top: 0;bottom: 0;left: 50%;z-index: 0;}#sk-container-id-3 div.sk-serial {display: flex;flex-direction: column;align-items: center;background-color: white;padding-right: 0.2em;padding-left: 0.2em;position: relative;}#sk-container-id-3 div.sk-item {position: relative;z-index: 1;}#sk-container-id-3 div.sk-parallel {display: flex;align-items: stretch;justify-content: center;background-color: white;position: relative;}#sk-container-id-3 div.sk-item::before, #sk-container-id-3 div.sk-parallel-item::before {content: \"\";position: absolute;border-left: 1px solid gray;box-sizing: border-box;top: 0;bottom: 0;left: 50%;z-index: -1;}#sk-container-id-3 div.sk-parallel-item {display: flex;flex-direction: column;z-index: 1;position: relative;background-color: white;}#sk-container-id-3 div.sk-parallel-item:first-child::after {align-self: flex-end;width: 50%;}#sk-container-id-3 div.sk-parallel-item:last-child::after {align-self: flex-start;width: 50%;}#sk-container-id-3 div.sk-parallel-item:only-child::after {width: 0;}#sk-container-id-3 div.sk-dashed-wrapped {border: 1px dashed gray;margin: 0 0.4em 0.5em 0.4em;box-sizing: border-box;padding-bottom: 0.4em;background-color: white;}#sk-container-id-3 div.sk-label label {font-family: monospace;font-weight: bold;display: inline-block;line-height: 1.2em;}#sk-container-id-3 div.sk-label-container {text-align: center;}#sk-container-id-3 div.sk-container {/* jupyter's `normalize.less` sets `[hidden] { display: none; }` but bootstrap.min.css set `[hidden] { display: none !important; }` so we also need the `!important` here to be able to override the default hidden behavior on the sphinx rendered scikit-learn.org. See: https://github.com/scikit-learn/scikit-learn/issues/21755 */display: inline-block !important;position: relative;}#sk-container-id-3 div.sk-text-repr-fallback {display: none;}</style><div id=\"sk-container-id-3\" class=\"sk-top-container\"><div class=\"sk-text-repr-fallback\"><pre>RandomForestClassifier(max_depth=10, max_features=&#x27;log2&#x27;, min_samples_leaf=3,\n",
       "                       min_samples_split=10, n_estimators=500, n_jobs=-1)</pre><b>In a Jupyter environment, please rerun this cell to show the HTML representation or trust the notebook. <br />On GitHub, the HTML representation is unable to render, please try loading this page with nbviewer.org.</b></div><div class=\"sk-container\" hidden><div class=\"sk-item\"><div class=\"sk-estimator sk-toggleable\"><input class=\"sk-toggleable__control sk-hidden--visually\" id=\"sk-estimator-id-3\" type=\"checkbox\" checked><label for=\"sk-estimator-id-3\" class=\"sk-toggleable__label sk-toggleable__label-arrow\">RandomForestClassifier</label><div class=\"sk-toggleable__content\"><pre>RandomForestClassifier(max_depth=10, max_features=&#x27;log2&#x27;, min_samples_leaf=3,\n",
       "                       min_samples_split=10, n_estimators=500, n_jobs=-1)</pre></div></div></div></div></div>"
      ],
      "text/plain": [
       "RandomForestClassifier(max_depth=10, max_features='log2', min_samples_leaf=3,\n",
       "                       min_samples_split=10, n_estimators=500, n_jobs=-1)"
      ]
     },
     "execution_count": 44,
     "metadata": {},
     "output_type": "execute_result"
    }
   ],
   "source": [
    "%%time \n",
    "tuned_classifier.fit(X_match_rfa_random , y_match_rfa_random)"
   ]
  },
  {
   "cell_type": "code",
   "execution_count": 45,
   "id": "29964f62-43bb-453c-9b65-a7526af71bc2",
   "metadata": {},
   "outputs": [
    {
     "name": "stdout",
     "output_type": "stream",
     "text": [
      "rfa_models/MODIS_RFA_v201_EBcluster_MaxScore908_sfcref127ndvi_old.pkl\n"
     ]
    }
   ],
   "source": [
    "import pickle\n",
    "# save the model to disk\n",
    "filename = f'rfa_models/MODIS_RFA_v201_EBcluster_MaxScore{score_print}_sfcref127ndvi_old.pkl'\n",
    "print(filename)\n",
    "pickle.dump(tuned_classifier, open(filename, 'wb'))"
   ]
  },
  {
   "cell_type": "code",
   "execution_count": null,
   "id": "a3220fba-351e-4bc5-9e24-f2af5dcf901b",
   "metadata": {},
   "outputs": [],
   "source": [
    "pickled_model = pickle.load(open('rfa_models/MODIS_RFA_v201_EBCluster_sfcref127ndvi_4.pkl', 'rb'))\n",
    "print(pickled_model)"
   ]
  },
  {
   "cell_type": "code",
   "execution_count": null,
   "id": "3ee12a19-8cf8-472d-ba4d-e269e7356272",
   "metadata": {},
   "outputs": [],
   "source": [
    "# EB1: 0.9121361508267432\n",
    "# EB2: 0.9152120215067565\n",
    "# EB3: 0.9153888116216589\n",
    "# EB4: 0.9334065797136774\n",
    "# EB5: 0.9330483639924072\n",
    "# EB6: 0.9325007563612594\n",
    "# EB7: 13875 12950 0.9330562509477165\n",
    "# EB8: 14220 13272 0.9119937102685194 \n",
    "# EB9: 13875 12950 0.9318627771973583\n",
    "# EB10: 14220 13272 0.9128319097402475\n",
    "\n",
    "# %1: 359648 295422 0.9778067788170863\n",
    "# %2: 359649 295421 0.977828848863204\n",
    "# %3: 359649 295421 0.977814397217147\n",
    "# %4: 359648 295421 0.9777926266177195\n",
    "# %5: 359650 295422 0.9778923365411023\n",
    "# %6: 359843 295233 0.9779668774041262\n",
    "# %7: 359841 295230 0.977761799842581\n",
    "# %8: 359840 296518 0.977231470922011\n",
    "# %9: 359835 295223 0.977650365098458\n",
    "# %10: 359837 295222 0.9778535497660246\n"
   ]
  }
 ],
 "metadata": {
  "kernelspec": {
   "display_name": "ILAB Kernel (TensorFlow)",
   "language": "python",
   "name": "tensorflow-kernel"
  },
  "language_info": {
   "codemirror_mode": {
    "name": "ipython",
    "version": 3
   },
   "file_extension": ".py",
   "mimetype": "text/x-python",
   "name": "python",
   "nbconvert_exporter": "python",
   "pygments_lexer": "ipython3",
   "version": "3.8.16"
  }
 },
 "nbformat": 4,
 "nbformat_minor": 5
}
