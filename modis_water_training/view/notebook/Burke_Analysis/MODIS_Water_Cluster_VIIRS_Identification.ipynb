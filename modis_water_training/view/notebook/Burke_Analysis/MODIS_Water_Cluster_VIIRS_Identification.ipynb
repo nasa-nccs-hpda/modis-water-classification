{
 "cells": [
  {
   "cell_type": "markdown",
   "id": "5b714c30-b71c-43c6-9fe3-9b012a7bfdfe",
   "metadata": {
    "tags": []
   },
   "source": [
    "#  MODIS Water Cluster Identification for VIIRS\n",
    "\n",
    "Date modified: 02.13.2024\n",
    "\n",
    "Modified by: Amanda Burke"
   ]
  },
  {
   "cell_type": "code",
   "execution_count": 1,
   "id": "9ef8ad40-b2c6-4ccc-9a4b-c595bcce20e4",
   "metadata": {},
   "outputs": [],
   "source": [
    "from sklearn.model_selection import train_test_split \n",
    "from sklearn.cluster import KMeans\n",
    "import matplotlib.pyplot as plt\n",
    "import pyarrow.parquet as pq\n",
    "from pathlib import Path\n",
    "import seaborn as sns\n",
    "import pyarrow as pa\n",
    "import pandas as pd\n",
    "import numpy as np\n",
    "import datetime\n",
    "import warnings\n",
    "import joblib\n",
    "import pickle\n",
    "import glob\n",
    "import csv\n",
    "import math \n",
    "import os\n",
    "\n",
    "\n",
    "warnings.filterwarnings('ignore')\n",
    "%matplotlib inline\n"
   ]
  },
  {
   "cell_type": "code",
   "execution_count": 2,
   "id": "169c7a95-24a1-4ceb-9036-27369d259e4c",
   "metadata": {},
   "outputs": [],
   "source": [
    "GPU = False"
   ]
  },
  {
   "cell_type": "code",
   "execution_count": 3,
   "id": "ef09a8be-17ed-40a8-958e-ed66b83929bb",
   "metadata": {},
   "outputs": [],
   "source": [
    "MODEL = 'rf'\n",
    "TEST_RATIO = 0.2\n",
    "RANDOM_STATE = 42\n",
    "LABEL_NAME = 'water'\n",
    "if GPU is False:\n",
    "    DATA_TYPE = np.int16\n",
    "else: \n",
    "    DATA_TYPE = cp.float32\n",
    "FRAC_LAND=0.5\n",
    "num_datapoints = 10000000"
   ]
  },
  {
   "cell_type": "code",
   "execution_count": 4,
   "id": "0bb0fe47-657c-4bdd-b41d-cb8e70068281",
   "metadata": {},
   "outputs": [
    {
     "name": "stdout",
     "output_type": "stream",
     "text": [
      "['/explore/nobackup/projects/ilab/data/MODIS/MODIS_WATER_ML/training_data/v2.0.1/MOD09_GLOBAL_5469777_2_0_1.parquet.gzip']\n",
      "/explore/nobackup/projects/ilab/data/MODIS/MODIS_WATER_ML/training_data/v2.0.1/MOD09_GLOBAL_5469777_2_0_1.parquet.gzip\n"
     ]
    }
   ],
   "source": [
    "# #############################\n",
    "# # VERSION 4.2.1 (targeted 500k points)\n",
    "# TILE_IN = 'Golden'#v4.2.1\n",
    "# DATA_VERSION='v4.2.1'\n",
    "# offsets_indexes = ['x_offset', 'y_offset', 'year', 'julian_day','tileID']\n",
    "# #############################\n",
    "\n",
    "##############################\n",
    "#VERSION 2.0.1 (5 million points)\n",
    "TILE_IN = 'GLOBAL'#v2.0.1\n",
    "DATA_VERSION='v2.0.1'\n",
    "offsets_indexes = ['x_offset', 'y_offset', 'year', 'julian_day']\n",
    "##############################\n",
    "\n",
    "# #############################\n",
    "# #VERSION 0.0.0 (2billion data points)\n",
    "# TILE_IN = 'cleaned'#v0.0.0\n",
    "# DATA_VERSION='AGU'\n",
    "# offsets_indexes = []#'x_offset', 'y_offset', 'year', 'julian_day']\n",
    "# ##############################\n",
    "\n",
    "training_data_basepath = f'/explore/nobackup/projects/ilab/data/MODIS/MODIS_WATER_ML/training_data/{DATA_VERSION}'\n",
    "glob_string = os.path.join(training_data_basepath,'MOD*{}*.parquet.gzip'.format(TILE_IN))\n",
    "data_paths = sorted([fv for fv in glob.glob(glob_string)])\n",
    "\n",
    "#Only want the one with 4.2.0 because the other file doesnt work. \n",
    "print(data_paths)\n",
    "data_path = data_paths[0]\n",
    "print(data_path)"
   ]
  },
  {
   "cell_type": "code",
   "execution_count": 5,
   "id": "6fd27567-2a51-4e94-8d0a-43504a90bed8",
   "metadata": {},
   "outputs": [],
   "source": [
    "def load_cpu_data(fpath, colsToDrop, yCol='water', testSize=0.2, randomState=42, \n",
    "            dataType=np.int16, cpu=True, splitXY=False, trainTestSplit=False,\n",
    "            applyLog=False, imbalance=False, frac=0.1, land=False, multi=False, \n",
    "            multisample=1000000):\n",
    "    \"\"\"\n",
    "    Simple helper function for loading data to be used by models\n",
    "    :param fpath: Path to the data to be ingested.\n",
    "    :param dataType: Data type to convert ingested data to.\n",
    "    :param colsToDrop: Columns which are not necessary, from which to drop.\n",
    "    :param testSize: Ration to\n",
    "    \"\"\"\n",
    "    if multi:\n",
    "        all_dfs = [pd.read_csv(path_) for path_ in fpath]\n",
    "        df = pd.concat(all_dfs).sample(n=multisample, random_state=randomState)\n",
    "        print('DF length: {}'.format(len(df.index)))\n",
    "    else:   \n",
    "        df = pd.read_parquet(fpath) if '.parquet' in fpath else pd.read_csv(fpath)\n",
    "    df = df[df['sur_refl_b01_1'] + df['sur_refl_b02_1'] != 0]\n",
    "    df = df[df['sur_refl_b07_1'] + df['sur_refl_b02_1'] != 0]\n",
    "    df = df[df['sur_refl_b06_1'] + df['sur_refl_b02_1'] != 0]\n",
    "\n",
    "    df = df.drop(columns=colsToDrop)\n",
    "    cleanedDF = df[~df.isin([np.NaN, np.inf, -np.inf]).any(1)].dropna(axis=0).astype(dataType)\n",
    "    if applyLog:\n",
    "        for col in cleanedDF.drop([yCol], axis=1).columns:\n",
    "            print('Applying log1p func to {}'.format(col))\n",
    "            cleanedDF[col] = np.log1p(cleanedDF[col])\n",
    "        cleanedDF = cleanedDF[~cleanedDF.isin([np.NaN, np.inf, -np.inf]).any(1)].dropna(axis=0)\n",
    "    df = None\n",
    "    if imbalance:\n",
    "        if land:\n",
    "            print('Imbalancing data, sampling {} from water'.format(frac))\n",
    "        else:\n",
    "            print(f'Imbalancing data, sampling {frac} from land, {1-frac} from water')\n",
    "        groupedDF = cleanedDF.groupby('water')\n",
    "        dfs = [groupedDF.get_group(y) for y in groupedDF.groups]\n",
    "        sampledDF = dfs[1].sample(frac=frac)if land else dfs[0].sample(frac=frac)\n",
    "        concatDF = sampledDF.append(dfs[0]) if land else sampledDF.append(dfs[1])\n",
    "        concatDF = concatDF.sample(frac=1)\n",
    "        concatDF = concatDF.reset_index()\n",
    "        cleanedDF = concatDF.drop(columns=['index'])\n",
    "    if not splitXY:\n",
    "        return cleanedDF\n",
    "    X = cleanedDF.drop([yCol], axis=1).astype(dataType)\n",
    "    y = cleanedDF[yCol].astype(dataType)\n",
    "    if trainTestSplit:\n",
    "        return train_test_split(X, y, test_size=TEST_RATIO)\n",
    "    else:\n",
    "        return X, y"
   ]
  },
  {
   "cell_type": "code",
   "execution_count": 6,
   "id": "cdee2440-7931-4da3-80e7-f79aefcb15dd",
   "metadata": {},
   "outputs": [],
   "source": [
    "colsToDrop = [\n",
    "    'sur_refl_b03_1','sur_refl_b04_1',\n",
    "    'sur_refl_b05_1','sur_refl_b06_1',\n",
    "    'ndwi1','ndwi2'\n",
    "        ]\n",
    "\n",
    "colsToDropTraining = colsToDrop.copy()\n",
    "colsToDropTraining.extend(offsets_indexes)\n",
    "v_names = ['sur_refl_b01_1','sur_refl_b02_1','sur_refl_b03_1',\n",
    "           'sur_refl_b04_1','sur_refl_b05_1','sur_refl_b06_1',\n",
    "           'sur_refl_b07_1','ndvi','ndwi1','ndwi2']"
   ]
  },
  {
   "cell_type": "markdown",
   "id": "133868b4-66bb-4f85-bcb2-641a79f06e2d",
   "metadata": {
    "tags": []
   },
   "source": [
    "### Input data"
   ]
  },
  {
   "cell_type": "code",
   "execution_count": 7,
   "id": "4b8a3852-14ee-4615-bc7c-871046ca19e9",
   "metadata": {},
   "outputs": [
    {
     "data": {
      "text/plain": [
       "['sur_refl_b03_1',\n",
       " 'sur_refl_b04_1',\n",
       " 'sur_refl_b05_1',\n",
       " 'sur_refl_b06_1',\n",
       " 'ndwi1',\n",
       " 'ndwi2']"
      ]
     },
     "execution_count": 7,
     "metadata": {},
     "output_type": "execute_result"
    }
   ],
   "source": [
    "colsToDrop"
   ]
  },
  {
   "cell_type": "code",
   "execution_count": 8,
   "id": "bb281755-23fe-4789-ba8b-584105111691",
   "metadata": {},
   "outputs": [
    {
     "name": "stdout",
     "output_type": "stream",
     "text": [
      "data shape: (4375821, 4), (4375821,)\n",
      "CPU times: user 3.63 s, sys: 952 ms, total: 4.58 s\n",
      "Wall time: 4.05 s\n"
     ]
    }
   ],
   "source": [
    "%%time\n",
    "load_data_params = {'fpath':data_path,'colsToDrop':colsToDropTraining,'splitXY':True,\n",
    "                    'dataType':DATA_TYPE,'imbalance':False,'trainTestSplit':True}\n",
    "\n",
    "X, X_test, y, y_test = load_cpu_data(**load_data_params)\n",
    "\n",
    "print(f'data shape: {X.shape}, {y.shape}')"
   ]
  },
  {
   "cell_type": "markdown",
   "id": "aeedbf70-0110-4ee4-81ec-afcce883ac05",
   "metadata": {
    "tags": []
   },
   "source": [
    "# Clustering"
   ]
  },
  {
   "cell_type": "code",
   "execution_count": 9,
   "id": "5788ef49-6c9f-4827-825b-8a29a1fbe208",
   "metadata": {},
   "outputs": [
    {
     "name": "stdout",
     "output_type": "stream",
     "text": [
      "data shape: (1976352, 4), (2399469, 4)\n"
     ]
    }
   ],
   "source": [
    "#Getting the indices that are associated with land (0) and water (1)\n",
    "y_water_ind = np.where(y>0.5)[0]\n",
    "y_land_ind = np.where(y<0.5)[0]\n",
    "\n",
    "#Subset the X AND y data to later/ subset with the clusters and then combine for RFA\n",
    "X_water = X.iloc[y_water_ind,:]\n",
    "y_water = y.iloc[y_water_ind]\n",
    "\n",
    "X_land = X.iloc[y_land_ind,:]\n",
    "y_land = y.iloc[y_land_ind]\n",
    "print(f'data shape: {X_water.shape}, {X_land.shape}')"
   ]
  },
  {
   "cell_type": "code",
   "execution_count": 10,
   "id": "0b38dfe2-a25e-4656-a5e8-444addd34398",
   "metadata": {
    "tags": []
   },
   "outputs": [
    {
     "name": "stdout",
     "output_type": "stream",
     "text": [
      "sur_refl_b01_1\n",
      "sur_refl_b02_1\n",
      "sur_refl_b07_1\n",
      "ndvi\n"
     ]
    }
   ],
   "source": [
    "_ = [print(column) for column in X.columns]"
   ]
  },
  {
   "cell_type": "markdown",
   "id": "89fdd11d-a3b3-4733-b95f-f5cb8bd80fc7",
   "metadata": {
    "tags": []
   },
   "source": [
    "## Clustering Data for Input to Random Forest"
   ]
  },
  {
   "cell_type": "markdown",
   "id": "7f0e0854-39fc-409d-82ce-9d340243778b",
   "metadata": {},
   "source": [
    "Based on the cluster analysis above on 5.03.23, 15 clusters appears to have the most data and exclude outliers so will use that number for selection "
   ]
  },
  {
   "cell_type": "code",
   "execution_count": 11,
   "id": "860899fd-59ae-420d-ac0b-a1ad8940f4a6",
   "metadata": {},
   "outputs": [],
   "source": [
    "CLUSTER_NUM=15\n",
    "\n",
    "common_params = {\n",
    "    \"n_init\": \"auto\",\n",
    "    \"random_state\": 42,\n",
    "    \"init\":\"random\"\n",
    "}"
   ]
  },
  {
   "cell_type": "code",
   "execution_count": 12,
   "id": "14fadaa2-f0c0-43d0-8048-de4c7ef01329",
   "metadata": {},
   "outputs": [
    {
     "name": "stdout",
     "output_type": "stream",
     "text": [
      "CPU times: user 206 ms, sys: 127 ms, total: 333 ms\n",
      "Wall time: 238 ms\n"
     ]
    }
   ],
   "source": [
    "%%time\n",
    "if glob.glob('kmeans_land_fit.pkl'):\n",
    "    with open('kmeans_land_fit.pkl', 'rb') as f: kme_land_random = pickle.load(f)\n",
    "else:\n",
    "    kme_land_random = KMeans(n_clusters=CLUSTER_NUM, **common_params).fit(X_land)\n",
    "kmeans_output_land_random = kme_land_random.predict(X_land)"
   ]
  },
  {
   "cell_type": "code",
   "execution_count": 13,
   "id": "08b9ac07-2215-4e65-ab83-e67411dec00a",
   "metadata": {},
   "outputs": [
    {
     "name": "stdout",
     "output_type": "stream",
     "text": [
      "KMeans(init='random', n_clusters=15, n_init='auto', random_state=42)\n",
      "CPU times: user 294 ms, sys: 66.5 ms, total: 360 ms\n",
      "Wall time: 90.9 ms\n"
     ]
    }
   ],
   "source": [
    "%%time\n",
    "if glob.glob('kmeans_water_fit.pkl'):\n",
    "    with open('kmeans_water_fit.pkl', 'rb') as f: kme_water_random = pickle.load(f)\n",
    "    print(kme_water_random)\n",
    "else: \n",
    "    kme_water_random = KMeans(n_clusters=CLUSTER_NUM, **common_params).fit(X_water)\n",
    "kmeans_output_water_random = kme_water_random.predict(X_water)"
   ]
  },
  {
   "cell_type": "markdown",
   "id": "7dbf9549-0236-4f29-a8a3-c1a2d0ab60e4",
   "metadata": {
    "tags": []
   },
   "source": [
    "### Even Balanced Random pulled datapoints"
   ]
  },
  {
   "cell_type": "code",
   "execution_count": 14,
   "id": "42a34ff7-b94d-472b-8e8b-633272252473",
   "metadata": {},
   "outputs": [
    {
     "name": "stdout",
     "output_type": "stream",
     "text": [
      "916 8828\n",
      "916 916 8828\n"
     ]
    }
   ],
   "source": [
    "COUNT_EVEN_BALANCE_LAND = np.inf\n",
    "COUNT_EVEN_BALANCE_WATER = np.inf\n",
    "for cluster in np.unique(kmeans_output_water_random):\n",
    "    land_num = len(np.where(kmeans_output_land_random == cluster)[0])\n",
    "    water_num = len(np.where(kmeans_output_water_random == cluster)[0])\n",
    "    if land_num < COUNT_EVEN_BALANCE_LAND: COUNT_EVEN_BALANCE_LAND = land_num\n",
    "    if water_num < COUNT_EVEN_BALANCE_WATER: COUNT_EVEN_BALANCE_WATER = water_num\n",
    "    \n",
    "print(COUNT_EVEN_BALANCE_LAND, COUNT_EVEN_BALANCE_WATER)\n",
    "if COUNT_EVEN_BALANCE_LAND < COUNT_EVEN_BALANCE_WATER:\n",
    "    COUNT = COUNT_EVEN_BALANCE_LAND\n",
    "else: \n",
    "    COUNT = COUNT_EVEN_BALANCE_WATER\n",
    "print(COUNT,COUNT_EVEN_BALANCE_LAND,COUNT_EVEN_BALANCE_WATER)"
   ]
  },
  {
   "cell_type": "code",
   "execution_count": 19,
   "id": "660e6139-cb3b-4595-9469-215a1252db02",
   "metadata": {},
   "outputs": [
    {
     "name": "stdout",
     "output_type": "stream",
     "text": [
      "cluster 0\n",
      "cluster 1\n",
      "cluster 2\n",
      "cluster 3\n",
      "cluster 4\n",
      "cluster 5\n",
      "cluster 6\n",
      "Cluster 6 contains outliers\n",
      "cluster 7\n",
      "cluster 8\n",
      "cluster 9\n",
      "cluster 10\n",
      "cluster 11\n",
      "cluster 12\n",
      "cluster 13\n",
      "cluster 14\n",
      "(12824,) (12824,)\n"
     ]
    }
   ],
   "source": [
    "# np.random.seed(42)\n",
    "random_ind_land = np.array([])\n",
    "random_ind_water = []\n",
    "\n",
    "for cluster in np.unique(kmeans_output_water_random):\n",
    "    print(f'cluster {cluster}')\n",
    "    cluster_ind_water = np.where(kmeans_output_water_random == cluster)[0]\n",
    "    random_pts_water = np.random.choice(cluster_ind_water,COUNT,replace=False)\n",
    "    max_X_random_water = np.nanmax(X_water['sur_refl_b01_1'].iloc[random_pts_water])\n",
    "    if max_X_random_water < 10000:\n",
    "        random_ind_water = np.append(random_ind_water, random_pts_water)\n",
    "    else: \n",
    "        print(f'Cluster {cluster} contains outliers')\n",
    "        continue\n",
    "    cluster_ind_land = np.where(kmeans_output_land_random == cluster)[0]\n",
    "    random_pts_land = np.random.choice(cluster_ind_land,COUNT,replace=False)\n",
    "    random_ind_land = np.append(random_ind_land, random_pts_land)\n",
    "\n",
    "random_ind_water = random_ind_water.astype('int')\n",
    "random_ind_land = random_ind_land.astype('int')\n",
    "\n",
    "print(np.shape(random_ind_water),np.shape(random_ind_land))"
   ]
  },
  {
   "cell_type": "markdown",
   "id": "61637e1f-2741-4bf4-9745-c6a2e521d16a",
   "metadata": {},
   "source": [
    "## Getting Meta data of clusters"
   ]
  },
  {
   "cell_type": "code",
   "execution_count": 20,
   "id": "3e230982-aa17-48ae-ac01-963766ac0309",
   "metadata": {
    "tags": []
   },
   "outputs": [
    {
     "name": "stdout",
     "output_type": "stream",
     "text": [
      "data shape: (4375821, 14), (4375821,)\n",
      "CPU times: user 9.13 s, sys: 2.7 s, total: 11.8 s\n",
      "Wall time: 11.1 s\n"
     ]
    }
   ],
   "source": [
    "%%time\n",
    "# This set of parameters has the date/lat lon encoded \n",
    "#Caleb needs all spectral values so that he can search for the tileid\n",
    "\n",
    "load_data_params = {'fpath':data_path,'colsToDrop':[],'splitXY':True,\n",
    "                    'imbalance':False,'trainTestSplit':True}\n",
    "\n",
    "X_meta,ds X_meta_test, y_meta, y_meta_test = load_cpu_data(**load_data_params)\n",
    "\n",
    "print(f'data shape: {X_meta.shape}, {y_meta.shape}')"
   ]
  },
  {
   "cell_type": "code",
   "execution_count": 21,
   "id": "50fbcb51-f38b-4d00-9063-9f8d847d28fc",
   "metadata": {},
   "outputs": [],
   "source": [
    "total_cluster_inds = np.concatenate([random_ind_water,random_ind_land])\n",
    "cluster_meta_data = X_meta.iloc[total_cluster_inds]\n",
    "# cluster_meta_data = X_meta.iloc[total_cluster_inds,4:]\n",
    "# viirs_final_year_meta = cluster_meta_data.copy()\n",
    "# before_viirs_launch_inds = cluster_meta_data.loc[cluster_meta_data['year'] <= 2012.0].index\n",
    "# for i in before_viirs_launch_inds:\n",
    "#     viirs_final_year_meta['year'][i] = np.random.choice(np.arange(2013.0,2024.0,1.0))\n",
    "# viirs_final_year_meta.loc[viirs_final_year_meta['year'] >= 2012.0]"
   ]
  },
  {
   "cell_type": "markdown",
   "id": "93e49803-511e-4147-9f98-13cf8cf350db",
   "metadata": {},
   "source": [
    "Output the VIIRS meta data to parquet file"
   ]
  },
  {
   "cell_type": "code",
   "execution_count": 22,
   "id": "ecdd3740-5023-4593-ace1-1783d2f29a4d",
   "metadata": {},
   "outputs": [],
   "source": [
    "# table = pa.Table.from_pandas(viirs_final_year_meta)\n",
    "table = pa.Table.from_pandas(cluster_meta_data)"
   ]
  },
  {
   "cell_type": "code",
   "execution_count": 24,
   "id": "e4031270-947e-4d7b-9212-e9fec879f8a7",
   "metadata": {},
   "outputs": [],
   "source": [
    "# pq.write_table(table, 'location_date_MW_to_VIIRS_subset.parquet')\n",
    "pq.write_table(table, 'MW_to_VIIRS_info_all_vars.parquet')"
   ]
  },
  {
   "cell_type": "code",
   "execution_count": 25,
   "id": "8c29e4c2-1787-4a02-9bf5-b0db500b936c",
   "metadata": {},
   "outputs": [
    {
     "data": {
      "text/html": [
       "<div>\n",
       "<style scoped>\n",
       "    .dataframe tbody tr th:only-of-type {\n",
       "        vertical-align: middle;\n",
       "    }\n",
       "\n",
       "    .dataframe tbody tr th {\n",
       "        vertical-align: top;\n",
       "    }\n",
       "\n",
       "    .dataframe thead th {\n",
       "        text-align: right;\n",
       "    }\n",
       "</style>\n",
       "<table border=\"1\" class=\"dataframe\">\n",
       "  <thead>\n",
       "    <tr style=\"text-align: right;\">\n",
       "      <th></th>\n",
       "      <th>sur_refl_b01_1</th>\n",
       "      <th>sur_refl_b02_1</th>\n",
       "      <th>sur_refl_b03_1</th>\n",
       "      <th>sur_refl_b04_1</th>\n",
       "      <th>sur_refl_b05_1</th>\n",
       "      <th>sur_refl_b06_1</th>\n",
       "      <th>sur_refl_b07_1</th>\n",
       "      <th>ndvi</th>\n",
       "      <th>ndwi1</th>\n",
       "      <th>ndwi2</th>\n",
       "      <th>x_offset</th>\n",
       "      <th>y_offset</th>\n",
       "      <th>year</th>\n",
       "      <th>julian_day</th>\n",
       "    </tr>\n",
       "  </thead>\n",
       "  <tbody>\n",
       "    <tr>\n",
       "      <th>4585632</th>\n",
       "      <td>700</td>\n",
       "      <td>250</td>\n",
       "      <td>336</td>\n",
       "      <td>547</td>\n",
       "      <td>393</td>\n",
       "      <td>243</td>\n",
       "      <td>114</td>\n",
       "      <td>-4736</td>\n",
       "      <td>141</td>\n",
       "      <td>3736</td>\n",
       "      <td>1121</td>\n",
       "      <td>2560</td>\n",
       "      <td>2006</td>\n",
       "      <td>175</td>\n",
       "    </tr>\n",
       "    <tr>\n",
       "      <th>5145931</th>\n",
       "      <td>48</td>\n",
       "      <td>-2</td>\n",
       "      <td>304</td>\n",
       "      <td>162</td>\n",
       "      <td>39</td>\n",
       "      <td>45</td>\n",
       "      <td>23</td>\n",
       "      <td>-10869</td>\n",
       "      <td>-10930</td>\n",
       "      <td>-11904</td>\n",
       "      <td>4760</td>\n",
       "      <td>1729</td>\n",
       "      <td>2001</td>\n",
       "      <td>214</td>\n",
       "    </tr>\n",
       "    <tr>\n",
       "      <th>4442551</th>\n",
       "      <td>-8</td>\n",
       "      <td>-21</td>\n",
       "      <td>114</td>\n",
       "      <td>69</td>\n",
       "      <td>38</td>\n",
       "      <td>104</td>\n",
       "      <td>52</td>\n",
       "      <td>4482</td>\n",
       "      <td>-15060</td>\n",
       "      <td>-23548</td>\n",
       "      <td>1709</td>\n",
       "      <td>17</td>\n",
       "      <td>2006</td>\n",
       "      <td>240</td>\n",
       "    </tr>\n",
       "    <tr>\n",
       "      <th>4551103</th>\n",
       "      <td>683</td>\n",
       "      <td>3204</td>\n",
       "      <td>265</td>\n",
       "      <td>630</td>\n",
       "      <td>3496</td>\n",
       "      <td>2062</td>\n",
       "      <td>930</td>\n",
       "      <td>6485</td>\n",
       "      <td>2168</td>\n",
       "      <td>5500</td>\n",
       "      <td>3002</td>\n",
       "      <td>2756</td>\n",
       "      <td>2006</td>\n",
       "      <td>180</td>\n",
       "    </tr>\n",
       "    <tr>\n",
       "      <th>2673895</th>\n",
       "      <td>385</td>\n",
       "      <td>2482</td>\n",
       "      <td>176</td>\n",
       "      <td>458</td>\n",
       "      <td>2413</td>\n",
       "      <td>1350</td>\n",
       "      <td>563</td>\n",
       "      <td>7314</td>\n",
       "      <td>2954</td>\n",
       "      <td>6302</td>\n",
       "      <td>934</td>\n",
       "      <td>3890</td>\n",
       "      <td>2020</td>\n",
       "      <td>167</td>\n",
       "    </tr>\n",
       "    <tr>\n",
       "      <th>...</th>\n",
       "      <td>...</td>\n",
       "      <td>...</td>\n",
       "      <td>...</td>\n",
       "      <td>...</td>\n",
       "      <td>...</td>\n",
       "      <td>...</td>\n",
       "      <td>...</td>\n",
       "      <td>...</td>\n",
       "      <td>...</td>\n",
       "      <td>...</td>\n",
       "      <td>...</td>\n",
       "      <td>...</td>\n",
       "      <td>...</td>\n",
       "      <td>...</td>\n",
       "    </tr>\n",
       "    <tr>\n",
       "      <th>5386092</th>\n",
       "      <td>341</td>\n",
       "      <td>4359</td>\n",
       "      <td>554</td>\n",
       "      <td>862</td>\n",
       "      <td>4188</td>\n",
       "      <td>2336</td>\n",
       "      <td>891</td>\n",
       "      <td>8548</td>\n",
       "      <td>3021</td>\n",
       "      <td>6605</td>\n",
       "      <td>717</td>\n",
       "      <td>3162</td>\n",
       "      <td>2001</td>\n",
       "      <td>309</td>\n",
       "    </tr>\n",
       "    <tr>\n",
       "      <th>2765989</th>\n",
       "      <td>-20</td>\n",
       "      <td>-5</td>\n",
       "      <td>58</td>\n",
       "      <td>-18</td>\n",
       "      <td>-11</td>\n",
       "      <td>29</td>\n",
       "      <td>7</td>\n",
       "      <td>-6000</td>\n",
       "      <td>-14166</td>\n",
       "      <td>5536</td>\n",
       "      <td>4743</td>\n",
       "      <td>3123</td>\n",
       "      <td>2006</td>\n",
       "      <td>202</td>\n",
       "    </tr>\n",
       "    <tr>\n",
       "      <th>3650157</th>\n",
       "      <td>32</td>\n",
       "      <td>-4</td>\n",
       "      <td>257</td>\n",
       "      <td>156</td>\n",
       "      <td>-7</td>\n",
       "      <td>46</td>\n",
       "      <td>3</td>\n",
       "      <td>-12857</td>\n",
       "      <td>-11904</td>\n",
       "      <td>4464</td>\n",
       "      <td>1607</td>\n",
       "      <td>2676</td>\n",
       "      <td>2001</td>\n",
       "      <td>201</td>\n",
       "    </tr>\n",
       "    <tr>\n",
       "      <th>2069344</th>\n",
       "      <td>-100</td>\n",
       "      <td>-97</td>\n",
       "      <td>-100</td>\n",
       "      <td>-100</td>\n",
       "      <td>218</td>\n",
       "      <td>970</td>\n",
       "      <td>822</td>\n",
       "      <td>-152</td>\n",
       "      <td>-12222</td>\n",
       "      <td>-12675</td>\n",
       "      <td>1401</td>\n",
       "      <td>1834</td>\n",
       "      <td>2006</td>\n",
       "      <td>76</td>\n",
       "    </tr>\n",
       "    <tr>\n",
       "      <th>604101</th>\n",
       "      <td>723</td>\n",
       "      <td>3073</td>\n",
       "      <td>210</td>\n",
       "      <td>604</td>\n",
       "      <td>3331</td>\n",
       "      <td>2391</td>\n",
       "      <td>1049</td>\n",
       "      <td>6190</td>\n",
       "      <td>1248</td>\n",
       "      <td>4910</td>\n",
       "      <td>4602</td>\n",
       "      <td>3215</td>\n",
       "      <td>2001</td>\n",
       "      <td>188</td>\n",
       "    </tr>\n",
       "  </tbody>\n",
       "</table>\n",
       "<p>25648 rows × 14 columns</p>\n",
       "</div>"
      ],
      "text/plain": [
       "         sur_refl_b01_1  sur_refl_b02_1  sur_refl_b03_1  sur_refl_b04_1  \\\n",
       "4585632             700             250             336             547   \n",
       "5145931              48              -2             304             162   \n",
       "4442551              -8             -21             114              69   \n",
       "4551103             683            3204             265             630   \n",
       "2673895             385            2482             176             458   \n",
       "...                 ...             ...             ...             ...   \n",
       "5386092             341            4359             554             862   \n",
       "2765989             -20              -5              58             -18   \n",
       "3650157              32              -4             257             156   \n",
       "2069344            -100             -97            -100            -100   \n",
       "604101              723            3073             210             604   \n",
       "\n",
       "         sur_refl_b05_1  sur_refl_b06_1  sur_refl_b07_1   ndvi  ndwi1  ndwi2  \\\n",
       "4585632             393             243             114  -4736    141   3736   \n",
       "5145931              39              45              23 -10869 -10930 -11904   \n",
       "4442551              38             104              52   4482 -15060 -23548   \n",
       "4551103            3496            2062             930   6485   2168   5500   \n",
       "2673895            2413            1350             563   7314   2954   6302   \n",
       "...                 ...             ...             ...    ...    ...    ...   \n",
       "5386092            4188            2336             891   8548   3021   6605   \n",
       "2765989             -11              29               7  -6000 -14166   5536   \n",
       "3650157              -7              46               3 -12857 -11904   4464   \n",
       "2069344             218             970             822   -152 -12222 -12675   \n",
       "604101             3331            2391            1049   6190   1248   4910   \n",
       "\n",
       "         x_offset  y_offset  year  julian_day  \n",
       "4585632      1121      2560  2006         175  \n",
       "5145931      4760      1729  2001         214  \n",
       "4442551      1709        17  2006         240  \n",
       "4551103      3002      2756  2006         180  \n",
       "2673895       934      3890  2020         167  \n",
       "...           ...       ...   ...         ...  \n",
       "5386092       717      3162  2001         309  \n",
       "2765989      4743      3123  2006         202  \n",
       "3650157      1607      2676  2001         201  \n",
       "2069344      1401      1834  2006          76  \n",
       "604101       4602      3215  2001         188  \n",
       "\n",
       "[25648 rows x 14 columns]"
      ]
     },
     "execution_count": 25,
     "metadata": {},
     "output_type": "execute_result"
    }
   ],
   "source": [
    "table2 = pq.read_table('MW_to_VIIRS_info_all_vars.parquet')\n",
    "table2.to_pandas()"
   ]
  },
  {
   "cell_type": "code",
   "execution_count": null,
   "id": "4209e5d9-7529-4d57-b74f-a4d69bbe2b89",
   "metadata": {},
   "outputs": [],
   "source": []
  },
  {
   "cell_type": "code",
   "execution_count": null,
   "id": "3ee12a19-8cf8-472d-ba4d-e269e7356272",
   "metadata": {},
   "outputs": [],
   "source": []
  }
 ],
 "metadata": {
  "kernelspec": {
   "display_name": "ILAB Kernel (TensorFlow)",
   "language": "python",
   "name": "tensorflow-kernel"
  },
  "language_info": {
   "codemirror_mode": {
    "name": "ipython",
    "version": 3
   },
   "file_extension": ".py",
   "mimetype": "text/x-python",
   "name": "python",
   "nbconvert_exporter": "python",
   "pygments_lexer": "ipython3",
   "version": "3.8.16"
  }
 },
 "nbformat": 4,
 "nbformat_minor": 5
}
