{
 "cells": [
  {
   "cell_type": "markdown",
   "id": "5b714c30-b71c-43c6-9fe3-9b012a7bfdfe",
   "metadata": {
    "tags": []
   },
   "source": [
    "#  MODIS Water Clustering Analysis\n",
    "\n",
    "Version: 0.1.0\n",
    "\n",
    "Date modified: 05.01.2023\n",
    "\n",
    "Modified by: Amanda Burke"
   ]
  },
  {
   "cell_type": "code",
   "execution_count": 1,
   "id": "9ef8ad40-b2c6-4ccc-9a4b-c595bcce20e4",
   "metadata": {},
   "outputs": [],
   "source": [
    "import csv\n",
    "import datetime\n",
    "import glob\n",
    "import joblib\n",
    "import numpy as np\n",
    "import os\n",
    "import pandas as pd\n",
    "from pathlib import Path   \n",
    "from sklearn.cluster import KMeans\n",
    "from sklearn.cluster import Birch\n",
    "from sklearn.cluster import SpectralClustering\n",
    "from sklearn.model_selection import train_test_split \n",
    "\n",
    "# Visualization\n",
    "import seaborn as sns\n",
    "import matplotlib.pyplot as plt\n",
    "import warnings\n",
    "\n",
    "\n",
    "plt.style.use('fivethirtyeight')\n",
    "warnings.filterwarnings('ignore')\n",
    "%matplotlib inline"
   ]
  },
  {
   "cell_type": "code",
   "execution_count": 2,
   "id": "ef09a8be-17ed-40a8-958e-ed66b83929bb",
   "metadata": {},
   "outputs": [],
   "source": [
    "GPU = True\n",
    "MODEL = 'rf'\n",
    "TEST_RATIO = 0.2\n",
    "RANDOM_STATE = 42\n",
    "LABEL_NAME = 'water'\n",
    "DATA_TYPE = np.int16\n",
    "FRAC_LAND=0.5\n",
    "num_datapoints = 10000000"
   ]
  },
  {
   "cell_type": "code",
   "execution_count": 3,
   "id": "0bb0fe47-657c-4bdd-b41d-cb8e70068281",
   "metadata": {},
   "outputs": [
    {
     "name": "stdout",
     "output_type": "stream",
     "text": [
      "['/explore/nobackup/projects/ilab/data/MODIS/MODIS_WATER_ML/training_data/v2.0.1/MOD09_GLOBAL_5469777_2_0_1.parquet.gzip']\n",
      "/explore/nobackup/projects/ilab/data/MODIS/MODIS_WATER_ML/training_data/v2.0.1/MOD09_GLOBAL_5469777_2_0_1.parquet.gzip\n"
     ]
    }
   ],
   "source": [
    "# #############################\n",
    "# # VERSION 4.2.1 (targeted 500k points)\n",
    "# TILE_IN = 'Golden'#v4.2.1\n",
    "# DATA_VERSION='v4.2.1'\n",
    "# offsets_indexes = ['x_offset', 'y_offset', 'year', 'julian_day','tileID']\n",
    "# #############################\n",
    "\n",
    "##############################\n",
    "#VERSION 2.0.1 (5 million points)\n",
    "TILE_IN = 'GLOBAL'#v2.0.1\n",
    "DATA_VERSION='v2.0.1'\n",
    "offsets_indexes = ['x_offset', 'y_offset', 'year', 'julian_day']\n",
    "##############################\n",
    "\n",
    "# #############################\n",
    "# #VERSION 0.0.0 (2billion data points)\n",
    "# TILE_IN = 'cleaned'#v2.0.1\n",
    "# DATA_VERSION='AGU'\n",
    "# offsets_indexes = []#'x_offset', 'y_offset', 'year', 'julian_day']\n",
    "# ##############################\n",
    "\n",
    "training_data_basepath = f'/explore/nobackup/projects/ilab/data/MODIS/MODIS_WATER_ML/training_data/{DATA_VERSION}'\n",
    "glob_string = os.path.join(training_data_basepath,'MOD*{}*.parquet.gzip'.format(TILE_IN))\n",
    "data_paths = sorted([fv for fv in glob.glob(glob_string)])\n",
    "\n",
    "#Only want the one with 4.2.0 because the other file doesnt work. \n",
    "print(data_paths)\n",
    "data_path = data_paths[0]\n",
    "print(data_path)"
   ]
  },
  {
   "cell_type": "markdown",
   "id": "3e4a8c58-56ae-4a3a-a997-3669c7699b84",
   "metadata": {
    "tags": []
   },
   "source": [
    "## Data Preprocessing Functions"
   ]
  },
  {
   "cell_type": "code",
   "execution_count": 4,
   "id": "6fd27567-2a51-4e94-8d0a-43504a90bed8",
   "metadata": {},
   "outputs": [],
   "source": [
    "def load_data(fpath, colsToDrop, yCol='water', testSize=0.2, randomState=42, \n",
    "              dataType=np.float32, cpu=True, splitXY=False, trainTestSplit=False,\n",
    "             applyLog=False, imbalance=False, frac=0.1, land=False, multi=False, \n",
    "              multisample=1000000):\n",
    "    \"\"\"\n",
    "    Simple helper function for loading data to be used by models\n",
    "    :param fpath: Path to the data to be ingested.\n",
    "    :param dataType: Data type to convert ingested data to.\n",
    "    :param colsToDrop: Columns which are not necessary, from which to drop.\n",
    "    :param testSize: Ration to\n",
    "    \"\"\"\n",
    "    if multi:\n",
    "        all_dfs = [pd.read_csv(path_) for path_ in fpath]\n",
    "        df = pd.concat(all_dfs).sample(n=multisample, random_state=randomState)\n",
    "        print('DF length: {}'.format(len(df.index)))\n",
    "    else:   \n",
    "        df = pd.read_parquet(fpath) if '.parquet' in fpath else pd.read_csv(fpath)\n",
    "    df = df[df['sur_refl_b01_1'] + df['sur_refl_b02_1'] != 0]\n",
    "    df = df[df['sur_refl_b07_1'] + df['sur_refl_b02_1'] != 0]\n",
    "    df = df[df['sur_refl_b06_1'] + df['sur_refl_b02_1'] != 0]\n",
    "\n",
    "    df = df.drop(columns=colsToDrop)\n",
    "    cleanedDF = df[~df.isin([np.NaN, np.inf, -np.inf]).any(1)].dropna(axis=0).astype(dataType)\n",
    "    if applyLog:\n",
    "        for col in cleanedDF.drop([yCol], axis=1).columns:\n",
    "            print('Applying log1p func to {}'.format(col))\n",
    "            cleanedDF[col] = np.log1p(cleanedDF[col])\n",
    "        cleanedDF = cleanedDF[~cleanedDF.isin([np.NaN, np.inf, -np.inf]).any(1)].dropna(axis=0)\n",
    "    df = None\n",
    "    if imbalance:\n",
    "        if land:\n",
    "            print('Imbalancing data, sampling {} from water'.format(frac))\n",
    "        else:\n",
    "            print(f'Imbalancing data, sampling {frac} from land, {1-frac} from water')\n",
    "        groupedDF = cleanedDF.groupby('water')\n",
    "        dfs = [groupedDF.get_group(y) for y in groupedDF.groups]\n",
    "        sampledDF = dfs[1].sample(frac=frac)if land else dfs[0].sample(frac=frac)\n",
    "        concatDF = sampledDF.append(dfs[0]) if land else sampledDF.append(dfs[1])\n",
    "        concatDF = concatDF.sample(frac=1)\n",
    "        concatDF = concatDF.reset_index()\n",
    "        cleanedDF = concatDF.drop(columns=['index'])\n",
    "    if not splitXY:\n",
    "        return cleanedDF\n",
    "    X = cleanedDF.drop([yCol], axis=1).astype(dataType)\n",
    "    y = cleanedDF[yCol].astype(dataType)\n",
    "    if trainTestSplit:\n",
    "        return train_test_split(X, y, test_size=TEST_RATIO)\n",
    "    else:\n",
    "        return X, y"
   ]
  },
  {
   "cell_type": "code",
   "execution_count": 7,
   "id": "6038d2c7-c034-4689-9550-7cbb5128adac",
   "metadata": {},
   "outputs": [],
   "source": [
    "\n",
    "def plotting_clusters(X_w,X_l,cluster_output_w,cluster_output_l,\n",
    "                      n_cluster,kme_w=None,kme_l=None):\n",
    "    fig = plt.figure(figsize = (25, 10))\n",
    "\n",
    "    plt.suptitle(f'Kmeans Clustering {DATA_VERSION} Data, {n_cluster} Clusters')\n",
    "\n",
    "    ax1 = plt.subplot(131)\n",
    "    ax1.set_title(f'Land and Water Datapoints')\n",
    "    ax1.scatter(X_w.values[:,0], X_w.values[:,1],label='Water')\n",
    "    ax1.scatter(X_l.values[:,0], X_l.values[:,1],label='Land')\n",
    "    ax1.tick_params(axis='both', which='major', labelsize=10)\n",
    "    ax1.tick_params(axis='both', which='minor', labelsize=10)\n",
    "    ax1.set_xlabel(X_w.columns[0])\n",
    "    ax1.set_ylabel(X_w.columns[1])\n",
    "    ax1.legend(loc='lower right',fontsize=\"20\")\n",
    "\n",
    "    ax2 = plt.subplot(132)\n",
    "    ax2.set_title(f'Water Datapoints Clustered: {len(X_water)} Examples')\n",
    "    ax2.scatter(X_w.values[:,0], X_w.values[:,1],c=cluster_output_w,cmap='tab10')\n",
    "    if kme_w is not None:\n",
    "        ax2.scatter(kme_w.cluster_centers_[:,0],kme_w.cluster_centers_[:,1],\n",
    "            label='Center Point',c='k',s=150)\n",
    "        ax2.legend(loc='lower right',fontsize=\"20\")\n",
    "    ax2.tick_params(axis='both', which='major', labelsize=10)\n",
    "    ax2.tick_params(axis='both', which='minor', labelsize=10)\n",
    "    ax2.set_xlabel(X_w.columns[0])\n",
    "    ax2.set_ylabel(X_w.columns[1])\n",
    "    \n",
    "\n",
    "    ax3 = plt.subplot(133)\n",
    " \n",
    "    ax3.set_title(f'Land Datapoints Clustered: {len(X_land)} Examples')\n",
    "    ax3.scatter(X_l.values[:,0], X_l.values[:,1],c=cluster_output_l,cmap='tab10')\n",
    "    if kme_l is not None:\n",
    "        ax3.scatter(kme_l.cluster_centers_[:,0],kme_l.cluster_centers_[:,1],\n",
    "                    label='Center Point',c='k',s=150)\n",
    "        ax3.legend(loc='lower right',fontsize=\"20\")\n",
    "    ax3.tick_params(axis='both', which='major', labelsize=10)\n",
    "    ax3.tick_params(axis='both', which='minor', labelsize=10)\n",
    "    ax3.set_xlabel(X_l.columns[0])\n",
    "    ax3.set_ylabel(X_l.columns[1])\n",
    "   \n",
    "\n",
    "    plt.show()"
   ]
  },
  {
   "cell_type": "code",
   "execution_count": 8,
   "id": "cb90c9ed-b3f9-4c25-adeb-1943d3973a74",
   "metadata": {},
   "outputs": [],
   "source": [
    "\n",
    "def plotting_3d(X_w,X_l,n_cluster):\n",
    "    fig = plt.figure(figsize = (15, 7))\n",
    "\n",
    "    plt.suptitle(f'Kmeans Clustering {DATA_VERSION} Data, {n_cluster} Clusters')\n",
    "    ax = plt.subplot(111,projection='3d')\n",
    "    ax.set_title(f'Land and Water Datapoints')\n",
    "    ax.scatter(X_w.values[:,0], X_w.values[:,1], X_w.values[:,2],label='Water')\n",
    "    ax.scatter(X_l.values[:,0], X_l.values[:,1],  X_l.values[:,2], label='Land')\n",
    "    ax.tick_params(axis='both', which='major', labelsize=10)\n",
    "    ax.set_xlabel(X_w.columns[0])\n",
    "    ax.set_ylabel(X_w.columns[1])\n",
    "    ax.set_zlabel(X_w.columns[2])\n",
    "    ax.legend(fontsize=\"10\")\n",
    "    plt.show()\n",
    "    \n",
    "    \n",
    "def plotting_clusters_3d(X,kme,kmeans_output,n_cluster,axtitle):\n",
    "    fig = plt.figure(figsize = (15, 7))\n",
    "\n",
    "    plt.suptitle(f'Kmeans Clustering {DATA_VERSION} Data, {n_cluster} Clusters')\n",
    "    ax = plt.subplot(111,projection='3d')\n",
    "    ax.set_title(f'{axtitle}')#Land Datapoints Clustered: {len(X_land)} Examples')\n",
    "    ax.scatter(X.values[:,0], X.values[:,1], X.values[:,2], c=kmeans_output,cmap='tab10')\n",
    "    # ax.scatter(kme.cluster_centers_[:,0],kme.cluster_centers_[:,1],kme.cluster_centers_[:,2],\n",
    "                    # label='Center Point',c='k',s=150)\n",
    "    ax.tick_params(axis='both', which='major', labelsize=10)\n",
    "    ax.set_xlabel(X.columns[0])\n",
    "    ax.set_ylabel(X.columns[1])\n",
    "    ax.set_zlabel(X.columns[2])\n",
    "    ax.legend(fontsize=\"10\")\n",
    "    plt.show()"
   ]
  },
  {
   "cell_type": "code",
   "execution_count": 5,
   "id": "cdee2440-7931-4da3-80e7-f79aefcb15dd",
   "metadata": {},
   "outputs": [],
   "source": [
    "colsToDrop = [\n",
    "            #'sur_refl_b01_1',\n",
    "            # 'sur_refl_b02_1',\n",
    "             'sur_refl_b03_1',\n",
    "             'sur_refl_b04_1','sur_refl_b05_1','sur_refl_b06_1',\n",
    "            # 'sur_refl_b07_1',\n",
    "             # 'ndvi',\n",
    "             'ndwi1','ndwi2'\n",
    "            ]\n",
    "\n",
    "colsToDropTraining = colsToDrop.copy()\n",
    "colsToDropTraining.extend(offsets_indexes)\n",
    "v_names = ['sur_refl_b01_1','sur_refl_b02_1','sur_refl_b03_1',\n",
    "           'sur_refl_b04_1','sur_refl_b05_1','sur_refl_b06_1',\n",
    "           'sur_refl_b07_1','ndvi','ndwi1','ndwi2']"
   ]
  },
  {
   "cell_type": "markdown",
   "id": "133868b4-66bb-4f85-bcb2-641a79f06e2d",
   "metadata": {
    "tags": []
   },
   "source": [
    "## Input data"
   ]
  },
  {
   "cell_type": "code",
   "execution_count": 6,
   "id": "4b8a3852-14ee-4615-bc7c-871046ca19e9",
   "metadata": {},
   "outputs": [
    {
     "data": {
      "text/plain": [
       "['sur_refl_b03_1',\n",
       " 'sur_refl_b04_1',\n",
       " 'sur_refl_b05_1',\n",
       " 'sur_refl_b06_1',\n",
       " 'ndwi1',\n",
       " 'ndwi2']"
      ]
     },
     "execution_count": 6,
     "metadata": {},
     "output_type": "execute_result"
    }
   ],
   "source": [
    "colsToDrop"
   ]
  },
  {
   "cell_type": "code",
   "execution_count": 7,
   "id": "e220555c-2fa6-494a-9d84-235ae26c50fa",
   "metadata": {},
   "outputs": [
    {
     "name": "stdout",
     "output_type": "stream",
     "text": [
      "data shape: (4375821, 4), (4375821,)\n",
      "CPU times: user 4.12 s, sys: 842 ms, total: 4.97 s\n",
      "Wall time: 4.6 s\n"
     ]
    }
   ],
   "source": [
    "%%time\n",
    "X, X_test, y, y_test = load_data(fpath=data_path,\n",
    "                                colsToDrop=colsToDropTraining,\n",
    "                                dataType=DATA_TYPE,\n",
    "                                cpu=True,\n",
    "                                splitXY=True,\n",
    "                                # imbalance=True,\n",
    "                                # frac=FRAC_LAND,\n",
    "                                trainTestSplit=True\n",
    "                                )\n",
    "\n",
    "X = X.iloc[:num_datapoints,:] \n",
    "y = y.iloc[:num_datapoints] \n",
    "\n",
    "X_test = X_test.iloc[:num_datapoints,:] \n",
    "y_test = y_test.iloc[:num_datapoints] \n",
    "\n",
    "print(f'data shape: {X.shape}, {y.shape}')"
   ]
  },
  {
   "cell_type": "code",
   "execution_count": 15,
   "id": "7c99fb37-4e41-4cf6-9790-e6f07492ab57",
   "metadata": {},
   "outputs": [
    {
     "data": {
      "text/plain": [
       "array([[3266, 5219, 2228, 2301],\n",
       "       [ 562, 2045, 1153, 5688],\n",
       "       [  -6,  -14,   55, 4000],\n",
       "       ...,\n",
       "       [ 608, 3645, 1067, 7140],\n",
       "       [1109, 1483, 1262, 1442],\n",
       "       [ 406, 4689,  832, 8406]], dtype=int16)"
      ]
     },
     "execution_count": 15,
     "metadata": {},
     "output_type": "execute_result"
    }
   ],
   "source": [
    "X.values"
   ]
  },
  {
   "cell_type": "markdown",
   "id": "33fb53c3-9219-478a-804b-b3718d0c78b7",
   "metadata": {},
   "source": [
    "#### separate the land and water points"
   ]
  },
  {
   "cell_type": "code",
   "execution_count": 8,
   "id": "5788ef49-6c9f-4827-825b-8a29a1fbe208",
   "metadata": {},
   "outputs": [],
   "source": [
    "#Getting the indices that are associated with land (0) and water (1)\n",
    "y_water_ind = np.where(y>0.5)[0]\n",
    "y_land_ind = np.where(y<0.5)[0]\n",
    "\n",
    "#Subset the X AND y data to later/ subset with the clusters and then combine for RFA\n",
    "X_water = X.iloc[y_water_ind,:]\n",
    "y_water = y.iloc[y_water_ind]\n",
    "\n",
    "X_land = X.iloc[y_land_ind,:]\n",
    "y_land = y.iloc[y_land_ind]"
   ]
  },
  {
   "cell_type": "code",
   "execution_count": 60,
   "id": "0b38dfe2-a25e-4656-a5e8-444addd34398",
   "metadata": {},
   "outputs": [
    {
     "name": "stdout",
     "output_type": "stream",
     "text": [
      "sur_refl_b01_1\n",
      "sur_refl_b02_1\n",
      "sur_refl_b07_1\n",
      "ndvi\n"
     ]
    }
   ],
   "source": [
    "_ = [print(column) for column in X.columns]"
   ]
  },
  {
   "cell_type": "markdown",
   "id": "cf5fe62b-db60-4d29-b196-bfdf201f59d5",
   "metadata": {
    "jp-MarkdownHeadingCollapsed": true,
    "tags": []
   },
   "source": [
    "## Investigating clustering with sfc reflectance bands 1,2"
   ]
  },
  {
   "cell_type": "markdown",
   "id": "7de61e92-e51e-460d-b742-252d48c2fd7d",
   "metadata": {
    "jp-MarkdownHeadingCollapsed": true,
    "tags": []
   },
   "source": [
    "### kmeans land and water together"
   ]
  },
  {
   "cell_type": "code",
   "execution_count": null,
   "id": "77410e0a-663f-401a-bdbc-623238d96c3f",
   "metadata": {},
   "outputs": [],
   "source": [
    "# plt.scatter(X_water.values[:,0], X_water.values[:,1],label='Water')\n",
    "# plt.scatter(X_land.values[:,0], X_land.values[:,1],label='Land')\n",
    "# plt.title(f'Land and Water Datapoints, {num_datapoints} Samples')\n",
    "# plt.legend()\n",
    "# plt.xlabel(X_water.columns[0])\n",
    "# plt.ylabel(X_water.columns[1])"
   ]
  },
  {
   "cell_type": "code",
   "execution_count": null,
   "id": "cfb21aed-b9ac-4e40-bedb-02064379a339",
   "metadata": {},
   "outputs": [],
   "source": [
    "common_params = {\n",
    "    \"n_init\": \"auto\",\n",
    "    \"random_state\": 42,\n",
    "}"
   ]
  },
  {
   "cell_type": "code",
   "execution_count": null,
   "id": "e7af7777-ca28-4374-9aa6-02921735c122",
   "metadata": {},
   "outputs": [],
   "source": [
    "%%time\n",
    "kme_water =  KMeans(n_clusters=5, **common_params).fit(X_water)\n",
    "kmeans_output_water = kme_water.predict(X_water)"
   ]
  },
  {
   "cell_type": "code",
   "execution_count": null,
   "id": "040ff862-64b1-4744-afe3-df329dfc0dc3",
   "metadata": {},
   "outputs": [],
   "source": [
    "print(len(kmeans_output_water))\n",
    "print(kmeans_output_water)\n",
    "print(kme_water.cluster_centers_)"
   ]
  },
  {
   "cell_type": "code",
   "execution_count": null,
   "id": "74f623fb-ab06-4e00-9449-ddf44e92d4fd",
   "metadata": {},
   "outputs": [],
   "source": [
    "plt.scatter(X_water.values[:,0], X_water.values[:,1],\n",
    "            c=kmeans_output_water,cmap='tab10',s=25)\n",
    "plt.scatter(kme_water.cluster_centers_[:,0],kme_water.cluster_centers_[:,1],\n",
    "            label='Center Point',c='k',s=50)\n",
    "plt.title(f'Kmeans Clustering, Water Datapoints, {num_datapoints} Samples')\n",
    "plt.legend()\n",
    "plt.xlabel(X_water.columns[0])\n",
    "plt.ylabel(X_water.columns[1])"
   ]
  },
  {
   "cell_type": "code",
   "execution_count": null,
   "id": "eb838bfb-6747-4435-a097-b2d3e02cd1b3",
   "metadata": {},
   "outputs": [],
   "source": [
    "# plt.scatter(X_land.values[:,0], X_land.values[:,1],\n",
    "#             c=kmeans_output_land,cmap='tab10',s=25)\n",
    "# plt.scatter(kme_land.cluster_centers_[:,0],kme_land.cluster_centers_[:,1],\n",
    "#             label='Center Point',c='k',s=50)\n",
    "# plt.title(f'Kmeans Clustering, Land Datapoints, {num_datapoints} Samples')\n",
    "# plt.legend()\n",
    "# plt.xlabel(X_land.columns[0])\n",
    "# plt.ylabel(X_land.columns[1])"
   ]
  },
  {
   "cell_type": "markdown",
   "id": "4bec93f1-4418-4b66-b579-7b33ec7c690e",
   "metadata": {
    "jp-MarkdownHeadingCollapsed": true,
    "tags": []
   },
   "source": [
    "### kmeans land versus water analysis"
   ]
  },
  {
   "cell_type": "code",
   "execution_count": null,
   "id": "dd86f317-4412-4ed5-b01c-9c8d47432e63",
   "metadata": {},
   "outputs": [],
   "source": [
    "common_params = {\n",
    "    \"n_init\": \"auto\",\n",
    "    \"random_state\": 42,\n",
    "}"
   ]
  },
  {
   "cell_type": "markdown",
   "id": "91b9a655-83b4-4792-86f7-1da6f10cfe51",
   "metadata": {
    "jp-MarkdownHeadingCollapsed": true,
    "tags": []
   },
   "source": [
    "#### varying cluster number"
   ]
  },
  {
   "cell_type": "markdown",
   "id": "f146ab77-8797-4659-b6fd-ef9b47492b99",
   "metadata": {
    "tags": []
   },
   "source": [
    "##### 5"
   ]
  },
  {
   "cell_type": "code",
   "execution_count": null,
   "id": "9cf4177f-bb9c-4088-9dfd-a1971322f819",
   "metadata": {},
   "outputs": [],
   "source": [
    "CLUSTER_NUM=5"
   ]
  },
  {
   "cell_type": "code",
   "execution_count": null,
   "id": "6a1013fa-598d-4924-bc88-f39839a376e9",
   "metadata": {},
   "outputs": [],
   "source": [
    "%%time\n",
    "kme_land =  KMeans(n_clusters=CLUSTER_NUM, **common_params).fit(X_land)\n",
    "kmeans_output_land = kme_land.predict(X_land)"
   ]
  },
  {
   "cell_type": "code",
   "execution_count": null,
   "id": "4cb70d1a-b69a-468e-be90-58ea7e590593",
   "metadata": {},
   "outputs": [],
   "source": [
    "%%time\n",
    "kme_water =  KMeans(n_clusters=CLUSTER_NUM, **common_params).fit(X_water)\n",
    "kmeans_output_water = kme_water.predict(X_water)"
   ]
  },
  {
   "cell_type": "code",
   "execution_count": null,
   "id": "af6a0335-bbcb-4f07-9e97-7e5970e022ad",
   "metadata": {},
   "outputs": [],
   "source": [
    "print('water')\n",
    "print(len(kmeans_output_water))\n",
    "print(kmeans_output_water)\n",
    "print(kme_water.cluster_centers_)\n",
    "print()\n",
    "print('land')\n",
    "print(len(kmeans_output_land))\n",
    "print(kmeans_output_land)\n",
    "print(kme_land.cluster_centers_)"
   ]
  },
  {
   "cell_type": "markdown",
   "id": "804e4050-228e-4ce4-a803-6fa3822c589a",
   "metadata": {
    "tags": []
   },
   "source": [
    "##### 5 plot"
   ]
  },
  {
   "cell_type": "code",
   "execution_count": null,
   "id": "e495b386-cc9e-47fa-9be0-c6bdbe0ad2f5",
   "metadata": {},
   "outputs": [],
   "source": [
    "plotting_clusters(X_water,X_land,kme_water,kme_land,kmeans_output_water,kmeans_output_land,CLUSTER_NUM)"
   ]
  },
  {
   "cell_type": "markdown",
   "id": "ed49ad56-454b-4370-8641-7617d290fb62",
   "metadata": {
    "jp-MarkdownHeadingCollapsed": true,
    "tags": []
   },
   "source": [
    "##### 10"
   ]
  },
  {
   "cell_type": "code",
   "execution_count": null,
   "id": "fbd02e2e-4932-4305-8569-3b095d5dbfa7",
   "metadata": {},
   "outputs": [],
   "source": [
    "CLUSTER_NUM=10"
   ]
  },
  {
   "cell_type": "code",
   "execution_count": null,
   "id": "eb38ac19-c35e-4d0e-a8f1-eaf5d027c0db",
   "metadata": {},
   "outputs": [],
   "source": [
    "%%time\n",
    "kme_land =  KMeans(n_clusters=CLUSTER_NUM, **common_params).fit(X_land)\n",
    "kmeans_output_land = kme_land.predict(X_land)"
   ]
  },
  {
   "cell_type": "code",
   "execution_count": null,
   "id": "28cd3142-5b06-4204-8f3b-1afd41ad507c",
   "metadata": {},
   "outputs": [],
   "source": [
    "%%time\n",
    "kme_water =  KMeans(n_clusters=CLUSTER_NUM, **common_params).fit(X_water)\n",
    "kmeans_output_water = kme_water.predict(X_water)"
   ]
  },
  {
   "cell_type": "code",
   "execution_count": null,
   "id": "6160bfcb-fe59-462a-8093-172779287525",
   "metadata": {},
   "outputs": [],
   "source": [
    "print('water')\n",
    "print(len(kmeans_output_water))\n",
    "print(kmeans_output_water)\n",
    "print(kme_water.cluster_centers_)\n",
    "print()\n",
    "print('land')\n",
    "print(len(kmeans_output_land))\n",
    "print(kmeans_output_land)\n",
    "print(kme_land.cluster_centers_)\n",
    "len(kme_land.cluster_centers_)"
   ]
  },
  {
   "cell_type": "markdown",
   "id": "a42f5d37-ff33-46d3-9515-f3fb96cac314",
   "metadata": {},
   "source": [
    "##### 10 plot"
   ]
  },
  {
   "cell_type": "code",
   "execution_count": null,
   "id": "b8456814-829c-43cb-af45-4ad0f4fcd825",
   "metadata": {},
   "outputs": [],
   "source": [
    "plotting_clusters(X_water,X_land,kme_water,kme_land,kmeans_output_water,kmeans_output_land,CLUSTER_NUM)"
   ]
  },
  {
   "cell_type": "markdown",
   "id": "eca34ba3-45e4-476b-a68c-f58010e321f4",
   "metadata": {
    "jp-MarkdownHeadingCollapsed": true,
    "tags": []
   },
   "source": [
    "##### 15"
   ]
  },
  {
   "cell_type": "code",
   "execution_count": null,
   "id": "a8789fff-8c67-4f2e-806e-7571c2b74009",
   "metadata": {},
   "outputs": [],
   "source": [
    "CLUSTER_NUM=15"
   ]
  },
  {
   "cell_type": "code",
   "execution_count": null,
   "id": "a6ea7746-d548-412e-b796-7522d7833d6b",
   "metadata": {},
   "outputs": [],
   "source": [
    "%%time\n",
    "kme_land =  KMeans(n_clusters=CLUSTER_NUM, **common_params).fit(X_land)\n",
    "kmeans_output_land = kme_land.predict(X_land)"
   ]
  },
  {
   "cell_type": "code",
   "execution_count": null,
   "id": "b84a2fb3-218c-4288-ac36-fb01858c1772",
   "metadata": {},
   "outputs": [],
   "source": [
    "%%time\n",
    "kme_water =  KMeans(n_clusters=CLUSTER_NUM, **common_params).fit(X_water)\n",
    "kmeans_output_water = kme_water.predict(X_water)"
   ]
  },
  {
   "cell_type": "code",
   "execution_count": null,
   "id": "0c96a544-6e04-41ba-9104-b1ec6eeeec16",
   "metadata": {},
   "outputs": [],
   "source": [
    "print('water')\n",
    "print(len(kmeans_output_water))\n",
    "print(kmeans_output_water)\n",
    "print(kme_water.cluster_centers_)\n",
    "print()\n",
    "print('land')\n",
    "print(len(kmeans_output_land))\n",
    "print(kmeans_output_land)\n",
    "print(kme_land.cluster_centers_)\n",
    "len(kme_land.cluster_centers_)"
   ]
  },
  {
   "cell_type": "markdown",
   "id": "b090b21b-8ebe-4222-8584-eae52bdc3ca6",
   "metadata": {},
   "source": [
    "##### 15 plot"
   ]
  },
  {
   "cell_type": "code",
   "execution_count": null,
   "id": "67ee8774-2a8f-4776-b420-0ba04b41d197",
   "metadata": {
    "tags": []
   },
   "outputs": [],
   "source": [
    "plotting_clusters(X_water,X_land,kme_water,kme_land,kmeans_output_water,kmeans_output_land,CLUSTER_NUM)"
   ]
  },
  {
   "cell_type": "markdown",
   "id": "c78923a8-d0ef-43f3-a7e8-b82b55341b05",
   "metadata": {
    "jp-MarkdownHeadingCollapsed": true,
    "tags": []
   },
   "source": [
    "##### 20"
   ]
  },
  {
   "cell_type": "code",
   "execution_count": null,
   "id": "4b5996cd-53d8-4def-be00-db157dc3dcd8",
   "metadata": {},
   "outputs": [],
   "source": [
    "CLUSTER_NUM=20"
   ]
  },
  {
   "cell_type": "code",
   "execution_count": null,
   "id": "7c86d895-ba73-4b24-9e2b-c854435cb640",
   "metadata": {},
   "outputs": [],
   "source": [
    "%%time\n",
    "kme_land =  KMeans(n_clusters=CLUSTER_NUM, **common_params).fit(X_land)\n",
    "kmeans_output_land = kme_land.predict(X_land)"
   ]
  },
  {
   "cell_type": "code",
   "execution_count": null,
   "id": "62f4d02c-a223-4556-95e2-edc8b17e6bcd",
   "metadata": {},
   "outputs": [],
   "source": [
    "%%time\n",
    "kme_water =  KMeans(n_clusters=CLUSTER_NUM, **common_params).fit(X_water)\n",
    "kmeans_output_water = kme_water.predict(X_water)"
   ]
  },
  {
   "cell_type": "code",
   "execution_count": null,
   "id": "d831aa82-80d3-45e6-be1b-32de20d930ef",
   "metadata": {},
   "outputs": [],
   "source": [
    "print('water')\n",
    "print(len(kmeans_output_water))\n",
    "print(kmeans_output_water)\n",
    "print(kme_water.cluster_centers_)\n",
    "print()\n",
    "print('land')\n",
    "print(len(kmeans_output_land))\n",
    "print(kmeans_output_land)\n",
    "print(kme_land.cluster_centers_)\n",
    "len(kme_land.cluster_centers_)"
   ]
  },
  {
   "cell_type": "markdown",
   "id": "6e4718cb-1aae-4278-8c51-a3efec376755",
   "metadata": {
    "tags": []
   },
   "source": [
    "##### 20 plot"
   ]
  },
  {
   "cell_type": "code",
   "execution_count": null,
   "id": "babdf01b-425d-4b09-909a-fae00821566c",
   "metadata": {
    "tags": []
   },
   "outputs": [],
   "source": [
    "plotting_clusters(X_water,X_land,kme_water,kme_land,kmeans_output_water,kmeans_output_land,CLUSTER_NUM)"
   ]
  },
  {
   "cell_type": "markdown",
   "id": "922ed511-f0f0-4619-adb0-fb7bc6519cd4",
   "metadata": {
    "jp-MarkdownHeadingCollapsed": true,
    "tags": []
   },
   "source": [
    "##### 25"
   ]
  },
  {
   "cell_type": "code",
   "execution_count": null,
   "id": "be748475-08d0-41fd-95dc-b492a24b63c1",
   "metadata": {},
   "outputs": [],
   "source": [
    "CLUSTER_NUM=25"
   ]
  },
  {
   "cell_type": "code",
   "execution_count": null,
   "id": "fd400f50-09af-41ba-89d8-ae6d39dfbabf",
   "metadata": {},
   "outputs": [],
   "source": [
    "%%time\n",
    "kme_land =  KMeans(n_clusters=CLUSTER_NUM, **common_params).fit(X_land)\n",
    "kmeans_output_land = kme_land.predict(X_land)"
   ]
  },
  {
   "cell_type": "code",
   "execution_count": null,
   "id": "7b687661-73e9-45bd-8bac-2c1f3a283c67",
   "metadata": {},
   "outputs": [],
   "source": [
    "%%time\n",
    "kme_water =  KMeans(n_clusters=CLUSTER_NUM, **common_params).fit(X_water)\n",
    "kmeans_output_water = kme_water.predict(X_water)"
   ]
  },
  {
   "cell_type": "code",
   "execution_count": null,
   "id": "aafed651-9563-4ba1-803d-5b138e1aca44",
   "metadata": {},
   "outputs": [],
   "source": [
    "print('water')\n",
    "print(len(kmeans_output_water))\n",
    "print(kmeans_output_water)\n",
    "print(kme_water.cluster_centers_)\n",
    "print()\n",
    "print('land')\n",
    "print(len(kmeans_output_land))\n",
    "print(kmeans_output_land)\n",
    "print(kme_land.cluster_centers_)\n",
    "len(kme_land.cluster_centers_)"
   ]
  },
  {
   "cell_type": "markdown",
   "id": "f70ed60c-56b1-4079-92c2-6ec9ec29907d",
   "metadata": {},
   "source": [
    "##### 25 plot"
   ]
  },
  {
   "cell_type": "code",
   "execution_count": null,
   "id": "e2af06e7-4bbd-469b-9833-17248fae40fd",
   "metadata": {
    "tags": []
   },
   "outputs": [],
   "source": [
    "plotting_clusters(X_water,X_land,kme_water,kme_land,kmeans_output_water,kmeans_output_land,CLUSTER_NUM)"
   ]
  },
  {
   "cell_type": "markdown",
   "id": "f409fe69-aeb5-4a99-a9a4-72ee0c06f34d",
   "metadata": {
    "jp-MarkdownHeadingCollapsed": true,
    "tags": []
   },
   "source": [
    "##### 30"
   ]
  },
  {
   "cell_type": "code",
   "execution_count": null,
   "id": "57813de6-ae64-474e-b223-ecf57856b568",
   "metadata": {},
   "outputs": [],
   "source": [
    "CLUSTER_NUM=30"
   ]
  },
  {
   "cell_type": "code",
   "execution_count": null,
   "id": "d24c2fdb-15d9-42e4-b0cf-705cf3add5a2",
   "metadata": {},
   "outputs": [],
   "source": [
    "%%time\n",
    "kme_land =  KMeans(n_clusters=CLUSTER_NUM, **common_params).fit(X_land)\n",
    "kmeans_output_land = kme_land.predict(X_land)"
   ]
  },
  {
   "cell_type": "code",
   "execution_count": null,
   "id": "160e1704-1c38-4072-8743-d3bb5360e1b4",
   "metadata": {},
   "outputs": [],
   "source": [
    "%%time\n",
    "kme_water =  KMeans(n_clusters=CLUSTER_NUM, **common_params).fit(X_water)\n",
    "kmeans_output_water = kme_water.predict(X_water)"
   ]
  },
  {
   "cell_type": "code",
   "execution_count": null,
   "id": "3b148d88-f7fd-4cb3-816c-cbdf054a7e51",
   "metadata": {},
   "outputs": [],
   "source": [
    "print('water')\n",
    "print(len(kmeans_output_water))\n",
    "print(kmeans_output_water)\n",
    "print(kme_water.cluster_centers_)\n",
    "print()\n",
    "print('land')\n",
    "print(len(kmeans_output_land))\n",
    "print(kmeans_output_land)\n",
    "print(kme_land.cluster_centers_)\n",
    "len(kme_land.cluster_centers_)"
   ]
  },
  {
   "cell_type": "markdown",
   "id": "aa5dd9ff-f42e-496a-8c59-37c6184091bf",
   "metadata": {
    "tags": []
   },
   "source": [
    "##### 30 plot"
   ]
  },
  {
   "cell_type": "code",
   "execution_count": null,
   "id": "a8ec89e3-d339-4607-ab53-2fc513ad058e",
   "metadata": {
    "tags": []
   },
   "outputs": [],
   "source": [
    "plotting_clusters(X_water,X_land,kme_water,kme_land,kmeans_output_water,kmeans_output_land,CLUSTER_NUM)"
   ]
  },
  {
   "cell_type": "markdown",
   "id": "c4af8e30-7013-4ba3-a965-a8491f028063",
   "metadata": {
    "jp-MarkdownHeadingCollapsed": true,
    "tags": []
   },
   "source": [
    "### Gaussian mixture model "
   ]
  },
  {
   "cell_type": "code",
   "execution_count": null,
   "id": "d59ff5f2-4c8e-4a4d-b3b6-eae22b476149",
   "metadata": {},
   "outputs": [],
   "source": [
    "from sklearn import mixture"
   ]
  },
  {
   "cell_type": "code",
   "execution_count": null,
   "id": "954ec31a-d660-40dc-9ff1-1d8d32dd9838",
   "metadata": {},
   "outputs": [],
   "source": [
    "%%time\n",
    "bgm_water = mixture.BayesianGaussianMixture(n_components=15, covariance_type=\"full\").fit_predict(X_water)"
   ]
  },
  {
   "cell_type": "code",
   "execution_count": null,
   "id": "6d6e3255-7138-4f99-8645-ae68b8b2cd84",
   "metadata": {},
   "outputs": [],
   "source": [
    "bgm_water"
   ]
  },
  {
   "cell_type": "code",
   "execution_count": null,
   "id": "fc60b20d-dd23-4886-9bed-2be675ff79eb",
   "metadata": {},
   "outputs": [],
   "source": [
    "np.unique(bgm_water)"
   ]
  },
  {
   "cell_type": "code",
   "execution_count": null,
   "id": "01e966fc-d512-4d88-b906-58182c500037",
   "metadata": {},
   "outputs": [],
   "source": [
    "%%time\n",
    "\n",
    "bgm_land = mixture.BayesianGaussianMixture(n_components=15, covariance_type=\"full\").fit_predict(X_land)"
   ]
  },
  {
   "cell_type": "code",
   "execution_count": null,
   "id": "b23e2ca8-e50e-42b9-8ddd-e06a115d2eb3",
   "metadata": {},
   "outputs": [],
   "source": [
    "bgm_land"
   ]
  },
  {
   "cell_type": "code",
   "execution_count": null,
   "id": "29c5f4a0-b513-41fd-831d-f3f20092d88a",
   "metadata": {},
   "outputs": [],
   "source": [
    "np.unique(bgm_land)"
   ]
  },
  {
   "cell_type": "code",
   "execution_count": null,
   "id": "156e96ff-f497-426b-8c1d-e677109f5d13",
   "metadata": {},
   "outputs": [],
   "source": [
    "plotting_clusters(X_water,X_land,bgm_water,bgm_land,15)"
   ]
  },
  {
   "cell_type": "markdown",
   "id": "fb7da2ad-8293-4c4e-b36f-7f70defe618f",
   "metadata": {
    "jp-MarkdownHeadingCollapsed": true,
    "tags": []
   },
   "source": [
    "## Adding more input bands"
   ]
  },
  {
   "cell_type": "code",
   "execution_count": null,
   "id": "04ec4019-9f6e-4e1d-b858-6a66e389cd02",
   "metadata": {},
   "outputs": [],
   "source": []
  },
  {
   "cell_type": "code",
   "execution_count": null,
   "id": "0f502380-2a65-4966-9b3b-f6e799a1c67b",
   "metadata": {},
   "outputs": [],
   "source": [
    "colsToDrop = [\n",
    "           'sur_refl_b04_1','sur_refl_b05_1','sur_refl_b06_1',\n",
    "           'sur_refl_b07_1','ndvi','ndwi1','ndwi2']\n",
    "\n",
    "colsToDropTraining = colsToDrop.copy()\n",
    "colsToDropTraining.extend(offsets_indexes)\n",
    "v_names = ['sur_refl_b01_1','sur_refl_b02_1','sur_refl_b03_1',\n",
    "           'sur_refl_b04_1','sur_refl_b05_1','sur_refl_b06_1',\n",
    "           'sur_refl_b07_1','ndvi','ndwi1','ndwi2']"
   ]
  },
  {
   "cell_type": "code",
   "execution_count": null,
   "id": "f319dd61-bfc8-4070-bdff-aeda70831fe3",
   "metadata": {},
   "outputs": [],
   "source": [
    "X, X_test, y, y_test = load_data(fpath=data_path,\n",
    "                                colsToDrop=colsToDropTraining,\n",
    "                                dataType=DATA_TYPE,\n",
    "                                cpu=True,\n",
    "                                splitXY=True,\n",
    "                                imbalance=True,\n",
    "                                frac=FRAC_LAND,\n",
    "                                trainTestSplit=True\n",
    "                                )\n",
    "\n",
    "X = X.iloc[:num_datapoints,:] \n",
    "y = y.iloc[:num_datapoints] \n",
    "\n",
    "X_test = X_test.iloc[:num_datapoints,:] \n",
    "y_test = y_test.iloc[:num_datapoints] \n",
    "\n",
    "print(f'subset data shape: {X.shape}, {y.shape}')"
   ]
  },
  {
   "cell_type": "code",
   "execution_count": null,
   "id": "d053f8ee-7537-453d-9132-b74191cd46ac",
   "metadata": {},
   "outputs": [],
   "source": [
    "#Getting the indices that are associated with land (0) and water (1)\n",
    "y_water_ind_3D = np.where(y>0.5)[0]\n",
    "y_land_ind_3D = np.where(y<0.5)[0]\n",
    "\n",
    "#Subset the X AND y data to later subset with the clusters and then combine for RFA\n",
    "X_water_3D = X.iloc[y_water_ind_3D,:]\n",
    "y_water_3D = y.iloc[y_water_ind_3D]\n",
    "\n",
    "X_land_3D = X.iloc[y_land_ind_3D,:]\n",
    "y_land_3D = y.iloc[y_land_ind_3D]"
   ]
  },
  {
   "cell_type": "code",
   "execution_count": null,
   "id": "2d278239-2bfd-4522-914b-bcb1726b76d8",
   "metadata": {},
   "outputs": [],
   "source": [
    "fig = plt.figure(figsize = (7, 7))\n",
    "ax = plt.axes(projection =\"3d\")\n",
    "ax.tick_params(axis='both', which='major', labelsize=10)\n",
    "ax.tick_params(axis='both', which='minor', labelsize=10)\n",
    "\n",
    "plt.title(f'Land and Water Datapoints, {num_datapoints} Samples')\n",
    "ax.scatter(X_land_3D.values[:,0], X_land_3D.values[:,1], X_land_3D.values[:,2],label='Land')\n",
    "ax.scatter(X_water_3D.values[:,0], X_water_3D.values[:,1], X_water_3D.values[:,2],label='Water')\n",
    "\n",
    "ax.set_xlabel(X_land.columns[0])\n",
    "ax.set_ylabel(X_land.columns[1])\n",
    "ax.set_zlabel(X_land.columns[2])\n",
    "plt.legend()\n",
    "\n",
    "plt.show()"
   ]
  },
  {
   "cell_type": "markdown",
   "id": "162190da-2a24-4a19-ad0c-37b16508e53b",
   "metadata": {
    "jp-MarkdownHeadingCollapsed": true,
    "tags": []
   },
   "source": [
    "### Kmeans"
   ]
  },
  {
   "cell_type": "code",
   "execution_count": null,
   "id": "f6560dd7-0335-47a1-b3fd-e0a48f2c8d7b",
   "metadata": {},
   "outputs": [],
   "source": [
    "common_params = {\n",
    "    \"n_init\": \"auto\",\n",
    "    \"random_state\": 42,\n",
    "}"
   ]
  },
  {
   "cell_type": "code",
   "execution_count": null,
   "id": "4268d21b-eeea-4006-af3a-1aef6f46339d",
   "metadata": {},
   "outputs": [],
   "source": [
    "%%time\n",
    "kme_water_3D =  KMeans(n_clusters=5, **common_params).fit(X_water_3D)\n",
    "kmeans_output_water_3D = kme_water_3D.predict(X_water_3D)"
   ]
  },
  {
   "cell_type": "code",
   "execution_count": null,
   "id": "b272f007-3c17-4c59-bf43-5b2a72d6fcaf",
   "metadata": {},
   "outputs": [],
   "source": [
    "%%time\n",
    "kme_land_3D =  KMeans(n_clusters=5, **common_params).fit(X_land_3D)\n",
    "kmeans_output_land_3D = kme_land_3D.predict(X_land_3D)"
   ]
  },
  {
   "cell_type": "code",
   "execution_count": null,
   "id": "471c2dcb-49ae-42c8-bc9e-190fe4dd24a1",
   "metadata": {},
   "outputs": [],
   "source": [
    "fig = plt.figure(figsize = (15, 7))\n",
    "\n",
    "plt.suptitle(f'Kmeans Clustering, {num_datapoints} Samples')\n",
    "ax1 = plt.subplot(121,projection =\"3d\")\n",
    "# ax1 = plt.axes(projection =\"3d\")\n",
    "ax1.set_title(f'Water Datapoints')\n",
    "ax1.tick_params(axis='both', which='major', labelsize=10)\n",
    "ax1.tick_params(axis='both', which='minor', labelsize=10)\n",
    "\n",
    "ax1.scatter(X_water_3D.values[:,0], X_water_3D.values[:,1], X_water_3D.values[:,2],\n",
    "           marker='o',c=kmeans_output_water_3D,cmap='tab10')\n",
    "ax1.scatter(kme_water_3D.cluster_centers_[:,0],kme_water_3D.cluster_centers_[:,1],kme_water_3D.cluster_centers_[:,2],\n",
    "            label='Center Point',c='k',s=50)\n",
    "ax1.legend()\n",
    "ax1.set_xlabel(X_water_3D.columns[0])\n",
    "ax1.set_ylabel(X_water_3D.columns[1])\n",
    "ax1.set_zlabel(X_water_3D.columns[2])\n",
    "\n",
    "\n",
    "ax2 = plt.subplot(122,projection =\"3d\")\n",
    "# ax2 = plt.axes(projection =\"3d\")\n",
    "ax2.tick_params(axis='both', which='major', labelsize=10)\n",
    "ax2.tick_params(axis='both', which='minor', labelsize=10)\n",
    "\n",
    "ax2.set_title(f'Land Datapoints')\n",
    "ax2.scatter(X_land_3D.values[:,0], X_land_3D.values[:,1], X_land_3D.values[:,2],\n",
    "           marker='o',c=kmeans_output_land_3D,cmap='tab10')\n",
    "ax2.scatter(kme_land_3D.cluster_centers_[:,0],kme_land_3D.cluster_centers_[:,1],kme_land_3D.cluster_centers_[:,2],\n",
    "            label='Center Point',c='k',s=50)\n",
    "ax2.legend()\n",
    "ax2.set_xlabel(X_land_3D.columns[0])\n",
    "ax2.set_ylabel(X_land_3D.columns[1])\n",
    "ax2.set_zlabel(X_land_3D.columns[2])\n",
    "\n",
    "plt.show()"
   ]
  },
  {
   "cell_type": "code",
   "execution_count": null,
   "id": "d85c6257-4da2-4dcc-b399-70acf31c085d",
   "metadata": {},
   "outputs": [],
   "source": []
  },
  {
   "cell_type": "code",
   "execution_count": null,
   "id": "45dea095-309d-4b00-9238-b2b64d375c65",
   "metadata": {},
   "outputs": [],
   "source": []
  },
  {
   "cell_type": "code",
   "execution_count": null,
   "id": "6a4768f7-c62f-4b18-93c7-eebb2cf9c953",
   "metadata": {},
   "outputs": [],
   "source": []
  },
  {
   "cell_type": "markdown",
   "id": "f8a88161-3b21-45c1-8192-7a5c0f84da3b",
   "metadata": {
    "jp-MarkdownHeadingCollapsed": true,
    "tags": []
   },
   "source": [
    "### Birch"
   ]
  },
  {
   "cell_type": "code",
   "execution_count": null,
   "id": "37ef7339-86f4-421a-8c3c-7a9e84d5f619",
   "metadata": {},
   "outputs": [],
   "source": [
    "%%time\n",
    "br = Birch(n_clusters=5).fit(X)\n",
    "birch_output = br.predict(X)"
   ]
  },
  {
   "cell_type": "code",
   "execution_count": null,
   "id": "27158403-c402-4873-b874-05fb0c74b3ec",
   "metadata": {},
   "outputs": [],
   "source": [
    "fig = plt.figure(figsize = (7, 7))\n",
    "plt.title(f'Birch Clustering: {num_datapoints} Samples')\n",
    "ax = plt.axes(projection =\"3d\")\n",
    "ax.tick_params(axis='both', which='major', labelsize=10)\n",
    "ax.tick_params(axis='both', which='minor', labelsize=10)\n",
    "\n",
    "ax.scatter(X.values[:,0], X.values[:,1], X.values[:,2],marker='o',c=birch_output)\n",
    "\n",
    "ax.set_xlabel(X.columns[0])\n",
    "ax.set_ylabel(X.columns[1])\n",
    "ax.set_zlabel(X.columns[2])\n",
    "\n",
    "plt.show()"
   ]
  },
  {
   "cell_type": "code",
   "execution_count": null,
   "id": "d23a27ef-f8d9-43b3-8150-321200dd0d1d",
   "metadata": {},
   "outputs": [],
   "source": []
  },
  {
   "cell_type": "markdown",
   "id": "4cee6bed-e60c-495e-a0e6-9a1cef0bde50",
   "metadata": {
    "jp-MarkdownHeadingCollapsed": true,
    "tags": []
   },
   "source": [
    "## Comparing targeted and clustered samples\n"
   ]
  },
  {
   "cell_type": "code",
   "execution_count": null,
   "id": "82998bd2-524f-439d-bbd8-200287d0faba",
   "metadata": {},
   "outputs": [],
   "source": [
    "DATA_VERSION='v4.2.1'\n",
    "training_data_basepath = f'/explore/nobackup/projects/ilab/data/MODIS/MODIS_WATER_ML/training_data/{DATA_VERSION}'\n",
    "\n",
    "#VERSION 4.2.1\n",
    "TILE_IN = 'Golden'#v4.2.1\n",
    "offsets_indexes = ['x_offset', 'y_offset', 'year', 'julian_day','tileID']\n",
    "\n",
    "glob_string = os.path.join(training_data_basepath,'MOD*{}*.parquet.gzip'.format(TILE_IN))\n",
    "data_paths = sorted([fv for fv in glob.glob(glob_string)])\n",
    "\n",
    "#Only want the one with 4.2.0 because the other file doesnt work. \n",
    "print(data_paths)\n",
    "data_path = data_paths[0]\n",
    "print(data_path)\n",
    "colsToDropTraining = colsToDrop.copy()\n",
    "colsToDropTraining.extend(offsets_indexes)\n",
    "\n",
    "\n",
    "X_target, X_test_target, y_target, y_test_target = load_data(fpath=data_path,\n",
    "                                colsToDrop=colsToDropTraining,\n",
    "                                dataType=DATA_TYPE,\n",
    "                                cpu=True,\n",
    "                                splitXY=True,\n",
    "                                trainTestSplit=True\n",
    "                                )\n",
    "\n",
    "X_target = X_target.iloc[:num_datapoints,:] \n",
    "y_target = y_target.iloc[:num_datapoints] \n",
    "\n",
    "X_test_target = X_test_target.iloc[:num_datapoints,:] \n",
    "y_test_target = y_test_target.iloc[:num_datapoints] \n",
    "\n",
    "print(f'\\n\\ntarget subset data shape: {X_target.shape}, {y_target.shape}')\n",
    "\n",
    "#Getting the indices that are associated with land (0) and water (1)\n",
    "#Subset the X AND y data to later subset with the clusters and then combine for RFA\n",
    "X_water_target = X_target.iloc[np.where(y_target>0.5)[0],:]\n",
    "X_land_target = X_target.iloc[np.where(y_target<0.5)[0],:]"
   ]
  },
  {
   "cell_type": "code",
   "execution_count": null,
   "id": "9a9a51f5-e118-465e-8007-a15dbfa872d0",
   "metadata": {},
   "outputs": [],
   "source": [
    "# DATA_VERSION='v2.0.1'\n",
    "# training_data_basepath = f'/explore/nobackup/projects/ilab/data/MODIS/MODIS_WATER_ML/training_data/{DATA_VERSION}'\n",
    "\n",
    "# #VERSION 4.2.0\n",
    "# TILE_IN = 'GLOBAL'#v4.2.0\n",
    "# offsets_indexes_rand = ['x_offset', 'y_offset', 'year', 'julian_day']\n",
    "\n",
    "# glob_string = os.path.join(training_data_basepath,'MOD*{}*.parquet.gzip'.format(TILE_IN))\n",
    "# data_paths = sorted([fv for fv in glob.glob(glob_string)])\n",
    "\n",
    "# #Only want the one with 4.2.0 because the other file doesnt work. \n",
    "# print(data_paths)\n",
    "# data_path = data_paths[0]\n",
    "# print(data_path)\n",
    "\n",
    "# colsToDropTraining = colsToDrop.copy()\n",
    "# colsToDropTraining.extend(offsets_indexes_rand)\n",
    "\n",
    "# X_rand, X_test_rand, y_rand, y_test_rand = load_data(fpath=data_path,\n",
    "#                                 colsToDrop=colsToDropTraining,\n",
    "#                                 dataType=DATA_TYPE,\n",
    "#                                 cpu=True,\n",
    "#                                 splitXY=True,\n",
    "#                                 trainTestSplit=True\n",
    "#                                 )\n",
    "\n",
    "# X_rand = X_rand.iloc[:num_datapoints,:] \n",
    "# y_rand = y_rand.iloc[:num_datapoints] \n",
    "\n",
    "# X_test_rand = X_test_rand.iloc[:num_datapoints,:] \n",
    "# y_test_rand = y_test_rand.iloc[:num_datapoints] \n",
    "\n",
    "# print(f'\\n\\nrandom subset data shape: {X_rand.shape}, {y_rand.shape}')\n",
    "\n",
    "# #Getting the indices that are associated with land (0) and water (1)\n",
    "# #Subset the X AND y data to later subset with the clusters and then combine for RFA\n",
    "# X_water_rand = X_rand.iloc[np.where(y_rand>0.5)[0],:]\n",
    "# X_land_rand = X_rand.iloc[np.where(y_rand<0.5)[0],:]\n"
   ]
  },
  {
   "cell_type": "code",
   "execution_count": null,
   "id": "d506ceb5-5548-4345-85ab-2bd6147363a5",
   "metadata": {},
   "outputs": [],
   "source": [
    "# df.drop(df[df['Fee'] >= 24000].index, inplace = True)"
   ]
  },
  {
   "cell_type": "code",
   "execution_count": null,
   "id": "72f3451f-e8f6-4e7d-8acf-0ed9b4ba2ecb",
   "metadata": {},
   "outputs": [],
   "source": [
    "fig = plt.figure(figsize = (25, 10))\n",
    "\n",
    "ax = plt.subplot(121)\n",
    "ax.set_title(f'Water Datapoints')\n",
    "# ax.scatter(X_water_rand.values[:,0],X_water_rand.values[:,2],label=f'All Water v2.0.0')\n",
    "ax.scatter(X_water.values[:,0],X_water.values[:,2],label=f'All Water v2.0.0 {len(y_water)}')\n",
    "ax.scatter(X_water_target.values[:,0],X_water_target.values[:,2],label=f'Target Water v4.2.0')\n",
    "ax.legend(loc='lower right',fontsize=\"20\")\n",
    "ax.set_xlabel(X_land_target.columns[0])\n",
    "ax.set_ylabel(X_land_target.columns[2])\n",
    "\n",
    "ax1 = plt.subplot(122)\n",
    "ax1.set_title(f'Land Datapoints')\n",
    "# ax1.scatter(X_land_rand.values[:,0],X_land_rand.values[:,2],label=f'All Land v2.0.0')\n",
    "ax1.scatter(X_land.values[:,0],X_land.values[:,2],label=f'All Land v2.0.0 {len(y_land)}')\n",
    "ax1.scatter(X_land_target.values[:,0],X_land_target.values[:,2],label=f'Target Land v4.2.0')\n",
    "ax1.legend(loc='lower right',fontsize=\"20\")\n",
    "ax1.set_xlabel(X_land_target.columns[0])\n",
    "ax1.set_ylabel(X_land_target.columns[2])\n",
    "\n",
    "plt.show()"
   ]
  },
  {
   "cell_type": "code",
   "execution_count": null,
   "id": "f3e16622-e1b3-45f8-ba03-30c4a4b31418",
   "metadata": {},
   "outputs": [],
   "source": []
  },
  {
   "cell_type": "code",
   "execution_count": null,
   "id": "acb3a1ce-bb9e-4789-bbd1-bcfe2c913785",
   "metadata": {},
   "outputs": [],
   "source": []
  },
  {
   "cell_type": "markdown",
   "id": "7cddee1b-c3b0-41fd-85a0-8984fac7515d",
   "metadata": {
    "jp-MarkdownHeadingCollapsed": true,
    "tags": []
   },
   "source": [
    "### Birch"
   ]
  },
  {
   "cell_type": "code",
   "execution_count": null,
   "id": "d2a2fbd8-69e9-451d-bb5d-b804bb775b94",
   "metadata": {},
   "outputs": [],
   "source": [
    "%%time\n",
    "br = Birch(n_clusters=5).fit(X)\n",
    "birch_output = br.predict(X)"
   ]
  },
  {
   "cell_type": "code",
   "execution_count": null,
   "id": "f9b05b2f-92bf-4079-bcf1-197a8132ecf0",
   "metadata": {},
   "outputs": [],
   "source": []
  },
  {
   "cell_type": "code",
   "execution_count": null,
   "id": "1c76502d-21a5-451e-b929-dc222ad1fb24",
   "metadata": {},
   "outputs": [],
   "source": [
    "plt.scatter(X.values[:,0], X.values[:,1],c=birch_output)\n",
    "plt.title(f'Birch Clustering: {num_datapoints} Samples')\n",
    "plt.xlabel(X.columns[0])\n",
    "plt.ylabel(X.columns[1])"
   ]
  },
  {
   "cell_type": "markdown",
   "id": "0180909c-c6c9-408a-bf5f-1d7cf1313440",
   "metadata": {
    "jp-MarkdownHeadingCollapsed": true,
    "tags": []
   },
   "source": [
    "### Spectral "
   ]
  },
  {
   "cell_type": "code",
   "execution_count": null,
   "id": "bcf1b2b8-64b7-4933-a190-e71e6e48c252",
   "metadata": {},
   "outputs": [],
   "source": [
    "%%time\n",
    "spectral = SpectralClustering(\n",
    "        n_clusters=5,\n",
    "        #affinity=\"nearest_neighbors\",\n",
    "        random_state=42).fit_predict(X)"
   ]
  },
  {
   "cell_type": "code",
   "execution_count": null,
   "id": "c7fafbb1-a976-4edc-a716-e14034318af5",
   "metadata": {},
   "outputs": [],
   "source": [
    "plt.scatter(X.values[:,0], X.values[:,1],c=spectral)\n",
    "plt.title(f'Spectral Clustering: {num_datapoints} Samples')\n",
    "plt.xlabel(X.columns[0])\n",
    "plt.ylabel(X.columns[1])"
   ]
  },
  {
   "cell_type": "markdown",
   "id": "89fdd11d-a3b3-4733-b95f-f5cb8bd80fc7",
   "metadata": {
    "jp-MarkdownHeadingCollapsed": true,
    "tags": []
   },
   "source": [
    "## Clustering Data for Input to Random Forest"
   ]
  },
  {
   "cell_type": "markdown",
   "id": "7f0e0854-39fc-409d-82ce-9d340243778b",
   "metadata": {},
   "source": [
    "Based on the cluster analysis above on 5.03.23, 15 clusters appears to have the most data and exclude outliers so will use that number for selection "
   ]
  },
  {
   "cell_type": "markdown",
   "id": "20b86d82-af01-4e4a-8837-cf78f5ad8af1",
   "metadata": {
    "jp-MarkdownHeadingCollapsed": true,
    "tags": []
   },
   "source": [
    "### choosing the optimal number of clusters "
   ]
  },
  {
   "cell_type": "code",
   "execution_count": null,
   "id": "97970432-5af4-4014-a704-426dd066d57f",
   "metadata": {},
   "outputs": [],
   "source": [
    "common_params = {\n",
    "    \"n_init\": \"auto\",\n",
    "    \"random_state\": 42,\n",
    "    \"init\":\"random\"\n",
    "}"
   ]
  },
  {
   "cell_type": "code",
   "execution_count": null,
   "id": "7b70e2e7-540a-4d5f-b469-14520dc77be9",
   "metadata": {},
   "outputs": [],
   "source": [
    "score_water = []\n",
    "for c in np.arange(1, 30):\n",
    "    if c%5==0: print(c)\n",
    "    kme_water = KMeans(n_clusters=c,**common_params).fit(X_water)\n",
    "    score_water.append(kme_water.inertia_)"
   ]
  },
  {
   "cell_type": "code",
   "execution_count": null,
   "id": "5914a89d-e5d3-4cd9-b111-42a8f376bda6",
   "metadata": {},
   "outputs": [],
   "source": [
    "score_land = []\n",
    "for c in np.arange(1, 30):\n",
    "    if c%5==0: print(c)\n",
    "    kme_land = KMeans(n_clusters=c,**common_params).fit(X_land)\n",
    "    score_land.append(kme_land.inertia_)"
   ]
  },
  {
   "cell_type": "code",
   "execution_count": null,
   "id": "b004d0a9-b7d3-4237-9df5-3943986f3b50",
   "metadata": {},
   "outputs": [],
   "source": [
    "plt.figure(figsize = (10, 5))\n",
    "plt.plot(score_water,label='Water')\n",
    "plt.plot(score_land,label='Land')\n",
    "plt.xticks(np.arange(1,30))\n",
    "plt.xlabel(\"Number of clusters\")\n",
    "plt.ylabel(\"kmeans inertia\")\n",
    "plt.title(f\"Optimal number of clusters \\n Data {DATA_VERSION}\")\n",
    "plt.legend()"
   ]
  },
  {
   "cell_type": "markdown",
   "id": "89c36209-77c9-4af7-9186-2238c226615b",
   "metadata": {
    "jp-MarkdownHeadingCollapsed": true,
    "tags": []
   },
   "source": [
    "### Using the best number of clusters "
   ]
  },
  {
   "cell_type": "code",
   "execution_count": 86,
   "id": "860899fd-59ae-420d-ac0b-a1ad8940f4a6",
   "metadata": {},
   "outputs": [],
   "source": [
    "CLUSTER_NUM=15\n",
    "\n",
    "common_params = {\n",
    "    \"n_init\": \"auto\",\n",
    "    # \"random_state\": 42,\n",
    "    \"init\":\"random\"\n",
    "}"
   ]
  },
  {
   "cell_type": "code",
   "execution_count": 102,
   "id": "14fadaa2-f0c0-43d0-8048-de4c7ef01329",
   "metadata": {},
   "outputs": [
    {
     "name": "stdout",
     "output_type": "stream",
     "text": [
      "CPU times: user 7min 47s, sys: 31.1 s, total: 8min 18s\n",
      "Wall time: 13.6 s\n"
     ]
    }
   ],
   "source": [
    "%%time\n",
    "kme_land_random =  KMeans(n_clusters=CLUSTER_NUM, **common_params).fit(X_land)\n",
    "kmeans_output_land_random = kme_land_random.predict(X_land)"
   ]
  },
  {
   "cell_type": "code",
   "execution_count": 103,
   "id": "08b9ac07-2215-4e65-ab83-e67411dec00a",
   "metadata": {},
   "outputs": [
    {
     "name": "stdout",
     "output_type": "stream",
     "text": [
      "CPU times: user 4min 5s, sys: 16.7 s, total: 4min 21s\n",
      "Wall time: 7.07 s\n"
     ]
    }
   ],
   "source": [
    "%%time\n",
    "kme_water_random = KMeans(n_clusters=CLUSTER_NUM, **common_params).fit(X_water)\n",
    "kmeans_output_water_random = kme_water_random.predict(X_water)"
   ]
  },
  {
   "cell_type": "markdown",
   "id": "ba80afaf-ec11-4da8-8638-114f0e5a785b",
   "metadata": {
    "jp-MarkdownHeadingCollapsed": true,
    "tags": []
   },
   "source": [
    "### Even Balanced Random pulled datapoints"
   ]
  },
  {
   "cell_type": "code",
   "execution_count": null,
   "id": "42a34ff7-b94d-472b-8e8b-633272252473",
   "metadata": {},
   "outputs": [],
   "source": [
    "COUNT_EVEN_BALANCE_LAND = np.inf\n",
    "COUNT_EVEN_BALANCE_WATER = np.inf\n",
    "for cluster in np.unique(kmeans_output_water_random):\n",
    "    land_num = len(np.where(kmeans_output_land_random == cluster)[0])\n",
    "    water_num = len(np.where(kmeans_output_water_random == cluster)[0])\n",
    "    if land_num < COUNT_EVEN_BALANCE_LAND: COUNT_EVEN_BALANCE_LAND = land_num\n",
    "    if water_num < COUNT_EVEN_BALANCE_WATER: COUNT_EVEN_BALANCE_WATER = water_num\n",
    "    \n",
    "print(COUNT_EVEN_BALANCE_LAND, COUNT_EVEN_BALANCE_WATER)\n",
    "if COUNT_EVEN_BALANCE_LAND < COUNT_EVEN_BALANCE_WATER:\n",
    "    COUNT = COUNT_EVEN_BALANCE_LAND\n",
    "else: \n",
    "    COUNT = COUNT_EVEN_BALANCE_WATER\n",
    "print(COUNT)"
   ]
  },
  {
   "cell_type": "markdown",
   "id": "774ae681-7198-4913-bdf9-6b614e129e30",
   "metadata": {},
   "source": []
  },
  {
   "cell_type": "code",
   "execution_count": null,
   "id": "660e6139-cb3b-4595-9469-215a1252db02",
   "metadata": {},
   "outputs": [],
   "source": [
    "# np.random.seed(42)\n",
    "random_ind_land = np.array([])\n",
    "random_ind_water = []\n",
    "\n",
    "for cluster in np.unique(kmeans_output_water_random):\n",
    "    print(f'cluster {cluster}')\n",
    "    cluster_ind_water = np.where(kmeans_output_water_random == cluster)[0]\n",
    "    random_pts_water = np.random.choice(cluster_ind_water,COUNT,replace=False)\n",
    "    max_X_random_water = np.nanmax(X_water['sur_refl_b01_1'].iloc[random_pts_water])\n",
    "    if max_X_random_water < 10000:\n",
    "        random_ind_water = np.append(random_ind_water, random_pts_water)\n",
    "    else: print(f'Cluster {cluster} contains outliers')\n",
    "    \n",
    "    cluster_ind_land = np.where(kmeans_output_land_random == cluster)[0]\n",
    "    random_pts_land = np.random.choice(cluster_ind_land,COUNT,replace=False)\n",
    "    random_ind_land = np.append(random_ind_land, random_pts_land)\n",
    "    \n",
    "random_ind_water = random_ind_water.astype('int')\n",
    "random_ind_land = random_ind_land.astype('int')\n",
    "\n",
    "print(random_ind_water,random_ind_land)"
   ]
  },
  {
   "cell_type": "code",
   "execution_count": null,
   "id": "bf76286d-7e58-444e-97ef-27cd5fa83dee",
   "metadata": {},
   "outputs": [],
   "source": [
    "X_cluster_land_random = X_land.iloc[random_ind_land]\n",
    "y_cluster_land_random = y_land.iloc[random_ind_land]\n",
    "X_cluster_water_random = X_water.iloc[random_ind_water]\n",
    "y_cluster_water_random = y_water.iloc[random_ind_water]\n",
    "\n",
    "X_cluster_random = pd.concat([X_cluster_land_random,X_cluster_water_random])\n",
    "y_cluster_random = pd.concat([y_cluster_land_random,y_cluster_water_random])\n",
    "\n",
    "#Combine the data so that we can shuffle the indices and keep the data together that should be\n",
    "All_data_random = pd.concat([X_cluster_random,y_cluster_random],axis=1).sample(frac=1)\n",
    "\n",
    "X_cluster_rfa_random = All_data_random[X_cluster_random.columns]\n",
    "y_cluster_rfa_random = All_data_random['water']"
   ]
  },
  {
   "cell_type": "code",
   "execution_count": null,
   "id": "b1fcfb98-117c-4e5d-a4de-fdf142114f9a",
   "metadata": {
    "tags": []
   },
   "outputs": [],
   "source": [
    "print(len(X_cluster_land_random),len(X_cluster_water_random))"
   ]
  },
  {
   "cell_type": "code",
   "execution_count": null,
   "id": "3e230982-aa17-48ae-ac01-963766ac0309",
   "metadata": {
    "tags": []
   },
   "outputs": [],
   "source": [
    "print(All_data_random)\n",
    "print(X_cluster_rfa_random)\n",
    "print(y_cluster_rfa_random)"
   ]
  },
  {
   "cell_type": "code",
   "execution_count": null,
   "id": "91a5884f-91a7-41b0-b7d0-2eeb9e24995f",
   "metadata": {},
   "outputs": [],
   "source": [
    "fig = plt.figure(figsize = (15, 10))\n",
    "\n",
    "plt.suptitle(f'V.2.0.1 Land and Water Datapoints,'+ \n",
    "    f' {COUNT_EVEN_BALANCE_LAND} Land Cluster Pts., {COUNT_EVEN_BALANCE_WATER} Water Cluster Pts.' +\\\n",
    "    f'\\nRandomly Chosen from {len(np.unique(kmeans_output_land_random))} Clusters')\n",
    "\n",
    "ax = plt.subplot(121)\n",
    "#No random sample\n",
    "# ax.scatter(X_water.values[:,0], X_water.values[:,1],label=f'All Water {len(y_water)}')\n",
    "# ax.scatter(X_land.values[:,0], X_land.values[:,1],label=f'All Land {len(y_land)}')\n",
    "#Randomly sampled data\n",
    "ax.set_title('Water Datapoints')\n",
    "ax.scatter(X_cluster_water_random.values[:,0],X_cluster_water_random.values[:,1], label=f'Cluster Water {len(y_cluster_water_random)}')\n",
    "# ax.scatter(X_water.values[:,0],X_water.values[:,1], label=f'Cluster Water {len(y_water)}')\n",
    "ax.scatter(X_water_target.values[:,0], X_water_target.values[:,1], label=f'Target (v.4.2.1) Water {len(X_water_target)}')\n",
    "ax.tick_params(axis='both', which='major', labelsize=10)\n",
    "ax.tick_params(axis='both', which='minor', labelsize=10)\n",
    "ax.legend(loc='lower right',fontsize=\"12\")\n",
    "ax.set_xlabel(X_cluster_water_random.columns[0])\n",
    "ax.set_ylabel(X_cluster_water_random.columns[1])\n",
    "\n",
    "\n",
    "ax1 = plt.subplot(122)\n",
    "ax1.set_title('Land Datapoints')\n",
    "ax1.scatter(X_cluster_land_random.values[:,0], X_cluster_land_random.values[:,1], label=f'Cluster Land {len(y_cluster_land_random)}')\n",
    "ax1.scatter(X_land_target.values[:,0], X_land_target.values[:,1],label=f'Target (v.4.2.1) Land {len(X_land_target)}')\n",
    "ax1.tick_params(axis='both', which='major', labelsize=10)\n",
    "ax1.tick_params(axis='both', which='minor', labelsize=10)\n",
    "ax1.legend(loc='lower right',fontsize=\"12\")\n",
    "ax1.set_xlabel(X_cluster_water_random.columns[0])\n",
    "ax1.set_ylabel(X_cluster_water_random.columns[1])\n",
    "\n",
    "plt.show()"
   ]
  },
  {
   "cell_type": "markdown",
   "id": "f22a4cca-556f-4e75-bc92-6361608f42c2",
   "metadata": {
    "tags": []
   },
   "source": [
    "### Percentage Random pulled datapoints"
   ]
  },
  {
   "cell_type": "code",
   "execution_count": 104,
   "id": "a5a6a8c5-ad0e-4e6c-89b7-7e75526f654f",
   "metadata": {},
   "outputs": [],
   "source": [
    "# List of the clusters: kmeans_output_land and kmeans_output_water\n",
    "# Data: X_water, X_land, y_water, y_land\n",
    "\n",
    "PERCENT_RANDOM_PULL = 0.15"
   ]
  },
  {
   "cell_type": "code",
   "execution_count": 105,
   "id": "7ee2dae0-b83d-470b-ae1d-daffa1c42816",
   "metadata": {},
   "outputs": [
    {
     "name": "stdout",
     "output_type": "stream",
     "text": [
      "cluster 0\n",
      "Pulling 25996 Water pts and 41521 Land pts\n",
      "\n",
      "cluster 1\n",
      "Pulling 7689 Water pts and 1244 Land pts\n",
      "\n",
      "cluster 2\n",
      "Pulling 33532 Water pts and 34956 Land pts\n",
      "\n",
      "cluster 3\n",
      "Pulling 5126 Water pts and 36529 Land pts\n",
      "\n",
      "cluster 4\n",
      "Pulling 25323 Water pts and 26878 Land pts\n",
      "\n",
      "cluster 5\n",
      "Pulling 6766 Water pts and 42136 Land pts\n",
      "\n",
      "cluster 6\n",
      "Pulling 31312 Water pts and 13153 Land pts\n",
      "\n",
      "cluster 7\n",
      "Pulling 5275 Water pts and 26399 Land pts\n",
      "\n",
      "cluster 8\n",
      "Pulling 13338 Water pts and 12968 Land pts\n",
      "\n",
      "cluster 9\n",
      "Pulling 51767 Water pts and 39669 Land pts\n",
      "\n",
      "cluster 10\n",
      "Pulling 31269 Water pts and 22021 Land pts\n",
      "\n",
      "cluster 11\n",
      "Cluster 11 contains outliers\n",
      "Pulling 1303 Water pts and 19483 Land pts\n",
      "\n",
      "cluster 12\n",
      "Pulling 14346 Water pts and 171 Land pts\n",
      "\n",
      "cluster 13\n",
      "Pulling 38417 Water pts and 42546 Land pts\n",
      "\n",
      "cluster 14\n",
      "Pulling 5086 Water pts and 141 Land pts\n",
      "\n",
      "[ 311922 1444321 1673124 ...  425749 1719175  660718] [1502798  619618  428840 ...  792531 1216195  546298]\n"
     ]
    }
   ],
   "source": [
    "# np.random.seed(42)\n",
    "random_ind_land = np.array([])\n",
    "random_ind_water = []\n",
    "\n",
    "for cluster in np.unique(kmeans_output_water_random):\n",
    "    print(f'cluster {cluster}')\n",
    "    cluster_ind_water = np.where(kmeans_output_water_random == cluster)[0]\n",
    "    # cluster_ind_water = np.where(bgm_water == cluster)[0]\n",
    "    COUNT_RANDOM_PULL_WATER = int(PERCENT_RANDOM_PULL*len(cluster_ind_water))\n",
    "    random_pts_water = np.random.choice(cluster_ind_water,COUNT_RANDOM_PULL_WATER,replace=False)\n",
    "    max_X_random_water = np.nanmax(X_water['sur_refl_b01_1'].iloc[random_pts_water])\n",
    "    if max_X_random_water < 10000:\n",
    "        random_ind_water = np.append(random_ind_water, random_pts_water)\n",
    "    else: print(f'Cluster {cluster} contains outliers')\n",
    "    \n",
    "    cluster_ind_land = np.where(kmeans_output_land_random == cluster)[0]\n",
    "    # cluster_ind_land = np.where(bgm_land == cluster)[0]\n",
    "    COUNT_RANDOM_PULL_LAND = int(PERCENT_RANDOM_PULL*len(cluster_ind_land))\n",
    "    random_pts_land = np.random.choice(cluster_ind_land,COUNT_RANDOM_PULL_LAND,replace=False)\n",
    "    random_ind_land = np.append(random_ind_land, random_pts_land)\n",
    "    print(f'Pulling {COUNT_RANDOM_PULL_WATER} Water pts and {COUNT_RANDOM_PULL_LAND} Land pts')\n",
    "    print()\n",
    "random_ind_water = random_ind_water.astype('int')\n",
    "random_ind_land = random_ind_land.astype('int')\n",
    "\n",
    "print(random_ind_water,random_ind_land)"
   ]
  },
  {
   "cell_type": "code",
   "execution_count": null,
   "id": "58dd5a1c-fb13-4e2a-800d-21a1864f1ac8",
   "metadata": {},
   "outputs": [],
   "source": []
  },
  {
   "cell_type": "markdown",
   "id": "0d307387-dc6d-49ce-be7d-af4346607953",
   "metadata": {
    "tags": []
   },
   "source": [
    "#### Total random dataset used for training random forest"
   ]
  },
  {
   "cell_type": "code",
   "execution_count": 106,
   "id": "0b1e0e4d-7b22-4fca-a93a-f16d7da8571d",
   "metadata": {},
   "outputs": [],
   "source": [
    "X_cluster_land_random = X_land.iloc[random_ind_land]\n",
    "y_cluster_land_random = y_land.iloc[random_ind_land]\n",
    "X_cluster_water_random = X_water.iloc[random_ind_water]\n",
    "y_cluster_water_random = y_water.iloc[random_ind_water]\n",
    "\n",
    "X_cluster_random = pd.concat([X_cluster_land_random,X_cluster_water_random])\n",
    "y_cluster_random = pd.concat([y_cluster_land_random,y_cluster_water_random])\n",
    "\n",
    "#Combine the data so that we can shuffle the indices and keep the data together that should be\n",
    "All_data_random = pd.concat([X_cluster_random,y_cluster_random],axis=1).sample(frac=1)\n",
    "\n",
    "X_cluster_rfa_random = All_data_random[X_cluster_random.columns]\n",
    "y_cluster_rfa_random = All_data_random['water']"
   ]
  },
  {
   "cell_type": "code",
   "execution_count": null,
   "id": "9ba98450-3b2d-46b7-8445-94e67036f79e",
   "metadata": {
    "tags": []
   },
   "outputs": [],
   "source": [
    "print(len(X_cluster_land_random),len(X_cluster_water_random))"
   ]
  },
  {
   "cell_type": "markdown",
   "id": "ff19b9f8-4054-4be9-ab21-7f096752a0bb",
   "metadata": {
    "jp-MarkdownHeadingCollapsed": true,
    "tags": []
   },
   "source": [
    "#### plot"
   ]
  },
  {
   "cell_type": "code",
   "execution_count": null,
   "id": "4cd75368-addb-408e-8316-addb8119e955",
   "metadata": {
    "tags": []
   },
   "outputs": [],
   "source": [
    "print(All_data_random)\n",
    "print(X_cluster_rfa_random)\n",
    "print(y_cluster_rfa_random)"
   ]
  },
  {
   "cell_type": "code",
   "execution_count": null,
   "id": "babee82e-76d6-44f2-99ff-266b579ee2f8",
   "metadata": {},
   "outputs": [],
   "source": [
    "fig = plt.figure(figsize = (15, 7))\n",
    "\n",
    "plt.suptitle(f'v0.0.0 Land and Water Datapoints,'+ \n",
    "    f' {int(100*PERCENT_RANDOM_PULL)}% Randomly Chosen from {len(np.unique(kmeans_output_land_random))} Clusters')\n",
    "\n",
    "ax = plt.subplot(121)\n",
    "#No random sample\n",
    "# ax.scatter(X_water.values[:,0], X_water.values[:,1],label=f'All Water {len(y_water)}')\n",
    "# ax.scatter(X_land.values[:,0], X_land.values[:,1],label=f'All Land {len(y_land)}')\n",
    "#Randomly sampled data\n",
    "ax.set_title('Water Datapoints')\n",
    "ax.scatter(X_cluster_water_random .values[:,0],X_cluster_water_random.values[:,1], label=f'Cluster Water {len(y_cluster_water_random)}')\n",
    "ax.scatter(X_water_target.values[:,0], X_water_target.values[:,1], label=f'Target Water {len(X_water_target)}')\n",
    "ax.tick_params(axis='both', which='major', labelsize=10)\n",
    "ax.tick_params(axis='both', which='minor', labelsize=10)\n",
    "ax.legend(loc='lower right',fontsize=\"12\")\n",
    "ax.set_xlabel(X_cluster_water_random.columns[0])\n",
    "ax.set_ylabel(X_cluster_water_random.columns[1])\n",
    "\n",
    "\n",
    "ax1 = plt.subplot(122)\n",
    "ax1.set_title('Land Datapoints')\n",
    "ax1.scatter(X_cluster_land_random.values[:,0], X_cluster_land_random.values[:,1], label=f'Cluster Land {len(y_cluster_land_random)}')\n",
    "ax1.scatter(X_land_target.values[:,0], X_land_target.values[:,1],label=f'Target Land {len(X_land_target)}')\n",
    "ax1.tick_params(axis='both', which='major', labelsize=10)\n",
    "ax1.tick_params(axis='both', which='minor', labelsize=10)\n",
    "ax1.legend(loc='lower right',fontsize=\"12\")\n",
    "ax1.set_xlabel(X_cluster_water_random.columns[0])\n",
    "ax1.set_ylabel(X_cluster_water_random.columns[1])\n",
    "\n",
    "plt.show()"
   ]
  },
  {
   "cell_type": "code",
   "execution_count": null,
   "id": "d3478908-2267-4771-8de5-c404fbc28710",
   "metadata": {},
   "outputs": [],
   "source": [
    "# fig = plt.figure(figsize = (15, 7))\n",
    "\n",
    "# plt.suptitle(f'{DATA_VERSION} Land and Water Datapoints,'+ \n",
    "#     f' {int(100*PERCENT_RANDOM_PULL)}% Randomly Chosen from {len(np.unique(kmeans_output_land))} Clusters')\n",
    "\n",
    "# ax = plt.subplot(121,projection='3d')\n",
    "# #No random sample\n",
    "# # ax.scatter(X_water.values[:,0], X_water.values[:,1],label=f'All Water {len(y_water)}')\n",
    "# # ax.scatter(X_land.values[:,0], X_land.values[:,1],label=f'All Land {len(y_land)}')\n",
    "# #Randomly sampled data\n",
    "# ax.set_title('Water Datapoints')\n",
    "# ax.scatter(X_cluster_water.values[:,0], X_cluster_water.values[:,1], X_cluster_water.values[:,2],label=f'Cluster Water {len(y_random_water)}')\n",
    "# ax.scatter(X_water_target.values[:,0], X_water_target.values[:,1], X_water_target.values[:,2],label=f'Target Water {len(X_water_target)}')\n",
    "# ax.tick_params(axis='both', which='major', labelsize=10)\n",
    "# ax.tick_params(axis='both', which='minor', labelsize=10)\n",
    "# ax.legend(loc='lower right',fontsize=\"12\")\n",
    "# ax.set_xlabel(X_random_water.columns[0])\n",
    "# ax.set_ylabel(X_random_water.columns[1])\n",
    "# ax.set_zlabel(X_random_water.columns[2])\n",
    "\n",
    "# ax1 = plt.subplot(122,projection='3d')\n",
    "# ax1.set_title('Land Datapoints')\n",
    "# ax1.scatter(X_cluster_land_random.values[:,0], X_cluster_land_random.values[:,1], X_cluster_land.values[:,2],label=f'Cluster Land {len(y_random_land)}')\n",
    "# ax1.scatter(X_land_target.values[:,0], X_land_target.values[:,1], X_land_target.values[:,2],label=f'Target Land {len(X_land_target)}')\n",
    "# ax1.tick_params(axis='both', which='major', labelsize=10)\n",
    "# ax1.tick_params(axis='both', which='minor', labelsize=10)\n",
    "# ax1.legend(loc='lower right',fontsize=\"12\")\n",
    "# ax1.set_xlabel(X_random_water.columns[0])\n",
    "# ax1.set_ylabel(X_random_water.columns[1])\n",
    "# ax1.set_zlabel(X_random_water.columns[2])\n",
    "\n",
    "# plt.show()"
   ]
  },
  {
   "cell_type": "markdown",
   "id": "8fb20734-655c-4f7c-a544-57ba55f583f0",
   "metadata": {
    "jp-MarkdownHeadingCollapsed": true,
    "tags": []
   },
   "source": [
    "### Distance from Centroid Cluster"
   ]
  },
  {
   "cell_type": "code",
   "execution_count": null,
   "id": "d96937fe-ddf3-4314-b9e8-28323e0d60d1",
   "metadata": {},
   "outputs": [],
   "source": [
    "print(np.unique(kmeans_output_water))"
   ]
  },
  {
   "cell_type": "code",
   "execution_count": null,
   "id": "2d601296-fa2e-4dc4-bf1b-ce765b117949",
   "metadata": {},
   "outputs": [],
   "source": [
    "np.random.seed(42)\n",
    "center_ind_land = np.array([])\n",
    "center_ind_water = np.array([])\n",
    "water_cluster_distance = kme_water.transform(X_water)\n",
    "land_cluster_distance = kme_land.transform(X_land)\n",
    "\n",
    "# DISTANCE_BOUNDS = \n",
    "\n",
    "\n",
    "for cluster in np.unique(kmeans_output_land):\n",
    "    print(f'cluster {cluster}')\n",
    "    cluster_ind_water = np.where(kmeans_output_water == cluster)[0]\n",
    "    print(cluster_ind_water)\n",
    "    clustered_water_distance = water_cluster_distance[cluster_ind_water,cluster]\n",
    "    \n",
    "    centroid_cluster_pts_water = np.where(clustered_water_distance < \n",
    "                    np.nanpercentile(clustered_water_distance,10))[0]\n",
    "    center_ind_water = np.append(center_ind_water, centroid_cluster_pts_water)\n",
    "    \n",
    "#     fig = plt.figure(figsize = (25, 10))\n",
    "#     ax = plt.subplot(111,projection='3d')\n",
    "#     # No random sample\n",
    "#     # ax.scatter(X_land.values[:,0], X_land.values[:,1],label=f'All Land {len(y_land)}',\n",
    "#     #        c=clustered_points_land) \n",
    "#     ax.scatter(X_land.values[cluster_ind_water,0], \n",
    "#                X_land.values[cluster_ind_water,1],\n",
    "#                X_land.values[cluster_ind_water,2],\n",
    "#                label=f'All Land {len(y_land)}',\n",
    "#                alpha=0.2\n",
    "#            ) \n",
    "#     ax.scatter(X_land.values[centroid_cluster_pts_water,0], \n",
    "#                X_land.values[centroid_cluster_pts_water,1],\n",
    "#                X_land.values[centroid_cluster_pts_water,2],\n",
    "#                label=f'Cluster',\n",
    "#            ) \n",
    "#     plt.show()\n",
    "    \n",
    "    cluster_ind_land = np.where(kmeans_output_land == cluster)[0]\n",
    "    clustered_land_distance = land_cluster_distance[cluster_ind_land,cluster]\n",
    "    centroid_cluster_pts_land = np.where(clustered_land_distance < np.nanpercentile(clustered_land_distance,10))[0]\n",
    "    center_ind_land = np.append(center_ind_land, centroid_cluster_pts_land)\n",
    "    \n",
    "        \n",
    "    print(f'Pulling {len(centroid_cluster_pts_water)} Water pts and {len(centroid_cluster_pts_land)} Land pts')\n",
    "    \n",
    "    #https://stackoverflow.com/questions/54240144/distance-between-nodes-and-the-centroid-in-a-kmeans-cluster \n",
    "    #how to identify distance from the center \n",
    "    \n",
    "center_ind_water = center_ind_water.astype('int')\n",
    "center_ind_land = center_ind_land.astype('int')\n",
    "\n",
    "print(np.shape(center_ind_land),np.shape(center_ind_water))\n",
    "print(center_ind_water,center_ind_land)"
   ]
  },
  {
   "cell_type": "code",
   "execution_count": null,
   "id": "173dbc78-dbe5-458a-83bc-044c7ed0d424",
   "metadata": {},
   "outputs": [],
   "source": [
    "X_cluster_land_center = X_land.iloc[center_ind_land]\n",
    "y_cluster_land_center = y_land.iloc[center_ind_land]\n",
    "X_cluster_water_center = X_water.iloc[center_ind_water]\n",
    "y_cluster_water_center = y_water.iloc[center_ind_water]\n",
    "\n",
    "X_cluster_center = pd.concat([X_cluster_land_center,X_cluster_water_center])\n",
    "y_cluster_center = pd.concat([y_cluster_land_center,y_cluster_water_center])\n",
    "\n",
    "#Combine the data so that we can shuffle the indices and keep the data together that should be\n",
    "All_data_center = pd.concat([X_cluster_center,y_cluster_center],axis=1).sample(frac=1)\n",
    "\n",
    "X_cluster_rfa_center = All_data_center[X_cluster_center.columns]\n",
    "y_cluster_rfa_center = All_data_center['water']"
   ]
  },
  {
   "cell_type": "code",
   "execution_count": null,
   "id": "924da543-16c3-4a02-bbe7-fa37b8f01f40",
   "metadata": {},
   "outputs": [],
   "source": [
    "# clustered_points_land = np.ones(np.shape(X_land.iloc[:,0]))\n",
    "# clustered_points_land[center_ind_land] = 2.0\n",
    "# print(clustered_points_land[:1200])\n",
    "\n",
    "# fig = plt.figure(figsize = (25, 10))\n",
    "# ax = plt.subplot(111)\n",
    "# #No random sample\n",
    "# ax.scatter(X_land.values[:,0], X_land.values[:,1],label=f'All Land {len(y_land)}',\n",
    "#            c=clustered_points_land)\n",
    "# # #Randomly sampled data\n",
    "# # ax.scatter(X_random_water.values[:,0], X_random_water.values[:,1],label=f'Samp Water {len(y_random_water)}')\n",
    "# # ax.scatter(X_random_land.values[:,0], X_random_land.values[:,1],label=f'Samp Land {len(y_random_land)}')\n",
    "\n",
    "# # ax.set_title(f'{DATA_VERSION} Land and Water Datapoints'+ \n",
    "# #     f'\\n {int(100*PERCENT_RANDOM_PULL)}% Randomly Chosen from {len(np.unique(kmeans_output_land))} Clusters')\n",
    "# # ax.tick_params(axis='both', which='major', labelsize=10)\n",
    "# # ax.tick_params(axis='both', which='minor', labelsize=10)\n",
    "# # ax.legend(loc='lower right',fontsize=\"12\")\n",
    "# # ax.set_xlabel(X_random_water.columns[0])\n",
    "# # ax.set_ylabel(X_random_water.columns[1])\n",
    "\n",
    "# plt.show()"
   ]
  },
  {
   "cell_type": "code",
   "execution_count": null,
   "id": "7116d6c8-c958-46d7-adae-c594f1cca9fc",
   "metadata": {},
   "outputs": [],
   "source": [
    "# #No random sample\n",
    "# ax.hist(X_water.values[:,0],label=f'All Water {len(y_water)}',alpha=0.8)\n",
    "# ax.hist(X_land.values[:,0],label=f'All Land {len(y_land)}', alpha=0.8)\n",
    "# ax.hist(X_random_water.values[:,0],label=f'Samp Water {len(y_random_water)}', alpha=0.8)\n",
    "# ax.hist(X_random_land.values[:,0], label=f'Samp Land {len(y_random_land)}',alpha=0.8) \n",
    "# # ax.scatter(X_land.values[:,0], X_land.values[:,1],label=f'All Land {len(y_land)}')\n",
    "# # #Randomly sampled data\n",
    "# # ax.scatter(X_random_water.values[:,0], X_random_water.values[:,1],label=f'Samp Water {len(y_random_water)}')\n",
    "# # ax.scatter(X_random_land.values[:,0], X_random_land.values[:,1],label=f'Samp Land {len(y_random_land)}')\n",
    "\n",
    "# ax.set_title(f'{DATA_VERSION} Land and Water Datapoints'+ \n",
    "#     f'\\n {int(100*PERCENT_RANDOM_PULL)}% Randomly Chosen from {len(np.unique(kmeans_output_land))} Clusters')\n",
    "# ax.tick_params(axis='both', which='major', labelsize=10)\n",
    "# ax.tick_params(axis='both', which='minor', labelsize=10)\n",
    "# ax.legend(loc='lower right',fontsize=\"12\")\n",
    "# ax.set_xlabel(X_random_water.columns[0])\n",
    "# # ax.set_ylabel(X_random_water.columns[1])\n",
    "\n",
    "# plt.show()"
   ]
  },
  {
   "cell_type": "code",
   "execution_count": null,
   "id": "7ce60e95-e471-4c4a-a292-7d3e4152cca1",
   "metadata": {},
   "outputs": [],
   "source": []
  },
  {
   "cell_type": "code",
   "execution_count": null,
   "id": "b049d7c2-e32e-4e02-9b1f-c65858b16a36",
   "metadata": {},
   "outputs": [],
   "source": [
    "y_cluster_water_random \n",
    "y_cluster_water_center"
   ]
  },
  {
   "cell_type": "code",
   "execution_count": null,
   "id": "5134d397-f7fc-4ca8-baad-13a57f478a67",
   "metadata": {},
   "outputs": [],
   "source": [
    "fig = plt.figure(figsize = (15, 7))\n",
    "\n",
    "plt.suptitle(f'{DATA_VERSION} Land and Water Datapoints,'+ \n",
    "    f' {int(100*PERCENT_RANDOM_PULL)}% Randomly Chosen from {len(np.unique(kmeans_output_land))} Clusters')\n",
    "\n",
    "ax = plt.subplot(121)\n",
    "#No random sample\n",
    "# ax.scatter(X_water.values[:,0], X_water.values[:,1],label=f'All Water {len(y_water)}')\n",
    "# ax.scatter(X_land.values[:,0], X_land.values[:,1],label=f'All Land {len(y_land)}')\n",
    "#Randomly sampled data\n",
    "ax.set_title('Water Datapoints')\n",
    "ax.scatter(X_cluster_water_random.values[:,0], X_cluster_water_random.values[:,1],label=f'Cluster Water Random {len(y_cluster_water_random )}')\n",
    "ax.scatter(X_cluster_water_center.values[:,0], X_cluster_water_center.values[:,1],label=f'Cluster Water Centered {len(y_cluster_water_center)}')\n",
    "ax.legend(loc='lower right',fontsize=\"12\")\n",
    "           \n",
    "    \n",
    "ax = plt.subplot(122)\n",
    "#No random sample\n",
    "# ax.scatter(X_water.values[:,0], X_water.values[:,1],label=f'All Water {len(y_water)}')\n",
    "# ax.scatter(X_land.values[:,0], X_land.values[:,1],label=f'All Land {len(y_land)}')\n",
    "#Randomly sampled data\n",
    "ax.set_title('Land Datapoints')\n",
    "ax.scatter(X_cluster_land_random.values[:,0], X_cluster_land_random.values[:,1],label=f'Cluster Land Random {len(y_cluster_land_random )}')\n",
    "ax.scatter(X_cluster_land_center.values[:,0], X_cluster_land_center.values[:,1],label=f'Cluster Land Centered {len(y_cluster_land_center)}')\n",
    "ax.legend(loc='lower right',fontsize=\"12\")\n",
    "           \n",
    "plt.show()"
   ]
  },
  {
   "cell_type": "markdown",
   "id": "6b1275f9-da11-4eb5-ac74-c72516afe64d",
   "metadata": {},
   "source": [
    "https://medium.com/@prasadostwal/multi-dimension-plots-in-python-from-2d-to-6d-9a2bf7b8cc74 for adding in more dimensions for plotting"
   ]
  },
  {
   "cell_type": "markdown",
   "id": "44ed9581-542c-433e-a139-1a45a83d9612",
   "metadata": {
    "tags": []
   },
   "source": [
    "## Random forest"
   ]
  },
  {
   "cell_type": "markdown",
   "id": "e319c40e-f6bf-4508-8a4f-4d02ab8d1a05",
   "metadata": {
    "tags": []
   },
   "source": [
    "#### paths"
   ]
  },
  {
   "cell_type": "code",
   "execution_count": 9,
   "id": "db509007-8c29-4049-b7cb-b1c2e172b435",
   "metadata": {},
   "outputs": [],
   "source": [
    "import optuna\n",
    "from sklearn.ensemble import RandomForestClassifier as skRF\n",
    "from sklearn.metrics import confusion_matrix, accuracy_score, roc_auc_score, precision_score, f1_score\n",
    "from sklearn.metrics import classification_report, roc_curve, auc, matthews_corrcoef\n",
    "from sklearn.model_selection import RandomizedSearchCV, KFold, StratifiedKFold\n",
    "from sklearn.inspection import permutation_importance\n",
    "\n",
    "\n",
    "#GDAL Stuff\n",
    "from osgeo import gdalconst\n",
    "from osgeo import gdal\n",
    "from pprint import pprint"
   ]
  },
  {
   "cell_type": "code",
   "execution_count": 10,
   "id": "3e0fcb22-fca3-4a5d-940f-01139be277d3",
   "metadata": {},
   "outputs": [
    {
     "name": "stdout",
     "output_type": "stream",
     "text": [
      "h11v02_233_2006_frac-water50_no-vars_sur_refl_b03_1-sur_refl_b04_1-sur_refl_b05_1-sur_refl_b06_1-ndwi1-ndwi2\n"
     ]
    }
   ],
   "source": [
    "FIGURE_OUTPUT_DIR = ''#/explore/nobackup/projects/ilab/scratch/cssprad1/MODIS_water/code/tmp'\n",
    "RASTER_OUTPUT_DIR = ''#/explore/nobackup/projects/ilab/scratch/cssprad1/MODIS_water/code/tmp'\n",
    "MODEL_OUTPUT_DIR = ''#/explore/nobackup/projects/ilab/scratch/cssprad1/MODIS_water/models/'\n",
    "\n",
    "qaMaskPath = '/explore/nobackup/projects/ilab/data/MODIS/MODIS_WATER_ML/qa'\n",
    "waterMaskPath = '/explore/nobackup/people/mcarrol2/MODIS_water/v5_outputs'\n",
    "\n",
    "test_data_basepath = '/explore/nobackup/projects/ilab/data/MODIS/MODIS_WATER_ML/test_data/'\n",
    "\n",
    "\n",
    "TILE = 'h11v02'\n",
    "DAY = 233\n",
    "YEAR = 2006\n",
    "\n",
    "# TILE = 'h21v10'\n",
    "# DAY = 100\n",
    "# YEAR = 2019\n",
    "\n",
    "FRAC_LAND = 0.5\n",
    "\n",
    "##Add in the other stuff for tuning\n",
    "frac_water = int(100*(1.0-FRAC_LAND))\n",
    "if len(colsToDrop) >= 1:\n",
    "    save_file = f\"{TILE}_{DAY}_{YEAR}_frac-water{frac_water}_no-vars_{'-'.join(colsToDrop)}\"\n",
    "else: \n",
    "     save_file = f\"{TILE}_{DAY}_{YEAR}_frac-water{frac_water}_all-vars\"\n",
    "\n",
    "print(save_file)"
   ]
  },
  {
   "cell_type": "markdown",
   "id": "15bc7e41-cd94-4ca8-8ed3-df7bd2568922",
   "metadata": {
    "tags": []
   },
   "source": [
    "#### RF FUNCTIONS"
   ]
  },
  {
   "cell_type": "code",
   "execution_count": 11,
   "id": "c3244e03-63f5-45f2-b28d-dfcd6b7bc8e0",
   "metadata": {},
   "outputs": [],
   "source": [
    "def rf_objective(trial):\n",
    "    list_trees = [75, 100, 125, 150, 175, 200, 250, 300, 400, 500]\n",
    "    max_depth = [5, 10, 30, 50, 80, 90, 100, 110]\n",
    "    min_samples_leaf = [1, 2, 3, 4, 5]\n",
    "    min_samples_split = [2, 4, 8, 10]\n",
    "    bootstrap = [True, False]\n",
    "    max_features = ['auto', 'sqrt', 'log2']\n",
    "    \n",
    "    # if TREES_AND_DEPTH_ONLY:\n",
    "    #     param = {'n_estimators': trial.suggest_categorical('n_estimators', list_trees), \n",
    "    #                'criterion':'gini', \n",
    "    #                'max_depth':trial.suggest_categorical('max_depth', max_depth), \n",
    "    #                'min_samples_split':2, \n",
    "    #                'min_samples_leaf':1, \n",
    "    #                'min_weight_fraction_leaf':0.0, \n",
    "    #                'max_features':'auto', \n",
    "    #                'max_leaf_nodes':None, \n",
    "    #                'min_impurity_decrease':0.0, \n",
    "    #                'bootstrap':True, \n",
    "    #                'oob_score':False, \n",
    "    #                'n_jobs':-1, \n",
    "    #                # 'random_state':42, \n",
    "    #                'verbose':0, \n",
    "    #                'warm_start':True, \n",
    "    #                'class_weight':None, \n",
    "    #                'ccp_alpha':0.0, \n",
    "    #                'max_samples':None\n",
    "    #                   }\n",
    "    # else:\n",
    "    param = {'n_estimators': trial.suggest_categorical('n_estimators', list_trees), \n",
    "                       'max_depth':trial.suggest_categorical('max_depth', max_depth), \n",
    "                       'min_samples_split':trial.suggest_categorical('min_samples_split', min_samples_split), \n",
    "                       'min_samples_leaf':trial.suggest_categorical('min_samples_leaf', min_samples_leaf), \n",
    "                       'bootstrap': trial.suggest_categorical('bootstrap', bootstrap),\n",
    "                       'criterion':'gini', \n",
    "                       #'min_weight_fraction_leaf': trial.suggest_float('min_weight_fraction_leaf', 1e-8, 1.0, log=True), \n",
    "                       'max_features':trial.suggest_categorical('max_features', max_features), \n",
    "                       'max_leaf_nodes':None, \n",
    "                       'min_impurity_decrease':0.0, \n",
    "                       'oob_score':False, \n",
    "                       'n_jobs':-1, \n",
    "                       # 'random_state':42, \n",
    "                       'verbose':0, \n",
    "                       'warm_start':False, \n",
    "                       'class_weight':None, \n",
    "                       'ccp_alpha':0.0, \n",
    "                       'max_samples':None\n",
    "                      }\n",
    "    cv = StratifiedKFold(n_splits=5, shuffle=True, random_state=42)\n",
    "\n",
    "    #######################\n",
    "    # HERE IS WHERE TO CHANGE THE X,Y DATASET USED FOR TRAINING\n",
    "    #######################\n",
    "   \n",
    "    cv_scores = np.empty(5)\n",
    "    for idx, (train_idx, val_idx) in enumerate(cv.split(X,y)):\n",
    "        X_train, X_val = X.iloc[train_idx], X.iloc[val_idx]\n",
    "        y_train, y_val = y.iloc[train_idx],  y.iloc[val_idx]\n",
    "\n",
    "#     for idx, (train_idx, val_idx) in enumerate(cv.split(X_cluster_rfa_random,  y_cluster_rfa_random)):    \n",
    "#         X_train, X_val = X_cluster_rfa_random.iloc[train_idx], X_cluster_rfa_random.iloc[val_idx]\n",
    "#         y_train, y_val = y_cluster_rfa_random.iloc[train_idx],  y_cluster_rfa_random.iloc[val_idx]\n",
    "        \n",
    "    # for idx, (train_idx, val_idx) in enumerate(cv.split(X_cluster_rfa_center, y_cluster_rfa_center)):\n",
    "    #     X_train, X_val = X_cluster_rfa_center.iloc[train_idx], X_cluster_rfa_center.iloc[val_idx]\n",
    "    #     y_train, y_val = y_cluster_rfa_center.iloc[train_idx], y_cluster_rfa_center.iloc[val_idx]\n",
    "\n",
    "        model = skRF(**param)\n",
    "        model.fit(X_train, y_train)\n",
    "        preds = model.predict(X_val)\n",
    "        cv_scores[idx] = f1_score(y_val, preds)\n",
    "        if cv_scores[idx] == 0.0:\n",
    "            print('Pruning because of 0.0 score.')\n",
    "            return 0.0\n",
    "        print('Fold {}: {}'.format(idx, cv_scores[idx]))\n",
    "    return np.mean(cv_scores)\n",
    "\n",
    "search_space={\n",
    "    \"n_estimators\": [75, 100, 125, 150, 175, 200, 250, 300, 400, 500],\n",
    "    \"max_depth\" : [5,10, 30, 50, 80, 90, 100, 110],\n",
    "    \"min_samples_leaf\" : [1, 2, 3, 4, 5],\n",
    "    \"min_samples_split\" : [2, 4, 8, 10],\n",
    "    \"bootstrap\" : [True, False],\n",
    "    \"max_features\" : ['auto', 'sqrt', 'log2'],\n",
    "    \n",
    "}"
   ]
  },
  {
   "cell_type": "code",
   "execution_count": 22,
   "id": "b219a8e9-9326-4ed7-a54e-b0d1dd519a0e",
   "metadata": {},
   "outputs": [],
   "source": [
    "def readRasterToArray(vars_list):\n",
    "    vrt_options = gdal.BuildVRTOptions(xRes=231.656358, yRes=231.656358, separate=True)\n",
    "    dd = gdal.BuildVRT('tmp.vrt', vars_list, options=vrt_options)\n",
    "    nrows, ncols = dd.RasterYSize, dd.RasterXSize\n",
    "    newshp = (ncols*nrows, dd.RasterCount+3)\n",
    "    img = np.empty(newshp, dtype=np.int16)\n",
    "    for b in range(len(vars_list)):\n",
    "        img[:, b] = dd.GetRasterBand(b+1).ReadAsArray().astype(np.int16).ravel()\n",
    "    dd = None\n",
    "    img[:, len(vars_list)] = ((img[:, 1] - img[:, 0]) / (img[:, 1] + img[:, 0])) * 10000\n",
    "    img[:, len(vars_list)+1] = ((img[:, 1] - img[:, 5]) / (img[:, 1] + img[:, 5])) * 10000\n",
    "    img[:, len(vars_list)+2] = ((img[:, 1] - img[:, 6]) / (img[:, 1] + img[:, 6])) * 10000\n",
    "    if os.path.exists('tmp.vrt'): os.remove('tmp.vrt')\n",
    "    \n",
    "    return img"
   ]
  },
  {
   "cell_type": "code",
   "execution_count": 23,
   "id": "1259beb7-02bb-4b98-8659-acde548b7efc",
   "metadata": {},
   "outputs": [],
   "source": [
    "def predictRaster(img_chunk, classifier, colsToDrop=None):\n",
    "    \"\"\"\n",
    "    Function given a raster in the form of a nxn matrix, will\n",
    "    convert the matrix to a GPU/CPU-bound data frame then perform \n",
    "    predictions given the loaded model.\n",
    "    \n",
    "    Return the prediction matrix, the prediction probabilities\n",
    "    for each and the dataframe converted to host.\n",
    "    \"\"\"\n",
    "    df = pd.DataFrame(img_chunk, columns=v_names, dtype=np.int16)\n",
    "    df = df.drop(columns=colsToDrop) if colsToDrop else df\n",
    "    print('Making predictions from raster')\n",
    "    predictions = classifier.predict(df).astype(np.int16)\n",
    "    predictionsProbs = classifier.predict_proba(df).astype(np.float32)\n",
    "    return predictions, predictionsProbs, df"
   ]
  },
  {
   "cell_type": "code",
   "execution_count": 24,
   "id": "5f630e32-4d46-415c-8fbd-d6a466d203a4",
   "metadata": {},
   "outputs": [],
   "source": [
    "import folium\n",
    "import glob\n",
    "import numpy as np\n",
    "import os\n",
    "import rasterio as rio\n",
    "import tempfile\n",
    "\n",
    "from rasterio.warp import calculate_default_transform, reproject, Resampling\n",
    "from pyproj import Transformer \n",
    "\n",
    "\n",
    "# -----------------------------------------------------------------------------\n",
    "# Uses rasterio to open a raster, get the metadata and crs\n",
    "# associated with it and get all the subdatasets in the file.\n",
    "# This is very useful for hdf files such as MODIS hdfs.\n",
    "# -----------------------------------------------------------------------------\n",
    "def print_subdatasets(filename):\n",
    "    bands_to_return = []\n",
    "    with rio.open(filename) as dataset:\n",
    "        meta_data = dataset.meta\n",
    "        crs = dataset.read_crs()\n",
    "        \n",
    "        print([name for name in dataset.subdatasets if search_term in name])\n",
    "\n",
    "# -----------------------------------------------------------------------------\n",
    "# Gets a tiff that has the correct metadata for that tile, gets the metadata\n",
    "# from the source tif and copies to a destination tiff. \n",
    "# -----------------------------------------------------------------------------     \n",
    "def add_metadata_to_annual_product(filepath, model_type, year, tile):\n",
    "    metadata_pull_src = [fv for fv in glob.glob(os.path.join(filepath, \"{}-1*-{}-MOD-*.tif\".format(year, tile)))][0]\n",
    "    with rio.open(metadata_pull_src) as src:\n",
    "        src_meta = src.meta\n",
    "    dst_tiffs = [os.path.join(filepath, fn) for fn in os.listdir(filepath) if \"{0}-{1}\".format(year, tile) in os.path.basename(fn)]\n",
    "    [copy_meta(dst_tiff, src_meta, metadata_pull_src) for dst_tiff in dst_tiffs]\n",
    "\n",
    "# -----------------------------------------------------------------------------\n",
    "# Given a path to a tiff with no metadata, assign the metadata given to that\n",
    "# tiff.\n",
    "# -----------------------------------------------------------------------------     \n",
    "def copy_meta(dst_path, src_meta, src_name):\n",
    "    print('Copying metadata from {} to {}'.format(src_name, dst_path))\n",
    "    with rio.open(dst_path, 'r+') as dst:\n",
    "        dst.crs = src_meta['crs']\n",
    "        dst.transform = src_meta['transform']        \n",
    "\n",
    "# -----------------------------------------------------------------------------\n",
    "# Given a tiff file as input, open the tiff and get the transform needed to\n",
    "# reproject from the tiff's source crs to the one we want (EPSG:3857).\n",
    "# For each band in the tiff, open then reproject it into the desired crs\n",
    "# then write to a temporary file. Return the path to the temp file.\n",
    "# -----------------------------------------------------------------------------\n",
    "def reproject_to_3857(input_tiff):\n",
    "    # Set desitnation CRS\n",
    "    dst_crs = f\"EPSG:3857\"\n",
    "\n",
    "    # set out path\n",
    "    out_path_rproj = os.path.join(tempfile.gettempdir(), input_tiff.split('/')[-1].replace('.tif','-3857.tif'))\n",
    "\n",
    "    with rio.open(input_tiff) as src:\n",
    "        # get src bounds and transform\n",
    "        transform, width, height = calculate_default_transform(src.crs, dst_crs, src.width, src.height, *src.bounds)\n",
    "        print('Transform: {}'.format(transform))\n",
    "        print('Width: {} Height: {}'.format(width, height))\n",
    "        kwargs = src.meta.copy()\n",
    "        kwargs.update({'crs': dst_crs,\n",
    "                   'transform': transform,\n",
    "                   'width': width,\n",
    "                   'height': height})\n",
    "    \n",
    "        # reproject and write to file\n",
    "        with rio.open(out_path_rproj, 'w', **kwargs) as dst:\n",
    "            for i in range(1, src.count + 1):\n",
    "                reproject(source=rio.band(src, i),\n",
    "                      destination=rio.band(dst, i),\n",
    "                      src_transform=src.transform,\n",
    "                      src_crs=src.crs,\n",
    "                      dst_transform=transform,\n",
    "                      dst_crs=dst_crs,\n",
    "                      resampling=Resampling.nearest)\n",
    "    return out_path_rproj\n",
    "\n",
    "# -----------------------------------------------------------------------------\n",
    "# In order for folium to work properly we need to pass it the bounding box\n",
    "# of the tiff in the form of lat and lon. This is done by using rasterio.\n",
    "# -----------------------------------------------------------------------------\n",
    "def get_bounds(tiff_3857):\n",
    "    with rio.open(tiff_3857) as src:\n",
    "        src_crs = src.crs['init'].upper()\n",
    "        min_lon, min_lat, max_lon, max_lat = src.bounds\n",
    "    bounds_orig = [[min_lat, min_lon], [max_lat, max_lon]]\n",
    "    bounds = []\n",
    "    dst_crs = 'EPSG:4326'\n",
    "    for item in bounds_orig:   \n",
    "        #converting to lat/lon\n",
    "        lat = item[0]\n",
    "        lon = item[1]\n",
    "        proj = Transformer.from_crs(int(src_crs.split(\":\")[1]), int(dst_crs.split(\":\")[1]), always_xy=True)\n",
    "        lon_n, lat_n = proj.transform(lon, lat)\n",
    "        bounds.append([lat_n, lon_n])\n",
    "    center_lon = bounds[0][1] + (bounds[1][1] - bounds[0][1])/2\n",
    "    center_lat = bounds[0][0] + (bounds[1][0] - bounds[0][0])/2\n",
    "    return {'bounds': bounds, 'center': (center_lon, center_lat)}\n",
    "\n",
    "# -----------------------------------------------------------------------------\n",
    "# Use rasterio to open and read in the desired band name as a nd-array.\n",
    "# -----------------------------------------------------------------------------\n",
    "def open_and_get_band(file_name, band_num=1):\n",
    "    with rio.open(file_name) as data:\n",
    "        b = data.read(band_num)\n",
    "    return b\n",
    "\n",
    "# -----------------------------------------------------------------------------\n",
    "# Given an nd-array (band) and the bounds in lat lon of the nd-array, return\n",
    "# a folium layer. To add on the map.\n",
    "# -----------------------------------------------------------------------------\n",
    "def get_overlay(band, meta_dict, name, opacity=1.0, show=True):\n",
    "    return folium.raster_layers.ImageOverlay(band, \n",
    "                                             bounds=meta_dict['bounds'], \n",
    "                                             name=name, \n",
    "                                             opacity=opacity, \n",
    "                                             show=show)\n",
    "\n",
    "# -----------------------------------------------------------------------------\n",
    "# We don't need to keep those temp files we made for the reprojections around.\n",
    "# -----------------------------------------------------------------------------\n",
    "def cleanup(filename):\n",
    "    if os.path.exists(filename):\n",
    "        os.remove(filename)\n",
    "    else:\n",
    "        print('No file: {} exists.'.format(filename))"
   ]
  },
  {
   "cell_type": "markdown",
   "id": "c0070240-5655-486d-9011-b038ebee4403",
   "metadata": {},
   "source": [
    "#### Training RF"
   ]
  },
  {
   "cell_type": "code",
   "execution_count": 12,
   "id": "c364b51c-70ad-4394-8ce6-3af23ad68cc5",
   "metadata": {},
   "outputs": [],
   "source": [
    "TREES_AND_DEPTH_ONLY = False\n",
    "GRID_SEARCH = True"
   ]
  },
  {
   "cell_type": "code",
   "execution_count": 15,
   "id": "ca239ea1-6081-466a-9458-c158eb7f2393",
   "metadata": {
    "tags": []
   },
   "outputs": [
    {
     "name": "stderr",
     "output_type": "stream",
     "text": [
      "\u001b[32m[I 2023-07-24 15:45:47,674]\u001b[0m A new study created in memory with name: RF Tuning Grid Search\u001b[0m\n"
     ]
    },
    {
     "name": "stdout",
     "output_type": "stream",
     "text": [
      "Fold 0: 0.9775669083159959\n",
      "Fold 1: 0.977384267800191\n",
      "Fold 2: 0.9770403811819827\n",
      "Fold 3: 0.9770716909233107\n"
     ]
    },
    {
     "name": "stderr",
     "output_type": "stream",
     "text": [
      "\u001b[32m[I 2023-07-24 15:56:40,292]\u001b[0m Trial 0 finished with value: 0.9773096784515355 and parameters: {'n_estimators': 200, 'max_depth': 100, 'min_samples_split': 8, 'min_samples_leaf': 4, 'bootstrap': True, 'max_features': 'log2'}. Best is trial 0 with value: 0.9773096784515355.\u001b[0m\n"
     ]
    },
    {
     "name": "stdout",
     "output_type": "stream",
     "text": [
      "Fold 4: 0.9774851440361976\n",
      "Fold 0: 0.9776369692996252\n",
      "Fold 1: 0.9774262229831756\n",
      "Fold 2: 0.9771922021339506\n",
      "Fold 3: 0.9771746615368092\n"
     ]
    },
    {
     "name": "stderr",
     "output_type": "stream",
     "text": [
      "\u001b[32m[I 2023-07-24 16:13:04,612]\u001b[0m Trial 1 finished with value: 0.977401169138116 and parameters: {'n_estimators': 300, 'max_depth': 100, 'min_samples_split': 8, 'min_samples_leaf': 5, 'bootstrap': True, 'max_features': 'auto'}. Best is trial 1 with value: 0.977401169138116.\u001b[0m\n"
     ]
    },
    {
     "name": "stdout",
     "output_type": "stream",
     "text": [
      "Fold 4: 0.9775757897370198\n",
      "Fold 0: 0.9761948074260477\n",
      "Fold 1: 0.9758861806495477\n",
      "Fold 2: 0.9757483857108558\n",
      "Fold 3: 0.9755525537326993\n"
     ]
    },
    {
     "name": "stderr",
     "output_type": "stream",
     "text": [
      "\u001b[32m[I 2023-07-24 16:35:29,655]\u001b[0m Trial 2 finished with value: 0.9758615814535414 and parameters: {'n_estimators': 300, 'max_depth': 90, 'min_samples_split': 2, 'min_samples_leaf': 2, 'bootstrap': False, 'max_features': 'auto'}. Best is trial 1 with value: 0.977401169138116.\u001b[0m\n"
     ]
    },
    {
     "name": "stdout",
     "output_type": "stream",
     "text": [
      "Fold 4: 0.9759259797485565\n",
      "CPU times: user 18h 56min 53s, sys: 1min 21s, total: 18h 58min 14s\n",
      "Wall time: 49min 41s\n"
     ]
    }
   ],
   "source": [
    "%%time\n",
    "\n",
    "optuna.logging.set_verbosity(optuna.logging.INFO)\n",
    "if GRID_SEARCH:\n",
    "    study = optuna.create_study(study_name='RF Tuning Grid Search', \n",
    "                                direction='maximize',\n",
    "                                sampler=optuna.samplers.GridSampler(search_space))\n",
    "    \n",
    "else:\n",
    "    study = optuna.create_study(study_name='RF Tuning',\n",
    "                                direction='maximize')\n",
    "#Objective is under the functions area\n",
    "\n",
    "#####################################################################\n",
    "#CHANGE HERE FOR DIFFERENT MODELING TYPE\n",
    "#rf_objective or xgb_objective\n",
    "#####################################################################\n",
    "\n",
    "study.optimize(rf_objective, n_trials=25, timeout=30*60)"
   ]
  },
  {
   "cell_type": "code",
   "execution_count": 16,
   "id": "b219a2ca-012b-4fea-804d-2bdac8cec747",
   "metadata": {},
   "outputs": [
    {
     "name": "stdout",
     "output_type": "stream",
     "text": [
      "Number of finished trials: 3\n",
      "{'n_estimators': 300, 'max_depth': 100, 'min_samples_split': 8, 'min_samples_leaf': 5, 'bootstrap': True, 'max_features': 'auto'}\n",
      "0.977401169138116\n"
     ]
    }
   ],
   "source": [
    "print(\"Number of finished trials: {}\".format(len(study.trials)))\n",
    "trials = study.best_trials\n",
    "trial_score = max([trial.values[0]\n",
    "                   for trial in trials])\n",
    "best_trial_params = [trial.params for trial in trials if trial.values[0] == trial_score][0]\n",
    "print(best_trial_params)\n",
    "print(trial_score)\n"
   ]
  },
  {
   "cell_type": "code",
   "execution_count": 17,
   "id": "f66a5d73-83ed-4c20-a9b1-d637d9ac0791",
   "metadata": {},
   "outputs": [
    {
     "ename": "NameError",
     "evalue": "name 'X_cluster_land_random' is not defined",
     "output_type": "error",
     "traceback": [
      "\u001b[0;31m---------------------------------------------------------------------------\u001b[0m",
      "\u001b[0;31mNameError\u001b[0m                                 Traceback (most recent call last)",
      "Cell \u001b[0;32mIn[17], line 1\u001b[0m\n\u001b[0;32m----> 1\u001b[0m \u001b[38;5;28mprint\u001b[39m(\u001b[38;5;28mlen\u001b[39m(\u001b[43mX_cluster_land_random\u001b[49m),\u001b[38;5;28mlen\u001b[39m(X_cluster_water_random))\n",
      "\u001b[0;31mNameError\u001b[0m: name 'X_cluster_land_random' is not defined"
     ]
    }
   ],
   "source": [
    "print(len(X_cluster_land_random),len(X_cluster_water_random))"
   ]
  },
  {
   "cell_type": "code",
   "execution_count": 101,
   "id": "0e0d1cd8-4ff6-41b6-98eb-dee0bab439d5",
   "metadata": {},
   "outputs": [
    {
     "ename": "SyntaxError",
     "evalue": "invalid syntax (1306318926.py, line 1)",
     "output_type": "error",
     "traceback": [
      "\u001b[0;36m  Cell \u001b[0;32mIn[101], line 1\u001b[0;36m\u001b[0m\n\u001b[0;31m    359814 295240\u001b[0m\n\u001b[0m           ^\u001b[0m\n\u001b[0;31mSyntaxError\u001b[0m\u001b[0;31m:\u001b[0m invalid syntax\n"
     ]
    }
   ],
   "source": [
    "# 359814 295240\n",
    "# Number of finished trials: 25\n",
    "# {'n_estimators': 300, 'max_depth': 10, 'min_samples_split': 4, 'min_samples_leaf': 1, 'bootstrap': False, 'max_features': 'auto'}\n",
    "# 0.9777463893238705\n",
    "\n",
    "# 359815 264361\n",
    "# Number of finished trials: 25\n",
    "# {'n_estimators': 75, 'max_depth': 10, 'min_samples_split': 8, 'min_samples_leaf': 2, 'bootstrap': True, 'max_features': 'log2'}\n",
    "# 0.9866126705045699\n",
    "\n",
    "# 359814 295242\n",
    "# Number of finished trials: 25\n",
    "# {'n_estimators': 500, 'max_depth': 10, 'min_samples_split': 10, 'min_samples_leaf': 4, 'bootstrap': True, 'max_features': 'log2'}\n",
    "# 0.977886421736911\n",
    "\n",
    "# 359815 295240\n",
    "# Number of finished trials: 25\n",
    "# {'n_estimators': 500, 'max_depth': 10, 'min_samples_split': 4, 'min_samples_leaf': 3, 'bootstrap': True, 'max_features': 'auto'}\n",
    "# 0.977879959920102\n",
    "\n",
    "# 359813 295242\n",
    "# Number of finished trials: 25\n",
    "# {'n_estimators': 150, 'max_depth': 10, 'min_samples_split': 4, 'min_samples_leaf': 4, 'bootstrap': False, 'max_features': 'sqrt'}\n",
    "# 0.9777882842687797\n",
    "\n",
    "# 359832 295240\n",
    "# Number of finished trials: 25\n",
    "# {'n_estimators': 500, 'max_depth': 10, 'min_samples_split': 10, 'min_samples_leaf': 4, 'bootstrap': True, 'max_features': 'log2'}\n",
    "# 0.9780277540040061\n",
    "\n",
    "# 359830 295237\n",
    "# Number of finished trials: 25\n",
    "# {'n_estimators': 300, 'max_depth': 100, 'min_samples_split': 4, 'min_samples_leaf': 5, 'bootstrap': True, 'max_features': 'sqrt'}\n",
    "# 0.9781299044897317\n",
    "\n",
    "# 359832 295239\n",
    "# Number of finished trials: 25\n",
    "# {'n_estimators': 300, 'max_depth': 10, 'min_samples_split': 4, 'min_samples_leaf': 4, 'bootstrap': False, 'max_features': 'sqrt'}\n",
    "# 0.9780948126559051\n",
    "\n",
    "\n",
    "# 359831 295239\n",
    "# Number of finished trials: 25\n",
    "# {'n_estimators': 125, 'max_depth': 10, 'min_samples_split': 10, 'min_samples_leaf': 5, 'bootstrap': True, 'max_features': 'sqrt'}\n",
    "# 0.9779760360768524\n",
    "\n",
    "\n",
    "# 13770 12852\n",
    "# Number of finished trials: 25\n",
    "# {'n_estimators': 300, 'max_depth': 10, 'min_samples_split': 2, 'min_samples_leaf': 5, 'bootstrap': True, 'max_features': 'sqrt'}\n",
    "# 0.9117162188038987\n",
    "\n",
    "# 13770 12852\n",
    "# Number of finished trials: 25\n",
    "# {'n_estimators': 250, 'max_depth': 50, 'min_samples_split': 2, 'min_samples_leaf': 4, 'bootstrap': True, 'max_features': 'log2'}\n",
    "# 0.9104124369067913\n",
    "\n",
    "# 13800 13800\n",
    "# Number of finished trials: 25\n",
    "# {'n_estimators': 400, 'max_depth': 10, 'min_samples_split': 10, 'min_samples_leaf': 5, 'bootstrap': True, 'max_features': 'auto'}\n",
    "# 0.9152865904511502\n",
    "\n",
    "# 13770 12852\n",
    "# Number of finished trials: 25\n",
    "# {'n_estimators': 500, 'max_depth': 10, 'min_samples_split': 2, 'min_samples_leaf': 5, 'bootstrap': False, 'max_features': 'log2'}\n",
    "# 0.9135491629622192\n",
    "\n",
    "# 13800 12880\n",
    "# Number of finished trials: 25\n",
    "# {'n_estimators': 100, 'max_depth': 10, 'min_samples_split': 2, 'min_samples_leaf': 5, 'bootstrap': True, 'max_features': 'log2'}\n",
    "# 0.9112970459116907\n",
    "\n",
    "# 13815 12894\n",
    "# Number of finished trials: 25\n",
    "# {'n_estimators': 75, 'max_depth': 10, 'min_samples_split': 10, 'min_samples_leaf': 4, 'bootstrap': False, 'max_features': 'auto'}\n",
    "# 0.9109082672418902\n",
    "\n",
    "\n",
    "# 13800 12880\n",
    "# Number of finished trials: 25\n",
    "# {'n_estimators': 200, 'max_depth': 10, 'min_samples_split': 4, 'min_samples_leaf': 2, 'bootstrap': True, 'max_features': 'auto'}\n",
    "# 0.914162230125638\n",
    "\n",
    "# 13635 12726\n",
    "# Number of finished trials: 25\n",
    "# {'n_estimators': 100, 'max_depth': 10, 'min_samples_split': 8, 'min_samples_leaf': 5, 'bootstrap': True, 'max_features': 'sqrt'}\n",
    "# 0.933084757242249\n",
    "\n",
    "# 13485 12586\n",
    "# Number of finished trials: 25\n",
    "# {'n_estimators': 75, 'max_depth': 10, 'min_samples_split': 10, 'min_samples_leaf': 1, 'bootstrap': True, 'max_features': 'log2'}\n",
    "# 0.9324441954116314\n",
    "\n",
    "# 14355 13398\n",
    "# Number of finished trials: 25\n",
    "# {'n_estimators': 150, 'max_depth': 10, 'min_samples_split': 8, 'min_samples_leaf': 5, 'bootstrap': True, 'max_features': 'log2'}\n",
    "# 0.9344986953730517"
   ]
  },
  {
   "cell_type": "code",
   "execution_count": 18,
   "id": "1eb27e0f-3ab7-41f8-bda7-2c0e7564578d",
   "metadata": {},
   "outputs": [
    {
     "name": "stdout",
     "output_type": "stream",
     "text": [
      "Using these params:\n",
      "{'n_estimators': 300, 'max_depth': 100, 'min_samples_split': 8, 'min_samples_leaf': 5, 'bootstrap': True, 'max_features': 'auto', 'n_jobs': -1}\n"
     ]
    }
   ],
   "source": [
    "hyperparameters = best_trial_params\n",
    "hyperparameters['n_jobs'] = -1\n",
    "print('Using these params:')\n",
    "print(hyperparameters)\n",
    "\n",
    "tuned_classifier = skRF(**hyperparameters)\n"
   ]
  },
  {
   "cell_type": "code",
   "execution_count": 20,
   "id": "20dea7c9-7927-4f2c-9b11-8bfa0dd082ac",
   "metadata": {},
   "outputs": [
    {
     "name": "stdout",
     "output_type": "stream",
     "text": [
      "CPU times: user 1h 32min 14s, sys: 34.5 s, total: 1h 32min 48s\n",
      "Wall time: 4min 20s\n"
     ]
    },
    {
     "data": {
      "text/html": [
       "<style>#sk-container-id-1 {color: black;background-color: white;}#sk-container-id-1 pre{padding: 0;}#sk-container-id-1 div.sk-toggleable {background-color: white;}#sk-container-id-1 label.sk-toggleable__label {cursor: pointer;display: block;width: 100%;margin-bottom: 0;padding: 0.3em;box-sizing: border-box;text-align: center;}#sk-container-id-1 label.sk-toggleable__label-arrow:before {content: \"▸\";float: left;margin-right: 0.25em;color: #696969;}#sk-container-id-1 label.sk-toggleable__label-arrow:hover:before {color: black;}#sk-container-id-1 div.sk-estimator:hover label.sk-toggleable__label-arrow:before {color: black;}#sk-container-id-1 div.sk-toggleable__content {max-height: 0;max-width: 0;overflow: hidden;text-align: left;background-color: #f0f8ff;}#sk-container-id-1 div.sk-toggleable__content pre {margin: 0.2em;color: black;border-radius: 0.25em;background-color: #f0f8ff;}#sk-container-id-1 input.sk-toggleable__control:checked~div.sk-toggleable__content {max-height: 200px;max-width: 100%;overflow: auto;}#sk-container-id-1 input.sk-toggleable__control:checked~label.sk-toggleable__label-arrow:before {content: \"▾\";}#sk-container-id-1 div.sk-estimator input.sk-toggleable__control:checked~label.sk-toggleable__label {background-color: #d4ebff;}#sk-container-id-1 div.sk-label input.sk-toggleable__control:checked~label.sk-toggleable__label {background-color: #d4ebff;}#sk-container-id-1 input.sk-hidden--visually {border: 0;clip: rect(1px 1px 1px 1px);clip: rect(1px, 1px, 1px, 1px);height: 1px;margin: -1px;overflow: hidden;padding: 0;position: absolute;width: 1px;}#sk-container-id-1 div.sk-estimator {font-family: monospace;background-color: #f0f8ff;border: 1px dotted black;border-radius: 0.25em;box-sizing: border-box;margin-bottom: 0.5em;}#sk-container-id-1 div.sk-estimator:hover {background-color: #d4ebff;}#sk-container-id-1 div.sk-parallel-item::after {content: \"\";width: 100%;border-bottom: 1px solid gray;flex-grow: 1;}#sk-container-id-1 div.sk-label:hover label.sk-toggleable__label {background-color: #d4ebff;}#sk-container-id-1 div.sk-serial::before {content: \"\";position: absolute;border-left: 1px solid gray;box-sizing: border-box;top: 0;bottom: 0;left: 50%;z-index: 0;}#sk-container-id-1 div.sk-serial {display: flex;flex-direction: column;align-items: center;background-color: white;padding-right: 0.2em;padding-left: 0.2em;position: relative;}#sk-container-id-1 div.sk-item {position: relative;z-index: 1;}#sk-container-id-1 div.sk-parallel {display: flex;align-items: stretch;justify-content: center;background-color: white;position: relative;}#sk-container-id-1 div.sk-item::before, #sk-container-id-1 div.sk-parallel-item::before {content: \"\";position: absolute;border-left: 1px solid gray;box-sizing: border-box;top: 0;bottom: 0;left: 50%;z-index: -1;}#sk-container-id-1 div.sk-parallel-item {display: flex;flex-direction: column;z-index: 1;position: relative;background-color: white;}#sk-container-id-1 div.sk-parallel-item:first-child::after {align-self: flex-end;width: 50%;}#sk-container-id-1 div.sk-parallel-item:last-child::after {align-self: flex-start;width: 50%;}#sk-container-id-1 div.sk-parallel-item:only-child::after {width: 0;}#sk-container-id-1 div.sk-dashed-wrapped {border: 1px dashed gray;margin: 0 0.4em 0.5em 0.4em;box-sizing: border-box;padding-bottom: 0.4em;background-color: white;}#sk-container-id-1 div.sk-label label {font-family: monospace;font-weight: bold;display: inline-block;line-height: 1.2em;}#sk-container-id-1 div.sk-label-container {text-align: center;}#sk-container-id-1 div.sk-container {/* jupyter's `normalize.less` sets `[hidden] { display: none; }` but bootstrap.min.css set `[hidden] { display: none !important; }` so we also need the `!important` here to be able to override the default hidden behavior on the sphinx rendered scikit-learn.org. See: https://github.com/scikit-learn/scikit-learn/issues/21755 */display: inline-block !important;position: relative;}#sk-container-id-1 div.sk-text-repr-fallback {display: none;}</style><div id=\"sk-container-id-1\" class=\"sk-top-container\"><div class=\"sk-text-repr-fallback\"><pre>RandomForestClassifier(max_depth=100, max_features=&#x27;auto&#x27;, min_samples_leaf=5,\n",
       "                       min_samples_split=8, n_estimators=300, n_jobs=-1)</pre><b>In a Jupyter environment, please rerun this cell to show the HTML representation or trust the notebook. <br />On GitHub, the HTML representation is unable to render, please try loading this page with nbviewer.org.</b></div><div class=\"sk-container\" hidden><div class=\"sk-item\"><div class=\"sk-estimator sk-toggleable\"><input class=\"sk-toggleable__control sk-hidden--visually\" id=\"sk-estimator-id-1\" type=\"checkbox\" checked><label for=\"sk-estimator-id-1\" class=\"sk-toggleable__label sk-toggleable__label-arrow\">RandomForestClassifier</label><div class=\"sk-toggleable__content\"><pre>RandomForestClassifier(max_depth=100, max_features=&#x27;auto&#x27;, min_samples_leaf=5,\n",
       "                       min_samples_split=8, n_estimators=300, n_jobs=-1)</pre></div></div></div></div></div>"
      ],
      "text/plain": [
       "RandomForestClassifier(max_depth=100, max_features='auto', min_samples_leaf=5,\n",
       "                       min_samples_split=8, n_estimators=300, n_jobs=-1)"
      ]
     },
     "execution_count": 20,
     "metadata": {},
     "output_type": "execute_result"
    }
   ],
   "source": [
    "%%time \n",
    "# tuned_classifier.fit(X_cluster_rfa_random , y_cluster_rfa_random)\n",
    "tuned_classifier.fit(X , y)"
   ]
  },
  {
   "cell_type": "markdown",
   "id": "3c4ebc0f-32ac-41ca-bec7-8adfc27112a5",
   "metadata": {},
   "source": [
    "Saving output cluster model"
   ]
  },
  {
   "cell_type": "code",
   "execution_count": null,
   "id": "29964f62-43bb-453c-9b65-a7526af71bc2",
   "metadata": {},
   "outputs": [],
   "source": [
    "import pickle\n",
    "# save the model to disk\n",
    "filename = 'MODIS_RFA_v201_NoCluster_sfcref127_ndvi.pkl'\n",
    "pickle.dump(tuned_classifier, open(filename, 'wb'))"
   ]
  },
  {
   "cell_type": "markdown",
   "id": "0090ef73-b20a-4990-b182-6ce77f9f0c3b",
   "metadata": {
    "jp-MarkdownHeadingCollapsed": true,
    "tags": []
   },
   "source": [
    "## Image Testing with Random Forest"
   ]
  },
  {
   "cell_type": "code",
   "execution_count": null,
   "id": "a6d0fbf4-c532-4c4b-8d1a-0b13fd35a8ad",
   "metadata": {},
   "outputs": [],
   "source": [
    "import sys\n",
    "sys.path.append('../../../..')\n",
    "from modis_water_training.model.TabularModisDataGenerator import TabularModisDataGenerator"
   ]
  },
  {
   "cell_type": "code",
   "execution_count": null,
   "id": "a7c16d5a-5c4a-47f5-ae29-254af37b5a24",
   "metadata": {},
   "outputs": [],
   "source": []
  },
  {
   "cell_type": "code",
   "execution_count": null,
   "id": "af9c3cf4-3523-48b8-af3f-593492b44d69",
   "metadata": {},
   "outputs": [],
   "source": [
    "tabularGen = TabularModisDataGenerator(tile=TILE, year=YEAR, julianDays=[DAY])\n",
    "sensorDir = f'/css/modis/Collection6.1/L2G/MOD09GA/{YEAR}'\n",
    "modisFilesDict = tabularGen._readFiles(julianDay=DAY, sensorDir=sensorDir)\n",
    "modisFilesList = list(modisFilesDict.values())\n",
    "qa_mask, qa_mask_path = tabularGen._generateBadDataMask(day=DAY, files=modisFilesDict)\n",
    "\n",
    "\n",
    "#######\n",
    "#in the TabularModisDataGenerator on line ~270 I commented out the line that would write out the qa mask\n",
    "#qa_mask, qa_mask_path = tabularGen._generateBadDataMask(day=DAY, files=modisFilesDict)"
   ]
  },
  {
   "cell_type": "code",
   "execution_count": null,
   "id": "d7194ac8-530a-4a94-ae0d-507cebb0dff8",
   "metadata": {},
   "outputs": [],
   "source": [
    "vars_list_gq = [fn for fn in modisFilesList if 'sur_refl' in fn and 'GQ' in fn]\n",
    "vars_list_gq.sort()\n",
    "\n",
    "vars_list_ga = [fn for fn in modisFilesList if 'sur_refl' in fn and 'GQ' not in fn]\n",
    "vars_list_ga.sort()\n",
    "\n",
    "vars_list = vars_list_gq\n",
    "vars_list.extend(vars_list_ga)\n",
    "\n",
    "vars_list\n",
    "\n",
    "\n",
    "#IMPORTANT FOR QGIS POTENTIALLY BECAUSE OF LIST OF MODIS DATA"
   ]
  },
  {
   "cell_type": "markdown",
   "id": "3d44a867-d10f-4485-962c-e6b07e9a7b23",
   "metadata": {},
   "source": [
    "#### Read in data \n",
    "We don't need to slice because we have more than enough GPU memory."
   ]
  },
  {
   "cell_type": "code",
   "execution_count": null,
   "id": "13155bd0-cf84-4656-9fb2-4762e7423369",
   "metadata": {
    "tags": []
   },
   "outputs": [],
   "source": [
    "%%time\n",
    "\n",
    "im = readRasterToArray(vars_list)\n",
    "print('Raster as ndarray')\n",
    "print(im)\n",
    "print('{} MB size'.format((im.size * im.itemsize) / 1000000))"
   ]
  },
  {
   "cell_type": "code",
   "execution_count": null,
   "id": "3ee12a19-8cf8-472d-ba4d-e269e7356272",
   "metadata": {},
   "outputs": [],
   "source": []
  },
  {
   "cell_type": "code",
   "execution_count": null,
   "id": "121ac483-7c59-448f-8f01-86e4d26e0070",
   "metadata": {},
   "outputs": [],
   "source": [
    "%%time\n",
    "predictedRaster, predictedProbaRaster, df = predictRaster(im, tuned_classifier, colsToDrop=colsToDrop)"
   ]
  },
  {
   "cell_type": "markdown",
   "id": "8ce5745a-5fc3-4600-b4c9-c49937924282",
   "metadata": {},
   "source": [
    "#### Reshape the unravelled matrix back to the 4800x4800 raster shape"
   ]
  },
  {
   "cell_type": "code",
   "execution_count": null,
   "id": "bafce7b5-7b2a-4df5-8f91-3732f57d1f45",
   "metadata": {},
   "outputs": [],
   "source": [
    "shp = (4800, 4800)\n",
    "matrix = np.asarray(predictedRaster)\n",
    "predictedWaterMask = matrix.reshape(shp)\n",
    "predictedWaterMask.shape"
   ]
  },
  {
   "cell_type": "markdown",
   "id": "0d219736-537c-45e5-898a-da64174b7819",
   "metadata": {
    "tags": []
   },
   "source": [
    "#### Import the QA Mask and the Water Mask for the GIVEN TILE"
   ]
  },
  {
   "cell_type": "code",
   "execution_count": null,
   "id": "3c4fa89d-864e-48da-9385-9f888c5e1ea0",
   "metadata": {},
   "outputs": [],
   "source": [
    "water_list = [fn for fn in glob.glob(os.path.join(waterMaskPath, '{}'.format(YEAR), '*{}*{}_v5.tif'.format(TILE, YEAR)))]\n",
    "print(water_list)\n",
    "print(os.path.join(waterMaskPath, '{}'.format(YEAR), '*{}*.tif'.format(TILE)))\n",
    "water_mask_path = water_list[0]\n",
    "print(water_mask_path)\n",
    "water_mask = gdal.Open(water_mask_path, gdal.GA_ReadOnly)\n",
    "waterMaskMatrix = water_mask.GetRasterBand(1).ReadAsArray().astype(np.int16)\n",
    "waterMask = None"
   ]
  },
  {
   "cell_type": "markdown",
   "id": "6b4cbfce-5923-4b89-b699-d952e8958c6f",
   "metadata": {},
   "source": [
    "#### Mask out results if QA Mask says pixel is \"bad\""
   ]
  },
  {
   "cell_type": "code",
   "execution_count": null,
   "id": "047f0281-3d98-4194-8cf1-e3883380e0ce",
   "metadata": {},
   "outputs": [],
   "source": [
    "maskedResult = np.where(qa_mask == 0, predictedWaterMask, 255)\n",
    "waterMasked = np.where(qa_mask == 0, waterMaskMatrix, 255)\n",
    "# # waterMaskRavel = waterMasked.ravel()\n",
    "# imWater = (waterMaskRavel == 1)"
   ]
  },
  {
   "cell_type": "code",
   "execution_count": null,
   "id": "efac00e7-4306-4a01-82c6-75ec131512ef",
   "metadata": {
    "tags": []
   },
   "outputs": [],
   "source": [
    "# plt.matshow(predictedWaterMask)\n",
    "# plt.matshow(maskedResult-waterMasked)\n",
    "# plt.matshow(waterMasked-maskedResult)\n",
    "# plt.matshow(waterMaskMatrix)\n",
    "\n",
    "# plt.matshow(waterMasked)\n",
    "# plt.matshow(maskedResult)"
   ]
  },
  {
   "cell_type": "markdown",
   "id": "01e10f45-2c72-44e7-aac1-6953c57f6148",
   "metadata": {
    "tags": []
   },
   "source": [
    "## Output predicted raster to GeoTiff"
   ]
  },
  {
   "cell_type": "code",
   "execution_count": null,
   "id": "eed847e9-1c62-4465-977a-f544b393d065",
   "metadata": {},
   "outputs": [],
   "source": [
    "#outPath = os.path.join(RASTER_OUTPUT_DIR, '{}_{}_{}_predicted_{}_25trials_65water_noextradata_v42_allvars.tif'.format(YEAR, DAY, TILE, MODEL))\n",
    "# outPath = os.path.join(RASTER_OUTPUT_DIR, '{}_{}_{}_predicted_{}_25trials_75water_noextradata_v42_allvars.tif'.format(YEAR, DAY, TILE, MODEL))\n",
    "outPath = os.path.join(RASTER_OUTPUT_DIR, '{}_{}_{}_predicted_{}_xgb.tif'.format(YEAR, DAY, TILE, MODEL))\n",
    "waterMaskForDay = os.path.join(RASTER_OUTPUT_DIR, 'waterMask_{}_qa_{}.tif'.format(YEAR, DAY, TILE, MODEL))\n",
    "outPathProba = os.path.join(RASTER_OUTPUT_DIR, '{}_{}_{}_predicted_probabilities_{}.tif'.format(YEAR, DAY, TILE, MODEL))\n",
    "\n",
    "\n",
    "print(outPath)\n",
    "print(waterMaskForDay)\n",
    "print(outPathProba)\n",
    "\n",
    "ds = gdal.Open(vars_list[0], gdal.GA_ReadOnly)\n",
    "geo = ds.GetGeoTransform()\n",
    "proj = ds.GetProjection()\n",
    "ncols = ds.RasterXSize\n",
    "nrows = ds.RasterYSize\n",
    "print('Transform')\n",
    "print(geo)\n",
    "print('Projection')\n",
    "print(proj)\n",
    "print('Width')\n",
    "print(ncols)\n",
    "print('Height')\n",
    "print(nrows)\n",
    "ds = None\n",
    "\n",
    "# Output predicted binary raster masked with good-bad mask.\n",
    "driver = gdal.GetDriverByName('GTiff')\n",
    "outDs = driver.Create(outPath, ncols, nrows, 1, gdal.GDT_Float32, options=['COMPRESS=LZW'])\n",
    "outDs.SetGeoTransform(geo)\n",
    "outDs.SetProjection(proj)\n",
    "outBand = outDs.GetRasterBand(1)\n",
    "outBand.WriteArray(maskedResult)\n",
    "outBand.SetNoDataValue(255)\n",
    "outDs.FlushCache()\n",
    "outDs = None\n",
    "outBand = None\n",
    "driver = None\n",
    "\n",
    "# Output water mask with good-bad masked.\n",
    "driver = gdal.GetDriverByName('GTiff')\n",
    "outDs = driver.Create(waterMaskForDay, ncols, nrows, 1, gdal.GDT_Int16, options=['COMPRESS=LZW'])\n",
    "outDs.SetGeoTransform(geo)\n",
    "outDs.SetProjection(proj)\n",
    "outBand = outDs.GetRasterBand(1)\n",
    "outBand.WriteArray(waterMasked)\n",
    "outBand.SetNoDataValue(255)\n",
    "outDs.FlushCache()\n",
    "outDs = None\n",
    "outBand = None\n",
    "driver = None"
   ]
  },
  {
   "cell_type": "markdown",
   "id": "ac09755b-b8c7-4f8f-b8d8-33b615facd7b",
   "metadata": {},
   "source": [
    "## Folium Viewing"
   ]
  },
  {
   "cell_type": "code",
   "execution_count": null,
   "id": "ef884cc4-e5ec-4c12-bc89-f8256518fd12",
   "metadata": {},
   "outputs": [],
   "source": [
    "mask_3857 = reproject_to_3857(outPath)\n",
    "mod44_3857 = reproject_to_3857(water_mask_path)\n",
    "qa_3857 = reproject_to_3857(qa_mask_path)\n",
    "\n",
    "mask_d = get_bounds(mask_3857)\n",
    "mod44_d = get_bounds(mod44_3857)\n",
    "qa_d = get_bounds(qa_3857)\n",
    "\n",
    "mask_b1 = open_and_get_band(mask_3857, 1)\n",
    "mask_b1 = np.where(mask_b1 == 255, 0, mask_b1)\n",
    "mod44_b1 = open_and_get_band(mod44_3857, 1)\n",
    "mod44_b1 = np.where(mod44_b1 == 255, 0, mod44_b1)\n",
    "qa_b1 = open_and_get_band(qa_3857, 1)\n",
    "\n",
    "cleanup(mask_3857)\n",
    "cleanup(mod44_3857)\n",
    "cleanup(qa_3857)\n",
    "\n",
    "zeros = np.zeros_like(mask_b1)\n",
    "mask_rgba = np.dstack((mask_b1, zeros, zeros, mask_b1))\n",
    "mod44_rgba = np.dstack((zeros, mod44_b1, zeros, mod44_b1))\n",
    "qa_rgba = np.dstack((qa_b1, qa_b1, qa_b1, qa_b1))"
   ]
  },
  {
   "cell_type": "code",
   "execution_count": null,
   "id": "d419d69b-744c-4835-ad1f-e684df1a6a4a",
   "metadata": {},
   "outputs": [],
   "source": [
    "m = folium.Map(location=[mask_d['center'][1], mask_d['center'][0]],\n",
    "                   tiles='https://mt1.google.com/vt/lyrs=s&x={x}&y={y}&z={z}', zoom_start = 6, attr='Google', control_scale=True)\n",
    "\n",
    "\n",
    "# folium.Marker(location=[-16.4835, -72.9978]).add_to(m)"
   ]
  },
  {
   "cell_type": "code",
   "execution_count": null,
   "id": "ff311b28-7d4f-4f54-bf22-c3e8cfdb9220",
   "metadata": {},
   "outputs": [],
   "source": [
    "from folium import plugins"
   ]
  },
  {
   "cell_type": "code",
   "execution_count": null,
   "id": "a018ef64-92c2-43fa-b9f8-faee15f33936",
   "metadata": {
    "tags": []
   },
   "outputs": [],
   "source": [
    "\n",
    "m.add_child(get_overlay(mask_rgba, mask_d, '{}-{}-{} model water mask'.format(YEAR, DAY, TILE), opacity=0.8))\n",
    "m.add_child(get_overlay(mod44_rgba, mod44_d, '{} {} MOD44W mask'.format(TILE, YEAR), opacity=0.8, show=False))\n",
    "m.add_child(get_overlay(qa_rgba, qa_d, '{}-{}-{} MW QA mask'.format(YEAR, DAY, TILE), opacity=0.8, show=False))\n",
    "m.add_child(plugins.MousePosition())\n",
    "m.add_child(plugins.MeasureControl())\n",
    "m.add_child(folium.LayerControl())\n",
    "\n",
    "m"
   ]
  },
  {
   "cell_type": "code",
   "execution_count": null,
   "id": "51e50982-d4c1-4849-b5ad-c82a674ded26",
   "metadata": {},
   "outputs": [],
   "source": []
  },
  {
   "cell_type": "code",
   "execution_count": null,
   "id": "4a0ca77b-e6e2-424a-bf9b-f022c4627566",
   "metadata": {},
   "outputs": [],
   "source": []
  },
  {
   "cell_type": "code",
   "execution_count": null,
   "id": "cd0855da-4ce8-403d-9dcb-61b4acae157e",
   "metadata": {},
   "outputs": [],
   "source": []
  }
 ],
 "metadata": {
  "kernelspec": {
   "display_name": "ILAB Kernel (TensorFlow)",
   "language": "python",
   "name": "tensorflow-kernel"
  },
  "language_info": {
   "codemirror_mode": {
    "name": "ipython",
    "version": 3
   },
   "file_extension": ".py",
   "mimetype": "text/x-python",
   "name": "python",
   "nbconvert_exporter": "python",
   "pygments_lexer": "ipython3",
   "version": "3.8.16"
  }
 },
 "nbformat": 4,
 "nbformat_minor": 5
}
