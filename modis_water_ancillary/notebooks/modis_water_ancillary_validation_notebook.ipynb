{
 "cells": [
  {
   "cell_type": "markdown",
   "id": "381bd630-ac29-4c63-bea3-c659ea3e9c52",
   "metadata": {
    "tags": []
   },
   "source": [
    "# <b>MODIS Water MODAPS Ancillary Validation Notebook</b>\n",
    "\n",
    "Purpose: Used to perform validation of ancillary masked C61 MOD44W products. Compares those products to pre-masked C61 and the previous version, C6 MOD44W.\n",
    "\n",
    "*Note: We are following an incremental development lifecycle. This notebook is the first rendition which fit most of the requirements. Expect incremental releases which continue towards the goal of fully meeting requirements and increasing capabilities of the user.*\n",
    "\n",
    "Installation requirements:\n",
    "\n",
    "```bash\n",
    "pip install localtileserver\n",
    "```\n",
    "\n",
    "TODO:\n",
    "- ipysheet for user to input comments\n",
    "- load layers from toolbar\n",
    "- move everything inside a class to avoid user input\n",
    "\n",
    "Some references:\n",
    "\n",
    "- https://towardsdatascience.com/bring-your-jupyter-notebook-to-life-with-interactive-widgets-bc12e03f0916\n",
    "- https://github.com/giswqs/geodemo/blob/master/geodemo/common.py\n",
    "\n",
    "Version: 0.0.1\n",
    "Date: 02/09/2022\n",
    "\n",
    "*For DSG internal use*"
   ]
  },
  {
   "cell_type": "markdown",
   "id": "1e59d3a7-051b-4375-abaa-6496ae11cec8",
   "metadata": {},
   "source": [
    "### <b> WARNING </b>\n",
    "\n",
    "Do not run all cells at once, doing so will shut down the local tile servers before you, the user, can interact."
   ]
  },
  {
   "cell_type": "markdown",
   "id": "921385fc-c3cd-441d-8fcc-a8d5c38b835d",
   "metadata": {},
   "source": [
    "Uncomment if localtileserver is not installed"
   ]
  },
  {
   "cell_type": "code",
   "execution_count": 1,
   "id": "bf200474-01a3-4608-a1aa-a4f65ab106da",
   "metadata": {},
   "outputs": [],
   "source": [
    "# !pip install localtileserver"
   ]
  },
  {
   "cell_type": "code",
   "execution_count": 1,
   "id": "fa670b66-dd43-448c-9d9c-0dd3e07dfba0",
   "metadata": {},
   "outputs": [],
   "source": [
    "import sys\n",
    "sys.path.append('../src')\n",
    "from ingest_mw_hdf import search_hdf_file_path, get_hdf_subdataset_path, read_hdf\n",
    "from diff_products import read_path"
   ]
  },
  {
   "cell_type": "code",
   "execution_count": 2,
   "id": "d0b0fb30-4519-4f1a-b4d4-cfd700796672",
   "metadata": {},
   "outputs": [],
   "source": [
    "import os\n",
    "import re\n",
    "import json\n",
    "import joblib\n",
    "import tempfile\n",
    "import ipysheet\n",
    "import numpy as np\n",
    "import pandas as pd\n",
    "import rasterio as rio\n",
    "import rioxarray as rxr\n",
    "import xarray as xr\n",
    "import geopandas as gpd\n",
    "import matplotlib.pyplot as plt\n",
    "import matplotlib.colors as mcolors\n",
    "import ipywidgets as widgets\n",
    "import warnings\n",
    "import tempfile\n",
    "\n",
    "from osgeo import gdal\n",
    "from pprint import pprint\n",
    "\n",
    "from glob import glob\n",
    "from ipysheet import from_dataframe\n",
    "from localtileserver import TileClient, get_leaflet_tile_layer, examples\n",
    "from ipyleaflet import Map, Marker, basemaps, ScaleControl, LayersControl, AwesomeIcon\n",
    "from ipyleaflet import LegendControl, FullScreenControl, MarkerCluster, Popup\n",
    "\n",
    "os.environ['LOCALTILESERVER_CLIENT_PREFIX'] = \\\n",
    "    f\"{os.environ['JUPYTERHUB_SERVICE_PREFIX'].lstrip('/')}/proxy/{{port}}\"\n",
    "\n",
    "import localtileserver\n",
    "from localtileserver import get_leaflet_tile_layer, TileClient"
   ]
  },
  {
   "cell_type": "markdown",
   "id": "b13c65fc-dbce-40f8-a318-49d10753620b",
   "metadata": {},
   "source": [
    "## Tile and year selection\n",
    "\n",
    "Choose which tile (see MODIS grid) and which year. Reference the grid image. \n",
    "\n",
    "The `h` followed by two numerical digits represent the <b>horizontal</b> tile ID. Use the column space to determine this ID. \n",
    "\n",
    "The `v` followed by two numerical digits represent the <b>vertical</b> tile ID. Use the row space to determine this ID. \n",
    "\n",
    "For example, the tile that is 9 columns to the right and 5 rows down is `h09v05`.\n",
    "\n",
    "Example:\n",
    "```python\n",
    "TILE = 'h09v05'\n",
    "```\n",
    "\n",
    "![MODIS Grid Overlay](../imgs/modis_overlay.png)"
   ]
  },
  {
   "cell_type": "code",
   "execution_count": 3,
   "id": "16dadcfd-a9bd-4ba2-8c2c-9a3dca62e2d4",
   "metadata": {},
   "outputs": [],
   "source": [
    "TILE = 'h12v04'\n",
    "# TILE = 'h12v05'\n",
    "# TILE = 'h12v09'\n",
    "# TILE = 'h11v10'"
   ]
  },
  {
   "cell_type": "code",
   "execution_count": 4,
   "id": "5f706900-e8e6-41c2-aec9-fc14e601cf96",
   "metadata": {},
   "outputs": [],
   "source": [
    "YEAR = 2020"
   ]
  },
  {
   "cell_type": "markdown",
   "id": "443c609a-3add-42f8-8ed8-2d8b365019c7",
   "metadata": {},
   "source": [
    "Shouldn't need to change anything under this "
   ]
  },
  {
   "cell_type": "code",
   "execution_count": 5,
   "id": "736e9c05-558a-4eae-9b0a-f299068d1678",
   "metadata": {},
   "outputs": [
    {
     "name": "stderr",
     "output_type": "stream",
     "text": [
      "/tmp/ipykernel_1622514/981952484.py:31: UserWarning: Using 2019 C6 MOD44W\n",
      "  warnings.warn('Using 2019 C6 MOD44W')\n"
     ]
    }
   ],
   "source": [
    "MOD44W_C6_BASEPATH = '/explore/nobackup/people/mcarrol2/MODIS_water/v5_outputs/'\n",
    "MOD44W_C61_BASEPATH = '/explore/nobackup/projects/ilab/data/MODIS/PRODUCTION/MODAPS_test1_11302022'\n",
    "MOD44W_C61_VERSION = '001'\n",
    "MOD44W_C61_ANCILLARY_BASEPATH = '/explore/nobackup/people/cssprad1/projects/modis_water/' + \\\n",
    "    'code/ancillary_masks/modis_water_src_change/data'\n",
    "MOD44W_C61_ANCILLARY_VERSION = '001'\n",
    "MOD44W = 'MOD44W'\n",
    "\n",
    "C6_FILE_TYPE = '.tif'\n",
    "C61_FILE_TYPE = '.hdf'\n",
    "C61_ANCILLARY_FILE_TYPE = '.bin'\n",
    "\n",
    "TMP_FILE_TYPE = '.tif'\n",
    "\n",
    "C61_ANCILLARY_ALG_TYPE = 'Simple'\n",
    "C61_ANCILLARY_WATER_MASK = 'AnnualWaterProduct'\n",
    "C61_ANCILLARY_WATER_MASK_QA = 'AnnualWaterProductQA'\n",
    "C61_ANCILLARY_SEVEN_CLASS = 'AnnualSevenClass'\n",
    "\n",
    "HDF_NAME_PRE_STR: str = 'MOD44W.A'\n",
    "HDF_PRE_STR: str = 'HDF4_EOS:EOS_GRID:\"'\n",
    "WATER_MASK_POST_STR: str = '\":MOD44W_250m_GRID:water_mask'\n",
    "SEVEN_CLASS_POST_STR: str = '\":MOD44W_250m_GRID:seven_class'\n",
    "QA_MASK_POST_STR: str = '\":MOD44W_250m_GRID:water_mask_QA'\n",
    "\n",
    "SEVEN_CLASS = 'seven_class'\n",
    "WATER_MASK = 'water_mask'\n",
    "WATER_MASK_QA = 'qa_mask'\n",
    "\n",
    "if YEAR > 2019:\n",
    "    warnings.warn('Using 2019 C6 MOD44W')\n",
    "    MOD44_C6_YEAR = 2019\n",
    "else:\n",
    "    MOD44_C6_YEAR = YEAR\n",
    "\n",
    "tiles_basemap: str = 'https://mt1.google.com/vt/lyrs=s&x={x}&y={y}&z={z}'\n",
    "water_c6_cmap: list = ['#E3B878', '#2d7d86']\n",
    "water_c61_cmap: list = ['#194d33', '#8ed1fc']\n",
    "water_c61_ancillary_cmap: list = ['#0057d7', '#6482ff']\n",
    "water_qa_cmap: list = ['#79d2a6', '#ff6900', '#e4efe9']\n",
    "water_ancillary_qa_cmap: list = ['#31ff00', '#91ffd3', '#e64a19', '#dd00ff', '#F78DA7', '#ff6900', '#767676', '#79d2a6']\n",
    "\n",
    "CACHE_DIR = '.cache'\n",
    "os.makedirs(CACHE_DIR, exist_ok=True)"
   ]
  },
  {
   "cell_type": "code",
   "execution_count": 6,
   "id": "54cb5eb6-707d-46c1-9478-8b822a04cf60",
   "metadata": {},
   "outputs": [],
   "source": [
    "mod44w_c6_path = os.path.join(MOD44W_C6_BASEPATH, str(MOD44_C6_YEAR), f'MOD44W_{TILE}_{MOD44_C6_YEAR}_v5.tif')\n",
    "if not os.path.exists(mod44w_c6_path):\n",
    "    raise FileNotFoundError(f'Could not find the MOD44W C6 file: {mod44w_c6_path}')"
   ]
  },
  {
   "cell_type": "code",
   "execution_count": 7,
   "id": "c222c362-bb93-4a71-b1cf-5f9af9be0fdb",
   "metadata": {},
   "outputs": [],
   "source": [
    "def parse_qa(qa_array):\n",
    "    qa_array_parsed = np.where(qa_array == 0, 0, -1)\n",
    "    qa_array_parsed = np.where(qa_array == 4, 1, qa_array_parsed)\n",
    "    qa_array_parsed = np.where(qa_array == 6, 2, qa_array_parsed)\n",
    "    qa_array_parsed = np.where(qa_array == 9, 3, qa_array_parsed)\n",
    "    return qa_array_parsed\n",
    "\n",
    "def parse_ancillary_qa(qa_array):\n",
    "    qa_array_parsed = np.where(qa_array == 0, 0, qa_array)\n",
    "    qa_array_parsed = np.where(qa_array == 10, 0, qa_array_parsed)\n",
    "    qa_array_parsed = np.where(qa_array == 9, 8, qa_array_parsed)\n",
    "    print(np.unique(qa_array_parsed))\n",
    "    return qa_array_parsed"
   ]
  },
  {
   "cell_type": "code",
   "execution_count": 8,
   "id": "d4af4411-e336-486a-af9f-501d08cc20c7",
   "metadata": {},
   "outputs": [
    {
     "name": "stdout",
     "output_type": "stream",
     "text": [
      "[0 1 2 3 4 5 6 7 8]\n"
     ]
    }
   ],
   "source": [
    "hdf_base_path = os.path.join(MOD44W_C61_BASEPATH, MOD44W, str(YEAR), MOD44W_C61_VERSION)\n",
    "c61_file_path = search_hdf_file_path(hdf_base_path, YEAR, TILE)\n",
    "\n",
    "c61_water_mask_subdataset_path = get_hdf_subdataset_path(c61_file_path, WATER_MASK_POST_STR)\n",
    "c61_qa_mask_subdataset_path = get_hdf_subdataset_path(c61_file_path, QA_MASK_POST_STR)\n",
    "\n",
    "mod44w_c61_data_array = read_hdf(c61_water_mask_subdataset_path)['ndarray']\n",
    "mod44w_c61_qa_data_array = read_hdf(c61_qa_mask_subdataset_path)['ndarray']\n",
    "\n",
    "mod44w_c61_ancillary_regex = os.path.join(MOD44W_C61_ANCILLARY_BASEPATH, str(YEAR), TILE, f'MOD44W.A{YEAR}.{TILE}.{C61_ANCILLARY_ALG_TYPE}.{C61_ANCILLARY_WATER_MASK}.*{C61_ANCILLARY_FILE_TYPE}')\n",
    "mod44w_c61_ancillary_qa_regex = os.path.join(MOD44W_C61_ANCILLARY_BASEPATH, str(YEAR), TILE, f'MOD44W.A{YEAR}.{TILE}.{C61_ANCILLARY_ALG_TYPE}.{C61_ANCILLARY_WATER_MASK_QA}.*{C61_ANCILLARY_FILE_TYPE}')\n",
    "\n",
    "mod44w_c61_ancillary_path = sorted(glob(mod44w_c61_ancillary_regex))[0]\n",
    "mod44w_c61_ancillary_qa_path = sorted(glob(mod44w_c61_ancillary_qa_regex))[0]\n",
    "\n",
    "mod44w_c61_ancillary_data_dict = read_path(mod44w_c61_ancillary_path)\n",
    "mod44w_c61_ancillary_data_array = mod44w_c61_ancillary_data_dict['ndarray']\n",
    "mod44w_c61_ancillary_qa_data_array = read_path(mod44w_c61_ancillary_qa_path)['ndarray']\n",
    "\n",
    "mod44w_c61_qa_data_array = parse_qa(mod44w_c61_qa_data_array)\n",
    "mod44w_c61_ancillary_qa_data_array = parse_ancillary_qa(mod44w_c61_ancillary_qa_data_array)"
   ]
  },
  {
   "cell_type": "code",
   "execution_count": 9,
   "id": "c39188e8-38a2-47da-a1b0-c4702b94ec08",
   "metadata": {},
   "outputs": [],
   "source": [
    "crs = 'PROJCS[\"Sinusoidal\",GEOGCS[\"Sphere\",DATUM[\"Sphere\",SPHEROID[\"Sphere\",6371000,0]],PRIMEM[\"Greenwich\",0],' + \\\n",
    "    'UNIT[\"degree\",0.0174532925199433,AUTHORITY[\"EPSG\",\"9122\"]]],PROJECTION[\"Sinusoidal\"]' + \\\n",
    "    ',PARAMETER[\"longitude_of_center\",0],PARAMETER[\"false_easting\",0],PARAMETER[\"false_northing\",0]' + \\\n",
    "',UNIT[\"metre\",1,AUTHORITY[\"EPSG\",\"9001\"]],AXIS[\"Easting\",EAST],AXIS[\"Northing\",NORTH]]'\n",
    "mod44w_cs_ds = gdal.Open(mod44w_c6_path)\n",
    "transform = mod44w_cs_ds.GetGeoTransform()\n",
    "mod44w_c6_ds = None"
   ]
  },
  {
   "cell_type": "code",
   "execution_count": 13,
   "id": "b11b810e-4237-4853-81ad-f3159230a9d0",
   "metadata": {},
   "outputs": [],
   "source": [
    "def open_and_write_temp(data_array, transform, projection, \n",
    "                        year, tile, name = None, files_to_rm = None) -> str:\n",
    "    tmpdir = tempfile.gettempdir()\n",
    "    userid = !whoami\n",
    "    name_to_use = data_array.name if not name else name\n",
    "    tempfile_name = f'MOD44W.A{year}001.{tile}.061.{name_to_use}.{userid}.tif'\n",
    "    tempfile_fp = os.path.join(tmpdir, tempfile_name)\n",
    "    if os.path.exists(tempfile_fp):\n",
    "        os.remove(tempfile_fp)\n",
    "    driver = gdal.GetDriverByName('GTiff')\n",
    "    outDs = driver.Create(tempfile_fp, 4800, 4800, \n",
    "                          1, gdal.GDT_Float32, \n",
    "                          options=['COMPRESS=LZW'])\n",
    "    outDs.SetGeoTransform(transform)\n",
    "    outDs.SetProjection(projection)\n",
    "    outBand = outDs.GetRasterBand(1)\n",
    "    outBand.WriteArray(data_array)\n",
    "    outBand.SetNoDataValue(250)\n",
    "    outDs.FlushCache()\n",
    "    outDs = None\n",
    "    outBand = None\n",
    "    driver = None\n",
    "    return tempfile_fp"
   ]
  },
  {
   "cell_type": "code",
   "execution_count": 11,
   "id": "32a39180-9156-4d22-840c-18f86c3e308a",
   "metadata": {},
   "outputs": [],
   "source": [
    "temporary_files_to_delete = []\n",
    "\n",
    "mod44w_c61_water_mask = open_and_write_temp(mod44w_c61_data_array, transform, crs, YEAR, TILE, name='c61_mask', files_to_rm=temporary_files_to_delete)\n",
    "mod44w_c61_water_mask_qa = open_and_write_temp(mod44w_c61_qa_data_array, transform, crs,  YEAR, TILE, name='qa_mask', files_to_rm= temporary_files_to_delete)\n",
    "\n",
    "mod44w_c61_ancillary_water_mask = open_and_write_temp(mod44w_c61_ancillary_data_array, transform, crs, YEAR, TILE, name='ancillary_c61_mask', files_to_rm=temporary_files_to_delete)\n",
    "mod44w_c61_ancillary_water_mask_qa = open_and_write_temp(mod44w_c61_ancillary_qa_data_array, transform, crs,  YEAR, TILE, name='ancillary_qa_mask', files_to_rm= temporary_files_to_delete)"
   ]
  },
  {
   "cell_type": "code",
   "execution_count": 12,
   "id": "5f667972-350e-440e-8fb5-a71001599688",
   "metadata": {},
   "outputs": [],
   "source": [
    "mod44w_c6_client = TileClient(mod44w_c6_path)\n",
    "mod44w_c61_water_client = TileClient(mod44w_c61_water_mask)\n",
    "mod44w_c61_water_qa_client = TileClient(mod44w_c61_water_mask_qa)\n",
    "mod44w_c61_ancillary_water_client = TileClient(mod44w_c61_ancillary_water_mask)\n",
    "mod44w_c61_ancillary_qa_client = TileClient(mod44w_c61_ancillary_water_mask_qa)"
   ]
  },
  {
   "cell_type": "code",
   "execution_count": 14,
   "id": "9efbcfa6-dc27-4528-8e10-20a132ef8f8e",
   "metadata": {},
   "outputs": [],
   "source": [
    "mod44w_c6_water_mask_layer = get_leaflet_tile_layer(\n",
    "    mod44w_c6_client, nodata=0, show=False, \n",
    "    vmin=0, vmax=1,\n",
    "    cmap=water_c6_cmap, \n",
    "    name=f'MOD44W C6 Water Mask {YEAR} {TILE}',\n",
    "    max_zoom=20)\n",
    "\n",
    "mod44w_c61_water_mask_layer = get_leaflet_tile_layer(\n",
    "    mod44w_c61_water_client, nodata=0, show=False,\n",
    "    vmin=0, vmax=1,\n",
    "    cmap=water_c61_cmap, \n",
    "    name=f'MOD44W C61 Water Mask {YEAR} {TILE}',\n",
    "    max_zoom=20)\n",
    "\n",
    "mod44w_c61_qa_layer = get_leaflet_tile_layer(\n",
    "    mod44w_c61_water_qa_client, nodata=0,\n",
    "    n_colors=3, show=False,\n",
    "    vmin=1, vmax=3,\n",
    "    cmap=water_qa_cmap, \n",
    "    name=f'MOD44W C61 QA Mask {YEAR} {TILE}',\n",
    "    max_zoom=20)\n",
    "\n",
    "\n",
    "mod44w_c61_ancillary_water_mask_layer = get_leaflet_tile_layer(\n",
    "    mod44w_c61_ancillary_water_client, nodata=0, show=False,\n",
    "    vmin=0, vmax=1,\n",
    "    cmap=water_c61_ancillary_cmap, \n",
    "    name=f'MOD44W C61 ANCILLARY MASKED Water Mask {YEAR} {TILE}',\n",
    "    max_zoom=20)\n",
    "\n",
    "mod44w_c61_ancillary_qa_layer = get_leaflet_tile_layer(\n",
    "    mod44w_c61_ancillary_qa_client , nodata=0,\n",
    "    n_colors=5, show=False,\n",
    "    vmin=1, vmax=8,\n",
    "    scheme='discrete',\n",
    "    cmap=water_ancillary_qa_cmap, \n",
    "    name=f'MOD44W C61 ANCILLARY MASKED QA Mask {YEAR} {TILE}',\n",
    "    max_zoom=20)"
   ]
  },
  {
   "cell_type": "code",
   "execution_count": 15,
   "id": "f4d68c90-951e-4ed3-820a-0c2c70604aca",
   "metadata": {},
   "outputs": [],
   "source": [
    "legend_dict = {}\n",
    "\n",
    "c61_qa_mask_legend_dict = {'QA- High Slope Surface': '#79d2a6', #'#8ED1FC',\n",
    "                           'QA- Burn Scar (from MCD64A1)': '#ff6900', # '#ABB8C3'\n",
    "                           'QA- No data (outside of projected area)': '#e4efe9'}\n",
    "\n",
    "c61_ancillary_qa_mask_legend_dict = {\n",
    "    'ANCILLARY QA- High Conf Water': '#31ff00',\n",
    "    'ANCILLARY QA- Low Conf Water': '#91ffd3',\n",
    "    'ANCILLARY QA- Low Conf Land': '#e64a19',\n",
    "    'ANCILLARY QA- Ocean Mask': '#dd00ff',\n",
    "    'ANCILLARY QA- Ocean Mask but no water': '#F78DA7',\n",
    "    'ANCILLARY QA- Burn Scar (from MCD64A1)': '#ff6900', # '#ABB8C3'\n",
    "    'ANCILLARY QA- Impervious Surface:': '#767676',\n",
    "    'ANCILLARY QA- High Slope Surface': '#79d2a6',} #'#8ED1FC',\n",
    "    # 'ANCILLARY QA- Changed to land': '#f6e656'}\n",
    "\n",
    "c6_water_mask_legend_dict = {'C6- Water': '#2d7d86'}\n",
    "c61_water_mask_legend_dict = {'C61- Water': '#8ed1fc'} \n",
    "c61_ancillary_water_mask_legend_dict = {'C61 ANCILLARY MASKED- Water': '#6482ff'}\n",
    "\n",
    "legend_dict.update(c61_qa_mask_legend_dict)\n",
    "legend_dict.update(c61_ancillary_qa_mask_legend_dict)\n",
    "legend_dict.update(c6_water_mask_legend_dict)\n",
    "legend_dict.update(c61_water_mask_legend_dict)\n",
    "legend_dict.update(c61_ancillary_water_mask_legend_dict)\n",
    "\n",
    "c61_mask_legend = LegendControl(legend_dict)"
   ]
  },
  {
   "cell_type": "code",
   "execution_count": 16,
   "id": "daa3a1a4-8aa9-4dae-a35b-596f9a3654f5",
   "metadata": {},
   "outputs": [],
   "source": [
    "def get_location(cache_dir: str, tile: str, def_location: list) -> list:\n",
    "    cache_fp = os.path.join(cache_dir, f'{tile}.marker.location.sv')\n",
    "    if os.path.exists(cache_fp):\n",
    "        location = joblib.load(cache_fp)\n",
    "    else:\n",
    "        location = def_location\n",
    "    return location\n",
    "\n",
    "def cache_location(tile: str, location: list) -> None:\n",
    "    cache_fp = os.path.join(CACHE_DIR, f'{tile}.marker.location.sv')\n",
    "    output = joblib.dump(location, cache_fp)\n",
    "    return None\n",
    "\n",
    "def initialize_marker(tile: str, location: list, cache_dir: str) -> Marker:\n",
    "    name = 'Location Marker'\n",
    "    title = name\n",
    "    location = get_location(cache_dir, tile, location)\n",
    "    marker = Marker(name=name, title=name, location=location)\n",
    "    return marker\n",
    "\n",
    "def initialize_message(location: list) -> widgets.HTML:\n",
    "    ll_message = widgets.HTML()\n",
    "    ll_message.value = str(location)\n",
    "    return ll_message"
   ]
  },
  {
   "cell_type": "code",
   "execution_count": 17,
   "id": "22881153-8620-4d61-9768-fbd7c13bcf81",
   "metadata": {},
   "outputs": [],
   "source": [
    "m = Map(\n",
    "    center=mod44w_c6_client.center(),\n",
    "    zoom=mod44w_c6_client.default_zoom,\n",
    "    basemap=basemaps.Esri.WorldImagery,\n",
    "    scroll_wheel_zoom=True,\n",
    "    keyboard=True,\n",
    "    layout=widgets.Layout(height='600px')\n",
    ")\n",
    "marker_location = mod44w_c6_client.center()\n",
    "marker = initialize_marker(tile=TILE, location=marker_location, cache_dir=CACHE_DIR)\n",
    "latlon_message = initialize_message(marker.location)\n",
    "\n",
    "def handle_click(**kwargs):\n",
    "    latlon_message.value = str(marker.location)\n",
    "    marker.popup = latlon_message\n",
    "    cache_location(tile=TILE, location=marker.location)\n",
    "\n",
    "m.add_layer(marker)\n",
    "marker.on_click(handle_click)\n",
    "m.add_layer(mod44w_c6_water_mask_layer)\n",
    "m.add_layer(mod44w_c61_water_mask_layer)\n",
    "m.add_layer(mod44w_c61_ancillary_water_mask_layer)\n",
    "m.add_layer(mod44w_c61_qa_layer)\n",
    "m.add_layer(mod44w_c61_ancillary_qa_layer)\n",
    "m.add_control(c61_mask_legend)\n",
    "m.add_control(ScaleControl(position='bottomleft'))\n",
    "m.add_control(LayersControl(position='topright'))\n",
    "m.add_control(FullScreenControl())"
   ]
  },
  {
   "cell_type": "markdown",
   "id": "3b20e0bd-1d12-4b5c-a4fd-7669da8da6ec",
   "metadata": {},
   "source": [
    "## MODIS Water Ancillary Validation Map Visualization\n",
    "\n",
    "<b>Usage Tips:</b>\n",
    "\n",
    "- ![Layer Control](../imgs/layer_control.png)    Hover over to select and deselect which layers are visible\n",
    "\n",
    "- ![Full Screen Control](../imgs/full_screen.png)    Click for full screen\n",
    "\n",
    "- Use the scroll wheel on the mouse to zoom in and out, or use [+] and [-]\n",
    "\n",
    "The legend shows all layers no matter what's visible but each element is prefixed with which layer it indicates. I.e.: \n",
    "\n",
    "- \"QA-\": MOD44W C61 QA Mask\n",
    "\n",
    "- \"ANCILLARY QA-\": MOD44W C61 with ancillary masking applied qa\n",
    "\n",
    "- \"C6-\": MOD44W C6 Water Mask\n",
    "\n",
    "- \"C61-\": MOD44W C61 Water Mask\n",
    "\n",
    "- \"C61 ANCILLARY MASKED-\": MOD44W C61 with ancillary masking applied"
   ]
  },
  {
   "cell_type": "code",
   "execution_count": 25,
   "id": "aea9e9ba-dbf3-4c63-bd6a-93ce2a81aaa9",
   "metadata": {},
   "outputs": [
    {
     "data": {
      "application/vnd.jupyter.widget-view+json": {
       "model_id": "edff3cb801fa4128bf48b2a0d6a0213c",
       "version_major": 2,
       "version_minor": 0
      },
      "text/plain": [
       "Map(center=[45.00004911190665, -79.30705743147163], controls=(ZoomControl(options=['position', 'zoom_in_text',…"
      ]
     },
     "metadata": {},
     "output_type": "display_data"
    }
   ],
   "source": [
    "display(m)"
   ]
  },
  {
   "cell_type": "code",
   "execution_count": 26,
   "id": "15dbb10c-fa74-4496-bc25-4f32acae71f7",
   "metadata": {},
   "outputs": [
    {
     "data": {
      "application/vnd.jupyter.widget-view+json": {
       "model_id": "09589126348e4f7788555f1507089e88",
       "version_major": 2,
       "version_minor": 0
      },
      "text/plain": [
       "Sheet(cells=(Cell(column_end=0, column_start=0, numeric_format=None, row_end=74, row_start=0, squeeze_row=Fals…"
      ]
     },
     "execution_count": 26,
     "metadata": {},
     "output_type": "execute_result"
    }
   ],
   "source": [
    "userid = !whoami\n",
    "notes_path = f'../notes/{TILE}-{userid[0]}-notes.csv'\n",
    "if os.path.exists(notes_path):\n",
    "    notes_df = pd.read_csv(notes_path)\n",
    "    notes_df = notes_df.drop(columns=['Unnamed: 0'])\n",
    "    sheet_notes = ipysheet.from_dataframe(notes_df)\n",
    "else:\n",
    "    tile = [' ' for _ in range(75)]\n",
    "    year = [' ' for _ in range(75)]\n",
    "    location = [' ' for _ in range(75)]\n",
    "    note = [' ' for _ in range(75)]\n",
    "    data = {'Tile': tile, 'Year': year, 'Location': location, 'Note': note}\n",
    "    notes_df = pd.DataFrame(data=data)\n",
    "    sheet_notes = ipysheet.from_dataframe(notes_df)\n",
    "sheet_notes.column_width = [3,3,4,10]\n",
    "sheet_notes.layout = widgets.Layout(width='100%',height='100%')\n",
    "sheet_notes"
   ]
  },
  {
   "cell_type": "markdown",
   "id": "59c21f2a-0aa1-4f81-929c-9fce6fa56a51",
   "metadata": {
    "tags": []
   },
   "source": [
    "## Save notes\n",
    "\n",
    "Run this cell to save notes in the current working directory"
   ]
  },
  {
   "cell_type": "code",
   "execution_count": 27,
   "id": "5f13e616-c516-458d-a20f-69f704832c1b",
   "metadata": {},
   "outputs": [],
   "source": [
    "sheet_notes_df = ipysheet.to_dataframe(sheet_notes)\n",
    "sheet_notes_df.to_csv(notes_path)"
   ]
  },
  {
   "cell_type": "markdown",
   "id": "07165f3f-2040-498c-b1fb-9553c5c5a708",
   "metadata": {},
   "source": [
    "### <b>DO NOT RUN THIS CELL UNTIL FINISHED WITH VALIDATION</b>\n",
    "*Note: This will shut down the local tile servers*\n",
    "\n",
    "*Ignore warnings as such:*\n",
    "```\n",
    "Server for key (default) not found.\n",
    "```"
   ]
  },
  {
   "cell_type": "code",
   "execution_count": 28,
   "id": "4286e1d5-027f-4429-9a3f-42b5054dcb83",
   "metadata": {},
   "outputs": [],
   "source": [
    "for path_to_delete in temporary_files_to_delete:\n",
    "    if os.path.exists(path_to_delete):\n",
    "        os.remove(path_to_delete)\n",
    "    temporary_files_to_delete.remove(path_to_delete)\n",
    "\n",
    "mod44w_c6_client.shutdown(True)"
   ]
  },
  {
   "cell_type": "code",
   "execution_count": null,
   "id": "e64e6d86-148f-43c8-b89a-33af2a473204",
   "metadata": {},
   "outputs": [],
   "source": []
  }
 ],
 "metadata": {
  "kernelspec": {
   "display_name": "ILAB Kernel",
   "language": "python",
   "name": "ilab-kernel"
  },
  "language_info": {
   "codemirror_mode": {
    "name": "ipython",
    "version": 3
   },
   "file_extension": ".py",
   "mimetype": "text/x-python",
   "name": "python",
   "nbconvert_exporter": "python",
   "pygments_lexer": "ipython3",
   "version": "3.9.13"
  }
 },
 "nbformat": 4,
 "nbformat_minor": 5
}
